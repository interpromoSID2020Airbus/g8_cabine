{
 "cells": [
  {
   "cell_type": "code",
   "execution_count": 1,
   "metadata": {},
   "outputs": [],
   "source": [
    "%load_ext pycodestyle_magic\n",
    "%pycodestyle_on"
   ]
  },
  {
   "cell_type": "code",
   "execution_count": 2,
   "metadata": {},
   "outputs": [],
   "source": [
    "import os\n",
    "os.getcwd()\n",
    "os.chdir('c:\\\\Users\\\\Stior\\\\Documents\\\\cours\\\\L3SID\\\\Projet-InterPromo\\\n",
    "\\\\ProjetInterpromo2020G8')"
   ]
  },
  {
   "cell_type": "code",
   "execution_count": 30,
   "metadata": {},
   "outputs": [
    {
     "data": {
      "text/plain": "4"
     },
     "execution_count": 30,
     "metadata": {},
     "output_type": "execute_result"
    }
   ],
   "source": [
    "from pipeline import Pipeline, Process, Postprocess, Preprocess\n",
    "import numpy as np\n",
    "import pandas as pd\n",
    "import cv2\n",
    "from matplotlib import pyplot as plt\n",
    "import PIL\n",
    "\n",
    "c"
   ]
  },
  {
   "cell_type": "code",
   "execution_count": 14,
   "metadata": {},
   "outputs": [
    {
     "name": "stderr",
     "output_type": "stream",
     "text": "3:5: E301 expected 1 blank line, found 0\n9:5: E301 expected 1 blank line, found 0\n11:1: W293 blank line contains whitespace\n15:5: E301 expected 1 blank line, found 0\n3:5: E301 expected 1 blank line, found 0\n9:5: E301 expected 1 blank line, found 0\n11:1: W293 blank line contains whitespace\n15:5: E301 expected 1 blank line, found 0\n"
    }
   ],
   "source": [
    "class MyPreProcess(Preprocess):\n",
    "    process_desc = \"Exemple de pre-process -> ne fait rien\"\n",
    "    def run(self, images):\n",
    "        pass\n",
    "\n",
    "\n",
    "class MyProcess(Process):\n",
    "    process_desc = \"Exemple de process -> ne fait rien\"\n",
    "    def run(self, images):\n",
    "        pass\n",
    "    \n",
    "\n",
    "class MyPostProcess(Postprocess):\n",
    "    process_desc = \"Exemple de post-process -> ne fait rien\"\n",
    "    def run(self, images):\n",
    "        pass"
   ]
  },
  {
   "cell_type": "code",
   "execution_count": 8,
   "metadata": {},
   "outputs": [
    {
     "name": "stderr",
     "output_type": "stream",
     "text": "2:41: E203 whitespace before ','\n3:27: E231 missing whitespace after ','\n3:39: E203 whitespace before ','\n4:27: E231 missing whitespace after ','\n4:43: E203 whitespace before ','\n5:27: E231 missing whitespace after ','\n7:1: W391 blank line at end of file\nPreprocess :  Exemple de pre-process -> ne fait rien\nProcess :  Exemple de process -> ne fait rien\nPostprocess :  Exemple de post-process -> ne fait rien\nExemple de pre-process -> ne fait rien a été ajouté.\nExemple de process -> ne fait rien a été ajouté.\nExemple de post-process -> ne fait rien a été ajouté.\nExemple de pre-process -> ne fait rien a été ajouté.\n"
    }
   ],
   "source": [
    "pipeline = Pipeline()\n",
    "process_array = np.array([MyPreProcess()\n",
    "                          ,MyProcess()\n",
    "                          ,MyPostProcess()\n",
    "                          ,MyPreProcess(verbose=0)])\n",
    "pipeline.add_processes(process_array)\n"
   ]
  },
  {
   "cell_type": "code",
   "execution_count": 9,
   "metadata": {},
   "outputs": [
    {
     "name": "stdout",
     "output_type": "stream",
     "text": "Exemple de pre-process -> ne fait rien\nExemple de pre-process -> ne fait rien\nExemple de process -> ne fait rien\nExemple de post-process -> ne fait rien\n"
    }
   ],
   "source": [
    "pipeline.print_process()"
   ]
  },
  {
   "cell_type": "code",
   "execution_count": 14,
   "metadata": {},
   "outputs": [
    {
     "name": "stderr",
     "output_type": "stream",
     "text": "1:80: E501 line too long (107 > 79 characters)\n2:80: E501 line too long (106 > 79 characters)\n"
    }
   ],
   "source": [
    "img_gray = cv2.imread('../All Data/ANALYSE IMAGE/LAYOUT SEATGURU/Aer_Lingus_Airbus_A330-200_plane4.jpg', 0)\n",
    "img_rgb = cv2.imread('../All Data/ANALYSE IMAGE/LAYOUT SEATGURU/Aer_Lingus_Airbus_A330-200_plane4.jpg', 1)\n",
    "\n",
    "# img_gray = cv2.imread('../All Data/ANALYSE IMAGE/LAYOUT SEATGURU/\\\n",
    "#                         Aer_Lingus_Airbus_A320_plane9.jpg', 0)\n",
    "# img_rgb = cv2.imread('../All Data/ANALYSE IMAGE/LAYOUT SEATGURU/\\\n",
    "#                         Aer_Lingus_Airbus_A320_plane9.jpg', 1)\n",
    "\n",
    "\n",
    "# # img_gray = cv2.imread('../All Data/ANALYSE IMAGE/LAYOUT SEATGURU/\\\n",
    "#                         Air_Transat_Airbus_A330-300_V2_plane128.jpg', 0)\n",
    "# # img_rgb = cv2.imread('../All Data/ANALYSE IMAGE/LAYOUT SEATGURU/\\\n",
    "#                         Air_Transat_Airbus_A330-300_V2_plane128.jpg', 1)\n",
    "\n",
    "# template = cv2.imread('./images/temp_normal_seat.jpg', 0)\n",
    "# template = cv2.imread('./images/templateTest.jpg', 0)\n",
    "# template = cv2.imread('./images/templateNormalSeat-SansBlanc.png', 0)\n",
    "# template = cv2.imread('./images/templateNormalSeat-SansBlanc.jpg', 0)\n",
    "template = cv2.imread('./images/templateTest-sansBlanc.png', 0)\n",
    "\n",
    "# cv2.imshow('Test', img2)\n",
    "# cv2.waitKey()\n",
    "# cv2.destroyAllWindows()\n",
    "h, w = template.shape"
   ]
  },
  {
   "cell_type": "code",
   "execution_count": 11,
   "metadata": {},
   "outputs": [
    {
     "name": "stderr",
     "output_type": "stream",
     "text": "2:80: E501 line too long (131 > 79 characters)\n"
    }
   ],
   "source": [
    "\n",
    "methods = ['cv2.TM_CCOEFF', 'cv2.TM_CCOEFF_NORMED', 'cv2.TM_CCORR', 'cv2.TM_CCORR_NORMED', 'cv2.TM_SQDIFF', 'cv2.TM_SQDIFF_NORMED']"
   ]
  },
  {
   "cell_type": "code",
   "execution_count": 17,
   "metadata": {},
   "outputs": [
    {
     "name": "stderr",
     "output_type": "stream",
     "text": "2:33: E231 missing whitespace after ','\n2:42: E231 missing whitespace after ','\n4:16: E201 whitespace after '('\n10:58: E231 missing whitespace after ','\n10:60: E231 missing whitespace after ','\n17:24: W291 trailing whitespace\n26:1: W391 blank line at end of file\n2:33: E231 missing whitespace after ','\n2:42: E231 missing whitespace after ','\n4:16: E201 whitespace after '('\n10:58: E231 missing whitespace after ','\n10:60: E231 missing whitespace after ','\n17:24: W291 trailing whitespace\n26:1: W391 blank line at end of file\n"
    }
   ],
   "source": [
    "\n",
    "res = cv2.matchTemplate(img_gray,template,cv2.TM_CCOEFF_NORMED)\n",
    "THRESHOLD = 0.8\n",
    "loc = np.where( res >= THRESHOLD)\n",
    "\n",
    "coord = []\n",
    "\n",
    "for pt in zip(*loc[::-1]):\n",
    "    coord.append((pt[0], pt[1]))\n",
    "    cv2.rectangle(img_rgb, pt, (pt[0] + w, pt[1] + h), (0,0,255), 2)\n",
    "\n",
    "for i in coord:\n",
    "    cv2.circle(img_rgb, i, 1, (255, 0, 0), -1)\n",
    "\n",
    "cv2.imshow('test', img_rgb)\n",
    "cv2.waitKey()\n",
    "cv2.destroyAllWindows() \n",
    "\n",
    "print(coord)\n",
    "\n",
    "\n",
    "with open(\"coord.txt\", \"a\") as fichier:\n",
    "    for xy in coord:\n",
    "        fichier.write(str(xy[0]) + \", \" + str(xy[1]) + \"\\n\")\n",
    "\n"
   ]
  },
  {
   "cell_type": "code",
   "execution_count": 0,
   "metadata": {},
   "outputs": [],
   "source": [
    "img_gray = cv2.imread('../All Data/ANALYSE IMAGE/LAYOUT SEATGURU/Aer_Lingus_Airbus_A330-200_plane4.jpg', 0)\n",
    "img_rgb = cv2.imread('../All Data/ANALYSE IMAGE/LAYOUT SEATGURU/Aer_Lingus_Airbus_A330-200_plane4.jpg', 1)\n",
    "# template = cv2.imread('./images/temp_normal_seat.jpg', 0)\n",
    "templates = ['./images/temp_business_seat_armrest_left.jpg', './images/temp_business_seat_armrest_right.jpg', './images/temp_business_elec1.jpg']\n",
    "# templates = ['./images/templateBusinessElectricity.jpg']"
   ]
  },
  {
   "cell_type": "code",
   "execution_count": 23,
   "metadata": {},
   "outputs": [
    {
     "name": "stdout",
     "output_type": "stream",
     "text": "(array([334, 334, 334, 334, 334, 367, 367, 368, 399, 401, 431, 431, 435,\n       435, 435], dtype=int64), array([140, 190, 217, 268, 269, 191, 218, 250, 190, 140, 191, 218, 149,\n       250, 277], dtype=int64))\n"
    }
   ],
   "source": [
    "for templ in templates:\n",
    "    template = cv2.imread(templ, 0)\n",
    "    h, w = template.shape\n",
    "    res = cv2.matchTemplate(img_gray, template, cv2.TM_CCOEFF_NORMED)\n",
    "    if templ == './images/temp_business_elec1.jpg':\n",
    "        THRESHOLD = 0.7\n",
    "    else:\n",
    "        THRESHOLD = 0.7\n",
    "\n",
    "    loc = np.where(res >= THRESHOLD)\n",
    "\n",
    "    coord = []\n",
    "\n",
    "    fichier = open(\"coord.txt\", \"a\")\n",
    "\n",
    "    if templ == './images/temp_business_elec1.jpg':\n",
    "        fichier.write('-------------------\\nPrise electrique \\n')\n",
    "\n",
    "    for pt in zip(*loc[::-1]):\n",
    "        fichier.write(str(pt[0]) + \", \" + str(pt[1]) + \"\\n\")\n",
    "        cv2.rectangle(img_rgb, pt, (pt[0] + w, pt[1] + h), (0, 0, 255), 2)\n",
    "    fichier.close()\n",
    "\n",
    "cv2.imshow('test', img_rgb)\n",
    "cv2.waitKey()\n",
    "cv2.destroyAllWindows()\n",
    "# cv2.imwrite('test.jpeg', img_rgb)\n",
    "\n",
    "print(np.where(res >= THRESHOLD))"
   ]
  },
  {
   "cell_type": "code",
   "execution_count": 26,
   "metadata": {},
   "outputs": [
    {
     "name": "stderr",
     "output_type": "stream",
     "text": "1:80: E501 line too long (115 > 79 characters)\n2:80: E501 line too long (119 > 79 characters)\n3:80: E501 line too long (116 > 79 characters)\n4:80: E501 line too long (120 > 79 characters)\n5:80: E501 line too long (115 > 79 characters)\n6:80: E501 line too long (119 > 79 characters)\n7:80: E501 line too long (117 > 79 characters)\n8:80: E501 line too long (123 > 79 characters)\n9:80: E501 line too long (111 > 79 characters)\n10:80: E501 line too long (136 > 79 characters)\n11:80: E501 line too long (105 > 79 characters)\n12:80: E501 line too long (106 > 79 characters)\n12:103: E261 at least two spaces before inline comment\n12:104: E262 inline comment should start with '# '\n14:62: E261 at least two spaces before inline comment\n14:63: E262 inline comment should start with '# '\n18:80: E501 line too long (153 > 79 characters)\n20:1: W391 blank line at end of file\n"
    }
   ],
   "source": [
    "# img_gray = cv2.imread('../All Data/ANALYSE IMAGE/LAYOUT SEATGURU/Cathay_Pacific_Airbus_A350-900_plane259.jpg', 0)\n",
    "# img_rgb = cv2.imread('../All Data/ANALYSE IMAGE/LAYOUT SEATGURU/Cathay_Pacific_Airbus_A350-900_plane259.jpg', 1) # Ok\n",
    "# img_gray = cv2.imread('../All Data/ANALYSE IMAGE/LAYOUT SEATGURU/Cathay_Pacific_Airbus_A350-1000_plane258.jpg', 0)\n",
    "# img_rgb = cv2.imread('../All Data/ANALYSE IMAGE/LAYOUT SEATGURU/Cathay_Pacific_Airbus_A350-1000_plane258.jpg', 1) # Ok\n",
    "# img_gray = cv2.imread('../All Data/ANALYSE IMAGE/LAYOUT SEATGURU/Cathay_Pacific_Airbus_A330_33E_plane255.jpg', 0)\n",
    "# img_rgb = cv2.imread('../All Data/ANALYSE IMAGE/LAYOUT SEATGURU/Cathay_Pacific_Airbus_A330_33E_plane255.jpg', 1) # Ok\n",
    "# img_gray = cv2.imread('../All Data/ANALYSE IMAGE/LAYOUT SEATGURU/American_Airlines_777-300_ER_plane167.svg.png', 0)\n",
    "# img_rgb = cv2.imread('../All Data/ANALYSE IMAGE/LAYOUT SEATGURU/American_Airlines_777-300_ER_plane167.svg.png', 1) # Null\n",
    "# img_gray = cv2.imread('../All Data/ANALYSE IMAGE/LAYOUT SEATGURU/Asiana_Boeing_777-200_ER_D_plane206.jpg', 0)\n",
    "# img_rgb = cv2.imread('../All Data/ANALYSE IMAGE/LAYOUT SEATGURU/Asiana_Boeing_777-200_ER_D_plane206.jpg', 1) # Null - rectangle autour\n",
    "# img_gray = cv2.imread('../All Data/ANALYSE IMAGE/LAYOUT SEATGURU/Avianca_Boeing_787-8_plane313.jpg', 0)\n",
    "img_rgb = cv2.imread('../All Data/ANALYSE IMAGE/LAYOUT SEATGURU/Avianca_Boeing_787-8_plane313.jpg', 1) #Ok\n",
    "img_gray = cv2.imread('./theo_remove_caracters_yellow.jpg', 0)\n",
    "img_rgb = cv2.imread('./theo_remove_caracters_yellow.jpg', 1) #Ok\n",
    "\n",
    "\n",
    "# template = cv2.imread('./images/temp_normal_seat.jpg', 0)\n",
    "templates = ['./images/templateBusinessSeat1.jpg', 'templateTest.jpg', './images/templateNormalSeat-SansBlanc.jpg', './images/temp_normal_seat_elec.jpg']\n",
    "\n"
   ]
  },
  {
   "cell_type": "code",
   "execution_count": 27,
   "metadata": {},
   "outputs": [
    {
     "ename": "FileNotFoundError",
     "evalue": "[Errno 2] No such file or directory: './images/templateBusinessSeat1.jpg'",
     "output_type": "error",
     "traceback": [
      "\u001b[1;31m---------------------------------------------------------------------------\u001b[0m",
      "\u001b[1;31mFileNotFoundError\u001b[0m                         Traceback (most recent call last)",
      "\u001b[1;32m<ipython-input-27-946ed80baafd>\u001b[0m in \u001b[0;36m<module>\u001b[1;34m\u001b[0m\n\u001b[0;32m      1\u001b[0m \u001b[1;31m#Rotation 45° gauche + noir => blanc\u001b[0m\u001b[1;33m\u001b[0m\u001b[1;33m\u001b[0m\u001b[1;33m\u001b[0m\u001b[0m\n\u001b[0;32m      2\u001b[0m \u001b[1;33m\u001b[0m\u001b[0m\n\u001b[1;32m----> 3\u001b[1;33m \u001b[0mtemplateTest\u001b[0m \u001b[1;33m=\u001b[0m \u001b[0mPIL\u001b[0m\u001b[1;33m.\u001b[0m\u001b[0mImage\u001b[0m\u001b[1;33m.\u001b[0m\u001b[0mopen\u001b[0m\u001b[1;33m(\u001b[0m\u001b[0mtemplates\u001b[0m\u001b[1;33m[\u001b[0m\u001b[1;36m0\u001b[0m\u001b[1;33m]\u001b[0m\u001b[1;33m)\u001b[0m\u001b[1;33m\u001b[0m\u001b[1;33m\u001b[0m\u001b[0m\n\u001b[0m\u001b[0;32m      4\u001b[0m \u001b[0mrotate\u001b[0m \u001b[1;33m=\u001b[0m \u001b[0mtemplateTest\u001b[0m\u001b[1;33m.\u001b[0m\u001b[0mrotate\u001b[0m\u001b[1;33m(\u001b[0m\u001b[1;36m45\u001b[0m\u001b[1;33m)\u001b[0m\u001b[1;33m\u001b[0m\u001b[1;33m\u001b[0m\u001b[0m\n\u001b[0;32m      5\u001b[0m \u001b[0mrotate\u001b[0m \u001b[1;33m=\u001b[0m \u001b[0mrotate\u001b[0m\u001b[1;33m.\u001b[0m\u001b[0mconvert\u001b[0m\u001b[1;33m(\u001b[0m\u001b[1;34m'RGBA'\u001b[0m\u001b[1;33m)\u001b[0m\u001b[1;33m\u001b[0m\u001b[1;33m\u001b[0m\u001b[0m\n",
      "\u001b[1;32m~\\Anaconda3\\lib\\site-packages\\PIL\\Image.py\u001b[0m in \u001b[0;36mopen\u001b[1;34m(fp, mode)\u001b[0m\n\u001b[0;32m   2768\u001b[0m \u001b[1;33m\u001b[0m\u001b[0m\n\u001b[0;32m   2769\u001b[0m     \u001b[1;32mif\u001b[0m \u001b[0mfilename\u001b[0m\u001b[1;33m:\u001b[0m\u001b[1;33m\u001b[0m\u001b[1;33m\u001b[0m\u001b[0m\n\u001b[1;32m-> 2770\u001b[1;33m         \u001b[0mfp\u001b[0m \u001b[1;33m=\u001b[0m \u001b[0mbuiltins\u001b[0m\u001b[1;33m.\u001b[0m\u001b[0mopen\u001b[0m\u001b[1;33m(\u001b[0m\u001b[0mfilename\u001b[0m\u001b[1;33m,\u001b[0m \u001b[1;34m\"rb\"\u001b[0m\u001b[1;33m)\u001b[0m\u001b[1;33m\u001b[0m\u001b[1;33m\u001b[0m\u001b[0m\n\u001b[0m\u001b[0;32m   2771\u001b[0m         \u001b[0mexclusive_fp\u001b[0m \u001b[1;33m=\u001b[0m \u001b[1;32mTrue\u001b[0m\u001b[1;33m\u001b[0m\u001b[1;33m\u001b[0m\u001b[0m\n\u001b[0;32m   2772\u001b[0m \u001b[1;33m\u001b[0m\u001b[0m\n",
      "\u001b[1;31mFileNotFoundError\u001b[0m: [Errno 2] No such file or directory: './images/templateBusinessSeat1.jpg'"
     ]
    }
   ],
   "source": [
    "# Rotation 45° gauche + noir => blanc\n",
    "\n",
    "templateTest = PIL.Image.open(templates[0])\n",
    "rotate = templateTest.rotate(45)\n",
    "rotate = rotate.convert('RGBA')\n",
    "\n",
    "data = np.array(rotate)   # \"data\" is a height x width x 4 numpy array\n",
    "red, green, blue, alpha = data.T # Temporarily unpack the bands for readability\n",
    "\n",
    "\n",
    "black_areas = (red == 0) & (blue == 0) & (green == 0)\n",
    "data[..., :-1][black_areas.T] = (255, 255, 255) # Transpose back needed\n",
    "rotate = PIL.Image.fromarray(data)\n",
    "rotate.show()\n",
    "rotate = rotate.convert('RGB')\n",
    "rotate.save('templateTest.jpg')"
   ]
  },
  {
   "cell_type": "code",
   "execution_count": 29,
   "metadata": {},
   "outputs": [
    {
     "ename": "FileNotFoundError",
     "evalue": "[Errno 2] No such file or directory: './images/templateBusinessSeat1.jpg'",
     "output_type": "error",
     "traceback": [
      "\u001b[1;31m---------------------------------------------------------------------------\u001b[0m",
      "\u001b[1;31mFileNotFoundError\u001b[0m                         Traceback (most recent call last)",
      "\u001b[1;32m<ipython-input-29-47b3bcba6ebe>\u001b[0m in \u001b[0;36m<module>\u001b[1;34m\u001b[0m\n\u001b[0;32m      1\u001b[0m \u001b[1;31m# Symétrie droite\u001b[0m\u001b[1;33m\u001b[0m\u001b[1;33m\u001b[0m\u001b[1;33m\u001b[0m\u001b[0m\n\u001b[1;32m----> 2\u001b[1;33m \u001b[0mtemplateTest\u001b[0m \u001b[1;33m=\u001b[0m \u001b[0mPIL\u001b[0m\u001b[1;33m.\u001b[0m\u001b[0mImage\u001b[0m\u001b[1;33m.\u001b[0m\u001b[0mopen\u001b[0m\u001b[1;33m(\u001b[0m\u001b[0mtemplates\u001b[0m\u001b[1;33m[\u001b[0m\u001b[1;36m0\u001b[0m\u001b[1;33m]\u001b[0m\u001b[1;33m)\u001b[0m\u001b[1;33m\u001b[0m\u001b[1;33m\u001b[0m\u001b[0m\n\u001b[0m\u001b[0;32m      3\u001b[0m \u001b[0mrotate\u001b[0m \u001b[1;33m=\u001b[0m \u001b[0mtemplateTest\u001b[0m\u001b[1;33m.\u001b[0m\u001b[0mtranspose\u001b[0m\u001b[1;33m(\u001b[0m\u001b[0mPIL\u001b[0m\u001b[1;33m.\u001b[0m\u001b[0mImage\u001b[0m\u001b[1;33m.\u001b[0m\u001b[0mFLIP_LEFT_RIGHT\u001b[0m\u001b[1;33m)\u001b[0m\u001b[1;33m\u001b[0m\u001b[1;33m\u001b[0m\u001b[0m\n\u001b[0;32m      4\u001b[0m \u001b[1;33m\u001b[0m\u001b[0m\n\u001b[0;32m      5\u001b[0m \u001b[0mrotate\u001b[0m\u001b[1;33m.\u001b[0m\u001b[0mshow\u001b[0m\u001b[1;33m(\u001b[0m\u001b[1;33m)\u001b[0m\u001b[1;33m\u001b[0m\u001b[1;33m\u001b[0m\u001b[0m\n",
      "\u001b[1;32m~\\Anaconda3\\lib\\site-packages\\PIL\\Image.py\u001b[0m in \u001b[0;36mopen\u001b[1;34m(fp, mode)\u001b[0m\n\u001b[0;32m   2768\u001b[0m \u001b[1;33m\u001b[0m\u001b[0m\n\u001b[0;32m   2769\u001b[0m     \u001b[1;32mif\u001b[0m \u001b[0mfilename\u001b[0m\u001b[1;33m:\u001b[0m\u001b[1;33m\u001b[0m\u001b[1;33m\u001b[0m\u001b[0m\n\u001b[1;32m-> 2770\u001b[1;33m         \u001b[0mfp\u001b[0m \u001b[1;33m=\u001b[0m \u001b[0mbuiltins\u001b[0m\u001b[1;33m.\u001b[0m\u001b[0mopen\u001b[0m\u001b[1;33m(\u001b[0m\u001b[0mfilename\u001b[0m\u001b[1;33m,\u001b[0m \u001b[1;34m\"rb\"\u001b[0m\u001b[1;33m)\u001b[0m\u001b[1;33m\u001b[0m\u001b[1;33m\u001b[0m\u001b[0m\n\u001b[0m\u001b[0;32m   2771\u001b[0m         \u001b[0mexclusive_fp\u001b[0m \u001b[1;33m=\u001b[0m \u001b[1;32mTrue\u001b[0m\u001b[1;33m\u001b[0m\u001b[1;33m\u001b[0m\u001b[0m\n\u001b[0;32m   2772\u001b[0m \u001b[1;33m\u001b[0m\u001b[0m\n",
      "\u001b[1;31mFileNotFoundError\u001b[0m: [Errno 2] No such file or directory: './images/templateBusinessSeat1.jpg'"
     ]
    }
   ],
   "source": [
    "# Symétrie droite\n",
    "templateTest = PIL.Image.open(templates[0])\n",
    "rotate = templateTest.transpose(PIL.Image.FLIP_LEFT_RIGHT)\n",
    "\n",
    "rotate.show()\n",
    "rotate.save('templateTest.jpg')\n",
    "\n",
    "\n",
    "#107-171-93"
   ]
  },
  {
   "cell_type": "code",
   "execution_count": 35,
   "metadata": {},
   "outputs": [
    {
     "name": "stderr",
     "output_type": "stream",
     "text": "10:48: E261 at least two spaces before inline comment\n"
    }
   ],
   "source": [
    "templateTest = PIL.Image.open(templates[2])\n",
    "templateTest = templateTest.convert('RGBA')\n",
    "\n",
    "data = np.array(templateTest)\n",
    "red, green, blue, alpha = data.T\n",
    "\n",
    "THRESHOLD = 200\n",
    "\n",
    "white_areas = (red >= THRESHOLD) & (blue >= THRESHOLD) & (green >= THRESHOLD)\n",
    "data[..., :-1][white_areas.T] = (255, 255, 255) # Transpose back needed\n",
    "templateTest = PIL.Image.fromarray(data)\n",
    "templateTest.show()"
   ]
  },
  {
   "cell_type": "code",
   "execution_count": 36,
   "metadata": {},
   "outputs": [
    {
     "ename": "SyntaxError",
     "evalue": "can't use starred expression here (<ipython-input-36-ce95067dd528>, line 23)",
     "output_type": "error",
     "traceback": [
      "\u001b[1;36m  File \u001b[1;32m\"<ipython-input-36-ce95067dd528>\"\u001b[1;36m, line \u001b[1;32m23\u001b[0m\n\u001b[1;33m    \u001b[0m\n\u001b[1;37m    ^\u001b[0m\n\u001b[1;31mSyntaxError\u001b[0m\u001b[1;31m:\u001b[0m can't use starred expression here\n"
     ]
    }
   ],
   "source": [
    "for templ in templates:\n",
    "    template = cv2.imread(templ, 0)\n",
    "    h, w = template.shape\n",
    "    \n",
    "    res = cv2.matchTemplate(img_gray,template,cv2.TM_CCOEFF_NORMED)\n",
    "    \n",
    "    THRESHOLD = 0.9\n",
    "    if templ == 'templateTest.jpg':\n",
    "        THRESHOLD = 0.60\n",
    "    if templ == templates[0]:\n",
    "        THRESHOLD = 0.60\n",
    "    if templ == templates[3]:\n",
    "        THRESHOLD = 0.7\n",
    "\n",
    "\n",
    "    loc = np.where( res >= THRESHOLD)\n",
    "\n",
    "    #fichier = open(\"coord.txt\", \"a\")\n",
    "\n",
    "    for pt in (*loc[::-1]):\n",
    "        #fichier.write(str(pt[0]) + \", \" + str(pt[1]) + \"\\n\")\n",
    "        cv2.rectangle(img_rgb, pt, (pt[0] + w, pt[1] + h), (0,0,255), 2)\n",
    "    \n",
    "    #fichier.close()\n",
    "\n",
    "cv2.imshow('test', img_rgb)\n",
    "cv2.waitKey()\n",
    "cv2.destroyAllWindows()\n",
    "cv2.imwrite('test.jpg', img_rgb)\n",
    "\n",
    "#print(np.where( res >= THRESHOLD))"
   ]
  },
  {
   "cell_type": "code",
   "execution_count": 48,
   "metadata": {},
   "outputs": [],
   "source": [
    "# Version 0\n",
    "\n",
    "# Input Image plane\n",
    "# Ok\n",
    "# img_gray = cv2.imread('../All Data/ANALYSE IMAGE/LAYOUT SEATGURU/'\\\n",
    "# 'Cathay_Pacific_Airbus_A350-900_plane259.jpg', 0)\n",
    "# img_rgb = cv2.imread('../All Data/ANALYSE IMAGE/LAYOUT SEATGURU/'\\\n",
    "# 'Cathay_Pacific_Airbus_A350-900_plane259.jpg', 1)\n",
    "# OK\n",
    "# img_gray = cv2.imread('../All Data/ANALYSE IMAGE/LAYOUT SEATGURU/'\\\n",
    "# 'Cathay_Pacific_Airbus_A350-1000_plane258.jpg', 0)\n",
    "# img_rgb = cv2.imread('../All Data/ANALYSE IMAGE/LAYOUT SEATGURU/'\\\n",
    "# 'Cathay_Pacific_Airbus_A350-1000_plane258.jpg', 1)\n",
    "# Ok\n",
    "# img_gray = cv2.imread('../All Data/ANALYSE IMAGE/LAYOUT SEATGURU/'\\\n",
    "# 'Cathay_Pacific_Airbus_A330_33E_plane255.jpg', 0)\n",
    "# img_rgb = cv2.imread('../All Data/ANALYSE IMAGE/LAYOUT SEATGURU/'\\\n",
    "# 'Cathay_Pacific_Airbus_A330_33E_plane255.jpg', 1)\n",
    "# NOk\n",
    "# img_gray = cv2.imread('../All Data/ANALYSE IMAGE/LAYOUT SEATGURU/'\\\n",
    "# 'American_Airlines_777-300_ER_plane167.svg.png', 0)\n",
    "# img_rgb = cv2.imread('../All Data/ANALYSE IMAGE/LAYOUT SEATGURU/'\\\n",
    "# 'American_Airlines_777-300_ER_plane167.svg.png', 1)\n",
    "# NOk\n",
    "# img_gray = cv2.imread('../All Data/ANALYSE IMAGE/LAYOUT SEATGURU/'\\\n",
    "# 'Asiana_Boeing_777-200_ER_D_plane206.jpg', 0)\n",
    "# img_rgb = cv2.imread('../All Data/ANALYSE IMAGE/LAYOUT SEATGURU/'\\\n",
    "# 'Asiana_Boeing_777-200_ER_D_plane206.jpg', 1)\n",
    "# OK\n",
    "# img_gray = cv2.imread('../All Data/ANALYSE IMAGE/LAYOUT SEATGURU/'\\\n",
    "# 'Avianca_Boeing_787-8_plane313.jpg', 0)\n",
    "# img_rgb = cv2.imread('../All Data/ANALYSE IMAGE/' \\\n",
    "# 'LAYOUT SEATGURU/Avianca_Boeing_787-8_plane313.jpg', 1)\n",
    "# Ok\n",
    "img_gray = cv2.imread('./theo_remove_caracters_yellow.jpg', 0)\n",
    "img_rgb = cv2.imread('./theo_remove_caracters_yellow.jpg', 1)\n",
    "\n",
    "# Input template\n",
    "templates = [\n",
    "            './images/temp_business_turn_left.jpg',\n",
    "            './images/temp_business_turn_right.jpg',\n",
    "            './images/temp_normal_seat_elec.jpg'\n",
    "            ]\n",
    "\n",
    "for templ in templates:\n",
    "    # Open template\n",
    "    template = cv2.imread(templ, 0)\n",
    "    h, w = template.shape\n",
    "\n",
    "    # List of match\n",
    "    res = cv2.matchTemplate(img_gray, template, cv2.TM_CCOEFF_NORMED)\n",
    "\n",
    "    # Set accuracy for each template\n",
    "    threshold = 0.9\n",
    "    if templ == templates[0]:\n",
    "        print('temp_business_turn_left')\n",
    "        threshold = 0.60\n",
    "    if templ == templates[1]:\n",
    "        print('temp_business_turn_right')\n",
    "        threshold = 0.60\n",
    "    if templ == templates[2]:\n",
    "        print('temp_normal_seat_elec')\n",
    "        threshold = 0.63\n",
    "\n",
    "    loc = np.where(res >= threshold)  # Filtering with the previous THRESHOLD\n",
    "\n",
    "    for pt in zip(*loc[::-1]):\n",
    "        # Output seat position\n",
    "        print(str(pt[0]) + ', ' + str(pt[1]))\n",
    "        # Tracing rectangle\n",
    "        cv2.rectangle(img_rgb, pt, (pt[0] + w, pt[1] + h), (0, 0, 255), 2)\n",
    "\n",
    "# Display results\n",
    "# cv2.imshow('test', img_rgb)\n",
    "# cv2.waitKey()\n",
    "# cv2.destroyAllWindows()\n",
    "\n",
    "# Save results\n",
    "# cv2.imwrite('test.jpg', img_rgb)"
   ]
  },
  {
   "cell_type": "code",
   "execution_count": 21,
   "metadata": {},
   "outputs": [
    {
     "name": "stdout",
     "output_type": "stream",
     "text": "[[(216, 274), (215, 307), (216, 307), (215, 308), (216, 308), (135, 312), (215, 341), (216, 341), (216, 342), (135, 346), (215, 374), (215, 375), (216, 375), (216, 376), (135, 379), (135, 380), (215, 408), (216, 408), (215, 409), (216, 409), (135, 413), (136, 413), (135, 414), (215, 442), (216, 442), (216, 443), (135, 446), (135, 447), (215, 475), (216, 475), (215, 476), (216, 476), (135, 480), (135, 481), (215, 509), (216, 509), (216, 510), (135, 513), (135, 514), (135, 643), (216, 646), (135, 676), (135, 677), (136, 677), (135, 678), (215, 679), (216, 679), (215, 680), (216, 680)], [(176, 307), (177, 307), (176, 308), (177, 308), (257, 312), (176, 341), (177, 341), (176, 342), (177, 342), (257, 346), (258, 346), (177, 374), (176, 375), (177, 375), (176, 376), (257, 379), (258, 379), (257, 380), (176, 408), (177, 408), (176, 409), (177, 409), (257, 413), (258, 413), (257, 414), (176, 442), (177, 442), (176, 443), (257, 446), (258, 446), (257, 447), (258, 447), (176, 475), (177, 475), (176, 476), (177, 476), (257, 480), (258, 480), (257, 481), (176, 509), (177, 509), (176, 510), (257, 513), (257, 514), (258, 514), (257, 643), (257, 676), (258, 676), (257, 677), (258, 677), (257, 678), (176, 679), (177, 679), (176, 680), (177, 680)], [(155, 180), (235, 180), (200, 238), (203, 554), (137, 603), (138, 603), (203, 605), (131, 754), (146, 754), (259, 754), (274, 754), (131, 755), (146, 755), (147, 755), (148, 755), (259, 755), (274, 755), (276, 755), (179, 760), (180, 760), (181, 760), (194, 760), (195, 760), (196, 760), (209, 760), (210, 760), (212, 760), (225, 760), (227, 760), (210, 761), (131, 776), (146, 776), (259, 776), (274, 776), (276, 776), (131, 777), (146, 777), (259, 777), (274, 777), (179, 782), (180, 782), (181, 782), (194, 782), (195, 782), (196, 782), (209, 782), (210, 782), (225, 782), (227, 782), (131, 798), (133, 798), (146, 798), (148, 798), (259, 798), (261, 798), (274, 798), (276, 798), (131, 799), (146, 799), (259, 799), (274, 799), (189, 843), (190, 843), (191, 843), (203, 843), (204, 843), (205, 843), (217, 843), (218, 843), (131, 863), (132, 863), (144, 863), (145, 863), (146, 863), (158, 863), (159, 863), (189, 863), (190, 863), (191, 863), (203, 863), (204, 863), (205, 863), (217, 863), (218, 863), (247, 863), (248, 863), (261, 863), (262, 863), (275, 863), (276, 863), (131, 883), (132, 883), (145, 883), (146, 883), (158, 883), (159, 883), (189, 883), (190, 883), (191, 883), (203, 883), (204, 883), (205, 883), (217, 883), (218, 883), (247, 883), (248, 883), (261, 883), (262, 883), (275, 883), (276, 883), (131, 903), (132, 903), (145, 903), (146, 903), (158, 903), (159, 903), (189, 903), (190, 903), (191, 903), (203, 903), (204, 903), (205, 903), (217, 903), (218, 903), (247, 903), (248, 903), (261, 903), (262, 903), (275, 903), (276, 903), (131, 923), (132, 923), (145, 923), (146, 923), (158, 923), (159, 923), (189, 923), (190, 923), (203, 923), (204, 923), (217, 923), (218, 923), (247, 923), (248, 923), (261, 923), (262, 923), (275, 923), (131, 943), (132, 943), (145, 943), (146, 943), (158, 943), (159, 943), (189, 943), (190, 943), (203, 943), (204, 943), (205, 943), (217, 943), (218, 943), (247, 943), (248, 943), (261, 943), (262, 943), (275, 943), (131, 963), (132, 963), (145, 963), (146, 963), (158, 963), (159, 963), (189, 963), (190, 963), (203, 963), (204, 963), (217, 963), (218, 963), (247, 963), (248, 963), (261, 963), (262, 963), (275, 963), (131, 982), (145, 982), (247, 982), (131, 983), (145, 983), (158, 983), (159, 983), (190, 983), (203, 983), (204, 983), (217, 983), (218, 983), (247, 983), (261, 983), (262, 983), (275, 983), (247, 1002), (261, 1002), (275, 1002), (247, 1003), (261, 1003), (275, 1003), (189, 1097), (190, 1097), (191, 1097), (203, 1097), (204, 1097), (205, 1097), (217, 1097), (218, 1097), (144, 1106), (145, 1106), (146, 1106), (158, 1106), (159, 1106), (160, 1106), (247, 1106), (248, 1106), (261, 1106), (262, 1106), (189, 1118), (190, 1118), (191, 1118), (203, 1118), (204, 1118), (205, 1118), (217, 1118), (218, 1118), (131, 1126), (132, 1126), (145, 1126), (146, 1126), (158, 1126), (159, 1126), (160, 1126), (247, 1126), (248, 1126), (261, 1126), (262, 1126), (275, 1126), (276, 1126), (189, 1139), (190, 1139), (203, 1139), (204, 1139), (217, 1139), (218, 1139), (131, 1146), (132, 1146), (145, 1146), (146, 1146), (158, 1146), (159, 1146), (247, 1146), (248, 1146), (261, 1146), (262, 1146), (275, 1146), (276, 1146), (189, 1159), (190, 1159), (203, 1159), (204, 1159), (217, 1159), (218, 1159), (131, 1166), (132, 1166), (145, 1166), (146, 1166), (158, 1166), (159, 1166), (247, 1166), (248, 1166), (261, 1166), (262, 1166), (275, 1166), (276, 1166), (189, 1179), (190, 1179), (203, 1179), (204, 1179), (217, 1179), (218, 1179), (131, 1186), (132, 1186), (145, 1186), (146, 1186), (158, 1186), (159, 1186), (247, 1186), (248, 1186), (261, 1186), (262, 1186), (275, 1186), (276, 1186), (190, 1198), (204, 1198), (218, 1198), (190, 1199), (204, 1199), (218, 1199), (131, 1206), (132, 1206), (145, 1206), (146, 1206), (158, 1206), (159, 1206), (247, 1206), (248, 1206), (261, 1206), (262, 1206), (275, 1206), (276, 1206), (190, 1219), (204, 1219), (218, 1219), (190, 1220), (204, 1220), (218, 1220), (131, 1226), (132, 1226), (145, 1226), (146, 1226), (158, 1226), (159, 1226), (247, 1226), (248, 1226), (261, 1226), (262, 1226), (275, 1226), (190, 1240), (203, 1240), (204, 1240), (217, 1240), (218, 1240), (190, 1241), (204, 1241), (218, 1241), (131, 1246), (132, 1246), (145, 1246), (146, 1246), (158, 1246), (159, 1246), (247, 1246), (248, 1246), (261, 1246), (262, 1246), (275, 1246), (189, 1261), (190, 1261), (203, 1261), (204, 1261), (217, 1261), (218, 1261), (145, 1265), (131, 1266), (132, 1266), (145, 1266), (146, 1266), (158, 1266), (159, 1266), (247, 1266), (248, 1266), (261, 1266), (262, 1266), (275, 1266), (189, 1282), (190, 1282), (191, 1282), (203, 1282), (204, 1282), (205, 1282), (217, 1282), (218, 1282), (145, 1285), (131, 1286), (132, 1286), (145, 1286), (146, 1286), (158, 1286), (159, 1286), (247, 1286), (248, 1286), (261, 1286), (262, 1286), (275, 1286), (189, 1303), (190, 1303), (191, 1303), (203, 1303), (204, 1303), (205, 1303), (217, 1303), (218, 1303), (131, 1305), (145, 1305), (159, 1305), (247, 1305), (261, 1305), (275, 1305), (131, 1306), (145, 1306), (158, 1306), (159, 1306), (247, 1306), (261, 1306), (275, 1306), (189, 1324), (190, 1324), (203, 1324), (204, 1324), (217, 1324), (218, 1324), (131, 1325), (145, 1325), (159, 1325), (247, 1325), (261, 1325), (275, 1325), (131, 1326), (145, 1326), (158, 1326), (159, 1326), (247, 1326), (261, 1326), (275, 1326), (131, 1345), (145, 1345), (159, 1345), (189, 1345), (190, 1345), (203, 1345), (204, 1345), (217, 1345), (218, 1345), (247, 1345), (261, 1345), (275, 1345), (131, 1346), (145, 1346), (159, 1346), (247, 1346), (261, 1346), (275, 1346), (190, 1365), (204, 1365), (218, 1365), (190, 1366), (204, 1366), (218, 1366), (203, 1520)]]\n"
    }
   ],
   "source": [
    "def coord_seats_finder(path_image, templates = ['./images/temp_business_turn_left.jpg', './images/temp_business_turn_right.jpg', './images/temp_normal_seat_elec.jpg'], thresholds = [0.60, 0.60, 0.63], show = False):\n",
    "    \"\"\"\n",
    "    input:\n",
    "        path_image : image plane\n",
    "        templates : list of templates for pattern matching\n",
    "        thresholds : list of threshold for each template, set accuracy\n",
    "    output:\n",
    "        position : list of list right angle position for each pattern match\n",
    "    \"\"\"\n",
    "    # Open image\n",
    "    img_rgb = cv2.imread(path_image, 1)\n",
    "    img_gray = cv2.imread(path_image, 0)\n",
    "    position = []\n",
    "    for i in range(len(templates)):  # Iteration on each pattern\n",
    "        template = cv2.imread(templates[i], 0)  # Read pattern image\n",
    "        h, w = template.shape\n",
    "        # List of match\n",
    "        res = cv2.matchTemplate(img_gray, template, cv2.TM_CCOEFF_NORMED)\n",
    "        position.append([])\n",
    "        for pos in zip(*np.where(res >= thresholds[i])[::-1]):\n",
    "            position[i].append(pos)  # add position to output\n",
    "            cv2.rectangle(img_rgb, pos, (pos[0] + w, pos[1] + h), (0, 0, 255), 2)\n",
    "    if show:\n",
    "        cv2.imshow('test', img_rgb)\n",
    "        cv2.waitKey()\n",
    "        cv2.destroyAllWindows()\n",
    "    return(position)\n",
    "\n",
    "print(coord_seats_finder('./theo_remove_caracters_yellow.jpg', show = True))\n"
   ]
  },
  {
   "cell_type": "code",
   "execution_count": 6,
   "metadata": {},
   "outputs": [],
   "source": [
    "def coord_pattern_finder(image, template, threshold: float):\n",
    "    \"\"\"\n",
    "    input:\n",
    "        image : image plane cv2.imread() black and white\n",
    "        template : image pattern cv2.imread() black and white\n",
    "        threshold : threshold for this pattern\n",
    "    output:\n",
    "        position : list right angle position for this pattern on the image\n",
    "\n",
    "    \"\"\"\n",
    "    position = []  # Variable output\n",
    "    # List of match\n",
    "    res = cv2.matchTemplate(image, template, cv2.TM_CCOEFF_NORMED)\n",
    "    for pos in zip(*np.where(res >= threshold)[::-1]):\n",
    "        position.append(pos)\n",
    "    return(position)"
   ]
  },
  {
   "cell_type": "code",
   "execution_count": 7,
   "metadata": {},
   "outputs": [],
   "source": [
    "path_image = './theo_remove_caracters_yellow.jpg'\n",
    "templates = ['./images/temp_business_turn_left.jpg', './images/temp_business_turn_right.jpg', './images/temp_normal_seat_elec.jpg']\n",
    "thresholds = [0.60, 0.60, 0.63]\n",
    "img = cv2.imread(path_image, 0)\n",
    "template = cv2.imread(templates[0], 0)\n",
    "h, w = template.shape\n",
    "img_rgb = cv2.imread(path_image, 1)\n",
    "\n",
    "position = coord_pattern_finder(img, template, 0.6)\n",
    "\n",
    "for pos in position:\n",
    "    cv2.rectangle(img_rgb, pos, (pos[0] + w, pos[1] + h), (0, 0, 255), 2)\n",
    "\n",
    "cv2.imshow('test', img_rgb)\n",
    "cv2.waitKey()\n",
    "cv2.destroyAllWindows()"
   ]
  },
  {
   "cell_type": "code",
   "execution_count": 98,
   "metadata": {},
   "outputs": [
    {
     "name": "stdout",
     "output_type": "stream",
     "text": "['temp_business_seat_armrest_left.jpg', 'temp_business_seat_armrest_right.jpg', 'temp_business_seat_footrest.jpg', 'temp_first_seat.jpg', 'temp_normal_seat.jpg', 'temp_normal_seat.png', 'temp_normal_seat_elec.jpg', 'temp_normal_seat_little.jpg', 'temp_yellow_seat.jpg']\n"
    }
   ],
   "source": [
    "pathTempl = \"./Images/\"\n",
    "imagesTemp = os.listdir(pathTempl)\n",
    "templates = []\n",
    "for i in imagesTemp:\n",
    "    if 'temp_' in i and 'seat' in i:\n",
    "        templates.append(i)\n",
    "\n",
    "pathPlane = \"../All Data/ANALYSE IMAGE/LAYOUT SEATGURU/\"\n",
    "imagesPlane = os.listdir(pathPlane)\n",
    "plane = []\n",
    "for i in imagesPlane:\n",
    "    if 'Aer_Lingus_' in i:\n",
    "        plane.append(i)\n",
    "print(templates)\n",
    "\n",
    "for p in plane:\n",
    "    img_rgb = cv2.imread(pathPlane + p, 1)\n",
    "    img_gray = cv2.imread(pathPlane + p, 0)\n",
    "    \n",
    "    for templ in templates:\n",
    "        template = cv2.imread(pathTempl + templ, 0)\n",
    "        h, w = template.shape\n",
    "\n",
    "        threshold = 0.8\n",
    "        if templ == 'temp_business_seat_armrest_left.jpg':\n",
    "            threshold = 0.6\n",
    "        elif templ == 'temp_business_seat_armrest_right.jpg':\n",
    "            threshold = 0.6\n",
    "        elif templ == 'temp_business_seat_footrest.jpg':\n",
    "            threshold = 1\n",
    "        elif templ == 'temp_first_seat.jpg':\n",
    "            threshold = 1\n",
    "        elif templ == 'temp_normal_seat.png':\n",
    "            threshold = 0.7\n",
    "        elif templ == 'temp_normal_seat_elec.jpg':\n",
    "            threshold = 1\n",
    "        elif templ == 'temp_normal_seat_little.jpg':\n",
    "            threshold = 0.6\n",
    "        elif templ == 'temp_yellow_seat.jpg':\n",
    "            threshold = 1\n",
    "        \n",
    "\n",
    "\n",
    "        position = coord_pattern_finder(img_gray, template, threshold)\n",
    "\n",
    "        for pos in position:\n",
    "            cv2.rectangle(img_rgb, pos, (pos[0] + w, pos[1] + h), (0, 0, 255), 2)\n",
    "\n",
    "    cv2.imshow(p, img_rgb)\n",
    "    cv2.waitKey()\n",
    "    cv2.destroyAllWindows()\n",
    "\n",
    "\n",
    "\n"
   ]
  },
  {
   "cell_type": "code",
   "execution_count": 96,
   "metadata": {},
   "outputs": [
    {
     "name": "stdout",
     "output_type": "stream",
     "text": "16 14\n"
    }
   ],
   "source": [
    "path_image = '../All Data/ANALYSE IMAGE/LAYOUT SEATGURU/Aer_Lingus_Airbus_A330-300_A_plane6.jpg'\n",
    "path_template = './Images/temp_normal_seat_little.jpg'\n",
    "THRESHOLD = 0.6\n",
    "img = cv2.imread(path_image, 0)\n",
    "template = cv2.imread(path_template, 0)\n",
    "h, w = template.shape\n",
    "print(str(h) + ' ' + str(w))\n",
    "img_rgb = cv2.imread(path_image, 1)\n",
    "\n",
    "position = coord_pattern_finder(img, template, THRESHOLD)\n",
    "\n",
    "for pos in position:\n",
    "    cv2.rectangle(img_rgb, pos, (pos[0] + w, pos[1] + h), (0, 0, 255), 2)\n",
    "\n",
    "cv2.imshow('test', img_rgb)\n",
    "cv2.waitKey()\n",
    "cv2.destroyAllWindows()"
   ]
  },
  {
   "cell_type": "code",
   "execution_count": null,
   "metadata": {},
   "outputs": [],
   "source": []
  }
 ],
 "metadata": {
  "file_extension": ".py",
  "kernelspec": {
   "display_name": "Python 3",
   "language": "python",
   "name": "python3"
  },
  "language_info": {
   "codemirror_mode": {
    "name": "ipython",
    "version": 3
   },
   "file_extension": ".py",
   "mimetype": "text/x-python",
   "name": "python",
   "nbconvert_exporter": "python",
   "pygments_lexer": "ipython3",
   "version": "3.7.3-final"
  },
  "mimetype": "text/x-python",
  "name": "python",
  "npconvert_exporter": "python",
  "pygments_lexer": "ipython3",
  "version": 3
 },
 "nbformat": 4,
 "nbformat_minor": 2
}