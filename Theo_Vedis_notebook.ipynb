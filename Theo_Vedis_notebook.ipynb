{
 "cells": [
  {
   "cell_type": "code",
   "execution_count": 1,
   "metadata": {},
   "outputs": [],
   "source": [
    "%load_ext pycodestyle_magic\n",
    "%pycodestyle_on"
   ]
  },
  {
   "cell_type": "code",
   "execution_count": 1,
   "metadata": {},
   "outputs": [],
   "source": [
    "import os\n",
    "os.getcwd()\n",
    "os.chdir('c:\\\\Users\\\\Stior\\\\Documents\\\\cours\\\\L3SID\\\\Projet-InterPromo\\\n",
    "\\\\ProjetInterpromo2020G8')"
   ]
  },
  {
   "cell_type": "code",
   "execution_count": 2,
   "metadata": {},
   "outputs": [],
   "source": [
    "from pipeline import Pipeline, Process, Postprocess, Preprocess\n",
    "import numpy as np\n",
    "import pandas as pd\n",
    "import cv2\n",
    "from matplotlib import pyplot as plt\n",
    "import PIL\n",
    "import json"
   ]
  },
  {
   "cell_type": "code",
   "execution_count": 3,
   "metadata": {},
   "outputs": [],
   "source": [
    "class MyPreProcess(Preprocess):\n",
    "    process_desc = \"Exemple de pre-process -> ne fait rien\"\n",
    "    def run(self, images):\n",
    "        pass\n",
    "\n",
    "\n",
    "class MyProcess(Process):\n",
    "    process_desc = \"Exemple de process -> ne fait rien\"\n",
    "    def run(self, images):\n",
    "        pass\n",
    "    \n",
    "\n",
    "class MyPostProcess(Postprocess):\n",
    "    process_desc = \"Exemple de post-process -> ne fait rien\"\n",
    "    def run(self, images):\n",
    "        pass"
   ]
  },
  {
   "cell_type": "code",
   "execution_count": 6,
   "metadata": {},
   "outputs": [
    {
     "name": "stdout",
     "output_type": "stream",
     "text": "Preprocess :  Exemple de pre-process -> ne fait rien\nProcess :  Exemple de process -> ne fait rien\nPostprocess :  Exemple de post-process -> ne fait rien\nExemple de pre-process -> ne fait rien a été ajouté.\nExemple de process -> ne fait rien a été ajouté.\nExemple de post-process -> ne fait rien a été ajouté.\nExemple de pre-process -> ne fait rien a été ajouté.\n"
    }
   ],
   "source": [
    "pipeline = Pipeline()\n",
    "process_array = np.array([MyPreProcess()\n",
    "                          ,MyProcess()\n",
    "                          ,MyPostProcess()\n",
    "                          ,MyPreProcess(verbose=0)])\n",
    "pipeline.add_processes(process_array)\n"
   ]
  },
  {
   "cell_type": "code",
   "execution_count": 0,
   "metadata": {},
   "outputs": [],
   "source": [
    "pipeline.print_process()"
   ]
  },
  {
   "cell_type": "markdown",
   "execution_count": null,
   "metadata": {},
   "outputs": [],
   "source": [
    "### Ouverture d'image"
   ]
  },
  {
   "cell_type": "code",
   "execution_count": 10,
   "metadata": {},
   "outputs": [],
   "source": [
    "img_gray = cv2.imread('../All Data/ANALYSE IMAGE/LAYOUT SEATGURU/Aer_Lingus_Airbus_A330-200_plane4.jpg', 0)\n",
    "img_rgb = cv2.imread('../All Data/ANALYSE IMAGE/LAYOUT SEATGURU/Aer_Lingus_Airbus_A330-200_plane4.jpg', 1)\n",
    "\n",
    "# img_gray = cv2.imread('../All Data/ANALYSE IMAGE/LAYOUT SEATGURU/\\\n",
    "#                         Aer_Lingus_Airbus_A320_plane9.jpg', 0)\n",
    "# img_rgb = cv2.imread('../All Data/ANALYSE IMAGE/LAYOUT SEATGURU/\\\n",
    "#                         Aer_Lingus_Airbus_A320_plane9.jpg', 1)\n",
    "\n",
    "\n",
    "# # img_gray = cv2.imread('../All Data/ANALYSE IMAGE/LAYOUT SEATGURU/\\\n",
    "#                         Air_Transat_Airbus_A330-300_V2_plane128.jpg', 0)\n",
    "# # img_rgb = cv2.imread('../All Data/ANALYSE IMAGE/LAYOUT SEATGURU/\\\n",
    "#                         Air_Transat_Airbus_A330-300_V2_plane128.jpg', 1)\n",
    "\n",
    "# template = cv2.imread('./images/temp_normal_seat.jpg', 0)\n",
    "# template = cv2.imread('./images/templateTest.jpg', 0)\n",
    "# template = cv2.imread('./images/templateNormalSeat-SansBlanc.png', 0)\n",
    "# template = cv2.imread('./images/templateNormalSeat-SansBlanc.jpg', 0)\n",
    "template = cv2.imread('./images/templateTest-sansBlanc.png', 0)\n",
    "\n",
    "# cv2.imshow('Test', img2)\n",
    "# cv2.waitKey()\n",
    "# cv2.destroyAllWindows()\n",
    "h, w = template.shape\n",
    "# Match template method\n",
    "methods = ['cv2.TM_CCOEFF', 'cv2.TM_CCOEFF_NORMED', 'cv2.TM_CCORR',\\\n",
    "'cv2.TM_CCORR_NORMED', 'cv2.TM_SQDIFF', 'cv2.TM_SQDIFF_NORMED']"
   ]
  },
  {
   "cell_type": "markdown",
   "execution_count": null,
   "metadata": {},
   "outputs": [],
   "source": [
    "### Premier test de pattern matching + sortie en txt"
   ]
  },
  {
   "cell_type": "code",
   "execution_count": 16,
   "metadata": {},
   "outputs": [
    {
     "name": "stdout",
     "output_type": "stream",
     "text": "[(146, 517), (133, 537), (146, 537), (185, 537), (198, 537), (211, 537), (224, 537), (263, 537), (276, 537), (133, 557), (146, 557), (185, 557), (198, 557), (211, 557), (224, 557), (263, 557), (276, 557), (133, 577), (146, 577), (185, 577), (198, 577), (211, 577), (224, 577), (263, 577), (276, 577), (133, 597), (146, 597), (185, 597), (198, 597), (211, 597), (224, 597), (263, 597), (276, 597), (133, 617), (146, 617), (185, 617), (198, 617), (211, 617), (224, 617), (263, 617), (276, 617), (133, 637), (146, 637), (185, 637), (198, 637), (211, 637), (224, 637), (263, 637), (276, 637), (133, 657), (146, 657), (185, 657), (198, 657), (211, 657), (224, 657), (263, 657), (276, 657), (133, 677), (146, 677), (185, 677), (198, 677), (211, 677), (224, 677), (263, 677), (276, 677), (133, 697), (146, 697), (185, 697), (198, 697), (211, 697), (224, 697), (263, 697), (276, 697), (133, 717), (146, 717), (185, 717), (198, 717), (211, 717), (224, 717), (263, 717), (276, 717), (133, 737), (146, 737), (185, 737), (198, 737), (211, 737), (224, 737), (263, 737), (276, 737), (133, 757), (146, 757), (185, 757), (198, 757), (211, 757), (224, 757), (263, 757), (276, 757), (133, 777), (146, 777), (185, 777), (198, 777), (211, 777), (224, 777), (263, 777), (276, 777), (133, 797), (146, 797), (185, 797), (198, 797), (211, 797), (224, 797), (263, 797), (276, 797), (133, 817), (146, 817), (185, 817), (198, 817), (211, 817), (224, 817), (263, 817), (276, 817), (133, 837), (146, 837), (185, 837), (198, 837), (211, 837), (224, 837), (263, 837), (276, 837), (133, 857), (146, 857), (263, 857), (276, 857), (133, 971), (146, 971), (185, 971), (198, 971), (211, 971), (224, 971), (263, 971), (276, 971), (133, 991), (146, 991), (185, 991), (198, 991), (211, 991), (224, 991), (263, 991), (276, 991), (133, 1011), (146, 1011), (185, 1011), (198, 1011), (211, 1011), (224, 1011), (263, 1011), (276, 1011), (133, 1031), (146, 1031), (185, 1031), (198, 1031), (211, 1031), (224, 1031), (263, 1031), (276, 1031), (133, 1051), (146, 1051), (185, 1051), (198, 1051), (211, 1051), (224, 1051), (263, 1051), (276, 1051), (133, 1071), (146, 1071), (185, 1071), (198, 1071), (211, 1071), (224, 1071), (263, 1071), (276, 1071), (133, 1091), (146, 1091), (185, 1091), (198, 1091), (211, 1091), (224, 1091), (263, 1091), (276, 1091), (133, 1111), (146, 1111), (185, 1111), (198, 1111), (211, 1111), (224, 1111), (263, 1111), (276, 1111), (133, 1131), (146, 1131), (185, 1131), (198, 1131), (211, 1131), (224, 1131), (263, 1131), (276, 1131), (135, 1151), (148, 1151), (261, 1151), (274, 1151), (137, 1171), (150, 1171), (191, 1171), (204, 1171), (217, 1171), (259, 1171), (272, 1171), (139, 1191), (152, 1191), (191, 1191), (204, 1191), (217, 1191)]\n"
    }
   ],
   "source": [
    "\n",
    "res = cv2.matchTemplate(img_gray,template,cv2.TM_CCOEFF_NORMED)\n",
    "THRESHOLD = 0.8\n",
    "loc = np.where( res >= THRESHOLD)\n",
    "\n",
    "coord = []\n",
    "\n",
    "for pt in zip(*loc[::-1]):\n",
    "    coord.append((pt[0], pt[1]))\n",
    "    cv2.rectangle(img_rgb, pt, (pt[0] + w, pt[1] + h), (0,0,255), 2)\n",
    "\n",
    "for i in coord:\n",
    "    cv2.circle(img_rgb, i, 1, (255, 0, 0), -1)\n",
    "\n",
    "cv2.imshow('test', img_rgb)\n",
    "cv2.waitKey()\n",
    "cv2.destroyAllWindows() \n",
    "\n",
    "print(coord)\n",
    "\n",
    "\n",
    "with open(\"coord.txt\", \"a\") as fichier:\n",
    "    for xy in coord:\n",
    "        fichier.write(str(xy[0]) + \", \" + str(xy[1]) + \"\\n\")\n",
    "\n"
   ]
  },
  {
   "cell_type": "markdown",
   "execution_count": 0,
   "metadata": {},
   "outputs": [],
   "source": [
    "### Second test avec list de pattern"
   ]
  },
  {
   "cell_type": "code",
   "execution_count": 17,
   "metadata": {},
   "outputs": [
    {
     "name": "stdout",
     "output_type": "stream",
     "text": "(array([334, 334, 334, 334, 334, 367, 367, 368, 399, 401, 431, 431, 435,\n       435, 435], dtype=int64), array([140, 190, 217, 268, 269, 191, 218, 250, 190, 140, 191, 218, 149,\n       250, 277], dtype=int64))\n"
    }
   ],
   "source": [
    "img_gray = cv2.imread('../All Data/ANALYSE IMAGE/LAYOUT SEATGURU/Aer_Lingus_Airbus_A330-200_plane4.jpg', 0)\n",
    "img_rgb = cv2.imread('../All Data/ANALYSE IMAGE/LAYOUT SEATGURU/Aer_Lingus_Airbus_A330-200_plane4.jpg', 1)\n",
    "# template = cv2.imread('./images/temp_normal_seat.jpg', 0)\n",
    "templates = ['./images/temp_business_seat_armrest_left.jpg', './images/temp_business_seat_armrest_right.jpg', './images/temp_business_elec1.jpg']\n",
    "# templates = ['./images/templateBusinessElectricity.jpg']\n",
    "\n",
    "for templ in templates:\n",
    "    template = cv2.imread(templ, 0)\n",
    "    h, w = template.shape\n",
    "    res = cv2.matchTemplate(img_gray, template, cv2.TM_CCOEFF_NORMED)\n",
    "    if templ == './images/temp_business_elec1.jpg':\n",
    "        THRESHOLD = 0.7\n",
    "    else:\n",
    "        THRESHOLD = 0.7\n",
    "\n",
    "    loc = np.where(res >= THRESHOLD)\n",
    "\n",
    "    coord = []\n",
    "\n",
    "    fichier = open(\"coord.txt\", \"a\")\n",
    "\n",
    "    if templ == './images/temp_business_elec1.jpg':\n",
    "        fichier.write('-------------------\\nPrise electrique \\n')\n",
    "\n",
    "    for pt in zip(*loc[::-1]):\n",
    "        fichier.write(str(pt[0]) + \", \" + str(pt[1]) + \"\\n\")\n",
    "        cv2.rectangle(img_rgb, pt, (pt[0] + w, pt[1] + h), (0, 0, 255), 2)\n",
    "    fichier.close()\n",
    "\n",
    "cv2.imshow('test', img_rgb)\n",
    "cv2.waitKey()\n",
    "cv2.destroyAllWindows()\n",
    "# cv2.imwrite('test.jpeg', img_rgb)\n",
    "\n",
    "print(np.where(res >= THRESHOLD))"
   ]
  },
  {
   "cell_type": "code",
   "execution_count": 18,
   "metadata": {},
   "outputs": [],
   "source": [
    "# img_gray = cv2.imread('../All Data/ANALYSE IMAGE/LAYOUT SEATGURU/Cathay_Pacific_Airbus_A350-900_plane259.jpg', 0)\n",
    "# img_rgb = cv2.imread('../All Data/ANALYSE IMAGE/LAYOUT SEATGURU/Cathay_Pacific_Airbus_A350-900_plane259.jpg', 1) # Ok\n",
    "# img_gray = cv2.imread('../All Data/ANALYSE IMAGE/LAYOUT SEATGURU/Cathay_Pacific_Airbus_A350-1000_plane258.jpg', 0)\n",
    "# img_rgb = cv2.imread('../All Data/ANALYSE IMAGE/LAYOUT SEATGURU/Cathay_Pacific_Airbus_A350-1000_plane258.jpg', 1) # Ok\n",
    "# img_gray = cv2.imread('../All Data/ANALYSE IMAGE/LAYOUT SEATGURU/Cathay_Pacific_Airbus_A330_33E_plane255.jpg', 0)\n",
    "# img_rgb = cv2.imread('../All Data/ANALYSE IMAGE/LAYOUT SEATGURU/Cathay_Pacific_Airbus_A330_33E_plane255.jpg', 1) # Ok\n",
    "# img_gray = cv2.imread('../All Data/ANALYSE IMAGE/LAYOUT SEATGURU/American_Airlines_777-300_ER_plane167.svg.png', 0)\n",
    "# img_rgb = cv2.imread('../All Data/ANALYSE IMAGE/LAYOUT SEATGURU/American_Airlines_777-300_ER_plane167.svg.png', 1) # Null\n",
    "# img_gray = cv2.imread('../All Data/ANALYSE IMAGE/LAYOUT SEATGURU/Asiana_Boeing_777-200_ER_D_plane206.jpg', 0)\n",
    "# img_rgb = cv2.imread('../All Data/ANALYSE IMAGE/LAYOUT SEATGURU/Asiana_Boeing_777-200_ER_D_plane206.jpg', 1) # Null - rectangle autour\n",
    "# img_gray = cv2.imread('../All Data/ANALYSE IMAGE/LAYOUT SEATGURU/Avianca_Boeing_787-8_plane313.jpg', 0)\n",
    "# img_rgb = cv2.imread('../All Data/ANALYSE IMAGE/LAYOUT SEATGURU/Avianca_Boeing_787-8_plane313.jpg', 1) #Ok\n",
    "img_gray = cv2.imread('./theo_remove_caracters_yellow.jpg', 0)\n",
    "img_rgb = cv2.imread('./theo_remove_caracters_yellow.jpg', 1) #Ok\n",
    "\n",
    "\n",
    "# template = cv2.imread('./images/temp_normal_seat.jpg', 0)\n",
    "templates = ['./images/temp_business_turn_left.jpg', 'templateTest.jpg', './images/templateNormalSeat-SansBlanc.jpg', './images/temp_normal_seat_elec.jpg']\n",
    "\n",
    "\n"
   ]
  },
  {
   "cell_type": "markdown",
   "execution_count": null,
   "metadata": {},
   "outputs": [],
   "source": [
    "#### Rotation d'un template + changement du noir en blanc"
   ]
  },
  {
   "cell_type": "code",
   "execution_count": 19,
   "metadata": {},
   "outputs": [],
   "source": [
    "# Rotation 45° left + black => white\n",
    "\n",
    "templateTest = PIL.Image.open('./images/temp_business_seat_footrest.jpg')\n",
    "rotate = templateTest.rotate(45)\n",
    "rotate = rotate.convert('RGBA')\n",
    "\n",
    "data = np.array(rotate)   # \"data\" is a height x width x 4 numpy array\n",
    "red, green, blue, alpha = data.T # Temporarily unpack the bands for readability\n",
    "\n",
    "\n",
    "black_areas = (red == 0) & (blue == 0) & (green == 0)\n",
    "data[..., :-1][black_areas.T] = (255, 255, 255) # Black back to white\n",
    "rotate = PIL.Image.fromarray(data)\n",
    "rotate.show()\n",
    "rotate = rotate.convert('RGB')\n",
    "rotate.save('templateTest.jpg')"
   ]
  },
  {
   "cell_type": "markdown",
   "execution_count": null,
   "metadata": {},
   "outputs": [],
   "source": [
    "#### Transformation d'un template en son symétrique par rapport a la droite"
   ]
  },
  {
   "cell_type": "code",
   "execution_count": 20,
   "metadata": {},
   "outputs": [],
   "source": [
    "# Right symmetry\n",
    "templateTest = PIL.Image.open('./images/temp_business_turn_left.jpg')\n",
    "rotate = templateTest.transpose(PIL.Image.FLIP_LEFT_RIGHT)\n",
    "\n",
    "rotate.show()\n",
    "rotate.save('templateTest.jpg')\n",
    "\n",
    "\n",
    "#107-171-93"
   ]
  },
  {
   "cell_type": "markdown",
   "execution_count": null,
   "metadata": {},
   "outputs": [],
   "source": [
    "#### Changement du fond blanc => couleur voulu"
   ]
  },
  {
   "cell_type": "code",
   "execution_count": 21,
   "metadata": {},
   "outputs": [],
   "source": [
    "templateTest = PIL.Image.open(templates[2])\n",
    "templateTest = templateTest.convert('RGBA')\n",
    "\n",
    "data = np.array(templateTest)\n",
    "red, green, blue, alpha = data.T\n",
    "\n",
    "THRESHOLD = 250 # To chose white background\n",
    "\n",
    "white_areas = (red >= THRESHOLD) & (blue >= THRESHOLD) & (green >= THRESHOLD)\n",
    "data[..., :-1][white_areas.T] = (255, 0, 0) # Set background color\n",
    "templateTest = PIL.Image.fromarray(data)\n",
    "templateTest.show()"
   ]
  },
  {
   "cell_type": "markdown",
   "execution_count": null,
   "metadata": {},
   "outputs": [],
   "source": [
    "#### Test avec les pattern précédement modifié + sortie des coordonnées pour chaque siege"
   ]
  },
  {
   "cell_type": "code",
   "execution_count": 22,
   "metadata": {},
   "outputs": [
    {
     "ename": "AttributeError",
     "evalue": "'NoneType' object has no attribute 'shape'",
     "output_type": "error",
     "traceback": [
      "\u001b[1;31m---------------------------------------------------------------------------\u001b[0m",
      "\u001b[1;31mAttributeError\u001b[0m                            Traceback (most recent call last)",
      "\u001b[1;32m<ipython-input-22-6da8bc8799bc>\u001b[0m in \u001b[0;36m<module>\u001b[1;34m\u001b[0m\n\u001b[0;32m      1\u001b[0m \u001b[1;32mfor\u001b[0m \u001b[0mtempl\u001b[0m \u001b[1;32min\u001b[0m \u001b[0mtemplates\u001b[0m\u001b[1;33m:\u001b[0m\u001b[1;33m\u001b[0m\u001b[1;33m\u001b[0m\u001b[0m\n\u001b[0;32m      2\u001b[0m     \u001b[0mtemplate\u001b[0m \u001b[1;33m=\u001b[0m \u001b[0mcv2\u001b[0m\u001b[1;33m.\u001b[0m\u001b[0mimread\u001b[0m\u001b[1;33m(\u001b[0m\u001b[0mtempl\u001b[0m\u001b[1;33m,\u001b[0m \u001b[1;36m0\u001b[0m\u001b[1;33m)\u001b[0m\u001b[1;33m\u001b[0m\u001b[1;33m\u001b[0m\u001b[0m\n\u001b[1;32m----> 3\u001b[1;33m     \u001b[0mh\u001b[0m\u001b[1;33m,\u001b[0m \u001b[0mw\u001b[0m \u001b[1;33m=\u001b[0m \u001b[0mtemplate\u001b[0m\u001b[1;33m.\u001b[0m\u001b[0mshape\u001b[0m\u001b[1;33m\u001b[0m\u001b[1;33m\u001b[0m\u001b[0m\n\u001b[0m\u001b[0;32m      4\u001b[0m \u001b[1;33m\u001b[0m\u001b[0m\n\u001b[0;32m      5\u001b[0m     \u001b[0mres\u001b[0m \u001b[1;33m=\u001b[0m \u001b[0mcv2\u001b[0m\u001b[1;33m.\u001b[0m\u001b[0mmatchTemplate\u001b[0m\u001b[1;33m(\u001b[0m\u001b[0mimg_gray\u001b[0m\u001b[1;33m,\u001b[0m \u001b[0mtemplate\u001b[0m\u001b[1;33m,\u001b[0m\u001b[0mcv2\u001b[0m\u001b[1;33m.\u001b[0m\u001b[0mTM_CCOEFF_NORMED\u001b[0m\u001b[1;33m)\u001b[0m\u001b[1;33m\u001b[0m\u001b[1;33m\u001b[0m\u001b[0m\n",
      "\u001b[1;31mAttributeError\u001b[0m: 'NoneType' object has no attribute 'shape'"
     ]
    }
   ],
   "source": [
    "for templ in templates:\n",
    "    template = cv2.imread(templ, 0)\n",
    "    h, w = template.shape\n",
    "    \n",
    "    res = cv2.matchTemplate(img_gray, template,cv2.TM_CCOEFF_NORMED)\n",
    "    \n",
    "    THRESHOLD = 0.9\n",
    "    if templ == 'templateTest.jpg':\n",
    "        THRESHOLD = 0.60\n",
    "    if templ == templates[0]:\n",
    "        THRESHOLD = 0.60\n",
    "    if templ == templates[3]:\n",
    "        THRESHOLD = 0.7\n",
    "\n",
    "\n",
    "    loc = np.where( res >= THRESHOLD)\n",
    "\n",
    "    # fichier = open(\"coord.txt\", \"a\")\n",
    "    for pt in zip(*loc[::-1]):\n",
    "        # fichier.write(str(pt[0]) + \", \" + str(pt[1]) + \"\\n\")\n",
    "        cv2.rectangle(img_rgb, pt, (pt[0] + w, pt[1] + h), (0, 0, 255), 2)\n",
    "\n",
    "# fichier.close()\n",
    "\n",
    "cv2.imshow('test', img_rgb)\n",
    "cv2.waitKey()\n",
    "cv2.destroyAllWindows()\n",
    "cv2.imwrite('test.jpg', img_rgb)\n",
    "\n",
    "#print(np.where( res >= THRESHOLD))"
   ]
  },
  {
   "cell_type": "markdown",
   "execution_count": null,
   "metadata": {},
   "outputs": [],
   "source": [
    "### Mise au propre + commmentaire + test sur plusieur image similaire"
   ]
  },
  {
   "cell_type": "code",
   "execution_count": 0,
   "metadata": {},
   "outputs": [],
   "source": [
    "# Input Image plane\n",
    "# Ok\n",
    "# img_gray = cv2.imread('../All Data/ANALYSE IMAGE/LAYOUT SEATGURU/'\\\n",
    "# 'Cathay_Pacific_Airbus_A350-900_plane259.jpg', 0)\n",
    "# img_rgb = cv2.imread('../All Data/ANALYSE IMAGE/LAYOUT SEATGURU/'\\\n",
    "# 'Cathay_Pacific_Airbus_A350-900_plane259.jpg', 1)\n",
    "# OK\n",
    "# img_gray = cv2.imread('../All Data/ANALYSE IMAGE/LAYOUT SEATGURU/'\\\n",
    "# 'Cathay_Pacific_Airbus_A350-1000_plane258.jpg', 0)\n",
    "# img_rgb = cv2.imread('../All Data/ANALYSE IMAGE/LAYOUT SEATGURU/'\\\n",
    "# 'Cathay_Pacific_Airbus_A350-1000_plane258.jpg', 1)\n",
    "# Ok\n",
    "# img_gray = cv2.imread('../All Data/ANALYSE IMAGE/LAYOUT SEATGURU/'\\\n",
    "# 'Cathay_Pacific_Airbus_A330_33E_plane255.jpg', 0)\n",
    "# img_rgb = cv2.imread('../All Data/ANALYSE IMAGE/LAYOUT SEATGURU/'\\\n",
    "# 'Cathay_Pacific_Airbus_A330_33E_plane255.jpg', 1)\n",
    "# NOk\n",
    "# img_gray = cv2.imread('../All Data/ANALYSE IMAGE/LAYOUT SEATGURU/'\\\n",
    "# 'American_Airlines_777-300_ER_plane167.svg.png', 0)\n",
    "# img_rgb = cv2.imread('../All Data/ANALYSE IMAGE/LAYOUT SEATGURU/'\\\n",
    "# 'American_Airlines_777-300_ER_plane167.svg.png', 1)\n",
    "# NOk\n",
    "# img_gray = cv2.imread('../All Data/ANALYSE IMAGE/LAYOUT SEATGURU/'\\\n",
    "# 'Asiana_Boeing_777-200_ER_D_plane206.jpg', 0)\n",
    "# img_rgb = cv2.imread('../All Data/ANALYSE IMAGE/LAYOUT SEATGURU/'\\\n",
    "# 'Asiana_Boeing_777-200_ER_D_plane206.jpg', 1)\n",
    "# OK\n",
    "# img_gray = cv2.imread('../All Data/ANALYSE IMAGE/LAYOUT SEATGURU/'\\\n",
    "# 'Avianca_Boeing_787-8_plane313.jpg', 0)\n",
    "# img_rgb = cv2.imread('../All Data/ANALYSE IMAGE/' \\\n",
    "# 'LAYOUT SEATGURU/Avianca_Boeing_787-8_plane313.jpg', 1)\n",
    "# Ok\n",
    "img_gray = cv2.imread('./theo_remove_caracters_yellow.jpg', 0)\n",
    "img_rgb = cv2.imread('./theo_remove_caracters_yellow.jpg', 1)\n",
    "\n",
    "# Input template\n",
    "templates = [\n",
    "            './images/temp_business_turn_left.jpg',\n",
    "            './images/temp_business_turn_right.jpg',\n",
    "            './images/temp_normal_seat_elec.jpg'\n",
    "            ]\n",
    "\n",
    "for templ in templates:\n",
    "    # Open template\n",
    "    template = cv2.imread(templ, 0)\n",
    "    h, w = template.shape\n",
    "\n",
    "    # List of match\n",
    "    res = cv2.matchTemplate(img_gray, template, cv2.TM_CCOEFF_NORMED)\n",
    "\n",
    "    # Set accuracy for each template\n",
    "    threshold = 0.9\n",
    "    if templ == templates[0]:\n",
    "        print('temp_business_turn_left')\n",
    "        threshold = 0.60\n",
    "    if templ == templates[1]:\n",
    "        print('temp_business_turn_right')\n",
    "        threshold = 0.60\n",
    "    if templ == templates[2]:\n",
    "        print('temp_normal_seat_elec')\n",
    "        threshold = 0.63\n",
    "\n",
    "    loc = np.where(res >= threshold)  # Filtering with the previous THRESHOLD\n",
    "\n",
    "    for pt in zip(*loc[::-1]):\n",
    "        # Output seat position\n",
    "        print(str(pt[0]) + ', ' + str(pt[1]))\n",
    "        # Tracing rectangle\n",
    "        cv2.rectangle(img_rgb, pt, (pt[0] + w, pt[1] + h), (0, 0, 255), 2)\n",
    "\n",
    "# Display results\n",
    "# cv2.imshow('test', img_rgb)\n",
    "# cv2.waitKey()\n",
    "# cv2.destroyAllWindows()\n",
    "\n",
    "# Save results\n",
    "# cv2.imwrite('test.jpg', img_rgb)"
   ]
  },
  {
   "cell_type": "markdown",
   "execution_count": null,
   "metadata": {},
   "outputs": [],
   "source": [
    "### Creation d'une fonction du code précédent : \n",
    "#### Entrée : chemin d'image, liste de chemin de templates, liste de seuils\n",
    "#### Sortie : Liste de liste de coordonnée pour chaque template"
   ]
  },
  {
   "cell_type": "code",
   "execution_count": 7,
   "metadata": {},
   "outputs": [
    {
     "ename": "AttributeError",
     "evalue": "'NoneType' object has no attribute 'shape'",
     "output_type": "error",
     "traceback": [
      "\u001b[1;31m---------------------------------------------------------------------------\u001b[0m",
      "\u001b[1;31mAttributeError\u001b[0m                            Traceback (most recent call last)",
      "\u001b[1;32m<ipython-input-7-d2b6e1c0f8ef>\u001b[0m in \u001b[0;36m<module>\u001b[1;34m\u001b[0m\n\u001b[0;32m     27\u001b[0m     \u001b[1;32mreturn\u001b[0m\u001b[1;33m(\u001b[0m\u001b[0mposition\u001b[0m\u001b[1;33m)\u001b[0m\u001b[1;33m\u001b[0m\u001b[1;33m\u001b[0m\u001b[0m\n\u001b[0;32m     28\u001b[0m \u001b[1;33m\u001b[0m\u001b[0m\n\u001b[1;32m---> 29\u001b[1;33m \u001b[0mprint\u001b[0m\u001b[1;33m(\u001b[0m\u001b[0mcoord_seats_finder\u001b[0m\u001b[1;33m(\u001b[0m\u001b[1;34m'./theo_remove_caracters_yellow.jpg'\u001b[0m\u001b[1;33m,\u001b[0m \u001b[0mshow\u001b[0m \u001b[1;33m=\u001b[0m \u001b[1;32mFalse\u001b[0m\u001b[1;33m)\u001b[0m\u001b[1;33m)\u001b[0m\u001b[1;33m\u001b[0m\u001b[1;33m\u001b[0m\u001b[0m\n\u001b[0m",
      "\u001b[1;32m<ipython-input-7-d2b6e1c0f8ef>\u001b[0m in \u001b[0;36mcoord_seats_finder\u001b[1;34m(path_image, templates, thresholds, show)\u001b[0m\n\u001b[0;32m     14\u001b[0m     \u001b[1;32mfor\u001b[0m \u001b[0mi\u001b[0m \u001b[1;32min\u001b[0m \u001b[0mrange\u001b[0m\u001b[1;33m(\u001b[0m\u001b[0mlen\u001b[0m\u001b[1;33m(\u001b[0m\u001b[0mtemplates\u001b[0m\u001b[1;33m)\u001b[0m\u001b[1;33m)\u001b[0m\u001b[1;33m:\u001b[0m  \u001b[1;31m# Iteration on each pattern\u001b[0m\u001b[1;33m\u001b[0m\u001b[1;33m\u001b[0m\u001b[0m\n\u001b[0;32m     15\u001b[0m         \u001b[0mtemplate\u001b[0m \u001b[1;33m=\u001b[0m \u001b[0mcv2\u001b[0m\u001b[1;33m.\u001b[0m\u001b[0mimread\u001b[0m\u001b[1;33m(\u001b[0m\u001b[0mtemplates\u001b[0m\u001b[1;33m[\u001b[0m\u001b[0mi\u001b[0m\u001b[1;33m]\u001b[0m\u001b[1;33m,\u001b[0m \u001b[1;36m0\u001b[0m\u001b[1;33m)\u001b[0m  \u001b[1;31m# Read pattern image\u001b[0m\u001b[1;33m\u001b[0m\u001b[1;33m\u001b[0m\u001b[0m\n\u001b[1;32m---> 16\u001b[1;33m         \u001b[0mh\u001b[0m\u001b[1;33m,\u001b[0m \u001b[0mw\u001b[0m \u001b[1;33m=\u001b[0m \u001b[0mtemplate\u001b[0m\u001b[1;33m.\u001b[0m\u001b[0mshape\u001b[0m\u001b[1;33m\u001b[0m\u001b[1;33m\u001b[0m\u001b[0m\n\u001b[0m\u001b[0;32m     17\u001b[0m         \u001b[1;31m# List of match\u001b[0m\u001b[1;33m\u001b[0m\u001b[1;33m\u001b[0m\u001b[1;33m\u001b[0m\u001b[0m\n\u001b[0;32m     18\u001b[0m         \u001b[0mres\u001b[0m \u001b[1;33m=\u001b[0m \u001b[0mcv2\u001b[0m\u001b[1;33m.\u001b[0m\u001b[0mmatchTemplate\u001b[0m\u001b[1;33m(\u001b[0m\u001b[0mimg_gray\u001b[0m\u001b[1;33m,\u001b[0m \u001b[0mtemplate\u001b[0m\u001b[1;33m,\u001b[0m \u001b[0mcv2\u001b[0m\u001b[1;33m.\u001b[0m\u001b[0mTM_CCOEFF_NORMED\u001b[0m\u001b[1;33m)\u001b[0m\u001b[1;33m\u001b[0m\u001b[1;33m\u001b[0m\u001b[0m\n",
      "\u001b[1;31mAttributeError\u001b[0m: 'NoneType' object has no attribute 'shape'"
     ]
    }
   ],
   "source": [
    "def coord_seats_finder(path_image, templates = ['./images/temp_business_turn_left.jpg', './images/temp_business_turn_right.jpg', './images/temp_normal_seat_elec.jpg'], thresholds = [0.60, 0.60, 0.63], show = False):\n",
    "    \"\"\"\n",
    "    input:\n",
    "        path_image : image plane\n",
    "        templates : list of templates for pattern matching\n",
    "        thresholds : list of threshold for each template, set accuracy\n",
    "    output:\n",
    "        position : list of list right angle position for each pattern match\n",
    "    \"\"\"\n",
    "    # Open image\n",
    "    img_rgb = cv2.imread(path_image, 1)\n",
    "    img_gray = cv2.imread(path_image, 0)\n",
    "    position = []\n",
    "    for i in range(len(templates)):  # Iteration on each pattern\n",
    "        template = cv2.imread(templates[i], 0)  # Read pattern image\n",
    "        h, w = template.shape\n",
    "        # List of match\n",
    "        res = cv2.matchTemplate(img_gray, template, cv2.TM_CCOEFF_NORMED)\n",
    "        position.append([])\n",
    "        for pos in zip(*np.where(res >= thresholds[i])[::-1]):\n",
    "            position[i].append(pos)  # add position to output\n",
    "            cv2.rectangle(img_rgb, pos, (pos[0] + w, pos[1] + h), (0, 0, 255), 2)\n",
    "    if show:\n",
    "        cv2.imshow('test', img_rgb)\n",
    "        cv2.waitKey()\n",
    "        cv2.destroyAllWindows()\n",
    "    return(position)\n",
    "\n",
    "print(coord_seats_finder('./theo_remove_caracters_yellow.jpg', show = False))\n"
   ]
  },
  {
   "cell_type": "markdown",
   "execution_count": null,
   "metadata": {},
   "outputs": [],
   "source": [
    "### Simplification de la fonction coord_seats_finder() :\n",
    "#### Entrée : une image, un template, un seuil\n",
    "#### Sortie : list de coordonnée"
   ]
  },
  {
   "cell_type": "code",
   "execution_count": 3,
   "metadata": {},
   "outputs": [],
   "source": [
    "def coord_pattern_finder(image, template, threshold: float):\n",
    "    \"\"\"\n",
    "    input:\n",
    "        image : image plane cv2.imread() black and white\n",
    "        template : image pattern cv2.imread() black and white\n",
    "        threshold : threshold for this pattern\n",
    "    output:\n",
    "        position : list right angle position for this pattern on the image\n",
    "\n",
    "    \"\"\"\n",
    "    position = []  # Variable output\n",
    "    # List of match\n",
    "    res = cv2.matchTemplate(image, template, cv2.TM_CCOEFF_NORMED)\n",
    "    for pos in zip(*np.where(res >= threshold)[::-1]):\n",
    "        position.append(pos)\n",
    "    return(position)"
   ]
  },
  {
   "cell_type": "markdown",
   "execution_count": 57,
   "metadata": {},
   "outputs": [],
   "source": [
    "### Test de la fonction coord_pattern_finder()"
   ]
  },
  {
   "cell_type": "code",
   "execution_count": 0,
   "metadata": {},
   "outputs": [],
   "source": [
    "path_image = './theo_remove_caracters_yellow.jpg'\n",
    "templates = ['./images/temp_business_turn_left.jpg', './images/temp_business_turn_right.jpg', './images/temp_normal_seat_elec.jpg']\n",
    "thresholds = [0.60, 0.60, 0.63]\n",
    "img = cv2.imread(path_image, 0)\n",
    "template = cv2.imread(templates[0], 0)\n",
    "h, w = template.shape\n",
    "img_rgb = cv2.imread(path_image, 1)\n",
    "\n",
    "position = coord_pattern_finder(img, template, 0.6)\n",
    "\n",
    "for pos in position:\n",
    "    cv2.rectangle(img_rgb, pos, (pos[0] + w, pos[1] + h), (0, 0, 255), 2)\n",
    "\n",
    "cv2.imshow('test', img_rgb)\n",
    "cv2.waitKey()\n",
    "cv2.destroyAllWindows()"
   ]
  },
  {
   "cell_type": "markdown",
   "execution_count": null,
   "metadata": {},
   "outputs": [],
   "source": [
    "### Test sur plusieur plan ou famille de plan avec choix d'un ou plusieur pattern"
   ]
  },
  {
   "cell_type": "code",
   "execution_count": 17,
   "metadata": {},
   "outputs": [
    {
     "name": "stdout",
     "output_type": "stream",
     "text": "temp_first_seat.jpg:17 44\ntemp_first_seat.jpg:17 44\ntemp_first_seat.jpg:17 44\n"
    }
   ],
   "source": [
    "pathTempl = \"./Images/\" # Path for template\n",
    "imagesTemp = os.listdir(pathTempl)\n",
    "templates = []\n",
    "tempName = 'temp_' # Template or family name\n",
    "\n",
    "pathPlane = \"../All Data/ANALYSE IMAGE/LAYOUT SEATGURU/\" # Path for plane images\n",
    "imagesPlane = os.listdir(pathPlane)\n",
    "plane = []\n",
    "\n",
    "planeName = 'Aer_Lingus_' # Plane or family name\n",
    "\n",
    "\n",
    "for i in imagesTemp:\n",
    "    if 'temp_' in i and 'seat' in i:\n",
    "        templates.append(i)\n",
    "\n",
    "for i in imagesPlane:\n",
    "    if planeName in i:\n",
    "        plane.append(i)\n",
    "\n",
    "# print(templates)\n",
    "\n",
    "for p in plane[:3]:\n",
    "    img_rgb = cv2.imread(pathPlane + p, 1)\n",
    "    img_gray = cv2.imread(pathPlane + p, 0)\n",
    "    # print(p + ' shape', img_gray.shape)\n",
    "\n",
    "    fichier = open(\"coord_\" + p + \".txt\", \"a\")\n",
    "    \n",
    "    for templ in templates[5:6]:\n",
    "        template = cv2.imread(pathTempl + templ, 0)\n",
    "        h, w = template.shape\n",
    "        print(templ + ':' + str(w) + ' ' + str(h))\n",
    "\n",
    "        threshold = 0.8 #  Default threshold\n",
    "        # Choose threshold for each template\n",
    "        if templ == 'temp_business_seat_armrest_left.jpg':\n",
    "            threshold = 0.6\n",
    "        elif templ == 'temp_business_seat_armrest_right.jpg':\n",
    "            threshold = 0.6\n",
    "        elif templ == 'temp_business_seat_footrest.jpg':\n",
    "            threshold = 1\n",
    "        elif templ == 'temp_first_seat.jpg':\n",
    "            threshold = 1\n",
    "        elif templ == 'temp_normal_seat.png':\n",
    "            threshold = 0.7\n",
    "        elif templ == 'temp_normal_seat_elec.jpg':\n",
    "            threshold = 1\n",
    "        elif templ == 'temp_normal_seat_little.jpg':\n",
    "            threshold = 0.65\n",
    "        elif templ == 'temp_yellow_seat.jpg':\n",
    "            threshold = 1\n",
    "        threshold = 0.75\n",
    "\n",
    "\n",
    "        position = coord_pattern_finder(img_gray, template, threshold)\n",
    "        \n",
    "        fichier.write(templ + ':' + str(w) + ' ' + str(h) + '\\n')\n",
    "        for pos in position:\n",
    "            fichier.write(str(pos[0]) + ', ' + str(pos[1]) + '\\n')\n",
    "            cv2.rectangle(img_rgb, pos, (pos[0] + w, pos[1] + h), (0, 0, 255), 2)\n",
    "\n",
    "    fichier.close()\n",
    "    cv2.imshow(p, img_rgb)\n",
    "    cv2.waitKey()\n",
    "    cv2.destroyAllWindows()"
   ]
  },
  {
   "cell_type": "markdown",
   "execution_count": 80,
   "metadata": {},
   "outputs": [],
   "source": [
    "### Recupération nombre de seat par type d'avion et par catégorie"
   ]
  },
  {
   "cell_type": "code",
   "execution_count": 133,
   "metadata": {},
   "outputs": [],
   "source": [
    "pathPlane = \"../All Data/ANALYSE IMAGE/LAYOUT SEATGURU/\" # Path for plane images\n",
    "imagesPlane = os.listdir(pathPlane)\n",
    "plane = []\n",
    "planeName = 'Aer_Lingus_' # Plane or family name\n",
    "\n",
    "for i in imagesPlane:\n",
    "    if planeName in i:\n",
    "        plane.append(i)\n",
    "# print(plane)\n",
    "\n",
    "SEATGURU_INFO_AIRCRAFT = pd.read_csv('../All data/SEATGURU_INFO_AIRCRAFT.csv', sep=';')\n",
    "image_lignes = pd.read_csv('Image_lignes.csv', sep=';')\n",
    "\n",
    "nbSeatTotal = {}\n",
    "\n",
    "for rowNumber, data in image_lignes.iterrows():\n",
    "    if data['image'] in imagesPlane[:1194] or data['image'] in imagesPlane[1195:]:\n",
    "        lignes = eval(data['lignes'])\n",
    "        for i in lignes:\n",
    "            if not (data['image'] in nbSeatTotal.keys()):\n",
    "                nbSeatTotal[data['image']] = {}\n",
    "                nbSeatTotal[data['image']]['Total_seat'] = SEATGURU_INFO_AIRCRAFT.loc[i]['Total_seat']\n",
    "            if not (SEATGURU_INFO_AIRCRAFT.loc[i]['Category'] in nbSeatTotal[data['image']].keys()):\n",
    "                nbSeatTotal[data['image']][SEATGURU_INFO_AIRCRAFT.loc[i]['Category']] = {}\n",
    "            if not (SEATGURU_INFO_AIRCRAFT.loc[i]['Seat_Type'] in nbSeatTotal[data['image']][SEATGURU_INFO_AIRCRAFT.loc[i]['Category']].keys()):\n",
    "                nbSeatTotal[data['image']][SEATGURU_INFO_AIRCRAFT.loc[i]['Category']][SEATGURU_INFO_AIRCRAFT.loc[i]['Seat_Type']] = SEATGURU_INFO_AIRCRAFT.loc[i]['Count']\n",
    "\n",
    "# json[key] = dict\n",
    "# print(nbSeatTotal)\n"
   ]
  },
  {
   "cell_type": "code",
   "execution_count": 89,
   "metadata": {},
   "outputs": [],
   "source": [
    "class NpEncoder(json.JSONEncoder):\n",
    "    def default(self, obj):\n",
    "        if isinstance(obj, np.integer):\n",
    "            return int(obj)\n",
    "        elif isinstance(obj, np.floating):\n",
    "            return float(obj)\n",
    "        elif isinstance(obj, np.ndarray):\n",
    "            return obj.tolist()\n",
    "        else:\n",
    "            return super(NpEncoder, self).default(obj)\n",
    "\n",
    "with open('avion.json', 'w') as f:\n",
    "    json.dump(nbSeatTotal, f, cls=NpEncoder)\n",
    "# json.dumps(nbSeatTotal)"
   ]
  },
  {
   "cell_type": "markdown",
   "execution_count": null,
   "metadata": {},
   "outputs": [],
   "source": [
    "### Creation category template"
   ]
  },
  {
   "cell_type": "code",
   "execution_count": 38,
   "metadata": {},
   "outputs": [
    {
     "name": "stdout",
     "output_type": "stream",
     "text": "[[234 214 161 155 155 156 155 157 155 155 156 156 156 157 155 155 157 155\n  159 200 241]\n [207 129 180 192 204 208 210 209 211 210 211 211 211 212 212 213 212 194\n  198 142 172]\n [148 189 236 210 228 236 236 237 238 238 239 239 239 240 240 241 242 213\n  234 229 127]\n [128 226 235 213 228 236 237 237 236 238 239 239 240 241 241 241 242 214\n  234 242 158]\n [129 234 235 211 228 236 238 237 237 238 239 239 240 240 241 241 242 214\n  234 242 159]\n [128 234 235 212 228 236 236 238 237 238 238 239 240 240 240 241 242 215\n  232 242 157]\n [128 234 234 213 228 236 238 237 237 238 239 239 240 240 240 241 242 214\n  234 244 156]\n [128 233 236 211 229 236 236 237 237 238 239 239 239 240 240 242 241 214\n  232 242 157]\n [128 234 235 212 229 236 237 237 237 238 239 239 239 240 241 242 241 214\n  233 243 157]\n [128 234 235 212 228 236 237 237 237 238 240 239 239 240 241 241 241 214\n  234 242 156]\n [128 235 234 213 228 237 237 237 237 238 239 240 239 241 240 241 241 214\n  232 243 157]\n [128 234 234 212 228 236 237 237 238 238 240 239 240 240 241 241 241 214\n  233 243 157]\n [128 234 235 212 228 236 237 237 238 238 238 240 239 241 240 241 242 213\n  233 243 157]\n [128 234 235 211 228 235 237 237 238 237 239 238 240 239 241 241 241 213\n  232 242 157]\n [128 234 234 211 228 236 237 237 238 238 238 239 239 240 240 242 241 214\n  234 243 157]\n [128 234 234 212 227 236 237 237 238 238 239 240 241 240 240 241 242 209\n  235 243 158]\n [128 234 235 218 216 235 237 237 237 238 239 239 239 239 241 241 234 207\n  242 243 155]\n [127 235 235 230 207 220 235 237 239 238 238 239 239 240 240 233 207 221\n  243 243 157]\n [128 234 235 235 231 212 204 203 204 204 204 203 204 204 205 209 225 242\n  241 243 158]\n [128 235 236 235 235 235 236 238 238 238 239 240 240 240 241 242 241 240\n  243 243 156]\n [128 220 235 235 236 237 237 236 236 238 239 238 240 241 240 241 241 241\n  242 241 151]\n [160 168 234 235 235 236 238 237 237 237 239 240 239 240 240 240 241 242\n  242 214 128]\n [220 141 155 187 208 210 208 210 209 212 211 210 211 212 212 214 213 207\n  178 129 201]\n [234 227 187 167 155 154 155 154 156 156 156 157 156 156 156 155 156 164\n  185 228 242]]\n"
    }
   ],
   "source": [
    "def templ_category(path = './images/TEMPLATE/', category = 'BUSINESS', seatType='STANDARD', planeName='test.jpg'):\n",
    "    \"\"\"\n",
    "    Create list of template open with cv2 by category and seatType\n",
    "    Input:\n",
    "        Path: directory path of templates\n",
    "        category: name of category\n",
    "        seatType: Seat type\n",
    "        planeName: plane name\n",
    "    Output:\n",
    "        templates: list of template name\n",
    "    \"\"\"\n",
    "    if '.png' in planeName:\n",
    "        extension = 'PNG/'\n",
    "    else:\n",
    "        extension = 'JPG/'\n",
    "\n",
    "    imagesTemp = os.listdir(path + category + '/' + extension)\n",
    "    templates = []\n",
    "\n",
    "    for i in imagesTemp:\n",
    "        if seatType in i:\n",
    "            templates.append(cv2.imread(path + category + '/' + extension + i, 0)) \n",
    "            # cv2.imshow('TEST', cv2.imread(path + category + '/' + extension + i, 0))\n",
    "            # cv2.waitKey()\n",
    "            # cv2.destroyAllWindows()   \n",
    "    return(templates)\n",
    "\n",
    "# cv2.imshow('TEST', templ_category(category = 'ECONOMY')[0])\n",
    "# cv2.waitKey()\n",
    "# cv2.destroyAllWindows()\n",
    "print(templ_category(category = 'ECONOMY', seatType='STANDARD')[0])"
   ]
  },
  {
   "cell_type": "markdown",
   "execution_count": null,
   "metadata": {},
   "outputs": [],
   "source": [
    "### calcul taux réussite"
   ]
  },
  {
   "cell_type": "code",
   "execution_count": 19,
   "metadata": {},
   "outputs": [
    {
     "name": "stdout",
     "output_type": "stream",
     "text": "['temp_normal_seat.jpg', 'temp_normal_seat_a.jpg', 'temp_normal_seat_b.jpg', 'temp_normal_seat_c.jpg', 'temp_normal_seat_d.jpg', 'temp_normal_seat_e.jpg', 'temp_normal_seat_elec.jpg', 'temp_normal_seat_f.jpg', 'temp_normal_seat_little.jpg', 'temp_normal_seat_red.jpg']\n[0.8620689655172413, 0.011494252873563218, 0.022988505747126436, 0.011494252873563218, 0.022988505747126436, 0.028735632183908046, 0.0, 0.011494252873563218, 0.10344827586206896, 0.034482758620689655]\nAer_Lingus_Airbus_A320_plane9.jpg:  {'Total_seat': 174, 'ECONOMY': 174}\n[0.9622641509433962, 0.0, 0.0, 0.0, 0.0, 0.0, 0.0, 0.0, 0.08490566037735849, 0.018867924528301886]\nAer_Lingus_Airbus_A321_plane1.jpg:  {'Total_seat': 212, 'ECONOMY': 212}\n[0.9622641509433962, 0.0, 0.0, 0.0, 0.0, 0.0, 0.0, 0.0, 0.08490566037735849, 0.018867924528301886]\nAer_Lingus_Airbus_A321_plane10.jpg:  {'Total_seat': 212, 'ECONOMY': 212}\n[0.0, 0.0, 0.0, 0.0, 0.0, 0.0, 0.0, 0.0, 0.8629032258064516, 0.0]\nAer_Lingus_Airbus_A330-200_B_plane5.jpg:  {'Total_seat': 271, 'ECONOMY': 248, 'BUSINESS': 23}\n[0.0, 0.0, 0.0, 0.0, 0.0, 0.0, 0.0, 0.0, 0.8629032258064516, 0.0]\nAer_Lingus_Airbus_A330-200_B_plane7.jpg:  {'Total_seat': 271, 'ECONOMY': 248, 'BUSINESS': 23}\n[0.0, 0.0, 0.0, 0.0, 0.0, 0.0, 0.0, 0.0, 0.8911290322580645, 0.0]\nAer_Lingus_Airbus_A330-200_plane4.jpg:  {'Total_seat': 271, 'ECONOMY': 248, 'BUSINESS': 23}\n[0.0, 0.0, 0.0, 0.0, 0.0, 0.0, 0.0, 0.0, 0.8911290322580645, 0.0]\nAer_Lingus_Airbus_A330-200_plane6.jpg:  {'Total_seat': 271, 'ECONOMY': 248, 'BUSINESS': 23}\n[0.0, 0.0, 0.0, 0.0, 0.0, 0.0, 0.0, 0.0, 0.0, 0.0]\nAer_Lingus_Airbus_A330-300_A_plane6.jpg:  {'Total_seat': 317, 'ECONOMY': 287, 'BUSINESS': 30}\n[0.0, 0.0, 0.0, 0.0, 0.0, 0.0, 0.0, 0.0, 0.0, 0.0]\nAer_Lingus_Airbus_A330-300_A_plane8.jpg:  {'Total_seat': 317, 'ECONOMY': 287, 'BUSINESS': 30}\n[0.8909090909090909, 0.024242424242424242, 0.0, 0.0, 0.0, 0.0, 0.0, 0.024242424242424242, 0.15151515151515152, 0.012121212121212121]\nAer_Lingus_Boeing_757-200_plane11.jpg:  {'Total_seat': 177, 'BUSINESS': 12, 'ECONOMY': 165}\n[0.8909090909090909, 0.024242424242424242, 0.0, 0.0, 0.0, 0.0, 0.0, 0.024242424242424242, 0.15151515151515152, 0.012121212121212121]\nAer_Lingus_Boeing_757-200_plane2.jpg:  {'Total_seat': 177, 'BUSINESS': 12, 'ECONOMY': 165}\n"
    }
   ],
   "source": [
    "pathPlane = \"../All Data/ANALYSE IMAGE/LAYOUT SEATGURU/\" # Path for plane images\n",
    "\n",
    "cat = 'ECONOMY'\n",
    "templates = templ_category(category = 'normal')\n",
    "print(templates)\n",
    "\n",
    "if cat == 'ECONOMY':\n",
    "    threshold = 0.8\n",
    "elif cat == 'BUSINESS':\n",
    "    threshold = 0.65\n",
    "\n",
    "for p in plane:\n",
    "    img_rgb = cv2.imread(pathPlane + p, 1)\n",
    "    img_gray = cv2.imread(pathPlane + p, 0)\n",
    "\n",
    "    # fichier = open(\"coord_\" + p + \".txt\", \"a\")\n",
    "    taux = []\n",
    "    for templ in templates:\n",
    "        template = cv2.imread(pathTempl + templ, 0)\n",
    "\n",
    "        position = coord_pattern_finder(img_gray, template, threshold)\n",
    "        if cat in nbSeatTotal[p].keys():\n",
    "            taux.append(len(position)/nbSeatTotal[p][cat])  # level of succes for each template\n",
    "    \n",
    "    print(taux)\n",
    "    print(p + ': ',nbSeatTotal[p])\n",
    "\n"
   ]
  },
  {
   "cell_type": "markdown",
   "execution_count": null,
   "metadata": {},
   "outputs": [],
   "source": [
    "### Decoupe template a partir d'un match pour rematch"
   ]
  },
  {
   "cell_type": "code",
   "execution_count": 0,
   "metadata": {},
   "outputs": [],
   "source": [
    "# img_rgb = cv2.imread('../All Data/ANALYSE IMAGE/LAYOUT SEATGURU/' + 'Aer_Lingus_Airbus_A321_plane10.jpg' , 1)\n",
    "# img_gray = cv2.imread('../All Data/ANALYSE IMAGE/LAYOUT SEATGURU/' + 'Aer_Lingus_Airbus_A321_plane10.jpg' , 0)\n",
    "img_rgb = cv2.imread('../All Data/ANALYSE IMAGE/LAYOUT SEATGURU/' + 'Asiana_Boeing_777-200_ER_C_plane205.jpg' , 1)\n",
    "img_gray = cv2.imread('../All Data/ANALYSE IMAGE/LAYOUT SEATGURU/' + 'Asiana_Boeing_777-200_ER_C_plane205.jpg' , 0)\n",
    "\n",
    "# template = cv2.imread('./images/temp_normal_seat.jpg', 0)\n",
    "template = cv2.imread('./images/temp_normal_seat_little.jpg', 0)\n",
    "# template = cv2.imread('./images/temp_business_seat_footrest.jpg', 0)\n",
    "\n",
    "h, w = template.shape\n",
    "print(w, h)\n",
    "\n",
    "threshold = 1\n",
    "position = coord_pattern_finder(img_gray, template, threshold)\n",
    "compteur = 0\n",
    "\n",
    "while len(position) < 1 and threshold > 0.5:\n",
    "    threshold -= 0.005\n",
    "    position = coord_pattern_finder(img_gray, template, threshold)\n",
    "\n",
    "print(threshold, compteur, len(position))\n",
    "\n",
    "templateTest = img_gray[position[0][1]:position[0][1] + h, position[0][0]:position[0][0] + w]\n",
    "\n",
    "threshold = 1\n",
    "position1 = coord_pattern_finder(img_gray, templateTest, threshold)\n",
    "print('début ', len(position1))\n",
    "compteur = 0\n",
    "while (len(position1) < 272) and compteur < 1000:\n",
    "    position1 = coord_pattern_finder(img_gray, templateTest, threshold)\n",
    "    # print('threshold :', threshold, ' taille :', len(position1))\n",
    "    threshold -= 0.005\n",
    "    compteur += 1\n",
    "\n",
    "print('threshold :', threshold)\n",
    "\n",
    "for i in position1:\n",
    "    cv2.rectangle(img_rgb, i, (i[0] + w, i[1] + h), (0, 0, 255), 2)\n",
    "\n",
    "for i in position:\n",
    "    cv2.rectangle(img_rgb, i, (i[0] + w, i[1] + h), (0, 255, 0), 2)\n",
    "\n",
    "\n",
    "# print(position)\n",
    "\n",
    "# print(str(w) + ' ' + str(h))\n",
    "cv2.imshow('Test', templateTest)\n",
    "cv2.waitKey()\n",
    "cv2.destroyAllWindows()\n",
    "cv2.imshow('name', img_rgb)\n",
    "cv2.waitKey()\n",
    "cv2.destroyAllWindows()\n",
    "cv2.imwrite('test.jpg', img_rgb)\n"
   ]
  },
  {
   "cell_type": "markdown",
   "execution_count": null,
   "metadata": {},
   "outputs": [],
   "source": [
    "### Mise en fonction du code précédent"
   ]
  },
  {
   "cell_type": "code",
   "execution_count": 33,
   "metadata": {},
   "outputs": [],
   "source": [
    "def template_from_template(img, template, thresholdMin = 0.70):\n",
    "    \"\"\"\n",
    "    intput:\n",
    "        img : image plane\n",
    "        template : template\n",
    "        thresholdMin : threshold min to keep template or not\n",
    "    output:\n",
    "        template, boolean : true if found\n",
    "    \"\"\"\n",
    "    # default Threshold\n",
    "    threshold = 1\n",
    "    position = coord_pattern_finder(img, template, threshold)\n",
    "    h, w = template.shape\n",
    "    # Reduce Threshold while no template match\n",
    "    while len(position) < 1 and threshold > thresholdMin:\n",
    "        threshold -= 0.005\n",
    "        position = coord_pattern_finder(img, template, threshold)\n",
    "\n",
    "    if threshold > thresholdMin:\n",
    "        # cv2.imshow('name', img[position[0][1]:position[0][1] + h, position[0][0]:position[0][0] + w])\n",
    "        # cv2.waitKey()\n",
    "        # cv2.destroyAllWindows()\n",
    "        return((img[position[0][1]:position[0][1] + h, position[0][0]:position[0][0] + w], True))\n",
    "    return((None, False))\n",
    "\n",
    "# Fonction test\n",
    "# cv2.imshow('Test', template_from_template(img_gray, template))\n",
    "# cv2.waitKey()\n",
    "# cv2.destroyAllWindows()\n"
   ]
  },
  {
   "cell_type": "code",
   "execution_count": 34,
   "metadata": {},
   "outputs": [
    {
     "name": "stdout",
     "output_type": "stream",
     "text": "{(0, 6): 5, (0, 5): 1}\n[5 6 7 8 9]\n"
    }
   ],
   "source": [
    "def count_list(list):\n",
    "    dictio_count = {}\n",
    "    for el in list:\n",
    "        dictio_count[el] = list.count(el)\n",
    "    return {k: v for k, v in sorted(dictio_count.items(), key=lambda item: item[1], reverse=True)}\n",
    "\n",
    "position = [(0, 5), (0, 6), (0, 6), (0, 6), (0, 6), (0, 6)]\n",
    "print(count_list(position))\n",
    "print(np.arange(5, 10, 1))"
   ]
  },
  {
   "cell_type": "code",
   "execution_count": 35,
   "metadata": {},
   "outputs": [],
   "source": [
    "def best_position(img, template, nbSeat, step = 0.005, thresholdMin = 0.65):\n",
    "    \"\"\"\n",
    "    input:\n",
    "        img : image plane\n",
    "        template : template find from this image\n",
    "        nbSeat : integrer - for this cat\n",
    "        steps : steps for threshold\n",
    "    output:\n",
    "        position : coord for each match\n",
    "    \"\"\"\n",
    "    # threshold = 1\n",
    "    # position = coord_pattern_finder(img, template, threshold)\n",
    "    # while len(position) < nbSeat and threshold > thresholdMin:\n",
    "    #     threshold -= step\n",
    "    #     position = coord_pattern_finder(img, template, threshold)\n",
    "    # return(position)\n",
    "\n",
    "    position = []\n",
    "    for threshold in np.arange(thresholdMin, 1 + step, step):\n",
    "        position += coord_pattern_finder(img, template, threshold)\n",
    "    result = list(count_list(position).keys())\n",
    "    if len(result) < nbSeat*1.1:\n",
    "        return(result)\n",
    "    return(result[:int(nbSeat*1.1)])\n",
    "\n",
    "# Fonction Test\n",
    "# img_rgb = cv2.imread('../All Data/ANALYSE IMAGE/LAYOUT SEATGURU/' + 'Asiana_Boeing_777-200_ER_C_plane205.jpg' , 1)\n",
    "# img_gray = cv2.imread('../All Data/ANALYSE IMAGE/LAYOUT SEATGURU/' + 'Asiana_Boeing_777-200_ER_C_plane205.jpg' , 0)\n",
    "# template = cv2.imread('./images/temp_normal_seat_little.jpg', 0)\n",
    "# h, w = template.shape\n",
    "# position = best_threshold(img_gray, template_from_template(img_gray, template), nbSeat=272)\n",
    "# for i in position:\n",
    "#     cv2.rectangle(img_rgb, i, (i[0] + w, i[1] + h), (0, 0, 255), 2)\n",
    "\n",
    "# cv2.imshow('name', img_rgb)\n",
    "# cv2.waitKey()\n",
    "# cv2.destroyAllWindows()\n",
    "# cv2.imwrite('test.jpg', img_rgb)\n"
   ]
  },
  {
   "cell_type": "code",
   "execution_count": 36,
   "metadata": {},
   "outputs": [],
   "source": [
    "# {'class':[(coordX1, coordY1, h, w), (coordX2, coordY2, h, w)]}\n",
    "\n",
    "def rematch(img, nbObjectToFind, diction, planeName, path = './images/'):\n",
    "    \"\"\"\n",
    "    input:\n",
    "        img : image plane\n",
    "        nbObjectToFind : Dictionnary : {'Total_seat': nbSeatTotal, 'business': nbBusinessSeat, 'bar': nbBar}\n",
    "        diction : diction output\n",
    "        planeName :\n",
    "        path : path for template directory\n",
    "    output:\n",
    "        diction : dictionnary {'class':[(coordX1, coordY1, h, w), (coordX2, coordY2, h, w)]}\n",
    "    \"\"\"\n",
    "\n",
    "    # thresholdMin = {'normal':0.7}\n",
    "\n",
    "    for objet in nbObjectToFind:\n",
    "        if not objet['Category'] in diction[planeName].keys():\n",
    "            diction[planeName][objet['Category']] = []\n",
    "        templates = templ_category(category=objet['Category'], seatType=objet['Seat_Type'], planeName=planeName)  # Take all template name for this category\n",
    "        for templ in templates:\n",
    "            templateFind, find = template_from_template(img, templ)\n",
    "            if find:\n",
    "                position = best_position(img, templateFind, objet['Count'])\n",
    "                h, w = templ.shape\n",
    "                for i in range(len(position)):\n",
    "                    position[i] = position[i] + (h, w)\n",
    "                diction[planeName][objet['Category']] += position"
   ]
  },
  {
   "cell_type": "code",
   "execution_count": 19,
   "metadata": {},
   "outputs": [
    {
     "ename": "NameError",
     "evalue": "name 'rematch' is not defined",
     "output_type": "error",
     "traceback": [
      "\u001b[1;31m---------------------------------------------------------------------------\u001b[0m",
      "\u001b[1;31mNameError\u001b[0m                                 Traceback (most recent call last)",
      "\u001b[1;32m<ipython-input-19-0200c0474e27>\u001b[0m in \u001b[0;36m<module>\u001b[1;34m\u001b[0m\n\u001b[0;32m     70\u001b[0m \u001b[0mplane\u001b[0m\u001b[1;33m[\u001b[0m\u001b[0mimg_name\u001b[0m\u001b[1;33m]\u001b[0m \u001b[1;33m=\u001b[0m \u001b[1;33m{\u001b[0m\u001b[1;33m}\u001b[0m\u001b[1;33m\u001b[0m\u001b[1;33m\u001b[0m\u001b[0m\n\u001b[0;32m     71\u001b[0m \u001b[1;33m\u001b[0m\u001b[0m\n\u001b[1;32m---> 72\u001b[1;33m \u001b[0mrematch\u001b[0m\u001b[1;33m(\u001b[0m\u001b[0mimg_gray\u001b[0m\u001b[1;33m,\u001b[0m \u001b[0mnbSeat\u001b[0m\u001b[1;33m[\u001b[0m\u001b[0mimg_name\u001b[0m\u001b[1;33m]\u001b[0m\u001b[1;33m,\u001b[0m \u001b[0mplane\u001b[0m\u001b[1;33m,\u001b[0m \u001b[0mimg_name\u001b[0m\u001b[1;33m)\u001b[0m\u001b[1;33m\u001b[0m\u001b[1;33m\u001b[0m\u001b[0m\n\u001b[0m\u001b[0;32m     73\u001b[0m \u001b[0mprint\u001b[0m\u001b[1;33m(\u001b[0m\u001b[0mplane\u001b[0m\u001b[1;33m)\u001b[0m\u001b[1;33m\u001b[0m\u001b[1;33m\u001b[0m\u001b[0m\n\u001b[0;32m     74\u001b[0m \u001b[1;33m\u001b[0m\u001b[0m\n",
      "\u001b[1;31mNameError\u001b[0m: name 'rematch' is not defined"
     ]
    }
   ],
   "source": [
    "# img_gray = cv2.imread('../All Data/ANALYSE IMAGE/LAYOUT SEATGURU/' + 'Asiana_Boeing_777-200_ER_C_plane205.jpg', 0)\n",
    "# img_rgb = cv2.imread('../All Data/ANALYSE IMAGE/LAYOUT SEATGURU/' + 'Asiana_Boeing_777-200_ER_C_plane205.jpg' , 1)\n",
    "# img_gray = cv2.imread('../All Data/ANALYSE IMAGE/LAYOUT SEATGURU/' + 'China_Southern_Boeing_737-800C_plane33.jpg', 0)\n",
    "# img_rgb = cv2.imread('../All Data/ANALYSE IMAGE/LAYOUT SEATGURU/' + 'China_Southern_Boeing_737-800C_plane33.jpg' , 1)\n",
    "# img_gray = cv2.imread('../All Data/ANALYSE IMAGE/LAYOUT SEATGURU/' + 'Asiana_Airbus_A321-200_V1_plane209.jpg', 0)\n",
    "# img_rgb = cv2.imread('../All Data/ANALYSE IMAGE/LAYOUT SEATGURU/' + 'Asiana_Airbus_A321-200_V1_plane209.jpg' , 1)\n",
    "# img_gray = cv2.imread('../All Data/ANALYSE IMAGE/LAYOUT SEATGURU/' + 'Oman_Air_Boeing_787-8_V2_plane683.jpg', 0)\n",
    "# img_rgb = cv2.imread('../All Data/ANALYSE IMAGE/LAYOUT SEATGURU/' + 'Oman_Air_Boeing_787-8_V2_plane683.jpg' , 1)\n",
    "# img_gray = cv2.imread('../All Data/ANALYSE IMAGE/LAYOUT SEATGURU/' + 'Japan_Airlines_Boeing_777-200ER_D_plane522.jpg', 0)\n",
    "# img_rgb = cv2.imread('../All Data/ANALYSE IMAGE/LAYOUT SEATGURU/' + 'Japan_Airlines_Boeing_777-200ER_D_plane522.jpg' , 1)\n",
    "# img_gray = cv2.imread('../All Data/ANALYSE IMAGE/LAYOUT SEATGURU/' + 'Croatia_Airlines_Airbus_A319-100_plane310.jpg', 0)\n",
    "# img_rgb = cv2.imread('../All Data/ANALYSE IMAGE/LAYOUT SEATGURU/' + 'Croatia_Airlines_Airbus_A319-100_plane310.jpg' , 1)\n",
    "# img_gray = cv2.imread('../All Data/ANALYSE IMAGE/LAYOUT SEATGURU/' + 'Aer_Lingus_Airbus_A330-200_plane6.jpg', 0)\n",
    "# img_rgb = cv2.imread('../All Data/ANALYSE IMAGE/LAYOUT SEATGURU/' + 'Aer_Lingus_Airbus_A330-200_plane6.jpg' , 1)\n",
    "# img_gray = cv2.imread('../All Data/ANALYSE IMAGE/LAYOUT SEATGURU/' + 'Nok_Air_Boeing_737-800_plane666.jpg', 0)\n",
    "# img_rgb = cv2.imread('../All Data/ANALYSE IMAGE/LAYOUT SEATGURU/' + 'Nok_Air_Boeing_737-800_plane666.jpg' , 1)\n",
    "# img_gray = cv2.imread('../All Data/ANALYSE IMAGE/LAYOUT SEATGURU/' + 'South_African_Airways_Airbus_A340-200_plane844.jpg', 0)\n",
    "# img_rgb = cv2.imread('../All Data/ANALYSE IMAGE/LAYOUT SEATGURU/' + 'South_African_Airways_Airbus_A340-200_plane844.jpg' , 1)\n",
    "# img_gray = cv2.imread('../All Data/ANALYSE IMAGE/LAYOUT SEATGURU/' + 'Aegean_Airlines_Airbus_A319-100_plane1.svg.png', 0)\n",
    "# img_rgb = cv2.imread('../All Data/ANALYSE IMAGE/LAYOUT SEATGURU/' + 'Aegean_Airlines_Airbus_A319-100_plane1.svg.png' , 1)\n",
    "img_gray = cv2.imread('../All Data/ANALYSE IMAGE/LAYOUT SEATGURU/' + 'Aer_Lingus_Boeing_757-200_plane2.jpg', 0)\n",
    "img_rgb = cv2.imread('../All Data/ANALYSE IMAGE/LAYOUT SEATGURU/' + 'Aer_Lingus_Boeing_757-200_plane2.jpg' , 1)\n",
    "\n",
    "\n",
    "\n",
    "img_name = 'Aer_Lingus_Boeing_757-200_plane2.jpg'\n",
    "# nbSeat = {'business': 32}\n",
    "nbSeat = {'Aer_Lingus_Airbus_A330-300_A_plane6.jpg': [{'Category': 'BUSINESS',\n",
    "   'Seat_Type': 'FLAT_BED',\n",
    "   'Count': 30},\n",
    "  {'Category': 'ECONOMY', 'Seat_Type': 'STANDARD', 'Count': 287}],\n",
    " 'Aer_Lingus_Airbus_A330-200_B_plane7.jpg': [{'Category': 'ECONOMY',\n",
    "   'Seat_Type': 'STANDARD',\n",
    "   'Count': 248},\n",
    "  {'Category': 'BUSINESS', 'Seat_Type': 'FLAT_BED', 'Count': 23}],\n",
    " 'Aer_Lingus_Airbus_A320_plane9.jpg': [{'Category': 'ECONOMY',\n",
    "   'Seat_Type': 'STANDARD',\n",
    "   'Count': 174}],\n",
    " 'Aer_Lingus_Airbus_A321_plane10.jpg': [{'Category': 'ECONOMY',\n",
    "   'Seat_Type': 'STANDARD',\n",
    "   'Count': 212}],\n",
    " 'Aer_Lingus_Boeing_757-200_plane2.jpg': [{'Category': 'BUSINESS',\n",
    "   'Seat_Type': 'FLAT_BED',\n",
    "   'Count': 12},\n",
    "  {'Category': 'ECONOMY', 'Seat_Type': 'STANDARD', 'Count': 165}],\n",
    " 'Aer_Lingus_Airbus_A330-200_plane6.jpg': [{'Category': 'ECONOMY',\n",
    "   'Seat_Type': 'STANDARD',\n",
    "   'Count': 248},\n",
    "  {'Category': 'BUSINESS', 'Seat_Type': 'FLAT_BED', 'Count': 23}],\n",
    " 'Aer_Lingus_Airbus_A330-200_plane4.jpg': [{'Category': 'ECONOMY',\n",
    "   'Seat_Type': 'STANDARD',\n",
    "   'Count': 248},\n",
    "  {'Category': 'BUSINESS', 'Seat_Type': 'FLAT_BED', 'Count': 23}],\n",
    " 'Aer_Lingus_Airbus_A330-300_A_plane8.jpg': [{'Category': 'BUSINESS',\n",
    "   'Seat_Type': 'FLAT_BED',\n",
    "   'Count': 30},\n",
    "  {'Category': 'ECONOMY', 'Seat_Type': 'STANDARD', 'Count': 287}],\n",
    " 'Aer_Lingus_Airbus_A330-200_B_plane5.jpg': [{'Category': 'ECONOMY',\n",
    "   'Seat_Type': 'STANDARD',\n",
    "   'Count': 248},\n",
    "  {'Category': 'BUSINESS', 'Seat_Type': 'FLAT_BED', 'Count': 23}],\n",
    " 'Aer_Lingus_Airbus_A321_plane1.jpg': [{'Category': 'ECONOMY',\n",
    "   'Seat_Type': 'STANDARD',\n",
    "   'Count': 212}],\n",
    " 'Aer_Lingus_Boeing_757-200_plane11.jpg': [{'Category': 'BUSINESS',\n",
    "   'Seat_Type': 'FLAT_BED',\n",
    "   'Count': 12},\n",
    "  {'Category': 'ECONOMY', 'Seat_Type': 'STANDARD', 'Count': 165}]}\n",
    "plane = {}\n",
    "plane[img_name] = {}\n",
    "\n",
    "rematch(img_gray, nbSeat[img_name], plane, img_name)\n",
    "print(plane)\n",
    "\n",
    "for i in plane[img_name].keys():\n",
    "    for j in plane[img_name][i]:\n",
    "        cv2.rectangle(img_rgb, j[0:2], (j[0] + j[3], j[1] + j[2]), (0, 0, 255), 2)\n",
    "\n",
    "# cv2.imshow('ee', img_gray)\n",
    "cv2.imshow('name', img_rgb)\n",
    "cv2.waitKey()\n",
    "cv2.destroyAllWindows()\n",
    "cv2.imwrite('test.jpg', img_rgb)\n",
    "\n",
    "# ['temp_normal_seat.jpg', 'temp_normal_seat_little.jpg']\n"
   ]
  },
  {
   "cell_type": "code",
   "execution_count": 95,
   "metadata": {},
   "outputs": [],
   "source": [
    "\n",
    "for plane in nbSeatTotal.keys():\n",
    "    for cat in nbSeatTotal[plane].keys():\n",
    "        if not os.path.exists('./images/TEMPLATE/' + str(cat)):\n",
    "            os.mkdir('./images/TEMPLATE/' + str(cat))"
   ]
  },
  {
   "cell_type": "code",
   "execution_count": 49,
   "metadata": {},
   "outputs": [
    {
     "data": {
      "text/plain": "[(5, 6), (5, 10), (5, 8), (5, 5), (5, 2), (6, 6), (6, 7)]"
     },
     "execution_count": 49,
     "metadata": {},
     "output_type": "execute_result"
    }
   ],
   "source": [
    "a = [(5, 6), (5, 10), (5, 8), (5, 5), (5, 2), (6, 6), (4, 6), (6, 7)]\n",
    "\n",
    "def trieur(a):\n",
    "    number = {}\n",
    "    for i in a:\n",
    "        if not i[0] in number.keys():\n",
    "            number[i[0]] = 1\n",
    "        else:\n",
    "            number[i[0]] += 1\n",
    "    b = (sorted(number.items(), key=lambda item: item[1], reverse=True)[:2])\n",
    "    c = []\n",
    "    for i in a:\n",
    "        if i[0] == b[0][0] or i[0] == b[1][0]:\n",
    "            c.append(i)\n",
    "    return(c)\n",
    "trieur(a)"
   ]
  },
  {
   "cell_type": "code",
   "execution_count": 17,
   "metadata": {},
   "outputs": [],
   "source": [
    "json = {'Aer_Lingus_Boeing_757-200_plane11.jpg': {'BUSINESS': [(150, 319, 27, 24), (249, 319, 27, 24), (169, 360, 27, 24), (228, 360, 27, 24), (134, 360, 27, 24), (263, 360, 27, 24), (133, 360, 27, 24), (169, 359, 27, 24), (228, 359, 27, 24), (264, 360, 27, 24), (248, 319, 27, 24), (134, 359, 27, 24), (263, 359, 27, 24)], 'ECONOMY': [(154, 649, 24,\n",
    "21), (154, 769, 24, 21), (154, 710, 24, 21), (154, 829, 24, 21), (154, 889, 24, 21), (227, 710, 24, 21), (154, 949, 24, 21), (134, 649, 24, 21), (134, 769, 24, 21), (134, 829, 24, 21), (134, 889, 24, 21), (134, 710, 24, 21), (174, 649, 24, 21), (227, 649, 24, 21), (174, 710, 24, 21), (174, 769, 24, 21), (227, 769, 24, 21), (174, 829, 24, 21), (227, 829, 24, 21), (174, 889, 24, 21), (227, 889, 24, 21), (154, 1145, 24, 21), (154, 1205, 24, 21), (154, 1235, 24, 21), (154, 1265, 24, 21), (134, 949, 24, 21), (154, 1086, 24, 21), (268, 649, 24, 21), (268, 769, 24, 21), (268, 829, 24, 21), (268, 889, 24, 21), (268, 949, 24, 21), (174, 1116, 24, 21), (227, 1116, 24, 21), (174, 1176, 24,\n",
    "21), (227, 1176, 24, 21), (174, 949, 24, 21), (268, 979, 24, 21), (227, 1086, 24, 21), (154, 530, 24, 21), (154, 589, 24, 21), (227, 620, 24, 21), (247, 710, 24, 21), (227, 740, 24, 21), (227, 800, 24, 21), (227, 860, 24, 21), (227, 920, 24, 21), (227, 530, 24, 21), (174, 620, 24, 21), (174, 740, 24, 21), (174, 800, 24, 21), (174, 860, 24, 21), (174, 920, 24, 21), (227, 949, 24, 21), (227, 979, 24, 21), (154, 1116, 24, 21), (154, 1176, 24, 21), (134, 1265, 24, 21), (134, 1145, 24, 21), (134, 1205, 24, 21), (134, 1235, 24, 21), (134, 1086, 24, 21), (154, 620, 24, 21), (154, 740, 24, 21), (154, 800, 24, 21), (154, 860, 24, 21), (154, 920, 24, 21), (134, 589, 24, 21), (268, 1145, 24, 21), (268, 1205, 24, 21), (268, 1235, 24, 21), (268, 1265, 24, 21), (134, 530, 24, 21), (268, 710, 24, 21), (174, 1086, 24, 21), (174, 1145, 24, 21), (227, 1145, 24, 21), (174, 1205, 24, 21), (227, 1205, 24, 21), (174, 1235, 24, 21), (227, 1235, 24, 21), (174, 1265, 24, 21), (227, 1265, 24, 21), (174, 530, 24, 21), (174, 589, 24, 21), (268, 589, 24, 21), (247, 1116, 24, 21), (247, 1176, 24, 21), (227, 589, 24, 21), (154, 441, 24, 21), (247, 530, 24, 21), (154, 442, 24, 21), (247, 620, 24, 21), (247, 740, 24,\n",
    "21), (247, 800, 24, 21), (247, 860, 24, 21), (247, 1086, 24, 21), (247, 920, 24, 21), (248, 979, 24, 21), (247, 441, 24, 21), (174, 560, 24, 21), (227, 560, 24, 21), (248,\n",
    "649, 24, 21), (248, 769, 24, 21), (248, 829, 24, 21), (248, 889, 24, 21), (248, 949, 24, 21), (154, 681, 24, 21), (134, 1116, 24, 21), (134, 1176, 24, 21), (268, 530, 24, 21), (154, 680, 24, 21), (227, 680, 24, 21), (227, 681, 24, 21), (268, 1086, 24, 21), (134, 620, 24, 21), (134, 740, 24, 21), (134, 800, 24, 21), (134, 860, 24, 21), (134, 920, 24, 21), (247, 442, 24, 21), (154, 560, 24, 21), (248, 589, 24, 21), (174, 441, 24, 21), (247, 949, 24, 21), (268, 1116, 24, 21), (268, 1176, 24, 21), (174, 442, 24, 21), (247, 560, 24, 21), (248, 1145, 24, 21), (248, 1205, 24, 21), (248, 1235, 24, 21), (248, 1265, 24, 21), (268, 620, 24, 21), (174, 681, 24, 21), (268, 740, 24, 21), (268, 800, 24, 21), (268, 860, 24, 21), (268, 920, 24, 21), (227, 441, 24, 21), (247, 649, 24, 21), (174, 680, 24, 21), (247, 769, 24, 21), (247, 829, 24, 21), (247, 889, 24, 21), (247, 979, 24, 21), (247, 680, 24, 21), (247, 681, 24, 21), (134, 560, 24, 21), (227, 442, 24, 21), (268, 560, 24, 21), (247, 589, 24, 21), (134, 680, 24, 21), (134, 681, 24, 21), (247, 1145, 24, 21), (247, 1205, 24, 21), (247, 1235, 24, 21), (247, 1265, 24, 21), (227, 619, 24, 21), (268, 680, 24, 21), (268, 681, 24, 21), (227, 739, 24, 21), (227, 799, 24, 21), (227, 859, 24, 21), (227, 919, 24, 21), (174, 619, 24, 21), (174, 739, 24, 21), (174, 799, 24, 21), (174, 859, 24, 21), (174, 919, 24, 21), (154, 619, 24, 21), (248, 710, 24, 21), (154, 739, 24, 21), (154, 799, 24, 21), (154, 859, 24, 21), (154, 919, 24, 21), (154, 1087, 24, 21), (267, 1176, 24, 21), (227, 1115, 24, 21), (267, 1116, 24, 21), (227, 1175, 24, 21), (136, 322, 16, 14), (235, 322, 16, 14), (273, 322, 16, 14), (136, 240, 16, 14), (174, 322, 16, 14), (235, 240, 16, 14), (273, 240, 16, 14), (136, 241, 16, 14), (235, 241, 16, 14), (174, 240, 16, 14), (273, 241, 16, 14), (136, 323, 16, 14), (174, 241, 16, 14), (235, 323, 16, 14), (178, 444, 16, 14),\n",
    "(178, 683, 16, 14), (178, 1089, 16, 14), (273, 323, 16, 14), (251, 622, 16, 14), (251, 742, 16, 14), (251, 802, 16, 14), (251, 862, 16, 14), (251, 922, 16, 14), (178, 1148, 16, 14), (178, 1208, 16, 14), (178, 1238, 16, 14), (178, 1268, 16, 14), (231, 1148, 16, 14), (231, 1208, 16, 14), (231, 1238, 16, 14), (231, 1268, 16, 14), (231, 652, 16,\n",
    "14), (178, 713, 16, 14), (231, 772, 16, 14), (231, 892, 16, 14), (231, 982, 16, 14), (254, 441, 16, 14), (178, 652, 16, 14), (178, 772, 16, 14), (178, 832, 16, 14), (231, 832, 16, 14), (178, 892, 16, 14), (141, 1086, 16, 14), (178, 622, 16, 14), (178, 742, 16, 14), (178, 862, 16, 14), (178, 952, 16, 14), (231, 952, 16, 14), (158, 444, 16, 14), (178, 802, 16, 14), (178, 922, 16, 14), (141, 1145, 16, 14), (141, 1205, 16, 14), (141, 1235, 16, 14), (141, 1265, 16, 14), (161, 441, 16, 14), (231, 622, 16, 14), (141,\n",
    "680, 16, 14), (231, 683, 16, 14), (251, 683, 16, 14), (231, 802, 16, 14), (231, 981, 16, 14), (158, 1089, 16, 14), (231, 1089, 16, 14), (158, 1148, 16, 14), (158, 1208, 16, 14), (251, 1208, 16, 14), (158, 1238, 16, 14), (158, 1268, 16, 14), (234, 441, 16, 14), (158, 652, 16, 14), (231, 742, 16, 14), (158, 772, 16, 14), (158, 832, 16, 14), (231, 862, 16, 14), (158, 892, 16, 14), (231, 922, 16, 14), (251, 1089, 16, 14), (251, 1148, 16, 14), (251, 1238, 16, 14), (251, 1268, 16, 14)]}}"
   ]
  },
  {
   "cell_type": "code",
   "execution_count": 19,
   "metadata": {},
   "outputs": [],
   "source": [
    "def show_seats_find(image=None, json=None, img_name=None):\n",
    "    \"\"\"\n",
    "    input:\n",
    "        image : Opened image with color\n",
    "        json : coordonate\n",
    "        img_name : image name\n",
    "    output:\n",
    "        NONE\n",
    "    \"\"\"\n",
    "    color = {'BUSINESS':(255, 0, 0), 'ECONOMY': (0, 0, 255), 'FIRST': (0, 255, 0), 'PREMIUM': (255, 255, 0)}\n",
    "    \n",
    "    for category in json[img_name].keys():\n",
    "        for pos in json[img_name][category]:\n",
    "            cv2.rectangle(image, pos[0:2], (pos[0] + pos[3], pos[1] + pos[2]), color[category], 2)\n",
    "    \n",
    "    cv2.imshow(img_name, image)\n",
    "    cv2.waitKey()\n",
    "    cv2.destroyAllWindows()\n",
    "\n",
    "img_rgb = cv2.imread('../All Data/ANALYSE IMAGE/LAYOUT SEATGURU/'+'Aer_Lingus_Boeing_757-200_plane11.jpg', 1)\n",
    "show_seats(image=img_rgb, json=json, img_name='Aer_Lingus_Boeing_757-200_plane11.jpg')\n"
   ]
  },
  {
   "cell_type": "code",
   "execution_count": 12,
   "metadata": {},
   "outputs": [],
   "source": [
    "jsonEle = {'Aer_Lingus_Airbus_A330-300_A_plane6.jpg': {'bar4.png': [(167, 218, 203, 282),\n",
    "   (232, 132, 261, 169),\n",
    "   (232, 189, 262, 230),\n",
    "   (445, 182, 470, 241),\n",
    "   (495, 182, 515, 241),\n",
    "   (1012, 181, 1032, 240),\n",
    "   (1437, 189, 1459, 236),\n",
    "   (1495, 139, 1550, 284)],\n",
    "  'bar5.png': [(167, 218, 203, 282),\n",
    "   (232, 189, 262, 230),\n",
    "   (232, 132, 261, 169),\n",
    "   (445, 130, 470, 165),\n",
    "   (445, 182, 470, 241),\n",
    "   (445, 257, 470, 292),\n",
    "   (495, 182, 515, 241),\n",
    "   (1012, 181, 1032, 240),\n",
    "   (1437, 189, 1459, 236),\n",
    "   (1495, 139, 1550, 284)],\n",
    "  'sortie_droit (2).png': [],\n",
    "  'sortie_droit.png': [(208, 277, 224, 293), (1000, 285, 1015, 301)],\n",
    "  'sortie_gauche (2).png': [],\n",
    "  'sortie_gauche.png': [(999, 121, 1015, 137)],\n",
    "  'toilettes_2.png': [(167, 218, 203, 282),\n",
    "   (168, 140, 203, 202),\n",
    "   (1495, 139, 1550, 284)]}}"
   ]
  },
  {
   "cell_type": "code",
   "execution_count": 8,
   "metadata": {},
   "outputs": [
    {
     "name": "stdout",
     "output_type": "stream",
     "text": "(167, 218, 203, 282)\n(232, 132, 261, 169)\n(232, 189, 262, 230)\n(445, 182, 470, 241)\n(495, 182, 515, 241)\n(1012, 181, 1032, 240)\n(1437, 189, 1459, 236)\n(1495, 139, 1550, 284)\n(167, 218, 203, 282)\n(232, 189, 262, 230)\n(232, 132, 261, 169)\n(445, 130, 470, 165)\n(445, 182, 470, 241)\n(445, 257, 470, 292)\n(495, 182, 515, 241)\n(1012, 181, 1032, 240)\n(1437, 189, 1459, 236)\n(1495, 139, 1550, 284)\n(208, 277, 224, 293)\n(1000, 285, 1015, 301)\n(999, 121, 1015, 137)\n(167, 218, 203, 282)\n(168, 140, 203, 202)\n(1495, 139, 1550, 284)\n"
    }
   ],
   "source": [
    "def show_elements_find(image=None, json=None, img_name=None):\n",
    "    \"\"\"\n",
    "    input:\n",
    "        image : Openend image with color\n",
    "        json : coordonnate\n",
    "        img_name : image name\n",
    "    output:\n",
    "        NONE\n",
    "    \"\"\"\n",
    "    # color = {'BUSINESS':(255, 0, 0), 'ECONOMY': (0, 0, 255), 'FIRST': (0, 255, 0), 'PREMIUM': (255, 255, 0)}\n",
    "    \n",
    "    for category in json[img_name].keys():\n",
    "        for pos in json[img_name][category]:\n",
    "            print(pos)\n",
    "            cv2.rectangle(image, (pos[1], pos[0]), (pos[3], pos[2]), (0, 199, 255), 2)\n",
    "    \n",
    "    cv2.imshow(img_name, image)\n",
    "    cv2.waitKey()\n",
    "    cv2.destroyAllWindows()\n",
    "    cv2.imwrite('test.jpg', image)\n",
    "\n",
    "img_rgb = cv2.imread('../All Data/ANALYSE IMAGE/LAYOUT SEATGURU/' + 'Aer_Lingus_Airbus_A330-300_A_plane6.jpg', 1)\n",
    "show_elements_find(image=img_rgb, json=jsonEle, img_name='Aer_Lingus_Airbus_A330-300_A_plane6.jpg')\n",
    "\n"
   ]
  },
  {
   "cell_type": "markdown",
   "execution_count": null,
   "metadata": {},
   "outputs": [],
   "source": [
    "### Jolies dessins\n",
    "###### Compteur de sieges"
   ]
  },
  {
   "cell_type": "code",
   "execution_count": 20,
   "metadata": {},
   "outputs": [
    {
     "name": "stdout",
     "output_type": "stream",
     "text": "{'Aer_Lingus_Boeing_757-200_plane11.jpg': 275}\n{'Aer_Lingus_Airbus_A330-300_A_plane6.jpg': 317, 'Aer_Lingus_Airbus_A330-200_B_plane7.jpg': 271, 'Aer_Lingus_Airbus_A320_plane9.jpg': 174, 'Aer_Lingus_Airbus_A321_plane10.jpg': 212, 'Aer_Lingus_Boeing_757-200_plane2.jpg': 177, 'Aer_Lingus_Airbus_A330-200_plane6.jpg': 271, 'Aer_Lingus_Airbus_A330-200_plane4.jpg': 271, 'Aer_Lingus_Airbus_A330-300_A_plane8.jpg': 317, 'Aer_Lingus_Airbus_A330-200_B_plane5.jpg': 271, 'Aer_Lingus_Airbus_A321_plane1.jpg': 212, 'Aer_Lingus_Boeing_757-200_plane11.jpg': 177}\n"
    }
   ],
   "source": [
    "nbSeatFound = {}\n",
    "for plane in json.keys():\n",
    "    nbSeatFound[plane] = 0\n",
    "    for cat in json[plane].keys():\n",
    "        nbSeatFound[plane] += len(json[plane][cat])\n",
    "\n",
    "print(nbSeatFound)\n",
    "\n",
    "nbSeatFound = {'Aer_Lingus_Airbus_A330-300_A_plane6.jpg': 300, 'Aer_Lingus_Airbus_A330-200_B_plane7.jpg': 241, 'Aer_Lingus_Airbus_A320_plane9.jpg': 174, 'Aer_Lingus_Airbus_A321_plane10.jpg': 19, 'Aer_Lingus_Boeing_757-200_plane2.jpg': 47, 'Aer_Lingus_Airbus_A330-200_plane6.jpg': 150, 'Aer_Lingus_Airbus_A330-200_plane4.jpg': 271, 'Aer_Lingus_Airbus_A330-300_A_plane8.jpg': 300, 'Aer_Lingus_Airbus_A330-200_B_plane5.jpg': 121, 'Aer_Lingus_Airbus_A321_plane1.jpg': 10, 'Aer_Lingus_Boeing_757-200_plane11.jpg': 130}\n",
    "\n",
    "nbSeatTheori = {}\n",
    "for plane in nbSeat.keys():\n",
    "    nbSeatTheori[plane] = 0\n",
    "    for el in nbSeat[plane]:\n",
    "        nbSeatTheori[plane] += el['Count']\n",
    "print(nbSeatTheori)"
   ]
  },
  {
   "cell_type": "code",
   "execution_count": 26,
   "metadata": {},
   "outputs": [
    {
     "name": "stdout",
     "output_type": "stream",
     "text": "[94.6372239747634, 88.92988929889299, 100.0, 8.962264150943396, 26.55367231638418, 55.35055350553506, 100.0, 94.6372239747634, 44.64944649446495, 4.716981132075472, 73.44632768361582]\n"
    },
    {
     "data": {
      "image/png": "[encoded data removed]",
      "image/svg+xml": "<?xml version=\"1.0\" encoding=\"utf-8\" standalone=\"no\"?>\r\n<!DOCTYPE svg PUBLIC \"-//W3C//DTD SVG 1.1//EN\"\r\n  \"http://www.w3.org/Graphics/SVG/1.1/DTD/svg11.dtd\">\r\n<!-- Created with matplotlib (https://matplotlib.org/) -->\r\n<svg height=\"263.63625pt\" version=\"1.1\" viewBox=\"0 0 388.965625 263.63625\" width=\"388.965625pt\" xmlns=\"http://www.w3.org/2000/svg\" xmlns:xlink=\"http://www.w3.org/1999/xlink\">\r\n <defs>\r\n  <style type=\"text/css\">\r\n*{stroke-linecap:butt;stroke-linejoin:round;white-space:pre;}\r\n  </style>\r\n </defs>\r\n <g id=\"figure_1\">\r\n  <g id=\"patch_1\">\r\n   <path d=\"M -0 263.63625 \r\nL 388.965625 263.63625 \r\nL 388.965625 0 \r\nL -0 0 \r\nz\r\n\"/>\r\n  </g>\r\n  <g id=\"axes_1\">\r\n   <g id=\"patch_2\">\r\n    <path d=\"M 46.965625 239.758125 \r\nL 381.765625 239.758125 \r\nL 381.765625 22.318125 \r\nL 46.965625 22.318125 \r\nz\r\n\"/>\r\n   </g>\r\n   <g id=\"patch_3\">\r\n    <path clip-path=\"url(#p8e80cc2803)\" d=\"M 62.183807 239.758125 \r\nL 76.677313 239.758125 \r\nL 76.677313 43.777954 \r\nL 62.183807 43.777954 \r\nz\r\n\" style=\"fill:#00ffff;\"/>\r\n   </g>\r\n   <g id=\"patch_4\">\r\n    <path clip-path=\"url(#p8e80cc2803)\" d=\"M 91.17082 239.758125 \r\nL 105.664326 239.758125 \r\nL 105.664326 55.597029 \r\nL 91.17082 55.597029 \r\nz\r\n\" style=\"fill:#00ffff;\"/>\r\n   </g>\r\n   <g id=\"patch_5\">\r\n    <path clip-path=\"url(#p8e80cc2803)\" d=\"M 120.157833 239.758125 \r\nL 134.651339 239.758125 \r\nL 134.651339 32.672411 \r\nL 120.157833 32.672411 \r\nz\r\n\" style=\"fill:#00ffff;\"/>\r\n   </g>\r\n   <g id=\"patch_6\">\r\n    <path clip-path=\"url(#p8e80cc2803)\" d=\"M 149.144846 239.758125 \r\nL 163.638352 239.758125 \r\nL 163.638352 221.198556 \r\nL 149.144846 221.198556 \r\nz\r\n\" style=\"fill:#00ffff;\"/>\r\n   </g>\r\n   <g id=\"patch_7\">\r\n    <path clip-path=\"url(#p8e80cc2803)\" d=\"M 178.131859 239.758125 \r\nL 192.625365 239.758125 \r\nL 192.625365 184.769263 \r\nL 178.131859 184.769263 \r\nz\r\n\" style=\"fill:#00ffff;\"/>\r\n   </g>\r\n   <g id=\"patch_8\">\r\n    <path clip-path=\"url(#p8e80cc2803)\" d=\"M 207.118872 239.758125 \r\nL 221.612378 239.758125 \r\nL 221.612378 125.135036 \r\nL 207.118872 125.135036 \r\nz\r\n\" style=\"fill:#00ffff;\"/>\r\n   </g>\r\n   <g id=\"patch_9\">\r\n    <path clip-path=\"url(#p8e80cc2803)\" d=\"M 236.105885 239.758125 \r\nL 250.599391 239.758125 \r\nL 250.599391 32.672411 \r\nL 236.105885 32.672411 \r\nz\r\n\" style=\"fill:#00ffff;\"/>\r\n   </g>\r\n   <g id=\"patch_10\">\r\n    <path clip-path=\"url(#p8e80cc2803)\" d=\"M 265.092898 239.758125 \r\nL 279.586404 239.758125 \r\nL 279.586404 43.777954 \r\nL 265.092898 43.777954 \r\nz\r\n\" style=\"fill:#00ffff;\"/>\r\n   </g>\r\n   <g id=\"patch_11\">\r\n    <path clip-path=\"url(#p8e80cc2803)\" d=\"M 294.079911 239.758125 \r\nL 308.573417 239.758125 \r\nL 308.573417 147.2955 \r\nL 294.079911 147.2955 \r\nz\r\n\" style=\"fill:#00ffff;\"/>\r\n   </g>\r\n   <g id=\"patch_12\">\r\n    <path clip-path=\"url(#p8e80cc2803)\" d=\"M 323.066924 239.758125 \r\nL 337.56043 239.758125 \r\nL 337.56043 229.989931 \r\nL 323.066924 229.989931 \r\nz\r\n\" style=\"fill:#00ffff;\"/>\r\n   </g>\r\n   <g id=\"patch_13\">\r\n    <path clip-path=\"url(#p8e80cc2803)\" d=\"M 352.053937 239.758125 \r\nL 366.547443 239.758125 \r\nL 366.547443 87.661273 \r\nL 352.053937 87.661273 \r\nz\r\n\" style=\"fill:#00ffff;\"/>\r\n   </g>\r\n   <g id=\"matplotlib.axis_1\">\r\n    <g id=\"xtick_1\">\r\n     <g id=\"line2d_1\">\r\n      <defs>\r\n       <path d=\"M 0 0 \r\nL 0 3.5 \r\n\" id=\"m8657a49e47\" style=\"stroke:#ffffff;stroke-width:0.8;\"/>\r\n      </defs>\r\n      <g>\r\n       <use style=\"fill:#ffffff;stroke:#ffffff;stroke-width:0.8;\" x=\"69.43056\" xlink:href=\"#m8657a49e47\" y=\"239.758125\"/>\r\n      </g>\r\n     </g>\r\n     <g id=\"text_1\">\r\n      <!-- 0 -->\r\n      <defs>\r\n       <path d=\"M 31.78125 66.40625 \r\nQ 24.171875 66.40625 20.328125 58.90625 \r\nQ 16.5 51.421875 16.5 36.375 \r\nQ 16.5 21.390625 20.328125 13.890625 \r\nQ 24.171875 6.390625 31.78125 6.390625 \r\nQ 39.453125 6.390625 43.28125 13.890625 \r\nQ 47.125 21.390625 47.125 36.375 \r\nQ 47.125 51.421875 43.28125 58.90625 \r\nQ 39.453125 66.40625 31.78125 66.40625 \r\nz\r\nM 31.78125 74.21875 \r\nQ 44.046875 74.21875 50.515625 64.515625 \r\nQ 56.984375 54.828125 56.984375 36.375 \r\nQ 56.984375 17.96875 50.515625 8.265625 \r\nQ 44.046875 -1.421875 31.78125 -1.421875 \r\nQ 19.53125 -1.421875 13.0625 8.265625 \r\nQ 6.59375 17.96875 6.59375 36.375 \r\nQ 6.59375 54.828125 13.0625 64.515625 \r\nQ 19.53125 74.21875 31.78125 74.21875 \r\nz\r\n\" id=\"DejaVuSans-48\"/>\r\n      </defs>\r\n      <g style=\"fill:#ffffff;\" transform=\"translate(66.24931 254.356563)scale(0.1 -0.1)\">\r\n       <use xlink:href=\"#DejaVuSans-48\"/>\r\n      </g>\r\n     </g>\r\n    </g>\r\n    <g id=\"xtick_2\">\r\n     <g id=\"line2d_2\">\r\n      <g>\r\n       <use style=\"fill:#ffffff;stroke:#ffffff;stroke-width:0.8;\" x=\"98.417573\" xlink:href=\"#m8657a49e47\" y=\"239.758125\"/>\r\n      </g>\r\n     </g>\r\n     <g id=\"text_2\">\r\n      <!-- 1 -->\r\n      <defs>\r\n       <path d=\"M 12.40625 8.296875 \r\nL 28.515625 8.296875 \r\nL 28.515625 63.921875 \r\nL 10.984375 60.40625 \r\nL 10.984375 69.390625 \r\nL 28.421875 72.90625 \r\nL 38.28125 72.90625 \r\nL 38.28125 8.296875 \r\nL 54.390625 8.296875 \r\nL 54.390625 0 \r\nL 12.40625 0 \r\nz\r\n\" id=\"DejaVuSans-49\"/>\r\n      </defs>\r\n      <g style=\"fill:#ffffff;\" transform=\"translate(95.236323 254.356563)scale(0.1 -0.1)\">\r\n       <use xlink:href=\"#DejaVuSans-49\"/>\r\n      </g>\r\n     </g>\r\n    </g>\r\n    <g id=\"xtick_3\">\r\n     <g id=\"line2d_3\">\r\n      <g>\r\n       <use style=\"fill:#ffffff;stroke:#ffffff;stroke-width:0.8;\" x=\"127.404586\" xlink:href=\"#m8657a49e47\" y=\"239.758125\"/>\r\n      </g>\r\n     </g>\r\n     <g id=\"text_3\">\r\n      <!-- 2 -->\r\n      <defs>\r\n       <path d=\"M 19.1875 8.296875 \r\nL 53.609375 8.296875 \r\nL 53.609375 0 \r\nL 7.328125 0 \r\nL 7.328125 8.296875 \r\nQ 12.9375 14.109375 22.625 23.890625 \r\nQ 32.328125 33.6875 34.8125 36.53125 \r\nQ 39.546875 41.84375 41.421875 45.53125 \r\nQ 43.3125 49.21875 43.3125 52.78125 \r\nQ 43.3125 58.59375 39.234375 62.25 \r\nQ 35.15625 65.921875 28.609375 65.921875 \r\nQ 23.96875 65.921875 18.8125 64.3125 \r\nQ 13.671875 62.703125 7.8125 59.421875 \r\nL 7.8125 69.390625 \r\nQ 13.765625 71.78125 18.9375 73 \r\nQ 24.125 74.21875 28.421875 74.21875 \r\nQ 39.75 74.21875 46.484375 68.546875 \r\nQ 53.21875 62.890625 53.21875 53.421875 \r\nQ 53.21875 48.921875 51.53125 44.890625 \r\nQ 49.859375 40.875 45.40625 35.40625 \r\nQ 44.1875 33.984375 37.640625 27.21875 \r\nQ 31.109375 20.453125 19.1875 8.296875 \r\nz\r\n\" id=\"DejaVuSans-50\"/>\r\n      </defs>\r\n      <g style=\"fill:#ffffff;\" transform=\"translate(124.223336 254.356563)scale(0.1 -0.1)\">\r\n       <use xlink:href=\"#DejaVuSans-50\"/>\r\n      </g>\r\n     </g>\r\n    </g>\r\n    <g id=\"xtick_4\">\r\n     <g id=\"line2d_4\">\r\n      <g>\r\n       <use style=\"fill:#ffffff;stroke:#ffffff;stroke-width:0.8;\" x=\"156.391599\" xlink:href=\"#m8657a49e47\" y=\"239.758125\"/>\r\n      </g>\r\n     </g>\r\n     <g id=\"text_4\">\r\n      <!-- 3 -->\r\n      <defs>\r\n       <path d=\"M 40.578125 39.3125 \r\nQ 47.65625 37.796875 51.625 33 \r\nQ 55.609375 28.21875 55.609375 21.1875 \r\nQ 55.609375 10.40625 48.1875 4.484375 \r\nQ 40.765625 -1.421875 27.09375 -1.421875 \r\nQ 22.515625 -1.421875 17.65625 -0.515625 \r\nQ 12.796875 0.390625 7.625 2.203125 \r\nL 7.625 11.71875 \r\nQ 11.71875 9.328125 16.59375 8.109375 \r\nQ 21.484375 6.890625 26.8125 6.890625 \r\nQ 36.078125 6.890625 40.9375 10.546875 \r\nQ 45.796875 14.203125 45.796875 21.1875 \r\nQ 45.796875 27.640625 41.28125 31.265625 \r\nQ 36.765625 34.90625 28.71875 34.90625 \r\nL 20.21875 34.90625 \r\nL 20.21875 43.015625 \r\nL 29.109375 43.015625 \r\nQ 36.375 43.015625 40.234375 45.921875 \r\nQ 44.09375 48.828125 44.09375 54.296875 \r\nQ 44.09375 59.90625 40.109375 62.90625 \r\nQ 36.140625 65.921875 28.71875 65.921875 \r\nQ 24.65625 65.921875 20.015625 65.03125 \r\nQ 15.375 64.15625 9.8125 62.3125 \r\nL 9.8125 71.09375 \r\nQ 15.4375 72.65625 20.34375 73.4375 \r\nQ 25.25 74.21875 29.59375 74.21875 \r\nQ 40.828125 74.21875 47.359375 69.109375 \r\nQ 53.90625 64.015625 53.90625 55.328125 \r\nQ 53.90625 49.265625 50.4375 45.09375 \r\nQ 46.96875 40.921875 40.578125 39.3125 \r\nz\r\n\" id=\"DejaVuSans-51\"/>\r\n      </defs>\r\n      <g style=\"fill:#ffffff;\" transform=\"translate(153.210349 254.356563)scale(0.1 -0.1)\">\r\n       <use xlink:href=\"#DejaVuSans-51\"/>\r\n      </g>\r\n     </g>\r\n    </g>\r\n    <g id=\"xtick_5\">\r\n     <g id=\"line2d_5\">\r\n      <g>\r\n       <use style=\"fill:#ffffff;stroke:#ffffff;stroke-width:0.8;\" x=\"185.378612\" xlink:href=\"#m8657a49e47\" y=\"239.758125\"/>\r\n      </g>\r\n     </g>\r\n     <g id=\"text_5\">\r\n      <!-- 4 -->\r\n      <defs>\r\n       <path d=\"M 37.796875 64.3125 \r\nL 12.890625 25.390625 \r\nL 37.796875 25.390625 \r\nz\r\nM 35.203125 72.90625 \r\nL 47.609375 72.90625 \r\nL 47.609375 25.390625 \r\nL 58.015625 25.390625 \r\nL 58.015625 17.1875 \r\nL 47.609375 17.1875 \r\nL 47.609375 0 \r\nL 37.796875 0 \r\nL 37.796875 17.1875 \r\nL 4.890625 17.1875 \r\nL 4.890625 26.703125 \r\nz\r\n\" id=\"DejaVuSans-52\"/>\r\n      </defs>\r\n      <g style=\"fill:#ffffff;\" transform=\"translate(182.197362 254.356563)scale(0.1 -0.1)\">\r\n       <use xlink:href=\"#DejaVuSans-52\"/>\r\n      </g>\r\n     </g>\r\n    </g>\r\n    <g id=\"xtick_6\">\r\n     <g id=\"line2d_6\">\r\n      <g>\r\n       <use style=\"fill:#ffffff;stroke:#ffffff;stroke-width:0.8;\" x=\"214.365625\" xlink:href=\"#m8657a49e47\" y=\"239.758125\"/>\r\n      </g>\r\n     </g>\r\n     <g id=\"text_6\">\r\n      <!-- 5 -->\r\n      <defs>\r\n       <path d=\"M 10.796875 72.90625 \r\nL 49.515625 72.90625 \r\nL 49.515625 64.59375 \r\nL 19.828125 64.59375 \r\nL 19.828125 46.734375 \r\nQ 21.96875 47.46875 24.109375 47.828125 \r\nQ 26.265625 48.1875 28.421875 48.1875 \r\nQ 40.625 48.1875 47.75 41.5 \r\nQ 54.890625 34.8125 54.890625 23.390625 \r\nQ 54.890625 11.625 47.5625 5.09375 \r\nQ 40.234375 -1.421875 26.90625 -1.421875 \r\nQ 22.3125 -1.421875 17.546875 -0.640625 \r\nQ 12.796875 0.140625 7.71875 1.703125 \r\nL 7.71875 11.625 \r\nQ 12.109375 9.234375 16.796875 8.0625 \r\nQ 21.484375 6.890625 26.703125 6.890625 \r\nQ 35.15625 6.890625 40.078125 11.328125 \r\nQ 45.015625 15.765625 45.015625 23.390625 \r\nQ 45.015625 31 40.078125 35.4375 \r\nQ 35.15625 39.890625 26.703125 39.890625 \r\nQ 22.75 39.890625 18.8125 39.015625 \r\nQ 14.890625 38.140625 10.796875 36.28125 \r\nz\r\n\" id=\"DejaVuSans-53\"/>\r\n      </defs>\r\n      <g style=\"fill:#ffffff;\" transform=\"translate(211.184375 254.356563)scale(0.1 -0.1)\">\r\n       <use xlink:href=\"#DejaVuSans-53\"/>\r\n      </g>\r\n     </g>\r\n    </g>\r\n    <g id=\"xtick_7\">\r\n     <g id=\"line2d_7\">\r\n      <g>\r\n       <use style=\"fill:#ffffff;stroke:#ffffff;stroke-width:0.8;\" x=\"243.352638\" xlink:href=\"#m8657a49e47\" y=\"239.758125\"/>\r\n      </g>\r\n     </g>\r\n     <g id=\"text_7\">\r\n      <!-- 6 -->\r\n      <defs>\r\n       <path d=\"M 33.015625 40.375 \r\nQ 26.375 40.375 22.484375 35.828125 \r\nQ 18.609375 31.296875 18.609375 23.390625 \r\nQ 18.609375 15.53125 22.484375 10.953125 \r\nQ 26.375 6.390625 33.015625 6.390625 \r\nQ 39.65625 6.390625 43.53125 10.953125 \r\nQ 47.40625 15.53125 47.40625 23.390625 \r\nQ 47.40625 31.296875 43.53125 35.828125 \r\nQ 39.65625 40.375 33.015625 40.375 \r\nz\r\nM 52.59375 71.296875 \r\nL 52.59375 62.3125 \r\nQ 48.875 64.0625 45.09375 64.984375 \r\nQ 41.3125 65.921875 37.59375 65.921875 \r\nQ 27.828125 65.921875 22.671875 59.328125 \r\nQ 17.53125 52.734375 16.796875 39.40625 \r\nQ 19.671875 43.65625 24.015625 45.921875 \r\nQ 28.375 48.1875 33.59375 48.1875 \r\nQ 44.578125 48.1875 50.953125 41.515625 \r\nQ 57.328125 34.859375 57.328125 23.390625 \r\nQ 57.328125 12.15625 50.6875 5.359375 \r\nQ 44.046875 -1.421875 33.015625 -1.421875 \r\nQ 20.359375 -1.421875 13.671875 8.265625 \r\nQ 6.984375 17.96875 6.984375 36.375 \r\nQ 6.984375 53.65625 15.1875 63.9375 \r\nQ 23.390625 74.21875 37.203125 74.21875 \r\nQ 40.921875 74.21875 44.703125 73.484375 \r\nQ 48.484375 72.75 52.59375 71.296875 \r\nz\r\n\" id=\"DejaVuSans-54\"/>\r\n      </defs>\r\n      <g style=\"fill:#ffffff;\" transform=\"translate(240.171388 254.356563)scale(0.1 -0.1)\">\r\n       <use xlink:href=\"#DejaVuSans-54\"/>\r\n      </g>\r\n     </g>\r\n    </g>\r\n    <g id=\"xtick_8\">\r\n     <g id=\"line2d_8\">\r\n      <g>\r\n       <use style=\"fill:#ffffff;stroke:#ffffff;stroke-width:0.8;\" x=\"272.339651\" xlink:href=\"#m8657a49e47\" y=\"239.758125\"/>\r\n      </g>\r\n     </g>\r\n     <g id=\"text_8\">\r\n      <!-- 7 -->\r\n      <defs>\r\n       <path d=\"M 8.203125 72.90625 \r\nL 55.078125 72.90625 \r\nL 55.078125 68.703125 \r\nL 28.609375 0 \r\nL 18.3125 0 \r\nL 43.21875 64.59375 \r\nL 8.203125 64.59375 \r\nz\r\n\" id=\"DejaVuSans-55\"/>\r\n      </defs>\r\n      <g style=\"fill:#ffffff;\" transform=\"translate(269.158401 254.356563)scale(0.1 -0.1)\">\r\n       <use xlink:href=\"#DejaVuSans-55\"/>\r\n      </g>\r\n     </g>\r\n    </g>\r\n    <g id=\"xtick_9\">\r\n     <g id=\"line2d_9\">\r\n      <g>\r\n       <use style=\"fill:#ffffff;stroke:#ffffff;stroke-width:0.8;\" x=\"301.326664\" xlink:href=\"#m8657a49e47\" y=\"239.758125\"/>\r\n      </g>\r\n     </g>\r\n     <g id=\"text_9\">\r\n      <!-- 8 -->\r\n      <defs>\r\n       <path d=\"M 31.78125 34.625 \r\nQ 24.75 34.625 20.71875 30.859375 \r\nQ 16.703125 27.09375 16.703125 20.515625 \r\nQ 16.703125 13.921875 20.71875 10.15625 \r\nQ 24.75 6.390625 31.78125 6.390625 \r\nQ 38.8125 6.390625 42.859375 10.171875 \r\nQ 46.921875 13.96875 46.921875 20.515625 \r\nQ 46.921875 27.09375 42.890625 30.859375 \r\nQ 38.875 34.625 31.78125 34.625 \r\nz\r\nM 21.921875 38.8125 \r\nQ 15.578125 40.375 12.03125 44.71875 \r\nQ 8.5 49.078125 8.5 55.328125 \r\nQ 8.5 64.0625 14.71875 69.140625 \r\nQ 20.953125 74.21875 31.78125 74.21875 \r\nQ 42.671875 74.21875 48.875 69.140625 \r\nQ 55.078125 64.0625 55.078125 55.328125 \r\nQ 55.078125 49.078125 51.53125 44.71875 \r\nQ 48 40.375 41.703125 38.8125 \r\nQ 48.828125 37.15625 52.796875 32.3125 \r\nQ 56.78125 27.484375 56.78125 20.515625 \r\nQ 56.78125 9.90625 50.3125 4.234375 \r\nQ 43.84375 -1.421875 31.78125 -1.421875 \r\nQ 19.734375 -1.421875 13.25 4.234375 \r\nQ 6.78125 9.90625 6.78125 20.515625 \r\nQ 6.78125 27.484375 10.78125 32.3125 \r\nQ 14.796875 37.15625 21.921875 38.8125 \r\nz\r\nM 18.3125 54.390625 \r\nQ 18.3125 48.734375 21.84375 45.5625 \r\nQ 25.390625 42.390625 31.78125 42.390625 \r\nQ 38.140625 42.390625 41.71875 45.5625 \r\nQ 45.3125 48.734375 45.3125 54.390625 \r\nQ 45.3125 60.0625 41.71875 63.234375 \r\nQ 38.140625 66.40625 31.78125 66.40625 \r\nQ 25.390625 66.40625 21.84375 63.234375 \r\nQ 18.3125 60.0625 18.3125 54.390625 \r\nz\r\n\" id=\"DejaVuSans-56\"/>\r\n      </defs>\r\n      <g style=\"fill:#ffffff;\" transform=\"translate(298.145414 254.356563)scale(0.1 -0.1)\">\r\n       <use xlink:href=\"#DejaVuSans-56\"/>\r\n      </g>\r\n     </g>\r\n    </g>\r\n    <g id=\"xtick_10\">\r\n     <g id=\"line2d_10\">\r\n      <g>\r\n       <use style=\"fill:#ffffff;stroke:#ffffff;stroke-width:0.8;\" x=\"330.313677\" xlink:href=\"#m8657a49e47\" y=\"239.758125\"/>\r\n      </g>\r\n     </g>\r\n     <g id=\"text_10\">\r\n      <!-- 9 -->\r\n      <defs>\r\n       <path d=\"M 10.984375 1.515625 \r\nL 10.984375 10.5 \r\nQ 14.703125 8.734375 18.5 7.8125 \r\nQ 22.3125 6.890625 25.984375 6.890625 \r\nQ 35.75 6.890625 40.890625 13.453125 \r\nQ 46.046875 20.015625 46.78125 33.40625 \r\nQ 43.953125 29.203125 39.59375 26.953125 \r\nQ 35.25 24.703125 29.984375 24.703125 \r\nQ 19.046875 24.703125 12.671875 31.3125 \r\nQ 6.296875 37.9375 6.296875 49.421875 \r\nQ 6.296875 60.640625 12.9375 67.421875 \r\nQ 19.578125 74.21875 30.609375 74.21875 \r\nQ 43.265625 74.21875 49.921875 64.515625 \r\nQ 56.59375 54.828125 56.59375 36.375 \r\nQ 56.59375 19.140625 48.40625 8.859375 \r\nQ 40.234375 -1.421875 26.421875 -1.421875 \r\nQ 22.703125 -1.421875 18.890625 -0.6875 \r\nQ 15.09375 0.046875 10.984375 1.515625 \r\nz\r\nM 30.609375 32.421875 \r\nQ 37.25 32.421875 41.125 36.953125 \r\nQ 45.015625 41.5 45.015625 49.421875 \r\nQ 45.015625 57.28125 41.125 61.84375 \r\nQ 37.25 66.40625 30.609375 66.40625 \r\nQ 23.96875 66.40625 20.09375 61.84375 \r\nQ 16.21875 57.28125 16.21875 49.421875 \r\nQ 16.21875 41.5 20.09375 36.953125 \r\nQ 23.96875 32.421875 30.609375 32.421875 \r\nz\r\n\" id=\"DejaVuSans-57\"/>\r\n      </defs>\r\n      <g style=\"fill:#ffffff;\" transform=\"translate(327.132427 254.356563)scale(0.1 -0.1)\">\r\n       <use xlink:href=\"#DejaVuSans-57\"/>\r\n      </g>\r\n     </g>\r\n    </g>\r\n    <g id=\"xtick_11\">\r\n     <g id=\"line2d_11\">\r\n      <g>\r\n       <use style=\"fill:#ffffff;stroke:#ffffff;stroke-width:0.8;\" x=\"359.30069\" xlink:href=\"#m8657a49e47\" y=\"239.758125\"/>\r\n      </g>\r\n     </g>\r\n     <g id=\"text_11\">\r\n      <!-- 10 -->\r\n      <g style=\"fill:#ffffff;\" transform=\"translate(352.93819 254.356563)scale(0.1 -0.1)\">\r\n       <use xlink:href=\"#DejaVuSans-49\"/>\r\n       <use x=\"63.623047\" xlink:href=\"#DejaVuSans-48\"/>\r\n      </g>\r\n     </g>\r\n    </g>\r\n   </g>\r\n   <g id=\"matplotlib.axis_2\">\r\n    <g id=\"ytick_1\">\r\n     <g id=\"line2d_12\">\r\n      <defs>\r\n       <path d=\"M 0 0 \r\nL -3.5 0 \r\n\" id=\"m9bb694d59f\" style=\"stroke:#ffffff;stroke-width:0.8;\"/>\r\n      </defs>\r\n      <g>\r\n       <use style=\"fill:#ffffff;stroke:#ffffff;stroke-width:0.8;\" x=\"46.965625\" xlink:href=\"#m9bb694d59f\" y=\"239.758125\"/>\r\n      </g>\r\n     </g>\r\n     <g id=\"text_12\">\r\n      <!-- 0 -->\r\n      <g style=\"fill:#ffffff;\" transform=\"translate(33.603125 243.557344)scale(0.1 -0.1)\">\r\n       <use xlink:href=\"#DejaVuSans-48\"/>\r\n      </g>\r\n     </g>\r\n    </g>\r\n    <g id=\"ytick_2\">\r\n     <g id=\"line2d_13\">\r\n      <g>\r\n       <use style=\"fill:#ffffff;stroke:#ffffff;stroke-width:0.8;\" x=\"46.965625\" xlink:href=\"#m9bb694d59f\" y=\"219.049554\"/>\r\n      </g>\r\n     </g>\r\n     <g id=\"text_13\">\r\n      <!-- 10 -->\r\n      <g style=\"fill:#ffffff;\" transform=\"translate(27.240625 222.848772)scale(0.1 -0.1)\">\r\n       <use xlink:href=\"#DejaVuSans-49\"/>\r\n       <use x=\"63.623047\" xlink:href=\"#DejaVuSans-48\"/>\r\n      </g>\r\n     </g>\r\n    </g>\r\n    <g id=\"ytick_3\">\r\n     <g id=\"line2d_14\">\r\n      <g>\r\n       <use style=\"fill:#ffffff;stroke:#ffffff;stroke-width:0.8;\" x=\"46.965625\" xlink:href=\"#m9bb694d59f\" y=\"198.340982\"/>\r\n      </g>\r\n     </g>\r\n     <g id=\"text_14\">\r\n      <!-- 20 -->\r\n      <g style=\"fill:#ffffff;\" transform=\"translate(27.240625 202.140201)scale(0.1 -0.1)\">\r\n       <use xlink:href=\"#DejaVuSans-50\"/>\r\n       <use x=\"63.623047\" xlink:href=\"#DejaVuSans-48\"/>\r\n      </g>\r\n     </g>\r\n    </g>\r\n    <g id=\"ytick_4\">\r\n     <g id=\"line2d_15\">\r\n      <g>\r\n       <use style=\"fill:#ffffff;stroke:#ffffff;stroke-width:0.8;\" x=\"46.965625\" xlink:href=\"#m9bb694d59f\" y=\"177.632411\"/>\r\n      </g>\r\n     </g>\r\n     <g id=\"text_15\">\r\n      <!-- 30 -->\r\n      <g style=\"fill:#ffffff;\" transform=\"translate(27.240625 181.431629)scale(0.1 -0.1)\">\r\n       <use xlink:href=\"#DejaVuSans-51\"/>\r\n       <use x=\"63.623047\" xlink:href=\"#DejaVuSans-48\"/>\r\n      </g>\r\n     </g>\r\n    </g>\r\n    <g id=\"ytick_5\">\r\n     <g id=\"line2d_16\">\r\n      <g>\r\n       <use style=\"fill:#ffffff;stroke:#ffffff;stroke-width:0.8;\" x=\"46.965625\" xlink:href=\"#m9bb694d59f\" y=\"156.923839\"/>\r\n      </g>\r\n     </g>\r\n     <g id=\"text_16\">\r\n      <!-- 40 -->\r\n      <g style=\"fill:#ffffff;\" transform=\"translate(27.240625 160.723058)scale(0.1 -0.1)\">\r\n       <use xlink:href=\"#DejaVuSans-52\"/>\r\n       <use x=\"63.623047\" xlink:href=\"#DejaVuSans-48\"/>\r\n      </g>\r\n     </g>\r\n    </g>\r\n    <g id=\"ytick_6\">\r\n     <g id=\"line2d_17\">\r\n      <g>\r\n       <use style=\"fill:#ffffff;stroke:#ffffff;stroke-width:0.8;\" x=\"46.965625\" xlink:href=\"#m9bb694d59f\" y=\"136.215268\"/>\r\n      </g>\r\n     </g>\r\n     <g id=\"text_17\">\r\n      <!-- 50 -->\r\n      <g style=\"fill:#ffffff;\" transform=\"translate(27.240625 140.014487)scale(0.1 -0.1)\">\r\n       <use xlink:href=\"#DejaVuSans-53\"/>\r\n       <use x=\"63.623047\" xlink:href=\"#DejaVuSans-48\"/>\r\n      </g>\r\n     </g>\r\n    </g>\r\n    <g id=\"ytick_7\">\r\n     <g id=\"line2d_18\">\r\n      <g>\r\n       <use style=\"fill:#ffffff;stroke:#ffffff;stroke-width:0.8;\" x=\"46.965625\" xlink:href=\"#m9bb694d59f\" y=\"115.506696\"/>\r\n      </g>\r\n     </g>\r\n     <g id=\"text_18\">\r\n      <!-- 60 -->\r\n      <g style=\"fill:#ffffff;\" transform=\"translate(27.240625 119.305915)scale(0.1 -0.1)\">\r\n       <use xlink:href=\"#DejaVuSans-54\"/>\r\n       <use x=\"63.623047\" xlink:href=\"#DejaVuSans-48\"/>\r\n      </g>\r\n     </g>\r\n    </g>\r\n    <g id=\"ytick_8\">\r\n     <g id=\"line2d_19\">\r\n      <g>\r\n       <use style=\"fill:#ffffff;stroke:#ffffff;stroke-width:0.8;\" x=\"46.965625\" xlink:href=\"#m9bb694d59f\" y=\"94.798125\"/>\r\n      </g>\r\n     </g>\r\n     <g id=\"text_19\">\r\n      <!-- 70 -->\r\n      <g style=\"fill:#ffffff;\" transform=\"translate(27.240625 98.597344)scale(0.1 -0.1)\">\r\n       <use xlink:href=\"#DejaVuSans-55\"/>\r\n       <use x=\"63.623047\" xlink:href=\"#DejaVuSans-48\"/>\r\n      </g>\r\n     </g>\r\n    </g>\r\n    <g id=\"ytick_9\">\r\n     <g id=\"line2d_20\">\r\n      <g>\r\n       <use style=\"fill:#ffffff;stroke:#ffffff;stroke-width:0.8;\" x=\"46.965625\" xlink:href=\"#m9bb694d59f\" y=\"74.089554\"/>\r\n      </g>\r\n     </g>\r\n     <g id=\"text_20\">\r\n      <!-- 80 -->\r\n      <g style=\"fill:#ffffff;\" transform=\"translate(27.240625 77.888772)scale(0.1 -0.1)\">\r\n       <use xlink:href=\"#DejaVuSans-56\"/>\r\n       <use x=\"63.623047\" xlink:href=\"#DejaVuSans-48\"/>\r\n      </g>\r\n     </g>\r\n    </g>\r\n    <g id=\"ytick_10\">\r\n     <g id=\"line2d_21\">\r\n      <g>\r\n       <use style=\"fill:#ffffff;stroke:#ffffff;stroke-width:0.8;\" x=\"46.965625\" xlink:href=\"#m9bb694d59f\" y=\"53.380982\"/>\r\n      </g>\r\n     </g>\r\n     <g id=\"text_21\">\r\n      <!-- 90 -->\r\n      <g style=\"fill:#ffffff;\" transform=\"translate(27.240625 57.180201)scale(0.1 -0.1)\">\r\n       <use xlink:href=\"#DejaVuSans-57\"/>\r\n       <use x=\"63.623047\" xlink:href=\"#DejaVuSans-48\"/>\r\n      </g>\r\n     </g>\r\n    </g>\r\n    <g id=\"ytick_11\">\r\n     <g id=\"line2d_22\">\r\n      <g>\r\n       <use style=\"fill:#ffffff;stroke:#ffffff;stroke-width:0.8;\" x=\"46.965625\" xlink:href=\"#m9bb694d59f\" y=\"32.672411\"/>\r\n      </g>\r\n     </g>\r\n     <g id=\"text_22\">\r\n      <!-- 100 -->\r\n      <g style=\"fill:#ffffff;\" transform=\"translate(20.878125 36.471629)scale(0.1 -0.1)\">\r\n       <use xlink:href=\"#DejaVuSans-49\"/>\r\n       <use x=\"63.623047\" xlink:href=\"#DejaVuSans-48\"/>\r\n       <use x=\"127.246094\" xlink:href=\"#DejaVuSans-48\"/>\r\n      </g>\r\n     </g>\r\n    </g>\r\n    <g id=\"text_23\">\r\n     <!-- % -->\r\n     <defs>\r\n      <path d=\"M 72.703125 32.078125 \r\nQ 68.453125 32.078125 66.03125 28.46875 \r\nQ 63.625 24.859375 63.625 18.40625 \r\nQ 63.625 12.0625 66.03125 8.421875 \r\nQ 68.453125 4.78125 72.703125 4.78125 \r\nQ 76.859375 4.78125 79.265625 8.421875 \r\nQ 81.6875 12.0625 81.6875 18.40625 \r\nQ 81.6875 24.8125 79.265625 28.4375 \r\nQ 76.859375 32.078125 72.703125 32.078125 \r\nz\r\nM 72.703125 38.28125 \r\nQ 80.421875 38.28125 84.953125 32.90625 \r\nQ 89.5 27.546875 89.5 18.40625 \r\nQ 89.5 9.28125 84.9375 3.921875 \r\nQ 80.375 -1.421875 72.703125 -1.421875 \r\nQ 64.890625 -1.421875 60.34375 3.921875 \r\nQ 55.8125 9.28125 55.8125 18.40625 \r\nQ 55.8125 27.59375 60.375 32.9375 \r\nQ 64.9375 38.28125 72.703125 38.28125 \r\nz\r\nM 22.3125 68.015625 \r\nQ 18.109375 68.015625 15.6875 64.375 \r\nQ 13.28125 60.75 13.28125 54.390625 \r\nQ 13.28125 47.953125 15.671875 44.328125 \r\nQ 18.0625 40.71875 22.3125 40.71875 \r\nQ 26.5625 40.71875 28.96875 44.328125 \r\nQ 31.390625 47.953125 31.390625 54.390625 \r\nQ 31.390625 60.6875 28.953125 64.34375 \r\nQ 26.515625 68.015625 22.3125 68.015625 \r\nz\r\nM 66.40625 74.21875 \r\nL 74.21875 74.21875 \r\nL 28.609375 -1.421875 \r\nL 20.796875 -1.421875 \r\nz\r\nM 22.3125 74.21875 \r\nQ 30.03125 74.21875 34.609375 68.875 \r\nQ 39.203125 63.53125 39.203125 54.390625 \r\nQ 39.203125 45.171875 34.640625 39.84375 \r\nQ 30.078125 34.515625 22.3125 34.515625 \r\nQ 14.546875 34.515625 10.03125 39.859375 \r\nQ 5.515625 45.21875 5.515625 54.390625 \r\nQ 5.515625 63.484375 10.046875 68.84375 \r\nQ 14.59375 74.21875 22.3125 74.21875 \r\nz\r\n\" id=\"DejaVuSans-37\"/>\r\n     </defs>\r\n     <g style=\"fill:#ffffff;\" transform=\"translate(14.798438 135.788906)rotate(-90)scale(0.1 -0.1)\">\r\n      <use xlink:href=\"#DejaVuSans-37\"/>\r\n     </g>\r\n    </g>\r\n   </g>\r\n   <g id=\"patch_14\">\r\n    <path d=\"M 46.965625 239.758125 \r\nL 46.965625 22.318125 \r\n\" style=\"fill:none;stroke:#ffffff;stroke-linecap:square;stroke-linejoin:miter;stroke-width:0.8;\"/>\r\n   </g>\r\n   <g id=\"patch_15\">\r\n    <path d=\"M 381.765625 239.758125 \r\nL 381.765625 22.318125 \r\n\" style=\"fill:none;stroke:#ffffff;stroke-linecap:square;stroke-linejoin:miter;stroke-width:0.8;\"/>\r\n   </g>\r\n   <g id=\"patch_16\">\r\n    <path d=\"M 46.965625 239.758125 \r\nL 381.765625 239.758125 \r\n\" style=\"fill:none;stroke:#ffffff;stroke-linecap:square;stroke-linejoin:miter;stroke-width:0.8;\"/>\r\n   </g>\r\n   <g id=\"patch_17\">\r\n    <path d=\"M 46.965625 22.318125 \r\nL 381.765625 22.318125 \r\n\" style=\"fill:none;stroke:#ffffff;stroke-linecap:square;stroke-linejoin:miter;stroke-width:0.8;\"/>\r\n   </g>\r\n   <g id=\"text_24\">\r\n    <!-- TESTONS CA -->\r\n    <defs>\r\n     <path d=\"M -0.296875 72.90625 \r\nL 61.375 72.90625 \r\nL 61.375 64.59375 \r\nL 35.5 64.59375 \r\nL 35.5 0 \r\nL 25.59375 0 \r\nL 25.59375 64.59375 \r\nL -0.296875 64.59375 \r\nz\r\n\" id=\"DejaVuSans-84\"/>\r\n     <path d=\"M 9.8125 72.90625 \r\nL 55.90625 72.90625 \r\nL 55.90625 64.59375 \r\nL 19.671875 64.59375 \r\nL 19.671875 43.015625 \r\nL 54.390625 43.015625 \r\nL 54.390625 34.71875 \r\nL 19.671875 34.71875 \r\nL 19.671875 8.296875 \r\nL 56.78125 8.296875 \r\nL 56.78125 0 \r\nL 9.8125 0 \r\nz\r\n\" id=\"DejaVuSans-69\"/>\r\n     <path d=\"M 53.515625 70.515625 \r\nL 53.515625 60.890625 \r\nQ 47.90625 63.578125 42.921875 64.890625 \r\nQ 37.9375 66.21875 33.296875 66.21875 \r\nQ 25.25 66.21875 20.875 63.09375 \r\nQ 16.5 59.96875 16.5 54.203125 \r\nQ 16.5 49.359375 19.40625 46.890625 \r\nQ 22.3125 44.4375 30.421875 42.921875 \r\nL 36.375 41.703125 \r\nQ 47.40625 39.59375 52.65625 34.296875 \r\nQ 57.90625 29 57.90625 20.125 \r\nQ 57.90625 9.515625 50.796875 4.046875 \r\nQ 43.703125 -1.421875 29.984375 -1.421875 \r\nQ 24.8125 -1.421875 18.96875 -0.25 \r\nQ 13.140625 0.921875 6.890625 3.21875 \r\nL 6.890625 13.375 \r\nQ 12.890625 10.015625 18.65625 8.296875 \r\nQ 24.421875 6.59375 29.984375 6.59375 \r\nQ 38.421875 6.59375 43.015625 9.90625 \r\nQ 47.609375 13.234375 47.609375 19.390625 \r\nQ 47.609375 24.75 44.3125 27.78125 \r\nQ 41.015625 30.8125 33.5 32.328125 \r\nL 27.484375 33.5 \r\nQ 16.453125 35.6875 11.515625 40.375 \r\nQ 6.59375 45.0625 6.59375 53.421875 \r\nQ 6.59375 63.09375 13.40625 68.65625 \r\nQ 20.21875 74.21875 32.171875 74.21875 \r\nQ 37.3125 74.21875 42.625 73.28125 \r\nQ 47.953125 72.359375 53.515625 70.515625 \r\nz\r\n\" id=\"DejaVuSans-83\"/>\r\n     <path d=\"M 39.40625 66.21875 \r\nQ 28.65625 66.21875 22.328125 58.203125 \r\nQ 16.015625 50.203125 16.015625 36.375 \r\nQ 16.015625 22.609375 22.328125 14.59375 \r\nQ 28.65625 6.59375 39.40625 6.59375 \r\nQ 50.140625 6.59375 56.421875 14.59375 \r\nQ 62.703125 22.609375 62.703125 36.375 \r\nQ 62.703125 50.203125 56.421875 58.203125 \r\nQ 50.140625 66.21875 39.40625 66.21875 \r\nz\r\nM 39.40625 74.21875 \r\nQ 54.734375 74.21875 63.90625 63.9375 \r\nQ 73.09375 53.65625 73.09375 36.375 \r\nQ 73.09375 19.140625 63.90625 8.859375 \r\nQ 54.734375 -1.421875 39.40625 -1.421875 \r\nQ 24.03125 -1.421875 14.8125 8.828125 \r\nQ 5.609375 19.09375 5.609375 36.375 \r\nQ 5.609375 53.65625 14.8125 63.9375 \r\nQ 24.03125 74.21875 39.40625 74.21875 \r\nz\r\n\" id=\"DejaVuSans-79\"/>\r\n     <path d=\"M 9.8125 72.90625 \r\nL 23.09375 72.90625 \r\nL 55.421875 11.921875 \r\nL 55.421875 72.90625 \r\nL 64.984375 72.90625 \r\nL 64.984375 0 \r\nL 51.703125 0 \r\nL 19.390625 60.984375 \r\nL 19.390625 0 \r\nL 9.8125 0 \r\nz\r\n\" id=\"DejaVuSans-78\"/>\r\n     <path id=\"DejaVuSans-32\"/>\r\n     <path d=\"M 64.40625 67.28125 \r\nL 64.40625 56.890625 \r\nQ 59.421875 61.53125 53.78125 63.8125 \r\nQ 48.140625 66.109375 41.796875 66.109375 \r\nQ 29.296875 66.109375 22.65625 58.46875 \r\nQ 16.015625 50.828125 16.015625 36.375 \r\nQ 16.015625 21.96875 22.65625 14.328125 \r\nQ 29.296875 6.6875 41.796875 6.6875 \r\nQ 48.140625 6.6875 53.78125 8.984375 \r\nQ 59.421875 11.28125 64.40625 15.921875 \r\nL 64.40625 5.609375 \r\nQ 59.234375 2.09375 53.4375 0.328125 \r\nQ 47.65625 -1.421875 41.21875 -1.421875 \r\nQ 24.65625 -1.421875 15.125 8.703125 \r\nQ 5.609375 18.84375 5.609375 36.375 \r\nQ 5.609375 53.953125 15.125 64.078125 \r\nQ 24.65625 74.21875 41.21875 74.21875 \r\nQ 47.75 74.21875 53.53125 72.484375 \r\nQ 59.328125 70.75 64.40625 67.28125 \r\nz\r\n\" id=\"DejaVuSans-67\"/>\r\n     <path d=\"M 34.1875 63.1875 \r\nL 20.796875 26.90625 \r\nL 47.609375 26.90625 \r\nz\r\nM 28.609375 72.90625 \r\nL 39.796875 72.90625 \r\nL 67.578125 0 \r\nL 57.328125 0 \r\nL 50.6875 18.703125 \r\nL 17.828125 18.703125 \r\nL 11.1875 0 \r\nL 0.78125 0 \r\nz\r\n\" id=\"DejaVuSans-65\"/>\r\n    </defs>\r\n    <g style=\"fill:#ffffff;\" transform=\"translate(176.214063 16.318125)scale(0.12 -0.12)\">\r\n     <use xlink:href=\"#DejaVuSans-84\"/>\r\n     <use x=\"61.083984\" xlink:href=\"#DejaVuSans-69\"/>\r\n     <use x=\"124.267578\" xlink:href=\"#DejaVuSans-83\"/>\r\n     <use x=\"187.744141\" xlink:href=\"#DejaVuSans-84\"/>\r\n     <use x=\"248.828125\" xlink:href=\"#DejaVuSans-79\"/>\r\n     <use x=\"327.539062\" xlink:href=\"#DejaVuSans-78\"/>\r\n     <use x=\"402.34375\" xlink:href=\"#DejaVuSans-83\"/>\r\n     <use x=\"465.820312\" xlink:href=\"#DejaVuSans-32\"/>\r\n     <use x=\"497.607422\" xlink:href=\"#DejaVuSans-67\"/>\r\n     <use x=\"567.431641\" xlink:href=\"#DejaVuSans-65\"/>\r\n    </g>\r\n   </g>\r\n  </g>\r\n </g>\r\n <defs>\r\n  <clipPath id=\"p8e80cc2803\">\r\n   <rect height=\"217.44\" width=\"334.8\" x=\"46.965625\" y=\"22.318125\"/>\r\n  </clipPath>\r\n </defs>\r\n</svg>\r\n",
      "text/plain": "<Figure size 432x288 with 1 Axes>"
     },
     "metadata": {},
     "output_type": "display_data"
    }
   ],
   "source": [
    "def beauxDessins(nbFound, nbTheori, title='% Seat found by plane'):\n",
    "    tauxReu = []\n",
    "    planes_names = []\n",
    "    for plane in nbFound:\n",
    "        tauxReu.append(nbFound[plane]/nbTheori[plane]*100)\n",
    "        planes_names.append(plane)\n",
    "    print(tauxReu)\n",
    "\n",
    "    ind = np.arange(len(tauxReu))\n",
    "    width = 0.5\n",
    "    color = []\n",
    "    for i in tauxReu:\n",
    "        color.append([(1-i/100), i/100, 0])\n",
    "\n",
    "    color=[0,1,1]\n",
    "    beauDessin = plt.bar(ind, tauxReu, width, color=color)\n",
    "    plt.ylabel('%')\n",
    "    plt.title(title)\n",
    "    plt.xticks(ind, ind)\n",
    "    plt.yticks(np.arange(0, 101, 10))\n",
    "\n",
    "    plt.show()\n",
    "\n",
    "beauxDessins(nbSeatFound, nbSeatTheori, title = 'TESTONS CA')"
   ]
  },
  {
   "cell_type": "markdown",
   "execution_count": null,
   "metadata": {},
   "outputs": [],
   "source": [
    "##### Compteur d'élément"
   ]
  },
  {
   "cell_type": "code",
   "execution_count": 24,
   "metadata": {},
   "outputs": [
    {
     "name": "stdout",
     "output_type": "stream",
     "text": "{'Aer_Lingus_Airbus_A330-300_A_plane6.jpg': 24}\n[58.333333333333336, 8.333333333333332, 95.65217391304348, 42.857142857142854, 36.0, 85.71428571428571]\n"
    },
    {
     "data": {
      "image/png": "[encoded data removed]",
      "image/svg+xml": "<?xml version=\"1.0\" encoding=\"utf-8\" standalone=\"no\"?>\r\n<!DOCTYPE svg PUBLIC \"-//W3C//DTD SVG 1.1//EN\"\r\n  \"http://www.w3.org/Graphics/SVG/1.1/DTD/svg11.dtd\">\r\n<!-- Created with matplotlib (https://matplotlib.org/) -->\r\n<svg height=\"263.63625pt\" version=\"1.1\" viewBox=\"0 0 388.965625 263.63625\" width=\"388.965625pt\" xmlns=\"http://www.w3.org/2000/svg\" xmlns:xlink=\"http://www.w3.org/1999/xlink\">\r\n <defs>\r\n  <style type=\"text/css\">\r\n*{stroke-linecap:butt;stroke-linejoin:round;white-space:pre;}\r\n  </style>\r\n </defs>\r\n <g id=\"figure_1\">\r\n  <g id=\"patch_1\">\r\n   <path d=\"M -0 263.63625 \r\nL 388.965625 263.63625 \r\nL 388.965625 0 \r\nL -0 0 \r\nz\r\n\"/>\r\n  </g>\r\n  <g id=\"axes_1\">\r\n   <g id=\"patch_2\">\r\n    <path d=\"M 46.965625 239.758125 \r\nL 381.765625 239.758125 \r\nL 381.765625 22.318125 \r\nL 46.965625 22.318125 \r\nz\r\n\"/>\r\n   </g>\r\n   <g id=\"patch_3\">\r\n    <path clip-path=\"url(#pf527cbce87)\" d=\"M 62.183807 239.758125 \r\nL 89.853228 239.758125 \r\nL 89.853228 113.467216 \r\nL 62.183807 113.467216 \r\nz\r\n\" style=\"fill:#6a9500;\"/>\r\n   </g>\r\n   <g id=\"patch_4\">\r\n    <path clip-path=\"url(#pf527cbce87)\" d=\"M 117.52265 239.758125 \r\nL 145.192071 239.758125 \r\nL 145.192071 221.716567 \r\nL 117.52265 221.716567 \r\nz\r\n\" style=\"fill:#ea1500;\"/>\r\n   </g>\r\n   <g id=\"patch_5\">\r\n    <path clip-path=\"url(#pf527cbce87)\" d=\"M 172.861493 239.758125 \r\nL 200.530914 239.758125 \r\nL 200.530914 32.672411 \r\nL 172.861493 32.672411 \r\nz\r\n\" style=\"fill:#0bf400;\"/>\r\n   </g>\r\n   <g id=\"patch_6\">\r\n    <path clip-path=\"url(#pf527cbce87)\" d=\"M 228.200336 239.758125 \r\nL 255.869757 239.758125 \r\nL 255.869757 146.972967 \r\nL 228.200336 146.972967 \r\nz\r\n\" style=\"fill:#926d00;\"/>\r\n   </g>\r\n   <g id=\"patch_7\">\r\n    <path clip-path=\"url(#pf527cbce87)\" d=\"M 283.539179 239.758125 \r\nL 311.2086 239.758125 \r\nL 311.2086 161.818593 \r\nL 283.539179 161.818593 \r\nz\r\n\" style=\"fill:#a35c00;\"/>\r\n   </g>\r\n   <g id=\"patch_8\">\r\n    <path clip-path=\"url(#pf527cbce87)\" d=\"M 338.878022 239.758125 \r\nL 366.547443 239.758125 \r\nL 366.547443 54.18781 \r\nL 338.878022 54.18781 \r\nz\r\n\" style=\"fill:#24db00;\"/>\r\n   </g>\r\n   <g id=\"matplotlib.axis_1\">\r\n    <g id=\"xtick_1\">\r\n     <g id=\"line2d_1\">\r\n      <defs>\r\n       <path d=\"M 0 0 \r\nL 0 3.5 \r\n\" id=\"me9bcee17cd\" style=\"stroke:#ffffff;stroke-width:0.8;\"/>\r\n      </defs>\r\n      <g>\r\n       <use style=\"fill:#ffffff;stroke:#ffffff;stroke-width:0.8;\" x=\"76.018518\" xlink:href=\"#me9bcee17cd\" y=\"239.758125\"/>\r\n      </g>\r\n     </g>\r\n     <g id=\"text_1\">\r\n      <!-- 0 -->\r\n      <defs>\r\n       <path d=\"M 31.78125 66.40625 \r\nQ 24.171875 66.40625 20.328125 58.90625 \r\nQ 16.5 51.421875 16.5 36.375 \r\nQ 16.5 21.390625 20.328125 13.890625 \r\nQ 24.171875 6.390625 31.78125 6.390625 \r\nQ 39.453125 6.390625 43.28125 13.890625 \r\nQ 47.125 21.390625 47.125 36.375 \r\nQ 47.125 51.421875 43.28125 58.90625 \r\nQ 39.453125 66.40625 31.78125 66.40625 \r\nz\r\nM 31.78125 74.21875 \r\nQ 44.046875 74.21875 50.515625 64.515625 \r\nQ 56.984375 54.828125 56.984375 36.375 \r\nQ 56.984375 17.96875 50.515625 8.265625 \r\nQ 44.046875 -1.421875 31.78125 -1.421875 \r\nQ 19.53125 -1.421875 13.0625 8.265625 \r\nQ 6.59375 17.96875 6.59375 36.375 \r\nQ 6.59375 54.828125 13.0625 64.515625 \r\nQ 19.53125 74.21875 31.78125 74.21875 \r\nz\r\n\" id=\"DejaVuSans-48\"/>\r\n      </defs>\r\n      <g style=\"fill:#ffffff;\" transform=\"translate(72.837268 254.356563)scale(0.1 -0.1)\">\r\n       <use xlink:href=\"#DejaVuSans-48\"/>\r\n      </g>\r\n     </g>\r\n    </g>\r\n    <g id=\"xtick_2\">\r\n     <g id=\"line2d_2\">\r\n      <g>\r\n       <use style=\"fill:#ffffff;stroke:#ffffff;stroke-width:0.8;\" x=\"131.357361\" xlink:href=\"#me9bcee17cd\" y=\"239.758125\"/>\r\n      </g>\r\n     </g>\r\n     <g id=\"text_2\">\r\n      <!-- 1 -->\r\n      <defs>\r\n       <path d=\"M 12.40625 8.296875 \r\nL 28.515625 8.296875 \r\nL 28.515625 63.921875 \r\nL 10.984375 60.40625 \r\nL 10.984375 69.390625 \r\nL 28.421875 72.90625 \r\nL 38.28125 72.90625 \r\nL 38.28125 8.296875 \r\nL 54.390625 8.296875 \r\nL 54.390625 0 \r\nL 12.40625 0 \r\nz\r\n\" id=\"DejaVuSans-49\"/>\r\n      </defs>\r\n      <g style=\"fill:#ffffff;\" transform=\"translate(128.176111 254.356563)scale(0.1 -0.1)\">\r\n       <use xlink:href=\"#DejaVuSans-49\"/>\r\n      </g>\r\n     </g>\r\n    </g>\r\n    <g id=\"xtick_3\">\r\n     <g id=\"line2d_3\">\r\n      <g>\r\n       <use style=\"fill:#ffffff;stroke:#ffffff;stroke-width:0.8;\" x=\"186.696204\" xlink:href=\"#me9bcee17cd\" y=\"239.758125\"/>\r\n      </g>\r\n     </g>\r\n     <g id=\"text_3\">\r\n      <!-- 2 -->\r\n      <defs>\r\n       <path d=\"M 19.1875 8.296875 \r\nL 53.609375 8.296875 \r\nL 53.609375 0 \r\nL 7.328125 0 \r\nL 7.328125 8.296875 \r\nQ 12.9375 14.109375 22.625 23.890625 \r\nQ 32.328125 33.6875 34.8125 36.53125 \r\nQ 39.546875 41.84375 41.421875 45.53125 \r\nQ 43.3125 49.21875 43.3125 52.78125 \r\nQ 43.3125 58.59375 39.234375 62.25 \r\nQ 35.15625 65.921875 28.609375 65.921875 \r\nQ 23.96875 65.921875 18.8125 64.3125 \r\nQ 13.671875 62.703125 7.8125 59.421875 \r\nL 7.8125 69.390625 \r\nQ 13.765625 71.78125 18.9375 73 \r\nQ 24.125 74.21875 28.421875 74.21875 \r\nQ 39.75 74.21875 46.484375 68.546875 \r\nQ 53.21875 62.890625 53.21875 53.421875 \r\nQ 53.21875 48.921875 51.53125 44.890625 \r\nQ 49.859375 40.875 45.40625 35.40625 \r\nQ 44.1875 33.984375 37.640625 27.21875 \r\nQ 31.109375 20.453125 19.1875 8.296875 \r\nz\r\n\" id=\"DejaVuSans-50\"/>\r\n      </defs>\r\n      <g style=\"fill:#ffffff;\" transform=\"translate(183.514954 254.356563)scale(0.1 -0.1)\">\r\n       <use xlink:href=\"#DejaVuSans-50\"/>\r\n      </g>\r\n     </g>\r\n    </g>\r\n    <g id=\"xtick_4\">\r\n     <g id=\"line2d_4\">\r\n      <g>\r\n       <use style=\"fill:#ffffff;stroke:#ffffff;stroke-width:0.8;\" x=\"242.035046\" xlink:href=\"#me9bcee17cd\" y=\"239.758125\"/>\r\n      </g>\r\n     </g>\r\n     <g id=\"text_4\">\r\n      <!-- 3 -->\r\n      <defs>\r\n       <path d=\"M 40.578125 39.3125 \r\nQ 47.65625 37.796875 51.625 33 \r\nQ 55.609375 28.21875 55.609375 21.1875 \r\nQ 55.609375 10.40625 48.1875 4.484375 \r\nQ 40.765625 -1.421875 27.09375 -1.421875 \r\nQ 22.515625 -1.421875 17.65625 -0.515625 \r\nQ 12.796875 0.390625 7.625 2.203125 \r\nL 7.625 11.71875 \r\nQ 11.71875 9.328125 16.59375 8.109375 \r\nQ 21.484375 6.890625 26.8125 6.890625 \r\nQ 36.078125 6.890625 40.9375 10.546875 \r\nQ 45.796875 14.203125 45.796875 21.1875 \r\nQ 45.796875 27.640625 41.28125 31.265625 \r\nQ 36.765625 34.90625 28.71875 34.90625 \r\nL 20.21875 34.90625 \r\nL 20.21875 43.015625 \r\nL 29.109375 43.015625 \r\nQ 36.375 43.015625 40.234375 45.921875 \r\nQ 44.09375 48.828125 44.09375 54.296875 \r\nQ 44.09375 59.90625 40.109375 62.90625 \r\nQ 36.140625 65.921875 28.71875 65.921875 \r\nQ 24.65625 65.921875 20.015625 65.03125 \r\nQ 15.375 64.15625 9.8125 62.3125 \r\nL 9.8125 71.09375 \r\nQ 15.4375 72.65625 20.34375 73.4375 \r\nQ 25.25 74.21875 29.59375 74.21875 \r\nQ 40.828125 74.21875 47.359375 69.109375 \r\nQ 53.90625 64.015625 53.90625 55.328125 \r\nQ 53.90625 49.265625 50.4375 45.09375 \r\nQ 46.96875 40.921875 40.578125 39.3125 \r\nz\r\n\" id=\"DejaVuSans-51\"/>\r\n      </defs>\r\n      <g style=\"fill:#ffffff;\" transform=\"translate(238.853796 254.356563)scale(0.1 -0.1)\">\r\n       <use xlink:href=\"#DejaVuSans-51\"/>\r\n      </g>\r\n     </g>\r\n    </g>\r\n    <g id=\"xtick_5\">\r\n     <g id=\"line2d_5\">\r\n      <g>\r\n       <use style=\"fill:#ffffff;stroke:#ffffff;stroke-width:0.8;\" x=\"297.373889\" xlink:href=\"#me9bcee17cd\" y=\"239.758125\"/>\r\n      </g>\r\n     </g>\r\n     <g id=\"text_5\">\r\n      <!-- 4 -->\r\n      <defs>\r\n       <path d=\"M 37.796875 64.3125 \r\nL 12.890625 25.390625 \r\nL 37.796875 25.390625 \r\nz\r\nM 35.203125 72.90625 \r\nL 47.609375 72.90625 \r\nL 47.609375 25.390625 \r\nL 58.015625 25.390625 \r\nL 58.015625 17.1875 \r\nL 47.609375 17.1875 \r\nL 47.609375 0 \r\nL 37.796875 0 \r\nL 37.796875 17.1875 \r\nL 4.890625 17.1875 \r\nL 4.890625 26.703125 \r\nz\r\n\" id=\"DejaVuSans-52\"/>\r\n      </defs>\r\n      <g style=\"fill:#ffffff;\" transform=\"translate(294.192639 254.356563)scale(0.1 -0.1)\">\r\n       <use xlink:href=\"#DejaVuSans-52\"/>\r\n      </g>\r\n     </g>\r\n    </g>\r\n    <g id=\"xtick_6\">\r\n     <g id=\"line2d_6\">\r\n      <g>\r\n       <use style=\"fill:#ffffff;stroke:#ffffff;stroke-width:0.8;\" x=\"352.712732\" xlink:href=\"#me9bcee17cd\" y=\"239.758125\"/>\r\n      </g>\r\n     </g>\r\n     <g id=\"text_6\">\r\n      <!-- 5 -->\r\n      <defs>\r\n       <path d=\"M 10.796875 72.90625 \r\nL 49.515625 72.90625 \r\nL 49.515625 64.59375 \r\nL 19.828125 64.59375 \r\nL 19.828125 46.734375 \r\nQ 21.96875 47.46875 24.109375 47.828125 \r\nQ 26.265625 48.1875 28.421875 48.1875 \r\nQ 40.625 48.1875 47.75 41.5 \r\nQ 54.890625 34.8125 54.890625 23.390625 \r\nQ 54.890625 11.625 47.5625 5.09375 \r\nQ 40.234375 -1.421875 26.90625 -1.421875 \r\nQ 22.3125 -1.421875 17.546875 -0.640625 \r\nQ 12.796875 0.140625 7.71875 1.703125 \r\nL 7.71875 11.625 \r\nQ 12.109375 9.234375 16.796875 8.0625 \r\nQ 21.484375 6.890625 26.703125 6.890625 \r\nQ 35.15625 6.890625 40.078125 11.328125 \r\nQ 45.015625 15.765625 45.015625 23.390625 \r\nQ 45.015625 31 40.078125 35.4375 \r\nQ 35.15625 39.890625 26.703125 39.890625 \r\nQ 22.75 39.890625 18.8125 39.015625 \r\nQ 14.890625 38.140625 10.796875 36.28125 \r\nz\r\n\" id=\"DejaVuSans-53\"/>\r\n      </defs>\r\n      <g style=\"fill:#ffffff;\" transform=\"translate(349.531482 254.356563)scale(0.1 -0.1)\">\r\n       <use xlink:href=\"#DejaVuSans-53\"/>\r\n      </g>\r\n     </g>\r\n    </g>\r\n   </g>\r\n   <g id=\"matplotlib.axis_2\">\r\n    <g id=\"ytick_1\">\r\n     <g id=\"line2d_7\">\r\n      <defs>\r\n       <path d=\"M 0 0 \r\nL -3.5 0 \r\n\" id=\"m23f1a33a38\" style=\"stroke:#ffffff;stroke-width:0.8;\"/>\r\n      </defs>\r\n      <g>\r\n       <use style=\"fill:#ffffff;stroke:#ffffff;stroke-width:0.8;\" x=\"46.965625\" xlink:href=\"#m23f1a33a38\" y=\"239.758125\"/>\r\n      </g>\r\n     </g>\r\n     <g id=\"text_7\">\r\n      <!-- 0 -->\r\n      <g style=\"fill:#ffffff;\" transform=\"translate(33.603125 243.557344)scale(0.1 -0.1)\">\r\n       <use xlink:href=\"#DejaVuSans-48\"/>\r\n      </g>\r\n     </g>\r\n    </g>\r\n    <g id=\"ytick_2\">\r\n     <g id=\"line2d_8\">\r\n      <g>\r\n       <use style=\"fill:#ffffff;stroke:#ffffff;stroke-width:0.8;\" x=\"46.965625\" xlink:href=\"#m23f1a33a38\" y=\"218.108255\"/>\r\n      </g>\r\n     </g>\r\n     <g id=\"text_8\">\r\n      <!-- 10 -->\r\n      <g style=\"fill:#ffffff;\" transform=\"translate(27.240625 221.907474)scale(0.1 -0.1)\">\r\n       <use xlink:href=\"#DejaVuSans-49\"/>\r\n       <use x=\"63.623047\" xlink:href=\"#DejaVuSans-48\"/>\r\n      </g>\r\n     </g>\r\n    </g>\r\n    <g id=\"ytick_3\">\r\n     <g id=\"line2d_9\">\r\n      <g>\r\n       <use style=\"fill:#ffffff;stroke:#ffffff;stroke-width:0.8;\" x=\"46.965625\" xlink:href=\"#m23f1a33a38\" y=\"196.458385\"/>\r\n      </g>\r\n     </g>\r\n     <g id=\"text_9\">\r\n      <!-- 20 -->\r\n      <g style=\"fill:#ffffff;\" transform=\"translate(27.240625 200.257603)scale(0.1 -0.1)\">\r\n       <use xlink:href=\"#DejaVuSans-50\"/>\r\n       <use x=\"63.623047\" xlink:href=\"#DejaVuSans-48\"/>\r\n      </g>\r\n     </g>\r\n    </g>\r\n    <g id=\"ytick_4\">\r\n     <g id=\"line2d_10\">\r\n      <g>\r\n       <use style=\"fill:#ffffff;stroke:#ffffff;stroke-width:0.8;\" x=\"46.965625\" xlink:href=\"#m23f1a33a38\" y=\"174.808515\"/>\r\n      </g>\r\n     </g>\r\n     <g id=\"text_10\">\r\n      <!-- 30 -->\r\n      <g style=\"fill:#ffffff;\" transform=\"translate(27.240625 178.607733)scale(0.1 -0.1)\">\r\n       <use xlink:href=\"#DejaVuSans-51\"/>\r\n       <use x=\"63.623047\" xlink:href=\"#DejaVuSans-48\"/>\r\n      </g>\r\n     </g>\r\n    </g>\r\n    <g id=\"ytick_5\">\r\n     <g id=\"line2d_11\">\r\n      <g>\r\n       <use style=\"fill:#ffffff;stroke:#ffffff;stroke-width:0.8;\" x=\"46.965625\" xlink:href=\"#m23f1a33a38\" y=\"153.158644\"/>\r\n      </g>\r\n     </g>\r\n     <g id=\"text_11\">\r\n      <!-- 40 -->\r\n      <g style=\"fill:#ffffff;\" transform=\"translate(27.240625 156.957863)scale(0.1 -0.1)\">\r\n       <use xlink:href=\"#DejaVuSans-52\"/>\r\n       <use x=\"63.623047\" xlink:href=\"#DejaVuSans-48\"/>\r\n      </g>\r\n     </g>\r\n    </g>\r\n    <g id=\"ytick_6\">\r\n     <g id=\"line2d_12\">\r\n      <g>\r\n       <use style=\"fill:#ffffff;stroke:#ffffff;stroke-width:0.8;\" x=\"46.965625\" xlink:href=\"#m23f1a33a38\" y=\"131.508774\"/>\r\n      </g>\r\n     </g>\r\n     <g id=\"text_12\">\r\n      <!-- 50 -->\r\n      <g style=\"fill:#ffffff;\" transform=\"translate(27.240625 135.307993)scale(0.1 -0.1)\">\r\n       <use xlink:href=\"#DejaVuSans-53\"/>\r\n       <use x=\"63.623047\" xlink:href=\"#DejaVuSans-48\"/>\r\n      </g>\r\n     </g>\r\n    </g>\r\n    <g id=\"ytick_7\">\r\n     <g id=\"line2d_13\">\r\n      <g>\r\n       <use style=\"fill:#ffffff;stroke:#ffffff;stroke-width:0.8;\" x=\"46.965625\" xlink:href=\"#m23f1a33a38\" y=\"109.858904\"/>\r\n      </g>\r\n     </g>\r\n     <g id=\"text_13\">\r\n      <!-- 60 -->\r\n      <defs>\r\n       <path d=\"M 33.015625 40.375 \r\nQ 26.375 40.375 22.484375 35.828125 \r\nQ 18.609375 31.296875 18.609375 23.390625 \r\nQ 18.609375 15.53125 22.484375 10.953125 \r\nQ 26.375 6.390625 33.015625 6.390625 \r\nQ 39.65625 6.390625 43.53125 10.953125 \r\nQ 47.40625 15.53125 47.40625 23.390625 \r\nQ 47.40625 31.296875 43.53125 35.828125 \r\nQ 39.65625 40.375 33.015625 40.375 \r\nz\r\nM 52.59375 71.296875 \r\nL 52.59375 62.3125 \r\nQ 48.875 64.0625 45.09375 64.984375 \r\nQ 41.3125 65.921875 37.59375 65.921875 \r\nQ 27.828125 65.921875 22.671875 59.328125 \r\nQ 17.53125 52.734375 16.796875 39.40625 \r\nQ 19.671875 43.65625 24.015625 45.921875 \r\nQ 28.375 48.1875 33.59375 48.1875 \r\nQ 44.578125 48.1875 50.953125 41.515625 \r\nQ 57.328125 34.859375 57.328125 23.390625 \r\nQ 57.328125 12.15625 50.6875 5.359375 \r\nQ 44.046875 -1.421875 33.015625 -1.421875 \r\nQ 20.359375 -1.421875 13.671875 8.265625 \r\nQ 6.984375 17.96875 6.984375 36.375 \r\nQ 6.984375 53.65625 15.1875 63.9375 \r\nQ 23.390625 74.21875 37.203125 74.21875 \r\nQ 40.921875 74.21875 44.703125 73.484375 \r\nQ 48.484375 72.75 52.59375 71.296875 \r\nz\r\n\" id=\"DejaVuSans-54\"/>\r\n      </defs>\r\n      <g style=\"fill:#ffffff;\" transform=\"translate(27.240625 113.658123)scale(0.1 -0.1)\">\r\n       <use xlink:href=\"#DejaVuSans-54\"/>\r\n       <use x=\"63.623047\" xlink:href=\"#DejaVuSans-48\"/>\r\n      </g>\r\n     </g>\r\n    </g>\r\n    <g id=\"ytick_8\">\r\n     <g id=\"line2d_14\">\r\n      <g>\r\n       <use style=\"fill:#ffffff;stroke:#ffffff;stroke-width:0.8;\" x=\"46.965625\" xlink:href=\"#m23f1a33a38\" y=\"88.209034\"/>\r\n      </g>\r\n     </g>\r\n     <g id=\"text_14\">\r\n      <!-- 70 -->\r\n      <defs>\r\n       <path d=\"M 8.203125 72.90625 \r\nL 55.078125 72.90625 \r\nL 55.078125 68.703125 \r\nL 28.609375 0 \r\nL 18.3125 0 \r\nL 43.21875 64.59375 \r\nL 8.203125 64.59375 \r\nz\r\n\" id=\"DejaVuSans-55\"/>\r\n      </defs>\r\n      <g style=\"fill:#ffffff;\" transform=\"translate(27.240625 92.008253)scale(0.1 -0.1)\">\r\n       <use xlink:href=\"#DejaVuSans-55\"/>\r\n       <use x=\"63.623047\" xlink:href=\"#DejaVuSans-48\"/>\r\n      </g>\r\n     </g>\r\n    </g>\r\n    <g id=\"ytick_9\">\r\n     <g id=\"line2d_15\">\r\n      <g>\r\n       <use style=\"fill:#ffffff;stroke:#ffffff;stroke-width:0.8;\" x=\"46.965625\" xlink:href=\"#m23f1a33a38\" y=\"66.559164\"/>\r\n      </g>\r\n     </g>\r\n     <g id=\"text_15\">\r\n      <!-- 80 -->\r\n      <defs>\r\n       <path d=\"M 31.78125 34.625 \r\nQ 24.75 34.625 20.71875 30.859375 \r\nQ 16.703125 27.09375 16.703125 20.515625 \r\nQ 16.703125 13.921875 20.71875 10.15625 \r\nQ 24.75 6.390625 31.78125 6.390625 \r\nQ 38.8125 6.390625 42.859375 10.171875 \r\nQ 46.921875 13.96875 46.921875 20.515625 \r\nQ 46.921875 27.09375 42.890625 30.859375 \r\nQ 38.875 34.625 31.78125 34.625 \r\nz\r\nM 21.921875 38.8125 \r\nQ 15.578125 40.375 12.03125 44.71875 \r\nQ 8.5 49.078125 8.5 55.328125 \r\nQ 8.5 64.0625 14.71875 69.140625 \r\nQ 20.953125 74.21875 31.78125 74.21875 \r\nQ 42.671875 74.21875 48.875 69.140625 \r\nQ 55.078125 64.0625 55.078125 55.328125 \r\nQ 55.078125 49.078125 51.53125 44.71875 \r\nQ 48 40.375 41.703125 38.8125 \r\nQ 48.828125 37.15625 52.796875 32.3125 \r\nQ 56.78125 27.484375 56.78125 20.515625 \r\nQ 56.78125 9.90625 50.3125 4.234375 \r\nQ 43.84375 -1.421875 31.78125 -1.421875 \r\nQ 19.734375 -1.421875 13.25 4.234375 \r\nQ 6.78125 9.90625 6.78125 20.515625 \r\nQ 6.78125 27.484375 10.78125 32.3125 \r\nQ 14.796875 37.15625 21.921875 38.8125 \r\nz\r\nM 18.3125 54.390625 \r\nQ 18.3125 48.734375 21.84375 45.5625 \r\nQ 25.390625 42.390625 31.78125 42.390625 \r\nQ 38.140625 42.390625 41.71875 45.5625 \r\nQ 45.3125 48.734375 45.3125 54.390625 \r\nQ 45.3125 60.0625 41.71875 63.234375 \r\nQ 38.140625 66.40625 31.78125 66.40625 \r\nQ 25.390625 66.40625 21.84375 63.234375 \r\nQ 18.3125 60.0625 18.3125 54.390625 \r\nz\r\n\" id=\"DejaVuSans-56\"/>\r\n      </defs>\r\n      <g style=\"fill:#ffffff;\" transform=\"translate(27.240625 70.358383)scale(0.1 -0.1)\">\r\n       <use xlink:href=\"#DejaVuSans-56\"/>\r\n       <use x=\"63.623047\" xlink:href=\"#DejaVuSans-48\"/>\r\n      </g>\r\n     </g>\r\n    </g>\r\n    <g id=\"ytick_10\">\r\n     <g id=\"line2d_16\">\r\n      <g>\r\n       <use style=\"fill:#ffffff;stroke:#ffffff;stroke-width:0.8;\" x=\"46.965625\" xlink:href=\"#m23f1a33a38\" y=\"44.909294\"/>\r\n      </g>\r\n     </g>\r\n     <g id=\"text_16\">\r\n      <!-- 90 -->\r\n      <defs>\r\n       <path d=\"M 10.984375 1.515625 \r\nL 10.984375 10.5 \r\nQ 14.703125 8.734375 18.5 7.8125 \r\nQ 22.3125 6.890625 25.984375 6.890625 \r\nQ 35.75 6.890625 40.890625 13.453125 \r\nQ 46.046875 20.015625 46.78125 33.40625 \r\nQ 43.953125 29.203125 39.59375 26.953125 \r\nQ 35.25 24.703125 29.984375 24.703125 \r\nQ 19.046875 24.703125 12.671875 31.3125 \r\nQ 6.296875 37.9375 6.296875 49.421875 \r\nQ 6.296875 60.640625 12.9375 67.421875 \r\nQ 19.578125 74.21875 30.609375 74.21875 \r\nQ 43.265625 74.21875 49.921875 64.515625 \r\nQ 56.59375 54.828125 56.59375 36.375 \r\nQ 56.59375 19.140625 48.40625 8.859375 \r\nQ 40.234375 -1.421875 26.421875 -1.421875 \r\nQ 22.703125 -1.421875 18.890625 -0.6875 \r\nQ 15.09375 0.046875 10.984375 1.515625 \r\nz\r\nM 30.609375 32.421875 \r\nQ 37.25 32.421875 41.125 36.953125 \r\nQ 45.015625 41.5 45.015625 49.421875 \r\nQ 45.015625 57.28125 41.125 61.84375 \r\nQ 37.25 66.40625 30.609375 66.40625 \r\nQ 23.96875 66.40625 20.09375 61.84375 \r\nQ 16.21875 57.28125 16.21875 49.421875 \r\nQ 16.21875 41.5 20.09375 36.953125 \r\nQ 23.96875 32.421875 30.609375 32.421875 \r\nz\r\n\" id=\"DejaVuSans-57\"/>\r\n      </defs>\r\n      <g style=\"fill:#ffffff;\" transform=\"translate(27.240625 48.708513)scale(0.1 -0.1)\">\r\n       <use xlink:href=\"#DejaVuSans-57\"/>\r\n       <use x=\"63.623047\" xlink:href=\"#DejaVuSans-48\"/>\r\n      </g>\r\n     </g>\r\n    </g>\r\n    <g id=\"ytick_11\">\r\n     <g id=\"line2d_17\">\r\n      <g>\r\n       <use style=\"fill:#ffffff;stroke:#ffffff;stroke-width:0.8;\" x=\"46.965625\" xlink:href=\"#m23f1a33a38\" y=\"23.259424\"/>\r\n      </g>\r\n     </g>\r\n     <g id=\"text_17\">\r\n      <!-- 100 -->\r\n      <g style=\"fill:#ffffff;\" transform=\"translate(20.878125 27.058642)scale(0.1 -0.1)\">\r\n       <use xlink:href=\"#DejaVuSans-49\"/>\r\n       <use x=\"63.623047\" xlink:href=\"#DejaVuSans-48\"/>\r\n       <use x=\"127.246094\" xlink:href=\"#DejaVuSans-48\"/>\r\n      </g>\r\n     </g>\r\n    </g>\r\n    <g id=\"text_18\">\r\n     <!-- % -->\r\n     <defs>\r\n      <path d=\"M 72.703125 32.078125 \r\nQ 68.453125 32.078125 66.03125 28.46875 \r\nQ 63.625 24.859375 63.625 18.40625 \r\nQ 63.625 12.0625 66.03125 8.421875 \r\nQ 68.453125 4.78125 72.703125 4.78125 \r\nQ 76.859375 4.78125 79.265625 8.421875 \r\nQ 81.6875 12.0625 81.6875 18.40625 \r\nQ 81.6875 24.8125 79.265625 28.4375 \r\nQ 76.859375 32.078125 72.703125 32.078125 \r\nz\r\nM 72.703125 38.28125 \r\nQ 80.421875 38.28125 84.953125 32.90625 \r\nQ 89.5 27.546875 89.5 18.40625 \r\nQ 89.5 9.28125 84.9375 3.921875 \r\nQ 80.375 -1.421875 72.703125 -1.421875 \r\nQ 64.890625 -1.421875 60.34375 3.921875 \r\nQ 55.8125 9.28125 55.8125 18.40625 \r\nQ 55.8125 27.59375 60.375 32.9375 \r\nQ 64.9375 38.28125 72.703125 38.28125 \r\nz\r\nM 22.3125 68.015625 \r\nQ 18.109375 68.015625 15.6875 64.375 \r\nQ 13.28125 60.75 13.28125 54.390625 \r\nQ 13.28125 47.953125 15.671875 44.328125 \r\nQ 18.0625 40.71875 22.3125 40.71875 \r\nQ 26.5625 40.71875 28.96875 44.328125 \r\nQ 31.390625 47.953125 31.390625 54.390625 \r\nQ 31.390625 60.6875 28.953125 64.34375 \r\nQ 26.515625 68.015625 22.3125 68.015625 \r\nz\r\nM 66.40625 74.21875 \r\nL 74.21875 74.21875 \r\nL 28.609375 -1.421875 \r\nL 20.796875 -1.421875 \r\nz\r\nM 22.3125 74.21875 \r\nQ 30.03125 74.21875 34.609375 68.875 \r\nQ 39.203125 63.53125 39.203125 54.390625 \r\nQ 39.203125 45.171875 34.640625 39.84375 \r\nQ 30.078125 34.515625 22.3125 34.515625 \r\nQ 14.546875 34.515625 10.03125 39.859375 \r\nQ 5.515625 45.21875 5.515625 54.390625 \r\nQ 5.515625 63.484375 10.046875 68.84375 \r\nQ 14.59375 74.21875 22.3125 74.21875 \r\nz\r\n\" id=\"DejaVuSans-37\"/>\r\n     </defs>\r\n     <g style=\"fill:#ffffff;\" transform=\"translate(14.798438 135.788906)rotate(-90)scale(0.1 -0.1)\">\r\n      <use xlink:href=\"#DejaVuSans-37\"/>\r\n     </g>\r\n    </g>\r\n   </g>\r\n   <g id=\"patch_9\">\r\n    <path d=\"M 46.965625 239.758125 \r\nL 46.965625 22.318125 \r\n\" style=\"fill:none;stroke:#ffffff;stroke-linecap:square;stroke-linejoin:miter;stroke-width:0.8;\"/>\r\n   </g>\r\n   <g id=\"patch_10\">\r\n    <path d=\"M 381.765625 239.758125 \r\nL 381.765625 22.318125 \r\n\" style=\"fill:none;stroke:#ffffff;stroke-linecap:square;stroke-linejoin:miter;stroke-width:0.8;\"/>\r\n   </g>\r\n   <g id=\"patch_11\">\r\n    <path d=\"M 46.965625 239.758125 \r\nL 381.765625 239.758125 \r\n\" style=\"fill:none;stroke:#ffffff;stroke-linecap:square;stroke-linejoin:miter;stroke-width:0.8;\"/>\r\n   </g>\r\n   <g id=\"patch_12\">\r\n    <path d=\"M 46.965625 22.318125 \r\nL 381.765625 22.318125 \r\n\" style=\"fill:none;stroke:#ffffff;stroke-linecap:square;stroke-linejoin:miter;stroke-width:0.8;\"/>\r\n   </g>\r\n   <g id=\"text_19\">\r\n    <!-- TESTONS CA 2 -->\r\n    <defs>\r\n     <path d=\"M -0.296875 72.90625 \r\nL 61.375 72.90625 \r\nL 61.375 64.59375 \r\nL 35.5 64.59375 \r\nL 35.5 0 \r\nL 25.59375 0 \r\nL 25.59375 64.59375 \r\nL -0.296875 64.59375 \r\nz\r\n\" id=\"DejaVuSans-84\"/>\r\n     <path d=\"M 9.8125 72.90625 \r\nL 55.90625 72.90625 \r\nL 55.90625 64.59375 \r\nL 19.671875 64.59375 \r\nL 19.671875 43.015625 \r\nL 54.390625 43.015625 \r\nL 54.390625 34.71875 \r\nL 19.671875 34.71875 \r\nL 19.671875 8.296875 \r\nL 56.78125 8.296875 \r\nL 56.78125 0 \r\nL 9.8125 0 \r\nz\r\n\" id=\"DejaVuSans-69\"/>\r\n     <path d=\"M 53.515625 70.515625 \r\nL 53.515625 60.890625 \r\nQ 47.90625 63.578125 42.921875 64.890625 \r\nQ 37.9375 66.21875 33.296875 66.21875 \r\nQ 25.25 66.21875 20.875 63.09375 \r\nQ 16.5 59.96875 16.5 54.203125 \r\nQ 16.5 49.359375 19.40625 46.890625 \r\nQ 22.3125 44.4375 30.421875 42.921875 \r\nL 36.375 41.703125 \r\nQ 47.40625 39.59375 52.65625 34.296875 \r\nQ 57.90625 29 57.90625 20.125 \r\nQ 57.90625 9.515625 50.796875 4.046875 \r\nQ 43.703125 -1.421875 29.984375 -1.421875 \r\nQ 24.8125 -1.421875 18.96875 -0.25 \r\nQ 13.140625 0.921875 6.890625 3.21875 \r\nL 6.890625 13.375 \r\nQ 12.890625 10.015625 18.65625 8.296875 \r\nQ 24.421875 6.59375 29.984375 6.59375 \r\nQ 38.421875 6.59375 43.015625 9.90625 \r\nQ 47.609375 13.234375 47.609375 19.390625 \r\nQ 47.609375 24.75 44.3125 27.78125 \r\nQ 41.015625 30.8125 33.5 32.328125 \r\nL 27.484375 33.5 \r\nQ 16.453125 35.6875 11.515625 40.375 \r\nQ 6.59375 45.0625 6.59375 53.421875 \r\nQ 6.59375 63.09375 13.40625 68.65625 \r\nQ 20.21875 74.21875 32.171875 74.21875 \r\nQ 37.3125 74.21875 42.625 73.28125 \r\nQ 47.953125 72.359375 53.515625 70.515625 \r\nz\r\n\" id=\"DejaVuSans-83\"/>\r\n     <path d=\"M 39.40625 66.21875 \r\nQ 28.65625 66.21875 22.328125 58.203125 \r\nQ 16.015625 50.203125 16.015625 36.375 \r\nQ 16.015625 22.609375 22.328125 14.59375 \r\nQ 28.65625 6.59375 39.40625 6.59375 \r\nQ 50.140625 6.59375 56.421875 14.59375 \r\nQ 62.703125 22.609375 62.703125 36.375 \r\nQ 62.703125 50.203125 56.421875 58.203125 \r\nQ 50.140625 66.21875 39.40625 66.21875 \r\nz\r\nM 39.40625 74.21875 \r\nQ 54.734375 74.21875 63.90625 63.9375 \r\nQ 73.09375 53.65625 73.09375 36.375 \r\nQ 73.09375 19.140625 63.90625 8.859375 \r\nQ 54.734375 -1.421875 39.40625 -1.421875 \r\nQ 24.03125 -1.421875 14.8125 8.828125 \r\nQ 5.609375 19.09375 5.609375 36.375 \r\nQ 5.609375 53.65625 14.8125 63.9375 \r\nQ 24.03125 74.21875 39.40625 74.21875 \r\nz\r\n\" id=\"DejaVuSans-79\"/>\r\n     <path d=\"M 9.8125 72.90625 \r\nL 23.09375 72.90625 \r\nL 55.421875 11.921875 \r\nL 55.421875 72.90625 \r\nL 64.984375 72.90625 \r\nL 64.984375 0 \r\nL 51.703125 0 \r\nL 19.390625 60.984375 \r\nL 19.390625 0 \r\nL 9.8125 0 \r\nz\r\n\" id=\"DejaVuSans-78\"/>\r\n     <path id=\"DejaVuSans-32\"/>\r\n     <path d=\"M 64.40625 67.28125 \r\nL 64.40625 56.890625 \r\nQ 59.421875 61.53125 53.78125 63.8125 \r\nQ 48.140625 66.109375 41.796875 66.109375 \r\nQ 29.296875 66.109375 22.65625 58.46875 \r\nQ 16.015625 50.828125 16.015625 36.375 \r\nQ 16.015625 21.96875 22.65625 14.328125 \r\nQ 29.296875 6.6875 41.796875 6.6875 \r\nQ 48.140625 6.6875 53.78125 8.984375 \r\nQ 59.421875 11.28125 64.40625 15.921875 \r\nL 64.40625 5.609375 \r\nQ 59.234375 2.09375 53.4375 0.328125 \r\nQ 47.65625 -1.421875 41.21875 -1.421875 \r\nQ 24.65625 -1.421875 15.125 8.703125 \r\nQ 5.609375 18.84375 5.609375 36.375 \r\nQ 5.609375 53.953125 15.125 64.078125 \r\nQ 24.65625 74.21875 41.21875 74.21875 \r\nQ 47.75 74.21875 53.53125 72.484375 \r\nQ 59.328125 70.75 64.40625 67.28125 \r\nz\r\n\" id=\"DejaVuSans-67\"/>\r\n     <path d=\"M 34.1875 63.1875 \r\nL 20.796875 26.90625 \r\nL 47.609375 26.90625 \r\nz\r\nM 28.609375 72.90625 \r\nL 39.796875 72.90625 \r\nL 67.578125 0 \r\nL 57.328125 0 \r\nL 50.6875 18.703125 \r\nL 17.828125 18.703125 \r\nL 11.1875 0 \r\nL 0.78125 0 \r\nz\r\n\" id=\"DejaVuSans-65\"/>\r\n    </defs>\r\n    <g style=\"fill:#ffffff;\" transform=\"translate(170.489688 16.318125)scale(0.12 -0.12)\">\r\n     <use xlink:href=\"#DejaVuSans-84\"/>\r\n     <use x=\"61.083984\" xlink:href=\"#DejaVuSans-69\"/>\r\n     <use x=\"124.267578\" xlink:href=\"#DejaVuSans-83\"/>\r\n     <use x=\"187.744141\" xlink:href=\"#DejaVuSans-84\"/>\r\n     <use x=\"248.828125\" xlink:href=\"#DejaVuSans-79\"/>\r\n     <use x=\"327.539062\" xlink:href=\"#DejaVuSans-78\"/>\r\n     <use x=\"402.34375\" xlink:href=\"#DejaVuSans-83\"/>\r\n     <use x=\"465.820312\" xlink:href=\"#DejaVuSans-32\"/>\r\n     <use x=\"497.607422\" xlink:href=\"#DejaVuSans-67\"/>\r\n     <use x=\"567.431641\" xlink:href=\"#DejaVuSans-65\"/>\r\n     <use x=\"635.839844\" xlink:href=\"#DejaVuSans-32\"/>\r\n     <use x=\"667.626953\" xlink:href=\"#DejaVuSans-50\"/>\r\n    </g>\r\n   </g>\r\n  </g>\r\n </g>\r\n <defs>\r\n  <clipPath id=\"pf527cbce87\">\r\n   <rect height=\"217.44\" width=\"334.8\" x=\"46.965625\" y=\"22.318125\"/>\r\n  </clipPath>\r\n </defs>\r\n</svg>\r\n",
      "text/plain": "<Figure size 432x288 with 1 Axes>"
     },
     "metadata": {},
     "output_type": "display_data"
    }
   ],
   "source": [
    "nbEleFound = {}\n",
    "for plane in jsonEle.keys():\n",
    "    nbEleFound[plane] = 0\n",
    "    for el in jsonEle[plane]:\n",
    "        nbEleFound[plane] += len(jsonEle[plane][el])\n",
    "print(nbEleFound)\n",
    "nbEleFound = {'united_airlines_boeing_777-200_6_plane974.svg': 14, 'united_airlines_boeing_777-200_9_plane975.svg': 2, 'united_airlines_boeing_777-200_v5_plane976.svg': 22, 'united_airlines_boeing_777-300er_plane977.svg': 12, 'united_airlines_boeing_787-800_plane979.svg': 9, 'united_airlines_boeing_787-900_plane980.svg': 30}\n",
    "\n",
    "df_element = pd.read_csv('Images.csv', sep=';')\n",
    "# print(df_element)\n",
    "nbEleTheori = {}\n",
    "for row, data in df_element.iterrows():\n",
    "    nbEleTheori[data['name']] = data['sum']\n",
    "\n",
    "beauxDessins(nbEleFound, nbEleTheori, title='TESTONS CA 2')\n"
   ]
  },
  {
   "cell_type": "code",
   "execution_count": null,
   "metadata": {},
   "outputs": [],
   "source": []
  }
 ],
 "metadata": {
  "file_extension": ".py",
  "kernelspec": {
   "display_name": "Python 3",
   "language": "python",
   "name": "python3"
  },
  "language_info": {
   "codemirror_mode": {
    "name": "ipython",
    "version": 3
   },
   "file_extension": ".py",
   "mimetype": "text/x-python",
   "name": "python",
   "nbconvert_exporter": "python",
   "pygments_lexer": "ipython3",
   "version": "3.7.3-final"
  },
  "mimetype": "text/x-python",
  "name": "python",
  "npconvert_exporter": "python",
  "pygments_lexer": "ipython3",
  "version": 3
 },
 "nbformat": 4,
 "nbformat_minor": 2
}