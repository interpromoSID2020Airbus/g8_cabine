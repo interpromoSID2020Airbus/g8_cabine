{
 "cells": [
  {
   "cell_type": "code",
   "execution_count": 1,
   "metadata": {},
   "outputs": [],
   "source": [
    "import os\n",
    "os.getcwd()\n",
    "os.chdir('c:\\\\Users\\\\Stior\\\\Documents\\\\cours\\\\L3SID\\\\Projet-InterPromo\\\\ProjetInterpromo2020G8')"
   ]
  },
  {
   "cell_type": "code",
   "execution_count": 2,
   "metadata": {},
   "outputs": [],
   "source": [
    "from pipeline import Pipeline, Process, Postprocess, Preprocess\n",
    "import numpy as np\n",
    "import pandas as pd\n",
    "import cv2\n",
    "from matplotlib import pyplot as plt\n",
    "import PIL"
   ]
  },
  {
   "cell_type": "code",
   "execution_count": 3,
   "metadata": {},
   "outputs": [],
   "source": [
    "class MyPreProcess(Preprocess):\n",
    "    process_desc = \"Exemple de pre-process -> ne fait rien\"\n",
    "    def run(self, images):\n",
    "        pass\n",
    "\n",
    "\n",
    "class MyProcess(Process):\n",
    "    process_desc = \"Exemple de process -> ne fait rien\"\n",
    "    def run(self, images):\n",
    "        pass\n",
    "    \n",
    "    \n",
    "class MyPostProcess(Postprocess):\n",
    "    process_desc = \"Exemple de post-process -> ne fait rien\"\n",
    "    def run(self, images):\n",
    "        pass"
   ]
  },
  {
   "cell_type": "code",
   "execution_count": 4,
   "metadata": {},
   "outputs": [
    {
     "name": "stdout",
     "output_type": "stream",
     "text": "Preprocess :  Exemple de pre-process -> ne fait rien\nProcess :  Exemple de process -> ne fait rien\nPostprocess :  Exemple de post-process -> ne fait rien\nExemple de pre-process -> ne fait rien a été ajouté.\nExemple de process -> ne fait rien a été ajouté.\nExemple de post-process -> ne fait rien a été ajouté.\nExemple de pre-process -> ne fait rien a été ajouté.\n"
    }
   ],
   "source": [
    "pipeline = Pipeline()\n",
    "process_array = np.array([MyPreProcess()\n",
    "                          ,MyProcess()\n",
    "                          ,MyPostProcess()\n",
    "                          ,MyPreProcess(verbose=0)])\n",
    "pipeline.add_processes(process_array)\n"
   ]
  },
  {
   "cell_type": "code",
   "execution_count": 5,
   "metadata": {},
   "outputs": [
    {
     "name": "stdout",
     "output_type": "stream",
     "text": "Exemple de pre-process -> ne fait rien\nExemple de pre-process -> ne fait rien\nExemple de process -> ne fait rien\nExemple de post-process -> ne fait rien\n"
    }
   ],
   "source": [
    "pipeline.print_process()"
   ]
  },
  {
   "cell_type": "code",
   "execution_count": 6,
   "metadata": {},
   "outputs": [],
   "source": [
    "img_gray = cv2.imread('../All Data/ANALYSE IMAGE/LAYOUT SEATGURU/Aer_Lingus_Airbus_A330-200_plane4.jpg', 0)\n",
    "img_rgb = cv2.imread('../All Data/ANALYSE IMAGE/LAYOUT SEATGURU/Aer_Lingus_Airbus_A330-200_plane4.jpg', 1)\n",
    "\n",
    "#img_gray = cv2.imread('../All Data/ANALYSE IMAGE/LAYOUT SEATGURU/Aer_Lingus_Airbus_A320_plane9.jpg', 0)\n",
    "#img_rgb = cv2.imread('../All Data/ANALYSE IMAGE/LAYOUT SEATGURU/Aer_Lingus_Airbus_A320_plane9.jpg', 1)\n",
    "\n",
    "\n",
    "#img_gray = cv2.imread('../All Data/ANALYSE IMAGE/LAYOUT SEATGURU/Air_Transat_Airbus_A330-300_V2_plane128.jpg', 0)\n",
    "#img_rgb = cv2.imread('../All Data/ANALYSE IMAGE/LAYOUT SEATGURU/Air_Transat_Airbus_A330-300_V2_plane128.jpg', 1)\n",
    "\n",
    "#template = cv2.imread('./images/temp_normal_seat.jpg', 0)\n",
    "#template = cv2.imread('./images/templateTest.jpg', 0)\n",
    "#template = cv2.imread('./images/templateNormalSeat-SansBlanc.png', 0)\n",
    "#template = cv2.imread('./images/templateNormalSeat-SansBlanc.jpg', 0)\n",
    "template = cv2.imread('./images/templateTest-sansBlanc.png', 0)\n",
    "\n",
    "#cv2.imshow('Test', img2)\n",
    "#cv2.waitKey()\n",
    "#cv2.destroyAllWindows() \n",
    "\n",
    "h, w = template.shape\n"
   ]
  },
  {
   "cell_type": "code",
   "execution_count": 7,
   "metadata": {},
   "outputs": [],
   "source": [
    "\n",
    "methods = ['cv2.TM_CCOEFF', 'cv2.TM_CCOEFF_NORMED', 'cv2.TM_CCORR', 'cv2.TM_CCORR_NORMED', 'cv2.TM_SQDIFF', 'cv2.TM_SQDIFF_NORMED']"
   ]
  },
  {
   "cell_type": "code",
   "execution_count": 8,
   "metadata": {},
   "outputs": [
    {
     "name": "stdout",
     "output_type": "stream",
     "text": "[(146, 517), (133, 537), (146, 537), (185, 537), (198, 537), (211, 537), (224, 537), (263, 537), (276, 537), (133, 557), (146, 557), (185, 557), (198, 557), (211, 557), (224, 557), (263, 557), (276, 557), (133, 577), (146, 577), (185, 577), (198, 577), (211, 577), (224, 577), (263, 577), (276, 577), (133, 597), (146, 597), (185, 597), (198, 597), (211, 597), (224, 597), (263, 597), (276, 597), (133, 617), (146, 617), (185, 617), (198, 617), (211, 617), (224, 617), (263, 617), (276, 617), (133, 637), (146, 637), (185, 637), (198, 637), (211, 637), (224, 637), (263, 637), (276, 637), (133, 657), (146, 657), (185, 657), (198, 657), (211, 657), (224, 657), (263, 657), (276, 657), (133, 677), (146, 677), (185, 677), (198, 677), (211, 677), (224, 677), (263, 677), (276, 677), (133, 697), (146, 697), (185, 697), (198, 697), (211, 697), (224, 697), (263, 697), (276, 697), (133, 717), (146, 717), (185, 717), (198, 717), (211, 717), (224, 717), (263, 717), (276, 717), (133, 737), (146, 737), (185, 737), (198, 737), (211, 737), (224, 737), (263, 737), (276, 737), (133, 757), (146, 757), (185, 757), (198, 757), (211, 757), (224, 757), (263, 757), (276, 757), (133, 777), (146, 777), (185, 777), (198, 777), (211, 777), (224, 777), (263, 777), (276, 777), (133, 797), (146, 797), (185, 797), (198, 797), (211, 797), (224, 797), (263, 797), (276, 797), (133, 817), (146, 817), (185, 817), (198, 817), (211, 817), (224, 817), (263, 817), (276, 817), (133, 837), (146, 837), (185, 837), (198, 837), (211, 837), (224, 837), (263, 837), (276, 837), (133, 857), (146, 857), (263, 857), (276, 857), (133, 971), (146, 971), (185, 971), (198, 971), (211, 971), (224, 971), (263, 971), (276, 971), (133, 991), (146, 991), (185, 991), (198, 991), (211, 991), (224, 991), (263, 991), (276, 991), (133, 1011), (146, 1011), (185, 1011), (198, 1011), (211, 1011), (224, 1011), (263, 1011), (276, 1011), (133, 1031), (146, 1031), (185, 1031), (198, 1031), (211, 1031), (224, 1031), (263, 1031), (276, 1031), (133, 1051), (146, 1051), (185, 1051), (198, 1051), (211, 1051), (224, 1051), (263, 1051), (276, 1051), (133, 1071), (146, 1071), (185, 1071), (198, 1071), (211, 1071), (224, 1071), (263, 1071), (276, 1071), (133, 1091), (146, 1091), (185, 1091), (198, 1091), (211, 1091), (224, 1091), (263, 1091), (276, 1091), (133, 1111), (146, 1111), (185, 1111), (198, 1111), (211, 1111), (224, 1111), (263, 1111), (276, 1111), (133, 1131), (146, 1131), (185, 1131), (198, 1131), (211, 1131), (224, 1131), (263, 1131), (276, 1131), (135, 1151), (148, 1151), (261, 1151), (274, 1151), (137, 1171), (150, 1171), (191, 1171), (204, 1171), (217, 1171), (259, 1171), (272, 1171), (139, 1191), (152, 1191), (191, 1191), (204, 1191), (217, 1191)]\n"
    }
   ],
   "source": [
    "\n",
    "res = cv2.matchTemplate(img_gray,template,cv2.TM_CCOEFF_NORMED)\n",
    "threshold = 0.8\n",
    "loc = np.where( res >= threshold)\n",
    "\n",
    "coord = []\n",
    "\n",
    "for pt in zip(*loc[::-1]):\n",
    "    coord.append((pt[0], pt[1]))\n",
    "    cv2.rectangle(img_rgb, pt, (pt[0] + w, pt[1] + h), (0,0,255), 2)\n",
    "\n",
    "for i in coord:\n",
    "    cv2.circle(img_rgb, i, 1, (255, 0, 0), -1)\n",
    "\n",
    "cv2.imshow('test', img_rgb)\n",
    "cv2.waitKey()\n",
    "cv2.destroyAllWindows() \n",
    "\n",
    "print(coord)\n",
    "\n",
    "\n",
    "with open(\"coord.txt\", \"a\") as fichier:\n",
    "    for xy in coord:\n",
    "        fichier.write(str(xy[0]) + \", \" + str(xy[1]) + \"\\n\")\n",
    "\n"
   ]
  },
  {
   "cell_type": "code",
   "execution_count": 16,
   "metadata": {},
   "outputs": [],
   "source": [
    "img_gray = cv2.imread('../All Data/ANALYSE IMAGE/LAYOUT SEATGURU/Aer_Lingus_Airbus_A330-200_plane4.jpg', 0)\n",
    "img_rgb = cv2.imread('../All Data/ANALYSE IMAGE/LAYOUT SEATGURU/Aer_Lingus_Airbus_A330-200_plane4.jpg', 1)\n",
    "#template = cv2.imread('./images/temp_normal_seat.jpg', 0)\n",
    "templates = ['./images/temp_business_seat_armrest_left.jpg', './images/temp_business_seat_armrest_right.jpg', './images/temp_business_elec1.jpg']\n",
    "#templates = ['./images/templateBusinessElectricity.jpg']"
   ]
  },
  {
   "cell_type": "code",
   "execution_count": 10,
   "metadata": {},
   "outputs": [
    {
     "name": "stdout",
     "output_type": "stream",
     "text": "(array([334, 334, 334, 334, 334, 367, 367, 368, 399, 401, 431, 431, 435,\n       435, 435], dtype=int64), array([140, 190, 217, 268, 269, 191, 218, 250, 190, 140, 191, 218, 149,\n       250, 277], dtype=int64))\n"
    }
   ],
   "source": [
    "for templ in templates:\n",
    "    template = cv2.imread(templ, 0)\n",
    "    h, w = template.shape\n",
    "    \n",
    "    res = cv2.matchTemplate(img_gray,template,cv2.TM_CCOEFF_NORMED)\n",
    "    \n",
    "    if templ == './images/temp_business_elec1.jpg':\n",
    "        threshold = 0.7\n",
    "    else:\n",
    "        threshold = 0.7\n",
    "\n",
    "    loc = np.where( res >= threshold)\n",
    "\n",
    "    coord = []\n",
    "\n",
    "    fichier = open(\"coord.txt\", \"a\")\n",
    "\n",
    "    if templ == './images/temp_business_elec1.jpg':\n",
    "        fichier.write('-------------------\\nPrise electrique \\n')\n",
    "\n",
    "    for pt in zip(*loc[::-1]):\n",
    "        fichier.write(str(pt[0]) + \", \" + str(pt[1]) + \"\\n\")\n",
    "        cv2.rectangle(img_rgb, pt, (pt[0] + w, pt[1] + h), (0,0,255), 2)\n",
    "    \n",
    "    fichier.close()\n",
    "\n",
    "cv2.imshow('test', img_rgb)\n",
    "cv2.waitKey()\n",
    "cv2.destroyAllWindows()\n",
    "#cv2.imwrite('test.jpeg', img_rgb)\n",
    "\n",
    "print(np.where( res >= threshold))"
   ]
  },
  {
   "cell_type": "code",
   "execution_count": 38,
   "metadata": {},
   "outputs": [],
   "source": [
    "#img_gray = cv2.imread('../All Data/ANALYSE IMAGE/LAYOUT SEATGURU/Cathay_Pacific_Airbus_A350-900_plane259.jpg', 0)\n",
    "#img_rgb = cv2.imread('../All Data/ANALYSE IMAGE/LAYOUT SEATGURU/Cathay_Pacific_Airbus_A350-900_plane259.jpg', 1) #Ok\n",
    "#img_gray = cv2.imread('../All Data/ANALYSE IMAGE/LAYOUT SEATGURU/Cathay_Pacific_Airbus_A350-1000_plane258.jpg', 0)\n",
    "#img_rgb = cv2.imread('../All Data/ANALYSE IMAGE/LAYOUT SEATGURU/Cathay_Pacific_Airbus_A350-1000_plane258.jpg', 1) #Ok\n",
    "#img_gray = cv2.imread('../All Data/ANALYSE IMAGE/LAYOUT SEATGURU/Cathay_Pacific_Airbus_A330_33E_plane255.jpg', 0)\n",
    "#img_rgb = cv2.imread('../All Data/ANALYSE IMAGE/LAYOUT SEATGURU/Cathay_Pacific_Airbus_A330_33E_plane255.jpg', 1) #Ok\n",
    "#img_gray = cv2.imread('../All Data/ANALYSE IMAGE/LAYOUT SEATGURU/American_Airlines_777-300_ER_plane167.svg.png', 0)\n",
    "#img_rgb = cv2.imread('../All Data/ANALYSE IMAGE/LAYOUT SEATGURU/American_Airlines_777-300_ER_plane167.svg.png', 1) #Null\n",
    "#img_gray = cv2.imread('../All Data/ANALYSE IMAGE/LAYOUT SEATGURU/Asiana_Boeing_777-200_ER_D_plane206.jpg', 0)\n",
    "#img_rgb = cv2.imread('../All Data/ANALYSE IMAGE/LAYOUT SEATGURU/Asiana_Boeing_777-200_ER_D_plane206.jpg', 1) #Null - rectangle autour\n",
    "#img_gray = cv2.imread('../All Data/ANALYSE IMAGE/LAYOUT SEATGURU/Avianca_Boeing_787-8_plane313.jpg', 0)\n",
    "#img_rgb = cv2.imread('../All Data/ANALYSE IMAGE/LAYOUT SEATGURU/Avianca_Boeing_787-8_plane313.jpg', 1) #Ok\n",
    "img_gray = cv2.imread('./theo_remove_caracters_yellow.jpg', 0)\n",
    "img_rgb = cv2.imread('./theo_remove_caracters_yellow.jpg', 1) #Ok\n",
    "\n",
    "\n",
    "#template = cv2.imread('./images/temp_normal_seat.jpg', 0)\n",
    "templates = ['./images/templateBusinessSeat1.jpg', 'templateTest.jpg', './images/templateNormalSeat-SansBlanc.jpg', './images/temp_normal_seat_elec.jpg']\n",
    "\n"
   ]
  },
  {
   "cell_type": "code",
   "execution_count": 40,
   "metadata": {},
   "outputs": [],
   "source": [
    "#Rotation 45° gauche + noir => blanc\n",
    "\n",
    "templateTest = PIL.Image.open(templates[0])\n",
    "rotate = templateTest.rotate(45)\n",
    "rotate = rotate.convert('RGBA')\n",
    "\n",
    "data = np.array(rotate)   # \"data\" is a height x width x 4 numpy array\n",
    "red, green, blue, alpha = data.T # Temporarily unpack the bands for readability\n",
    "\n",
    "\n",
    "black_areas = (red == 0) & (blue == 0) & (green == 0)\n",
    "data[..., :-1][black_areas.T] = (255, 255, 255) # Transpose back needed\n",
    "rotate = PIL.Image.fromarray(data)\n",
    "rotate.show()\n",
    "rotate = rotate.convert('RGB')\n",
    "rotate.save('templateTest.jpg')"
   ]
  },
  {
   "cell_type": "code",
   "execution_count": 41,
   "metadata": {},
   "outputs": [],
   "source": [
    "templateTest = PIL.Image.open(templates[0])\n",
    "rotate = templateTest.transpose(PIL.Image.FLIP_LEFT_RIGHT)\n",
    "\n",
    "rotate.show()\n",
    "rotate.save('templateTest.jpg')\n",
    "\n",
    "\n",
    "#107-171-93"
   ]
  },
  {
   "cell_type": "code",
   "execution_count": 37,
   "metadata": {},
   "outputs": [],
   "source": [
    "templateTest = PIL.Image.open(templates[2])\n",
    "templateTest = templateTest.convert('RGBA')\n",
    "\n",
    "data = np.array(templateTest)\n",
    "red, green, blue, alpha = data.T\n",
    "\n",
    "threshold = 200\n",
    "\n",
    "white_areas = (red >= threshold) & (blue >= threshold) & (green >= threshold)\n",
    "data[..., :-1][white_areas.T] = (255, 255, 255) # Transpose back needed\n",
    "templateTest = PIL.Image.fromarray(data)\n",
    "templateTest.show()\n",
    "\n"
   ]
  },
  {
   "cell_type": "code",
   "execution_count": 42,
   "metadata": {},
   "outputs": [
    {
     "data": {
      "text/plain": "True"
     },
     "execution_count": 42,
     "metadata": {},
     "output_type": "execute_result"
    }
   ],
   "source": [
    "for templ in templates:\n",
    "    template = cv2.imread(templ, 0)\n",
    "    h, w = template.shape\n",
    "    \n",
    "    res = cv2.matchTemplate(img_gray,template,cv2.TM_CCOEFF_NORMED)\n",
    "    \n",
    "    threshold = 0.9\n",
    "    if templ == 'templateTest.jpg':\n",
    "        threshold = 0.60\n",
    "    if templ == templates[0]:\n",
    "        threshold = 0.60\n",
    "    if templ == templates[3]:\n",
    "        threshold = 0.7\n",
    "\n",
    "\n",
    "    loc = np.where( res >= threshold)\n",
    "\n",
    "    #fichier = open(\"coord.txt\", \"a\")\n",
    "\n",
    "    for pt in zip(*loc[::-1]):\n",
    "        #fichier.write(str(pt[0]) + \", \" + str(pt[1]) + \"\\n\")\n",
    "        cv2.rectangle(img_rgb, pt, (pt[0] + w, pt[1] + h), (0,0,255), 2)\n",
    "    \n",
    "    #fichier.close()\n",
    "\n",
    "cv2.imshow('test', img_rgb)\n",
    "cv2.waitKey()\n",
    "cv2.destroyAllWindows()\n",
    "cv2.imwrite('test.jpg', img_rgb)\n",
    "\n",
    "#print(np.where( res >= threshold))"
   ]
  },
  {
   "cell_type": "code",
   "execution_count": 73,
   "metadata": {},
   "outputs": [
    {
     "name": "stdout",
     "output_type": "stream",
     "text": "temp_business_turn_left\n135, 305\n\n136, 305\n\n216, 305\n\n217, 305\n\n135, 306\n\n136, 306\n\n216, 306\n\n217, 306\n\n135, 341\n\n136, 341\n\n216, 341\n\n217, 341\n\n135, 342\n\n136, 342\n\n217, 342\n\n135, 376\n\n216, 376\n\n135, 377\n\n136, 377\n\n216, 377\n\n217, 377\n\n136, 378\n\n217, 378\n\n135, 412\n\n136, 412\n\n216, 412\n\n217, 412\n\n135, 413\n\n136, 413\n\n216, 413\n\n217, 413\n\n135, 533\n\n136, 533\n\n216, 533\n\n217, 533\n\n135, 534\n\n136, 534\n\n216, 534\n\n217, 534\n\ntemp_business_turn_right\n179, 305\n\n259, 305\n\n260, 305\n\n178, 306\n\n179, 306\n\n259, 306\n\n178, 341\n\n179, 341\n\n259, 341\n\n260, 341\n\n178, 342\n\n179, 342\n\n259, 342\n\n179, 376\n\n259, 376\n\n260, 376\n\n178, 377\n\n179, 377\n\n259, 377\n\n260, 377\n\n259, 378\n\n179, 412\n\n259, 412\n\n260, 412\n\n178, 413\n\n179, 413\n\n259, 413\n\n179, 533\n\n259, 533\n\n260, 533\n\n178, 534\n\n179, 534\n\n259, 534\n\ntemp_normal_seat_elec\n190, 603\n\n132, 604\n\n133, 604\n\n147, 604\n\n162, 604\n\n190, 604\n\n204, 604\n\n219, 604\n\n246, 604\n\n260, 604\n\n275, 604\n\n190, 624\n\n204, 624\n\n219, 624\n\n133, 625\n\n147, 625\n\n162, 625\n\n190, 625\n\n204, 625\n\n219, 625\n\n246, 625\n\n260, 625\n\n275, 625\n\n133, 645\n\n147, 645\n\n162, 645\n\n190, 645\n\n204, 645\n\n219, 645\n\n246, 645\n\n260, 645\n\n275, 645\n\n133, 646\n\n147, 646\n\n162, 646\n\n246, 646\n\n260, 646\n\n275, 646\n\n133, 666\n\n147, 666\n\n162, 666\n\n190, 666\n\n204, 666\n\n219, 666\n\n246, 666\n\n260, 666\n\n275, 666\n\n133, 687\n\n147, 687\n\n162, 687\n\n190, 687\n\n204, 687\n\n219, 687\n\n246, 687\n\n260, 687\n\n275, 687\n\n133, 708\n\n147, 708\n\n162, 708\n\n190, 708\n\n204, 708\n\n219, 708\n\n246, 708\n\n260, 708\n\n275, 708\n\n133, 729\n\n147, 729\n\n162, 729\n\n190, 729\n\n204, 729\n\n219, 729\n\n246, 729\n\n260, 729\n\n275, 729\n\n132, 750\n\n133, 750\n\n147, 750\n\n162, 750\n\n190, 750\n\n204, 750\n\n219, 750\n\n246, 750\n\n260, 750\n\n275, 750\n\n190, 770\n\n204, 770\n\n133, 771\n\n147, 771\n\n162, 771\n\n190, 771\n\n204, 771\n\n219, 771\n\n246, 771\n\n260, 771\n\n275, 771\n\n133, 791\n\n147, 791\n\n190, 791\n\n204, 791\n\n219, 791\n\n246, 791\n\n260, 791\n\n275, 791\n\n133, 792\n\n147, 792\n\n162, 792\n\n246, 792\n\n260, 792\n\n275, 792\n\n133, 812\n\n147, 812\n\n162, 812\n\n190, 812\n\n204, 812\n\n219, 812\n\n246, 812\n\n260, 812\n\n275, 812\n\n133, 813\n\n162, 813\n\n246, 813\n\n260, 813\n\n275, 813\n\n133, 833\n\n147, 833\n\n162, 833\n\n190, 833\n\n204, 833\n\n219, 833\n\n246, 833\n\n260, 833\n\n275, 833\n\n133, 854\n\n147, 854\n\n162, 854\n\n246, 854\n\n260, 854\n\n275, 854\n\n190, 926\n\n204, 926\n\n190, 927\n\n204, 927\n\n219, 927\n\n133, 947\n\n147, 947\n\n190, 947\n\n204, 947\n\n219, 947\n\n246, 947\n\n260, 947\n\n275, 947\n\n133, 948\n\n147, 948\n\n162, 948\n\n190, 948\n\n204, 948\n\n219, 948\n\n246, 948\n\n260, 948\n\n275, 948\n\n133, 968\n\n147, 968\n\n162, 968\n\n190, 968\n\n204, 968\n\n219, 968\n\n246, 968\n\n260, 968\n\n275, 968\n\n133, 969\n\n162, 969\n\n246, 969\n\n260, 969\n\n275, 969\n\n133, 989\n\n147, 989\n\n162, 989\n\n190, 989\n\n204, 989\n\n219, 989\n\n246, 989\n\n260, 989\n\n275, 989\n\n133, 1010\n\n147, 1010\n\n162, 1010\n\n190, 1010\n\n204, 1010\n\n219, 1010\n\n246, 1010\n\n260, 1010\n\n275, 1010\n\n133, 1031\n\n147, 1031\n\n162, 1031\n\n190, 1031\n\n204, 1031\n\n219, 1031\n\n246, 1031\n\n260, 1031\n\n275, 1031\n\n133, 1052\n\n147, 1052\n\n162, 1052\n\n190, 1052\n\n204, 1052\n\n219, 1052\n\n246, 1052\n\n260, 1052\n\n275, 1052\n\n190, 1072\n\n204, 1072\n\n147, 1073\n\n162, 1073\n\n190, 1073\n\n204, 1073\n\n219, 1073\n\n246, 1073\n\n260, 1073\n\n190, 1093\n\n204, 1093\n\n219, 1093\n\n133, 1094\n\n147, 1094\n\n162, 1094\n\n190, 1094\n\n204, 1094\n\n219, 1094\n\n246, 1094\n\n260, 1094\n\n275, 1094\n\n190, 1114\n\n204, 1114\n\n219, 1114\n\n190, 1135\n\n204, 1135\n\n219, 1135\n\n"
    },
    {
     "data": {
      "text/plain": "True"
     },
     "execution_count": 73,
     "metadata": {},
     "output_type": "execute_result"
    }
   ],
   "source": [
    "#Version 0\n",
    "\n",
    "#img_gray = cv2.imread('../All Data/ANALYSE IMAGE/LAYOUT SEATGURU/Cathay_Pacific_Airbus_A350-900_plane259.jpg', 0)\n",
    "#img_rgb = cv2.imread('../All Data/ANALYSE IMAGE/LAYOUT SEATGURU/Cathay_Pacific_Airbus_A350-900_plane259.jpg', 1) #Ok\n",
    "#img_gray = cv2.imread('../All Data/ANALYSE IMAGE/LAYOUT SEATGURU/Cathay_Pacific_Airbus_A350-1000_plane258.jpg', 0)\n",
    "#img_rgb = cv2.imread('../All Data/ANALYSE IMAGE/LAYOUT SEATGURU/Cathay_Pacific_Airbus_A350-1000_plane258.jpg', 1) #Ok\n",
    "#img_gray = cv2.imread('../All Data/ANALYSE IMAGE/LAYOUT SEATGURU/Cathay_Pacific_Airbus_A330_33E_plane255.jpg', 0)\n",
    "#img_rgb = cv2.imread('../All Data/ANALYSE IMAGE/LAYOUT SEATGURU/Cathay_Pacific_Airbus_A330_33E_plane255.jpg', 1) #Ok\n",
    "#img_gray = cv2.imread('../All Data/ANALYSE IMAGE/LAYOUT SEATGURU/American_Airlines_777-300_ER_plane167.svg.png', 0)\n",
    "#img_rgb = cv2.imread('../All Data/ANALYSE IMAGE/LAYOUT SEATGURU/American_Airlines_777-300_ER_plane167.svg.png', 1) #Null\n",
    "#img_gray = cv2.imread('../All Data/ANALYSE IMAGE/LAYOUT SEATGURU/Asiana_Boeing_777-200_ER_D_plane206.jpg', 0)\n",
    "#img_rgb = cv2.imread('../All Data/ANALYSE IMAGE/LAYOUT SEATGURU/Asiana_Boeing_777-200_ER_D_plane206.jpg', 1) #Null - rectangle autour\n",
    "img_gray = cv2.imread('../All Data/ANALYSE IMAGE/LAYOUT SEATGURU/Avianca_Boeing_787-8_plane313.jpg', 0)\n",
    "img_rgb = cv2.imread('../All Data/ANALYSE IMAGE/LAYOUT SEATGURU/Avianca_Boeing_787-8_plane313.jpg', 1) #Ok\n",
    "#img_gray = cv2.imread('./theo_remove_caracters_yellow.jpg', 0)\n",
    "#img_rgb = cv2.imread('./theo_remove_caracters_yellow.jpg', 1) #Ok\n",
    "\n",
    "\n",
    "#template = cv2.imread('./images/temp_normal_seat.jpg', 0)\n",
    "templates = ['./images/temp_business_turn_left.jpg', './images/temp_business_turn_right.jpg','./images/temp_normal_seat_elec.jpg']\n",
    "\n",
    "for templ in templates:\n",
    "    template = cv2.imread(templ, 0)\n",
    "    h, w = template.shape\n",
    "    \n",
    "    res = cv2.matchTemplate(img_gray,template,cv2.TM_CCOEFF_NORMED)\n",
    "    \n",
    "    threshold = 0.9\n",
    "    if templ == templates[0]:\n",
    "        print('temp_business_turn_left')\n",
    "        threshold = 0.60\n",
    "    if templ == templates[1]:\n",
    "        print('temp_business_turn_right')\n",
    "        threshold = 0.60\n",
    "    if templ == templates[2]:\n",
    "        print('temp_normal_seat_elec')\n",
    "        threshold = 0.65\n",
    "\n",
    "\n",
    "    loc = np.where( res >= threshold)\n",
    "\n",
    "    #fichier = open(\"coord.txt\", \"a\")\n",
    "\n",
    "    for pt in zip(*loc[::-1]):\n",
    "        print(str(pt[0]) + ', ' + str(pt[1]) + '\\n')\n",
    "        #fichier.write(str(pt[0]) + \", \" + str(pt[1]) + \"\\n\")\n",
    "        cv2.rectangle(img_rgb, pt, (pt[0] + w, pt[1] + h), (0,0,255), 2)\n",
    "    \n",
    "    #fichier.close()\n",
    "\n",
    "cv2.imshow('test', img_rgb)\n",
    "cv2.waitKey()\n",
    "cv2.destroyAllWindows()\n",
    "cv2.imwrite('test.jpg', img_rgb)\n",
    "\n",
    "#print(np.where( res >= threshold))\n"
   ]
  },
  {
   "cell_type": "code",
   "execution_count": null,
   "metadata": {},
   "outputs": [],
   "source": []
  }
 ],
 "metadata": {
  "file_extension": ".py",
  "kernelspec": {
   "display_name": "Python 3",
   "language": "python",
   "name": "python3"
  },
  "language_info": {
   "codemirror_mode": {
    "name": "ipython",
    "version": 3
   },
   "file_extension": ".py",
   "mimetype": "text/x-python",
   "name": "python",
   "nbconvert_exporter": "python",
   "pygments_lexer": "ipython3",
   "version": "3.7.3-final"
  },
  "mimetype": "text/x-python",
  "name": "python",
  "npconvert_exporter": "python",
  "pygments_lexer": "ipython3",
  "version": 3
 },
 "nbformat": 4,
 "nbformat_minor": 2
}