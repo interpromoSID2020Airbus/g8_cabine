{
 "cells": [
  {
   "cell_type": "code",
   "execution_count": 2,
   "metadata": {},
   "outputs": [],
   "source": [
    "import os\n",
    "os.getcwd()\n",
    "os.chdir('c:\\\\Users\\\\Stior\\\\Documents\\\\cours\\\\L3SID\\\\Projet-InterPromo\\\\ProjetInterpromo2020G8')"
   ]
  },
  {
   "cell_type": "code",
   "execution_count": 59,
   "metadata": {},
   "outputs": [],
   "source": [
    "from pipeline import Pipeline, Process, Postprocess, Preprocess\n",
    "import numpy as np\n",
    "import pandas as pd\n",
    "import cv2\n",
    "from matplotlib import pyplot as plt\n",
    "import PIL"
   ]
  },
  {
   "cell_type": "code",
   "execution_count": 4,
   "metadata": {},
   "outputs": [],
   "source": [
    "class MyPreProcess(Preprocess):\n",
    "    process_desc = \"Exemple de pre-process -> ne fait rien\"\n",
    "    def run(self, images):\n",
    "        pass\n",
    "\n",
    "\n",
    "class MyProcess(Process):\n",
    "    process_desc = \"Exemple de process -> ne fait rien\"\n",
    "    def run(self, images):\n",
    "        pass\n",
    "    \n",
    "    \n",
    "class MyPostProcess(Postprocess):\n",
    "    process_desc = \"Exemple de post-process -> ne fait rien\"\n",
    "    def run(self, images):\n",
    "        pass"
   ]
  },
  {
   "cell_type": "code",
   "execution_count": 5,
   "metadata": {},
   "outputs": [
    {
     "name": "stdout",
     "output_type": "stream",
     "text": "Preprocess :  Exemple de pre-process -> ne fait rien\nProcess :  Exemple de process -> ne fait rien\nPostprocess :  Exemple de post-process -> ne fait rien\nExemple de pre-process -> ne fait rien a été ajouté.\nExemple de process -> ne fait rien a été ajouté.\nExemple de post-process -> ne fait rien a été ajouté.\nExemple de pre-process -> ne fait rien a été ajouté.\n"
    }
   ],
   "source": [
    "pipeline = Pipeline()\n",
    "process_array = np.array([MyPreProcess()\n",
    "                          ,MyProcess()\n",
    "                          ,MyPostProcess()\n",
    "                          ,MyPreProcess(verbose=0)])\n",
    "pipeline.add_processes(process_array)\n"
   ]
  },
  {
   "cell_type": "code",
   "execution_count": 6,
   "metadata": {},
   "outputs": [
    {
     "name": "stdout",
     "output_type": "stream",
     "text": "Exemple de pre-process -> ne fait rien\nExemple de pre-process -> ne fait rien\nExemple de process -> ne fait rien\nExemple de post-process -> ne fait rien\n"
    }
   ],
   "source": [
    "pipeline.print_process()"
   ]
  },
  {
   "cell_type": "code",
   "execution_count": 7,
   "metadata": {},
   "outputs": [],
   "source": [
    "img_gray = cv2.imread('../All Data/ANALYSE IMAGE/LAYOUT SEATGURU/Aer_Lingus_Airbus_A330-200_plane4.jpg', 0)\n",
    "img_rgb = cv2.imread('../All Data/ANALYSE IMAGE/LAYOUT SEATGURU/Aer_Lingus_Airbus_A330-200_plane4.jpg', 1)\n",
    "\n",
    "#img_gray = cv2.imread('../All Data/ANALYSE IMAGE/LAYOUT SEATGURU/Aer_Lingus_Airbus_A320_plane9.jpg', 0)\n",
    "#img_rgb = cv2.imread('../All Data/ANALYSE IMAGE/LAYOUT SEATGURU/Aer_Lingus_Airbus_A320_plane9.jpg', 1)\n",
    "\n",
    "\n",
    "#img_gray = cv2.imread('../All Data/ANALYSE IMAGE/LAYOUT SEATGURU/Air_Transat_Airbus_A330-300_V2_plane128.jpg', 0)\n",
    "#img_rgb = cv2.imread('../All Data/ANALYSE IMAGE/LAYOUT SEATGURU/Air_Transat_Airbus_A330-300_V2_plane128.jpg', 1)\n",
    "\n",
    "#template = cv2.imread('./images/temp_normal_seat.jpg', 0)\n",
    "template = cv2.imread('./images/templateTest.jpg', 0)\n",
    "#template = cv2.imread('./images/templateNormalSeat-SansBlanc.png', 0)\n",
    "#template = cv2.imread('./images/templateNormalSeat-SansBlanc.jpg', 0)\n",
    "\n",
    "#cv2.imshow('Test', img2)\n",
    "#cv2.waitKey()\n",
    "#cv2.destroyAllWindows() \n",
    "\n",
    "\n",
    "h, w = template.shape\n"
   ]
  },
  {
   "cell_type": "code",
   "execution_count": 9,
   "metadata": {},
   "outputs": [],
   "source": [
    "\n",
    "methods = ['cv2.TM_CCOEFF', 'cv2.TM_CCOEFF_NORMED', 'cv2.TM_CCORR', 'cv2.TM_CCORR_NORMED', 'cv2.TM_SQDIFF', 'cv2.TM_SQDIFF_NORMED']"
   ]
  },
  {
   "cell_type": "code",
   "execution_count": 11,
   "metadata": {},
   "outputs": [
    {
     "name": "stdout",
     "output_type": "stream",
     "text": "[(146, 517), (133, 537), (146, 537), (185, 537), (198, 537), (211, 537), (224, 537), (263, 537), (276, 537), (133, 557), (146, 557), (185, 557), (198, 557), (211, 557), (224, 557), (263, 557), (276, 557), (133, 577), (146, 577), (185, 577), (198, 577), (211, 577), (224, 577), (263, 577), (276, 577), (133, 597), (146, 597), (185, 597), (198, 597), (211, 597), (224, 597), (263, 597), (276, 597), (133, 617), (146, 617), (185, 617), (198, 617), (211, 617), (224, 617), (263, 617), (276, 617), (133, 637), (146, 637), (185, 637), (198, 637), (211, 637), (224, 637), (263, 637), (276, 637), (133, 657), (146, 657), (185, 657), (198, 657), (211, 657), (224, 657), (263, 657), (276, 657), (133, 677), (146, 677), (185, 677), (198, 677), (211, 677), (224, 677), (263, 677), (276, 677), (133, 697), (146, 697), (185, 697), (198, 697), (211, 697), (224, 697), (263, 697), (276, 697), (133, 717), (146, 717), (185, 717), (198, 717), (211, 717), (224, 717), (263, 717), (276, 717), (133, 737), (146, 737), (185, 737), (198, 737), (211, 737), (224, 737), (263, 737), (276, 737), (133, 757), (146, 757), (185, 757), (198, 757), (211, 757), (224, 757), (263, 757), (276, 757), (133, 777), (146, 777), (185, 777), (198, 777), (211, 777), (224, 777), (263, 777), (276, 777), (133, 797), (146, 797), (185, 797), (198, 797), (211, 797), (224, 797), (263, 797), (276, 797), (133, 817), (146, 817), (185, 817), (198, 817), (211, 817), (224, 817), (263, 817), (276, 817), (133, 837), (146, 837), (185, 837), (198, 837), (211, 837), (224, 837), (263, 837), (276, 837), (133, 857), (146, 857), (263, 857), (276, 857), (133, 971), (146, 971), (185, 971), (198, 971), (211, 971), (224, 971), (263, 971), (276, 971), (133, 991), (146, 991), (185, 991), (198, 991), (211, 991), (224, 991), (263, 991), (276, 991), (133, 1011), (146, 1011), (185, 1011), (198, 1011), (211, 1011), (224, 1011), (263, 1011), (276, 1011), (133, 1031), (146, 1031), (185, 1031), (198, 1031), (211, 1031), (224, 1031), (263, 1031), (276, 1031), (133, 1051), (146, 1051), (185, 1051), (198, 1051), (211, 1051), (224, 1051), (263, 1051), (276, 1051), (133, 1071), (146, 1071), (185, 1071), (198, 1071), (211, 1071), (224, 1071), (263, 1071), (276, 1071), (133, 1091), (146, 1091), (185, 1091), (198, 1091), (211, 1091), (224, 1091), (263, 1091), (276, 1091), (133, 1111), (146, 1111), (185, 1111), (198, 1111), (211, 1111), (224, 1111), (263, 1111), (276, 1111), (133, 1131), (146, 1131), (185, 1131), (198, 1131), (211, 1131), (224, 1131), (263, 1131), (276, 1131), (135, 1151), (148, 1151), (261, 1151), (274, 1151), (137, 1171), (150, 1171), (191, 1171), (204, 1171), (217, 1171), (259, 1171), (272, 1171), (139, 1191), (152, 1191), (191, 1191), (204, 1191), (217, 1191)]\n"
    }
   ],
   "source": [
    "\n",
    "res = cv2.matchTemplate(img_gray,template,cv2.TM_CCOEFF_NORMED)\n",
    "threshold = 0.7\n",
    "loc = np.where( res >= threshold)\n",
    "\n",
    "coord = []\n",
    "\n",
    "for pt in zip(*loc[::-1]):\n",
    "    coord.append((pt[0], pt[1]))\n",
    "    cv2.rectangle(img_rgb, pt, (pt[0] + w, pt[1] + h), (0,0,255), 2)\n",
    "\n",
    "for i in coord:\n",
    "    cv2.circle(img_rgb, i, 1, (255, 0, 0), -1)\n",
    "\n",
    "cv2.imshow('test', img_rgb)\n",
    "cv2.waitKey()\n",
    "cv2.destroyAllWindows() \n",
    "\n",
    "print(coord)\n",
    "\n",
    "\n",
    "with open(\"coord.txt\", \"a\") as fichier:\n",
    "    for xy in coord:\n",
    "        fichier.write(str(xy[0]) + \", \" + str(xy[1]) + \"\\n\")\n",
    "\n"
   ]
  },
  {
   "cell_type": "code",
   "execution_count": 29,
   "metadata": {},
   "outputs": [],
   "source": [
    "img_gray = cv2.imread('../All Data/ANALYSE IMAGE/LAYOUT SEATGURU/Aer_Lingus_Airbus_A330-200_plane4.jpg', 0)\n",
    "img_rgb = cv2.imread('../All Data/ANALYSE IMAGE/LAYOUT SEATGURU/Aer_Lingus_Airbus_A330-200_plane4.jpg', 1)\n",
    "#template = cv2.imread('./images/temp_normal_seat.jpg', 0)\n",
    "templates = ['./images/templateBusinessSeatLeft.jpg', './images/templateBusinessSeatRight.jpg', './images/templateBusinessElectricity.jpg']\n",
    "#templates = ['./images/templateBusinessElectricity.jpg']"
   ]
  },
  {
   "cell_type": "code",
   "execution_count": 31,
   "metadata": {},
   "outputs": [
    {
     "name": "stdout",
     "output_type": "stream",
     "text": "(array([334, 334, 334, 334, 334, 367, 367, 368, 399, 401, 431, 431, 435,\n       435, 435], dtype=int64), array([140, 190, 217, 268, 269, 191, 218, 250, 190, 140, 191, 218, 149,\n       250, 277], dtype=int64))\n"
    }
   ],
   "source": [
    "for templ in templates:\n",
    "    template = cv2.imread(templ, 0)\n",
    "    h, w = template.shape[::]\n",
    "    \n",
    "    res = cv2.matchTemplate(img_gray,template,cv2.TM_CCOEFF_NORMED)\n",
    "    \n",
    "    if templ == './images/templateBusinessElectricity.jpg':\n",
    "        threshold = 0.7\n",
    "    else:\n",
    "        threshold = 0.7\n",
    "\n",
    "    loc = np.where( res >= threshold)\n",
    "\n",
    "    coord = []\n",
    "\n",
    "    fichier = open(\"coord.txt\", \"a\")\n",
    "\n",
    "    if templ == './images/templateBusinessElectricity.jpg':\n",
    "        fichier.write('-------------------\\nPrise electrique \\n')\n",
    "\n",
    "    for pt in zip(*loc[::-1]):\n",
    "        fichier.write(str(pt[0]) + \", \" + str(pt[1]) + \"\\n\")\n",
    "        cv2.rectangle(img_rgb, pt, (pt[0] + w, pt[1] + h), (0,0,255), 2)\n",
    "    \n",
    "    fichier.close()\n",
    "\n",
    "cv2.imshow('test', img_rgb)\n",
    "cv2.waitKey()\n",
    "cv2.destroyAllWindows()\n",
    "#cv2.imwrite('test.jpeg', img_rgb)\n",
    "\n",
    "print(np.where( res >= threshold))"
   ]
  },
  {
   "cell_type": "code",
   "execution_count": 83,
   "metadata": {},
   "outputs": [],
   "source": [
    "img_gray = cv2.imread('../All Data/ANALYSE IMAGE/LAYOUT SEATGURU/Cathay_Pacific_Airbus_A350-900_plane259.jpg', 0)\n",
    "img_rgb = cv2.imread('../All Data/ANALYSE IMAGE/LAYOUT SEATGURU/Cathay_Pacific_Airbus_A350-900_plane259.jpg', 1)\n",
    "#template = cv2.imread('./images/temp_normal_seat.jpg', 0)\n",
    "templates = ['./images/templateBusinessElectricity.jpg', './images/templateNormalSeat-SansBlanc.jpg', './images/templateTest.jpg', './images/templateBusinessSeat.jpg', 'templateTest.jpg']\n",
    "\n"
   ]
  },
  {
   "cell_type": "code",
   "execution_count": 87,
   "metadata": {},
   "outputs": [],
   "source": [
    "templateTest = PIL.Image.open(templates[3])\n",
    "rotate = templateTest.rotate(45)\n",
    "rotate.show()\n",
    "rotate.save('templateTest.jpg')"
   ]
  },
  {
   "cell_type": "code",
   "execution_count": 86,
   "metadata": {},
   "outputs": [
    {
     "name": "stdout",
     "output_type": "stream",
     "text": "(array([  34,   34,   35, ..., 1772, 1772, 1772], dtype=int64), array([198, 199, 197, ..., 180, 181, 182], dtype=int64))\n"
    }
   ],
   "source": [
    "for templ in templates:\n",
    "    template = cv2.imread(templ, 0)\n",
    "    h, w = template.shape[::]\n",
    "    \n",
    "    res = cv2.matchTemplate(img_gray,template,cv2.TM_CCOEFF_NORMED)\n",
    "    \n",
    "    threshold = 0.8\n",
    "    \n",
    "    if templ == templates[0]:\n",
    "        threshold = 0.8\n",
    "    if templ == templates[1]:\n",
    "        threshold = 0.8\n",
    "    if templ == templates[2]:\n",
    "        threshold = 0.8\n",
    "    if templ == templates[3]:\n",
    "        threshold = 0.8\n",
    "    if templ == templates[4]:\n",
    "        threshold = 0.4\n",
    "\n",
    "\n",
    "    loc = np.where( res >= threshold)\n",
    "\n",
    "    coord = []\n",
    "\n",
    "    #fichier = open(\"coord.txt\", \"a\")\n",
    "\n",
    "    for pt in zip(*loc[::-1]):\n",
    "        #fichier.write(str(pt[0]) + \", \" + str(pt[1]) + \"\\n\")\n",
    "        cv2.rectangle(img_rgb, pt, (pt[0] + w, pt[1] + h), (0,0,255), 2)\n",
    "    \n",
    "    #fichier.close()\n",
    "\n",
    "cv2.imshow('test', img_rgb)\n",
    "cv2.waitKey()\n",
    "cv2.destroyAllWindows()\n",
    "cv2.imwrite('test.jpeg', img_rgb)\n",
    "\n",
    "print(np.where( res >= threshold))"
   ]
  },
  {
   "cell_type": "code",
   "execution_count": null,
   "metadata": {},
   "outputs": [],
   "source": []
  }
 ],
 "metadata": {
  "file_extension": ".py",
  "kernelspec": {
   "display_name": "Python 3",
   "language": "python",
   "name": "python3"
  },
  "language_info": {
   "codemirror_mode": {
    "name": "ipython",
    "version": 3
   },
   "file_extension": ".py",
   "mimetype": "text/x-python",
   "name": "python",
   "nbconvert_exporter": "python",
   "pygments_lexer": "ipython3",
   "version": "3.7.3"
  },
  "mimetype": "text/x-python",
  "name": "python",
  "npconvert_exporter": "python",
  "pygments_lexer": "ipython3",
  "version": 3
 },
 "nbformat": 4,
 "nbformat_minor": 2
}