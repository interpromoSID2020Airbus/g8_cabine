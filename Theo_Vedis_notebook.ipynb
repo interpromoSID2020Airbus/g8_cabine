{
 "cells": [
  {
   "cell_type": "code",
   "execution_count": 1,
   "metadata": {},
   "outputs": [],
   "source": [
    "%load_ext pycodestyle_magic\n",
    "%pycodestyle_on"
   ]
  },
  {
   "cell_type": "code",
   "execution_count": 2,
   "metadata": {},
   "outputs": [],
   "source": [
    "import os\n",
    "os.getcwd()\n",
    "os.chdir('c:\\\\Users\\\\Stior\\\\Documents\\\\cours\\\\L3SID\\\\Projet-InterPromo\\\n",
    "\\\\ProjetInterpromo2020G8')"
   ]
  },
  {
   "cell_type": "code",
   "execution_count": 3,
   "metadata": {},
   "outputs": [],
   "source": [
    "from pipeline import Pipeline, Process, Postprocess, Preprocess\n",
    "import numpy as np\n",
    "import pandas as pd\n",
    "import cv2\n",
    "from matplotlib import pyplot as plt\n",
    "import PIL"
   ]
  },
  {
   "cell_type": "code",
   "execution_count": 4,
   "metadata": {},
   "outputs": [],
   "source": [
    "class MyPreProcess(Preprocess):\n",
    "    process_desc = \"Exemple de pre-process -> ne fait rien\"\n",
    "    def run(self, images):\n",
    "        pass\n",
    "\n",
    "\n",
    "class MyProcess(Process):\n",
    "    process_desc = \"Exemple de process -> ne fait rien\"\n",
    "    def run(self, images):\n",
    "        pass\n",
    "    \n",
    "\n",
    "class MyPostProcess(Postprocess):\n",
    "    process_desc = \"Exemple de post-process -> ne fait rien\"\n",
    "    def run(self, images):\n",
    "        pass"
   ]
  },
  {
   "cell_type": "code",
   "execution_count": 5,
   "metadata": {},
   "outputs": [
    {
     "name": "stdout",
     "output_type": "stream",
     "text": "Preprocess :  Exemple de pre-process -> ne fait rien\nProcess :  Exemple de process -> ne fait rien\nPostprocess :  Exemple de post-process -> ne fait rien\nExemple de pre-process -> ne fait rien a été ajouté.\nExemple de process -> ne fait rien a été ajouté.\nExemple de post-process -> ne fait rien a été ajouté.\nExemple de pre-process -> ne fait rien a été ajouté.\n"
    }
   ],
   "source": [
    "pipeline = Pipeline()\n",
    "process_array = np.array([MyPreProcess()\n",
    "                          ,MyProcess()\n",
    "                          ,MyPostProcess()\n",
    "                          ,MyPreProcess(verbose=0)])\n",
    "pipeline.add_processes(process_array)\n"
   ]
  },
  {
   "cell_type": "code",
   "execution_count": 14,
   "metadata": {},
   "outputs": [
    {
     "name": "stdout",
     "output_type": "stream",
     "text": "Exemple de pre-process -> ne fait rien\nExemple de pre-process -> ne fait rien\nExemple de process -> ne fait rien\nExemple de post-process -> ne fait rien\n"
    }
   ],
   "source": [
    "pipeline.print_process()"
   ]
  },
  {
   "cell_type": "markdown",
   "execution_count": null,
   "metadata": {},
   "outputs": [],
   "source": [
    "### Ouverture d'image"
   ]
  },
  {
   "cell_type": "code",
   "execution_count": 15,
   "metadata": {},
   "outputs": [],
   "source": [
    "img_gray = cv2.imread('../All Data/ANALYSE IMAGE/LAYOUT SEATGURU/Aer_Lingus_Airbus_A330-200_plane4.jpg', 0)\n",
    "img_rgb = cv2.imread('../All Data/ANALYSE IMAGE/LAYOUT SEATGURU/Aer_Lingus_Airbus_A330-200_plane4.jpg', 1)\n",
    "\n",
    "# img_gray = cv2.imread('../All Data/ANALYSE IMAGE/LAYOUT SEATGURU/\\\n",
    "#                         Aer_Lingus_Airbus_A320_plane9.jpg', 0)\n",
    "# img_rgb = cv2.imread('../All Data/ANALYSE IMAGE/LAYOUT SEATGURU/\\\n",
    "#                         Aer_Lingus_Airbus_A320_plane9.jpg', 1)\n",
    "\n",
    "\n",
    "# # img_gray = cv2.imread('../All Data/ANALYSE IMAGE/LAYOUT SEATGURU/\\\n",
    "#                         Air_Transat_Airbus_A330-300_V2_plane128.jpg', 0)\n",
    "# # img_rgb = cv2.imread('../All Data/ANALYSE IMAGE/LAYOUT SEATGURU/\\\n",
    "#                         Air_Transat_Airbus_A330-300_V2_plane128.jpg', 1)\n",
    "\n",
    "# template = cv2.imread('./images/temp_normal_seat.jpg', 0)\n",
    "# template = cv2.imread('./images/templateTest.jpg', 0)\n",
    "# template = cv2.imread('./images/templateNormalSeat-SansBlanc.png', 0)\n",
    "# template = cv2.imread('./images/templateNormalSeat-SansBlanc.jpg', 0)\n",
    "template = cv2.imread('./images/templateTest-sansBlanc.png', 0)\n",
    "\n",
    "# cv2.imshow('Test', img2)\n",
    "# cv2.waitKey()\n",
    "# cv2.destroyAllWindows()\n",
    "h, w = template.shape\n",
    "# Match template method\n",
    "methods = ['cv2.TM_CCOEFF', 'cv2.TM_CCOEFF_NORMED', 'cv2.TM_CCORR',\\\n",
    "'cv2.TM_CCORR_NORMED', 'cv2.TM_SQDIFF', 'cv2.TM_SQDIFF_NORMED']"
   ]
  },
  {
   "cell_type": "markdown",
   "execution_count": null,
   "metadata": {},
   "outputs": [],
   "source": [
    "### Premier test de pattern matching + sortie en txt"
   ]
  },
  {
   "cell_type": "code",
   "execution_count": 16,
   "metadata": {},
   "outputs": [
    {
     "name": "stdout",
     "output_type": "stream",
     "text": "[(146, 517), (133, 537), (146, 537), (185, 537), (198, 537), (211, 537), (224, 537), (263, 537), (276, 537), (133, 557), (146, 557), (185, 557), (198, 557), (211, 557), (224, 557), (263, 557), (276, 557), (133, 577), (146, 577), (185, 577), (198, 577), (211, 577), (224, 577), (263, 577), (276, 577), (133, 597), (146, 597), (185, 597), (198, 597), (211, 597), (224, 597), (263, 597), (276, 597), (133, 617), (146, 617), (185, 617), (198, 617), (211, 617), (224, 617), (263, 617), (276, 617), (133, 637), (146, 637), (185, 637), (198, 637), (211, 637), (224, 637), (263, 637), (276, 637), (133, 657), (146, 657), (185, 657), (198, 657), (211, 657), (224, 657), (263, 657), (276, 657), (133, 677), (146, 677), (185, 677), (198, 677), (211, 677), (224, 677), (263, 677), (276, 677), (133, 697), (146, 697), (185, 697), (198, 697), (211, 697), (224, 697), (263, 697), (276, 697), (133, 717), (146, 717), (185, 717), (198, 717), (211, 717), (224, 717), (263, 717), (276, 717), (133, 737), (146, 737), (185, 737), (198, 737), (211, 737), (224, 737), (263, 737), (276, 737), (133, 757), (146, 757), (185, 757), (198, 757), (211, 757), (224, 757), (263, 757), (276, 757), (133, 777), (146, 777), (185, 777), (198, 777), (211, 777), (224, 777), (263, 777), (276, 777), (133, 797), (146, 797), (185, 797), (198, 797), (211, 797), (224, 797), (263, 797), (276, 797), (133, 817), (146, 817), (185, 817), (198, 817), (211, 817), (224, 817), (263, 817), (276, 817), (133, 837), (146, 837), (185, 837), (198, 837), (211, 837), (224, 837), (263, 837), (276, 837), (133, 857), (146, 857), (263, 857), (276, 857), (133, 971), (146, 971), (185, 971), (198, 971), (211, 971), (224, 971), (263, 971), (276, 971), (133, 991), (146, 991), (185, 991), (198, 991), (211, 991), (224, 991), (263, 991), (276, 991), (133, 1011), (146, 1011), (185, 1011), (198, 1011), (211, 1011), (224, 1011), (263, 1011), (276, 1011), (133, 1031), (146, 1031), (185, 1031), (198, 1031), (211, 1031), (224, 1031), (263, 1031), (276, 1031), (133, 1051), (146, 1051), (185, 1051), (198, 1051), (211, 1051), (224, 1051), (263, 1051), (276, 1051), (133, 1071), (146, 1071), (185, 1071), (198, 1071), (211, 1071), (224, 1071), (263, 1071), (276, 1071), (133, 1091), (146, 1091), (185, 1091), (198, 1091), (211, 1091), (224, 1091), (263, 1091), (276, 1091), (133, 1111), (146, 1111), (185, 1111), (198, 1111), (211, 1111), (224, 1111), (263, 1111), (276, 1111), (133, 1131), (146, 1131), (185, 1131), (198, 1131), (211, 1131), (224, 1131), (263, 1131), (276, 1131), (135, 1151), (148, 1151), (261, 1151), (274, 1151), (137, 1171), (150, 1171), (191, 1171), (204, 1171), (217, 1171), (259, 1171), (272, 1171), (139, 1191), (152, 1191), (191, 1191), (204, 1191), (217, 1191)]\n"
    }
   ],
   "source": [
    "\n",
    "res = cv2.matchTemplate(img_gray,template,cv2.TM_CCOEFF_NORMED)\n",
    "THRESHOLD = 0.8\n",
    "loc = np.where( res >= THRESHOLD)\n",
    "\n",
    "coord = []\n",
    "\n",
    "for pt in zip(*loc[::-1]):\n",
    "    coord.append((pt[0], pt[1]))\n",
    "    cv2.rectangle(img_rgb, pt, (pt[0] + w, pt[1] + h), (0,0,255), 2)\n",
    "\n",
    "for i in coord:\n",
    "    cv2.circle(img_rgb, i, 1, (255, 0, 0), -1)\n",
    "\n",
    "cv2.imshow('test', img_rgb)\n",
    "cv2.waitKey()\n",
    "cv2.destroyAllWindows() \n",
    "\n",
    "print(coord)\n",
    "\n",
    "\n",
    "with open(\"coord.txt\", \"a\") as fichier:\n",
    "    for xy in coord:\n",
    "        fichier.write(str(xy[0]) + \", \" + str(xy[1]) + \"\\n\")\n",
    "\n"
   ]
  },
  {
   "cell_type": "markdown",
   "execution_count": 0,
   "metadata": {},
   "outputs": [],
   "source": [
    "### Second test avec list de pattern"
   ]
  },
  {
   "cell_type": "code",
   "execution_count": 17,
   "metadata": {},
   "outputs": [
    {
     "name": "stdout",
     "output_type": "stream",
     "text": "(array([334, 334, 334, 334, 334, 367, 367, 368, 399, 401, 431, 431, 435,\n       435, 435], dtype=int64), array([140, 190, 217, 268, 269, 191, 218, 250, 190, 140, 191, 218, 149,\n       250, 277], dtype=int64))\n"
    }
   ],
   "source": [
    "img_gray = cv2.imread('../All Data/ANALYSE IMAGE/LAYOUT SEATGURU/Aer_Lingus_Airbus_A330-200_plane4.jpg', 0)\n",
    "img_rgb = cv2.imread('../All Data/ANALYSE IMAGE/LAYOUT SEATGURU/Aer_Lingus_Airbus_A330-200_plane4.jpg', 1)\n",
    "# template = cv2.imread('./images/temp_normal_seat.jpg', 0)\n",
    "templates = ['./images/temp_business_seat_armrest_left.jpg', './images/temp_business_seat_armrest_right.jpg', './images/temp_business_elec1.jpg']\n",
    "# templates = ['./images/templateBusinessElectricity.jpg']\n",
    "\n",
    "for templ in templates:\n",
    "    template = cv2.imread(templ, 0)\n",
    "    h, w = template.shape\n",
    "    res = cv2.matchTemplate(img_gray, template, cv2.TM_CCOEFF_NORMED)\n",
    "    if templ == './images/temp_business_elec1.jpg':\n",
    "        THRESHOLD = 0.7\n",
    "    else:\n",
    "        THRESHOLD = 0.7\n",
    "\n",
    "    loc = np.where(res >= THRESHOLD)\n",
    "\n",
    "    coord = []\n",
    "\n",
    "    fichier = open(\"coord.txt\", \"a\")\n",
    "\n",
    "    if templ == './images/temp_business_elec1.jpg':\n",
    "        fichier.write('-------------------\\nPrise electrique \\n')\n",
    "\n",
    "    for pt in zip(*loc[::-1]):\n",
    "        fichier.write(str(pt[0]) + \", \" + str(pt[1]) + \"\\n\")\n",
    "        cv2.rectangle(img_rgb, pt, (pt[0] + w, pt[1] + h), (0, 0, 255), 2)\n",
    "    fichier.close()\n",
    "\n",
    "cv2.imshow('test', img_rgb)\n",
    "cv2.waitKey()\n",
    "cv2.destroyAllWindows()\n",
    "# cv2.imwrite('test.jpeg', img_rgb)\n",
    "\n",
    "print(np.where(res >= THRESHOLD))"
   ]
  },
  {
   "cell_type": "code",
   "execution_count": 18,
   "metadata": {},
   "outputs": [],
   "source": [
    "# img_gray = cv2.imread('../All Data/ANALYSE IMAGE/LAYOUT SEATGURU/Cathay_Pacific_Airbus_A350-900_plane259.jpg', 0)\n",
    "# img_rgb = cv2.imread('../All Data/ANALYSE IMAGE/LAYOUT SEATGURU/Cathay_Pacific_Airbus_A350-900_plane259.jpg', 1) # Ok\n",
    "# img_gray = cv2.imread('../All Data/ANALYSE IMAGE/LAYOUT SEATGURU/Cathay_Pacific_Airbus_A350-1000_plane258.jpg', 0)\n",
    "# img_rgb = cv2.imread('../All Data/ANALYSE IMAGE/LAYOUT SEATGURU/Cathay_Pacific_Airbus_A350-1000_plane258.jpg', 1) # Ok\n",
    "# img_gray = cv2.imread('../All Data/ANALYSE IMAGE/LAYOUT SEATGURU/Cathay_Pacific_Airbus_A330_33E_plane255.jpg', 0)\n",
    "# img_rgb = cv2.imread('../All Data/ANALYSE IMAGE/LAYOUT SEATGURU/Cathay_Pacific_Airbus_A330_33E_plane255.jpg', 1) # Ok\n",
    "# img_gray = cv2.imread('../All Data/ANALYSE IMAGE/LAYOUT SEATGURU/American_Airlines_777-300_ER_plane167.svg.png', 0)\n",
    "# img_rgb = cv2.imread('../All Data/ANALYSE IMAGE/LAYOUT SEATGURU/American_Airlines_777-300_ER_plane167.svg.png', 1) # Null\n",
    "# img_gray = cv2.imread('../All Data/ANALYSE IMAGE/LAYOUT SEATGURU/Asiana_Boeing_777-200_ER_D_plane206.jpg', 0)\n",
    "# img_rgb = cv2.imread('../All Data/ANALYSE IMAGE/LAYOUT SEATGURU/Asiana_Boeing_777-200_ER_D_plane206.jpg', 1) # Null - rectangle autour\n",
    "# img_gray = cv2.imread('../All Data/ANALYSE IMAGE/LAYOUT SEATGURU/Avianca_Boeing_787-8_plane313.jpg', 0)\n",
    "# img_rgb = cv2.imread('../All Data/ANALYSE IMAGE/LAYOUT SEATGURU/Avianca_Boeing_787-8_plane313.jpg', 1) #Ok\n",
    "img_gray = cv2.imread('./theo_remove_caracters_yellow.jpg', 0)\n",
    "img_rgb = cv2.imread('./theo_remove_caracters_yellow.jpg', 1) #Ok\n",
    "\n",
    "\n",
    "# template = cv2.imread('./images/temp_normal_seat.jpg', 0)\n",
    "templates = ['./images/temp_business_turn_left.jpg', 'templateTest.jpg', './images/templateNormalSeat-SansBlanc.jpg', './images/temp_normal_seat_elec.jpg']\n",
    "\n",
    "\n"
   ]
  },
  {
   "cell_type": "markdown",
   "execution_count": null,
   "metadata": {},
   "outputs": [],
   "source": [
    "#### Rotation d'un template + changement du noir en blanc"
   ]
  },
  {
   "cell_type": "code",
   "execution_count": 19,
   "metadata": {},
   "outputs": [],
   "source": [
    "# Rotation 45° left + black => white\n",
    "\n",
    "templateTest = PIL.Image.open('./images/temp_business_seat_footrest.jpg')\n",
    "rotate = templateTest.rotate(45)\n",
    "rotate = rotate.convert('RGBA')\n",
    "\n",
    "data = np.array(rotate)   # \"data\" is a height x width x 4 numpy array\n",
    "red, green, blue, alpha = data.T # Temporarily unpack the bands for readability\n",
    "\n",
    "\n",
    "black_areas = (red == 0) & (blue == 0) & (green == 0)\n",
    "data[..., :-1][black_areas.T] = (255, 255, 255) # Black back to white\n",
    "rotate = PIL.Image.fromarray(data)\n",
    "rotate.show()\n",
    "rotate = rotate.convert('RGB')\n",
    "rotate.save('templateTest.jpg')"
   ]
  },
  {
   "cell_type": "markdown",
   "execution_count": null,
   "metadata": {},
   "outputs": [],
   "source": [
    "#### Transformation d'un template en son symétrique par rapport a la droite"
   ]
  },
  {
   "cell_type": "code",
   "execution_count": 20,
   "metadata": {},
   "outputs": [],
   "source": [
    "# Right symmetry\n",
    "templateTest = PIL.Image.open('./images/temp_business_turn_left.jpg')\n",
    "rotate = templateTest.transpose(PIL.Image.FLIP_LEFT_RIGHT)\n",
    "\n",
    "rotate.show()\n",
    "rotate.save('templateTest.jpg')\n",
    "\n",
    "\n",
    "#107-171-93"
   ]
  },
  {
   "cell_type": "markdown",
   "execution_count": null,
   "metadata": {},
   "outputs": [],
   "source": [
    "#### Changement du fond blanc => couleur voulu"
   ]
  },
  {
   "cell_type": "code",
   "execution_count": 21,
   "metadata": {},
   "outputs": [],
   "source": [
    "templateTest = PIL.Image.open(templates[2])\n",
    "templateTest = templateTest.convert('RGBA')\n",
    "\n",
    "data = np.array(templateTest)\n",
    "red, green, blue, alpha = data.T\n",
    "\n",
    "THRESHOLD = 250 # To chose white background\n",
    "\n",
    "white_areas = (red >= THRESHOLD) & (blue >= THRESHOLD) & (green >= THRESHOLD)\n",
    "data[..., :-1][white_areas.T] = (255, 0, 0) # Set background color\n",
    "templateTest = PIL.Image.fromarray(data)\n",
    "templateTest.show()"
   ]
  },
  {
   "cell_type": "markdown",
   "execution_count": null,
   "metadata": {},
   "outputs": [],
   "source": [
    "#### Test avec les pattern précédement modifié + sortie des coordonnées pour chaque siege"
   ]
  },
  {
   "cell_type": "code",
   "execution_count": 22,
   "metadata": {},
   "outputs": [
    {
     "ename": "AttributeError",
     "evalue": "'NoneType' object has no attribute 'shape'",
     "output_type": "error",
     "traceback": [
      "\u001b[1;31m---------------------------------------------------------------------------\u001b[0m",
      "\u001b[1;31mAttributeError\u001b[0m                            Traceback (most recent call last)",
      "\u001b[1;32m<ipython-input-22-6da8bc8799bc>\u001b[0m in \u001b[0;36m<module>\u001b[1;34m\u001b[0m\n\u001b[0;32m      1\u001b[0m \u001b[1;32mfor\u001b[0m \u001b[0mtempl\u001b[0m \u001b[1;32min\u001b[0m \u001b[0mtemplates\u001b[0m\u001b[1;33m:\u001b[0m\u001b[1;33m\u001b[0m\u001b[1;33m\u001b[0m\u001b[0m\n\u001b[0;32m      2\u001b[0m     \u001b[0mtemplate\u001b[0m \u001b[1;33m=\u001b[0m \u001b[0mcv2\u001b[0m\u001b[1;33m.\u001b[0m\u001b[0mimread\u001b[0m\u001b[1;33m(\u001b[0m\u001b[0mtempl\u001b[0m\u001b[1;33m,\u001b[0m \u001b[1;36m0\u001b[0m\u001b[1;33m)\u001b[0m\u001b[1;33m\u001b[0m\u001b[1;33m\u001b[0m\u001b[0m\n\u001b[1;32m----> 3\u001b[1;33m     \u001b[0mh\u001b[0m\u001b[1;33m,\u001b[0m \u001b[0mw\u001b[0m \u001b[1;33m=\u001b[0m \u001b[0mtemplate\u001b[0m\u001b[1;33m.\u001b[0m\u001b[0mshape\u001b[0m\u001b[1;33m\u001b[0m\u001b[1;33m\u001b[0m\u001b[0m\n\u001b[0m\u001b[0;32m      4\u001b[0m \u001b[1;33m\u001b[0m\u001b[0m\n\u001b[0;32m      5\u001b[0m     \u001b[0mres\u001b[0m \u001b[1;33m=\u001b[0m \u001b[0mcv2\u001b[0m\u001b[1;33m.\u001b[0m\u001b[0mmatchTemplate\u001b[0m\u001b[1;33m(\u001b[0m\u001b[0mimg_gray\u001b[0m\u001b[1;33m,\u001b[0m \u001b[0mtemplate\u001b[0m\u001b[1;33m,\u001b[0m\u001b[0mcv2\u001b[0m\u001b[1;33m.\u001b[0m\u001b[0mTM_CCOEFF_NORMED\u001b[0m\u001b[1;33m)\u001b[0m\u001b[1;33m\u001b[0m\u001b[1;33m\u001b[0m\u001b[0m\n",
      "\u001b[1;31mAttributeError\u001b[0m: 'NoneType' object has no attribute 'shape'"
     ]
    }
   ],
   "source": [
    "for templ in templates:\n",
    "    template = cv2.imread(templ, 0)\n",
    "    h, w = template.shape\n",
    "    \n",
    "    res = cv2.matchTemplate(img_gray, template,cv2.TM_CCOEFF_NORMED)\n",
    "    \n",
    "    THRESHOLD = 0.9\n",
    "    if templ == 'templateTest.jpg':\n",
    "        THRESHOLD = 0.60\n",
    "    if templ == templates[0]:\n",
    "        THRESHOLD = 0.60\n",
    "    if templ == templates[3]:\n",
    "        THRESHOLD = 0.7\n",
    "\n",
    "\n",
    "    loc = np.where( res >= THRESHOLD)\n",
    "\n",
    "    # fichier = open(\"coord.txt\", \"a\")\n",
    "    for pt in zip(*loc[::-1]):\n",
    "        # fichier.write(str(pt[0]) + \", \" + str(pt[1]) + \"\\n\")\n",
    "        cv2.rectangle(img_rgb, pt, (pt[0] + w, pt[1] + h), (0, 0, 255), 2)\n",
    "\n",
    "# fichier.close()\n",
    "\n",
    "cv2.imshow('test', img_rgb)\n",
    "cv2.waitKey()\n",
    "cv2.destroyAllWindows()\n",
    "cv2.imwrite('test.jpg', img_rgb)\n",
    "\n",
    "#print(np.where( res >= THRESHOLD))"
   ]
  },
  {
   "cell_type": "markdown",
   "execution_count": null,
   "metadata": {},
   "outputs": [],
   "source": [
    "### Mise au propre + commmentaire + test sur plusieur image similaire"
   ]
  },
  {
   "cell_type": "code",
   "execution_count": 0,
   "metadata": {},
   "outputs": [],
   "source": [
    "# Input Image plane\n",
    "# Ok\n",
    "# img_gray = cv2.imread('../All Data/ANALYSE IMAGE/LAYOUT SEATGURU/'\\\n",
    "# 'Cathay_Pacific_Airbus_A350-900_plane259.jpg', 0)\n",
    "# img_rgb = cv2.imread('../All Data/ANALYSE IMAGE/LAYOUT SEATGURU/'\\\n",
    "# 'Cathay_Pacific_Airbus_A350-900_plane259.jpg', 1)\n",
    "# OK\n",
    "# img_gray = cv2.imread('../All Data/ANALYSE IMAGE/LAYOUT SEATGURU/'\\\n",
    "# 'Cathay_Pacific_Airbus_A350-1000_plane258.jpg', 0)\n",
    "# img_rgb = cv2.imread('../All Data/ANALYSE IMAGE/LAYOUT SEATGURU/'\\\n",
    "# 'Cathay_Pacific_Airbus_A350-1000_plane258.jpg', 1)\n",
    "# Ok\n",
    "# img_gray = cv2.imread('../All Data/ANALYSE IMAGE/LAYOUT SEATGURU/'\\\n",
    "# 'Cathay_Pacific_Airbus_A330_33E_plane255.jpg', 0)\n",
    "# img_rgb = cv2.imread('../All Data/ANALYSE IMAGE/LAYOUT SEATGURU/'\\\n",
    "# 'Cathay_Pacific_Airbus_A330_33E_plane255.jpg', 1)\n",
    "# NOk\n",
    "# img_gray = cv2.imread('../All Data/ANALYSE IMAGE/LAYOUT SEATGURU/'\\\n",
    "# 'American_Airlines_777-300_ER_plane167.svg.png', 0)\n",
    "# img_rgb = cv2.imread('../All Data/ANALYSE IMAGE/LAYOUT SEATGURU/'\\\n",
    "# 'American_Airlines_777-300_ER_plane167.svg.png', 1)\n",
    "# NOk\n",
    "# img_gray = cv2.imread('../All Data/ANALYSE IMAGE/LAYOUT SEATGURU/'\\\n",
    "# 'Asiana_Boeing_777-200_ER_D_plane206.jpg', 0)\n",
    "# img_rgb = cv2.imread('../All Data/ANALYSE IMAGE/LAYOUT SEATGURU/'\\\n",
    "# 'Asiana_Boeing_777-200_ER_D_plane206.jpg', 1)\n",
    "# OK\n",
    "# img_gray = cv2.imread('../All Data/ANALYSE IMAGE/LAYOUT SEATGURU/'\\\n",
    "# 'Avianca_Boeing_787-8_plane313.jpg', 0)\n",
    "# img_rgb = cv2.imread('../All Data/ANALYSE IMAGE/' \\\n",
    "# 'LAYOUT SEATGURU/Avianca_Boeing_787-8_plane313.jpg', 1)\n",
    "# Ok\n",
    "img_gray = cv2.imread('./theo_remove_caracters_yellow.jpg', 0)\n",
    "img_rgb = cv2.imread('./theo_remove_caracters_yellow.jpg', 1)\n",
    "\n",
    "# Input template\n",
    "templates = [\n",
    "            './images/temp_business_turn_left.jpg',\n",
    "            './images/temp_business_turn_right.jpg',\n",
    "            './images/temp_normal_seat_elec.jpg'\n",
    "            ]\n",
    "\n",
    "for templ in templates:\n",
    "    # Open template\n",
    "    template = cv2.imread(templ, 0)\n",
    "    h, w = template.shape\n",
    "\n",
    "    # List of match\n",
    "    res = cv2.matchTemplate(img_gray, template, cv2.TM_CCOEFF_NORMED)\n",
    "\n",
    "    # Set accuracy for each template\n",
    "    threshold = 0.9\n",
    "    if templ == templates[0]:\n",
    "        print('temp_business_turn_left')\n",
    "        threshold = 0.60\n",
    "    if templ == templates[1]:\n",
    "        print('temp_business_turn_right')\n",
    "        threshold = 0.60\n",
    "    if templ == templates[2]:\n",
    "        print('temp_normal_seat_elec')\n",
    "        threshold = 0.63\n",
    "\n",
    "    loc = np.where(res >= threshold)  # Filtering with the previous THRESHOLD\n",
    "\n",
    "    for pt in zip(*loc[::-1]):\n",
    "        # Output seat position\n",
    "        print(str(pt[0]) + ', ' + str(pt[1]))\n",
    "        # Tracing rectangle\n",
    "        cv2.rectangle(img_rgb, pt, (pt[0] + w, pt[1] + h), (0, 0, 255), 2)\n",
    "\n",
    "# Display results\n",
    "# cv2.imshow('test', img_rgb)\n",
    "# cv2.waitKey()\n",
    "# cv2.destroyAllWindows()\n",
    "\n",
    "# Save results\n",
    "# cv2.imwrite('test.jpg', img_rgb)"
   ]
  },
  {
   "cell_type": "markdown",
   "execution_count": null,
   "metadata": {},
   "outputs": [],
   "source": [
    "### Creation d'une fonction du code précédent : \n",
    "#### Entrée : chemin d'image, liste de chemin de templates, liste de seuils\n",
    "#### Sortie : Liste de liste de coordonnée pour chaque template"
   ]
  },
  {
   "cell_type": "code",
   "execution_count": 6,
   "metadata": {},
   "outputs": [
    {
     "name": "stdout",
     "output_type": "stream",
     "text": "[[(216, 274), (215, 307), (216, 307), (215, 308), (216, 308), (135, 312), (215, 341), (216, 341), (216, 342), (135, 346), (215, 374), (215, 375), (216, 375), (216, 376), (135, 379), (135, 380), (215, 408), (216, 408), (215, 409), (216, 409), (135, 413), (136, 413), (135, 414), (215, 442), (216, 442), (216, 443), (135, 446), (135, 447), (215, 475), (216, 475), (215, 476), (216, 476), (135, 480), (135, 481), (215, 509), (216, 509), (216, 510), (135, 513), (135, 514), (135, 643), (216, 646), (135, 676), (135, 677), (136, 677), (135, 678), (215, 679), (216, 679), (215, 680), (216, 680)], [(176, 307), (177, 307), (176, 308), (177, 308), (257, 312), (176, 341), (177, 341), (176, 342), (177, 342), (257, 346), (258, 346), (177, 374), (176, 375), (177, 375), (176, 376), (257, 379), (258, 379), (257, 380), (176, 408), (177, 408), (176, 409), (177, 409), (257, 413), (258, 413), (257, 414), (176, 442), (177, 442), (176, 443), (257, 446), (258, 446), (257, 447), (258, 447), (176, 475), (177, 475), (176, 476), (177, 476), (257, 480), (258, 480), (257, 481), (176, 509), (177, 509), (176, 510), (257, 513), (257, 514), (258, 514), (257, 643), (257, 676), (258, 676), (257, 677), (258, 677), (257, 678), (176, 679), (177, 679), (176, 680), (177, 680)], [(155, 180), (235, 180), (200, 238), (203, 554), (137, 603), (138, 603), (203, 605), (131, 754), (146, 754), (259, 754), (274, 754), (131, 755), (146, 755), (147, 755), (148, 755), (259, 755), (274, 755), (276, 755), (179, 760), (180, 760), (181, 760), (194, 760), (195, 760), (196, 760), (209, 760), (210, 760), (212, 760), (225, 760), (227, 760), (210, 761), (131, 776), (146, 776), (259, 776), (274, 776), (276, 776), (131, 777), (146, 777), (259, 777), (274, 777), (179, 782), (180, 782), (181, 782), (194, 782), (195, 782), (196, 782), (209, 782), (210, 782), (225, 782), (227, 782), (131, 798), (133, 798), (146, 798), (148, 798), (259, 798), (261, 798), (274, 798), (276, 798), (131, 799), (146, 799), (259, 799), (274, 799), (189, 843), (190, 843), (191, 843), (203, 843), (204, 843), (205, 843), (217, 843), (218, 843), (131, 863), (132, 863), (144, 863), (145, 863), (146, 863), (158, 863), (159, 863), (189, 863), (190, 863), (191, 863), (203, 863), (204, 863), (205, 863), (217, 863), (218, 863), (247, 863), (248, 863), (261, 863), (262, 863), (275, 863), (276, 863), (131, 883), (132, 883), (145, 883), (146, 883), (158, 883), (159, 883), (189, 883), (190, 883), (191, 883), (203, 883), (204, 883), (205, 883), (217, 883), (218, 883), (247, 883), (248, 883), (261, 883), (262, 883), (275, 883), (276, 883), (131, 903), (132, 903), (145, 903), (146, 903), (158, 903), (159, 903), (189, 903), (190, 903), (191, 903), (203, 903), (204, 903), (205, 903), (217, 903), (218, 903), (247, 903), (248, 903), (261, 903), (262, 903), (275, 903), (276, 903), (131, 923), (132, 923), (145, 923), (146, 923), (158, 923), (159, 923), (189, 923), (190, 923), (203, 923), (204, 923), (217, 923), (218, 923), (247, 923), (248, 923), (261, 923), (262, 923), (275, 923), (131, 943), (132, 943), (145, 943), (146, 943), (158, 943), (159, 943), (189, 943), (190, 943), (203, 943), (204, 943), (205, 943), (217, 943), (218, 943), (247, 943), (248, 943), (261, 943), (262, 943), (275, 943), (131, 963), (132, 963), (145, 963), (146, 963), (158, 963), (159, 963), (189, 963), (190, 963), (203, 963), (204, 963), (217, 963), (218, 963), (247, 963), (248, 963), (261, 963), (262, 963), (275, 963), (131, 982), (145, 982), (247, 982), (131, 983), (145, 983), (158, 983), (159, 983), (190, 983), (203, 983), (204, 983), (217, 983), (218, 983), (247, 983), (261, 983), (262, 983), (275, 983), (247, 1002), (261, 1002), (275, 1002), (247, 1003), (261, 1003), (275, 1003), (189, 1097), (190, 1097), (191, 1097), (203, 1097), (204, 1097), (205, 1097), (217, 1097), (218, 1097), (144, 1106), (145, 1106), (146, 1106), (158, 1106), (159, 1106), (160, 1106), (247, 1106), (248, 1106), (261, 1106), (262, 1106), (189, 1118), (190, 1118), (191, 1118), (203, 1118), (204, 1118), (205, 1118), (217, 1118), (218, 1118), (131, 1126), (132, 1126), (145, 1126), (146, 1126), (158, 1126), (159, 1126), (160, 1126), (247, 1126), (248, 1126), (261, 1126), (262, 1126), (275, 1126), (276, 1126), (189, 1139), (190, 1139), (203, 1139), (204, 1139), (217, 1139), (218, 1139), (131, 1146), (132, 1146), (145, 1146), (146, 1146), (158, 1146), (159, 1146), (247, 1146), (248, 1146), (261, 1146), (262, 1146), (275, 1146), (276, 1146), (189, 1159), (190, 1159), (203, 1159), (204, 1159), (217, 1159), (218, 1159), (131, 1166), (132, 1166), (145, 1166), (146, 1166), (158, 1166), (159, 1166), (247, 1166), (248, 1166), (261, 1166), (262, 1166), (275, 1166), (276, 1166), (189, 1179), (190, 1179), (203, 1179), (204, 1179), (217, 1179), (218, 1179), (131, 1186), (132, 1186), (145, 1186), (146, 1186), (158, 1186), (159, 1186), (247, 1186), (248, 1186), (261, 1186), (262, 1186), (275, 1186), (276, 1186), (190, 1198), (204, 1198), (218, 1198), (190, 1199), (204, 1199), (218, 1199), (131, 1206), (132, 1206), (145, 1206), (146, 1206), (158, 1206), (159, 1206), (247, 1206), (248, 1206), (261, 1206), (262, 1206), (275, 1206), (276, 1206), (190, 1219), (204, 1219), (218, 1219), (190, 1220), (204, 1220), (218, 1220), (131, 1226), (132, 1226), (145, 1226), (146, 1226), (158, 1226), (159, 1226), (247, 1226), (248, 1226), (261, 1226), (262, 1226), (275, 1226), (190, 1240), (203, 1240), (204, 1240), (217, 1240), (218, 1240), (190, 1241), (204, 1241), (218, 1241), (131, 1246), (132, 1246), (145, 1246), (146, 1246), (158, 1246), (159, 1246), (247, 1246), (248, 1246), (261, 1246), (262, 1246), (275, 1246), (189, 1261), (190, 1261), (203, 1261), (204, 1261), (217, 1261), (218, 1261), (145, 1265), (131, 1266), (132, 1266), (145, 1266), (146, 1266), (158, 1266), (159, 1266), (247, 1266), (248, 1266), (261, 1266), (262, 1266), (275, 1266), (189, 1282), (190, 1282), (191, 1282), (203, 1282), (204, 1282), (205, 1282), (217, 1282), (218, 1282), (145, 1285), (131, 1286), (132, 1286), (145, 1286), (146, 1286), (158, 1286), (159, 1286), (247, 1286), (248, 1286), (261, 1286), (262, 1286), (275, 1286), (189, 1303), (190, 1303), (191, 1303), (203, 1303), (204, 1303), (205, 1303), (217, 1303), (218, 1303), (131, 1305), (145, 1305), (159, 1305), (247, 1305), (261, 1305), (275, 1305), (131, 1306), (145, 1306), (158, 1306), (159, 1306), (247, 1306), (261, 1306), (275, 1306), (189, 1324), (190, 1324), (203, 1324), (204, 1324), (217, 1324), (218, 1324), (131, 1325), (145, 1325), (159, 1325), (247, 1325), (261, 1325), (275, 1325), (131, 1326), (145, 1326), (158, 1326), (159, 1326), (247, 1326), (261, 1326), (275, 1326), (131, 1345), (145, 1345), (159, 1345), (189, 1345), (190, 1345), (203, 1345), (204, 1345), (217, 1345), (218, 1345), (247, 1345), (261, 1345), (275, 1345), (131, 1346), (145, 1346), (159, 1346), (247, 1346), (261, 1346), (275, 1346), (190, 1365), (204, 1365), (218, 1365), (190, 1366), (204, 1366), (218, 1366), (203, 1520)]]\n"
    }
   ],
   "source": [
    "def coord_seats_finder(path_image, templates = ['./images/temp_business_turn_left.jpg', './images/temp_business_turn_right.jpg', './images/temp_normal_seat_elec.jpg'], thresholds = [0.60, 0.60, 0.63], show = False):\n",
    "    \"\"\"\n",
    "    input:\n",
    "        path_image : image plane\n",
    "        templates : list of templates for pattern matching\n",
    "        thresholds : list of threshold for each template, set accuracy\n",
    "    output:\n",
    "        position : list of list right angle position for each pattern match\n",
    "    \"\"\"\n",
    "    # Open image\n",
    "    img_rgb = cv2.imread(path_image, 1)\n",
    "    img_gray = cv2.imread(path_image, 0)\n",
    "    position = []\n",
    "    for i in range(len(templates)):  # Iteration on each pattern\n",
    "        template = cv2.imread(templates[i], 0)  # Read pattern image\n",
    "        h, w = template.shape\n",
    "        # List of match\n",
    "        res = cv2.matchTemplate(img_gray, template, cv2.TM_CCOEFF_NORMED)\n",
    "        position.append([])\n",
    "        for pos in zip(*np.where(res >= thresholds[i])[::-1]):\n",
    "            position[i].append(pos)  # add position to output\n",
    "            cv2.rectangle(img_rgb, pos, (pos[0] + w, pos[1] + h), (0, 0, 255), 2)\n",
    "    if show:\n",
    "        cv2.imshow('test', img_rgb)\n",
    "        cv2.waitKey()\n",
    "        cv2.destroyAllWindows()\n",
    "    return(position)\n",
    "\n",
    "print(coord_seats_finder('./theo_remove_caracters_yellow.jpg', show = False))\n"
   ]
  },
  {
   "cell_type": "markdown",
   "execution_count": null,
   "metadata": {},
   "outputs": [],
   "source": [
    "### Simplification de la fonction coord_seats_finder() :\n",
    "#### Entrée : une image, un template, un seuil\n",
    "#### Sortie : list de coordonnée"
   ]
  },
  {
   "cell_type": "code",
   "execution_count": 7,
   "metadata": {},
   "outputs": [],
   "source": [
    "def coord_pattern_finder(image, template, threshold: float):\n",
    "    \"\"\"\n",
    "    input:\n",
    "        image : image plane cv2.imread() black and white\n",
    "        template : image pattern cv2.imread() black and white\n",
    "        threshold : threshold for this pattern\n",
    "    output:\n",
    "        position : list right angle position for this pattern on the image\n",
    "\n",
    "    \"\"\"\n",
    "    position = []  # Variable output\n",
    "    # List of match\n",
    "    res = cv2.matchTemplate(image, template, cv2.TM_CCOEFF_NORMED)\n",
    "    for pos in zip(*np.where(res >= threshold)[::-1]):\n",
    "        position.append(pos)\n",
    "    return(position)"
   ]
  },
  {
   "cell_type": "markdown",
   "execution_count": 57,
   "metadata": {},
   "outputs": [],
   "source": [
    "### Test de la fonction coord_pattern_finder()"
   ]
  },
  {
   "cell_type": "code",
   "execution_count": 0,
   "metadata": {},
   "outputs": [],
   "source": [
    "path_image = './theo_remove_caracters_yellow.jpg'\n",
    "templates = ['./images/temp_business_turn_left.jpg', './images/temp_business_turn_right.jpg', './images/temp_normal_seat_elec.jpg']\n",
    "thresholds = [0.60, 0.60, 0.63]\n",
    "img = cv2.imread(path_image, 0)\n",
    "template = cv2.imread(templates[0], 0)\n",
    "h, w = template.shape\n",
    "img_rgb = cv2.imread(path_image, 1)\n",
    "\n",
    "position = coord_pattern_finder(img, template, 0.6)\n",
    "\n",
    "for pos in position:\n",
    "    cv2.rectangle(img_rgb, pos, (pos[0] + w, pos[1] + h), (0, 0, 255), 2)\n",
    "\n",
    "cv2.imshow('test', img_rgb)\n",
    "cv2.waitKey()\n",
    "cv2.destroyAllWindows()"
   ]
  },
  {
   "cell_type": "markdown",
   "execution_count": null,
   "metadata": {},
   "outputs": [],
   "source": [
    "### Test sur plusieur plan ou famille de plan avec choix d'un ou plusieur pattern"
   ]
  },
  {
   "cell_type": "code",
   "execution_count": 17,
   "metadata": {},
   "outputs": [
    {
     "name": "stdout",
     "output_type": "stream",
     "text": "temp_first_seat.jpg:17 44\ntemp_first_seat.jpg:17 44\ntemp_first_seat.jpg:17 44\n"
    }
   ],
   "source": [
    "pathTempl = \"./Images/\" # Path for template\n",
    "imagesTemp = os.listdir(pathTempl)\n",
    "templates = []\n",
    "tempName = 'temp_' # Template or family name\n",
    "\n",
    "pathPlane = \"../All Data/ANALYSE IMAGE/LAYOUT SEATGURU/\" # Path for plane images\n",
    "imagesPlane = os.listdir(pathPlane)\n",
    "plane = []\n",
    "\n",
    "planeName = 'Aer_Lingus_' # Plane or family name\n",
    "\n",
    "\n",
    "for i in imagesTemp:\n",
    "    if 'temp_' in i and 'seat' in i:\n",
    "        templates.append(i)\n",
    "\n",
    "for i in imagesPlane:\n",
    "    if planeName in i:\n",
    "        plane.append(i)\n",
    "\n",
    "# print(templates)\n",
    "\n",
    "for p in plane[:3]:\n",
    "    img_rgb = cv2.imread(pathPlane + p, 1)\n",
    "    img_gray = cv2.imread(pathPlane + p, 0)\n",
    "    # print(p + ' shape', img_gray.shape)\n",
    "\n",
    "    fichier = open(\"coord_\" + p + \".txt\", \"a\")\n",
    "    \n",
    "    for templ in templates[5:6]:\n",
    "        template = cv2.imread(pathTempl + templ, 0)\n",
    "        h, w = template.shape\n",
    "        print(templ + ':' + str(w) + ' ' + str(h))\n",
    "\n",
    "        threshold = 0.8 #  Default threshold\n",
    "        # Choose threshold for each template\n",
    "        if templ == 'temp_business_seat_armrest_left.jpg':\n",
    "            threshold = 0.6\n",
    "        elif templ == 'temp_business_seat_armrest_right.jpg':\n",
    "            threshold = 0.6\n",
    "        elif templ == 'temp_business_seat_footrest.jpg':\n",
    "            threshold = 1\n",
    "        elif templ == 'temp_first_seat.jpg':\n",
    "            threshold = 1\n",
    "        elif templ == 'temp_normal_seat.png':\n",
    "            threshold = 0.7\n",
    "        elif templ == 'temp_normal_seat_elec.jpg':\n",
    "            threshold = 1\n",
    "        elif templ == 'temp_normal_seat_little.jpg':\n",
    "            threshold = 0.65\n",
    "        elif templ == 'temp_yellow_seat.jpg':\n",
    "            threshold = 1\n",
    "        threshold = 0.75\n",
    "\n",
    "\n",
    "        position = coord_pattern_finder(img_gray, template, threshold)\n",
    "        \n",
    "        fichier.write(templ + ':' + str(w) + ' ' + str(h) + '\\n')\n",
    "        for pos in position:\n",
    "            fichier.write(str(pos[0]) + ', ' + str(pos[1]) + '\\n')\n",
    "            cv2.rectangle(img_rgb, pos, (pos[0] + w, pos[1] + h), (0, 0, 255), 2)\n",
    "\n",
    "    fichier.close()\n",
    "    cv2.imshow(p, img_rgb)\n",
    "    cv2.waitKey()\n",
    "    cv2.destroyAllWindows()"
   ]
  },
  {
   "cell_type": "markdown",
   "execution_count": 80,
   "metadata": {},
   "outputs": [],
   "source": [
    "### Recupération nombre de seat par type d'avion et par catégorie"
   ]
  },
  {
   "cell_type": "code",
   "execution_count": 14,
   "metadata": {},
   "outputs": [
    {
     "name": "stdout",
     "output_type": "stream",
     "text": "{'Aer_Lingus_Airbus_A320_plane9.jpg': {'Total_seat': 174, 'ECONOMY': 174}, 'Aer_Lingus_Airbus_A321_plane1.jpg': {'Total_seat': 212, 'ECONOMY': 212}, 'Aer_Lingus_Airbus_A321_plane10.jpg': {'Total_seat': 212, 'ECONOMY': 212}, 'Aer_Lingus_Airbus_A330-200_B_plane5.jpg': {'Total_seat': 271, 'ECONOMY': 248, 'BUSINESS': 23}, 'Aer_Lingus_Airbus_A330-200_B_plane7.jpg': {'Total_seat': 271, 'ECONOMY': 248, 'BUSINESS': 23}, 'Aer_Lingus_Airbus_A330-200_plane4.jpg': {'Total_seat': 271, 'ECONOMY': 248, 'BUSINESS': 23}, 'Aer_Lingus_Airbus_A330-200_plane6.jpg': {'Total_seat': 271, 'ECONOMY': 248, 'BUSINESS': 23}, 'Aer_Lingus_Airbus_A330-300_A_plane6.jpg': {'Total_seat': 317, 'ECONOMY': 287, 'BUSINESS': 30}, 'Aer_Lingus_Airbus_A330-300_A_plane8.jpg': {'Total_seat': 317, 'ECONOMY': 287, 'BUSINESS': 30}, 'Aer_Lingus_Boeing_757-200_plane11.jpg': {'Total_seat': 177, 'BUSINESS': 12, 'ECONOMY': 165}, 'Aer_Lingus_Boeing_757-200_plane2.jpg': {'Total_seat': 177, 'BUSINESS': 12, 'ECONOMY': 165}}\n"
    }
   ],
   "source": [
    "pathPlane = \"../All Data/ANALYSE IMAGE/LAYOUT SEATGURU/\" # Path for plane images\n",
    "imagesPlane = os.listdir(pathPlane)\n",
    "plane = []\n",
    "planeName = 'Aer_Lingus_' # Plane or family name\n",
    "\n",
    "for i in imagesPlane:\n",
    "    if planeName in i:\n",
    "        plane.append(i)\n",
    "# print(plane)\n",
    "\n",
    "SEATGURU_INFO_AIRCRAFT = pd.read_csv('../All data/SEATGURU_INFO_AIRCRAFT.csv', sep=';')\n",
    "image_lignes = pd.read_csv('Image_lignes.csv', sep=';')\n",
    "\n",
    "nbSeatTotal = {}\n",
    "\n",
    "for rowNumber, data in image_lignes.iterrows():\n",
    "    if data['image'] in plane:\n",
    "        lignes = eval(data['lignes'])\n",
    "        for i in lignes:\n",
    "            if not (data['image'] in nbSeatTotal.keys()):\n",
    "                nbSeatTotal[data['image']] = {}\n",
    "                nbSeatTotal[data['image']]['Total_seat'] = SEATGURU_INFO_AIRCRAFT.loc[i]['Total_seat']\n",
    "            if not (SEATGURU_INFO_AIRCRAFT.loc[i]['Category'] in nbSeatTotal[data['image']].keys()):\n",
    "                nbSeatTotal[data['image']][SEATGURU_INFO_AIRCRAFT.loc[i]['Category']] = SEATGURU_INFO_AIRCRAFT.loc[i]['Count']\n",
    "\n",
    "print(nbSeatTotal)\n"
   ]
  },
  {
   "cell_type": "markdown",
   "execution_count": null,
   "metadata": {},
   "outputs": [],
   "source": [
    "### Creation category template"
   ]
  },
  {
   "cell_type": "code",
   "execution_count": 15,
   "metadata": {},
   "outputs": [
    {
     "name": "stdout",
     "output_type": "stream",
     "text": "['temp_normal_seat.jpg', 'temp_normal_seat_a.jpg', 'temp_normal_seat_b.jpg', 'temp_normal_seat_c.jpg', 'temp_normal_seat_d.jpg', 'temp_normal_seat_e.jpg', 'temp_normal_seat_elec.jpg', 'temp_normal_seat_f.jpg', 'temp_normal_seat_little.jpg', 'temp_normal_seat_red.jpg']\n"
    }
   ],
   "source": [
    "def templ_category(path = './images/', category = 'BUSINESS', ):\n",
    "    \"\"\"\n",
    "    Input:\n",
    "        Path: directory path of templates\n",
    "        category: name of category\n",
    "    Output:\n",
    "        templates: list of template name\n",
    "    \"\"\"\n",
    "    imagesTemp = os.listdir(path)\n",
    "    templates = []\n",
    "\n",
    "    for i in imagesTemp:\n",
    "        if 'temp_' + category in i:\n",
    "            templates.append(i)\n",
    "    \n",
    "    return(templates)\n",
    "\n",
    "print(templ_category(category = 'normal'))"
   ]
  },
  {
   "cell_type": "markdown",
   "execution_count": null,
   "metadata": {},
   "outputs": [],
   "source": [
    "### calcul taux réussite"
   ]
  },
  {
   "cell_type": "code",
   "execution_count": 19,
   "metadata": {},
   "outputs": [
    {
     "name": "stdout",
     "output_type": "stream",
     "text": "['temp_normal_seat.jpg', 'temp_normal_seat_a.jpg', 'temp_normal_seat_b.jpg', 'temp_normal_seat_c.jpg', 'temp_normal_seat_d.jpg', 'temp_normal_seat_e.jpg', 'temp_normal_seat_elec.jpg', 'temp_normal_seat_f.jpg', 'temp_normal_seat_little.jpg', 'temp_normal_seat_red.jpg']\n[0.8620689655172413, 0.011494252873563218, 0.022988505747126436, 0.011494252873563218, 0.022988505747126436, 0.028735632183908046, 0.0, 0.011494252873563218, 0.10344827586206896, 0.034482758620689655]\nAer_Lingus_Airbus_A320_plane9.jpg:  {'Total_seat': 174, 'ECONOMY': 174}\n[0.9622641509433962, 0.0, 0.0, 0.0, 0.0, 0.0, 0.0, 0.0, 0.08490566037735849, 0.018867924528301886]\nAer_Lingus_Airbus_A321_plane1.jpg:  {'Total_seat': 212, 'ECONOMY': 212}\n[0.9622641509433962, 0.0, 0.0, 0.0, 0.0, 0.0, 0.0, 0.0, 0.08490566037735849, 0.018867924528301886]\nAer_Lingus_Airbus_A321_plane10.jpg:  {'Total_seat': 212, 'ECONOMY': 212}\n[0.0, 0.0, 0.0, 0.0, 0.0, 0.0, 0.0, 0.0, 0.8629032258064516, 0.0]\nAer_Lingus_Airbus_A330-200_B_plane5.jpg:  {'Total_seat': 271, 'ECONOMY': 248, 'BUSINESS': 23}\n[0.0, 0.0, 0.0, 0.0, 0.0, 0.0, 0.0, 0.0, 0.8629032258064516, 0.0]\nAer_Lingus_Airbus_A330-200_B_plane7.jpg:  {'Total_seat': 271, 'ECONOMY': 248, 'BUSINESS': 23}\n[0.0, 0.0, 0.0, 0.0, 0.0, 0.0, 0.0, 0.0, 0.8911290322580645, 0.0]\nAer_Lingus_Airbus_A330-200_plane4.jpg:  {'Total_seat': 271, 'ECONOMY': 248, 'BUSINESS': 23}\n[0.0, 0.0, 0.0, 0.0, 0.0, 0.0, 0.0, 0.0, 0.8911290322580645, 0.0]\nAer_Lingus_Airbus_A330-200_plane6.jpg:  {'Total_seat': 271, 'ECONOMY': 248, 'BUSINESS': 23}\n[0.0, 0.0, 0.0, 0.0, 0.0, 0.0, 0.0, 0.0, 0.0, 0.0]\nAer_Lingus_Airbus_A330-300_A_plane6.jpg:  {'Total_seat': 317, 'ECONOMY': 287, 'BUSINESS': 30}\n[0.0, 0.0, 0.0, 0.0, 0.0, 0.0, 0.0, 0.0, 0.0, 0.0]\nAer_Lingus_Airbus_A330-300_A_plane8.jpg:  {'Total_seat': 317, 'ECONOMY': 287, 'BUSINESS': 30}\n[0.8909090909090909, 0.024242424242424242, 0.0, 0.0, 0.0, 0.0, 0.0, 0.024242424242424242, 0.15151515151515152, 0.012121212121212121]\nAer_Lingus_Boeing_757-200_plane11.jpg:  {'Total_seat': 177, 'BUSINESS': 12, 'ECONOMY': 165}\n[0.8909090909090909, 0.024242424242424242, 0.0, 0.0, 0.0, 0.0, 0.0, 0.024242424242424242, 0.15151515151515152, 0.012121212121212121]\nAer_Lingus_Boeing_757-200_plane2.jpg:  {'Total_seat': 177, 'BUSINESS': 12, 'ECONOMY': 165}\n"
    }
   ],
   "source": [
    "pathPlane = \"../All Data/ANALYSE IMAGE/LAYOUT SEATGURU/\" # Path for plane images\n",
    "\n",
    "cat = 'ECONOMY'\n",
    "templates = templ_category(category = 'normal')\n",
    "print(templates)\n",
    "\n",
    "if cat == 'ECONOMY':\n",
    "    threshold = 0.8\n",
    "elif cat == 'BUSINESS':\n",
    "    threshold = 0.65\n",
    "\n",
    "for p in plane:\n",
    "    img_rgb = cv2.imread(pathPlane + p, 1)\n",
    "    img_gray = cv2.imread(pathPlane + p, 0)\n",
    "\n",
    "    # fichier = open(\"coord_\" + p + \".txt\", \"a\")\n",
    "    taux = []\n",
    "    for templ in templates:\n",
    "        template = cv2.imread(pathTempl + templ, 0)\n",
    "\n",
    "        position = coord_pattern_finder(img_gray, template, threshold)\n",
    "        if cat in nbSeatTotal[p].keys():\n",
    "            taux.append(len(position)/nbSeatTotal[p][cat])  # level of succes for each template\n",
    "    \n",
    "    print(taux)\n",
    "    print(p + ': ',nbSeatTotal[p])\n",
    "\n"
   ]
  },
  {
   "cell_type": "markdown",
   "execution_count": null,
   "metadata": {},
   "outputs": [],
   "source": [
    "### Decoupe template a partir d'un match pour rematch"
   ]
  },
  {
   "cell_type": "code",
   "execution_count": 0,
   "metadata": {},
   "outputs": [],
   "source": [
    "# img_rgb = cv2.imread('../All Data/ANALYSE IMAGE/LAYOUT SEATGURU/' + 'Aer_Lingus_Airbus_A321_plane10.jpg' , 1)\n",
    "# img_gray = cv2.imread('../All Data/ANALYSE IMAGE/LAYOUT SEATGURU/' + 'Aer_Lingus_Airbus_A321_plane10.jpg' , 0)\n",
    "img_rgb = cv2.imread('../All Data/ANALYSE IMAGE/LAYOUT SEATGURU/' + 'Asiana_Boeing_777-200_ER_C_plane205.jpg' , 1)\n",
    "img_gray = cv2.imread('../All Data/ANALYSE IMAGE/LAYOUT SEATGURU/' + 'Asiana_Boeing_777-200_ER_C_plane205.jpg' , 0)\n",
    "\n",
    "# template = cv2.imread('./images/temp_normal_seat.jpg', 0)\n",
    "template = cv2.imread('./images/temp_normal_seat_little.jpg', 0)\n",
    "# template = cv2.imread('./images/temp_business_seat_footrest.jpg', 0)\n",
    "\n",
    "h, w = template.shape\n",
    "print(w, h)\n",
    "\n",
    "threshold = 1\n",
    "position = coord_pattern_finder(img_gray, template, threshold)\n",
    "compteur = 0\n",
    "\n",
    "while len(position) < 1 and threshold > 0.5:\n",
    "    threshold -= 0.005\n",
    "    position = coord_pattern_finder(img_gray, template, threshold)\n",
    "\n",
    "print(threshold, compteur, len(position))\n",
    "\n",
    "templateTest = img_gray[position[0][1]:position[0][1] + h, position[0][0]:position[0][0] + w]\n",
    "\n",
    "threshold = 1\n",
    "position1 = coord_pattern_finder(img_gray, templateTest, threshold)\n",
    "print('début ', len(position1))\n",
    "compteur = 0\n",
    "while (len(position1) < 272) and compteur < 1000:\n",
    "    position1 = coord_pattern_finder(img_gray, templateTest, threshold)\n",
    "    # print('threshold :', threshold, ' taille :', len(position1))\n",
    "    threshold -= 0.005\n",
    "    compteur += 1\n",
    "\n",
    "print('threshold :', threshold)\n",
    "\n",
    "for i in position1:\n",
    "    cv2.rectangle(img_rgb, i, (i[0] + w, i[1] + h), (0, 0, 255), 2)\n",
    "\n",
    "for i in position:\n",
    "    cv2.rectangle(img_rgb, i, (i[0] + w, i[1] + h), (0, 255, 0), 2)\n",
    "\n",
    "\n",
    "# print(position)\n",
    "\n",
    "# print(str(w) + ' ' + str(h))\n",
    "cv2.imshow('Test', templateTest)\n",
    "cv2.waitKey()\n",
    "cv2.destroyAllWindows()\n",
    "cv2.imshow('name', img_rgb)\n",
    "cv2.waitKey()\n",
    "cv2.destroyAllWindows()\n",
    "cv2.imwrite('test.jpg', img_rgb)\n"
   ]
  },
  {
   "cell_type": "markdown",
   "execution_count": null,
   "metadata": {},
   "outputs": [],
   "source": [
    "### Mise en fonction du code précédent"
   ]
  },
  {
   "cell_type": "code",
   "execution_count": 41,
   "metadata": {},
   "outputs": [],
   "source": [
    "def template_from_template(img, template, thresholdMin = 0.75):\n",
    "    \"\"\"\n",
    "    intput:\n",
    "        img : image plane\n",
    "        template : template\n",
    "        thresholdMin : threshold min to keep template or not\n",
    "    output:\n",
    "        template, boolean : true if found\n",
    "    \"\"\"\n",
    "    # default Threshold\n",
    "    threshold = 1\n",
    "    position = coord_pattern_finder(img, template, threshold)\n",
    "    h, w = template.shape\n",
    "    # Reduce Threshold while no template match\n",
    "    while len(position) < 1 and threshold > thresholdMin:\n",
    "        threshold -= 0.005\n",
    "        position = coord_pattern_finder(img, template, threshold)\n",
    "\n",
    "    if threshold > thresholdMin:\n",
    "        # cv2.imshow('name', img[position[0][1]:position[0][1] + h, position[0][0]:position[0][0] + w])\n",
    "        # cv2.waitKey()\n",
    "        # cv2.destroyAllWindows()\n",
    "        return((img[position[0][1]:position[0][1] + h, position[0][0]:position[0][0] + w], True))\n",
    "    return((None, False))\n",
    "\n",
    "# Fonction test\n",
    "# cv2.imshow('Test', template_from_template(img_gray, template))\n",
    "# cv2.waitKey()\n",
    "# cv2.destroyAllWindows()\n"
   ]
  },
  {
   "cell_type": "code",
   "execution_count": 42,
   "metadata": {},
   "outputs": [
    {
     "name": "stdout",
     "output_type": "stream",
     "text": "{(0, 6): 5, (0, 5): 1}\n[5 6 7 8 9]\n"
    }
   ],
   "source": [
    "def count_list(list):\n",
    "    dictio_count = {}\n",
    "    for el in list:\n",
    "        dictio_count[el] = list.count(el)\n",
    "    return {k: v for k, v in sorted(dictio_count.items(), key=lambda item: item[1], reverse=True)}\n",
    "\n",
    "position = [(0, 5), (0, 6), (0, 6), (0, 6), (0, 6), (0, 6)]\n",
    "print(count_list(position))\n",
    "print(np.arange(5, 10, 1))"
   ]
  },
  {
   "cell_type": "code",
   "execution_count": 43,
   "metadata": {},
   "outputs": [],
   "source": [
    "def best_position(img, template, nbSeat, step = 0.005, thresholdMin = 0.65):\n",
    "    \"\"\"\n",
    "    input:\n",
    "        img : image plane\n",
    "        template : template find from this image\n",
    "        nbSeat : for this cat\n",
    "        steps : steps for threshold\n",
    "    output:\n",
    "        position : coord for each match\n",
    "    \"\"\"\n",
    "    # threshold = 1\n",
    "    # position = coord_pattern_finder(img, template, threshold)\n",
    "    # while len(position) < nbSeat and threshold > thresholdMin:\n",
    "    #     threshold -= step\n",
    "    #     position = coord_pattern_finder(img, template, threshold)\n",
    "    # return(position)\n",
    "\n",
    "    position = []\n",
    "    for threshold in np.arange(thresholdMin, 1 + step, step):\n",
    "        position += coord_pattern_finder(img, template, threshold)\n",
    "    return(list(count_list(position).keys())[:nbSeat])\n",
    "\n",
    "# Fonction Test\n",
    "# img_rgb = cv2.imread('../All Data/ANALYSE IMAGE/LAYOUT SEATGURU/' + 'Asiana_Boeing_777-200_ER_C_plane205.jpg' , 1)\n",
    "# img_gray = cv2.imread('../All Data/ANALYSE IMAGE/LAYOUT SEATGURU/' + 'Asiana_Boeing_777-200_ER_C_plane205.jpg' , 0)\n",
    "# template = cv2.imread('./images/temp_normal_seat_little.jpg', 0)\n",
    "# h, w = template.shape\n",
    "# position = best_threshold(img_gray, template_from_template(img_gray, template), nbSeat=272)\n",
    "# for i in position:\n",
    "#     cv2.rectangle(img_rgb, i, (i[0] + w, i[1] + h), (0, 0, 255), 2)\n",
    "\n",
    "# cv2.imshow('name', img_rgb)\n",
    "# cv2.waitKey()\n",
    "# cv2.destroyAllWindows()\n",
    "# cv2.imwrite('test.jpg', img_rgb)\n"
   ]
  },
  {
   "cell_type": "code",
   "execution_count": 44,
   "metadata": {},
   "outputs": [],
   "source": [
    "# {'class':[(coordX1, coordY1, h, w), (coordX2, coordY2, h, w)]}\n",
    "\n",
    "def rematch(img, nbObjectToFind, diction, planeName, path = './images/'):\n",
    "    \"\"\"\n",
    "    input:\n",
    "        img : image plane\n",
    "        nbObjectToFind : Dictionnary : {'Total_seat': nbSeatTotal, 'business': nbBusinessSeat, 'bar': nbBar}\n",
    "        diction : diction output\n",
    "        planeName :\n",
    "        path : path for template directory\n",
    "    output:\n",
    "        diction : dictionnary {'class':[(coordX1, coordY1, h, w), (coordX2, coordY2, h, w)]}\n",
    "    \"\"\"\n",
    "\n",
    "    # thresholdMin = {'normal':0.7}\n",
    "\n",
    "    for cat in nbObjectToFind.keys():\n",
    "        diction[planeName][cat] = []\n",
    "        if cat != 'Total_seat':\n",
    "            templates = templ_category(category = cat)  # Take all template name for this category\n",
    "            print(templates)\n",
    "            for templ in templates:\n",
    "                template = cv2.imread(path + templ, 0)\n",
    "                templateFind, find = template_from_template(img, template)\n",
    "                # print('Ok!')\n",
    "                if find:\n",
    "                    # print('Ok2!')\n",
    "                    position = best_position(img, templateFind, nbObjectToFind[cat])\n",
    "                    h, w = template.shape\n",
    "                    for i in range(len(position)):\n",
    "                        position[i] = position[i] + (h, w)\n",
    "                    diction[planeName][cat] += position"
   ]
  },
  {
   "cell_type": "code",
   "execution_count": 50,
   "metadata": {},
   "outputs": [
    {
     "name": "stdout",
     "output_type": "stream",
     "text": "['temp_normal_seat.jpg', 'temp_normal_seat_little.jpg']\n{'South_African_Airways_Airbus_A340-200_plane844.jpg': {'normal': [(185, 1030, 16, 14), (185, 1050, 16, 14), (185, 1070, 16, 14), (185, 1090, 16, 14), (185, 1110, 16, 14), (185, 1130, 16, 14), (185, 1150, 16, 14), (185, 1170, 16, 14), (132, 1041, 16, 14), (132, 1061, 16, 14), (132, 1081, 16, 14), (132, 1101, 16, 14), (132, 1121, 16, 14), (132, 1141, 16, 14), (133, 1161, 16, 14), (134, 1181, 16, 14), (185, 689, 16, 14), (185, 709, 16, 14), (185, 729, 16, 14), (185, 749, 16, 14), (185, 769, 16, 14), (185, 789, 16, 14), (185, 809, 16, 14), (185, 829, 16, 14), (185, 849, 16, 14), (185, 869, 16, 14), (185, 889, 16, 14), (198, 1030, 16, 14), (198, 1050, 16, 14), (198, 1070, 16, 14), (198, 1090, 16, 14), (198, 1110, 16, 14), (198, 1130, 16, 14), (198, 1150, 16, 14), (198, 1170, 16, 14), (198, 1190, 16, 14), (192, 1230, 16, 14), (205, 1230, 16, 14), (192, 1250, 16, 14), (205, 1250, 16, 14), (192, 1270, 16, 14), (205, 1270, 16, 14), (133, 689, 16, 14), (133, 709, 16, 14), (133, 729, 16, 14), (133, 749, 16, 14), (133, 769, 16, 14), (133, 789, 16, 14), (133, 809, 16, 14), (133, 829, 16, 14), (133, 849, 16, 14), (133, 869, 16, 14), (133, 889, 16, 14), (133, 909, 16, 14), (211, 1190, 16, 14), (135, 1201, 16, 14), (136, 1221, 16, 14), (137, 1241, 16, 14), (138, 1261, 16, 14), (146, 1161, 16, 14), (147, 1181, 16, 14), (148, 1201, 16, 14), (149, 1221, 16, 14), (150, 1241, 16, 14), (151, 1261, 16, 14), (198, 689, 16, 14), (198, 709, 16, 14), (198, 729, 16, 14), (198, 749, 16, 14), (198, 769, 16, 14), (198, 789, 16, 14), (198, 809, 16, 14), (198, 829, 16, 14), (198, 849, 16, 14), (198, 869, 16, 14), (198, 889, 16, 14), (133, 929, 16, 14), (211, 1030, 16, 14), (145, 1041, 16, 14), (211, 1050, 16, 14), (145, 1061, 16, 14), (211, 1070, 16, 14), (145, 1081, 16, 14), (211, 1090, 16, 14), (145, 1101, 16, 14), (211, 1110, 16, 14), (145, 1121, 16, 14), (211, 1130, 16, 14), (145, 1141, 16, 14), (211, 1150, 16, 14), (211, 1170, 16, 14), (185, 1190, 16, 14), (146, 669, 16, 14), (146, 689, 16, 14), (146, 709, 16, 14), (146, 729, 16, 14), (146, 749, 16, 14), (146, 769, 16, 14), (146, 789, 16, 14), (146, 809, 16, 14), (146, 829, 16, 14), (146, 849, 16, 14), (146, 869, 16, 14), (146, 889, 16, 14), (146, 909, 16, 14), (211, 689, 16, 14), (211, 709, 16, 14), (211, 729, 16, 14), (211, 749, 16, 14), (211, 769, 16, 14), (211, 789, 16, 14), (211, 809, 16, 14), (211, 829, 16, 14), (211, 849, 16, 14), (211, 869, 16, 14), (211, 889, 16, 14), (185, 909, 16, 14), (260, 1201, 16, 14), (259, 1221, 16, 14), (258, 1241, 16, 14), (257, 1261, 16, 14), (263, 1041, 16, 14), (263, 1061, 16, 14), (263, 1081, 16, 14), (263, 1101, 16, 14), (263, 1121, 16, 14), (263, 1141, 16, 14), (262, 1161, 16, 14), (261, 1181, 16, 14), (263, 669, 16, 14), (218, 1230, 16, 14), (218, 1250, 16, 14), (218, 1270, 16, 14), (263, 689, 16, 14), (263, 709, 16, 14), (263, 729, 16, 14), (263, 749, 16, 14), (263, 769, 16, 14), (263, 789, 16, 14), (263, 809, 16, 14), (263, 829, 16, 14), (263, 849, 16, 14), (263, 869, 16, 14), (263, 889, 16, 14), (263, 909, 16, 14), (146, 929, 16, 14), (198, 909, 16, 14), (211, 909, 16, 14), (263, 929, 16, 14), (224, 1030, 16, 14), (224, 1050, 16, 14), (224, 1070, 16, 14), (224, 1090, 16, 14), (224, 1110, 16, 14), (224, 1130, 16, 14), (224, 1150, 16, 14), (224, 1170, 16, 14), (224, 689, 16, 14), (224, 709, 16, 14), (224, 729, 16, 14), (224, 749, 16, 14), (224, 769, 16, 14), (224, 789, 16, 14), (224, 809, 16, 14), (224, 829, 16, 14), (224, 849, 16, 14), (224, 869, 16, 14), (224, 889, 16, 14), (276, 1141, 16, 14), (275, 1161, 16, 14), (274, 1181, 16, 14), (276, 689, 16, 14), (276, 709, 16, 14), (276, 729, 16, 14), (276, 749, 16, 14), (276, 769, 16, 14), (276, 789, 16, 14), (276, 809, 16, 14), (276, 829, 16, 14), (276, 849, 16, 14), (276, 869, 16, 14), (276, 889, 16, 14), (276, 909, 16, 14), (276, 1041, 16, 14), (276, 1061, 16, 14), (276, 1081, 16, 14), (276, 1101, 16, 14), (276, 1121, 16, 14), (276, 929, 16, 14)]}}\n"
    },
    {
     "data": {
      "text/plain": "True"
     },
     "execution_count": 50,
     "metadata": {},
     "output_type": "execute_result"
    }
   ],
   "source": [
    "# img_gray = cv2.imread('../All Data/ANALYSE IMAGE/LAYOUT SEATGURU/' + 'Asiana_Boeing_777-200_ER_C_plane205.jpg', 0)\n",
    "# img_rgb = cv2.imread('../All Data/ANALYSE IMAGE/LAYOUT SEATGURU/' + 'Asiana_Boeing_777-200_ER_C_plane205.jpg' , 1)\n",
    "# img_gray = cv2.imread('../All Data/ANALYSE IMAGE/LAYOUT SEATGURU/' + 'China_Southern_Boeing_737-800C_plane33.jpg', 0)\n",
    "# img_rgb = cv2.imread('../All Data/ANALYSE IMAGE/LAYOUT SEATGURU/' + 'China_Southern_Boeing_737-800C_plane33.jpg' , 1)\n",
    "# img_gray = cv2.imread('../All Data/ANALYSE IMAGE/LAYOUT SEATGURU/' + 'Asiana_Airbus_A321-200_V1_plane209.jpg', 0)\n",
    "# img_rgb = cv2.imread('../All Data/ANALYSE IMAGE/LAYOUT SEATGURU/' + 'Asiana_Airbus_A321-200_V1_plane209.jpg' , 1)\n",
    "# img_gray = cv2.imread('../All Data/ANALYSE IMAGE/LAYOUT SEATGURU/' + 'Oman_Air_Boeing_787-8_V2_plane683.jpg', 0)\n",
    "# img_rgb = cv2.imread('../All Data/ANALYSE IMAGE/LAYOUT SEATGURU/' + 'Oman_Air_Boeing_787-8_V2_plane683.jpg' , 1)\n",
    "# img_gray = cv2.imread('../All Data/ANALYSE IMAGE/LAYOUT SEATGURU/' + 'Japan_Airlines_Boeing_777-200ER_D_plane522.jpg', 0)\n",
    "# img_rgb = cv2.imread('../All Data/ANALYSE IMAGE/LAYOUT SEATGURU/' + 'Japan_Airlines_Boeing_777-200ER_D_plane522.jpg' , 1)\n",
    "# img_gray = cv2.imread('../All Data/ANALYSE IMAGE/LAYOUT SEATGURU/' + 'Croatia_Airlines_Airbus_A319-100_plane310.jpg', 0)\n",
    "# img_rgb = cv2.imread('../All Data/ANALYSE IMAGE/LAYOUT SEATGURU/' + 'Croatia_Airlines_Airbus_A319-100_plane310.jpg' , 1)\n",
    "# img_gray = cv2.imread('../All Data/ANALYSE IMAGE/LAYOUT SEATGURU/' + 'Aer_Lingus_Airbus_A330-200_plane6.jpg', 0)\n",
    "# img_rgb = cv2.imread('../All Data/ANALYSE IMAGE/LAYOUT SEATGURU/' + 'Aer_Lingus_Airbus_A330-200_plane6.jpg' , 1)\n",
    "# img_gray = cv2.imread('../All Data/ANALYSE IMAGE/LAYOUT SEATGURU/' + 'Nok_Air_Boeing_737-800_plane666.jpg', 0)\n",
    "# img_rgb = cv2.imread('../All Data/ANALYSE IMAGE/LAYOUT SEATGURU/' + 'Nok_Air_Boeing_737-800_plane666.jpg' , 1)\n",
    "img_gray = cv2.imread('../All Data/ANALYSE IMAGE/LAYOUT SEATGURU/' + 'South_African_Airways_Airbus_A340-200_plane844.jpg', 0)\n",
    "img_rgb = cv2.imread('../All Data/ANALYSE IMAGE/LAYOUT SEATGURU/' + 'South_African_Airways_Airbus_A340-200_plane844.jpg' , 1)\n",
    "\n",
    "\n",
    "img_name = 'South_African_Airways_Airbus_A340-200_plane844.jpg'\n",
    "# nbSeat = {'business': 32}\n",
    "nbSeat = {'normal': 189}\n",
    "plane = {}\n",
    "plane[img_name] = {}\n",
    "\n",
    "# rematch(img_gray, nbSeat, plane, 'Asiana_Boeing_777-200_ER_C_plane205.jpg')\n",
    "rematch(img_gray, nbSeat, plane, img_name)\n",
    "print(plane)\n",
    "\n",
    "for i in plane[img_name].keys():\n",
    "    for j in plane[img_name][i]:\n",
    "        cv2.rectangle(img_rgb, j[0:2], (j[0] + j[3], j[1] + j[2]), (0, 0, 255), 2)\n",
    "\n",
    "cv2.imshow('name', img_rgb)\n",
    "cv2.waitKey()\n",
    "cv2.destroyAllWindows()\n",
    "cv2.imwrite('test.jpg', img_rgb)\n",
    "\n",
    "# ['temp_normal_seat.jpg', 'temp_normal_seat_little.jpg']\n"
   ]
  },
  {
   "cell_type": "code",
   "execution_count": null,
   "metadata": {},
   "outputs": [],
   "source": []
  }
 ],
 "metadata": {
  "file_extension": ".py",
  "kernelspec": {
   "display_name": "Python 3",
   "language": "python",
   "name": "python3"
  },
  "language_info": {
   "codemirror_mode": {
    "name": "ipython",
    "version": 3
   },
   "file_extension": ".py",
   "mimetype": "text/x-python",
   "name": "python",
   "nbconvert_exporter": "python",
   "pygments_lexer": "ipython3",
   "version": "3.7.3-final"
  },
  "mimetype": "text/x-python",
  "name": "python",
  "npconvert_exporter": "python",
  "pygments_lexer": "ipython3",
  "version": 3
 },
 "nbformat": 4,
 "nbformat_minor": 2
}