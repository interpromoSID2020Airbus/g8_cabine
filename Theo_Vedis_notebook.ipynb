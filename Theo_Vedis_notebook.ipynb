{
 "cells": [
  {
   "cell_type": "code",
   "execution_count": 1,
   "metadata": {},
   "outputs": [],
   "source": [
    "%load_ext pycodestyle_magic\n",
    "%pycodestyle_on"
   ]
  },
  {
   "cell_type": "code",
   "execution_count": 4,
   "metadata": {},
   "outputs": [],
   "source": [
    "import os\n",
    "os.getcwd()\n",
    "os.chdir('c:\\\\Users\\\\Stior\\\\Documents\\\\cours\\\\L3SID\\\\Projet-InterPromo\\\n",
    "\\\\ProjetInterpromo2020G8')"
   ]
  },
  {
   "cell_type": "code",
   "execution_count": 5,
   "metadata": {},
   "outputs": [],
   "source": [
    "from pipeline import Pipeline, Process, Postprocess, Preprocess\n",
    "import numpy as np\n",
    "import pandas as pd\n",
    "import cv2\n",
    "from matplotlib import pyplot as plt\n",
    "import PIL"
   ]
  },
  {
   "cell_type": "code",
   "execution_count": 7,
   "metadata": {},
   "outputs": [
    {
     "name": "stderr",
     "output_type": "stream",
     "text": "3:5: E301 expected 1 blank line, found 0\n6:1: E302 expected 2 blank lines, found 1\n8:5: E301 expected 1 blank line, found 0\n10:1: W293 blank line contains whitespace\n11:1: E302 expected 2 blank lines, found 1\n13:5: E301 expected 1 blank line, found 0\n"
    }
   ],
   "source": [
    "class MyPreProcess(Preprocess):\n",
    "    process_desc = \"Exemple de pre-process -> ne fait rien\"\n",
    "    def run(self, images):\n",
    "        pass\n",
    "\n",
    "\n",
    "class MyProcess(Process):\n",
    "    process_desc = \"Exemple de process -> ne fait rien\"\n",
    "    def run(self, images):\n",
    "        pass\n",
    "    \n",
    "\n",
    "class MyPostProcess(Postprocess):\n",
    "    process_desc = \"Exemple de post-process -> ne fait rien\"\n",
    "    def run(self, images):\n",
    "        pass"
   ]
  },
  {
   "cell_type": "code",
   "execution_count": 8,
   "metadata": {},
   "outputs": [
    {
     "name": "stderr",
     "output_type": "stream",
     "text": "2:41: E203 whitespace before ','\n3:27: E231 missing whitespace after ','\n3:39: E203 whitespace before ','\n4:27: E231 missing whitespace after ','\n4:43: E203 whitespace before ','\n5:27: E231 missing whitespace after ','\n7:1: W391 blank line at end of file\nPreprocess :  Exemple de pre-process -> ne fait rien\nProcess :  Exemple de process -> ne fait rien\nPostprocess :  Exemple de post-process -> ne fait rien\nExemple de pre-process -> ne fait rien a été ajouté.\nExemple de process -> ne fait rien a été ajouté.\nExemple de post-process -> ne fait rien a été ajouté.\nExemple de pre-process -> ne fait rien a été ajouté.\n"
    }
   ],
   "source": [
    "pipeline = Pipeline()\n",
    "process_array = np.array([MyPreProcess()\n",
    "                          ,MyProcess()\n",
    "                          ,MyPostProcess()\n",
    "                          ,MyPreProcess(verbose=0)])\n",
    "pipeline.add_processes(process_array)\n"
   ]
  },
  {
   "cell_type": "code",
   "execution_count": 9,
   "metadata": {},
   "outputs": [
    {
     "name": "stdout",
     "output_type": "stream",
     "text": "Exemple de pre-process -> ne fait rien\nExemple de pre-process -> ne fait rien\nExemple de process -> ne fait rien\nExemple de post-process -> ne fait rien\n"
    }
   ],
   "source": [
    "pipeline.print_process()"
   ]
  },
  {
   "cell_type": "code",
   "execution_count": 14,
   "metadata": {},
   "outputs": [
    {
     "name": "stderr",
     "output_type": "stream",
     "text": "1:80: E501 line too long (107 > 79 characters)\n2:80: E501 line too long (106 > 79 characters)\n"
    }
   ],
   "source": [
    "img_gray = cv2.imread('../All Data/ANALYSE IMAGE/LAYOUT SEATGURU/Aer_Lingus_Airbus_A330-200_plane4.jpg', 0)\n",
    "img_rgb = cv2.imread('../All Data/ANALYSE IMAGE/LAYOUT SEATGURU/Aer_Lingus_Airbus_A330-200_plane4.jpg', 1)\n",
    "\n",
    "# img_gray = cv2.imread('../All Data/ANALYSE IMAGE/LAYOUT SEATGURU/\\\n",
    "#                         Aer_Lingus_Airbus_A320_plane9.jpg', 0)\n",
    "# img_rgb = cv2.imread('../All Data/ANALYSE IMAGE/LAYOUT SEATGURU/\\\n",
    "#                         Aer_Lingus_Airbus_A320_plane9.jpg', 1)\n",
    "\n",
    "\n",
    "# # img_gray = cv2.imread('../All Data/ANALYSE IMAGE/LAYOUT SEATGURU/\\\n",
    "#                         Air_Transat_Airbus_A330-300_V2_plane128.jpg', 0)\n",
    "# # img_rgb = cv2.imread('../All Data/ANALYSE IMAGE/LAYOUT SEATGURU/\\\n",
    "#                         Air_Transat_Airbus_A330-300_V2_plane128.jpg', 1)\n",
    "\n",
    "# template = cv2.imread('./images/temp_normal_seat.jpg', 0)\n",
    "# template = cv2.imread('./images/templateTest.jpg', 0)\n",
    "# template = cv2.imread('./images/templateNormalSeat-SansBlanc.png', 0)\n",
    "# template = cv2.imread('./images/templateNormalSeat-SansBlanc.jpg', 0)\n",
    "template = cv2.imread('./images/templateTest-sansBlanc.png', 0)\n",
    "\n",
    "# cv2.imshow('Test', img2)\n",
    "# cv2.waitKey()\n",
    "# cv2.destroyAllWindows()\n",
    "h, w = template.shape"
   ]
  },
  {
   "cell_type": "code",
   "execution_count": 11,
   "metadata": {},
   "outputs": [
    {
     "name": "stderr",
     "output_type": "stream",
     "text": "2:80: E501 line too long (131 > 79 characters)\n"
    }
   ],
   "source": [
    "\n",
    "methods = ['cv2.TM_CCOEFF', 'cv2.TM_CCOEFF_NORMED', 'cv2.TM_CCORR', 'cv2.TM_CCORR_NORMED', 'cv2.TM_SQDIFF', 'cv2.TM_SQDIFF_NORMED']"
   ]
  },
  {
   "cell_type": "code",
   "execution_count": 17,
   "metadata": {},
   "outputs": [
    {
     "name": "stderr",
     "output_type": "stream",
     "text": "2:33: E231 missing whitespace after ','\n2:42: E231 missing whitespace after ','\n4:16: E201 whitespace after '('\n10:58: E231 missing whitespace after ','\n10:60: E231 missing whitespace after ','\n17:24: W291 trailing whitespace\n26:1: W391 blank line at end of file\n2:33: E231 missing whitespace after ','\n2:42: E231 missing whitespace after ','\n4:16: E201 whitespace after '('\n10:58: E231 missing whitespace after ','\n10:60: E231 missing whitespace after ','\n17:24: W291 trailing whitespace\n26:1: W391 blank line at end of file\n"
    }
   ],
   "source": [
    "\n",
    "res = cv2.matchTemplate(img_gray,template,cv2.TM_CCOEFF_NORMED)\n",
    "THRESHOLD = 0.8\n",
    "loc = np.where( res >= THRESHOLD)\n",
    "\n",
    "coord = []\n",
    "\n",
    "for pt in zip(*loc[::-1]):\n",
    "    coord.append((pt[0], pt[1]))\n",
    "    cv2.rectangle(img_rgb, pt, (pt[0] + w, pt[1] + h), (0,0,255), 2)\n",
    "\n",
    "for i in coord:\n",
    "    cv2.circle(img_rgb, i, 1, (255, 0, 0), -1)\n",
    "\n",
    "cv2.imshow('test', img_rgb)\n",
    "cv2.waitKey()\n",
    "cv2.destroyAllWindows() \n",
    "\n",
    "print(coord)\n",
    "\n",
    "\n",
    "with open(\"coord.txt\", \"a\") as fichier:\n",
    "    for xy in coord:\n",
    "        fichier.write(str(xy[0]) + \", \" + str(xy[1]) + \"\\n\")\n",
    "\n"
   ]
  },
  {
   "cell_type": "code",
   "execution_count": 0,
   "metadata": {},
   "outputs": [],
   "source": [
    "img_gray = cv2.imread('../All Data/ANALYSE IMAGE/LAYOUT SEATGURU/Aer_Lingus_Airbus_A330-200_plane4.jpg', 0)\n",
    "img_rgb = cv2.imread('../All Data/ANALYSE IMAGE/LAYOUT SEATGURU/Aer_Lingus_Airbus_A330-200_plane4.jpg', 1)\n",
    "# template = cv2.imread('./images/temp_normal_seat.jpg', 0)\n",
    "templates = ['./images/temp_business_seat_armrest_left.jpg', './images/temp_business_seat_armrest_right.jpg', './images/temp_business_elec1.jpg']\n",
    "# templates = ['./images/templateBusinessElectricity.jpg']"
   ]
  },
  {
   "cell_type": "code",
   "execution_count": 23,
   "metadata": {},
   "outputs": [
    {
     "name": "stdout",
     "output_type": "stream",
     "text": "(array([334, 334, 334, 334, 334, 367, 367, 368, 399, 401, 431, 431, 435,\n       435, 435], dtype=int64), array([140, 190, 217, 268, 269, 191, 218, 250, 190, 140, 191, 218, 149,\n       250, 277], dtype=int64))\n"
    }
   ],
   "source": [
    "for templ in templates:\n",
    "    template = cv2.imread(templ, 0)\n",
    "    h, w = template.shape\n",
    "    res = cv2.matchTemplate(img_gray, template, cv2.TM_CCOEFF_NORMED)\n",
    "    if templ == './images/temp_business_elec1.jpg':\n",
    "        THRESHOLD = 0.7\n",
    "    else:\n",
    "        THRESHOLD = 0.7\n",
    "\n",
    "    loc = np.where(res >= THRESHOLD)\n",
    "\n",
    "    coord = []\n",
    "\n",
    "    fichier = open(\"coord.txt\", \"a\")\n",
    "\n",
    "    if templ == './images/temp_business_elec1.jpg':\n",
    "        fichier.write('-------------------\\nPrise electrique \\n')\n",
    "\n",
    "    for pt in zip(*loc[::-1]):\n",
    "        fichier.write(str(pt[0]) + \", \" + str(pt[1]) + \"\\n\")\n",
    "        cv2.rectangle(img_rgb, pt, (pt[0] + w, pt[1] + h), (0, 0, 255), 2)\n",
    "    fichier.close()\n",
    "\n",
    "cv2.imshow('test', img_rgb)\n",
    "cv2.waitKey()\n",
    "cv2.destroyAllWindows()\n",
    "# cv2.imwrite('test.jpeg', img_rgb)\n",
    "\n",
    "print(np.where(res >= THRESHOLD))"
   ]
  },
  {
   "cell_type": "code",
   "execution_count": 26,
   "metadata": {},
   "outputs": [
    {
     "name": "stderr",
     "output_type": "stream",
     "text": "1:80: E501 line too long (115 > 79 characters)\n2:80: E501 line too long (119 > 79 characters)\n3:80: E501 line too long (116 > 79 characters)\n4:80: E501 line too long (120 > 79 characters)\n5:80: E501 line too long (115 > 79 characters)\n6:80: E501 line too long (119 > 79 characters)\n7:80: E501 line too long (117 > 79 characters)\n8:80: E501 line too long (123 > 79 characters)\n9:80: E501 line too long (111 > 79 characters)\n10:80: E501 line too long (136 > 79 characters)\n11:80: E501 line too long (105 > 79 characters)\n12:80: E501 line too long (106 > 79 characters)\n12:103: E261 at least two spaces before inline comment\n12:104: E262 inline comment should start with '# '\n14:62: E261 at least two spaces before inline comment\n14:63: E262 inline comment should start with '# '\n18:80: E501 line too long (153 > 79 characters)\n20:1: W391 blank line at end of file\n"
    }
   ],
   "source": [
    "# img_gray = cv2.imread('../All Data/ANALYSE IMAGE/LAYOUT SEATGURU/Cathay_Pacific_Airbus_A350-900_plane259.jpg', 0)\n",
    "# img_rgb = cv2.imread('../All Data/ANALYSE IMAGE/LAYOUT SEATGURU/Cathay_Pacific_Airbus_A350-900_plane259.jpg', 1) # Ok\n",
    "# img_gray = cv2.imread('../All Data/ANALYSE IMAGE/LAYOUT SEATGURU/Cathay_Pacific_Airbus_A350-1000_plane258.jpg', 0)\n",
    "# img_rgb = cv2.imread('../All Data/ANALYSE IMAGE/LAYOUT SEATGURU/Cathay_Pacific_Airbus_A350-1000_plane258.jpg', 1) # Ok\n",
    "# img_gray = cv2.imread('../All Data/ANALYSE IMAGE/LAYOUT SEATGURU/Cathay_Pacific_Airbus_A330_33E_plane255.jpg', 0)\n",
    "# img_rgb = cv2.imread('../All Data/ANALYSE IMAGE/LAYOUT SEATGURU/Cathay_Pacific_Airbus_A330_33E_plane255.jpg', 1) # Ok\n",
    "# img_gray = cv2.imread('../All Data/ANALYSE IMAGE/LAYOUT SEATGURU/American_Airlines_777-300_ER_plane167.svg.png', 0)\n",
    "# img_rgb = cv2.imread('../All Data/ANALYSE IMAGE/LAYOUT SEATGURU/American_Airlines_777-300_ER_plane167.svg.png', 1) # Null\n",
    "# img_gray = cv2.imread('../All Data/ANALYSE IMAGE/LAYOUT SEATGURU/Asiana_Boeing_777-200_ER_D_plane206.jpg', 0)\n",
    "# img_rgb = cv2.imread('../All Data/ANALYSE IMAGE/LAYOUT SEATGURU/Asiana_Boeing_777-200_ER_D_plane206.jpg', 1) # Null - rectangle autour\n",
    "# img_gray = cv2.imread('../All Data/ANALYSE IMAGE/LAYOUT SEATGURU/Avianca_Boeing_787-8_plane313.jpg', 0)\n",
    "img_rgb = cv2.imread('../All Data/ANALYSE IMAGE/LAYOUT SEATGURU/Avianca_Boeing_787-8_plane313.jpg', 1) #Ok\n",
    "img_gray = cv2.imread('./theo_remove_caracters_yellow.jpg', 0)\n",
    "img_rgb = cv2.imread('./theo_remove_caracters_yellow.jpg', 1) #Ok\n",
    "\n",
    "\n",
    "# template = cv2.imread('./images/temp_normal_seat.jpg', 0)\n",
    "templates = ['./images/templateBusinessSeat1.jpg', 'templateTest.jpg', './images/templateNormalSeat-SansBlanc.jpg', './images/temp_normal_seat_elec.jpg']\n",
    "\n"
   ]
  },
  {
   "cell_type": "code",
   "execution_count": 27,
   "metadata": {},
   "outputs": [
    {
     "ename": "FileNotFoundError",
     "evalue": "[Errno 2] No such file or directory: './images/templateBusinessSeat1.jpg'",
     "output_type": "error",
     "traceback": [
      "\u001b[1;31m---------------------------------------------------------------------------\u001b[0m",
      "\u001b[1;31mFileNotFoundError\u001b[0m                         Traceback (most recent call last)",
      "\u001b[1;32m<ipython-input-27-946ed80baafd>\u001b[0m in \u001b[0;36m<module>\u001b[1;34m\u001b[0m\n\u001b[0;32m      1\u001b[0m \u001b[1;31m#Rotation 45° gauche + noir => blanc\u001b[0m\u001b[1;33m\u001b[0m\u001b[1;33m\u001b[0m\u001b[1;33m\u001b[0m\u001b[0m\n\u001b[0;32m      2\u001b[0m \u001b[1;33m\u001b[0m\u001b[0m\n\u001b[1;32m----> 3\u001b[1;33m \u001b[0mtemplateTest\u001b[0m \u001b[1;33m=\u001b[0m \u001b[0mPIL\u001b[0m\u001b[1;33m.\u001b[0m\u001b[0mImage\u001b[0m\u001b[1;33m.\u001b[0m\u001b[0mopen\u001b[0m\u001b[1;33m(\u001b[0m\u001b[0mtemplates\u001b[0m\u001b[1;33m[\u001b[0m\u001b[1;36m0\u001b[0m\u001b[1;33m]\u001b[0m\u001b[1;33m)\u001b[0m\u001b[1;33m\u001b[0m\u001b[1;33m\u001b[0m\u001b[0m\n\u001b[0m\u001b[0;32m      4\u001b[0m \u001b[0mrotate\u001b[0m \u001b[1;33m=\u001b[0m \u001b[0mtemplateTest\u001b[0m\u001b[1;33m.\u001b[0m\u001b[0mrotate\u001b[0m\u001b[1;33m(\u001b[0m\u001b[1;36m45\u001b[0m\u001b[1;33m)\u001b[0m\u001b[1;33m\u001b[0m\u001b[1;33m\u001b[0m\u001b[0m\n\u001b[0;32m      5\u001b[0m \u001b[0mrotate\u001b[0m \u001b[1;33m=\u001b[0m \u001b[0mrotate\u001b[0m\u001b[1;33m.\u001b[0m\u001b[0mconvert\u001b[0m\u001b[1;33m(\u001b[0m\u001b[1;34m'RGBA'\u001b[0m\u001b[1;33m)\u001b[0m\u001b[1;33m\u001b[0m\u001b[1;33m\u001b[0m\u001b[0m\n",
      "\u001b[1;32m~\\Anaconda3\\lib\\site-packages\\PIL\\Image.py\u001b[0m in \u001b[0;36mopen\u001b[1;34m(fp, mode)\u001b[0m\n\u001b[0;32m   2768\u001b[0m \u001b[1;33m\u001b[0m\u001b[0m\n\u001b[0;32m   2769\u001b[0m     \u001b[1;32mif\u001b[0m \u001b[0mfilename\u001b[0m\u001b[1;33m:\u001b[0m\u001b[1;33m\u001b[0m\u001b[1;33m\u001b[0m\u001b[0m\n\u001b[1;32m-> 2770\u001b[1;33m         \u001b[0mfp\u001b[0m \u001b[1;33m=\u001b[0m \u001b[0mbuiltins\u001b[0m\u001b[1;33m.\u001b[0m\u001b[0mopen\u001b[0m\u001b[1;33m(\u001b[0m\u001b[0mfilename\u001b[0m\u001b[1;33m,\u001b[0m \u001b[1;34m\"rb\"\u001b[0m\u001b[1;33m)\u001b[0m\u001b[1;33m\u001b[0m\u001b[1;33m\u001b[0m\u001b[0m\n\u001b[0m\u001b[0;32m   2771\u001b[0m         \u001b[0mexclusive_fp\u001b[0m \u001b[1;33m=\u001b[0m \u001b[1;32mTrue\u001b[0m\u001b[1;33m\u001b[0m\u001b[1;33m\u001b[0m\u001b[0m\n\u001b[0;32m   2772\u001b[0m \u001b[1;33m\u001b[0m\u001b[0m\n",
      "\u001b[1;31mFileNotFoundError\u001b[0m: [Errno 2] No such file or directory: './images/templateBusinessSeat1.jpg'"
     ]
    }
   ],
   "source": [
    "# Rotation 45° gauche + noir => blanc\n",
    "\n",
    "templateTest = PIL.Image.open(templates[0])\n",
    "rotate = templateTest.rotate(45)\n",
    "rotate = rotate.convert('RGBA')\n",
    "\n",
    "data = np.array(rotate)   # \"data\" is a height x width x 4 numpy array\n",
    "red, green, blue, alpha = data.T # Temporarily unpack the bands for readability\n",
    "\n",
    "\n",
    "black_areas = (red == 0) & (blue == 0) & (green == 0)\n",
    "data[..., :-1][black_areas.T] = (255, 255, 255) # Transpose back needed\n",
    "rotate = PIL.Image.fromarray(data)\n",
    "rotate.show()\n",
    "rotate = rotate.convert('RGB')\n",
    "rotate.save('templateTest.jpg')"
   ]
  },
  {
   "cell_type": "code",
   "execution_count": 29,
   "metadata": {},
   "outputs": [
    {
     "ename": "FileNotFoundError",
     "evalue": "[Errno 2] No such file or directory: './images/templateBusinessSeat1.jpg'",
     "output_type": "error",
     "traceback": [
      "\u001b[1;31m---------------------------------------------------------------------------\u001b[0m",
      "\u001b[1;31mFileNotFoundError\u001b[0m                         Traceback (most recent call last)",
      "\u001b[1;32m<ipython-input-29-47b3bcba6ebe>\u001b[0m in \u001b[0;36m<module>\u001b[1;34m\u001b[0m\n\u001b[0;32m      1\u001b[0m \u001b[1;31m# Symétrie droite\u001b[0m\u001b[1;33m\u001b[0m\u001b[1;33m\u001b[0m\u001b[1;33m\u001b[0m\u001b[0m\n\u001b[1;32m----> 2\u001b[1;33m \u001b[0mtemplateTest\u001b[0m \u001b[1;33m=\u001b[0m \u001b[0mPIL\u001b[0m\u001b[1;33m.\u001b[0m\u001b[0mImage\u001b[0m\u001b[1;33m.\u001b[0m\u001b[0mopen\u001b[0m\u001b[1;33m(\u001b[0m\u001b[0mtemplates\u001b[0m\u001b[1;33m[\u001b[0m\u001b[1;36m0\u001b[0m\u001b[1;33m]\u001b[0m\u001b[1;33m)\u001b[0m\u001b[1;33m\u001b[0m\u001b[1;33m\u001b[0m\u001b[0m\n\u001b[0m\u001b[0;32m      3\u001b[0m \u001b[0mrotate\u001b[0m \u001b[1;33m=\u001b[0m \u001b[0mtemplateTest\u001b[0m\u001b[1;33m.\u001b[0m\u001b[0mtranspose\u001b[0m\u001b[1;33m(\u001b[0m\u001b[0mPIL\u001b[0m\u001b[1;33m.\u001b[0m\u001b[0mImage\u001b[0m\u001b[1;33m.\u001b[0m\u001b[0mFLIP_LEFT_RIGHT\u001b[0m\u001b[1;33m)\u001b[0m\u001b[1;33m\u001b[0m\u001b[1;33m\u001b[0m\u001b[0m\n\u001b[0;32m      4\u001b[0m \u001b[1;33m\u001b[0m\u001b[0m\n\u001b[0;32m      5\u001b[0m \u001b[0mrotate\u001b[0m\u001b[1;33m.\u001b[0m\u001b[0mshow\u001b[0m\u001b[1;33m(\u001b[0m\u001b[1;33m)\u001b[0m\u001b[1;33m\u001b[0m\u001b[1;33m\u001b[0m\u001b[0m\n",
      "\u001b[1;32m~\\Anaconda3\\lib\\site-packages\\PIL\\Image.py\u001b[0m in \u001b[0;36mopen\u001b[1;34m(fp, mode)\u001b[0m\n\u001b[0;32m   2768\u001b[0m \u001b[1;33m\u001b[0m\u001b[0m\n\u001b[0;32m   2769\u001b[0m     \u001b[1;32mif\u001b[0m \u001b[0mfilename\u001b[0m\u001b[1;33m:\u001b[0m\u001b[1;33m\u001b[0m\u001b[1;33m\u001b[0m\u001b[0m\n\u001b[1;32m-> 2770\u001b[1;33m         \u001b[0mfp\u001b[0m \u001b[1;33m=\u001b[0m \u001b[0mbuiltins\u001b[0m\u001b[1;33m.\u001b[0m\u001b[0mopen\u001b[0m\u001b[1;33m(\u001b[0m\u001b[0mfilename\u001b[0m\u001b[1;33m,\u001b[0m \u001b[1;34m\"rb\"\u001b[0m\u001b[1;33m)\u001b[0m\u001b[1;33m\u001b[0m\u001b[1;33m\u001b[0m\u001b[0m\n\u001b[0m\u001b[0;32m   2771\u001b[0m         \u001b[0mexclusive_fp\u001b[0m \u001b[1;33m=\u001b[0m \u001b[1;32mTrue\u001b[0m\u001b[1;33m\u001b[0m\u001b[1;33m\u001b[0m\u001b[0m\n\u001b[0;32m   2772\u001b[0m \u001b[1;33m\u001b[0m\u001b[0m\n",
      "\u001b[1;31mFileNotFoundError\u001b[0m: [Errno 2] No such file or directory: './images/templateBusinessSeat1.jpg'"
     ]
    }
   ],
   "source": [
    "# Symétrie droite\n",
    "templateTest = PIL.Image.open(templates[0])\n",
    "rotate = templateTest.transpose(PIL.Image.FLIP_LEFT_RIGHT)\n",
    "\n",
    "rotate.show()\n",
    "rotate.save('templateTest.jpg')\n",
    "\n",
    "\n",
    "#107-171-93"
   ]
  },
  {
   "cell_type": "code",
   "execution_count": 35,
   "metadata": {},
   "outputs": [
    {
     "name": "stderr",
     "output_type": "stream",
     "text": "10:48: E261 at least two spaces before inline comment\n"
    }
   ],
   "source": [
    "templateTest = PIL.Image.open(templates[2])\n",
    "templateTest = templateTest.convert('RGBA')\n",
    "\n",
    "data = np.array(templateTest)\n",
    "red, green, blue, alpha = data.T\n",
    "\n",
    "THRESHOLD = 200\n",
    "\n",
    "white_areas = (red >= THRESHOLD) & (blue >= THRESHOLD) & (green >= THRESHOLD)\n",
    "data[..., :-1][white_areas.T] = (255, 255, 255) # Transpose back needed\n",
    "templateTest = PIL.Image.fromarray(data)\n",
    "templateTest.show()"
   ]
  },
  {
   "cell_type": "code",
   "execution_count": 36,
   "metadata": {},
   "outputs": [
    {
     "ename": "SyntaxError",
     "evalue": "can't use starred expression here (<ipython-input-36-ce95067dd528>, line 23)",
     "output_type": "error",
     "traceback": [
      "\u001b[1;36m  File \u001b[1;32m\"<ipython-input-36-ce95067dd528>\"\u001b[1;36m, line \u001b[1;32m23\u001b[0m\n\u001b[1;33m    \u001b[0m\n\u001b[1;37m    ^\u001b[0m\n\u001b[1;31mSyntaxError\u001b[0m\u001b[1;31m:\u001b[0m can't use starred expression here\n"
     ]
    }
   ],
   "source": [
    "for templ in templates:\n",
    "    template = cv2.imread(templ, 0)\n",
    "    h, w = template.shape\n",
    "    \n",
    "    res = cv2.matchTemplate(img_gray,template,cv2.TM_CCOEFF_NORMED)\n",
    "    \n",
    "    THRESHOLD = 0.9\n",
    "    if templ == 'templateTest.jpg':\n",
    "        THRESHOLD = 0.60\n",
    "    if templ == templates[0]:\n",
    "        THRESHOLD = 0.60\n",
    "    if templ == templates[3]:\n",
    "        THRESHOLD = 0.7\n",
    "\n",
    "\n",
    "    loc = np.where( res >= THRESHOLD)\n",
    "\n",
    "    #fichier = open(\"coord.txt\", \"a\")\n",
    "\n",
    "    for pt in (*loc[::-1]):\n",
    "        #fichier.write(str(pt[0]) + \", \" + str(pt[1]) + \"\\n\")\n",
    "        cv2.rectangle(img_rgb, pt, (pt[0] + w, pt[1] + h), (0,0,255), 2)\n",
    "    \n",
    "    #fichier.close()\n",
    "\n",
    "cv2.imshow('test', img_rgb)\n",
    "cv2.waitKey()\n",
    "cv2.destroyAllWindows()\n",
    "cv2.imwrite('test.jpg', img_rgb)\n",
    "\n",
    "#print(np.where( res >= THRESHOLD))"
   ]
  },
  {
   "cell_type": "code",
   "execution_count": 40,
   "metadata": {},
   "outputs": [
    {
     "name": "stderr",
     "output_type": "stream",
     "text": "17:80: E501 line too long (114 > 79 characters)\n"
    }
   ],
   "source": [
    "# Version 0\n",
    "\n",
    "# Input Image plane\n",
    "# Ok\n",
    "# img_gray = cv2.imread('../All Data/ANALYSE IMAGE/LAYOUT SEATGURU/'\\\n",
    "# 'Cathay_Pacific_Airbus_A350-900_plane259.jpg', 0)\n",
    "# img_rgb = cv2.imread('../All Data/ANALYSE IMAGE/LAYOUT SEATGURU/'\\\n",
    "# 'Cathay_Pacific_Airbus_A350-900_plane259.jpg', 1)\n",
    "# OK\n",
    "# img_gray = cv2.imread('../All Data/ANALYSE IMAGE/LAYOUT SEATGURU/'\\\n",
    "# 'Cathay_Pacific_Airbus_A350-1000_plane258.jpg', 0)\n",
    "# img_rgb = cv2.imread('../All Data/ANALYSE IMAGE/LAYOUT SEATGURU/'\\\n",
    "# 'Cathay_Pacific_Airbus_A350-1000_plane258.jpg', 1)\n",
    "# Ok\n",
    "# img_gray = cv2.imread('../All Data/ANALYSE IMAGE/LAYOUT SEATGURU/'\\\n",
    "# 'Cathay_Pacific_Airbus_A330_33E_plane255.jpg', 0)\n",
    "# img_rgb = cv2.imread('../All Data/ANALYSE IMAGE/LAYOUT SEATGURU/Cathay_Pacific_Airbus_A330_33E_plane255.jpg', 1)\n",
    "# NOk\n",
    "# img_gray = cv2.imread('../All Data/ANALYSE IMAGE/LAYOUT SEATGURU/'\\\n",
    "# 'American_Airlines_777-300_ER_plane167.svg.png', 0)\n",
    "# img_rgb = cv2.imread('../All Data/ANALYSE IMAGE/LAYOUT SEATGURU/'\\\n",
    "# 'American_Airlines_777-300_ER_plane167.svg.png', 1)\n",
    "# NOk\n",
    "# img_gray = cv2.imread('../All Data/ANALYSE IMAGE/LAYOUT SEATGURU/'\\\n",
    "# 'Asiana_Boeing_777-200_ER_D_plane206.jpg', 0)\n",
    "# img_rgb = cv2.imread('../All Data/ANALYSE IMAGE/LAYOUT SEATGURU/'\\\n",
    "# 'Asiana_Boeing_777-200_ER_D_plane206.jpg', 1)\n",
    "# OK\n",
    "# img_gray = cv2.imread('../All Data/ANALYSE IMAGE/LAYOUT SEATGURU/'\\\n",
    "# 'Avianca_Boeing_787-8_plane313.jpg', 0)\n",
    "# img_rgb = cv2.imread('../All Data/ANALYSE IMAGE/' \\\n",
    "# 'LAYOUT SEATGURU/Avianca_Boeing_787-8_plane313.jpg', 1)\n",
    "# Ok\n",
    "# img_gray = cv2.imread('./theo_remove_caracters_yellow.jpg', 0)\n",
    "# img_rgb = cv2.imread('./theo_remove_caracters_yellow.jpg', 1)\n",
    "\n",
    "# Input template\n",
    "templates = [\n",
    "            './images/temp_business_turn_left.jpg',\n",
    "            './images/temp_business_turn_right.jpg',\n",
    "            './images/temp_normal_seat_elec.jpg'\n",
    "            ]\n",
    "\n",
    "for templ in templates:\n",
    "    # Open template\n",
    "    template = cv2.imread(templ, 0)\n",
    "    h, w = template.shape\n",
    "\n",
    "    # List of match\n",
    "    res = cv2.matchTemplate(img_gray, template, cv2.TM_CCOEFF_NORMED)\n",
    "\n",
    "    # Set accuracy for each template\n",
    "    THRESHOLD = 0.9\n",
    "    if templ == templates[0]:\n",
    "        print('temp_business_turn_left')\n",
    "        THRESHOLD = 0.60\n",
    "    if templ == templates[1]:\n",
    "        print('temp_business_turn_right')\n",
    "        THRESHOLD = 0.60\n",
    "    if templ == templates[2]:\n",
    "        print('temp_normal_seat_elec')\n",
    "        THRESHOLD = 0.63\n",
    "\n",
    "    loc = np.where(res >= THRESHOLD)  # Filtering with the previous THRESHOLD\n",
    "\n",
    "    for pt in zip(*loc[::-1]):\n",
    "        # Output seat position\n",
    "        print(str(pt[0]) + ', ' + str(pt[1]))\n",
    "        # Tracing rectangle\n",
    "        cv2.rectangle(img_rgb, pt, (pt[0] + w, pt[1] + h), (0, 0, 255), 2)\n",
    "\n",
    "# Display results\n",
    "# cv2.imshow('test', img_rgb)\n",
    "# cv2.waitKey()\n",
    "# cv2.destroyAllWindows()\n",
    "\n",
    "# Save results\n",
    "# cv2.imwrite('test.jpg', img_rgb)"
   ]
  },
  {
   "cell_type": "code",
   "execution_count": null,
   "metadata": {},
   "outputs": [],
   "source": [
    "\n",
    "def \n",
    "\n"
   ]
  }
 ],
 "metadata": {
  "file_extension": ".py",
  "kernelspec": {
   "display_name": "Python 3",
   "language": "python",
   "name": "python3"
  },
  "language_info": {
   "codemirror_mode": {
    "name": "ipython",
    "version": 3
   },
   "file_extension": ".py",
   "mimetype": "text/x-python",
   "name": "python",
   "nbconvert_exporter": "python",
   "pygments_lexer": "ipython3",
   "version": "3.7.3-final"
  },
  "mimetype": "text/x-python",
  "name": "python",
  "npconvert_exporter": "python",
  "pygments_lexer": "ipython3",
  "version": 3
 },
 "nbformat": 4,
 "nbformat_minor": 2
}