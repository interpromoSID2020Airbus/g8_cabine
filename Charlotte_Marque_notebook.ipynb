{
 "cells": [
  {
   "cell_type": "code",
   "execution_count": 1,
   "metadata": {},
   "outputs": [
    {
     "name": "stdout",
     "output_type": "stream",
     "text": [
      "^C\n",
      "Error in callback <bound method VarWatcher.auto_run_pycodestyle of <pycodestyle_magic.VarWatcher object at 0x000001ADD3A7B908>> (for post_run_cell):\n"
     ]
    },
    {
     "ename": "TypeError",
     "evalue": "auto_run_pycodestyle() missing 1 required positional argument: 'result'",
     "output_type": "error",
     "traceback": [
      "\u001b[0;31m---------------------------------------------------------------------------\u001b[0m",
      "\u001b[0;31mTypeError\u001b[0m                                 Traceback (most recent call last)",
      "\u001b[0;31mTypeError\u001b[0m: auto_run_pycodestyle() missing 1 required positional argument: 'result'"
     ]
    }
   ],
   "source": [
    "!pip install flake8 pycodestyle_magic\n",
    "%load_ext pycodestyle_magic\n",
    "%pycodestyle_on"
   ]
  },
  {
   "cell_type": "code",
   "execution_count": null,
   "metadata": {},
   "outputs": [],
   "source": [
    "!pip install autopep8"
   ]
  },
  {
   "cell_type": "code",
   "execution_count": 5,
   "metadata": {
    "pycharm": {
     "is_executing": false
    }
   },
   "outputs": [],
   "source": [
    "from pipeline import Pipeline, Process, Postprocess, Preprocess\n",
    "import numpy as np\n",
    "import pandas as pd\n",
    "from os import listdir\n",
    "from os.path import isfile, join\n",
    "import csv\n",
    "import cv2\n",
    "import numpy as np\n",
    "from matplotlib import pyplot as plt"
   ]
  },
  {
   "cell_type": "code",
   "execution_count": 3,
   "metadata": {
    "collapsed": true
   },
   "outputs": [],
   "source": [
    "class MyPreProcess(Preprocess):\n",
    "    process_desc = \"Exemple de pre-process -> ne fait rien\"\n",
    "\n",
    "    def run(self, images):\n",
    "        pass\n",
    "\n",
    "\n",
    "class MyProcess(Process):\n",
    "    process_desc = \"Exemple de process -> ne fait rien\"\n",
    "\n",
    "    def run(self, images):\n",
    "        pass\n",
    "\n",
    "\n",
    "class MyPostProcess(Postprocess):\n",
    "    process_desc = \"Exemple de post-process -> ne fait rien\"\n",
    "\n",
    "    def run(self, images):\n",
    "        pass"
   ]
  },
  {
   "cell_type": "code",
   "execution_count": 4,
   "metadata": {},
   "outputs": [
    {
     "name": "stdout",
     "output_type": "stream",
     "text": [
      "Preprocess :  Exemple de pre-process -> ne fait rien\n",
      "Process :  Exemple de process -> ne fait rien\n",
      "Postprocess :  Exemple de post-process -> ne fait rien\n",
      "Exemple de pre-process -> ne fait rien a été ajouté.\n",
      "Exemple de process -> ne fait rien a été ajouté.\n",
      "Exemple de post-process -> ne fait rien a été ajouté.\n",
      "Exemple de pre-process -> ne fait rien a été ajouté.\n"
     ]
    }
   ],
   "source": [
    "pipeline = Pipeline()\n",
    "process_array = np.array([MyPreProcess()\n",
    "                          ,MyProcess()\n",
    "                          ,MyPostProcess()\n",
    "                          ,MyPreProcess(verbose=0)])\n",
    "pipeline.add_processes(process_array)\n"
   ]
  },
  {
   "cell_type": "code",
   "execution_count": 5,
   "metadata": {},
   "outputs": [
    {
     "name": "stdout",
     "output_type": "stream",
     "text": [
      "Exemple de pre-process -> ne fait rien\n",
      "Exemple de pre-process -> ne fait rien\n",
      "Exemple de process -> ne fait rien\n",
      "Exemple de post-process -> ne fait rien\n"
     ]
    }
   ],
   "source": [
    "pipeline.print_process()"
   ]
  },
  {
   "cell_type": "markdown",
   "metadata": {},
   "source": [
    "### 6/01/20 : count number of elements in images"
   ]
  },
  {
   "cell_type": "code",
   "execution_count": 13,
   "metadata": {
    "collapsed": true
   },
   "outputs": [],
   "source": [
    "path = \"C:/Users/ng85ffc/Desktop/\"\n",
    "path1 = \"Data/\""
   ]
  },
  {
   "cell_type": "code",
   "execution_count": 14,
   "metadata": {},
   "outputs": [],
   "source": [
    "fname = path + path1 + \"SEATGURU_INFO_AIRCRAFT.csv\"\n",
    "ifile = open(fname, \"rt\")\n",
    " \n",
    "airline_name = []\n",
    "aircraft_type = []\n",
    "category = []\n",
    "flight_type = []\n",
    "count = []\n",
    "total_seat = []\n",
    "seat_class = []\n",
    "seat_type = []\n",
    "seat_position = []\n",
    "\n",
    "try:\n",
    "    reader = csv.reader(ifile, delimiter = \";\")\n",
    "    for row in reader:\n",
    "        airline_name.append(row[1])\n",
    "        aircraft_type.append(row[2])\n",
    "        category.append(row[3])\n",
    "        flight_type.append(row[4])\n",
    "        count.append(row[5])\n",
    "        total_seat.append(row[6])\n",
    "        seat_class.append(row[7])\n",
    "        seat_type.append(row[8])\n",
    "        seat_position.append(row[9])\n",
    "finally:\n",
    "    ifile.close()"
   ]
  },
  {
   "cell_type": "code",
   "execution_count": 15,
   "metadata": {},
   "outputs": [
    {
     "data": {
      "text/plain": [
       "10331"
      ]
     },
     "execution_count": 15,
     "metadata": {},
     "output_type": "execute_result"
    }
   ],
   "source": [
    "len(airline_name)"
   ]
  },
  {
   "cell_type": "code",
   "execution_count": 16,
   "metadata": {
    "collapsed": true
   },
   "outputs": [],
   "source": [
    "my_list = list(set(aircraft_type[2001:3000]))"
   ]
  },
  {
   "cell_type": "code",
   "execution_count": 17,
   "metadata": {
    "collapsed": true
   },
   "outputs": [],
   "source": [
    "fname = path + path1 + \"Correspondances_images.csv\"\n",
    "file = open(fname, 'wt', newline='')\n",
    " \n",
    "\n",
    "try:\n",
    "    writer = csv.writer(file, delimiter = \";\")\n",
    "    #écriture de l'entête\n",
    "    writer.writerow(('Airline_Name', 'Aircraft_Type', 'Images'))\n",
    "    \n",
    "    for j in my_list:\n",
    "        index = []\n",
    "        for i in range(2001,3000):\n",
    "            if j == aircraft_type[i] :\n",
    "                index.append(i)\n",
    "        #print(index)\n",
    "        a = (str(min(index)+1) + \"-\" + str(max(index)+1))\n",
    "        #print(a)\n",
    "        writer.writerow((j, index))\n",
    "        #print(j, min(index), max(index))\n",
    "\n",
    "finally:\n",
    "    file.close()\n",
    "                "
   ]
  },
  {
   "cell_type": "code",
   "execution_count": 18,
   "metadata": {
    "scrolled": true
   },
   "outputs": [
    {
     "name": "stdout",
     "output_type": "stream",
     "text": [
      "Boeing 787-800 B 2079-2089\n",
      "Boeing 777-200ER A 2012-6183\n",
      "Boeing 777-300ER D 2034-2049\n",
      "Airlines Q400 2372-7173\n",
      "Boeing 777-200B 2 2793-2806\n",
      "Airbus A350-1000 2956-2968\n",
      "767-300ER 2472-2479\n",
      "Boeing 777 300 2833-2850\n",
      "Bombardier Q400 2557-10248\n",
      "Boeing 777-300ER F 2065-2078\n",
      "Airbus A321-200 12-9864\n",
      "Airlines Airbus A320neo 2561-7844\n",
      "Airlines Airbus A321 1500-10155\n",
      "Boeing 767-300 1753-8099\n",
      "Bombardier Q200 B 2549-2552\n",
      "Airbus A320-200 E 2657-2662\n",
      "Boeing 767-300ER B 2001-2011\n",
      "A340-542 2454-2461\n",
      "Airbus A330 200 2917-10065\n",
      "A321neo 2530-2536\n",
      "Boeing 747-400 full 2249-2263\n",
      "A330-200 2537-2544\n",
      "787-8 2480-2490\n",
      "Airways Boeing 777-200 B 2992-2998\n",
      "Embraer 170 B 2881-2883\n",
      "A320 2446-10188\n",
      "Airbus A330 300 1703-5263\n",
      "Boeing 777-200ER B 2024-5558\n",
      "Airbus A320 236-10134\n",
      "Airbus A320-200 D 2648-2656\n",
      "Airbus A319 360-9176\n",
      "Airbus A319 E 2637-2641\n",
      "Boeing 747-400 C 2737-6131\n",
      "Embraer 190 521-6740\n",
      "Boeing 777-200 2778-7979\n",
      "A319-111 2491-2498\n",
      "Airbus A321-200 V2 2190-9872\n",
      "Airbus A321 E 2685-2691\n",
      "Airbus A321-200 V1 2180-2189\n",
      "Airbus A380 2149-7446\n",
      "Airbus A320-200 6-7082\n",
      "Airbus A321-100 2174-2179\n",
      "Airlines Embraer195 2367-2371\n",
      "Airlines ATR 72-600 2576-2579\n",
      "Airlines Airbus A330-200 2567-8799\n",
      "Airbus A321 C 379-2672\n",
      "Embraer 190 A 2884-2888\n",
      "Airbus A319-100 1-4751\n",
      "Airbus A380 new 2692-6777\n",
      "Airbus A319 V2 1084-8820\n",
      "Bombardier Q200 A 2545-2548\n",
      "Boeing 777-200 ER D 2289-2300\n",
      "Airbus A330 33P 2948-2955\n",
      "Airlines Embraer 195 2586-2591\n",
      "A320-200 C 2524-2529\n",
      "Bombardier Q200 C 2553-2556\n",
      "Boeing 777-200 3 2821-2832\n",
      "Airbus A330 33E 2937-2947\n",
      "Boeing 787-9 V2 1251-9948\n",
      "Boeing 787-8 225-10323\n",
      "Boeing 787-9 195-10330\n",
      "A320-200 A 2506-7564\n",
      "Airbus A319 D 2628-2636\n",
      "Boeing 787-9 V3 2136-2148\n",
      "Airbus A318-100 2379-2388\n",
      "Boeing 787-800 C 2090-2102\n",
      "Boeing 787-800 D 2103-2112\n",
      "Boeing 747-400 D 2757-6144\n",
      "Airbus A330-200 130-9888\n",
      "Airbus A350-900 600-9900\n",
      "Airlines Airbus A319 2324-10145\n",
      "Boeing 787-900 469-8062\n",
      "Airlines Airbus A320 1484-10150\n",
      "ATR 72-500 324-10068\n",
      "Airlines Boeing 767-300ER V3 2344-2355\n",
      "Airways A330 E new 2981-2991\n",
      "Airbus A319 C 2622-4911\n",
      "Airbus A321 D 389-9199\n",
      "Airbus A330-300 V2 589-7955\n",
      "Airbus A320 V2 1094-9855\n",
      "Boeing 777-200 ER B 2271-2279\n",
      "Boeing 747-400 B 2718-6116\n",
      "Airbus A321 242-9017\n",
      "Airbus A320-200 C 2642-2647\n",
      "A320-200 B 2515-7572\n",
      "Airbus A318 2613-2615\n",
      "Airways Boeing 777-300ER A 2999-3020\n",
      "Airbus A321-200 V3 2200-9880\n",
      "Airbus A330-300 296-9241\n",
      "Boeing 777-300ER E 2050-2064\n",
      "757-200 V1 2462-2471\n",
      "Airlines Boeing 777-200 V2 2356-2366\n",
      "Airlines Embraer 190 2580-8725\n",
      "Boeing 777-200 ER C 2280-2288\n",
      "Boeing 777-200ER 2807-6875\n",
      "Embraer 170 A 2877-2880\n",
      "Embraer 190 B 2889-2894\n"
     ]
    }
   ],
   "source": [
    "for j in my_list:\n",
    "    #print(j)\n",
    "    index = []\n",
    "    for i in range(1,len(aircraft_type)):\n",
    "        if j == aircraft_type[i]:\n",
    "            index.append(i)\n",
    "    #print(index)\n",
    "    #a = min(index) + \"-\" + max(index)\n",
    "    print(j, str(min(index)) + '-' + str(max(index)))"
   ]
  },
  {
   "cell_type": "markdown",
   "metadata": {},
   "source": [
    "### 7/01/20 : template machine on exit"
   ]
  },
  {
   "cell_type": "code",
   "execution_count": 21,
   "metadata": {
    "collapsed": true
   },
   "outputs": [],
   "source": [
    "path2 = \"ProjetInterpromo2020g8/images/\"\n",
    "path3 = \"LAYOUT SEATGURU\"\n"
   ]
  },
  {
   "cell_type": "markdown",
   "metadata": {},
   "source": [
    "#### Separation of plans according to their type"
   ]
  },
  {
   "cell_type": "code",
   "execution_count": 22,
   "metadata": {},
   "outputs": [],
   "source": [
    "files = [f for f in listdir(path+path1+path3) if isfile(join(path+path1+path3, f))]"
   ]
  },
  {
   "cell_type": "code",
   "execution_count": 23,
   "metadata": {
    "collapsed": true
   },
   "outputs": [],
   "source": [
    "type1_file = []\n",
    "type2_file = []\n",
    "\n",
    "for i in files:\n",
    "    if i[len(i)-3:len(i)] == \"jpg\":\n",
    "        type1_file.append(i)\n",
    "    else:\n",
    "        type2_file.append(i)"
   ]
  },
  {
   "cell_type": "markdown",
   "metadata": {},
   "source": [
    "##### First type of image with SeatGuru, ex: Aeroflot_Russian_Airlines_Airbus_330_200_plane3.jpg"
   ]
  },
  {
   "cell_type": "code",
   "execution_count": 24,
   "metadata": {
    "collapsed": true
   },
   "outputs": [],
   "source": [
    "#img_rgb = cv2.imread(path + path1 + path3 + \"/Aeroflot_Russian_Airlines_Airbus_330_200_plane3.jpg\")\n",
    "img_rgb = cv2.imread(path + path1 + path3 + \"/Aeroflot_Russian_Airlines_Sukhoi_Superjet_100-95B_plane13.jpg\")\n",
    "#img_rgb = cv2.cvtColor(img_rgb, cv2.COLOR_BGR2HSV)\n",
    "#greenMask = cv2.inRange(hsv, (26, 10, 30), (97, 100, 255))"
   ]
  },
  {
   "cell_type": "code",
   "execution_count": 25,
   "metadata": {
    "collapsed": true
   },
   "outputs": [],
   "source": [
    "img_gray = cv2.cvtColor(img_rgb, cv2.COLOR_BGR2GRAY)\n",
    "template1 = cv2.imread(path + path2 + 'Exit17.png',0)\n",
    "template2 = cv2.imread(path + path2 + 'Exit16.png',0)\n",
    "w1, h1 = template1.shape[::-1]\n",
    "w2, h2 = template2.shape[::-1]"
   ]
  },
  {
   "cell_type": "code",
   "execution_count": 26,
   "metadata": {
    "collapsed": true
   },
   "outputs": [],
   "source": [
    "#cv2.imshow('plan', img_gray)\n",
    "#cv2.imshow('template', template)"
   ]
  },
  {
   "cell_type": "code",
   "execution_count": 27,
   "metadata": {
    "collapsed": true
   },
   "outputs": [],
   "source": [
    "template = [template1, template2]\n",
    "w = [w1, w2]\n",
    "h = [h1, h2]"
   ]
  },
  {
   "cell_type": "code",
   "execution_count": 28,
   "metadata": {},
   "outputs": [],
   "source": [
    "THRESHOLD : float = 0.9\n",
    "coordinate_exit = []\n",
    "for i in range(2):\n",
    "    res = cv2.matchTemplate(img_gray,template[i],cv2.TM_CCOEFF_NORMED)\n",
    "    loc = np.where( res >= THRESHOLD)\n",
    "    for pt in zip(*loc[::-1]):\n",
    "        cv2.rectangle(img_rgb, pt, (pt[0] + w[i], pt[1] + h[i]), (0,0,255), 2)\n",
    "        coordinate_exit.append((pt[0] + w[i], pt[1] + h[i]))\n",
    "\n",
    "    plt.plot,plt.imshow(img_rgb,cmap = 'gray')\n",
    "    #plt.figure()\n",
    "    cv2.imwrite('res' + str(i) + '.png',img_rgb)"
   ]
  },
  {
   "cell_type": "code",
   "execution_count": 29,
   "metadata": {},
   "outputs": [
    {
     "data": {
      "text/plain": [
       "[(126, 295),\n",
       " (114, 518),\n",
       " (129, 1085),\n",
       " (303, 296),\n",
       " (304, 296),\n",
       " (303, 297),\n",
       " (304, 297),\n",
       " (303, 1086),\n",
       " (302, 1087),\n",
       " (303, 1087)]"
      ]
     },
     "execution_count": 29,
     "metadata": {},
     "output_type": "execute_result"
    }
   ],
   "source": [
    "coordinate_exit"
   ]
  },
  {
   "cell_type": "markdown",
   "metadata": {},
   "source": [
    "#### Display of all images in folder to check consistency"
   ]
  },
  {
   "cell_type": "code",
   "execution_count": 38,
   "metadata": {},
   "outputs": [],
   "source": [
    "THRESHOLD : float = 0.9\n",
    "\n",
    "template1 = cv2.imread(path + path2 + 'Exit17.png',0)\n",
    "template2 = cv2.imread(path + path2 + 'Exit16.png',0)\n",
    "w1, h1 = template1.shape[::-1]\n",
    "w2, h2 = template2.shape[::-1]\n",
    "\n",
    "template = [template1, template2]\n",
    "w = [w1, w2]\n",
    "h = [h1, h2]\n",
    "\n",
    "coordinate = []\n",
    "for img in type1_file:\n",
    "    img_rgb = cv2.imread(path + path1 + path3 + \"/\" + img)\n",
    "    img_gray = cv2.cvtColor(img_rgb, cv2.COLOR_BGR2GRAY)\n",
    "    \n",
    "    coordinate_exit = []\n",
    "    for i in range(2):\n",
    "        res = cv2.matchTemplate(img_gray,template[i],cv2.TM_CCOEFF_NORMED)\n",
    "        loc = np.where( res >= THRESHOLD)\n",
    "        for pt in zip(*loc[::-1]):\n",
    "            cv2.rectangle(img_rgb, pt, (pt[0] + w[i], pt[1] + h[i]), (0,0,255), 2)\n",
    "            coordinate_exit.append((pt[0] + w[i], pt[1] + h[i]))\n",
    "\n",
    "        #plt.plot,plt.imshow(img_rgb,cmap = 'gray')\n",
    "        #plt.figure()\n",
    "        cv2.imwrite(path + path1 + 'Type1/res' + str(img) + '.png',img_rgb)\n",
    "    coordinate.append(coordinate_exit)"
   ]
  },
  {
   "cell_type": "code",
   "execution_count": 31,
   "metadata": {},
   "outputs": [
    {
     "data": {
      "text/plain": [
       "683"
      ]
     },
     "execution_count": 31,
     "metadata": {},
     "output_type": "execute_result"
    }
   ],
   "source": [
    "len(coordinate)"
   ]
  },
  {
   "cell_type": "markdown",
   "metadata": {},
   "source": [
    "##### Second type of image with SeatGuru, ex: Qatar_Airways_Boeing_777-300ER_plane737.svg.png"
   ]
  },
  {
   "cell_type": "code",
   "execution_count": 32,
   "metadata": {
    "collapsed": true
   },
   "outputs": [],
   "source": [
    "img_rgb = cv2.imread(path + path1 + path3 + \"/Qatar_Airways_Boeing_777-300ER_plane737.svg.png\")\n",
    "img_gray = cv2.cvtColor(img_rgb, cv2.COLOR_BGR2GRAY)\n",
    "template = cv2.imread(path + path2 + 'Exit11.png',0)\n",
    "w, h = template.shape[::-1]"
   ]
  },
  {
   "cell_type": "code",
   "execution_count": 33,
   "metadata": {},
   "outputs": [
    {
     "data": {
      "text/plain": [
       "True"
      ]
     },
     "execution_count": 33,
     "metadata": {},
     "output_type": "execute_result"
    }
   ],
   "source": [
    "THRESHOLD : float = 0.7\n",
    "coordinate_exit = []\n",
    "res = cv2.matchTemplate(img_gray,template,cv2.TM_CCOEFF_NORMED)\n",
    "loc = np.where( res >= THRESHOLD)\n",
    "for pt in zip(*loc[::-1]):\n",
    "    cv2.rectangle(img_rgb, pt, (pt[0] + w, pt[1] + h), (0,0,255), 2)\n",
    "    coordinate_exit.append((pt[0] + w, pt[1] + h))\n",
    "\n",
    "plt.plot,plt.imshow(img_rgb,cmap = 'gray')\n",
    "cv2.imwrite('res.png',img_rgb)"
   ]
  },
  {
   "cell_type": "code",
   "execution_count": 34,
   "metadata": {},
   "outputs": [
    {
     "data": {
      "text/plain": [
       "[(173, 190),\n",
       " (266, 190),\n",
       " (173, 191),\n",
       " (266, 191),\n",
       " (163, 471),\n",
       " (167, 471),\n",
       " (274, 471),\n",
       " (163, 884),\n",
       " (274, 884),\n",
       " (163, 1185),\n",
       " (167, 1185),\n",
       " (274, 1185),\n",
       " (274, 1492),\n",
       " (163, 1493),\n",
       " (274, 1493)]"
      ]
     },
     "execution_count": 34,
     "metadata": {},
     "output_type": "execute_result"
    }
   ],
   "source": [
    "coordinate_exit"
   ]
  },
  {
   "cell_type": "markdown",
   "metadata": {},
   "source": [
    "#### Display of all images in folder to check consistency"
   ]
  },
  {
   "cell_type": "code",
   "execution_count": 35,
   "metadata": {
    "collapsed": true
   },
   "outputs": [],
   "source": [
    "THRESHOLD : float = 0.7\n",
    "coordinate = []\n",
    "\n",
    "for img in type2_file:\n",
    "    img_rgb = cv2.imread(path + path1 + path3 + \"/Qatar_Airways_Boeing_777-300ER_plane737.svg.png\")\n",
    "    img_gray = cv2.cvtColor(img_rgb, cv2.COLOR_BGR2GRAY)\n",
    "    template = cv2.imread(path + path2 + 'Exit11.png',0)\n",
    "    w, h = template.shape[::-1]\n",
    "    \n",
    "    coordinate_exit = []\n",
    "    res = cv2.matchTemplate(img_gray,template,cv2.TM_CCOEFF_NORMED)\n",
    "    loc = np.where( res >= THRESHOLD)\n",
    "    for pt in zip(*loc[::-1]):\n",
    "        cv2.rectangle(img_rgb, pt, (pt[0] + w, pt[1] + h), (0,0,255), 2)\n",
    "        coordinate_exit.append((pt[0] + w, pt[1] + h))\n",
    "\n",
    "    #plt.plot,plt.imshow(img_rgb,cmap = 'gray')\n",
    "    cv2.imwrite(path + path1 + 'Type2/res' + str(img) + '.png',img_rgb)\n",
    "    coordinate.append(coordinate_exit)"
   ]
  },
  {
   "cell_type": "code",
   "execution_count": 36,
   "metadata": {},
   "outputs": [
    {
     "data": {
      "text/plain": [
       "512"
      ]
     },
     "execution_count": 36,
     "metadata": {},
     "output_type": "execute_result"
    }
   ],
   "source": [
    "len(coordinate)"
   ]
  },
  {
   "cell_type": "markdown",
   "metadata": {},
   "source": [
    "Soit deux templates : Exit12 0,7 & Exit15 0,8\n",
    "// Soit un : Exit11 0,7"
   ]
  },
  {
   "cell_type": "markdown",
   "metadata": {},
   "source": [
    "### 8/01/20-9/01/19 : Postprocesing"
   ]
  },
  {
   "cell_type": "markdown",
   "metadata": {},
   "source": [
    "#### Align dots and remove duplicates"
   ]
  },
  {
   "cell_type": "code",
   "execution_count": 1,
   "metadata": {
    "collapsed": true
   },
   "outputs": [],
   "source": [
    "# align all coordinates of the pixels\n",
    "def align(liste):\n",
    "    # First two lines if the first list is a list of tuples\n",
    "#     liste_x = [i[0] for i in liste]\n",
    "#     liste_y = [i[1] for i in liste]\n",
    "    # Separate x and y if we have a list of numbers like [x1, y1, x2, y2, ...]\n",
    "    liste_x = [liste[i] for i in range(len(liste)) if i % 2 == 0]\n",
    "    liste_y = [liste[i] for i in range(len(liste)) if i % 2 == 1]\n",
    "    \n",
    "    serie_x = pd.Series(liste_x).value_counts().sort_index()\n",
    "    serie_y = pd.Series(liste_y).value_counts().sort_index()\n",
    "    \n",
    "    px_rare_x = list(serie_x.loc[serie_x <= 3].index)\n",
    "    px_nb_x = list(serie_x.loc[serie_x > 3].index)\n",
    "    \n",
    "    px_rare_y = list(serie_y.loc[serie_y <= 3].index)\n",
    "    px_nb_y = list(serie_y.loc[serie_y > 3].index)\n",
    "    \n",
    "    for i in range(len(liste_x)):\n",
    "        if liste_x[i] in px_rare_x:\n",
    "            liste_dist = list(abs(np.array(px_nb_x) - liste_x[i]))\n",
    "            index = liste_dist.index(min(liste_dist))\n",
    "            liste_x[i] = px_nb_x[index]\n",
    "        if liste_y[i] in px_rare_y:\n",
    "            liste_dist = list(abs(np.array(px_nb_y) - liste_y[i]))\n",
    "            index = liste_dist.index(min(liste_dist))\n",
    "            liste_y[i] = px_nb_y[index]\n",
    "    \n",
    "    liste_coord = zip(liste_x, liste_y)\n",
    "    return list(liste_coord)"
   ]
  },
  {
   "cell_type": "code",
   "execution_count": 2,
   "metadata": {
    "collapsed": true
   },
   "outputs": [],
   "source": [
    "# Remove all the double detection of one object\n",
    "def remove_double_detection(liste : list):\n",
    "    serie = pd.Series(liste).value_counts()\n",
    "    tuples = serie.loc[serie > 1].index\n",
    "    for i in tuples:\n",
    "        liste.remove(i)\n",
    "    return liste"
   ]
  },
  {
   "cell_type": "code",
   "execution_count": 3,
   "metadata": {
    "collapsed": true
   },
   "outputs": [],
   "source": [
    "liste_coord = [146, 517,\n",
    "133, 537,\n",
    "146, 537,\n",
    "185, 537,\n",
    "198, 537,\n",
    "211, 537,\n",
    "224, 537,\n",
    "263, 537,\n",
    "276, 537,\n",
    "133, 557,\n",
    "146, 557,\n",
    "185, 557,\n",
    "198, 557,\n",
    "211, 557,\n",
    "224, 557,\n",
    "263, 557,\n",
    "276, 557,\n",
    "133, 577,\n",
    "146, 577,\n",
    "185, 577,\n",
    "198, 577,\n",
    "211, 577,\n",
    "224, 577,\n",
    "263, 577,\n",
    "276, 577,\n",
    "133, 597,\n",
    "146, 597,\n",
    "185, 597,\n",
    "198, 597,\n",
    "211, 597,\n",
    "224, 597,\n",
    "263, 597,\n",
    "276, 597,\n",
    "133, 617,\n",
    "146, 617,\n",
    "185, 617,\n",
    "198, 617,\n",
    "211, 617,\n",
    "224, 617,\n",
    "263, 617,\n",
    "276, 617,\n",
    "133, 637,\n",
    "146, 637,\n",
    "185, 637,\n",
    "198, 637,\n",
    "211, 637,\n",
    "224, 637,\n",
    "263, 637,\n",
    "276, 637,\n",
    "133, 657,\n",
    "146, 657,\n",
    "185, 657,\n",
    "198, 657,\n",
    "211, 657,\n",
    "224, 657,\n",
    "263, 657,\n",
    "276, 657,\n",
    "133, 677,\n",
    "146, 677,\n",
    "185, 677,\n",
    "198, 677,\n",
    "211, 677,\n",
    "224, 677,\n",
    "263, 677,\n",
    "276, 677,\n",
    "133, 697,\n",
    "146, 697,\n",
    "185, 697,\n",
    "198, 697,\n",
    "211, 697,\n",
    "224, 697,\n",
    "263, 697,\n",
    "276, 697,\n",
    "133, 717,\n",
    "146, 717,\n",
    "185, 717,\n",
    "198, 717,\n",
    "211, 717,\n",
    "224, 717,\n",
    "263, 717,\n",
    "276, 717,\n",
    "133, 737,\n",
    "146, 737,\n",
    "185, 737,\n",
    "198, 737,\n",
    "211, 737,\n",
    "224, 737,\n",
    "263, 737,\n",
    "276, 737,\n",
    "133, 757,\n",
    "146, 757,\n",
    "185, 757,\n",
    "198, 757,\n",
    "211, 757,\n",
    "224, 757,\n",
    "263, 757,\n",
    "276, 757,\n",
    "133, 777,\n",
    "146, 777,\n",
    "185, 777,\n",
    "198, 777,\n",
    "211, 777,\n",
    "224, 777,\n",
    "263, 777,\n",
    "276, 777,\n",
    "133, 797,\n",
    "146, 797,\n",
    "185, 797,\n",
    "198, 797,\n",
    "211, 797,\n",
    "224, 797,\n",
    "263, 797,\n",
    "276, 797,\n",
    "133, 817,\n",
    "146, 817,\n",
    "185, 817,\n",
    "198, 817,\n",
    "211, 817,\n",
    "224, 817,\n",
    "263, 817,\n",
    "276, 817,\n",
    "133, 837,\n",
    "146, 837,\n",
    "185, 837,\n",
    "198, 837,\n",
    "211, 837,\n",
    "224, 837,\n",
    "263, 837,\n",
    "276, 837,\n",
    "133, 857,\n",
    "146, 857,\n",
    "263, 857,\n",
    "276, 857,\n",
    "133, 971,\n",
    "146, 971,\n",
    "185, 971,\n",
    "198, 971,\n",
    "211, 971,\n",
    "224, 971,\n",
    "263, 971,\n",
    "276, 971,\n",
    "133, 991,\n",
    "146, 991,\n",
    "185, 991,\n",
    "198, 991,\n",
    "211, 991,\n",
    "224, 991,\n",
    "263, 991,\n",
    "276, 991,\n",
    "133, 1011,\n",
    "146, 1011,\n",
    "185, 1011,\n",
    "198, 1011,\n",
    "211, 1011,\n",
    "224, 1011,\n",
    "263, 1011,\n",
    "276, 1011,\n",
    "133, 1031,\n",
    "146, 1031,\n",
    "185, 1031,\n",
    "198, 1031,\n",
    "211, 1031,\n",
    "224, 1031,\n",
    "263, 1031,\n",
    "276, 1031,\n",
    "133, 1051,\n",
    "146, 1051,\n",
    "185, 1051,\n",
    "198, 1051,\n",
    "211, 1051,\n",
    "224, 1051,\n",
    "263, 1051,\n",
    "276, 1051,\n",
    "133, 1071,\n",
    "146, 1071,\n",
    "185, 1071,\n",
    "198, 1071,\n",
    "211, 1071,\n",
    "224, 1071,\n",
    "263, 1071,\n",
    "276, 1071,\n",
    "133, 1091,\n",
    "146, 1091,\n",
    "185, 1091,\n",
    "198, 1091,\n",
    "211, 1091,\n",
    "224, 1091,\n",
    "263, 1091,\n",
    "276, 1091,\n",
    "133, 1111,\n",
    "146, 1111,\n",
    "185, 1111,\n",
    "198, 1111,\n",
    "211, 1111,\n",
    "224, 1111,\n",
    "263, 1111,\n",
    "276, 1111,\n",
    "133, 1131,\n",
    "146, 1131,\n",
    "185, 1131,\n",
    "198, 1131,\n",
    "211, 1131,\n",
    "224, 1131,\n",
    "263, 1131,\n",
    "276, 1131,\n",
    "135, 1151,\n",
    "148, 1151,\n",
    "261, 1151,\n",
    "274, 1151,\n",
    "137, 1171,\n",
    "150, 1171,\n",
    "191, 1171,\n",
    "204, 1171,\n",
    "217, 1171,\n",
    "259, 1171,\n",
    "272, 1171,\n",
    "139, 1191,\n",
    "152, 1191,\n",
    "191, 1191,\n",
    "204, 1191,\n",
    "217, 1191]"
   ]
  },
  {
   "cell_type": "code",
   "execution_count": 6,
   "metadata": {},
   "outputs": [],
   "source": [
    "l_test = align(liste_coord)"
   ]
  },
  {
   "cell_type": "code",
   "execution_count": 8,
   "metadata": {
    "collapsed": true
   },
   "outputs": [],
   "source": [
    "x = [a for a,b in l_test]\n",
    "y = [b for a,b in l_test]"
   ]
  },
  {
   "cell_type": "code",
   "execution_count": null,
   "metadata": {
    "collapsed": true
   },
   "outputs": [],
   "source": []
  },
  {
   "cell_type": "code",
   "execution_count": 9,
   "metadata": {
    "collapsed": true
   },
   "outputs": [],
   "source": [
    "from sklearn.model_selection import RandomizedSearchCV\n",
    "import math\n",
    "from sklearn.cluster import KMeans\n",
    "import numpy as np"
   ]
  },
  {
   "cell_type": "code",
   "execution_count": 10,
   "metadata": {},
   "outputs": [
    {
     "ename": "NameError",
     "evalue": "name 'path' is not defined",
     "output_type": "error",
     "traceback": [
      "\u001b[0;31m---------------------------------------------------------------------------\u001b[0m",
      "\u001b[0;31mNameError\u001b[0m                                 Traceback (most recent call last)",
      "\u001b[0;32m<ipython-input-10-c3ddc5bd1526>\u001b[0m in \u001b[0;36m<module>\u001b[0;34m()\u001b[0m\n\u001b[0;32m----> 1\u001b[0;31m \u001b[0mplan\u001b[0m \u001b[1;33m=\u001b[0m \u001b[0mopen\u001b[0m\u001b[1;33m(\u001b[0m\u001b[0mpath\u001b[0m \u001b[1;33m+\u001b[0m \u001b[0mpath1\u001b[0m \u001b[1;33m+\u001b[0m \u001b[1;34m\"coord-Aer_Lingus_Airbus_A330-200_plane4-NormalSeats.txt\"\u001b[0m\u001b[1;33m,\u001b[0m \u001b[1;34m\"r\"\u001b[0m\u001b[1;33m)\u001b[0m\u001b[1;33m\u001b[0m\u001b[0m\n\u001b[0m\u001b[1;32m      2\u001b[0m \u001b[0mdata\u001b[0m \u001b[1;33m=\u001b[0m \u001b[0mplan\u001b[0m\u001b[1;33m.\u001b[0m\u001b[0mread\u001b[0m\u001b[1;33m(\u001b[0m\u001b[1;33m)\u001b[0m\u001b[1;33m\u001b[0m\u001b[0m\n",
      "\u001b[0;31mNameError\u001b[0m: name 'path' is not defined"
     ]
    }
   ],
   "source": [
    "plan = open(path + path1 + \"coord-Aer_Lingus_Airbus_A330-200_plane4-NormalSeats.txt\", \"r\")\n",
    "data = plan.read()"
   ]
  },
  {
   "cell_type": "code",
   "execution_count": null,
   "metadata": {
    "collapsed": true
   },
   "outputs": [],
   "source": [
    "list1 = []\n",
    "list2 = []\n",
    "data_array = data.replace('\\n', ',').replace(' ','').split(',')\n",
    "\n",
    "for i in range(0,len(data_array)-1,2):\n",
    "    list1.append(int(data_array[i]))\n",
    "    list2.append(int(data_array[i+1]))\n",
    "    "
   ]
  },
  {
   "cell_type": "code",
   "execution_count": 45,
   "metadata": {
    "collapsed": true
   },
   "outputs": [],
   "source": [
    "liste = np.array(list(zip(list1,list2)))"
   ]
  },
  {
   "cell_type": "code",
   "execution_count": 46,
   "metadata": {},
   "outputs": [
    {
     "data": {
      "text/plain": [
       "array([[ 146,  517],\n",
       "       [ 133,  537],\n",
       "       [ 146,  537],\n",
       "       [ 185,  537],\n",
       "       [ 198,  537],\n",
       "       [ 211,  537],\n",
       "       [ 224,  537],\n",
       "       [ 263,  537],\n",
       "       [ 276,  537],\n",
       "       [ 133,  557],\n",
       "       [ 146,  557],\n",
       "       [ 185,  557],\n",
       "       [ 198,  557],\n",
       "       [ 211,  557],\n",
       "       [ 224,  557],\n",
       "       [ 263,  557],\n",
       "       [ 276,  557],\n",
       "       [ 133,  577],\n",
       "       [ 146,  577],\n",
       "       [ 185,  577],\n",
       "       [ 198,  577],\n",
       "       [ 211,  577],\n",
       "       [ 224,  577],\n",
       "       [ 263,  577],\n",
       "       [ 276,  577],\n",
       "       [ 133,  597],\n",
       "       [ 146,  597],\n",
       "       [ 185,  597],\n",
       "       [ 198,  597],\n",
       "       [ 211,  597],\n",
       "       [ 224,  597],\n",
       "       [ 263,  597],\n",
       "       [ 276,  597],\n",
       "       [ 133,  617],\n",
       "       [ 146,  617],\n",
       "       [ 185,  617],\n",
       "       [ 198,  617],\n",
       "       [ 211,  617],\n",
       "       [ 224,  617],\n",
       "       [ 263,  617],\n",
       "       [ 276,  617],\n",
       "       [ 133,  637],\n",
       "       [ 146,  637],\n",
       "       [ 185,  637],\n",
       "       [ 198,  637],\n",
       "       [ 211,  637],\n",
       "       [ 224,  637],\n",
       "       [ 263,  637],\n",
       "       [ 276,  637],\n",
       "       [ 133,  657],\n",
       "       [ 146,  657],\n",
       "       [ 185,  657],\n",
       "       [ 198,  657],\n",
       "       [ 211,  657],\n",
       "       [ 224,  657],\n",
       "       [ 263,  657],\n",
       "       [ 276,  657],\n",
       "       [ 133,  677],\n",
       "       [ 146,  677],\n",
       "       [ 185,  677],\n",
       "       [ 198,  677],\n",
       "       [ 211,  677],\n",
       "       [ 224,  677],\n",
       "       [ 263,  677],\n",
       "       [ 276,  677],\n",
       "       [ 133,  697],\n",
       "       [ 146,  697],\n",
       "       [ 185,  697],\n",
       "       [ 198,  697],\n",
       "       [ 211,  697],\n",
       "       [ 224,  697],\n",
       "       [ 263,  697],\n",
       "       [ 276,  697],\n",
       "       [ 133,  717],\n",
       "       [ 146,  717],\n",
       "       [ 185,  717],\n",
       "       [ 198,  717],\n",
       "       [ 211,  717],\n",
       "       [ 224,  717],\n",
       "       [ 263,  717],\n",
       "       [ 276,  717],\n",
       "       [ 133,  737],\n",
       "       [ 146,  737],\n",
       "       [ 185,  737],\n",
       "       [ 198,  737],\n",
       "       [ 211,  737],\n",
       "       [ 224,  737],\n",
       "       [ 263,  737],\n",
       "       [ 276,  737],\n",
       "       [ 133,  757],\n",
       "       [ 146,  757],\n",
       "       [ 185,  757],\n",
       "       [ 198,  757],\n",
       "       [ 211,  757],\n",
       "       [ 224,  757],\n",
       "       [ 263,  757],\n",
       "       [ 276,  757],\n",
       "       [ 133,  777],\n",
       "       [ 146,  777],\n",
       "       [ 185,  777],\n",
       "       [ 198,  777],\n",
       "       [ 211,  777],\n",
       "       [ 224,  777],\n",
       "       [ 263,  777],\n",
       "       [ 276,  777],\n",
       "       [ 133,  797],\n",
       "       [ 146,  797],\n",
       "       [ 185,  797],\n",
       "       [ 198,  797],\n",
       "       [ 211,  797],\n",
       "       [ 224,  797],\n",
       "       [ 263,  797],\n",
       "       [ 276,  797],\n",
       "       [ 133,  817],\n",
       "       [ 146,  817],\n",
       "       [ 185,  817],\n",
       "       [ 198,  817],\n",
       "       [ 211,  817],\n",
       "       [ 224,  817],\n",
       "       [ 263,  817],\n",
       "       [ 276,  817],\n",
       "       [ 133,  837],\n",
       "       [ 146,  837],\n",
       "       [ 185,  837],\n",
       "       [ 198,  837],\n",
       "       [ 211,  837],\n",
       "       [ 224,  837],\n",
       "       [ 263,  837],\n",
       "       [ 276,  837],\n",
       "       [ 133,  857],\n",
       "       [ 146,  857],\n",
       "       [ 263,  857],\n",
       "       [ 276,  857],\n",
       "       [ 133,  971],\n",
       "       [ 146,  971],\n",
       "       [ 185,  971],\n",
       "       [ 198,  971],\n",
       "       [ 211,  971],\n",
       "       [ 224,  971],\n",
       "       [ 263,  971],\n",
       "       [ 276,  971],\n",
       "       [ 133,  991],\n",
       "       [ 146,  991],\n",
       "       [ 185,  991],\n",
       "       [ 198,  991],\n",
       "       [ 211,  991],\n",
       "       [ 224,  991],\n",
       "       [ 263,  991],\n",
       "       [ 276,  991],\n",
       "       [ 133, 1011],\n",
       "       [ 146, 1011],\n",
       "       [ 185, 1011],\n",
       "       [ 198, 1011],\n",
       "       [ 211, 1011],\n",
       "       [ 224, 1011],\n",
       "       [ 263, 1011],\n",
       "       [ 276, 1011],\n",
       "       [ 133, 1031],\n",
       "       [ 146, 1031],\n",
       "       [ 185, 1031],\n",
       "       [ 198, 1031],\n",
       "       [ 211, 1031],\n",
       "       [ 224, 1031],\n",
       "       [ 263, 1031],\n",
       "       [ 276, 1031],\n",
       "       [ 133, 1051],\n",
       "       [ 146, 1051],\n",
       "       [ 185, 1051],\n",
       "       [ 198, 1051],\n",
       "       [ 211, 1051],\n",
       "       [ 224, 1051],\n",
       "       [ 263, 1051],\n",
       "       [ 276, 1051],\n",
       "       [ 133, 1071],\n",
       "       [ 146, 1071],\n",
       "       [ 185, 1071],\n",
       "       [ 198, 1071],\n",
       "       [ 211, 1071],\n",
       "       [ 224, 1071],\n",
       "       [ 263, 1071],\n",
       "       [ 276, 1071],\n",
       "       [ 133, 1091],\n",
       "       [ 146, 1091],\n",
       "       [ 185, 1091],\n",
       "       [ 198, 1091],\n",
       "       [ 211, 1091],\n",
       "       [ 224, 1091],\n",
       "       [ 263, 1091],\n",
       "       [ 276, 1091],\n",
       "       [ 133, 1111],\n",
       "       [ 146, 1111],\n",
       "       [ 185, 1111],\n",
       "       [ 198, 1111],\n",
       "       [ 211, 1111],\n",
       "       [ 224, 1111],\n",
       "       [ 263, 1111],\n",
       "       [ 276, 1111],\n",
       "       [ 133, 1131],\n",
       "       [ 146, 1131],\n",
       "       [ 185, 1131],\n",
       "       [ 198, 1131],\n",
       "       [ 211, 1131],\n",
       "       [ 224, 1131],\n",
       "       [ 263, 1131],\n",
       "       [ 276, 1131],\n",
       "       [ 135, 1151],\n",
       "       [ 148, 1151],\n",
       "       [ 261, 1151],\n",
       "       [ 274, 1151],\n",
       "       [ 137, 1171],\n",
       "       [ 150, 1171],\n",
       "       [ 191, 1171],\n",
       "       [ 204, 1171],\n",
       "       [ 217, 1171],\n",
       "       [ 259, 1171],\n",
       "       [ 272, 1171],\n",
       "       [ 139, 1191],\n",
       "       [ 152, 1191],\n",
       "       [ 191, 1191],\n",
       "       [ 204, 1191],\n",
       "       [ 217, 1191]])"
      ]
     },
     "execution_count": 46,
     "metadata": {},
     "output_type": "execute_result"
    }
   ],
   "source": [
    "liste"
   ]
  },
  {
   "cell_type": "markdown",
   "metadata": {},
   "source": [
    "#### Kmeans"
   ]
  },
  {
   "cell_type": "code",
   "execution_count": 13,
   "metadata": {
    "collapsed": true
   },
   "outputs": [],
   "source": [
    "random_grid = {'max_iter': [100, 150, 200, 250, 300, 350, 400],\n",
    "               'n_clusters': [2,3,4,5,6,7,8,9,10,11, 12, 13, 14, 15],\n",
    "               'init': ['k-means++', 'random'],\n",
    "               'precompute_distances': ['auto', True, False],\n",
    "               'algorithm' : ['auto', 'full', 'elkan']}"
   ]
  },
  {
   "cell_type": "code",
   "execution_count": 14,
   "metadata": {
    "collapsed": true
   },
   "outputs": [],
   "source": [
    "km = KMeans()"
   ]
  },
  {
   "cell_type": "code",
   "execution_count": 15,
   "metadata": {},
   "outputs": [
    {
     "name": "stdout",
     "output_type": "stream",
     "text": [
      "Fitting 3 folds for each of 10 candidates, totalling 30 fits\n"
     ]
    },
    {
     "name": "stderr",
     "output_type": "stream",
     "text": [
      "[Parallel(n_jobs=-1)]: Done  30 out of  30 | elapsed:    4.4s finished\n"
     ]
    },
    {
     "name": "stdout",
     "output_type": "stream",
     "text": [
      "{'precompute_distances': True, 'n_clusters': 13, 'max_iter': 200, 'init': 'k-means++', 'algorithm': 'elkan'}\n"
     ]
    }
   ],
   "source": [
    "km_random = RandomizedSearchCV(estimator = km, param_distributions = random_grid, n_iter = 10, verbose=2, random_state=42, n_jobs = -1)\n",
    "km_random.fit(l_test)     \n",
    "print(km_random.best_params_)"
   ]
  },
  {
   "cell_type": "code",
   "execution_count": 17,
   "metadata": {},
   "outputs": [
    {
     "data": {
      "text/plain": [
       "array([[  203.07317073,   576.02439024],\n",
       "       [  208.14634146,   679.43902439],\n",
       "       [  204.5       ,  1021.        ],\n",
       "       [  157.44      ,   785.8       ],\n",
       "       [  200.275     ,  1135.5       ],\n",
       "       [  244.        ,   799.30769231]])"
      ]
     },
     "execution_count": 17,
     "metadata": {},
     "output_type": "execute_result"
    }
   ],
   "source": [
    "from sklearn.cluster import KMeans\n",
    "import numpy as np\n",
    "kmeans = KMeans(precompute_distances = False, n_clusters = 6, max_iter = 350, init = 'random', algorithm = 'full').fit(l_test)\n",
    "kmeans.labels_\n",
    "\n",
    "kmeans.cluster_centers_"
   ]
  },
  {
   "cell_type": "code",
   "execution_count": 20,
   "metadata": {},
   "outputs": [
    {
     "data": {
      "image/png": "[encoded data removed]",
      "text/plain": [
       "<matplotlib.figure.Figure at 0x2856e390dd8>"
      ]
     },
     "metadata": {},
     "output_type": "display_data"
    }
   ],
   "source": [
    "import matplotlib.pyplot as plt\n",
    "y_kmeans = kmeans.predict(l_test)\n",
    "plt.scatter(x, y, c=y_kmeans, s=50)\n",
    "\n",
    "centers = kmeans.cluster_centers_\n",
    "plt.scatter(centers[:, 0], centers[:, 1], c='black', s=200, alpha=0.5)\n",
    "plt.show()"
   ]
  },
  {
   "cell_type": "markdown",
   "metadata": {},
   "source": [
    "#### KNN"
   ]
  },
  {
   "cell_type": "code",
   "execution_count": 53,
   "metadata": {
    "collapsed": true
   },
   "outputs": [],
   "source": [
    "from sklearn.neighbors import NearestNeighbors\n",
    "import numpy as np\n",
    "# X = np.array([[-1, -1], [-2, -1], [-3, -2], [1, 1], [2, 1], [3, 2]])\n",
    "knn = NearestNeighbors(n_neighbors=6, algorithm='ball_tree').fit(liste)\n",
    "distances, indices = knn.kneighbors(liste)"
   ]
  },
  {
   "cell_type": "code",
   "execution_count": 54,
   "metadata": {},
   "outputs": [
    {
     "data": {
      "text/plain": [
       "NearestNeighbors(algorithm='ball_tree', leaf_size=30, metric='minkowski',\n",
       "         metric_params=None, n_jobs=1, n_neighbors=6, p=2, radius=1.0)"
      ]
     },
     "execution_count": 54,
     "metadata": {},
     "output_type": "execute_result"
    }
   ],
   "source": [
    "knn"
   ]
  },
  {
   "cell_type": "code",
   "execution_count": 55,
   "metadata": {},
   "outputs": [
    {
     "ename": "AttributeError",
     "evalue": "'NearestNeighbors' object has no attribute 'predict'",
     "output_type": "error",
     "traceback": [
      "\u001b[0;31m---------------------------------------------------------------------------\u001b[0m",
      "\u001b[0;31mAttributeError\u001b[0m                            Traceback (most recent call last)",
      "\u001b[0;32m<ipython-input-55-cb07039a0233>\u001b[0m in \u001b[0;36m<module>\u001b[0;34m()\u001b[0m\n\u001b[0;32m----> 1\u001b[0;31m \u001b[0my_knn\u001b[0m \u001b[1;33m=\u001b[0m \u001b[0mknn\u001b[0m\u001b[1;33m.\u001b[0m\u001b[0mpredict\u001b[0m\u001b[1;33m(\u001b[0m\u001b[0mliste\u001b[0m\u001b[1;33m)\u001b[0m\u001b[1;33m\u001b[0m\u001b[0m\n\u001b[0m\u001b[1;32m      2\u001b[0m \u001b[0mplt\u001b[0m\u001b[1;33m.\u001b[0m\u001b[0mscatter\u001b[0m\u001b[1;33m(\u001b[0m\u001b[0mliste\u001b[0m\u001b[1;33m[\u001b[0m\u001b[1;33m:\u001b[0m\u001b[1;33m,\u001b[0m \u001b[1;36m0\u001b[0m\u001b[1;33m]\u001b[0m\u001b[1;33m,\u001b[0m \u001b[0mliste\u001b[0m\u001b[1;33m[\u001b[0m\u001b[1;33m:\u001b[0m\u001b[1;33m,\u001b[0m \u001b[1;36m1\u001b[0m\u001b[1;33m]\u001b[0m\u001b[1;33m,\u001b[0m \u001b[0mc\u001b[0m\u001b[1;33m=\u001b[0m\u001b[0my_knn\u001b[0m\u001b[1;33m,\u001b[0m \u001b[0ms\u001b[0m\u001b[1;33m=\u001b[0m\u001b[1;36m50\u001b[0m\u001b[1;33m)\u001b[0m\u001b[1;33m\u001b[0m\u001b[0m\n\u001b[1;32m      3\u001b[0m \u001b[1;33m\u001b[0m\u001b[0m\n\u001b[1;32m      4\u001b[0m \u001b[0mcenters\u001b[0m \u001b[1;33m=\u001b[0m \u001b[0mknn\u001b[0m\u001b[1;33m.\u001b[0m\u001b[0mcluster_centers_\u001b[0m\u001b[1;33m\u001b[0m\u001b[0m\n\u001b[1;32m      5\u001b[0m \u001b[0mplt\u001b[0m\u001b[1;33m.\u001b[0m\u001b[0mscatter\u001b[0m\u001b[1;33m(\u001b[0m\u001b[0mcenters\u001b[0m\u001b[1;33m[\u001b[0m\u001b[1;33m:\u001b[0m\u001b[1;33m,\u001b[0m \u001b[1;36m0\u001b[0m\u001b[1;33m]\u001b[0m\u001b[1;33m,\u001b[0m \u001b[0mcenters\u001b[0m\u001b[1;33m[\u001b[0m\u001b[1;33m:\u001b[0m\u001b[1;33m,\u001b[0m \u001b[1;36m1\u001b[0m\u001b[1;33m]\u001b[0m\u001b[1;33m,\u001b[0m \u001b[0mc\u001b[0m\u001b[1;33m=\u001b[0m\u001b[1;34m'black'\u001b[0m\u001b[1;33m,\u001b[0m \u001b[0ms\u001b[0m\u001b[1;33m=\u001b[0m\u001b[1;36m200\u001b[0m\u001b[1;33m,\u001b[0m \u001b[0malpha\u001b[0m\u001b[1;33m=\u001b[0m\u001b[1;36m0.5\u001b[0m\u001b[1;33m)\u001b[0m\u001b[1;33m\u001b[0m\u001b[0m\n",
      "\u001b[0;31mAttributeError\u001b[0m: 'NearestNeighbors' object has no attribute 'predict'"
     ]
    }
   ],
   "source": [
    "y_knn = knn.predict(liste)\n",
    "plt.scatter(liste[:, 0], liste[:, 1], c=y_knn, s=50)\n",
    "\n",
    "centers = knn.cluster_centers_\n",
    "plt.scatter(centers[:, 0], centers[:, 1], c='black', s=200, alpha=0.5)"
   ]
  },
  {
   "cell_type": "code",
   "execution_count": 124,
   "metadata": {},
   "outputs": [
    {
     "name": "stderr",
     "output_type": "stream",
     "text": [
      "1:33: E231 missing whitespace after ','\n",
      "1:35: E231 missing whitespace after ','\n",
      "1:37: E231 missing whitespace after ','\n",
      "1:39: E231 missing whitespace after ','\n",
      "1:41: E231 missing whitespace after ','\n",
      "1:43: E231 missing whitespace after ','\n",
      "1:45: E231 missing whitespace after ','\n",
      "1:47: E231 missing whitespace after ','\n",
      "1:50: E231 missing whitespace after ','\n"
     ]
    },
    {
     "ename": "ValueError",
     "evalue": "too many values to unpack (expected 3)",
     "output_type": "error",
     "traceback": [
      "\u001b[1;31m---------------------------------------------------------------------------\u001b[0m",
      "\u001b[1;31mValueError\u001b[0m                                Traceback (most recent call last)",
      "\u001b[1;32m~\\Anaconda3\\lib\\site-packages\\pycodestyle_magic.py\u001b[0m in \u001b[0;36mauto_run_pycodestyle\u001b[1;34m(self, result)\u001b[0m\n\u001b[0;32m     44\u001b[0m \u001b[1;33m\u001b[0m\u001b[0m\n\u001b[0;32m     45\u001b[0m     \u001b[1;32mdef\u001b[0m \u001b[0mauto_run_pycodestyle\u001b[0m\u001b[1;33m(\u001b[0m\u001b[0mself\u001b[0m\u001b[1;33m,\u001b[0m \u001b[0mresult\u001b[0m\u001b[1;33m)\u001b[0m\u001b[1;33m:\u001b[0m\u001b[1;33m\u001b[0m\u001b[1;33m\u001b[0m\u001b[0m\n\u001b[1;32m---> 46\u001b[1;33m         \u001b[0mpycodestyle\u001b[0m\u001b[1;33m(\u001b[0m\u001b[1;36m1\u001b[0m\u001b[1;33m,\u001b[0m \u001b[0mresult\u001b[0m\u001b[1;33m.\u001b[0m\u001b[0minfo\u001b[0m\u001b[1;33m.\u001b[0m\u001b[0mraw_cell\u001b[0m\u001b[1;33m,\u001b[0m \u001b[0mauto\u001b[0m\u001b[1;33m=\u001b[0m\u001b[1;32mTrue\u001b[0m\u001b[1;33m)\u001b[0m\u001b[1;33m\u001b[0m\u001b[1;33m\u001b[0m\u001b[0m\n\u001b[0m\u001b[0;32m     47\u001b[0m         \u001b[1;32mif\u001b[0m \u001b[0mresult\u001b[0m\u001b[1;33m.\u001b[0m\u001b[0merror_before_exec\u001b[0m\u001b[1;33m:\u001b[0m\u001b[1;33m\u001b[0m\u001b[1;33m\u001b[0m\u001b[0m\n\u001b[0;32m     48\u001b[0m             \u001b[0mprint\u001b[0m\u001b[1;33m(\u001b[0m\u001b[1;34m'Error before execution: %s'\u001b[0m \u001b[1;33m%\u001b[0m \u001b[0mresult\u001b[0m\u001b[1;33m.\u001b[0m\u001b[0merror_before_exec\u001b[0m\u001b[1;33m)\u001b[0m\u001b[1;33m\u001b[0m\u001b[1;33m\u001b[0m\u001b[0m\n",
      "\u001b[1;32m<decorator-gen-130>\u001b[0m in \u001b[0;36mpycodestyle\u001b[1;34m(line, cell, auto)\u001b[0m\n",
      "\u001b[1;32m~\\Anaconda3\\lib\\site-packages\\IPython\\core\\magic.py\u001b[0m in \u001b[0;36m<lambda>\u001b[1;34m(f, *a, **k)\u001b[0m\n\u001b[0;32m    218\u001b[0m     \u001b[1;31m# but it's overkill for just that one bit of state.\u001b[0m\u001b[1;33m\u001b[0m\u001b[1;33m\u001b[0m\u001b[1;33m\u001b[0m\u001b[0m\n\u001b[0;32m    219\u001b[0m     \u001b[1;32mdef\u001b[0m \u001b[0mmagic_deco\u001b[0m\u001b[1;33m(\u001b[0m\u001b[0marg\u001b[0m\u001b[1;33m)\u001b[0m\u001b[1;33m:\u001b[0m\u001b[1;33m\u001b[0m\u001b[1;33m\u001b[0m\u001b[0m\n\u001b[1;32m--> 220\u001b[1;33m         \u001b[0mcall\u001b[0m \u001b[1;33m=\u001b[0m \u001b[1;32mlambda\u001b[0m \u001b[0mf\u001b[0m\u001b[1;33m,\u001b[0m \u001b[1;33m*\u001b[0m\u001b[0ma\u001b[0m\u001b[1;33m,\u001b[0m \u001b[1;33m**\u001b[0m\u001b[0mk\u001b[0m\u001b[1;33m:\u001b[0m \u001b[0mf\u001b[0m\u001b[1;33m(\u001b[0m\u001b[1;33m*\u001b[0m\u001b[0ma\u001b[0m\u001b[1;33m,\u001b[0m \u001b[1;33m**\u001b[0m\u001b[0mk\u001b[0m\u001b[1;33m)\u001b[0m\u001b[1;33m\u001b[0m\u001b[1;33m\u001b[0m\u001b[0m\n\u001b[0m\u001b[0;32m    221\u001b[0m \u001b[1;33m\u001b[0m\u001b[0m\n\u001b[0;32m    222\u001b[0m         \u001b[1;31m# Find get_ipython() in the caller's namespace\u001b[0m\u001b[1;33m\u001b[0m\u001b[1;33m\u001b[0m\u001b[1;33m\u001b[0m\u001b[0m\n",
      "\u001b[1;32m~\\Anaconda3\\lib\\site-packages\\pycodestyle_magic.py\u001b[0m in \u001b[0;36mpycodestyle\u001b[1;34m(line, cell, auto)\u001b[0m\n\u001b[0;32m    173\u001b[0m         \u001b[1;31m#logger.info(line)\u001b[0m\u001b[1;33m\u001b[0m\u001b[1;33m\u001b[0m\u001b[1;33m\u001b[0m\u001b[0m\n\u001b[0;32m    174\u001b[0m         \u001b[1;31m# on windows drive path also contains :\u001b[0m\u001b[1;33m\u001b[0m\u001b[1;33m\u001b[0m\u001b[1;33m\u001b[0m\u001b[0m\n\u001b[1;32m--> 175\u001b[1;33m         \u001b[0mline\u001b[0m\u001b[1;33m,\u001b[0m \u001b[0mcol\u001b[0m\u001b[1;33m,\u001b[0m \u001b[0merror\u001b[0m \u001b[1;33m=\u001b[0m \u001b[0mline\u001b[0m\u001b[1;33m.\u001b[0m\u001b[0msplit\u001b[0m\u001b[1;33m(\u001b[0m\u001b[1;34m':'\u001b[0m\u001b[1;33m)\u001b[0m\u001b[1;33m[\u001b[0m\u001b[1;33m-\u001b[0m\u001b[1;36m4\u001b[0m\u001b[1;33m:\u001b[0m\u001b[1;33m]\u001b[0m\u001b[1;33m\u001b[0m\u001b[1;33m\u001b[0m\u001b[0m\n\u001b[0m\u001b[0;32m    176\u001b[0m         \u001b[1;31m# do not subtract 1 for line for %%pycodestyle, inc pre py3.6 string\u001b[0m\u001b[1;33m\u001b[0m\u001b[1;33m\u001b[0m\u001b[1;33m\u001b[0m\u001b[0m\n\u001b[0;32m    177\u001b[0m         \u001b[1;32mif\u001b[0m \u001b[0mauto\u001b[0m\u001b[1;33m:\u001b[0m\u001b[1;33m\u001b[0m\u001b[1;33m\u001b[0m\u001b[0m\n",
      "\u001b[1;31mValueError\u001b[0m: too many values to unpack (expected 3)"
     ]
    },
    {
     "name": "stderr",
     "output_type": "stream",
     "text": [
      "1:33: E231 missing whitespace after ','\n",
      "1:35: E231 missing whitespace after ','\n",
      "1:37: E231 missing whitespace after ','\n",
      "1:39: E231 missing whitespace after ','\n",
      "1:41: E231 missing whitespace after ','\n",
      "1:43: E231 missing whitespace after ','\n",
      "1:45: E231 missing whitespace after ','\n",
      "1:47: E231 missing whitespace after ','\n",
      "1:50: E231 missing whitespace after ','\n"
     ]
    },
    {
     "ename": "ValueError",
     "evalue": "too many values to unpack (expected 3)",
     "output_type": "error",
     "traceback": [
      "\u001b[1;31m---------------------------------------------------------------------------\u001b[0m",
      "\u001b[1;31mValueError\u001b[0m                                Traceback (most recent call last)",
      "\u001b[1;32m~\\Anaconda3\\lib\\site-packages\\pycodestyle_magic.py\u001b[0m in \u001b[0;36mauto_run_pycodestyle\u001b[1;34m(self, result)\u001b[0m\n\u001b[0;32m     44\u001b[0m \u001b[1;33m\u001b[0m\u001b[0m\n\u001b[0;32m     45\u001b[0m     \u001b[1;32mdef\u001b[0m \u001b[0mauto_run_pycodestyle\u001b[0m\u001b[1;33m(\u001b[0m\u001b[0mself\u001b[0m\u001b[1;33m,\u001b[0m \u001b[0mresult\u001b[0m\u001b[1;33m)\u001b[0m\u001b[1;33m:\u001b[0m\u001b[1;33m\u001b[0m\u001b[1;33m\u001b[0m\u001b[0m\n\u001b[1;32m---> 46\u001b[1;33m         \u001b[0mpycodestyle\u001b[0m\u001b[1;33m(\u001b[0m\u001b[1;36m1\u001b[0m\u001b[1;33m,\u001b[0m \u001b[0mresult\u001b[0m\u001b[1;33m.\u001b[0m\u001b[0minfo\u001b[0m\u001b[1;33m.\u001b[0m\u001b[0mraw_cell\u001b[0m\u001b[1;33m,\u001b[0m \u001b[0mauto\u001b[0m\u001b[1;33m=\u001b[0m\u001b[1;32mTrue\u001b[0m\u001b[1;33m)\u001b[0m\u001b[1;33m\u001b[0m\u001b[1;33m\u001b[0m\u001b[0m\n\u001b[0m\u001b[0;32m     47\u001b[0m         \u001b[1;32mif\u001b[0m \u001b[0mresult\u001b[0m\u001b[1;33m.\u001b[0m\u001b[0merror_before_exec\u001b[0m\u001b[1;33m:\u001b[0m\u001b[1;33m\u001b[0m\u001b[1;33m\u001b[0m\u001b[0m\n\u001b[0;32m     48\u001b[0m             \u001b[0mprint\u001b[0m\u001b[1;33m(\u001b[0m\u001b[1;34m'Error before execution: %s'\u001b[0m \u001b[1;33m%\u001b[0m \u001b[0mresult\u001b[0m\u001b[1;33m.\u001b[0m\u001b[0merror_before_exec\u001b[0m\u001b[1;33m)\u001b[0m\u001b[1;33m\u001b[0m\u001b[1;33m\u001b[0m\u001b[0m\n",
      "\u001b[1;32m<decorator-gen-130>\u001b[0m in \u001b[0;36mpycodestyle\u001b[1;34m(line, cell, auto)\u001b[0m\n",
      "\u001b[1;32m~\\Anaconda3\\lib\\site-packages\\IPython\\core\\magic.py\u001b[0m in \u001b[0;36m<lambda>\u001b[1;34m(f, *a, **k)\u001b[0m\n\u001b[0;32m    218\u001b[0m     \u001b[1;31m# but it's overkill for just that one bit of state.\u001b[0m\u001b[1;33m\u001b[0m\u001b[1;33m\u001b[0m\u001b[1;33m\u001b[0m\u001b[0m\n\u001b[0;32m    219\u001b[0m     \u001b[1;32mdef\u001b[0m \u001b[0mmagic_deco\u001b[0m\u001b[1;33m(\u001b[0m\u001b[0marg\u001b[0m\u001b[1;33m)\u001b[0m\u001b[1;33m:\u001b[0m\u001b[1;33m\u001b[0m\u001b[1;33m\u001b[0m\u001b[0m\n\u001b[1;32m--> 220\u001b[1;33m         \u001b[0mcall\u001b[0m \u001b[1;33m=\u001b[0m \u001b[1;32mlambda\u001b[0m \u001b[0mf\u001b[0m\u001b[1;33m,\u001b[0m \u001b[1;33m*\u001b[0m\u001b[0ma\u001b[0m\u001b[1;33m,\u001b[0m \u001b[1;33m**\u001b[0m\u001b[0mk\u001b[0m\u001b[1;33m:\u001b[0m \u001b[0mf\u001b[0m\u001b[1;33m(\u001b[0m\u001b[1;33m*\u001b[0m\u001b[0ma\u001b[0m\u001b[1;33m,\u001b[0m \u001b[1;33m**\u001b[0m\u001b[0mk\u001b[0m\u001b[1;33m)\u001b[0m\u001b[1;33m\u001b[0m\u001b[1;33m\u001b[0m\u001b[0m\n\u001b[0m\u001b[0;32m    221\u001b[0m \u001b[1;33m\u001b[0m\u001b[0m\n\u001b[0;32m    222\u001b[0m         \u001b[1;31m# Find get_ipython() in the caller's namespace\u001b[0m\u001b[1;33m\u001b[0m\u001b[1;33m\u001b[0m\u001b[1;33m\u001b[0m\u001b[0m\n",
      "\u001b[1;32m~\\Anaconda3\\lib\\site-packages\\pycodestyle_magic.py\u001b[0m in \u001b[0;36mpycodestyle\u001b[1;34m(line, cell, auto)\u001b[0m\n\u001b[0;32m    173\u001b[0m         \u001b[1;31m#logger.info(line)\u001b[0m\u001b[1;33m\u001b[0m\u001b[1;33m\u001b[0m\u001b[1;33m\u001b[0m\u001b[0m\n\u001b[0;32m    174\u001b[0m         \u001b[1;31m# on windows drive path also contains :\u001b[0m\u001b[1;33m\u001b[0m\u001b[1;33m\u001b[0m\u001b[1;33m\u001b[0m\u001b[0m\n\u001b[1;32m--> 175\u001b[1;33m         \u001b[0mline\u001b[0m\u001b[1;33m,\u001b[0m \u001b[0mcol\u001b[0m\u001b[1;33m,\u001b[0m \u001b[0merror\u001b[0m \u001b[1;33m=\u001b[0m \u001b[0mline\u001b[0m\u001b[1;33m.\u001b[0m\u001b[0msplit\u001b[0m\u001b[1;33m(\u001b[0m\u001b[1;34m':'\u001b[0m\u001b[1;33m)\u001b[0m\u001b[1;33m[\u001b[0m\u001b[1;33m-\u001b[0m\u001b[1;36m4\u001b[0m\u001b[1;33m:\u001b[0m\u001b[1;33m]\u001b[0m\u001b[1;33m\u001b[0m\u001b[1;33m\u001b[0m\u001b[0m\n\u001b[0m\u001b[0;32m    176\u001b[0m         \u001b[1;31m# do not subtract 1 for line for %%pycodestyle, inc pre py3.6 string\u001b[0m\u001b[1;33m\u001b[0m\u001b[1;33m\u001b[0m\u001b[1;33m\u001b[0m\u001b[0m\n\u001b[0;32m    177\u001b[0m         \u001b[1;32mif\u001b[0m \u001b[0mauto\u001b[0m\u001b[1;33m:\u001b[0m\u001b[1;33m\u001b[0m\u001b[1;33m\u001b[0m\u001b[0m\n",
      "\u001b[1;31mValueError\u001b[0m: too many values to unpack (expected 3)"
     ]
    }
   ],
   "source": [
    "random_grid = {'n_neighbors': [2,3,4,5,6,7,8,9,10,11, 12, 13, 14, 15],\n",
    "               'weights': ['uniform', 'distance'],\n",
    "               'metric' : ['euclidean', 'minkowski'],\n",
    "               'algorithm' : ['auto', 'ball_tree', 'kd_tree', 'brute']}"
   ]
  },
  {
   "cell_type": "markdown",
   "metadata": {},
   "source": [
    "### CAH"
   ]
  },
  {
   "cell_type": "code",
   "execution_count": 22,
   "metadata": {
    "collapsed": true
   },
   "outputs": [],
   "source": [
    "from matplotlib import pyplot as plt\n",
    "from scipy.cluster.hierarchy import dendrogram, linkage\n",
    "import scipy.cluster.hierarchy as sch"
   ]
  },
  {
   "cell_type": "code",
   "execution_count": 23,
   "metadata": {
    "collapsed": true
   },
   "outputs": [],
   "source": [
    "# generate link matrix\n",
    "Z = linkage(l_test,method='ward',metric='euclidean')"
   ]
  },
  {
   "cell_type": "code",
   "execution_count": 26,
   "metadata": {},
   "outputs": [
    {
     "data": {
      "image/png": "[encoded data removed]",
      "text/plain": [
       "<matplotlib.figure.Figure at 0x2856fc69668>"
      ]
     },
     "metadata": {},
     "output_type": "display_data"
    },
    {
     "data": {
      "image/png": "[encoded data removed]",
      "text/plain": [
       "<matplotlib.figure.Figure at 0x2856fcf1898>"
      ]
     },
     "metadata": {},
     "output_type": "display_data"
    },
    {
     "data": {
      "image/png": "[encoded data removed]",
      "text/plain": [
       "<matplotlib.figure.Figure at 0x2856fd51780>"
      ]
     },
     "metadata": {},
     "output_type": "display_data"
    },
    {
     "name": "stdout",
     "output_type": "stream",
     "text": [
      "7 groupes constitués\n",
      "[5, 5, 5, 5, 5, 5, 5, 5, 5, 5, 5, 5, 5, 5, 5, 5, 5, 5, 5, 5, 5, 5, 5, 5, 5, 5, 5, 5, 5, 5, 5, 5, 5, 5, 5, 6, 6, 6, 6, 6, 6, 5, 5, 6, 6, 6, 6, 6, 6, 5, 5, 6, 6, 6, 6, 6, 6, 7, 7, 6, 6, 6, 6, 6, 6, 7, 7, 7, 7, 7, 7, 7, 7, 7, 7, 7, 7, 7, 7, 7, 7, 7, 7, 7, 7, 7, 7, 7, 7, 4, 4, 7, 7, 7, 7, 7, 7, 4, 4, 4, 4, 4, 4, 4, 4, 4, 4, 4, 4, 4, 4, 4, 4, 4, 4, 4, 4, 4, 4, 4, 4, 4, 4, 4, 4, 4, 4, 4, 4, 4, 4, 4, 4, 1, 1, 1, 1, 1, 1, 1, 1, 1, 1, 1, 1, 1, 1, 1, 1, 1, 1, 1, 1, 1, 1, 1, 1, 1, 1, 1, 1, 1, 1, 1, 1, 3, 3, 3, 3, 3, 3, 2, 2, 3, 3, 3, 3, 3, 3, 2, 2, 3, 3, 3, 3, 3, 3, 2, 2, 3, 3, 3, 3, 3, 3, 2, 2, 3, 3, 3, 3, 3, 3, 2, 2, 3, 3, 2, 2, 3, 3, 3, 3, 3, 2, 2, 3, 3, 3, 3, 3]\n"
     ]
    }
   ],
   "source": [
    "# génération et affichage du dendrogramme\n",
    "plt.figure(figsize=(20,12))\n",
    "plt.title(\"CAH\")\n",
    "dendrogram(Z,labels=l_test,no_labels=True,color_threshold=400)\n",
    "plt.show()\n",
    "groupes_cah = sch.fcluster(Z,t=400,criterion='distance')\n",
    "print(np.unique(groupes_cah).size, \"groupes constitués\")\n",
    "groupe = list(groupes_cah)\n",
    "print(groupe)"
   ]
  },
  {
   "cell_type": "code",
   "execution_count": 28,
   "metadata": {},
   "outputs": [
    {
     "data": {
      "image/png": "[encoded data removed]",
      "text/plain": [
       "<matplotlib.figure.Figure at 0x2856fe56ba8>"
      ]
     },
     "metadata": {},
     "output_type": "display_data"
    }
   ],
   "source": [
    "plt.scatter(x,y,c=groupes_cah)\n",
    "plt.show()"
   ]
  },
  {
   "cell_type": "code",
   "execution_count": 80,
   "metadata": {},
   "outputs": [
    {
     "data": {
      "image/png": "[encoded data removed]",
      "text/plain": [
       "<matplotlib.figure.Figure at 0x18a9f1d4978>"
      ]
     },
     "metadata": {},
     "output_type": "display_data"
    }
   ],
   "source": [
    "######\n",
    "plt.plot(list1,list2,'*',color='red')\n",
    "plt.show()"
   ]
  },
  {
   "cell_type": "code",
   "execution_count": null,
   "metadata": {
    "collapsed": true
   },
   "outputs": [],
   "source": [
    "#affichage du dendrogramme\n",
    "plt.title(\"CAH\")\n",
    "dendrogram(Z,labels=X,orientation='left',color_threshold=0)\n",
    "plt.show()\n",
    "#découpage à la h=3auteur t = 7 ==> identifiants de 4 groupes obtenus\n",
    "groupes_cah = sch.fcluster(Z,t=100,criterion='distance')\n",
    "print(groupes_cah)\n",
    "######\n",
    "#index triés des groupes\n",
    "import numpy as np\n",
    "idg = np.argsort(groupes_cah)\n",
    "print(idg)\n",
    "#affichage des observations et leurs groupes\n",
    "cah = pd.DataFrame(X,groupes_cah[idg])\n",
    "print(groupes_cah[idg])\n",
    "ind = list(cah.index)\n",
    "###\n"
   ]
  },
  {
   "cell_type": "code",
   "execution_count": 81,
   "metadata": {},
   "outputs": [
    {
     "name": "stdout",
     "output_type": "stream",
     "text": [
      "[5 5 5 5 5 5 5 5 5 5 5 5 5 5 5 5 5 5 5 5 5 5 5 5 5 7 7 5 5 5 5 5 5 7 7 7 7\n",
      " 7 7 7 7 7 7 7 7 7 7 7 7 7 7 7 7 7 7 7 7 7 7 7 7 7 7 7 7 7 7 6 6 6 6 6 6 7\n",
      " 7 6 6 6 6 6 6 7 7 6 6 6 6 6 6 4 4 6 6 6 6 6 6 4 4 4 4 4 4 4 4 4 4 4 4 4 4\n",
      " 4 4 4 4 4 4 4 4 4 4 4 4 4 4 4 4 4 4 4 4 4 4 1 1 1 1 1 1 1 1 1 1 1 1 1 1 1\n",
      " 1 1 1 1 1 1 1 1 1 1 1 1 1 1 1 1 1 3 3 3 3 3 3 2 2 3 3 3 3 3 3 2 2 3 3 3 3\n",
      " 3 3 2 2 3 3 3 3 3 3 2 2 3 3 3 3 3 3 2 2 3 3 2 2 3 3 3 3 3 2 2 3 3 3 3 3]\n"
     ]
    }
   ],
   "source": [
    "groupes_cah = sch.fcluster(Z,t=400,criterion='distance')\n",
    "groupes_cah"
   ]
  },
  {
   "cell_type": "code",
   "execution_count": null,
   "metadata": {
    "collapsed": true
   },
   "outputs": [],
   "source": []
  }
 ],
 "metadata": {
  "kernelspec": {
   "display_name": "Python 3",
   "language": "python",
   "name": "python3"
  },
  "language_info": {
   "codemirror_mode": {
    "name": "ipython",
    "version": 3
   },
   "file_extension": ".py",
   "mimetype": "text/x-python",
   "name": "python",
   "nbconvert_exporter": "python",
   "pygments_lexer": "ipython3",
   "version": "3.7.3"
  },
  "pycharm": {
   "stem_cell": {
    "cell_type": "raw",
    "metadata": {
     "collapsed": false
    },
    "source": []
   }
  }
 },
 "nbformat": 4,
 "nbformat_minor": 1
}
