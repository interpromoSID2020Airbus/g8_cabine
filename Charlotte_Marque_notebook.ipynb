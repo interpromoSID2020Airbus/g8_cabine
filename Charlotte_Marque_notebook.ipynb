{
 "cells": [
  {
   "cell_type": "code",
   "execution_count": 105,
   "metadata": {},
   "outputs": [
    {
     "name": "stderr",
     "output_type": "stream",
     "text": [
      "Cannot uninstall 'entrypoints'. It is a distutils installed project and thus we cannot accurately determine which files belong to it which would lead to only a partial uninstall.\n"
     ]
    },
    {
     "name": "stdout",
     "output_type": "stream",
     "text": [
      "Requirement already satisfied: flake8 in c:\\users\\chach\\anaconda3\\lib\\site-packages (3.7.9)\n",
      "Requirement already satisfied: pycodestyle_magic in c:\\users\\chach\\anaconda3\\lib\\site-packages (0.5)\n",
      "Collecting entrypoints<0.4.0,>=0.3.0 (from flake8)\n",
      "  Using cached https://files.pythonhosted.org/packages/ac/c6/44694103f8c221443ee6b0041f69e2740d89a25641e62fb4f2ee568f2f9c/entrypoints-0.3-py2.py3-none-any.whl\n",
      "Requirement already satisfied: pycodestyle<2.6.0,>=2.5.0 in c:\\users\\chach\\anaconda3\\lib\\site-packages (from flake8) (2.5.0)\n",
      "Collecting pyflakes<2.2.0,>=2.1.0 (from flake8)\n",
      "  Using cached https://files.pythonhosted.org/packages/84/f2/ed0ffb887f8138a8fe5a621b8c0bb9598bfb3989e029f6c6a85ee66628ee/pyflakes-2.1.1-py2.py3-none-any.whl\n",
      "Requirement already satisfied: mccabe<0.7.0,>=0.6.0 in c:\\users\\chach\\anaconda3\\lib\\site-packages (from flake8) (0.6.1)\n",
      "Installing collected packages: entrypoints, pyflakes\n",
      "  Found existing installation: entrypoints 0.2.3\n",
      "The pycodestyle_magic extension is already loaded. To reload it, use:\n",
      "  %reload_ext pycodestyle_magic\n"
     ]
    }
   ],
   "source": [
    "!pip install flake8 pycodestyle_magic\n",
    "%load_ext pycodestyle_magic\n",
    "%pycodestyle_on"
   ]
  },
  {
   "cell_type": "code",
   "execution_count": 104,
   "metadata": {},
   "outputs": [],
   "source": []
  },
  {
   "cell_type": "code",
   "execution_count": 1,
   "metadata": {
    "pycharm": {
     "is_executing": false
    }
   },
   "outputs": [],
   "source": [
    "from pipeline import Pipeline, Process, Postprocess, Preprocess\n",
    "import numpy as np\n",
    "import pandas as pd\n",
    "from os import listdir\n",
    "from os.path import isfile, join\n",
    "import csv\n",
    "import cv2\n",
    "import numpy as np\n",
    "from matplotlib import pyplot as plt"
   ]
  },
  {
   "cell_type": "code",
   "execution_count": 2,
   "metadata": {},
   "outputs": [],
   "source": [
    "class MyPreProcess(Preprocess):\n",
    "    process_desc = \"Exemple de pre-process -> ne fait rien\"\n",
    "    def run(self, images):\n",
    "        pass\n",
    "\n",
    "\n",
    "class MyProcess(Process):\n",
    "    process_desc = \"Exemple de process -> ne fait rien\"\n",
    "    def run(self, images):\n",
    "        pass\n",
    "    \n",
    "    \n",
    "class MyPostProcess(Postprocess):\n",
    "    process_desc = \"Exemple de post-process -> ne fait rien\"\n",
    "    def run(self, images):\n",
    "        pass"
   ]
  },
  {
   "cell_type": "code",
   "execution_count": 3,
   "metadata": {},
   "outputs": [
    {
     "name": "stdout",
     "output_type": "stream",
     "text": [
      "Preprocess :  Exemple de pre-process -> ne fait rien\n",
      "Process :  Exemple de process -> ne fait rien\n",
      "Postprocess :  Exemple de post-process -> ne fait rien\n",
      "Exemple de pre-process -> ne fait rien a été ajouté.\n",
      "Exemple de process -> ne fait rien a été ajouté.\n",
      "Exemple de post-process -> ne fait rien a été ajouté.\n",
      "Exemple de pre-process -> ne fait rien a été ajouté.\n"
     ]
    }
   ],
   "source": [
    "pipeline = Pipeline()\n",
    "process_array = np.array([MyPreProcess()\n",
    "                          ,MyProcess()\n",
    "                          ,MyPostProcess()\n",
    "                          ,MyPreProcess(verbose=0)])\n",
    "pipeline.add_processes(process_array)\n"
   ]
  },
  {
   "cell_type": "code",
   "execution_count": 4,
   "metadata": {},
   "outputs": [
    {
     "name": "stdout",
     "output_type": "stream",
     "text": [
      "Exemple de pre-process -> ne fait rien\n",
      "Exemple de pre-process -> ne fait rien\n",
      "Exemple de process -> ne fait rien\n",
      "Exemple de post-process -> ne fait rien\n"
     ]
    }
   ],
   "source": [
    "pipeline.print_process()"
   ]
  },
  {
   "cell_type": "markdown",
   "metadata": {},
   "source": [
    "### 6/01/20 : count number of elements in images"
   ]
  },
  {
   "cell_type": "code",
   "execution_count": 5,
   "metadata": {},
   "outputs": [],
   "source": [
    "path = \"C:/Users/chach/OneDrive/Documents/SID/M2/\"\n",
    "path1 = \"Data_Interpromo/All Data/\""
   ]
  },
  {
   "cell_type": "code",
   "execution_count": 6,
   "metadata": {},
   "outputs": [],
   "source": [
    "fname = path + \"Data_Interpromo/All Data/SEATGURU_INFO_AIRCRAFT.csv\"\n",
    "ifile = open(fname, \"rt\")\n",
    " \n",
    "airline_name = []\n",
    "aircraft_type = []\n",
    "category = []\n",
    "flight_type = []\n",
    "count = []\n",
    "total_seat = []\n",
    "seat_class = []\n",
    "seat_type = []\n",
    "seat_position = []\n",
    "\n",
    "try:\n",
    "    reader = csv.reader(ifile, delimiter = \";\")\n",
    "    for row in reader:\n",
    "        airline_name.append(row[1])\n",
    "        aircraft_type.append(row[2])\n",
    "        category.append(row[3])\n",
    "        flight_type.append(row[4])\n",
    "        count.append(row[5])\n",
    "        total_seat.append(row[6])\n",
    "        seat_class.append(row[7])\n",
    "        seat_type.append(row[8])\n",
    "        seat_position.append(row[9])\n",
    "finally:\n",
    "    ifile.close()"
   ]
  },
  {
   "cell_type": "code",
   "execution_count": 7,
   "metadata": {},
   "outputs": [
    {
     "data": {
      "text/plain": [
       "10331"
      ]
     },
     "execution_count": 7,
     "metadata": {},
     "output_type": "execute_result"
    }
   ],
   "source": [
    "len(airline_name)"
   ]
  },
  {
   "cell_type": "code",
   "execution_count": 8,
   "metadata": {},
   "outputs": [],
   "source": [
    "my_list = list(set(aircraft_type[2001:3000]))"
   ]
  },
  {
   "cell_type": "code",
   "execution_count": 9,
   "metadata": {},
   "outputs": [],
   "source": [
    "fname = path + \"Data_Interpromo/All Data/Correspondances_images.csv\"\n",
    "file = open(fname, 'wt', newline='')\n",
    " \n",
    "\n",
    "try:\n",
    "    writer = csv.writer(file, delimiter = \";\")\n",
    "    #écriture de l'entête\n",
    "    writer.writerow(('Airline_Name', 'Aircraft_Type', 'Images'))\n",
    "    \n",
    "    for j in my_list:\n",
    "        index = []\n",
    "        for i in range(2001,3000):\n",
    "            if j == aircraft_type[i] :\n",
    "                index.append(i)\n",
    "        #print(index)\n",
    "        a = (str(min(index)+1) + \"-\" + str(max(index)+1))\n",
    "        #print(a)\n",
    "        writer.writerow((j, index))\n",
    "        #print(j, min(index), max(index))\n",
    "\n",
    "finally:\n",
    "    file.close()\n",
    "                "
   ]
  },
  {
   "cell_type": "code",
   "execution_count": 10,
   "metadata": {
    "scrolled": true
   },
   "outputs": [
    {
     "name": "stdout",
     "output_type": "stream",
     "text": [
      "Bombardier Q200 C 2553-2556\n",
      "A330-200 2537-2544\n",
      "Airbus A321-100 2174-2179\n",
      "Boeing 787-9 195-10330\n",
      "Bombardier Q200 A 2545-2548\n",
      "Airbus A350-1000 2956-2968\n",
      "Airlines Airbus A319 2324-10145\n",
      "A320-200 B 2515-7572\n",
      "Airbus A380 2149-7446\n",
      "Boeing 777-300ER E 2050-2064\n",
      "Airways Boeing 777-300ER A 2999-3020\n",
      "Boeing 787-9 V3 2136-2148\n",
      "Boeing 767-300ER B 2001-2011\n",
      "Boeing 777-200ER B 2024-5558\n",
      "Boeing 777 300 2833-2850\n",
      "Airlines ATR 72-600 2576-2579\n",
      "Airlines Airbus A320 1484-10150\n",
      "Boeing 777-300ER F 2065-2078\n",
      "Boeing 747-400 C 2737-6131\n",
      "Airbus A319 C 2622-4911\n",
      "Boeing 787-800 C 2090-2102\n",
      "Airbus A330 300 1703-5263\n",
      "Airbus A321-200 V3 2200-9880\n",
      "Boeing 777-200 3 2821-2832\n",
      "787-8 2480-2490\n",
      "Airbus A320-200 6-7082\n",
      "A320-200 C 2524-2529\n",
      "Airlines Q400 2372-7173\n",
      "Airlines Airbus A321 1500-10155\n",
      "Airbus A319 D 2628-2636\n",
      "Airbus A320 V2 1094-9855\n",
      "Airbus A330-300 296-9241\n",
      "767-300ER 2472-2479\n",
      "Embraer 170 B 2881-2883\n",
      "Airbus A321-200 12-9864\n",
      "Bombardier Q400 2557-10248\n",
      "A319-111 2491-2498\n",
      "Airbus A380 new 2692-6777\n",
      "Airbus A320-200 E 2657-2662\n",
      "Boeing 777-200ER 2807-6875\n",
      "A340-542 2454-2461\n",
      "Boeing 787-900 469-8062\n",
      "Airlines Embraer195 2367-2371\n",
      "Airbus A319 V2 1084-8820\n",
      "Airbus A321 D 389-9199\n",
      "Airbus A321-200 V1 2180-2189\n",
      "Airbus A318 2613-2615\n",
      "Airbus A320 236-10134\n",
      "Airlines Boeing 777-200 V2 2356-2366\n",
      "A320 2446-10188\n",
      "Boeing 777-200ER A 2012-6183\n",
      "Airlines Embraer 190 2580-8725\n",
      "Boeing 777-200B 2 2793-2806\n",
      "Embraer 190 521-6740\n",
      "Airbus A320-200 D 2648-2656\n",
      "Airbus A319 E 2637-2641\n",
      "Boeing 777-200 ER D 2289-2300\n",
      "Airbus A330 33P 2948-2955\n",
      "Embraer 170 A 2877-2880\n",
      "Airbus A321-200 V2 2190-9872\n",
      "Airbus A321 C 379-2672\n",
      "Boeing 787-800 D 2103-2112\n",
      "ATR 72-500 324-10068\n",
      "Airbus A321 242-9017\n",
      "Airbus A350-900 600-9900\n",
      "A321neo 2530-2536\n",
      "Airbus A330 33E 2937-2947\n",
      "Airbus A330-200 130-9888\n",
      "Airways A330 E new 2981-2991\n",
      "A320-200 A 2506-7564\n",
      "Boeing 777-200 2778-7979\n",
      "Airbus A330 200 2917-10065\n",
      "Airlines Boeing 767-300ER V3 2344-2355\n",
      "Airlines Embraer 195 2586-2591\n",
      "Airbus A319-100 1-4751\n",
      "Boeing 777-300ER D 2034-2049\n",
      "Airlines Airbus A320neo 2561-7844\n",
      "Boeing 747-400 full 2249-2263\n",
      "Airbus A320-200 C 2642-2647\n",
      "Boeing 787-8 225-10323\n",
      "Bombardier Q200 B 2549-2552\n",
      "Boeing 787-800 B 2079-2089\n",
      "Embraer 190 B 2889-2894\n",
      "Airbus A318-100 2379-2388\n",
      "Boeing 747-400 B 2718-6116\n",
      "Airbus A330-300 V2 589-7955\n",
      "Embraer 190 A 2884-2888\n",
      "Airbus A321 E 2685-2691\n",
      "Airlines Airbus A330-200 2567-8799\n",
      "Boeing 777-200 ER C 2280-2288\n",
      "Airbus A319 360-9176\n",
      "757-200 V1 2462-2471\n",
      "Airways Boeing 777-200 B 2992-2998\n",
      "Boeing 767-300 1753-8099\n",
      "Boeing 787-9 V2 1251-9948\n",
      "Boeing 747-400 D 2757-6144\n",
      "Boeing 777-200 ER B 2271-2279\n"
     ]
    }
   ],
   "source": [
    "for j in my_list:\n",
    "    #print(j)\n",
    "    index = []\n",
    "    for i in range(1,len(aircraft_type)):\n",
    "        if j == aircraft_type[i]:\n",
    "            index.append(i)\n",
    "    #print(index)\n",
    "    #a = min(index) + \"-\" + max(index)\n",
    "    print(j, str(min(index)) + '-' + str(max(index)))"
   ]
  },
  {
   "cell_type": "markdown",
   "metadata": {},
   "source": [
    "### 7/01/20 : template machine on exit"
   ]
  },
  {
   "cell_type": "code",
   "execution_count": 11,
   "metadata": {},
   "outputs": [],
   "source": [
    "path = \"C:/Users/chach/OneDrive/Documents/SID/M2/\"\n",
    "path1 = \"Data_Interpromo/All Data/\"\n",
    "path2 = \"ProjetInterpromo2020g8/images/\"\n",
    "path3 = \"ANALYSE IMAGE/LAYOUT SEATGURU\""
   ]
  },
  {
   "cell_type": "markdown",
   "metadata": {},
   "source": [
    "#### Separation of plans according to their type"
   ]
  },
  {
   "cell_type": "code",
   "execution_count": 12,
   "metadata": {},
   "outputs": [],
   "source": [
    "files = [f for f in listdir(path+path1+path3) if isfile(join(path+path1+path3, f))]"
   ]
  },
  {
   "cell_type": "code",
   "execution_count": 13,
   "metadata": {},
   "outputs": [],
   "source": [
    "type1_file = []\n",
    "type2_file = []\n",
    "\n",
    "for i in files:\n",
    "    if i[len(i)-3:len(i)] == \"jpg\":\n",
    "        type1_file.append(i)\n",
    "    else:\n",
    "        type2_file.append(i)"
   ]
  },
  {
   "cell_type": "markdown",
   "metadata": {},
   "source": [
    "##### First type of image with SeatGuru, ex: Aeroflot_Russian_Airlines_Airbus_330_200_plane3.jpg"
   ]
  },
  {
   "cell_type": "code",
   "execution_count": 14,
   "metadata": {},
   "outputs": [],
   "source": [
    "#img_rgb = cv2.imread(path + path1 + path3 + \"/Aeroflot_Russian_Airlines_Airbus_330_200_plane3.jpg\")\n",
    "img_rgb = cv2.imread(path + path1 + path3 + \"/Aeroflot_Russian_Airlines_Sukhoi_Superjet_100-95B_plane13.jpg\")\n",
    "#img_rgb = cv2.cvtColor(img_rgb, cv2.COLOR_BGR2HSV)\n",
    "#greenMask = cv2.inRange(hsv, (26, 10, 30), (97, 100, 255))"
   ]
  },
  {
   "cell_type": "code",
   "execution_count": 15,
   "metadata": {},
   "outputs": [],
   "source": [
    "img_gray = cv2.cvtColor(img_rgb, cv2.COLOR_BGR2GRAY)\n",
    "template1 = cv2.imread(path + path1 + 'ANALYSE IMAGE/Exit17.png',0)\n",
    "template2 = cv2.imread(path + path1 + 'ANALYSE IMAGE/Exit16.png',0)\n",
    "w1, h1 = template1.shape[::-1]\n",
    "w2, h2 = template2.shape[::-1]"
   ]
  },
  {
   "cell_type": "code",
   "execution_count": 16,
   "metadata": {},
   "outputs": [],
   "source": [
    "#cv2.imshow('plan', img_gray)\n",
    "#cv2.imshow('template', template)"
   ]
  },
  {
   "cell_type": "code",
   "execution_count": 17,
   "metadata": {},
   "outputs": [],
   "source": [
    "template = [template1, template2]\n",
    "w = [w1, w2]\n",
    "h = [h1, h2]"
   ]
  },
  {
   "cell_type": "code",
   "execution_count": 18,
   "metadata": {},
   "outputs": [
    {
     "data": {
      "image/png": "[encoded data removed]",
      "text/plain": [
       "<Figure size 432x288 with 1 Axes>"
      ]
     },
     "metadata": {
      "needs_background": "light"
     },
     "output_type": "display_data"
    }
   ],
   "source": [
    "THRESHOLD : float = 0.9\n",
    "coordinate_exit = []\n",
    "for i in range(2):\n",
    "    res = cv2.matchTemplate(img_gray,template[i],cv2.TM_CCOEFF_NORMED)\n",
    "    loc = np.where( res >= THRESHOLD)\n",
    "    for pt in zip(*loc[::-1]):\n",
    "        cv2.rectangle(img_rgb, pt, (pt[0] + w[i], pt[1] + h[i]), (0,0,255), 2)\n",
    "        coordinate_exit.append((pt[0] + w[i], pt[1] + h[i]))\n",
    "\n",
    "    plt.plot,plt.imshow(img_rgb,cmap = 'gray')\n",
    "    #plt.figure()\n",
    "    cv2.imwrite('res' + str(i) + '.png',img_rgb)"
   ]
  },
  {
   "cell_type": "code",
   "execution_count": 19,
   "metadata": {},
   "outputs": [
    {
     "data": {
      "text/plain": [
       "[(126, 295),\n",
       " (114, 518),\n",
       " (129, 1085),\n",
       " (303, 296),\n",
       " (304, 296),\n",
       " (303, 297),\n",
       " (304, 297),\n",
       " (303, 1086),\n",
       " (302, 1087),\n",
       " (303, 1087)]"
      ]
     },
     "execution_count": 19,
     "metadata": {},
     "output_type": "execute_result"
    }
   ],
   "source": [
    "coordinate_exit"
   ]
  },
  {
   "cell_type": "markdown",
   "metadata": {},
   "source": [
    "#### Display of all images in folder to check consistency"
   ]
  },
  {
   "cell_type": "code",
   "execution_count": 20,
   "metadata": {},
   "outputs": [],
   "source": [
    "THRESHOLD : float = 0.9\n",
    "\n",
    "template1 = cv2.imread(path + path1 + 'ANALYSE IMAGE/Exit17.png',0)\n",
    "template2 = cv2.imread(path + path1 + 'ANALYSE IMAGE/Exit16.png',0)\n",
    "w1, h1 = template1.shape[::-1]\n",
    "w2, h2 = template2.shape[::-1]\n",
    "\n",
    "template = [template1, template2]\n",
    "w = [w1, w2]\n",
    "h = [h1, h2]\n",
    "\n",
    "coordinate = []\n",
    "for img in type1_file:\n",
    "    img_rgb = cv2.imread(path + path1 + path3 + \"/\" + img)\n",
    "    img_gray = cv2.cvtColor(img_rgb, cv2.COLOR_BGR2GRAY)\n",
    "    \n",
    "    coordinate_exit = []\n",
    "    for i in range(2):\n",
    "        res = cv2.matchTemplate(img_gray,template[i],cv2.TM_CCOEFF_NORMED)\n",
    "        loc = np.where( res >= THRESHOLD)\n",
    "        for pt in zip(*loc[::-1]):\n",
    "            cv2.rectangle(img_rgb, pt, (pt[0] + w[i], pt[1] + h[i]), (0,0,255), 2)\n",
    "            coordinate_exit.append((pt[0] + w[i], pt[1] + h[i]))\n",
    "\n",
    "        #plt.plot,plt.imshow(img_rgb,cmap = 'gray')\n",
    "        #plt.figure()\n",
    "        cv2.imwrite(path + path1 + 'ANALYSE IMAGE/Type1/res' + str(img) + '.png',img_rgb)\n",
    "    coordinate.append(coordinate_exit)"
   ]
  },
  {
   "cell_type": "code",
   "execution_count": 21,
   "metadata": {},
   "outputs": [
    {
     "data": {
      "text/plain": [
       "683"
      ]
     },
     "execution_count": 21,
     "metadata": {},
     "output_type": "execute_result"
    }
   ],
   "source": [
    "len(coordinate)"
   ]
  },
  {
   "cell_type": "markdown",
   "metadata": {},
   "source": [
    "##### Second type of image with SeatGuru, ex: Qatar_Airways_Boeing_777-300ER_plane737.svg.png"
   ]
  },
  {
   "cell_type": "code",
   "execution_count": 22,
   "metadata": {},
   "outputs": [],
   "source": [
    "img_rgb = cv2.imread(path + path1 + path3 + \"/Qatar_Airways_Boeing_777-300ER_plane737.svg.png\")\n",
    "img_gray = cv2.cvtColor(img_rgb, cv2.COLOR_BGR2GRAY)\n",
    "template = cv2.imread(path + path1 + 'ANALYSE IMAGE/Exit11.png',0)\n",
    "w, h = template.shape[::-1]"
   ]
  },
  {
   "cell_type": "code",
   "execution_count": 23,
   "metadata": {},
   "outputs": [
    {
     "data": {
      "text/plain": [
       "True"
      ]
     },
     "execution_count": 23,
     "metadata": {},
     "output_type": "execute_result"
    },
    {
     "data": {
      "image/png": "[encoded data removed]",
      "text/plain": [
       "<Figure size 432x288 with 1 Axes>"
      ]
     },
     "metadata": {
      "needs_background": "light"
     },
     "output_type": "display_data"
    }
   ],
   "source": [
    "THRESHOLD : float = 0.7\n",
    "coordinate_exit = []\n",
    "res = cv2.matchTemplate(img_gray,template,cv2.TM_CCOEFF_NORMED)\n",
    "loc = np.where( res >= THRESHOLD)\n",
    "for pt in zip(*loc[::-1]):\n",
    "    cv2.rectangle(img_rgb, pt, (pt[0] + w, pt[1] + h), (0,0,255), 2)\n",
    "    coordinate_exit.append((pt[0] + w, pt[1] + h))\n",
    "\n",
    "plt.plot,plt.imshow(img_rgb,cmap = 'gray')\n",
    "cv2.imwrite('res.png',img_rgb)"
   ]
  },
  {
   "cell_type": "code",
   "execution_count": 24,
   "metadata": {},
   "outputs": [
    {
     "data": {
      "text/plain": [
       "[(173, 190),\n",
       " (266, 190),\n",
       " (173, 191),\n",
       " (266, 191),\n",
       " (163, 471),\n",
       " (167, 471),\n",
       " (274, 471),\n",
       " (163, 884),\n",
       " (274, 884),\n",
       " (163, 1185),\n",
       " (167, 1185),\n",
       " (274, 1185),\n",
       " (274, 1492),\n",
       " (163, 1493),\n",
       " (274, 1493)]"
      ]
     },
     "execution_count": 24,
     "metadata": {},
     "output_type": "execute_result"
    }
   ],
   "source": [
    "coordinate_exit"
   ]
  },
  {
   "cell_type": "markdown",
   "metadata": {},
   "source": [
    "#### Display of all images in folder to check consistency"
   ]
  },
  {
   "cell_type": "code",
   "execution_count": 25,
   "metadata": {},
   "outputs": [],
   "source": [
    "THRESHOLD : float = 0.7\n",
    "coordinate = []\n",
    "\n",
    "for img in type2_file:\n",
    "    img_rgb = cv2.imread(path + path1 + path3 + \"/Qatar_Airways_Boeing_777-300ER_plane737.svg.png\")\n",
    "    img_gray = cv2.cvtColor(img_rgb, cv2.COLOR_BGR2GRAY)\n",
    "    template = cv2.imread(path + path1 + 'ANALYSE IMAGE/Exit11.png',0)\n",
    "    w, h = template.shape[::-1]\n",
    "    \n",
    "    coordinate_exit = []\n",
    "    res = cv2.matchTemplate(img_gray,template,cv2.TM_CCOEFF_NORMED)\n",
    "    loc = np.where( res >= THRESHOLD)\n",
    "    for pt in zip(*loc[::-1]):\n",
    "        cv2.rectangle(img_rgb, pt, (pt[0] + w, pt[1] + h), (0,0,255), 2)\n",
    "        coordinate_exit.append((pt[0] + w, pt[1] + h))\n",
    "\n",
    "    #plt.plot,plt.imshow(img_rgb,cmap = 'gray')\n",
    "    cv2.imwrite(path + path1 + 'ANALYSE IMAGE/Type2/res' + str(img) + '.png',img_rgb)\n",
    "    coordinate.append(coordinate_exit)"
   ]
  },
  {
   "cell_type": "code",
   "execution_count": 26,
   "metadata": {},
   "outputs": [
    {
     "data": {
      "text/plain": [
       "512"
      ]
     },
     "execution_count": 26,
     "metadata": {},
     "output_type": "execute_result"
    }
   ],
   "source": [
    "len(coordinate)"
   ]
  },
  {
   "cell_type": "markdown",
   "metadata": {},
   "source": [
    "Soit deux templates : Exit12 0,7 & Exit15 0,8\n",
    "// Soit un : Exit11 0,7"
   ]
  },
  {
   "cell_type": "markdown",
   "metadata": {},
   "source": [
    "### 8/01/20 : Kmeans & Knn"
   ]
  },
  {
   "cell_type": "code",
   "execution_count": 27,
   "metadata": {},
   "outputs": [],
   "source": [
    "from sklearn.model_selection import RandomizedSearchCV\n",
    "import math\n",
    "from sklearn.cluster import KMeans\n",
    "import numpy as np"
   ]
  },
  {
   "cell_type": "code",
   "execution_count": 28,
   "metadata": {},
   "outputs": [],
   "source": [
    "plan = open(path + path1 + \"ANALYSE IMAGE/coord-Aer_Lingus_Airbus_A330-200_plane4-NormalSeats.txt\", \"r\")\n",
    "data = plan.read()"
   ]
  },
  {
   "cell_type": "code",
   "execution_count": 29,
   "metadata": {},
   "outputs": [],
   "source": [
    "list1 = []\n",
    "list2 = []\n",
    "data_array = data.replace('\\n', ',').replace(' ','').split(',')\n",
    "\n",
    "for i in range(0,len(data_array)-1,2):\n",
    "    list1.append(int(data_array[i]))\n",
    "    list2.append(int(data_array[i+1]))\n",
    "    "
   ]
  },
  {
   "cell_type": "code",
   "execution_count": 31,
   "metadata": {},
   "outputs": [],
   "source": [
    "liste = np.array(list(zip(list1,list2)))"
   ]
  },
  {
   "cell_type": "markdown",
   "metadata": {},
   "source": [
    "#### Kmeans"
   ]
  },
  {
   "cell_type": "code",
   "execution_count": 32,
   "metadata": {},
   "outputs": [],
   "source": [
    "random_grid = {'max_iter': [100, 150, 200, 250, 300, 350, 400],\n",
    "               'n_clusters': [2,3,4,5,6,7,8,9,10,11, 12, 13, 14, 15],\n",
    "               'init': ['k-means++', 'random'],\n",
    "               'precompute_distances': ['auto', True, False],\n",
    "               'algorithm' : ['auto', 'full', 'elkan']}"
   ]
  },
  {
   "cell_type": "code",
   "execution_count": 33,
   "metadata": {},
   "outputs": [],
   "source": [
    "km = KMeans()"
   ]
  },
  {
   "cell_type": "code",
   "execution_count": 34,
   "metadata": {},
   "outputs": [
    {
     "name": "stderr",
     "output_type": "stream",
     "text": [
      "C:\\Users\\chach\\Anaconda3\\lib\\site-packages\\sklearn\\model_selection\\_split.py:2053: FutureWarning: You should specify a value for 'cv' instead of relying on the default value. The default value will change from 3 to 5 in version 0.22.\n",
      "  warnings.warn(CV_WARNING, FutureWarning)\n",
      "[Parallel(n_jobs=-1)]: Using backend LokyBackend with 8 concurrent workers.\n"
     ]
    },
    {
     "name": "stdout",
     "output_type": "stream",
     "text": [
      "Fitting 3 folds for each of 10 candidates, totalling 30 fits\n",
      "{'precompute_distances': False, 'n_clusters': 14, 'max_iter': 350, 'init': 'random', 'algorithm': 'full'}\n"
     ]
    },
    {
     "name": "stderr",
     "output_type": "stream",
     "text": [
      "[Parallel(n_jobs=-1)]: Done  30 out of  30 | elapsed:    5.5s finished\n",
      "C:\\Users\\chach\\Anaconda3\\lib\\site-packages\\sklearn\\model_selection\\_search.py:841: DeprecationWarning: The default of the `iid` parameter will change from True to False in version 0.22 and will be removed in 0.24. This will change numeric results when test-set sizes are unequal.\n",
      "  DeprecationWarning)\n"
     ]
    }
   ],
   "source": [
    "km_random = RandomizedSearchCV(estimator = km, param_distributions = random_grid, n_iter = 10, verbose=2, random_state=42, n_jobs = -1)\n",
    "km_random.fit(liste)     \n",
    "print(km_random.best_params_)"
   ]
  },
  {
   "cell_type": "code",
   "execution_count": 35,
   "metadata": {},
   "outputs": [
    {
     "data": {
      "text/plain": [
       "array([[ 200.85365854,  679.43902439],\n",
       "       [ 165.        ,  799.30769231],\n",
       "       [ 204.5       , 1021.        ],\n",
       "       [ 201.475     , 1135.5       ],\n",
       "       [ 251.56      ,  785.8       ],\n",
       "       [ 203.07317073,  575.53658537]])"
      ]
     },
     "execution_count": 35,
     "metadata": {},
     "output_type": "execute_result"
    }
   ],
   "source": [
    "from sklearn.cluster import KMeans\n",
    "import numpy as np\n",
    "kmeans = KMeans(precompute_distances = False, n_clusters = 6, max_iter = 350, init = 'random', algorithm = 'full').fit(liste)\n",
    "kmeans.labels_\n",
    "\n",
    "kmeans.cluster_centers_"
   ]
  },
  {
   "cell_type": "code",
   "execution_count": 36,
   "metadata": {},
   "outputs": [
    {
     "data": {
      "text/plain": [
       "<matplotlib.collections.PathCollection at 0x14a973ab9b0>"
      ]
     },
     "execution_count": 36,
     "metadata": {},
     "output_type": "execute_result"
    },
    {
     "data": {
      "image/png": "[encoded data removed]",
      "text/plain": [
       "<Figure size 432x288 with 1 Axes>"
      ]
     },
     "metadata": {
      "needs_background": "light"
     },
     "output_type": "display_data"
    }
   ],
   "source": [
    "import matplotlib.pyplot as plt\n",
    "y_kmeans = kmeans.predict(liste)\n",
    "plt.scatter(liste[:, 0], liste[:, 1], c=y_kmeans, s=50)\n",
    "\n",
    "centers = kmeans.cluster_centers_\n",
    "plt.scatter(centers[:, 0], centers[:, 1], c='black', s=200, alpha=0.5)"
   ]
  },
  {
   "cell_type": "markdown",
   "metadata": {},
   "source": [
    "#### KNN"
   ]
  },
  {
   "cell_type": "code",
   "execution_count": 37,
   "metadata": {},
   "outputs": [],
   "source": [
    "from sklearn.neighbors import NearestNeighbors\n",
    "import numpy as np\n",
    "# X = np.array([[-1, -1], [-2, -1], [-3, -2], [1, 1], [2, 1], [3, 2]])\n",
    "knn = NearestNeighbors(n_neighbors=6, algorithm='ball_tree').fit(liste)\n",
    "distances, indices = knn.kneighbors(liste)"
   ]
  },
  {
   "cell_type": "code",
   "execution_count": 38,
   "metadata": {},
   "outputs": [
    {
     "data": {
      "text/plain": [
       "NearestNeighbors(algorithm='ball_tree', leaf_size=30, metric='minkowski',\n",
       "         metric_params=None, n_jobs=None, n_neighbors=6, p=2, radius=1.0)"
      ]
     },
     "execution_count": 38,
     "metadata": {},
     "output_type": "execute_result"
    }
   ],
   "source": [
    "knn"
   ]
  },
  {
   "cell_type": "code",
   "execution_count": 39,
   "metadata": {},
   "outputs": [
    {
     "ename": "AttributeError",
     "evalue": "'NearestNeighbors' object has no attribute 'predict'",
     "output_type": "error",
     "traceback": [
      "\u001b[1;31m---------------------------------------------------------------------------\u001b[0m",
      "\u001b[1;31mAttributeError\u001b[0m                            Traceback (most recent call last)",
      "\u001b[1;32m<ipython-input-39-eae708fbfa55>\u001b[0m in \u001b[0;36m<module>\u001b[1;34m\u001b[0m\n\u001b[1;32m----> 1\u001b[1;33m \u001b[0my_knn\u001b[0m \u001b[1;33m=\u001b[0m \u001b[0mknn\u001b[0m\u001b[1;33m.\u001b[0m\u001b[0mpredict\u001b[0m\u001b[1;33m(\u001b[0m\u001b[0mliste\u001b[0m\u001b[1;33m)\u001b[0m\u001b[1;33m\u001b[0m\u001b[1;33m\u001b[0m\u001b[0m\n\u001b[0m\u001b[0;32m      2\u001b[0m \u001b[0mplt\u001b[0m\u001b[1;33m.\u001b[0m\u001b[0mscatter\u001b[0m\u001b[1;33m(\u001b[0m\u001b[0mliste\u001b[0m\u001b[1;33m[\u001b[0m\u001b[1;33m:\u001b[0m\u001b[1;33m,\u001b[0m \u001b[1;36m0\u001b[0m\u001b[1;33m]\u001b[0m\u001b[1;33m,\u001b[0m \u001b[0mliste\u001b[0m\u001b[1;33m[\u001b[0m\u001b[1;33m:\u001b[0m\u001b[1;33m,\u001b[0m \u001b[1;36m1\u001b[0m\u001b[1;33m]\u001b[0m\u001b[1;33m,\u001b[0m \u001b[0mc\u001b[0m\u001b[1;33m=\u001b[0m\u001b[0my_knn\u001b[0m\u001b[1;33m,\u001b[0m \u001b[0ms\u001b[0m\u001b[1;33m=\u001b[0m\u001b[1;36m50\u001b[0m\u001b[1;33m)\u001b[0m\u001b[1;33m\u001b[0m\u001b[1;33m\u001b[0m\u001b[0m\n\u001b[0;32m      3\u001b[0m \u001b[1;33m\u001b[0m\u001b[0m\n\u001b[0;32m      4\u001b[0m \u001b[0mcenters\u001b[0m \u001b[1;33m=\u001b[0m \u001b[0mknn\u001b[0m\u001b[1;33m.\u001b[0m\u001b[0mcluster_centers_\u001b[0m\u001b[1;33m\u001b[0m\u001b[1;33m\u001b[0m\u001b[0m\n\u001b[0;32m      5\u001b[0m \u001b[0mplt\u001b[0m\u001b[1;33m.\u001b[0m\u001b[0mscatter\u001b[0m\u001b[1;33m(\u001b[0m\u001b[0mcenters\u001b[0m\u001b[1;33m[\u001b[0m\u001b[1;33m:\u001b[0m\u001b[1;33m,\u001b[0m \u001b[1;36m0\u001b[0m\u001b[1;33m]\u001b[0m\u001b[1;33m,\u001b[0m \u001b[0mcenters\u001b[0m\u001b[1;33m[\u001b[0m\u001b[1;33m:\u001b[0m\u001b[1;33m,\u001b[0m \u001b[1;36m1\u001b[0m\u001b[1;33m]\u001b[0m\u001b[1;33m,\u001b[0m \u001b[0mc\u001b[0m\u001b[1;33m=\u001b[0m\u001b[1;34m'black'\u001b[0m\u001b[1;33m,\u001b[0m \u001b[0ms\u001b[0m\u001b[1;33m=\u001b[0m\u001b[1;36m200\u001b[0m\u001b[1;33m,\u001b[0m \u001b[0malpha\u001b[0m\u001b[1;33m=\u001b[0m\u001b[1;36m0.5\u001b[0m\u001b[1;33m)\u001b[0m\u001b[1;33m\u001b[0m\u001b[1;33m\u001b[0m\u001b[0m\n",
      "\u001b[1;31mAttributeError\u001b[0m: 'NearestNeighbors' object has no attribute 'predict'"
     ]
    }
   ],
   "source": [
    "y_knn = knn.predict(liste)\n",
    "plt.scatter(liste[:, 0], liste[:, 1], c=y_knn, s=50)\n",
    "\n",
    "centers = knn.cluster_centers_\n",
    "plt.scatter(centers[:, 0], centers[:, 1], c='black', s=200, alpha=0.5)"
   ]
  },
  {
   "cell_type": "code",
   "execution_count": 124,
   "metadata": {},
   "outputs": [
    {
     "name": "stderr",
     "output_type": "stream",
     "text": [
      "1:33: E231 missing whitespace after ','\n",
      "1:35: E231 missing whitespace after ','\n",
      "1:37: E231 missing whitespace after ','\n",
      "1:39: E231 missing whitespace after ','\n",
      "1:41: E231 missing whitespace after ','\n",
      "1:43: E231 missing whitespace after ','\n",
      "1:45: E231 missing whitespace after ','\n",
      "1:47: E231 missing whitespace after ','\n",
      "1:50: E231 missing whitespace after ','\n"
     ]
    },
    {
     "ename": "ValueError",
     "evalue": "too many values to unpack (expected 3)",
     "output_type": "error",
     "traceback": [
      "\u001b[1;31m---------------------------------------------------------------------------\u001b[0m",
      "\u001b[1;31mValueError\u001b[0m                                Traceback (most recent call last)",
      "\u001b[1;32m~\\Anaconda3\\lib\\site-packages\\pycodestyle_magic.py\u001b[0m in \u001b[0;36mauto_run_pycodestyle\u001b[1;34m(self, result)\u001b[0m\n\u001b[0;32m     44\u001b[0m \u001b[1;33m\u001b[0m\u001b[0m\n\u001b[0;32m     45\u001b[0m     \u001b[1;32mdef\u001b[0m \u001b[0mauto_run_pycodestyle\u001b[0m\u001b[1;33m(\u001b[0m\u001b[0mself\u001b[0m\u001b[1;33m,\u001b[0m \u001b[0mresult\u001b[0m\u001b[1;33m)\u001b[0m\u001b[1;33m:\u001b[0m\u001b[1;33m\u001b[0m\u001b[1;33m\u001b[0m\u001b[0m\n\u001b[1;32m---> 46\u001b[1;33m         \u001b[0mpycodestyle\u001b[0m\u001b[1;33m(\u001b[0m\u001b[1;36m1\u001b[0m\u001b[1;33m,\u001b[0m \u001b[0mresult\u001b[0m\u001b[1;33m.\u001b[0m\u001b[0minfo\u001b[0m\u001b[1;33m.\u001b[0m\u001b[0mraw_cell\u001b[0m\u001b[1;33m,\u001b[0m \u001b[0mauto\u001b[0m\u001b[1;33m=\u001b[0m\u001b[1;32mTrue\u001b[0m\u001b[1;33m)\u001b[0m\u001b[1;33m\u001b[0m\u001b[1;33m\u001b[0m\u001b[0m\n\u001b[0m\u001b[0;32m     47\u001b[0m         \u001b[1;32mif\u001b[0m \u001b[0mresult\u001b[0m\u001b[1;33m.\u001b[0m\u001b[0merror_before_exec\u001b[0m\u001b[1;33m:\u001b[0m\u001b[1;33m\u001b[0m\u001b[1;33m\u001b[0m\u001b[0m\n\u001b[0;32m     48\u001b[0m             \u001b[0mprint\u001b[0m\u001b[1;33m(\u001b[0m\u001b[1;34m'Error before execution: %s'\u001b[0m \u001b[1;33m%\u001b[0m \u001b[0mresult\u001b[0m\u001b[1;33m.\u001b[0m\u001b[0merror_before_exec\u001b[0m\u001b[1;33m)\u001b[0m\u001b[1;33m\u001b[0m\u001b[1;33m\u001b[0m\u001b[0m\n",
      "\u001b[1;32m<decorator-gen-130>\u001b[0m in \u001b[0;36mpycodestyle\u001b[1;34m(line, cell, auto)\u001b[0m\n",
      "\u001b[1;32m~\\Anaconda3\\lib\\site-packages\\IPython\\core\\magic.py\u001b[0m in \u001b[0;36m<lambda>\u001b[1;34m(f, *a, **k)\u001b[0m\n\u001b[0;32m    218\u001b[0m     \u001b[1;31m# but it's overkill for just that one bit of state.\u001b[0m\u001b[1;33m\u001b[0m\u001b[1;33m\u001b[0m\u001b[1;33m\u001b[0m\u001b[0m\n\u001b[0;32m    219\u001b[0m     \u001b[1;32mdef\u001b[0m \u001b[0mmagic_deco\u001b[0m\u001b[1;33m(\u001b[0m\u001b[0marg\u001b[0m\u001b[1;33m)\u001b[0m\u001b[1;33m:\u001b[0m\u001b[1;33m\u001b[0m\u001b[1;33m\u001b[0m\u001b[0m\n\u001b[1;32m--> 220\u001b[1;33m         \u001b[0mcall\u001b[0m \u001b[1;33m=\u001b[0m \u001b[1;32mlambda\u001b[0m \u001b[0mf\u001b[0m\u001b[1;33m,\u001b[0m \u001b[1;33m*\u001b[0m\u001b[0ma\u001b[0m\u001b[1;33m,\u001b[0m \u001b[1;33m**\u001b[0m\u001b[0mk\u001b[0m\u001b[1;33m:\u001b[0m \u001b[0mf\u001b[0m\u001b[1;33m(\u001b[0m\u001b[1;33m*\u001b[0m\u001b[0ma\u001b[0m\u001b[1;33m,\u001b[0m \u001b[1;33m**\u001b[0m\u001b[0mk\u001b[0m\u001b[1;33m)\u001b[0m\u001b[1;33m\u001b[0m\u001b[1;33m\u001b[0m\u001b[0m\n\u001b[0m\u001b[0;32m    221\u001b[0m \u001b[1;33m\u001b[0m\u001b[0m\n\u001b[0;32m    222\u001b[0m         \u001b[1;31m# Find get_ipython() in the caller's namespace\u001b[0m\u001b[1;33m\u001b[0m\u001b[1;33m\u001b[0m\u001b[1;33m\u001b[0m\u001b[0m\n",
      "\u001b[1;32m~\\Anaconda3\\lib\\site-packages\\pycodestyle_magic.py\u001b[0m in \u001b[0;36mpycodestyle\u001b[1;34m(line, cell, auto)\u001b[0m\n\u001b[0;32m    173\u001b[0m         \u001b[1;31m#logger.info(line)\u001b[0m\u001b[1;33m\u001b[0m\u001b[1;33m\u001b[0m\u001b[1;33m\u001b[0m\u001b[0m\n\u001b[0;32m    174\u001b[0m         \u001b[1;31m# on windows drive path also contains :\u001b[0m\u001b[1;33m\u001b[0m\u001b[1;33m\u001b[0m\u001b[1;33m\u001b[0m\u001b[0m\n\u001b[1;32m--> 175\u001b[1;33m         \u001b[0mline\u001b[0m\u001b[1;33m,\u001b[0m \u001b[0mcol\u001b[0m\u001b[1;33m,\u001b[0m \u001b[0merror\u001b[0m \u001b[1;33m=\u001b[0m \u001b[0mline\u001b[0m\u001b[1;33m.\u001b[0m\u001b[0msplit\u001b[0m\u001b[1;33m(\u001b[0m\u001b[1;34m':'\u001b[0m\u001b[1;33m)\u001b[0m\u001b[1;33m[\u001b[0m\u001b[1;33m-\u001b[0m\u001b[1;36m4\u001b[0m\u001b[1;33m:\u001b[0m\u001b[1;33m]\u001b[0m\u001b[1;33m\u001b[0m\u001b[1;33m\u001b[0m\u001b[0m\n\u001b[0m\u001b[0;32m    176\u001b[0m         \u001b[1;31m# do not subtract 1 for line for %%pycodestyle, inc pre py3.6 string\u001b[0m\u001b[1;33m\u001b[0m\u001b[1;33m\u001b[0m\u001b[1;33m\u001b[0m\u001b[0m\n\u001b[0;32m    177\u001b[0m         \u001b[1;32mif\u001b[0m \u001b[0mauto\u001b[0m\u001b[1;33m:\u001b[0m\u001b[1;33m\u001b[0m\u001b[1;33m\u001b[0m\u001b[0m\n",
      "\u001b[1;31mValueError\u001b[0m: too many values to unpack (expected 3)"
     ]
    },
    {
     "name": "stderr",
     "output_type": "stream",
     "text": [
      "1:33: E231 missing whitespace after ','\n",
      "1:35: E231 missing whitespace after ','\n",
      "1:37: E231 missing whitespace after ','\n",
      "1:39: E231 missing whitespace after ','\n",
      "1:41: E231 missing whitespace after ','\n",
      "1:43: E231 missing whitespace after ','\n",
      "1:45: E231 missing whitespace after ','\n",
      "1:47: E231 missing whitespace after ','\n",
      "1:50: E231 missing whitespace after ','\n"
     ]
    },
    {
     "ename": "ValueError",
     "evalue": "too many values to unpack (expected 3)",
     "output_type": "error",
     "traceback": [
      "\u001b[1;31m---------------------------------------------------------------------------\u001b[0m",
      "\u001b[1;31mValueError\u001b[0m                                Traceback (most recent call last)",
      "\u001b[1;32m~\\Anaconda3\\lib\\site-packages\\pycodestyle_magic.py\u001b[0m in \u001b[0;36mauto_run_pycodestyle\u001b[1;34m(self, result)\u001b[0m\n\u001b[0;32m     44\u001b[0m \u001b[1;33m\u001b[0m\u001b[0m\n\u001b[0;32m     45\u001b[0m     \u001b[1;32mdef\u001b[0m \u001b[0mauto_run_pycodestyle\u001b[0m\u001b[1;33m(\u001b[0m\u001b[0mself\u001b[0m\u001b[1;33m,\u001b[0m \u001b[0mresult\u001b[0m\u001b[1;33m)\u001b[0m\u001b[1;33m:\u001b[0m\u001b[1;33m\u001b[0m\u001b[1;33m\u001b[0m\u001b[0m\n\u001b[1;32m---> 46\u001b[1;33m         \u001b[0mpycodestyle\u001b[0m\u001b[1;33m(\u001b[0m\u001b[1;36m1\u001b[0m\u001b[1;33m,\u001b[0m \u001b[0mresult\u001b[0m\u001b[1;33m.\u001b[0m\u001b[0minfo\u001b[0m\u001b[1;33m.\u001b[0m\u001b[0mraw_cell\u001b[0m\u001b[1;33m,\u001b[0m \u001b[0mauto\u001b[0m\u001b[1;33m=\u001b[0m\u001b[1;32mTrue\u001b[0m\u001b[1;33m)\u001b[0m\u001b[1;33m\u001b[0m\u001b[1;33m\u001b[0m\u001b[0m\n\u001b[0m\u001b[0;32m     47\u001b[0m         \u001b[1;32mif\u001b[0m \u001b[0mresult\u001b[0m\u001b[1;33m.\u001b[0m\u001b[0merror_before_exec\u001b[0m\u001b[1;33m:\u001b[0m\u001b[1;33m\u001b[0m\u001b[1;33m\u001b[0m\u001b[0m\n\u001b[0;32m     48\u001b[0m             \u001b[0mprint\u001b[0m\u001b[1;33m(\u001b[0m\u001b[1;34m'Error before execution: %s'\u001b[0m \u001b[1;33m%\u001b[0m \u001b[0mresult\u001b[0m\u001b[1;33m.\u001b[0m\u001b[0merror_before_exec\u001b[0m\u001b[1;33m)\u001b[0m\u001b[1;33m\u001b[0m\u001b[1;33m\u001b[0m\u001b[0m\n",
      "\u001b[1;32m<decorator-gen-130>\u001b[0m in \u001b[0;36mpycodestyle\u001b[1;34m(line, cell, auto)\u001b[0m\n",
      "\u001b[1;32m~\\Anaconda3\\lib\\site-packages\\IPython\\core\\magic.py\u001b[0m in \u001b[0;36m<lambda>\u001b[1;34m(f, *a, **k)\u001b[0m\n\u001b[0;32m    218\u001b[0m     \u001b[1;31m# but it's overkill for just that one bit of state.\u001b[0m\u001b[1;33m\u001b[0m\u001b[1;33m\u001b[0m\u001b[1;33m\u001b[0m\u001b[0m\n\u001b[0;32m    219\u001b[0m     \u001b[1;32mdef\u001b[0m \u001b[0mmagic_deco\u001b[0m\u001b[1;33m(\u001b[0m\u001b[0marg\u001b[0m\u001b[1;33m)\u001b[0m\u001b[1;33m:\u001b[0m\u001b[1;33m\u001b[0m\u001b[1;33m\u001b[0m\u001b[0m\n\u001b[1;32m--> 220\u001b[1;33m         \u001b[0mcall\u001b[0m \u001b[1;33m=\u001b[0m \u001b[1;32mlambda\u001b[0m \u001b[0mf\u001b[0m\u001b[1;33m,\u001b[0m \u001b[1;33m*\u001b[0m\u001b[0ma\u001b[0m\u001b[1;33m,\u001b[0m \u001b[1;33m**\u001b[0m\u001b[0mk\u001b[0m\u001b[1;33m:\u001b[0m \u001b[0mf\u001b[0m\u001b[1;33m(\u001b[0m\u001b[1;33m*\u001b[0m\u001b[0ma\u001b[0m\u001b[1;33m,\u001b[0m \u001b[1;33m**\u001b[0m\u001b[0mk\u001b[0m\u001b[1;33m)\u001b[0m\u001b[1;33m\u001b[0m\u001b[1;33m\u001b[0m\u001b[0m\n\u001b[0m\u001b[0;32m    221\u001b[0m \u001b[1;33m\u001b[0m\u001b[0m\n\u001b[0;32m    222\u001b[0m         \u001b[1;31m# Find get_ipython() in the caller's namespace\u001b[0m\u001b[1;33m\u001b[0m\u001b[1;33m\u001b[0m\u001b[1;33m\u001b[0m\u001b[0m\n",
      "\u001b[1;32m~\\Anaconda3\\lib\\site-packages\\pycodestyle_magic.py\u001b[0m in \u001b[0;36mpycodestyle\u001b[1;34m(line, cell, auto)\u001b[0m\n\u001b[0;32m    173\u001b[0m         \u001b[1;31m#logger.info(line)\u001b[0m\u001b[1;33m\u001b[0m\u001b[1;33m\u001b[0m\u001b[1;33m\u001b[0m\u001b[0m\n\u001b[0;32m    174\u001b[0m         \u001b[1;31m# on windows drive path also contains :\u001b[0m\u001b[1;33m\u001b[0m\u001b[1;33m\u001b[0m\u001b[1;33m\u001b[0m\u001b[0m\n\u001b[1;32m--> 175\u001b[1;33m         \u001b[0mline\u001b[0m\u001b[1;33m,\u001b[0m \u001b[0mcol\u001b[0m\u001b[1;33m,\u001b[0m \u001b[0merror\u001b[0m \u001b[1;33m=\u001b[0m \u001b[0mline\u001b[0m\u001b[1;33m.\u001b[0m\u001b[0msplit\u001b[0m\u001b[1;33m(\u001b[0m\u001b[1;34m':'\u001b[0m\u001b[1;33m)\u001b[0m\u001b[1;33m[\u001b[0m\u001b[1;33m-\u001b[0m\u001b[1;36m4\u001b[0m\u001b[1;33m:\u001b[0m\u001b[1;33m]\u001b[0m\u001b[1;33m\u001b[0m\u001b[1;33m\u001b[0m\u001b[0m\n\u001b[0m\u001b[0;32m    176\u001b[0m         \u001b[1;31m# do not subtract 1 for line for %%pycodestyle, inc pre py3.6 string\u001b[0m\u001b[1;33m\u001b[0m\u001b[1;33m\u001b[0m\u001b[1;33m\u001b[0m\u001b[0m\n\u001b[0;32m    177\u001b[0m         \u001b[1;32mif\u001b[0m \u001b[0mauto\u001b[0m\u001b[1;33m:\u001b[0m\u001b[1;33m\u001b[0m\u001b[1;33m\u001b[0m\u001b[0m\n",
      "\u001b[1;31mValueError\u001b[0m: too many values to unpack (expected 3)"
     ]
    }
   ],
   "source": [
    "random_grid = {'n_neighbors': [2,3,4,5,6,7,8,9,10,11, 12, 13, 14, 15],\n",
    "               'weights': ['uniform', 'distance'],\n",
    "               'metric' : ['euclidean', 'minkowski'],\n",
    "               'algorithm' : ['auto', 'ball_tree', 'kd_tree', 'brute']}"
   ]
  },
  {
   "cell_type": "code",
   "execution_count": null,
   "metadata": {},
   "outputs": [],
   "source": []
  }
 ],
 "metadata": {
  "kernelspec": {
   "display_name": "Python 3",
   "language": "python",
   "name": "python3"
  },
  "language_info": {
   "codemirror_mode": {
    "name": "ipython",
    "version": 3
   },
   "file_extension": ".py",
   "mimetype": "text/x-python",
   "name": "python",
   "nbconvert_exporter": "python",
   "pygments_lexer": "ipython3",
   "version": "3.7.1"
  },
  "pycharm": {
   "stem_cell": {
    "cell_type": "raw",
    "metadata": {
     "collapsed": false
    },
    "source": []
   }
  }
 },
 "nbformat": 4,
 "nbformat_minor": 1
}
