{
 "cells": [
  {
   "cell_type": "code",
   "execution_count": 1,
   "metadata": {
    "collapsed": false,
    "pycharm": {
     "is_executing": false
    }
   },
   "outputs": [],
   "source": [
    "from pipeline import Pipeline, Process, Postprocess, Preprocess\n",
    "import numpy as np\n",
    "import pandas as pd\n",
    "from os import listdir\n",
    "from os.path import isfile, join\n",
    "import csv\n",
    "import cv2\n",
    "import numpy as np\n",
    "from matplotlib import pyplot as plt"
   ]
  },
  {
   "cell_type": "code",
   "execution_count": 2,
   "metadata": {
    "collapsed": true
   },
   "outputs": [],
   "source": [
    "class MyPreProcess(Preprocess):\n",
    "    process_desc = \"Exemple de pre-process -> ne fait rien\"\n",
    "\n",
    "    def run(self, images):\n",
    "        pass\n",
    "\n",
    "\n",
    "class MyProcess(Process):\n",
    "    process_desc = \"Exemple de process -> ne fait rien\"\n",
    "\n",
    "    def run(self, images):\n",
    "        pass\n",
    "\n",
    "\n",
    "class MyPostProcess(Postprocess):\n",
    "    process_desc = \"Exemple de post-process -> ne fait rien\"\n",
    "\n",
    "    def run(self, images):\n",
    "        pass"
   ]
  },
  {
   "cell_type": "code",
   "execution_count": 3,
   "metadata": {
    "collapsed": false
   },
   "outputs": [
    {
     "name": "stdout",
     "output_type": "stream",
     "text": [
      "Preprocess :  Exemple de pre-process -> ne fait rien\n",
      "Process :  Exemple de process -> ne fait rien\n",
      "Postprocess :  Exemple de post-process -> ne fait rien\n",
      "Exemple de pre-process -> ne fait rien a été ajouté.\n",
      "Exemple de process -> ne fait rien a été ajouté.\n",
      "Exemple de post-process -> ne fait rien a été ajouté.\n",
      "Exemple de pre-process -> ne fait rien a été ajouté.\n"
     ]
    }
   ],
   "source": [
    "pipeline = Pipeline()\n",
    "process_array = np.array(\n",
    "    [MyPreProcess(), MyProcess(), MyPostProcess(), MyPreProcess(verbose=0)])\n",
    "pipeline.add_processes(process_array)"
   ]
  },
  {
   "cell_type": "code",
   "execution_count": 4,
   "metadata": {
    "collapsed": false
   },
   "outputs": [
    {
     "name": "stdout",
     "output_type": "stream",
     "text": [
      "Exemple de pre-process -> ne fait rien\n",
      "Exemple de pre-process -> ne fait rien\n",
      "Exemple de process -> ne fait rien\n",
      "Exemple de post-process -> ne fait rien\n"
     ]
    }
   ],
   "source": [
    "pipeline.print_process()"
   ]
  },
  {
   "cell_type": "markdown",
   "metadata": {},
   "source": [
    "### 6/01/20 : count number of elements in images"
   ]
  },
  {
   "cell_type": "code",
   "execution_count": 5,
   "metadata": {
    "collapsed": true
   },
   "outputs": [],
   "source": [
    "path = \"C:/Users/ng85ffc/Desktop/\"\n",
    "path1 = \"Data/\""
   ]
  },
  {
   "cell_type": "code",
   "execution_count": 6,
   "metadata": {
    "collapsed": false
   },
   "outputs": [],
   "source": [
    "fname = path + path1 + \"SEATGURU_INFO_AIRCRAFT.csv\"\n",
    "ifile = open(fname, \"rt\")\n",
    "\n",
    "airline_name = []\n",
    "aircraft_type = []\n",
    "category = []\n",
    "flight_type = []\n",
    "count = []\n",
    "total_seat = []\n",
    "seat_class = []\n",
    "seat_type = []\n",
    "seat_position = []\n",
    "\n",
    "try:\n",
    "    reader = csv.reader(ifile, delimiter=\";\")\n",
    "    for row in reader:\n",
    "        airline_name.append(row[1])\n",
    "        aircraft_type.append(row[2])\n",
    "        category.append(row[3])\n",
    "        flight_type.append(row[4])\n",
    "        count.append(row[5])\n",
    "        total_seat.append(row[6])\n",
    "        seat_class.append(row[7])\n",
    "        seat_type.append(row[8])\n",
    "        seat_position.append(row[9])\n",
    "finally:\n",
    "    ifile.close()"
   ]
  },
  {
   "cell_type": "code",
   "execution_count": 7,
   "metadata": {
    "collapsed": false
   },
   "outputs": [
    {
     "data": {
      "text/plain": [
       "10331"
      ]
     },
     "execution_count": 7,
     "metadata": {},
     "output_type": "execute_result"
    }
   ],
   "source": [
    "len(airline_name)"
   ]
  },
  {
   "cell_type": "code",
   "execution_count": 8,
   "metadata": {
    "collapsed": true
   },
   "outputs": [],
   "source": [
    "my_list = list(set(aircraft_type[2001:3000]))"
   ]
  },
  {
   "cell_type": "code",
   "execution_count": 9,
   "metadata": {
    "collapsed": true
   },
   "outputs": [],
   "source": [
    "fname = path + path1 + \"Correspondances_images.csv\"\n",
    "file = open(fname, 'wt', newline='')\n",
    "\n",
    "\n",
    "try:\n",
    "    writer = csv.writer(file, delimiter=\";\")\n",
    "    # header writing\n",
    "    writer.writerow(('Airline_Name', 'Aircraft_Type', 'Images'))\n",
    "\n",
    "    for j in my_list:\n",
    "        index = []\n",
    "        for i in range(2001, 3000):\n",
    "            if j == aircraft_type[i]:\n",
    "                index.append(i)\n",
    "        a = (str(min(index)+1) + \"-\" + str(max(index)+1))\n",
    "        # line writing\n",
    "        writer.writerow((j, index))\n",
    "\n",
    "finally:\n",
    "    file.close()"
   ]
  },
  {
   "cell_type": "code",
   "execution_count": 10,
   "metadata": {
    "collapsed": false,
    "scrolled": true
   },
   "outputs": [
    {
     "name": "stdout",
     "output_type": "stream",
     "text": [
      "Boeing 767-300 1753-8099\n",
      "Boeing 787-8 225-10323\n",
      "Airbus A321-200 V3 2200-9880\n",
      "Boeing 787-800 C 2090-2102\n",
      "Airbus A330-200 130-9888\n",
      "Airlines Airbus A320 1484-10150\n",
      "Boeing 777-200 ER D 2289-2300\n",
      "Airways Boeing 777-300ER A 2999-3020\n",
      "Airlines Q400 2372-7173\n",
      "Airways A330 E new 2981-2991\n",
      "ATR 72-500 324-10068\n",
      "Boeing 747-400 full 2249-2263\n",
      "Airlines Embraer 190 2580-8725\n",
      "Boeing 787-900 469-8062\n",
      "Airlines Embraer195 2367-2371\n",
      "Airbus A320 236-10134\n",
      "Airlines Airbus A330-200 2567-8799\n",
      "A320-200 C 2524-2529\n",
      "Embraer 190 A 2884-2888\n",
      "Boeing 777-200 3 2821-2832\n",
      "Airbus A380 2149-7446\n",
      "Embraer 190 521-6740\n",
      "Bombardier Q200 C 2553-2556\n",
      "Airways Boeing 777-200 B 2992-2998\n",
      "A340-542 2454-2461\n",
      "Airbus A319 360-9176\n",
      "Airlines Airbus A320neo 2561-7844\n",
      "Airbus A320-200 C 2642-2647\n",
      "Airlines ATR 72-600 2576-2579\n",
      "Airbus A318-100 2379-2388\n",
      "Airbus A330 200 2917-10065\n",
      "Airbus A320-200 6-7082\n",
      "Bombardier Q200 A 2545-2548\n",
      "Boeing 747-400 D 2757-6144\n",
      "A319-111 2491-2498\n",
      "Airbus A330 33P 2948-2955\n",
      "Airbus A321 C 379-2672\n",
      "Airbus A380 new 2692-6777\n",
      "Boeing 747-400 B 2718-6116\n",
      "Airbus A321 242-9017\n",
      "Airbus A330 33E 2937-2947\n",
      "Airbus A321 D 389-9199\n",
      "Airlines Airbus A321 1500-10155\n",
      "Boeing 777-200 ER B 2271-2279\n",
      "Airbus A330 300 1703-5263\n",
      "Airlines Embraer 195 2586-2591\n",
      "A330-200 2537-2544\n",
      "Embraer 170 B 2881-2883\n",
      "A320-200 B 2515-7572\n",
      "Boeing 777-300ER D 2034-2049\n",
      "Airbus A321 E 2685-2691\n",
      "Boeing 777-300ER F 2065-2078\n",
      "Airbus A319 V2 1084-8820\n",
      "A321neo 2530-2536\n",
      "Airbus A330-300 296-9241\n",
      "A320-200 A 2506-7564\n",
      "Airbus A320 V2 1094-9855\n",
      "Airlines Airbus A319 2324-10145\n",
      "Boeing 777-200ER B 2024-5558\n",
      "Airbus A321-200 V2 2190-9872\n",
      "Bombardier Q200 B 2549-2552\n",
      "Boeing 777 300 2833-2850\n",
      "Boeing 767-300ER B 2001-2011\n",
      "Airbus A318 2613-2615\n",
      "Airbus A350-900 600-9900\n",
      "Boeing 777-200B 2 2793-2806\n",
      "Airbus A320-200 D 2648-2656\n",
      "Boeing 787-9 V3 2136-2148\n",
      "Airbus A350-1000 2956-2968\n",
      "787-8 2480-2490\n",
      "Boeing 787-800 D 2103-2112\n",
      "Boeing 787-9 195-10330\n",
      "Airbus A330-300 V2 589-7955\n",
      "Airbus A319 E 2637-2641\n",
      "Boeing 747-400 C 2737-6131\n",
      "Boeing 787-9 V2 1251-9948\n",
      "Airbus A320-200 E 2657-2662\n",
      "Boeing 777-200 2778-7979\n",
      "Airlines Boeing 767-300ER V3 2344-2355\n",
      "Embraer 170 A 2877-2880\n",
      "767-300ER 2472-2479\n",
      "Boeing 777-200 ER C 2280-2288\n",
      "Boeing 777-300ER E 2050-2064\n",
      "A320 2446-10188\n",
      "Boeing 777-200ER A 2012-6183\n",
      "Bombardier Q400 2557-10248\n",
      "Boeing 787-800 B 2079-2089\n",
      "Airlines Boeing 777-200 V2 2356-2366\n",
      "757-200 V1 2462-2471\n",
      "Airbus A319 C 2622-4911\n",
      "Airbus A321-200 V1 2180-2189\n",
      "Airbus A319-100 1-4751\n",
      "Embraer 190 B 2889-2894\n",
      "Airbus A321-200 12-9864\n",
      "Boeing 777-200ER 2807-6875\n",
      "Airbus A319 D 2628-2636\n",
      "Airbus A321-100 2174-2179\n"
     ]
    }
   ],
   "source": [
    "for j in my_list:\n",
    "    index = []\n",
    "    for i in range(1, len(aircraft_type)):\n",
    "        if j == aircraft_type[i]:\n",
    "            index.append(i)\n",
    "    print(j, str(min(index)) + '-' + str(max(index)))"
   ]
  },
  {
   "cell_type": "markdown",
   "metadata": {},
   "source": [
    "### 7/01/20 : template machine on exit"
   ]
  },
  {
   "cell_type": "code",
   "execution_count": 11,
   "metadata": {
    "collapsed": true
   },
   "outputs": [],
   "source": [
    "path = \"C:/Users/ng85ffc/Desktop/\"\n",
    "path1 = \"Data/\"\n",
    "path2 = \"ProjetInterpromo2020g8/images/\"\n",
    "path3 = \"LAYOUT SEATGURU\""
   ]
  },
  {
   "cell_type": "markdown",
   "metadata": {},
   "source": [
    "#### Separation of plans according to their type"
   ]
  },
  {
   "cell_type": "code",
   "execution_count": 12,
   "metadata": {
    "collapsed": false
   },
   "outputs": [],
   "source": [
    "files = [f for f in listdir(path+path1+path3)\n",
    "         if isfile(join(path+path1+path3, f))]"
   ]
  },
  {
   "cell_type": "code",
   "execution_count": 13,
   "metadata": {
    "collapsed": true
   },
   "outputs": [],
   "source": [
    "type1_file = []\n",
    "type2_file = []\n",
    "\n",
    "for i in files:\n",
    "    if i[len(i)-3:len(i)] == \"jpg\":\n",
    "        type1_file.append(i)\n",
    "    else:\n",
    "        type2_file.append(i)"
   ]
  },
  {
   "cell_type": "markdown",
   "metadata": {},
   "source": [
    "##### First type of image with SeatGuru, ex: Aeroflot_Russian_Airlines_Airbus_330_200_plane3.jpg"
   ]
  },
  {
   "cell_type": "code",
   "execution_count": 14,
   "metadata": {
    "collapsed": true
   },
   "outputs": [],
   "source": [
    "#img_rgb = cv2.imread(path + path1 + path3 + \"/Aeroflot_Russian_Airlines_Airbus_330_200_plane3.jpg\")\n",
    "img_rgb = cv2.imread(path + path1 + path3 +\n",
    "                     \"/Aeroflot_Russian_Airlines_Sukhoi_Superjet_100-95B_plane13.jpg\")\n",
    "#img_rgb = cv2.cvtColor(img_rgb, cv2.COLOR_BGR2HSV)\n",
    "#greenMask = cv2.inRange(hsv, (26, 10, 30), (97, 100, 255))"
   ]
  },
  {
   "cell_type": "code",
   "execution_count": 15,
   "metadata": {
    "collapsed": true
   },
   "outputs": [],
   "source": [
    "img_gray = cv2.cvtColor(img_rgb, cv2.COLOR_BGR2GRAY)\n",
    "template1 = cv2.imread(path + path2 + 'Exit17.png',0)\n",
    "template2 = cv2.imread(path + path2 + 'Exit16.png',0)\n",
    "w1, h1 = template1.shape[::-1]\n",
    "w2, h2 = template2.shape[::-1]"
   ]
  },
  {
   "cell_type": "code",
   "execution_count": 16,
   "metadata": {
    "collapsed": true
   },
   "outputs": [],
   "source": [
    "#cv2.imshow('plan', img_gray)\n",
    "#cv2.imshow('template', template)"
   ]
  },
  {
   "cell_type": "code",
   "execution_count": 17,
   "metadata": {
    "collapsed": true
   },
   "outputs": [],
   "source": [
    "template = [template1, template2]\n",
    "w = [w1, w2]\n",
    "h = [h1, h2]"
   ]
  },
  {
   "cell_type": "code",
   "execution_count": 135,
   "metadata": {
    "collapsed": false
   },
   "outputs": [],
   "source": [
    "THRESHOLD: float = 0.9\n",
    "coordinate_exit = []\n",
    "for i in range(2):\n",
    "    res = cv2.matchTemplate(img_gray, template[i], cv2.TM_CCOEFF_NORMED)\n",
    "    loc = np.where(res >= THRESHOLD)\n",
    "    for pt in zip(*loc[::-1]):\n",
    "        cv2.rectangle(img_rgb, pt, (pt[0] + w[i],\n",
    "                                    pt[1] + h[i]), (0, 0, 255), 2)\n",
    "        coordinate_exit.append((pt[0] + w[i], pt[1] + h[i]))\n",
    "\n",
    "    plt.plot, plt.imshow(img_rgb, cmap='gray')\n",
    "    # plt.figure()\n",
    "    cv2.imwrite('res' + str(i) + '.png', img_rgb)"
   ]
  },
  {
   "cell_type": "code",
   "execution_count": 136,
   "metadata": {
    "collapsed": false
   },
   "outputs": [
    {
     "data": {
      "text/plain": [
       "[(126, 295),\n",
       " (114, 518),\n",
       " (129, 1085),\n",
       " (303, 296),\n",
       " (304, 296),\n",
       " (303, 297),\n",
       " (304, 297),\n",
       " (303, 1086),\n",
       " (302, 1087),\n",
       " (303, 1087)]"
      ]
     },
     "execution_count": 136,
     "metadata": {},
     "output_type": "execute_result"
    }
   ],
   "source": [
    "coordinate_exit"
   ]
  },
  {
   "cell_type": "code",
   "execution_count": 137,
   "metadata": {
    "collapsed": false
   },
   "outputs": [],
   "source": [
    "def find_duplicate(coordinate: list):\n",
    "    dup = []\n",
    "    for coord in coordinate:\n",
    "        for i in coordinate:\n",
    "            for j in range(5):\n",
    "                if (coord[0] == i[0]+j or coord[0] == i[0]-j or coord[0] == i[0]) and (coord[1] == i[1]+j or coord[1] == i[1]-j or coord[1] == i[1]) and (coord != i):\n",
    "                    dup.append(i)\n",
    "    return(dup)"
   ]
  },
  {
   "cell_type": "code",
   "execution_count": 138,
   "metadata": {
    "collapsed": false
   },
   "outputs": [
    {
     "data": {
      "text/plain": [
       "[(304, 296),\n",
       " (303, 297),\n",
       " (304, 297),\n",
       " (303, 296),\n",
       " (303, 297),\n",
       " (304, 297),\n",
       " (303, 296),\n",
       " (304, 296),\n",
       " (304, 297),\n",
       " (303, 296),\n",
       " (304, 296),\n",
       " (303, 297),\n",
       " (302, 1087),\n",
       " (303, 1087),\n",
       " (303, 1086),\n",
       " (303, 1087),\n",
       " (303, 1086),\n",
       " (302, 1087)]"
      ]
     },
     "execution_count": 138,
     "metadata": {},
     "output_type": "execute_result"
    }
   ],
   "source": [
    "find_duplicate(coordinate_exit)"
   ]
  },
  {
   "cell_type": "code",
   "execution_count": 139,
   "metadata": {
    "collapsed": true
   },
   "outputs": [],
   "source": [
    "def remove_duplicate(dup: list):\n",
    "    while dup:\n",
    "        del coordinate_exit[coordinate_exit.index(dup[0])]\n",
    "        dup = find_duplicate(coordinate_exit)\n",
    "    return(coordinate_exit)"
   ]
  },
  {
   "cell_type": "code",
   "execution_count": 140,
   "metadata": {
    "collapsed": false
   },
   "outputs": [
    {
     "data": {
      "text/plain": [
       "[(126, 295), (114, 518), (129, 1085), (303, 296), (303, 1086)]"
      ]
     },
     "execution_count": 140,
     "metadata": {},
     "output_type": "execute_result"
    }
   ],
   "source": [
    "remove_duplicate(find_duplicate(coordinate_exit))"
   ]
  },
  {
   "cell_type": "code",
   "execution_count": 134,
   "metadata": {
    "collapsed": false
   },
   "outputs": [
    {
     "data": {
      "text/plain": [
       "[(126, 295),\n",
       " (114, 518),\n",
       " (129, 1085),\n",
       " (303, 296),\n",
       " (304, 296),\n",
       " (303, 1086),\n",
       " (303, 1087)]"
      ]
     },
     "execution_count": 134,
     "metadata": {},
     "output_type": "execute_result"
    }
   ],
   "source": [
    "remove_duplicate(find_duplicate(b))"
   ]
  },
  {
   "cell_type": "code",
   "execution_count": 96,
   "metadata": {
    "collapsed": false
   },
   "outputs": [],
   "source": [
    "dup=find_duplicate(coordinate_exit)"
   ]
  },
  {
   "cell_type": "code",
   "execution_count": 97,
   "metadata": {
    "collapsed": false
   },
   "outputs": [
    {
     "data": {
      "text/plain": [
       "[]"
      ]
     },
     "execution_count": 97,
     "metadata": {},
     "output_type": "execute_result"
    }
   ],
   "source": [
    "dup"
   ]
  },
  {
   "cell_type": "code",
   "execution_count": 77,
   "metadata": {
    "collapsed": true
   },
   "outputs": [],
   "source": [
    "dupli = []"
   ]
  },
  {
   "cell_type": "code",
   "execution_count": 64,
   "metadata": {
    "collapsed": false
   },
   "outputs": [
    {
     "ename": "IndentationError",
     "evalue": "unexpected indent (<ipython-input-64-ec1974c4f162>, line 3)",
     "output_type": "error",
     "traceback": [
      "\u001b[0;36m  File \u001b[0;32m\"<ipython-input-64-ec1974c4f162>\"\u001b[0;36m, line \u001b[0;32m3\u001b[0m\n\u001b[0;31m    for i in range(len(coord_wo_dup)):\u001b[0m\n\u001b[0m    ^\u001b[0m\n\u001b[0;31mIndentationError\u001b[0m\u001b[0;31m:\u001b[0m unexpected indent\n"
     ]
    }
   ],
   "source": [
    "a = coordinate_exit[0]\n",
    "coord_wo_dup = [a]\n",
    "    for i in range(len(coord_wo_dup)):\n",
    "        for j in range(5):\n",
    "            if (a[0] != coord_wo_dup[i][0]+j or a[0] != coord_wo_dup[i][0]-j) and (a[1] != coord_wo_dup[i][1]+j or a[1] != coord_wo_dup[i][1]-j) and (a not in coord_wo_dup):\n",
    "                    coord_wo_dup.append(coord)\n",
    "                    #print(str(m) + \" : \" + str(i))"
   ]
  },
  {
   "cell_type": "code",
   "execution_count": 62,
   "metadata": {
    "collapsed": false
   },
   "outputs": [
    {
     "data": {
      "text/plain": [
       "[]"
      ]
     },
     "execution_count": 62,
     "metadata": {},
     "output_type": "execute_result"
    }
   ],
   "source": [
    "coord_wo_dup"
   ]
  },
  {
   "cell_type": "markdown",
   "metadata": {},
   "source": [
    "#### Display of all images in folder to check consistency"
   ]
  },
  {
   "cell_type": "code",
   "execution_count": 19,
   "metadata": {
    "collapsed": false
   },
   "outputs": [],
   "source": [
    "THRESHOLD: float = 0.9\n",
    "\n",
    "template1 = cv2.imread(path + path2 + 'Exit17.png', 0)\n",
    "template2 = cv2.imread(path + path2 + 'Exit16.png', 0)\n",
    "w1, h1 = template1.shape[::-1]\n",
    "w2, h2 = template2.shape[::-1]\n",
    "\n",
    "template = [template1, template2]\n",
    "w = [w1, w2]\n",
    "h = [h1, h2]\n",
    "\n",
    "coordinate = []\n",
    "for img in type1_file:\n",
    "    img_rgb = cv2.imread(path + path1 + path3 + \"/\" + img)\n",
    "    img_gray = cv2.cvtColor(img_rgb, cv2.COLOR_BGR2GRAY)\n",
    "\n",
    "    coordinate_exit = []\n",
    "    for i in range(2):\n",
    "        res = cv2.matchTemplate(img_gray, template[i], cv2.TM_CCOEFF_NORMED)\n",
    "        loc = np.where(res >= THRESHOLD)\n",
    "        for pt in zip(*loc[::-1]):\n",
    "            cv2.rectangle(\n",
    "                img_rgb, pt, (pt[0] + w[i], pt[1] + h[i]), (0, 0, 255), 2)\n",
    "            coordinate_exit.append((pt[0] + w[i], pt[1] + h[i]))\n",
    "\n",
    "        #plt.plot,plt.imshow(img_rgb,cmap = 'gray')\n",
    "        # plt.figure()\n",
    "        cv2.imwrite(path + path1 + 'Type1/res' + str(img) + '.png', img_rgb)\n",
    "    coordinate.append(coordinate_exit)"
   ]
  },
  {
   "cell_type": "code",
   "execution_count": 20,
   "metadata": {
    "collapsed": false
   },
   "outputs": [
    {
     "data": {
      "text/plain": [
       "683"
      ]
     },
     "execution_count": 20,
     "metadata": {},
     "output_type": "execute_result"
    }
   ],
   "source": [
    "len(coordinate)"
   ]
  },
  {
   "cell_type": "markdown",
   "metadata": {},
   "source": [
    "##### Second type of image with SeatGuru, ex: Qatar_Airways_Boeing_777-300ER_plane737.svg.png"
   ]
  },
  {
   "cell_type": "code",
   "execution_count": 21,
   "metadata": {
    "collapsed": true
   },
   "outputs": [],
   "source": [
    "img_rgb = cv2.imread(path + path1 + path3 +\n",
    "                     \"/Qatar_Airways_Boeing_777-300ER_plane737.svg.png\")\n",
    "img_gray = cv2.cvtColor(img_rgb, cv2.COLOR_BGR2GRAY)\n",
    "template = cv2.imread(path + path2 + 'Exit11.png', 0)\n",
    "w, h = template.shape[::-1]"
   ]
  },
  {
   "cell_type": "code",
   "execution_count": 22,
   "metadata": {
    "collapsed": false
   },
   "outputs": [
    {
     "data": {
      "text/plain": [
       "True"
      ]
     },
     "execution_count": 22,
     "metadata": {},
     "output_type": "execute_result"
    }
   ],
   "source": [
    "THRESHOLD: float = 0.7\n",
    "coordinate_exit = []\n",
    "res = cv2.matchTemplate(img_gray, template, cv2.TM_CCOEFF_NORMED)\n",
    "loc = np.where(res >= THRESHOLD)\n",
    "for pt in zip(*loc[::-1]):\n",
    "    cv2.rectangle(img_rgb, pt, (pt[0] + w, pt[1] + h), (0, 0, 255), 2)\n",
    "    coordinate_exit.append((pt[0] + w, pt[1] + h))\n",
    "\n",
    "plt.plot, plt.imshow(img_rgb, cmap='gray')\n",
    "cv2.imwrite('res.png', img_rgb)"
   ]
  },
  {
   "cell_type": "code",
   "execution_count": 23,
   "metadata": {
    "collapsed": false
   },
   "outputs": [
    {
     "data": {
      "text/plain": [
       "[(173, 190),\n",
       " (266, 190),\n",
       " (173, 191),\n",
       " (266, 191),\n",
       " (163, 471),\n",
       " (167, 471),\n",
       " (274, 471),\n",
       " (163, 884),\n",
       " (274, 884),\n",
       " (163, 1185),\n",
       " (167, 1185),\n",
       " (274, 1185),\n",
       " (274, 1492),\n",
       " (163, 1493),\n",
       " (274, 1493)]"
      ]
     },
     "execution_count": 23,
     "metadata": {},
     "output_type": "execute_result"
    }
   ],
   "source": [
    "coordinate_exit"
   ]
  },
  {
   "cell_type": "markdown",
   "metadata": {},
   "source": [
    "#### Display of all images in folder to check consistency"
   ]
  },
  {
   "cell_type": "code",
   "execution_count": 24,
   "metadata": {
    "collapsed": true
   },
   "outputs": [],
   "source": [
    "THRESHOLD: float = 0.7\n",
    "coordinate = []\n",
    "\n",
    "for img in type2_file:\n",
    "    img_rgb = cv2.imread(path + path1 + path3 +\n",
    "                         \"/Qatar_Airways_Boeing_777-300ER_plane737.svg.png\")\n",
    "    img_gray = cv2.cvtColor(img_rgb, cv2.COLOR_BGR2GRAY)\n",
    "    template = cv2.imread(path + path2 + 'Exit11.png', 0)\n",
    "    w, h = template.shape[::-1]\n",
    "\n",
    "    coordinate_exit = []\n",
    "    res = cv2.matchTemplate(img_gray, template, cv2.TM_CCOEFF_NORMED)\n",
    "    loc = np.where(res >= THRESHOLD)\n",
    "    for pt in zip(*loc[::-1]):\n",
    "        cv2.rectangle(img_rgb, pt, (pt[0] + w, pt[1] + h), (0, 0, 255), 2)\n",
    "        coordinate_exit.append((pt[0] + w, pt[1] + h))\n",
    "\n",
    "    #plt.plot,plt.imshow(img_rgb,cmap = 'gray')\n",
    "    cv2.imwrite(path + path1 + 'Type2/res' + str(img) + '.png', img_rgb)\n",
    "    coordinate.append(coordinate_exit)"
   ]
  },
  {
   "cell_type": "code",
   "execution_count": 25,
   "metadata": {
    "collapsed": false
   },
   "outputs": [
    {
     "data": {
      "text/plain": [
       "512"
      ]
     },
     "execution_count": 25,
     "metadata": {},
     "output_type": "execute_result"
    }
   ],
   "source": [
    "len(coordinate)"
   ]
  },
  {
   "cell_type": "markdown",
   "metadata": {},
   "source": [
    "Soit deux templates : Exit12 0,7 & Exit15 0,8\n",
    "// Soit un : Exit11 0,7"
   ]
  },
  {
   "cell_type": "markdown",
   "metadata": {},
   "source": [
    "### 8/01/20-9/01/19 : Postprocesing"
   ]
  },
  {
   "cell_type": "markdown",
   "metadata": {},
   "source": [
    "#### Align dots and remove duplicates"
   ]
  },
  {
   "cell_type": "code",
   "execution_count": 26,
   "metadata": {
    "collapsed": true
   },
   "outputs": [],
   "source": [
    "# align all coordinates of the pixels\n",
    "def align(liste):\n",
    "    # First two lines if the first list is a list of tuples\n",
    "    #     liste_x = [i[0] for i in liste]\n",
    "    #     liste_y = [i[1] for i in liste]\n",
    "    # Separate x and y if we have a list of numbers like [x1, y1, x2, y2, ...]\n",
    "    liste_x = [liste[i] for i in range(len(liste)) if i % 2 == 0]\n",
    "    liste_y = [liste[i] for i in range(len(liste)) if i % 2 == 1]\n",
    "\n",
    "    serie_x = pd.Series(liste_x).value_counts().sort_index()\n",
    "    serie_y = pd.Series(liste_y).value_counts().sort_index()\n",
    "\n",
    "    px_rare_x = list(serie_x.loc[serie_x <= 3].index)\n",
    "    px_nb_x = list(serie_x.loc[serie_x > 3].index)\n",
    "\n",
    "    px_rare_y = list(serie_y.loc[serie_y <= 3].index)\n",
    "    px_nb_y = list(serie_y.loc[serie_y > 3].index)\n",
    "\n",
    "    for i in range(len(liste_x)):\n",
    "        if liste_x[i] in px_rare_x:\n",
    "            liste_dist = list(abs(np.array(px_nb_x) - liste_x[i]))\n",
    "            index = liste_dist.index(min(liste_dist))\n",
    "            liste_x[i] = px_nb_x[index]\n",
    "        if liste_y[i] in px_rare_y:\n",
    "            liste_dist = list(abs(np.array(px_nb_y) - liste_y[i]))\n",
    "            index = liste_dist.index(min(liste_dist))\n",
    "            liste_y[i] = px_nb_y[index]\n",
    "\n",
    "    liste_coord = zip(liste_x, liste_y)\n",
    "    return list(liste_coord)"
   ]
  },
  {
   "cell_type": "code",
   "execution_count": 27,
   "metadata": {
    "collapsed": true
   },
   "outputs": [],
   "source": [
    "# Remove all the double detection of one object\n",
    "def remove_double_detection(liste: list):\n",
    "    serie = pd.Series(liste).value_counts()\n",
    "    tuples = serie.loc[serie > 1].index\n",
    "    for i in tuples:\n",
    "        liste.remove(i)\n",
    "    return liste"
   ]
  },
  {
   "cell_type": "code",
   "execution_count": 28,
   "metadata": {
    "collapsed": true
   },
   "outputs": [],
   "source": [
    "liste_coord = [146, 517,\n",
    "               133, 537,\n",
    "               146, 537,\n",
    "               185, 537,\n",
    "               198, 537,\n",
    "               211, 537,\n",
    "               224, 537,\n",
    "               263, 537,\n",
    "               276, 537,\n",
    "               133, 557,\n",
    "               146, 557,\n",
    "               185, 557,\n",
    "               198, 557,\n",
    "               211, 557,\n",
    "               224, 557,\n",
    "               263, 557,\n",
    "               276, 557,\n",
    "               133, 577,\n",
    "               146, 577,\n",
    "               185, 577,\n",
    "               198, 577,\n",
    "               211, 577,\n",
    "               224, 577,\n",
    "               263, 577,\n",
    "               276, 577,\n",
    "               133, 597,\n",
    "               146, 597,\n",
    "               185, 597,\n",
    "               198, 597,\n",
    "               211, 597,\n",
    "               224, 597,\n",
    "               263, 597,\n",
    "               276, 597,\n",
    "               133, 617,\n",
    "               146, 617,\n",
    "               185, 617,\n",
    "               198, 617,\n",
    "               211, 617,\n",
    "               224, 617,\n",
    "               263, 617,\n",
    "               276, 617,\n",
    "               133, 637,\n",
    "               146, 637,\n",
    "               185, 637,\n",
    "               198, 637,\n",
    "               211, 637,\n",
    "               224, 637,\n",
    "               263, 637,\n",
    "               276, 637,\n",
    "               133, 657,\n",
    "               146, 657,\n",
    "               185, 657,\n",
    "               198, 657,\n",
    "               211, 657,\n",
    "               224, 657,\n",
    "               263, 657,\n",
    "               276, 657,\n",
    "               133, 677,\n",
    "               146, 677,\n",
    "               185, 677,\n",
    "               198, 677,\n",
    "               211, 677,\n",
    "               224, 677,\n",
    "               263, 677,\n",
    "               276, 677,\n",
    "               133, 697,\n",
    "               146, 697,\n",
    "               185, 697,\n",
    "               198, 697,\n",
    "               211, 697,\n",
    "               224, 697,\n",
    "               263, 697,\n",
    "               276, 697,\n",
    "               133, 717,\n",
    "               146, 717,\n",
    "               185, 717,\n",
    "               198, 717,\n",
    "               211, 717,\n",
    "               224, 717,\n",
    "               263, 717,\n",
    "               276, 717,\n",
    "               133, 737,\n",
    "               146, 737,\n",
    "               185, 737,\n",
    "               198, 737,\n",
    "               211, 737,\n",
    "               224, 737,\n",
    "               263, 737,\n",
    "               276, 737,\n",
    "               133, 757,\n",
    "               146, 757,\n",
    "               185, 757,\n",
    "               198, 757,\n",
    "               211, 757,\n",
    "               224, 757,\n",
    "               263, 757,\n",
    "               276, 757,\n",
    "               133, 777,\n",
    "               146, 777,\n",
    "               185, 777,\n",
    "               198, 777,\n",
    "               211, 777,\n",
    "               224, 777,\n",
    "               263, 777,\n",
    "               276, 777,\n",
    "               133, 797,\n",
    "               146, 797,\n",
    "               185, 797,\n",
    "               198, 797,\n",
    "               211, 797,\n",
    "               224, 797,\n",
    "               263, 797,\n",
    "               276, 797,\n",
    "               133, 817,\n",
    "               146, 817,\n",
    "               185, 817,\n",
    "               198, 817,\n",
    "               211, 817,\n",
    "               224, 817,\n",
    "               263, 817,\n",
    "               276, 817,\n",
    "               133, 837,\n",
    "               146, 837,\n",
    "               185, 837,\n",
    "               198, 837,\n",
    "               211, 837,\n",
    "               224, 837,\n",
    "               263, 837,\n",
    "               276, 837,\n",
    "               133, 857,\n",
    "               146, 857,\n",
    "               263, 857,\n",
    "               276, 857,\n",
    "               133, 971,\n",
    "               146, 971,\n",
    "               185, 971,\n",
    "               198, 971,\n",
    "               211, 971,\n",
    "               224, 971,\n",
    "               263, 971,\n",
    "               276, 971,\n",
    "               133, 991,\n",
    "               146, 991,\n",
    "               185, 991,\n",
    "               198, 991,\n",
    "               211, 991,\n",
    "               224, 991,\n",
    "               263, 991,\n",
    "               276, 991,\n",
    "               133, 1011,\n",
    "               146, 1011,\n",
    "               185, 1011,\n",
    "               198, 1011,\n",
    "               211, 1011,\n",
    "               224, 1011,\n",
    "               263, 1011,\n",
    "               276, 1011,\n",
    "               133, 1031,\n",
    "               146, 1031,\n",
    "               185, 1031,\n",
    "               198, 1031,\n",
    "               211, 1031,\n",
    "               224, 1031,\n",
    "               263, 1031,\n",
    "               276, 1031,\n",
    "               133, 1051,\n",
    "               146, 1051,\n",
    "               185, 1051,\n",
    "               198, 1051,\n",
    "               211, 1051,\n",
    "               224, 1051,\n",
    "               263, 1051,\n",
    "               276, 1051,\n",
    "               133, 1071,\n",
    "               146, 1071,\n",
    "               185, 1071,\n",
    "               198, 1071,\n",
    "               211, 1071,\n",
    "               224, 1071,\n",
    "               263, 1071,\n",
    "               276, 1071,\n",
    "               133, 1091,\n",
    "               146, 1091,\n",
    "               185, 1091,\n",
    "               198, 1091,\n",
    "               211, 1091,\n",
    "               224, 1091,\n",
    "               263, 1091,\n",
    "               276, 1091,\n",
    "               133, 1111,\n",
    "               146, 1111,\n",
    "               185, 1111,\n",
    "               198, 1111,\n",
    "               211, 1111,\n",
    "               224, 1111,\n",
    "               263, 1111,\n",
    "               276, 1111,\n",
    "               133, 1131,\n",
    "               146, 1131,\n",
    "               185, 1131,\n",
    "               198, 1131,\n",
    "               211, 1131,\n",
    "               224, 1131,\n",
    "               263, 1131,\n",
    "               276, 1131,\n",
    "               135, 1151,\n",
    "               148, 1151,\n",
    "               261, 1151,\n",
    "               274, 1151,\n",
    "               137, 1171,\n",
    "               150, 1171,\n",
    "               191, 1171,\n",
    "               204, 1171,\n",
    "               217, 1171,\n",
    "               259, 1171,\n",
    "               272, 1171,\n",
    "               139, 1191,\n",
    "               152, 1191,\n",
    "               191, 1191,\n",
    "               204, 1191,\n",
    "               217, 1191]"
   ]
  },
  {
   "cell_type": "code",
   "execution_count": 29,
   "metadata": {
    "collapsed": false
   },
   "outputs": [],
   "source": [
    "l_test = align(liste_coord)\n",
    "#l_test = remove_double_detection(l_test)"
   ]
  },
  {
   "cell_type": "code",
   "execution_count": 30,
   "metadata": {
    "collapsed": false
   },
   "outputs": [],
   "source": [
    "x = [a for a,b in l_test]\n",
    "y = [b for a,b in l_test]"
   ]
  },
  {
   "cell_type": "markdown",
   "metadata": {},
   "source": [
    "#### Other method"
   ]
  },
  {
   "cell_type": "code",
   "execution_count": 141,
   "metadata": {
    "collapsed": true
   },
   "outputs": [],
   "source": [
    "from sklearn.model_selection import RandomizedSearchCV\n",
    "import math\n",
    "from sklearn.cluster import KMeans\n",
    "import numpy as np"
   ]
  },
  {
   "cell_type": "code",
   "execution_count": 142,
   "metadata": {
    "collapsed": false
   },
   "outputs": [],
   "source": [
    "plan = open(path + path1 +\n",
    "            \"coord-Aer_Lingus_Airbus_A330-200_plane4-BusinessSeats.txt\", \"r\")\n",
    "data = plan.read()"
   ]
  },
  {
   "cell_type": "code",
   "execution_count": 143,
   "metadata": {
    "collapsed": false
   },
   "outputs": [],
   "source": [
    "list1 = []\n",
    "list2 = []\n",
    "data_array = data.replace('\\n', ',').replace(' ', '').split(',')\n",
    "\n",
    "for i in range(0, len(data_array)-1, 2):\n",
    "    list1.append(int(data_array[i]))\n",
    "    list2.append(int(data_array[i+1]))"
   ]
  },
  {
   "cell_type": "code",
   "execution_count": 144,
   "metadata": {
    "collapsed": true
   },
   "outputs": [],
   "source": [
    "data_array.remove('')"
   ]
  },
  {
   "cell_type": "code",
   "execution_count": 145,
   "metadata": {
    "collapsed": false
   },
   "outputs": [],
   "source": [
    "data_array = [int(i) for i in data_array]"
   ]
  },
  {
   "cell_type": "code",
   "execution_count": 146,
   "metadata": {
    "collapsed": true
   },
   "outputs": [],
   "source": [
    "liste = np.array(list(zip(list1,list2)))"
   ]
  },
  {
   "cell_type": "code",
   "execution_count": 154,
   "metadata": {
    "collapsed": false
   },
   "outputs": [],
   "source": [
    "liste = list(zip(list1,list2))"
   ]
  },
  {
   "cell_type": "markdown",
   "metadata": {},
   "source": [
    "#### Duplicate"
   ]
  },
  {
   "cell_type": "code",
   "execution_count": 148,
   "metadata": {
    "collapsed": true
   },
   "outputs": [],
   "source": [
    "def find_duplicate(coordinate: list):\n",
    "    dup = []\n",
    "    for coord in coordinate:\n",
    "        for i in coordinate:\n",
    "            for j in range(5):\n",
    "                if (coord[0] == i[0]+j or coord[0] == i[0]-j or coord[0] == i[0]) and (coord[1] == i[1]+j or coord[1] == i[1]-j or coord[1] == i[1]) and (coord != i):\n",
    "                    dup.append(i)\n",
    "    return(dup)"
   ]
  },
  {
   "cell_type": "code",
   "execution_count": 157,
   "metadata": {
    "collapsed": true
   },
   "outputs": [],
   "source": [
    "def remove_duplicate(dup: list, liste_with_dup:list):\n",
    "    while dup:\n",
    "        del liste_with_dup[liste_with_dup.index(dup[0])]\n",
    "        dup = find_duplicate(liste_with_dup)\n",
    "    return(liste_with_dup)"
   ]
  },
  {
   "cell_type": "code",
   "execution_count": 162,
   "metadata": {
    "collapsed": false
   },
   "outputs": [],
   "source": [
    "liste = remove_duplicate(find_duplicate(liste), liste)"
   ]
  },
  {
   "cell_type": "code",
   "execution_count": 163,
   "metadata": {
    "collapsed": true
   },
   "outputs": [],
   "source": [
    "x = [a for a,b in liste]\n",
    "y = [b for a,b in liste]"
   ]
  },
  {
   "cell_type": "markdown",
   "metadata": {},
   "source": [
    "#### Kmeans"
   ]
  },
  {
   "cell_type": "code",
   "execution_count": 37,
   "metadata": {
    "collapsed": true
   },
   "outputs": [],
   "source": [
    "random_grid = {'max_iter': [100, 150, 200, 250, 300, 350, 400],\n",
    "               'n_clusters': [2, 3, 4, 5, 6, 7, 8, 9, 10, 11, 12, 13, 14, 15],\n",
    "               'init': ['k-means++', 'random'],\n",
    "               'precompute_distances': ['auto', True, False],\n",
    "               'algorithm': ['auto', 'full', 'elkan']}"
   ]
  },
  {
   "cell_type": "code",
   "execution_count": 38,
   "metadata": {
    "collapsed": true
   },
   "outputs": [],
   "source": [
    "km = KMeans()"
   ]
  },
  {
   "cell_type": "code",
   "execution_count": 39,
   "metadata": {
    "collapsed": false
   },
   "outputs": [
    {
     "name": "stdout",
     "output_type": "stream",
     "text": [
      "Fitting 3 folds for each of 10 candidates, totalling 30 fits\n"
     ]
    },
    {
     "name": "stderr",
     "output_type": "stream",
     "text": [
      "[Parallel(n_jobs=-1)]: Done  30 out of  30 | elapsed:    5.6s finished\n"
     ]
    },
    {
     "name": "stdout",
     "output_type": "stream",
     "text": [
      "{'precompute_distances': False, 'n_clusters': 14, 'max_iter': 350, 'init': 'random', 'algorithm': 'full'}\n"
     ]
    }
   ],
   "source": [
    "km_random = RandomizedSearchCV(\n",
    "    estimator=km, param_distributions=random_grid, n_iter=10, verbose=2, random_state=42, n_jobs=-1)\n",
    "km_random.fit(l_test)\n",
    "print(km_random.best_params_)"
   ]
  },
  {
   "cell_type": "code",
   "execution_count": 40,
   "metadata": {
    "collapsed": false
   },
   "outputs": [
    {
     "data": {
      "text/plain": [
       "array([[  198.66666667,  1011.51282051],\n",
       "       [  204.5       ,   812.55555556],\n",
       "       [  203.30612245,   585.97959184],\n",
       "       [  165.5       ,  1139.46153846],\n",
       "       [  204.5       ,   707.        ],\n",
       "       [  251.13043478,  1102.30434783]])"
      ]
     },
     "execution_count": 40,
     "metadata": {},
     "output_type": "execute_result"
    }
   ],
   "source": [
    "from sklearn.cluster import KMeans\n",
    "import numpy as np\n",
    "\n",
    "kmeans = KMeans(precompute_distances=False, n_clusters=6,\n",
    "                max_iter=350, init='random', algorithm='full').fit(l_test)\n",
    "kmeans.labels_\n",
    "\n",
    "kmeans.cluster_centers_"
   ]
  },
  {
   "cell_type": "code",
   "execution_count": 42,
   "metadata": {
    "collapsed": false
   },
   "outputs": [
    {
     "data": {
      "image/png": "[encoded data removed]",
      "text/plain": [
       "<matplotlib.figure.Figure at 0x1e6aa348908>"
      ]
     },
     "metadata": {},
     "output_type": "display_data"
    }
   ],
   "source": [
    "import matplotlib.pyplot as plt\n",
    "\n",
    "y_kmeans = kmeans.predict(l_test)\n",
    "plt.scatter(x, y, c=y_kmeans, s=50)\n",
    "\n",
    "centers = kmeans.cluster_centers_\n",
    "plt.scatter(centers[:, 0], centers[:, 1], c='black', s=200, alpha=0.5)\n",
    "plt.show()"
   ]
  },
  {
   "cell_type": "markdown",
   "metadata": {},
   "source": [
    "#### KNN"
   ]
  },
  {
   "cell_type": "code",
   "execution_count": 43,
   "metadata": {
    "collapsed": true
   },
   "outputs": [],
   "source": [
    "from sklearn.neighbors import NearestNeighbors\n",
    "import numpy as np\n",
    "\n",
    "knn = NearestNeighbors(n_neighbors=6, algorithm='ball_tree').fit(liste)\n",
    "distances, indices = knn.kneighbors(liste)"
   ]
  },
  {
   "cell_type": "code",
   "execution_count": 44,
   "metadata": {
    "collapsed": false
   },
   "outputs": [
    {
     "data": {
      "text/plain": [
       "NearestNeighbors(algorithm='ball_tree', leaf_size=30, metric='minkowski',\n",
       "         metric_params=None, n_jobs=1, n_neighbors=6, p=2, radius=1.0)"
      ]
     },
     "execution_count": 44,
     "metadata": {},
     "output_type": "execute_result"
    }
   ],
   "source": [
    "knn"
   ]
  },
  {
   "cell_type": "code",
   "execution_count": 45,
   "metadata": {
    "collapsed": false
   },
   "outputs": [
    {
     "ename": "AttributeError",
     "evalue": "'NearestNeighbors' object has no attribute 'predict'",
     "output_type": "error",
     "traceback": [
      "\u001b[0;31m---------------------------------------------------------------------------\u001b[0m",
      "\u001b[0;31mAttributeError\u001b[0m                            Traceback (most recent call last)",
      "\u001b[0;32m<ipython-input-45-cb07039a0233>\u001b[0m in \u001b[0;36m<module>\u001b[0;34m()\u001b[0m\n\u001b[0;32m----> 1\u001b[0;31m \u001b[0my_knn\u001b[0m \u001b[1;33m=\u001b[0m \u001b[0mknn\u001b[0m\u001b[1;33m.\u001b[0m\u001b[0mpredict\u001b[0m\u001b[1;33m(\u001b[0m\u001b[0mliste\u001b[0m\u001b[1;33m)\u001b[0m\u001b[1;33m\u001b[0m\u001b[0m\n\u001b[0m\u001b[1;32m      2\u001b[0m \u001b[0mplt\u001b[0m\u001b[1;33m.\u001b[0m\u001b[0mscatter\u001b[0m\u001b[1;33m(\u001b[0m\u001b[0mliste\u001b[0m\u001b[1;33m[\u001b[0m\u001b[1;33m:\u001b[0m\u001b[1;33m,\u001b[0m \u001b[1;36m0\u001b[0m\u001b[1;33m]\u001b[0m\u001b[1;33m,\u001b[0m \u001b[0mliste\u001b[0m\u001b[1;33m[\u001b[0m\u001b[1;33m:\u001b[0m\u001b[1;33m,\u001b[0m \u001b[1;36m1\u001b[0m\u001b[1;33m]\u001b[0m\u001b[1;33m,\u001b[0m \u001b[0mc\u001b[0m\u001b[1;33m=\u001b[0m\u001b[0my_knn\u001b[0m\u001b[1;33m,\u001b[0m \u001b[0ms\u001b[0m\u001b[1;33m=\u001b[0m\u001b[1;36m50\u001b[0m\u001b[1;33m)\u001b[0m\u001b[1;33m\u001b[0m\u001b[0m\n\u001b[1;32m      3\u001b[0m \u001b[1;33m\u001b[0m\u001b[0m\n\u001b[1;32m      4\u001b[0m \u001b[0mcenters\u001b[0m \u001b[1;33m=\u001b[0m \u001b[0mknn\u001b[0m\u001b[1;33m.\u001b[0m\u001b[0mcluster_centers_\u001b[0m\u001b[1;33m\u001b[0m\u001b[0m\n\u001b[1;32m      5\u001b[0m \u001b[0mplt\u001b[0m\u001b[1;33m.\u001b[0m\u001b[0mscatter\u001b[0m\u001b[1;33m(\u001b[0m\u001b[0mcenters\u001b[0m\u001b[1;33m[\u001b[0m\u001b[1;33m:\u001b[0m\u001b[1;33m,\u001b[0m \u001b[1;36m0\u001b[0m\u001b[1;33m]\u001b[0m\u001b[1;33m,\u001b[0m \u001b[0mcenters\u001b[0m\u001b[1;33m[\u001b[0m\u001b[1;33m:\u001b[0m\u001b[1;33m,\u001b[0m \u001b[1;36m1\u001b[0m\u001b[1;33m]\u001b[0m\u001b[1;33m,\u001b[0m \u001b[0mc\u001b[0m\u001b[1;33m=\u001b[0m\u001b[1;34m'black'\u001b[0m\u001b[1;33m,\u001b[0m \u001b[0ms\u001b[0m\u001b[1;33m=\u001b[0m\u001b[1;36m200\u001b[0m\u001b[1;33m,\u001b[0m \u001b[0malpha\u001b[0m\u001b[1;33m=\u001b[0m\u001b[1;36m0.5\u001b[0m\u001b[1;33m)\u001b[0m\u001b[1;33m\u001b[0m\u001b[0m\n",
      "\u001b[0;31mAttributeError\u001b[0m: 'NearestNeighbors' object has no attribute 'predict'"
     ]
    }
   ],
   "source": [
    "y_knn = knn.predict(liste)\n",
    "plt.scatter(liste[:, 0], liste[:, 1], c=y_knn, s=50)\n",
    "\n",
    "centers = knn.cluster_centers_\n",
    "plt.scatter(centers[:, 0], centers[:, 1], c='black', s=200, alpha=0.5)"
   ]
  },
  {
   "cell_type": "code",
   "execution_count": 46,
   "metadata": {
    "collapsed": false
   },
   "outputs": [],
   "source": [
    "random_grid = {'n_neighbors': [2, 3, 4, 5, 6, 7, 8, 9, 10, 11, 12, 13, 14, 15],\n",
    "               'weights': ['uniform', 'distance'],\n",
    "               'metric': ['euclidean', 'minkowski'],\n",
    "               'algorithm': ['auto', 'ball_tree', 'kd_tree', 'brute']}"
   ]
  },
  {
   "cell_type": "markdown",
   "metadata": {},
   "source": [
    "### CAH"
   ]
  },
  {
   "cell_type": "code",
   "execution_count": 47,
   "metadata": {
    "collapsed": true
   },
   "outputs": [],
   "source": [
    "from matplotlib import pyplot as plt\n",
    "from scipy.cluster.hierarchy import dendrogram, linkage\n",
    "import scipy.cluster.hierarchy as sch"
   ]
  },
  {
   "cell_type": "code",
   "execution_count": 48,
   "metadata": {
    "collapsed": true
   },
   "outputs": [],
   "source": [
    "# generate link matrix\n",
    "Z = linkage(l_test, method='ward', metric='euclidean')"
   ]
  },
  {
   "cell_type": "code",
   "execution_count": 49,
   "metadata": {
    "collapsed": false
   },
   "outputs": [
    {
     "data": {
      "image/png": "[encoded data removed]",
      "text/plain": [
       "<matplotlib.figure.Figure at 0x1e6aa703240>"
      ]
     },
     "metadata": {},
     "output_type": "display_data"
    },
    {
     "name": "stdout",
     "output_type": "stream",
     "text": [
      "7 groupes constitués\n",
      "[5, 5, 5, 5, 5, 5, 5, 5, 5, 5, 5, 5, 5, 5, 5, 5, 5, 5, 5, 5, 5, 5, 5, 5, 5, 5, 5, 5, 5, 5, 5, 5, 5, 5, 5, 6, 6, 6, 6, 6, 6, 5, 5, 6, 6, 6, 6, 6, 6, 5, 5, 6, 6, 6, 6, 6, 6, 7, 7, 6, 6, 6, 6, 6, 6, 7, 7, 7, 7, 7, 7, 7, 7, 7, 7, 7, 7, 7, 7, 7, 7, 7, 7, 7, 7, 7, 7, 7, 7, 4, 4, 7, 7, 7, 7, 7, 7, 4, 4, 4, 4, 4, 4, 4, 4, 4, 4, 4, 4, 4, 4, 4, 4, 4, 4, 4, 4, 4, 4, 4, 4, 4, 4, 4, 4, 4, 4, 4, 4, 4, 4, 4, 4, 1, 1, 1, 1, 1, 1, 1, 1, 1, 1, 1, 1, 1, 1, 1, 1, 1, 1, 1, 1, 1, 1, 1, 1, 1, 1, 1, 1, 1, 1, 1, 1, 3, 3, 3, 3, 3, 3, 2, 2, 3, 3, 3, 3, 3, 3, 2, 2, 3, 3, 3, 3, 3, 3, 2, 2, 3, 3, 3, 3, 3, 3, 2, 2, 3, 3, 3, 3, 3, 3, 2, 2, 3, 3, 2, 2, 3, 3, 3, 3, 3, 2, 2, 3, 3, 3, 3, 3]\n"
     ]
    }
   ],
   "source": [
    "# génération et affichage du dendrogramme\n",
    "plt.figure(figsize=(20, 12))\n",
    "plt.title(\"CAH\")\n",
    "dendrogram(Z, labels=l_test, no_labels=True, color_threshold=400)\n",
    "plt.show()\n",
    "groupes_cah = sch.fcluster(Z, t=400, criterion='distance')\n",
    "print(np.unique(groupes_cah).size, \"groupes constitués\")\n",
    "groupe = list(groupes_cah)\n",
    "print(groupe)"
   ]
  },
  {
   "cell_type": "code",
   "execution_count": 50,
   "metadata": {
    "collapsed": false
   },
   "outputs": [
    {
     "data": {
      "image/png": "[encoded data removed]",
      "text/plain": [
       "<matplotlib.figure.Figure at 0x1e6aac8d978>"
      ]
     },
     "metadata": {},
     "output_type": "display_data"
    }
   ],
   "source": [
    "plt.scatter(x, y, c=groupes_cah)\n",
    "plt.show()"
   ]
  },
  {
   "cell_type": "code",
   "execution_count": 51,
   "metadata": {
    "collapsed": false
   },
   "outputs": [
    {
     "data": {
      "text/plain": [
       "array([5, 5, 5, 5, 5, 5, 5, 5, 5, 5, 5, 5, 5, 5, 5, 5, 5, 5, 5, 5, 5, 5, 5,\n",
       "       5, 5, 5, 5, 5, 5, 5, 5, 5, 5, 5, 5, 6, 6, 6, 6, 6, 6, 5, 5, 6, 6, 6,\n",
       "       6, 6, 6, 5, 5, 6, 6, 6, 6, 6, 6, 7, 7, 6, 6, 6, 6, 6, 6, 7, 7, 7, 7,\n",
       "       7, 7, 7, 7, 7, 7, 7, 7, 7, 7, 7, 7, 7, 7, 7, 7, 7, 7, 7, 7, 4, 4, 7,\n",
       "       7, 7, 7, 7, 7, 4, 4, 4, 4, 4, 4, 4, 4, 4, 4, 4, 4, 4, 4, 4, 4, 4, 4,\n",
       "       4, 4, 4, 4, 4, 4, 4, 4, 4, 4, 4, 4, 4, 4, 4, 4, 4, 4, 1, 1, 1, 1, 1,\n",
       "       1, 1, 1, 1, 1, 1, 1, 1, 1, 1, 1, 1, 1, 1, 1, 1, 1, 1, 1, 1, 1, 1, 1,\n",
       "       1, 1, 1, 1, 3, 3, 3, 3, 3, 3, 2, 2, 3, 3, 3, 3, 3, 3, 2, 2, 3, 3, 3,\n",
       "       3, 3, 3, 2, 2, 3, 3, 3, 3, 3, 3, 2, 2, 3, 3, 3, 3, 3, 3, 2, 2, 3, 3,\n",
       "       2, 2, 3, 3, 3, 3, 3, 2, 2, 3, 3, 3, 3, 3], dtype=int32)"
      ]
     },
     "execution_count": 51,
     "metadata": {},
     "output_type": "execute_result"
    }
   ],
   "source": [
    "groupes_cah = sch.fcluster(Z, t=400, criterion='distance')\n",
    "groupes_cah"
   ]
  },
  {
   "cell_type": "markdown",
   "metadata": {
    "collapsed": true
   },
   "source": [
    "#### DBScan"
   ]
  },
  {
   "cell_type": "code",
   "execution_count": 165,
   "metadata": {
    "collapsed": true
   },
   "outputs": [],
   "source": [
    "import sklearn\n",
    "from sklearn.cluster import DBSCAN"
   ]
  },
  {
   "cell_type": "code",
   "execution_count": 168,
   "metadata": {
    "collapsed": false,
    "scrolled": true
   },
   "outputs": [
    {
     "data": {
      "image/png": "[encoded data removed]",
      "text/plain": [
       "<matplotlib.figure.Figure at 0x1d0d6c299b0>"
      ]
     },
     "metadata": {},
     "output_type": "display_data"
    }
   ],
   "source": [
    "dbscan = DBSCAN(eps=38, min_samples=3).fit(liste)\n",
    "plt.scatter(x, y, c=dbscan.labels_.astype(float), s=50, alpha=0.5)\n",
    "\n",
    "\n",
    "plt.show()\n",
    "# cv2.imwrite('res.png',img_rgb)"
   ]
  },
  {
   "cell_type": "markdown",
   "metadata": {
    "collapsed": true
   },
   "source": [
    "## Post-Processing OK"
   ]
  },
  {
   "cell_type": "code",
   "execution_count": 4,
   "metadata": {
    "collapsed": true
   },
   "outputs": [],
   "source": [
    "from pipeline import Pipeline, Process, Postprocess, Preprocess\n",
    "import numpy as np\n",
    "import pandas as pd\n",
    "from os import listdir\n",
    "from os.path import isfile, join\n",
    "import csv\n",
    "import cv2\n",
    "from matplotlib import pyplot as plt\n",
    "from sklearn.model_selection import RandomizedSearchCV\n",
    "import math\n",
    "from sklearn.cluster import KMeans\n",
    "import sklearn\n",
    "from sklearn.cluster import DBSCAN\n",
    "from matplotlib import patches"
   ]
  },
  {
   "cell_type": "code",
   "execution_count": 5,
   "metadata": {
    "collapsed": true
   },
   "outputs": [],
   "source": [
    "path = \"C:/Users/ng85ffc/Desktop/\"\n",
    "path1 = \"Data/\"\n",
    "path2 = \"ProjetInterpromo2020g8/images/\"\n",
    "path3 = \"LAYOUT SEATGURU\""
   ]
  },
  {
   "cell_type": "markdown",
   "metadata": {},
   "source": [
    "### Data extraction and formatting"
   ]
  },
  {
   "cell_type": "code",
   "execution_count": 6,
   "metadata": {
    "collapsed": false
   },
   "outputs": [],
   "source": [
    "plan = open(path + path1 +\n",
    "            \"coord_Aer_Lingus_Airbus_A330-200_plane4.jpg.txt\", \"r\")\n",
    "data = plan.read()"
   ]
  },
  {
   "cell_type": "code",
   "execution_count": 7,
   "metadata": {
    "collapsed": false
   },
   "outputs": [],
   "source": [
    "x = []\n",
    "y = []\n",
    "data = data.replace('\\n', ',').replace(' ', '').split(',')\n",
    "data.remove('')"
   ]
  },
  {
   "cell_type": "code",
   "execution_count": 8,
   "metadata": {
    "collapsed": false
   },
   "outputs": [],
   "source": [
    "line_head = []\n",
    "for line in range(len(data)):\n",
    "    if data[line][len(data[line])-3:len(data[line])] == \"jpg\" or data[line][len(data[line])-3:len(data[line])] == \"png\":\n",
    "        line_head.append(line)"
   ]
  },
  {
   "cell_type": "code",
   "execution_count": 9,
   "metadata": {
    "collapsed": false
   },
   "outputs": [
    {
     "data": {
      "text/plain": [
       "[0, 119, 242, 243, 244, 245, 246, 247, 826]"
      ]
     },
     "execution_count": 9,
     "metadata": {},
     "output_type": "execute_result"
    }
   ],
   "source": [
    "line_head"
   ]
  },
  {
   "cell_type": "code",
   "execution_count": 10,
   "metadata": {
    "collapsed": true
   },
   "outputs": [],
   "source": [
    "for i in reversed(line_head):\n",
    "    del data[i]"
   ]
  },
  {
   "cell_type": "code",
   "execution_count": 11,
   "metadata": {
    "collapsed": false
   },
   "outputs": [],
   "source": [
    "data = [int(i) for i in data]\n",
    "\n",
    "for i in range(0, len(data)-1, 2):\n",
    "    x.append(int(data[i]))\n",
    "    y.append(int(data[i+1]))\n",
    "\n",
    "list_test = list(zip(x,y))\n",
    "array_test = np.array(list(zip(x,y)))"
   ]
  },
  {
   "cell_type": "code",
   "execution_count": 12,
   "metadata": {
    "collapsed": false
   },
   "outputs": [
    {
     "data": {
      "text/plain": [
       "[(133, 285),\n",
       " (134, 285),\n",
       " (176, 285),\n",
       " (203, 285),\n",
       " (262, 285),\n",
       " (133, 286),\n",
       " (134, 286),\n",
       " (176, 286),\n",
       " (177, 286),\n",
       " (202, 286),\n",
       " (203, 286),\n",
       " (261, 286),\n",
       " (262, 286),\n",
       " (202, 318),\n",
       " (253, 318),\n",
       " (201, 319),\n",
       " (202, 319),\n",
       " (253, 319),\n",
       " (254, 319),\n",
       " (201, 320),\n",
       " (202, 320),\n",
       " (253, 320),\n",
       " (254, 320),\n",
       " (176, 351),\n",
       " (203, 351),\n",
       " (133, 352),\n",
       " (134, 352),\n",
       " (176, 352),\n",
       " (177, 352),\n",
       " (202, 352),\n",
       " (203, 352),\n",
       " (261, 352),\n",
       " (262, 352),\n",
       " (133, 353),\n",
       " (134, 353),\n",
       " (176, 353),\n",
       " (203, 353),\n",
       " (235, 353),\n",
       " (261, 353),\n",
       " (262, 353),\n",
       " (202, 384),\n",
       " (201, 385),\n",
       " (202, 385),\n",
       " (253, 386),\n",
       " (254, 386),\n",
       " (253, 387),\n",
       " (254, 387),\n",
       " (176, 416),\n",
       " (202, 416),\n",
       " (203, 416),\n",
       " (176, 417),\n",
       " (202, 417),\n",
       " (203, 417),\n",
       " (262, 419),\n",
       " (133, 420),\n",
       " (134, 420),\n",
       " (261, 420),\n",
       " (262, 420),\n",
       " (262, 421),\n",
       " (185, 285),\n",
       " (244, 285),\n",
       " (184, 286),\n",
       " (185, 286),\n",
       " (186, 286),\n",
       " (243, 286),\n",
       " (244, 286),\n",
       " (245, 286),\n",
       " (184, 318),\n",
       " (211, 318),\n",
       " (262, 318),\n",
       " (134, 319),\n",
       " (135, 319),\n",
       " (184, 319),\n",
       " (185, 319),\n",
       " (210, 319),\n",
       " (211, 319),\n",
       " (262, 319),\n",
       " (263, 319),\n",
       " (134, 320),\n",
       " (135, 320),\n",
       " (184, 320),\n",
       " (185, 320),\n",
       " (210, 320),\n",
       " (211, 320),\n",
       " (262, 320),\n",
       " (263, 320),\n",
       " (185, 351),\n",
       " (184, 352),\n",
       " (185, 352),\n",
       " (186, 352),\n",
       " (212, 352),\n",
       " (244, 352),\n",
       " (185, 353),\n",
       " (243, 353),\n",
       " (244, 353),\n",
       " (245, 353),\n",
       " (244, 354),\n",
       " (184, 384),\n",
       " (185, 384),\n",
       " (211, 384),\n",
       " (184, 385),\n",
       " (185, 385),\n",
       " (210, 385),\n",
       " (211, 385),\n",
       " (212, 385),\n",
       " (134, 386),\n",
       " (135, 386),\n",
       " (262, 386),\n",
       " (263, 386),\n",
       " (134, 387),\n",
       " (135, 387),\n",
       " (262, 387),\n",
       " (263, 387),\n",
       " (185, 416),\n",
       " (185, 417),\n",
       " (244, 419),\n",
       " (243, 420),\n",
       " (244, 420),\n",
       " (245, 420),\n",
       " (244, 421),\n",
       " (136, 319),\n",
       " (186, 319),\n",
       " (187, 351),\n",
       " (136, 386),\n",
       " (187, 416),\n",
       " (246, 420),\n",
       " (146, 517),\n",
       " (133, 536),\n",
       " (185, 536),\n",
       " (198, 536),\n",
       " (211, 536),\n",
       " (263, 536),\n",
       " (133, 537),\n",
       " (146, 537),\n",
       " (185, 537),\n",
       " (198, 537),\n",
       " (211, 537),\n",
       " (224, 537),\n",
       " (263, 537),\n",
       " (276, 537),\n",
       " (133, 556),\n",
       " (185, 556),\n",
       " (198, 556),\n",
       " (211, 556),\n",
       " (263, 556),\n",
       " (133, 557),\n",
       " (146, 557),\n",
       " (185, 557),\n",
       " (198, 557),\n",
       " (211, 557),\n",
       " (224, 557),\n",
       " (263, 557),\n",
       " (276, 557),\n",
       " (133, 576),\n",
       " (198, 576),\n",
       " (211, 576),\n",
       " (263, 576),\n",
       " (133, 577),\n",
       " (146, 577),\n",
       " (185, 577),\n",
       " (198, 577),\n",
       " (211, 577),\n",
       " (224, 577),\n",
       " (263, 577),\n",
       " (276, 577),\n",
       " (198, 596),\n",
       " (211, 596),\n",
       " (263, 596),\n",
       " (133, 597),\n",
       " (146, 597),\n",
       " (185, 597),\n",
       " (198, 597),\n",
       " (211, 597),\n",
       " (224, 597),\n",
       " (263, 597),\n",
       " (276, 597),\n",
       " (133, 616),\n",
       " (198, 616),\n",
       " (211, 616),\n",
       " (263, 616),\n",
       " (133, 617),\n",
       " (146, 617),\n",
       " (185, 617),\n",
       " (198, 617),\n",
       " (211, 617),\n",
       " (224, 617),\n",
       " (263, 617),\n",
       " (276, 617),\n",
       " (133, 636),\n",
       " (198, 636),\n",
       " (211, 636),\n",
       " (263, 636),\n",
       " (133, 637),\n",
       " (146, 637),\n",
       " (185, 637),\n",
       " (198, 637),\n",
       " (211, 637),\n",
       " (224, 637),\n",
       " (263, 637),\n",
       " (276, 637),\n",
       " (133, 656),\n",
       " (198, 656),\n",
       " (211, 656),\n",
       " (263, 656),\n",
       " (133, 657),\n",
       " (146, 657),\n",
       " (185, 657),\n",
       " (198, 657),\n",
       " (211, 657),\n",
       " (224, 657),\n",
       " (263, 657),\n",
       " (276, 657),\n",
       " (133, 676),\n",
       " (198, 676),\n",
       " (211, 676),\n",
       " (263, 676),\n",
       " (133, 677),\n",
       " (146, 677),\n",
       " (185, 677),\n",
       " (198, 677),\n",
       " (211, 677),\n",
       " (224, 677),\n",
       " (263, 677),\n",
       " (276, 677),\n",
       " (133, 696),\n",
       " (198, 696),\n",
       " (211, 696),\n",
       " (263, 696),\n",
       " (133, 697),\n",
       " (146, 697),\n",
       " (185, 697),\n",
       " (198, 697),\n",
       " (211, 697),\n",
       " (224, 697),\n",
       " (263, 697),\n",
       " (276, 697),\n",
       " (133, 716),\n",
       " (198, 716),\n",
       " (211, 716),\n",
       " (263, 716),\n",
       " (133, 717),\n",
       " (146, 717),\n",
       " (185, 717),\n",
       " (198, 717),\n",
       " (211, 717),\n",
       " (224, 717),\n",
       " (263, 717),\n",
       " (276, 717),\n",
       " (133, 736),\n",
       " (198, 736),\n",
       " (211, 736),\n",
       " (263, 736),\n",
       " (133, 737),\n",
       " (146, 737),\n",
       " (185, 737),\n",
       " (198, 737),\n",
       " (211, 737),\n",
       " (224, 737),\n",
       " (263, 737),\n",
       " (276, 737),\n",
       " (133, 756),\n",
       " (198, 756),\n",
       " (211, 756),\n",
       " (263, 756),\n",
       " (133, 757),\n",
       " (146, 757),\n",
       " (185, 757),\n",
       " (198, 757),\n",
       " (211, 757),\n",
       " (224, 757),\n",
       " (263, 757),\n",
       " (276, 757),\n",
       " (133, 776),\n",
       " (198, 776),\n",
       " (211, 776),\n",
       " (263, 776),\n",
       " (133, 777),\n",
       " (146, 777),\n",
       " (185, 777),\n",
       " (198, 777),\n",
       " (211, 777),\n",
       " (224, 777),\n",
       " (263, 777),\n",
       " (276, 777),\n",
       " (133, 796),\n",
       " (198, 796),\n",
       " (211, 796),\n",
       " (263, 796),\n",
       " (133, 797),\n",
       " (146, 797),\n",
       " (185, 797),\n",
       " (198, 797),\n",
       " (211, 797),\n",
       " (224, 797),\n",
       " (263, 797),\n",
       " (276, 797),\n",
       " (198, 816),\n",
       " (211, 816),\n",
       " (133, 817),\n",
       " (146, 817),\n",
       " (185, 817),\n",
       " (198, 817),\n",
       " (211, 817),\n",
       " (224, 817),\n",
       " (263, 817),\n",
       " (276, 817),\n",
       " (133, 837),\n",
       " (146, 837),\n",
       " (185, 837),\n",
       " (198, 837),\n",
       " (211, 837),\n",
       " (224, 837),\n",
       " (263, 837),\n",
       " (276, 837),\n",
       " (133, 857),\n",
       " (146, 857),\n",
       " (263, 857),\n",
       " (276, 857),\n",
       " (220, 920),\n",
       " (198, 970),\n",
       " (211, 970),\n",
       " (133, 971),\n",
       " (146, 971),\n",
       " (185, 971),\n",
       " (198, 971),\n",
       " (211, 971),\n",
       " (224, 971),\n",
       " (263, 971),\n",
       " (276, 971),\n",
       " (133, 991),\n",
       " (146, 991),\n",
       " (185, 991),\n",
       " (198, 991),\n",
       " (211, 991),\n",
       " (224, 991),\n",
       " (263, 991),\n",
       " (276, 991),\n",
       " (133, 1011),\n",
       " (146, 1011),\n",
       " (185, 1011),\n",
       " (198, 1011),\n",
       " (211, 1011),\n",
       " (224, 1011),\n",
       " (263, 1011),\n",
       " (276, 1011),\n",
       " (133, 1031),\n",
       " (146, 1031),\n",
       " (185, 1031),\n",
       " (198, 1031),\n",
       " (211, 1031),\n",
       " (224, 1031),\n",
       " (263, 1031),\n",
       " (276, 1031),\n",
       " (133, 1051),\n",
       " (146, 1051),\n",
       " (185, 1051),\n",
       " (198, 1051),\n",
       " (211, 1051),\n",
       " (224, 1051),\n",
       " (263, 1051),\n",
       " (276, 1051),\n",
       " (133, 1071),\n",
       " (146, 1071),\n",
       " (185, 1071),\n",
       " (198, 1071),\n",
       " (211, 1071),\n",
       " (224, 1071),\n",
       " (263, 1071),\n",
       " (276, 1071),\n",
       " (133, 1091),\n",
       " (146, 1091),\n",
       " (185, 1091),\n",
       " (198, 1091),\n",
       " (211, 1091),\n",
       " (224, 1091),\n",
       " (263, 1091),\n",
       " (276, 1091),\n",
       " (133, 1111),\n",
       " (146, 1111),\n",
       " (185, 1111),\n",
       " (198, 1111),\n",
       " (211, 1111),\n",
       " (224, 1111),\n",
       " (263, 1111),\n",
       " (276, 1111),\n",
       " (133, 1131),\n",
       " (146, 1131),\n",
       " (185, 1131),\n",
       " (198, 1131),\n",
       " (211, 1131),\n",
       " (224, 1131),\n",
       " (263, 1131),\n",
       " (276, 1131),\n",
       " (135, 1151),\n",
       " (148, 1151),\n",
       " (261, 1151),\n",
       " (274, 1151),\n",
       " (137, 1171),\n",
       " (150, 1171),\n",
       " (191, 1171),\n",
       " (204, 1171),\n",
       " (217, 1171),\n",
       " (259, 1171),\n",
       " (272, 1171),\n",
       " (139, 1191),\n",
       " (152, 1191),\n",
       " (191, 1191),\n",
       " (204, 1191),\n",
       " (217, 1191)]"
      ]
     },
     "execution_count": 12,
     "metadata": {},
     "output_type": "execute_result"
    }
   ],
   "source": [
    "list_test"
   ]
  },
  {
   "cell_type": "markdown",
   "metadata": {},
   "source": [
    "### Remove duplicate"
   ]
  },
  {
   "cell_type": "code",
   "execution_count": 13,
   "metadata": {
    "collapsed": true
   },
   "outputs": [],
   "source": [
    "def remove_duplicate(coordinate: list):\n",
    "    \"\"\"Documentation\n",
    "    Parameters:\n",
    "        coordinate: original coordinates without treatment\n",
    "    Out:\n",
    "        dup: list of coordinate which are duplicated\n",
    "    \"\"\"\n",
    "    dup = []\n",
    "    for point1 in coordinate:\n",
    "        for point2 in coordinate:\n",
    "            if point2 != point1 and point1 not in dup:\n",
    "                if ((abs(point1[0] - point2[0]) <= 5) and (abs(point1[1] - point2[1]) <= 5)):\n",
    "                    dup.append(point2)\n",
    "    for d in dup:\n",
    "        coordinate.remove(d)\n",
    "    return(coordinate)"
   ]
  },
  {
   "cell_type": "raw",
   "metadata": {
    "collapsed": true
   },
   "source": [
    "def find_duplicate(coordinate: list):\n",
    "    \"\"\"Documentation\n",
    "    Parameters:\n",
    "        coordinate: original coordinates without treatment \n",
    "    Out:\n",
    "        dup: list of coordinate which are duplicated\n",
    "    \"\"\"\n",
    "    dup = []\n",
    "    for coord in coordinate:\n",
    "        for i in coordinate:\n",
    "            for j in range(5):\n",
    "                if (coord[0] == i[0]+j or coord[0] == i[0]-j or coord[0] == i[0]) and (coord[1] == i[1]+j or coord[1] == i[1]-j or coord[1] == i[1]) and (coord != i):\n",
    "                    dup.append(i)\n",
    "    return(dup)"
   ]
  },
  {
   "cell_type": "raw",
   "metadata": {
    "collapsed": true
   },
   "source": [
    "def remove_duplicate(dup: list, liste_with_dup: list):\n",
    "    \"\"\"Documentation\n",
    "    Parameters:\n",
    "        dup: t of coordinate which are duplicated\n",
    "        liste_with_dup: original coordinates without treatment\n",
    "    Out:\n",
    "        liste_with_dup: list of coordinate whithout duplication\n",
    "    \"\"\"\n",
    "    while dup:\n",
    "        del liste_with_dup[liste_with_dup.index(dup[0])]\n",
    "        dup = find_duplicate(liste_with_dup)\n",
    "    return(liste_with_dup)"
   ]
  },
  {
   "cell_type": "code",
   "execution_count": 14,
   "metadata": {
    "collapsed": false
   },
   "outputs": [],
   "source": [
    "#list_wo_dup = remove_duplicate(find_duplicate(list_test), list_test)\n",
    "list_wo_dup = remove_duplicate(list_test)"
   ]
  },
  {
   "cell_type": "code",
   "execution_count": 16,
   "metadata": {
    "collapsed": false
   },
   "outputs": [],
   "source": [
    "x_wo_dup = [a for a,b in list_wo_dup]\n",
    "y_wo_dup = [b for a,b in list_wo_dup]\n",
    "array_wo_dup = np.array(list(zip(x_wo_dup,y_wo_dup)))"
   ]
  },
  {
   "cell_type": "markdown",
   "metadata": {},
   "source": [
    "### Find cluster with DBScan"
   ]
  },
  {
   "cell_type": "code",
   "execution_count": 17,
   "metadata": {
    "collapsed": false
   },
   "outputs": [
    {
     "data": {
      "image/png": "[encoded data removed]",
      "text/plain": [
       "<matplotlib.figure.Figure at 0x194c7effe10>"
      ]
     },
     "metadata": {},
     "output_type": "display_data"
    }
   ],
   "source": [
    "dbscan = DBSCAN(eps=31, min_samples=3).fit(list_wo_dup)\n",
    "plt.scatter(x_wo_dup, y_wo_dup, c=dbscan.labels_.astype(float), s=50, alpha=0.5)\n",
    "plt.show()"
   ]
  },
  {
   "cell_type": "markdown",
   "metadata": {},
   "source": [
    "### Draw cluster on template"
   ]
  },
  {
   "cell_type": "code",
   "execution_count": 18,
   "metadata": {
    "collapsed": true
   },
   "outputs": [],
   "source": [
    "def clusters_to_rect(dbscan: sklearn.cluster.dbscan_.DBSCAN, array_wo_dup: np.array):\n",
    "    \"\"\"Documentation\n",
    "    Parameters:\n",
    "        dbscan: result of the clustering with DBSCAN\n",
    "    Out:\n",
    "        list_rect: list of rectangles representing each cluster\n",
    "    \"\"\"\n",
    "    list_coord = array_wo_dup\n",
    "    label_groups = pd.Series(dbscan.labels_).unique()\n",
    "    list_rect = []  # to plot with plt.patches\n",
    "    list_rect2 = []  # all corners of the rectangles\n",
    "    HEIGHT: int = 19\n",
    "    WIDTH: int = 13\n",
    "    for group in label_groups:\n",
    "        index = [i for i, x in enumerate(list(dbscan.labels_)) if x == group]\n",
    "        points_cluster = list_coord[index]\n",
    "        corner_bottom_right = (max(i[0] for i in points_cluster) + WIDTH, min(\n",
    "            i[1] for i in points_cluster) - HEIGHT)\n",
    "        corner_top_right = (max(i[0] for i in points_cluster) + WIDTH, max(\n",
    "            i[1] for i in points_cluster))\n",
    "        corner_top_left = (min(i[0] for i in points_cluster), max(\n",
    "            i[1] for i in points_cluster))\n",
    "        corner_bottom_left = (min(i[0] for i in points_cluster), min(\n",
    "            i[1] for i in points_cluster) - HEIGHT)\n",
    "        height = corner_top_right[1] - corner_bottom_right[1]\n",
    "        width = corner_bottom_right[0] - corner_bottom_left[0]\n",
    "        list_rect.append(((corner_bottom_left), width, height))\n",
    "        list_rect2.append(\n",
    "            (corner_bottom_left, corner_top_left, corner_top_right, corner_bottom_right))\n",
    "    return list_rect, list_rect2"
   ]
  },
  {
   "cell_type": "code",
   "execution_count": 19,
   "metadata": {
    "collapsed": false,
    "scrolled": false
   },
   "outputs": [],
   "source": [
    "r, r2 = clusters_to_rect(dbscan, array_wo_dup)"
   ]
  },
  {
   "cell_type": "code",
   "execution_count": 20,
   "metadata": {
    "collapsed": false
   },
   "outputs": [
    {
     "data": {
      "image/png": "[encoded data removed]",
      "text/plain": [
       "<matplotlib.figure.Figure at 0x194c7feba20>"
      ]
     },
     "metadata": {},
     "output_type": "display_data"
    }
   ],
   "source": [
    "fig1 = plt.figure()\n",
    "ax1 = fig1.add_subplot(111, aspect='equal')\n",
    "for rect in r:\n",
    "    ax1.add_patch(\n",
    "        patches.Rectangle(rect[0], rect[1], rect[2]))\n",
    "\n",
    "x_coord = [i[0][0] for i in r]\n",
    "y_coord = [i[0][1] for i in r]\n",
    "# plt.xlim(min(x_coord)-10,max(x_coord)+r[x_coord.index(max(x_coord))][1]+10)\n",
    "plt.ylim(min(y_coord)-10,max(y_coord)+r[y_coord.index(max(y_coord))][2]+10)\n",
    "plt.xlim(0,500)\n",
    "\n",
    "plt.show()"
   ]
  },
  {
   "cell_type": "code",
   "execution_count": null,
   "metadata": {
    "collapsed": true
   },
   "outputs": [],
   "source": []
  },
  {
   "cell_type": "code",
   "execution_count": null,
   "metadata": {
    "collapsed": true
   },
   "outputs": [],
   "source": []
  }
 ],
 "metadata": {
  "kernelspec": {
   "display_name": "Python 3",
   "language": "python",
   "name": "python3"
  },
  "language_info": {
   "codemirror_mode": {
    "name": "ipython",
    "version": 3
   },
   "file_extension": ".py",
   "mimetype": "text/x-python",
   "name": "python",
   "nbconvert_exporter": "python",
   "pygments_lexer": "ipython3",
   "version": "3.6.0"
  },
  "pycharm": {
   "stem_cell": {
    "cell_type": "raw",
    "metadata": {
     "collapsed": false
    },
    "source": []
   }
  }
 },
 "nbformat": 4,
 "nbformat_minor": 1
}
