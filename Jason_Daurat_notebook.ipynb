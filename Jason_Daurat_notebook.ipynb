{
 "cells": [
  {
   "cell_type": "code",
   "execution_count": 1,
   "metadata": {
    "pycharm": {
     "is_executing": false
    }
   },
   "outputs": [],
   "source": [
    "from pipeline import Pipeline, Process, Postprocess, Preprocess\n",
    "import numpy as np\n",
    "import pandas as pd\n",
    "import os\n",
    "import cv2\n",
    "import matplotlib.pyplot as plt\n",
    "import matplotlib.patches as patches"
   ]
  },
  {
   "cell_type": "code",
   "execution_count": 2,
   "metadata": {},
   "outputs": [],
   "source": [
    "class MyPreProcess(Preprocess):\n",
    "    process_desc = \"Exemple de pre-process -> ne fait rien\"\n",
    "    def run(self, images):\n",
    "        pass\n",
    "\n",
    "\n",
    "class MyProcess(Process):\n",
    "    process_desc = \"Exemple de process -> ne fait rien\"\n",
    "    def run(self, images):\n",
    "        pass\n",
    "    \n",
    "    \n",
    "class MyPostProcess(Postprocess):\n",
    "    process_desc = \"Exemple de post-process -> ne fait rien\"\n",
    "    def run(self, images):\n",
    "        pass"
   ]
  },
  {
   "cell_type": "code",
   "execution_count": 3,
   "metadata": {},
   "outputs": [
    {
     "name": "stdout",
     "output_type": "stream",
     "text": [
      "Preprocess :  Exemple de pre-process -> ne fait rien\n",
      "Process :  Exemple de process -> ne fait rien\n",
      "Postprocess :  Exemple de post-process -> ne fait rien\n",
      "Exemple de pre-process -> ne fait rien a été ajouté.\n",
      "Exemple de process -> ne fait rien a été ajouté.\n",
      "Exemple de post-process -> ne fait rien a été ajouté.\n",
      "Exemple de pre-process -> ne fait rien a été ajouté.\n"
     ]
    }
   ],
   "source": [
    "pipeline = Pipeline()\n",
    "process_array = np.array([MyPreProcess()\n",
    "                          ,MyProcess()\n",
    "                          ,MyPostProcess()\n",
    "                          ,MyPreProcess(verbose=0)])\n",
    "pipeline.add_processes(process_array)"
   ]
  },
  {
   "cell_type": "code",
   "execution_count": 4,
   "metadata": {},
   "outputs": [
    {
     "name": "stdout",
     "output_type": "stream",
     "text": [
      "Exemple de pre-process -> ne fait rien\n",
      "Exemple de pre-process -> ne fait rien\n",
      "Exemple de process -> ne fait rien\n",
      "Exemple de post-process -> ne fait rien\n"
     ]
    }
   ],
   "source": [
    "pipeline.print_process()"
   ]
  },
  {
   "cell_type": "code",
   "execution_count": 5,
   "metadata": {},
   "outputs": [],
   "source": [
    "data = pd.read_csv('./../data/SEATGURU_INFO_AIRCRAFT.csv', sep = ';')\n",
    "data.index = range(2, len(data) + 2)"
   ]
  },
  {
   "cell_type": "code",
   "execution_count": 6,
   "metadata": {},
   "outputs": [
    {
     "data": {
      "text/html": [
       "<div>\n",
       "<style scoped>\n",
       "    .dataframe tbody tr th:only-of-type {\n",
       "        vertical-align: middle;\n",
       "    }\n",
       "\n",
       "    .dataframe tbody tr th {\n",
       "        vertical-align: top;\n",
       "    }\n",
       "\n",
       "    .dataframe thead th {\n",
       "        text-align: right;\n",
       "    }\n",
       "</style>\n",
       "<table border=\"1\" class=\"dataframe\">\n",
       "  <thead>\n",
       "    <tr style=\"text-align: right;\">\n",
       "      <th></th>\n",
       "      <th>Data_Source</th>\n",
       "      <th>Airline_name</th>\n",
       "      <th>Aircraft_Type</th>\n",
       "      <th>Category</th>\n",
       "      <th>Flight_Type</th>\n",
       "      <th>Count</th>\n",
       "      <th>Total_seat</th>\n",
       "      <th>Seat_Class</th>\n",
       "      <th>Seat_Type</th>\n",
       "      <th>Seat_Position</th>\n",
       "      <th>...</th>\n",
       "      <th>Width</th>\n",
       "      <th>Bedlength_maximum</th>\n",
       "      <th>Bedlength_minimum</th>\n",
       "      <th>Music</th>\n",
       "      <th>VideoType</th>\n",
       "      <th>Power_available</th>\n",
       "      <th>Power_kind</th>\n",
       "      <th>Usb_available</th>\n",
       "      <th>Usb_kind</th>\n",
       "      <th>Rating</th>\n",
       "    </tr>\n",
       "  </thead>\n",
       "  <tbody>\n",
       "    <tr>\n",
       "      <th>2</th>\n",
       "      <td>SeatGuru</td>\n",
       "      <td>aegean-airlines</td>\n",
       "      <td>Airbus A319-100</td>\n",
       "      <td>ECONOMY</td>\n",
       "      <td>short haul</td>\n",
       "      <td>138</td>\n",
       "      <td>138</td>\n",
       "      <td>Economy</td>\n",
       "      <td>STANDARD</td>\n",
       "      <td>BULKHEAD</td>\n",
       "      <td>...</td>\n",
       "      <td>18.0</td>\n",
       "      <td>NaN</td>\n",
       "      <td>NaN</td>\n",
       "      <td>NONE</td>\n",
       "      <td>NONE</td>\n",
       "      <td>NONE</td>\n",
       "      <td>NaN</td>\n",
       "      <td>NONE</td>\n",
       "      <td>NaN</td>\n",
       "      <td>2</td>\n",
       "    </tr>\n",
       "    <tr>\n",
       "      <th>3</th>\n",
       "      <td>SeatGuru</td>\n",
       "      <td>aegean-airlines</td>\n",
       "      <td>Airbus A319-100</td>\n",
       "      <td>ECONOMY</td>\n",
       "      <td>short haul</td>\n",
       "      <td>138</td>\n",
       "      <td>138</td>\n",
       "      <td>Economy</td>\n",
       "      <td>STANDARD</td>\n",
       "      <td>NORMAL</td>\n",
       "      <td>...</td>\n",
       "      <td>18.0</td>\n",
       "      <td>NaN</td>\n",
       "      <td>NaN</td>\n",
       "      <td>NONE</td>\n",
       "      <td>NONE</td>\n",
       "      <td>NONE</td>\n",
       "      <td>NaN</td>\n",
       "      <td>NONE</td>\n",
       "      <td>NaN</td>\n",
       "      <td>2</td>\n",
       "    </tr>\n",
       "    <tr>\n",
       "      <th>4</th>\n",
       "      <td>SeatGuru</td>\n",
       "      <td>aegean-airlines</td>\n",
       "      <td>Airbus A319-100</td>\n",
       "      <td>ECONOMY</td>\n",
       "      <td>short haul</td>\n",
       "      <td>138</td>\n",
       "      <td>138</td>\n",
       "      <td>Economy</td>\n",
       "      <td>STANDARD</td>\n",
       "      <td>EXIT_ROW</td>\n",
       "      <td>...</td>\n",
       "      <td>18.0</td>\n",
       "      <td>NaN</td>\n",
       "      <td>NaN</td>\n",
       "      <td>NONE</td>\n",
       "      <td>NONE</td>\n",
       "      <td>NONE</td>\n",
       "      <td>NaN</td>\n",
       "      <td>NONE</td>\n",
       "      <td>NaN</td>\n",
       "      <td>5</td>\n",
       "    </tr>\n",
       "    <tr>\n",
       "      <th>5</th>\n",
       "      <td>SeatGuru</td>\n",
       "      <td>aegean-airlines</td>\n",
       "      <td>Airbus A319-100</td>\n",
       "      <td>ECONOMY</td>\n",
       "      <td>short haul</td>\n",
       "      <td>138</td>\n",
       "      <td>138</td>\n",
       "      <td>Economy</td>\n",
       "      <td>STANDARD</td>\n",
       "      <td>NORMAL</td>\n",
       "      <td>...</td>\n",
       "      <td>18.0</td>\n",
       "      <td>NaN</td>\n",
       "      <td>NaN</td>\n",
       "      <td>NONE</td>\n",
       "      <td>NONE</td>\n",
       "      <td>NONE</td>\n",
       "      <td>NaN</td>\n",
       "      <td>NONE</td>\n",
       "      <td>NaN</td>\n",
       "      <td>3</td>\n",
       "    </tr>\n",
       "    <tr>\n",
       "      <th>6</th>\n",
       "      <td>SeatGuru</td>\n",
       "      <td>aegean-airlines</td>\n",
       "      <td>Airbus A319-100</td>\n",
       "      <td>ECONOMY</td>\n",
       "      <td>short haul</td>\n",
       "      <td>138</td>\n",
       "      <td>138</td>\n",
       "      <td>Economy</td>\n",
       "      <td>STANDARD</td>\n",
       "      <td>NORMAL</td>\n",
       "      <td>...</td>\n",
       "      <td>18.0</td>\n",
       "      <td>NaN</td>\n",
       "      <td>NaN</td>\n",
       "      <td>NONE</td>\n",
       "      <td>NONE</td>\n",
       "      <td>NONE</td>\n",
       "      <td>NaN</td>\n",
       "      <td>NONE</td>\n",
       "      <td>NaN</td>\n",
       "      <td>1</td>\n",
       "    </tr>\n",
       "  </tbody>\n",
       "</table>\n",
       "<p>5 rows × 24 columns</p>\n",
       "</div>"
      ],
      "text/plain": [
       "  Data_Source     Airline_name    Aircraft_Type Category Flight_Type  Count  \\\n",
       "2    SeatGuru  aegean-airlines  Airbus A319-100  ECONOMY  short haul    138   \n",
       "3    SeatGuru  aegean-airlines  Airbus A319-100  ECONOMY  short haul    138   \n",
       "4    SeatGuru  aegean-airlines  Airbus A319-100  ECONOMY  short haul    138   \n",
       "5    SeatGuru  aegean-airlines  Airbus A319-100  ECONOMY  short haul    138   \n",
       "6    SeatGuru  aegean-airlines  Airbus A319-100  ECONOMY  short haul    138   \n",
       "\n",
       "   Total_seat Seat_Class Seat_Type Seat_Position  ...   Width  \\\n",
       "2         138    Economy  STANDARD      BULKHEAD  ...    18.0   \n",
       "3         138    Economy  STANDARD        NORMAL  ...    18.0   \n",
       "4         138    Economy  STANDARD      EXIT_ROW  ...    18.0   \n",
       "5         138    Economy  STANDARD        NORMAL  ...    18.0   \n",
       "6         138    Economy  STANDARD        NORMAL  ...    18.0   \n",
       "\n",
       "  Bedlength_maximum  Bedlength_minimum  Music VideoType  Power_available  \\\n",
       "2               NaN                NaN   NONE      NONE             NONE   \n",
       "3               NaN                NaN   NONE      NONE             NONE   \n",
       "4               NaN                NaN   NONE      NONE             NONE   \n",
       "5               NaN                NaN   NONE      NONE             NONE   \n",
       "6               NaN                NaN   NONE      NONE             NONE   \n",
       "\n",
       "   Power_kind Usb_available Usb_kind Rating  \n",
       "2         NaN          NONE      NaN      2  \n",
       "3         NaN          NONE      NaN      2  \n",
       "4         NaN          NONE      NaN      5  \n",
       "5         NaN          NONE      NaN      3  \n",
       "6         NaN          NONE      NaN      1  \n",
       "\n",
       "[5 rows x 24 columns]"
      ]
     },
     "execution_count": 6,
     "metadata": {},
     "output_type": "execute_result"
    }
   ],
   "source": [
    "data.head()"
   ]
  },
  {
   "cell_type": "code",
   "execution_count": 7,
   "metadata": {},
   "outputs": [
    {
     "data": {
      "text/plain": [
       "Index(['Data_Source', 'Airline_name', 'Aircraft_Type', 'Category',\n",
       "       'Flight_Type', 'Count', 'Total_seat', 'Seat_Class', 'Seat_Type',\n",
       "       'Seat_Position', 'Recline', 'Premium', 'Pitch_minimum', 'Pitch_maximum',\n",
       "       'Width', 'Bedlength_maximum', 'Bedlength_minimum', 'Music', 'VideoType',\n",
       "       'Power_available', 'Power_kind', 'Usb_available', 'Usb_kind', 'Rating'],\n",
       "      dtype='object')"
      ]
     },
     "execution_count": 7,
     "metadata": {},
     "output_type": "execute_result"
    }
   ],
   "source": [
    "data.columns"
   ]
  },
  {
   "cell_type": "markdown",
   "metadata": {},
   "source": [
    "### Création CSV avec les images et les lignes correspondantes"
   ]
  },
  {
   "cell_type": "code",
   "execution_count": 8,
   "metadata": {},
   "outputs": [],
   "source": [
    "data['airline_aircraft'] = data.apply(lambda x: x['Airline_name'].replace('-', '_') + '_' + x['Aircraft_Type'].replace(' ', '_'), axis = 'columns')\n",
    "liste_image = os.listdir('./../data/LAYOUT SEATGURU/')\n",
    "l_result = []\n",
    "for i in liste_image:\n",
    "    for j in data['airline_aircraft'].unique():\n",
    "        if j.lower() in i.lower():\n",
    "            l_result.append((i, j))\n",
    "\n",
    "new_df = pd.DataFrame(list(zip([i[0] for i in l_result], [i[1] for i in l_result])), columns =['image', 'avion'])"
   ]
  },
  {
   "cell_type": "code",
   "execution_count": 9,
   "metadata": {},
   "outputs": [],
   "source": [
    "df_temp = new_df[['avion', 'image']]"
   ]
  },
  {
   "cell_type": "code",
   "execution_count": 10,
   "metadata": {},
   "outputs": [],
   "source": [
    "df_temp = pd.DataFrame([list(data.groupby('airline_aircraft').groups.keys()), [list(i) for i in list(data.groupby('airline_aircraft').groups.values())]], index = ['avion', 'lignes']).T"
   ]
  },
  {
   "cell_type": "code",
   "execution_count": 11,
   "metadata": {},
   "outputs": [],
   "source": [
    "df_temp = df_temp.sort_values('lignes').reset_index(drop = True)"
   ]
  },
  {
   "cell_type": "code",
   "execution_count": 12,
   "metadata": {},
   "outputs": [],
   "source": [
    "new_df = new_df.merge(df_temp, how='outer', on='avion').dropna()"
   ]
  },
  {
   "cell_type": "code",
   "execution_count": 13,
   "metadata": {},
   "outputs": [],
   "source": [
    "new_df.drop('avion', axis = 'columns', inplace = True)"
   ]
  },
  {
   "cell_type": "code",
   "execution_count": 14,
   "metadata": {},
   "outputs": [
    {
     "data": {
      "text/html": [
       "<div>\n",
       "<style scoped>\n",
       "    .dataframe tbody tr th:only-of-type {\n",
       "        vertical-align: middle;\n",
       "    }\n",
       "\n",
       "    .dataframe tbody tr th {\n",
       "        vertical-align: top;\n",
       "    }\n",
       "\n",
       "    .dataframe thead th {\n",
       "        text-align: right;\n",
       "    }\n",
       "</style>\n",
       "<table border=\"1\" class=\"dataframe\">\n",
       "  <thead>\n",
       "    <tr style=\"text-align: right;\">\n",
       "      <th></th>\n",
       "      <th>image</th>\n",
       "      <th>lignes</th>\n",
       "    </tr>\n",
       "  </thead>\n",
       "  <tbody>\n",
       "    <tr>\n",
       "      <th>0</th>\n",
       "      <td>Aegean_Airlines_Airbus_A319-100_plane1.svg.png</td>\n",
       "      <td>[2, 3, 4, 5, 6]</td>\n",
       "    </tr>\n",
       "    <tr>\n",
       "      <th>1</th>\n",
       "      <td>Aegean_Airlines_Airbus_A320-200_plane2.svg.png</td>\n",
       "      <td>[7, 8, 9, 10, 11, 12]</td>\n",
       "    </tr>\n",
       "    <tr>\n",
       "      <th>2</th>\n",
       "      <td>Aegean_Airlines_Airbus_A321-200_plane1.svg.png</td>\n",
       "      <td>[13, 14, 15, 16, 17, 18, 19]</td>\n",
       "    </tr>\n",
       "    <tr>\n",
       "      <th>3</th>\n",
       "      <td>Aegean_Airlines_Airbus_A321-200_plane3.svg.png</td>\n",
       "      <td>[13, 14, 15, 16, 17, 18, 19]</td>\n",
       "    </tr>\n",
       "    <tr>\n",
       "      <th>4</th>\n",
       "      <td>Aegean_Airlines_ATR_42-600_plane2.svg.png</td>\n",
       "      <td>[20, 21, 22, 23, 24]</td>\n",
       "    </tr>\n",
       "  </tbody>\n",
       "</table>\n",
       "</div>"
      ],
      "text/plain": [
       "                                            image  \\\n",
       "0  Aegean_Airlines_Airbus_A319-100_plane1.svg.png   \n",
       "1  Aegean_Airlines_Airbus_A320-200_plane2.svg.png   \n",
       "2  Aegean_Airlines_Airbus_A321-200_plane1.svg.png   \n",
       "3  Aegean_Airlines_Airbus_A321-200_plane3.svg.png   \n",
       "4       Aegean_Airlines_ATR_42-600_plane2.svg.png   \n",
       "\n",
       "                         lignes  \n",
       "0               [2, 3, 4, 5, 6]  \n",
       "1         [7, 8, 9, 10, 11, 12]  \n",
       "2  [13, 14, 15, 16, 17, 18, 19]  \n",
       "3  [13, 14, 15, 16, 17, 18, 19]  \n",
       "4          [20, 21, 22, 23, 24]  "
      ]
     },
     "execution_count": 14,
     "metadata": {},
     "output_type": "execute_result"
    }
   ],
   "source": [
    "new_df.head()"
   ]
  },
  {
   "cell_type": "code",
   "execution_count": null,
   "metadata": {},
   "outputs": [],
   "source": [
    "# new_df.to_csv('./../data/Image_lignes.csv', sep = ';')"
   ]
  },
  {
   "cell_type": "markdown",
   "metadata": {},
   "source": [
    "### Template Matching"
   ]
  },
  {
   "cell_type": "code",
   "execution_count": null,
   "metadata": {},
   "outputs": [],
   "source": [
    "path = './../data/LAYOUT SEATGURU/'\n",
    "df = pd.DataFrame({'img': os.listdir('./../data/LAYOUT SEATGURU/'), 'chemin': [path + img_name for img_name in os.listdir('./../data/LAYOUT SEATGURU/')]})"
   ]
  },
  {
   "cell_type": "code",
   "execution_count": null,
   "metadata": {},
   "outputs": [],
   "source": [
    "df.head(10)"
   ]
  },
  {
   "cell_type": "code",
   "execution_count": null,
   "metadata": {},
   "outputs": [],
   "source": [
    "df[df['img'] == 'Qatar_Airways_Boeing_777-300ER_plane737.svg.png']"
   ]
  },
  {
   "cell_type": "code",
   "execution_count": null,
   "metadata": {},
   "outputs": [],
   "source": [
    "df['chemin'][8]"
   ]
  },
  {
   "cell_type": "code",
   "execution_count": null,
   "metadata": {},
   "outputs": [],
   "source": [
    "img = plt.imread(df['chemin'][8])\n",
    "figure = plt.figure(figsize = (10, 15))\n",
    "plt.imshow(img)"
   ]
  },
  {
   "cell_type": "code",
   "execution_count": null,
   "metadata": {
    "scrolled": true
   },
   "outputs": [],
   "source": [
    "# Read the main image \n",
    "img_rgb = cv2.imread('./../data/LAYOUT SEATGURU/Qatar_Airways_Boeing_777-300ER_plane737.svg.png')\n",
    "  \n",
    "# Convert it to grayscale \n",
    "img_gray = cv2.cvtColor(img_rgb, cv2.COLOR_BGR2GRAY)\n",
    "  \n",
    "# Read the template\n",
    "template = cv2.imread('./images/temp_normal_seat.jpg', 0)    # Restaurant\n",
    "# template = cv2.imread('./images/temp_normal_seat.jpg', 0)    # Siège\n",
    "\n",
    "# Store width and height of template in w and h \n",
    "w, h = template.shape[::-1]\n",
    "  \n",
    "# Perform match operations. \n",
    "res = cv2.matchTemplate(img_gray,template,cv2.TM_CCOEFF_NORMED)\n",
    "  \n",
    "# Specify a threshold \n",
    "threshold = 0.35\n",
    "  \n",
    "# Store the coordinates of matched area in a numpy array \n",
    "loc = np.where( res >= threshold)\n",
    "  \n",
    "# Draw a rectangle around the matched region. \n",
    "for pt in zip(*loc[::-1]): \n",
    "    cv2.rectangle(img_rgb, pt, (pt[0] + w, pt[1] + h), (0,255,255), 2)\n",
    "    print('oui')\n",
    "\n",
    "# Show the final image with the matched area. \n",
    "cv2.imshow('Detected', img_rgb)\n",
    "cv2.waitKey(0)"
   ]
  },
  {
   "cell_type": "code",
   "execution_count": null,
   "metadata": {},
   "outputs": [],
   "source": [
    "img_rgb = cv2.imread('./../data/LAYOUT SEATGURU/Aeroflot_Russian_Airlines_Airbus_330_200_plane3.jpg')\n",
    "img_gray = cv2.cvtColor(img_rgb, cv2.COLOR_BGR2GRAY)\n",
    "template = cv2.imread('./images/templateTest.jpg', 0)\n",
    "w, h = template.shape[::-1]\n",
    "\n",
    "cv2.imshow('template', template)\n",
    "cv2.waitKey(0)\n",
    "\n",
    "res = cv2.matchTemplate(img_gray,template,cv2.TM_CCORR_NORMED)\n",
    "threshold = 0.8\n",
    "loc = np.where( res >= threshold)\n",
    "for pt in zip(*loc[::-1]):\n",
    "    cv2.rectangle(img_rgb, pt, (pt[0] + w, pt[1] + h), (0,0,255), 2)\n",
    "    print('i')\n",
    "\n",
    "cv2.imwrite('res.png',img_rgb)\n",
    "cv2.imshow('img_rgb', img_rgb)\n",
    "cv2.waitKey(0)"
   ]
  },
  {
   "cell_type": "markdown",
   "metadata": {},
   "source": [
    "### Multiple Scale Template Matching"
   ]
  },
  {
   "cell_type": "code",
   "execution_count": null,
   "metadata": {},
   "outputs": [],
   "source": [
    "import numpy as np\n",
    "import argparse\n",
    "import imutils\n",
    "import glob\n",
    "import cv2"
   ]
  },
  {
   "cell_type": "code",
   "execution_count": null,
   "metadata": {},
   "outputs": [],
   "source": [
    "image_debut = './../data/LAYOUT SEATGURU/Aeroflot_Russian_Airlines_Airbus_330_200_plane3.jpg'\n",
    "template_base = './images/templateBusinessElectricity.jpg'"
   ]
  },
  {
   "cell_type": "code",
   "execution_count": null,
   "metadata": {},
   "outputs": [],
   "source": [
    "# Python program to illustrate  \n",
    "# multiscaling in template matching \n",
    "import cv2 \n",
    "import numpy as np \n",
    "   \n",
    "# Read the main image \n",
    "img_rgb = cv2.imread(image_debut) \n",
    "   \n",
    "# Convert to grayscale \n",
    "img_gray = cv2.cvtColor(img_rgb, cv2.COLOR_BGR2GRAY) \n",
    "   \n",
    "# Read the template \n",
    "template = cv2.imread(template_base, 0) \n",
    "   \n",
    "# Store width and height of template in w and h \n",
    "w, h = template.shape[::-1] \n",
    "found = None\n",
    "  \n",
    "for scale in np.linspace(0.2, 1.0, 20)[::-1]: \n",
    "  \n",
    "    # resize the image according to the scale, and keep track \n",
    "    # of the ratio of the resizing \n",
    "    resized = imutils.resize(img_gray, width = int(img_gray.shape[1] * scale)) \n",
    "    r = img_gray.shape[1] / float(resized.shape[1]) \n",
    "   \n",
    "    # if the resized image is smaller than the template, then break \n",
    "    # from the loop \n",
    "    # detect edges in the resized, grayscale image and apply template  \n",
    "    # matching to find the template in the image edged  \n",
    "    # = cv2.Canny(resized, 50, 200) result = cv2.matchTemplate(edged, template, \n",
    "    # cv2.TM_CCOEFF) (_, maxVal, _, maxLoc) = cv2.minMaxLoc(result) \n",
    "    # if we have found a new maximum correlation value, then update \n",
    "    # the found variable if found is None or maxVal > found[0]: \n",
    "    if resized.shape[0] < h or resized.shape[1] < w: \n",
    "            break\n",
    "    found = (maxVal, maxLoc, r) \n",
    "\n",
    "# unpack the found varaible and compute the (x, y) coordinates \n",
    "# of the bounding box based on the resized ratio \n",
    "(_, maxLoc, r) = found \n",
    "(startX, startY) = (int(maxLoc[0] * r), int(maxLoc[1] * r)) \n",
    "(endX, endY) = (int((maxLoc[0] + tW) * r), int((maxLoc[1] + tH) * r)) \n",
    "  \n",
    "# draw a bounding box around the detected result and display the image \n",
    "cv2.rectangle(image, (startX, startY), (endX, endY), (0, 0, 255), 2) \n",
    "cv2.imshow(\"Image\", image)\n",
    "cv2.waitKey(0)"
   ]
  },
  {
   "cell_type": "code",
   "execution_count": null,
   "metadata": {},
   "outputs": [],
   "source": [
    "# This Python 3 environment comes with many helpful analytics libraries installed\n",
    "# It is defined by the kaggle/python docker image: https://github.com/kaggle/docker-python\n",
    "# For example, here's several helpful packages to load in \n",
    "\n",
    "import numpy as np # linear algebra\n",
    "import pandas as pd # data processing, CSV file I/O (e.g. pd.read_csv)\n",
    "\n",
    "# Input data files are available in the \"../input/\" directory.\n",
    "# For example, running this (by clicking run or pressing Shift+Enter) will list the files in the input directory\n",
    "\n",
    "import os\n",
    "# print(os.listdir(\"../input\"))\n",
    "\n",
    "# Any results you write to the current directory are saved as output.\n",
    "\n",
    "import pandas as pd\n",
    "import numpy as np\n",
    "import matplotlib.pyplot as plt\n",
    "import matplotlib.image as mpimg\n",
    "import seaborn as sns\n",
    "%matplotlib inline\n",
    "\n",
    "np.random.seed(2)\n",
    "\n",
    "from sklearn.model_selection import train_test_split\n",
    "from sklearn.metrics import confusion_matrix\n",
    "import itertools\n",
    "\n",
    "from keras.utils.np_utils import to_categorical # convert to one-hot-encoding\n",
    "from keras.models import Sequential\n",
    "from keras.layers import Dense, Dropout, Flatten, Conv2D, MaxPool2D\n",
    "from keras.optimizers import RMSprop\n",
    "from keras.preprocessing.image import ImageDataGenerator\n",
    "from keras.callbacks import ReduceLROnPlateau\n",
    "\n",
    "\n",
    "sns.set(style='white', context='notebook', palette='deep')\n",
    "\n",
    "# Load the data\n",
    "train = pd.read_csv(\"../input/train.csv\")\n",
    "test = pd.read_csv(\"../input/test.csv\")\n",
    "\n",
    "Y_train = train[\"label\"]\n",
    "\n",
    "# Drop 'label' column\n",
    "X_train = train.drop(labels = [\"label\"],axis = 1) \n",
    "\n",
    "# free some space\n",
    "del train \n",
    "\n",
    "g = sns.countplot(Y_train)\n",
    "\n",
    "Y_train.value_counts()\n",
    "\n",
    "# Normalize the data\n",
    "X_train = X_train / 255.0\n",
    "test = test / 255.0\n",
    "\n",
    "# Reshape image in 3 dimensions (height = 28px, width = 28px , canal = 1)\n",
    "X_train = X_train.values.reshape(-1,28,28,1)\n",
    "test = test.values.reshape(-1,28,28,1)\n",
    "\n",
    "# Encode labels to one hot vectors (ex : 2 -> [0,0,1,0,0,0,0,0,0,0])\n",
    "Y_train = to_categorical(Y_train, num_classes = 10)\n",
    "\n",
    "# Set the random seed\n",
    "random_seed = 2\n",
    "\n",
    "# Split the train and the validation set for the fitting\n",
    "X_train, X_val, Y_train, Y_val = train_test_split(X_train, Y_train, test_size = 0.1, random_state=random_seed)\n",
    "\n",
    "# Set the CNN model \n",
    "# my CNN architechture is In -> [[Conv2D->relu]*2 -> MaxPool2D -> Dropout]*2 -> Flatten -> Dense -> Dropout -> Out\n",
    "\n",
    "model = Sequential()\n",
    "\n",
    "model.add(Conv2D(filters = 32, kernel_size = (5,5),padding = 'Same', \n",
    "                 activation ='relu', input_shape = (28,28,1)))\n",
    "model.add(Conv2D(filters = 32, kernel_size = (5,5),padding = 'Same', \n",
    "                 activation ='relu'))\n",
    "model.add(MaxPool2D(pool_size=(2,2)))\n",
    "\n",
    "\n",
    "model.add(Conv2D(filters = 64, kernel_size = (3,3),padding = 'Same', \n",
    "                 activation ='relu'))\n",
    "model.add(Conv2D(filters = 64, kernel_size = (3,3),padding = 'Same', \n",
    "                 activation ='relu'))\n",
    "model.add(MaxPool2D(pool_size=(2,2), strides=(2,2)))\n",
    "\n",
    "\n",
    "model.add(Flatten())\n",
    "model.add(Dense(256, activation = \"relu\"))\n",
    "model.add(Dropout(0.5))\n",
    "model.add(Dense(10, activation = \"softmax\"))\n",
    "\n",
    "# Define the optimizer\n",
    "optimizer = RMSprop(lr=0.001, rho=0.9, epsilon=1e-08, decay=0.0)\n",
    "\n",
    "# Compile the model\n",
    "model.compile(optimizer = optimizer , loss = \"categorical_crossentropy\", metrics=[\"accuracy\"])\n",
    "\n",
    "# Set a learning rate annealer\n",
    "learning_rate_reduction = ReduceLROnPlateau(monitor='val_acc', \n",
    "                                            patience=3, \n",
    "                                            verbose=1, \n",
    "                                            factor=0.5, \n",
    "                                            min_lr=0.00001)\n",
    "                                            \n",
    "epochs = 1 # Turn epochs to 30 to get 0.9967 accuracy\n",
    "batch_size = 86\n",
    "\n",
    "# With data augmentation to prevent overfitting (accuracy 0.99286)\n",
    "\n",
    "# datagen = ImageDataGenerator(\n",
    "#         featurewise_center=False,  # set input mean to 0 over the dataset\n",
    "#         samplewise_center=False,  # set each sample mean to 0\n",
    "#         featurewise_std_normalization=False,  # divide inputs by std of the dataset\n",
    "#         samplewise_std_normalization=False,  # divide each input by its std\n",
    "#         zca_whitening=False,  # apply ZCA whitening\n",
    "#         rotation_range=10,  # randomly rotate images in the range (degrees, 0 to 180)\n",
    "#         zoom_range = 0.1, # Randomly zoom image \n",
    "#         width_shift_range=0.1,  # randomly shift images horizontally (fraction of total width)\n",
    "#         height_shift_range=0.1,  # randomly shift images vertically (fraction of total height)\n",
    "#         horizontal_flip=False,  # randomly flip images\n",
    "#         vertical_flip=False)  # randomly flip images\n",
    "\n",
    "\n",
    "# datagen.fit(X_train)\n",
    "\n",
    "# Fit the model\n",
    "# history = model.fit_generator(datagen.flow(X_train,Y_train, batch_size=batch_size),\n",
    "#                               epochs = epochs, validation_data = (X_val,Y_val),\n",
    "#                               verbose = 2, steps_per_epoch=X_train.shape[0] // batch_size\n",
    "#                               , callbacks=[learning_rate_reduction])\n",
    "                              \n",
    "# Plot the loss and accuracy curves for training and validation \n",
    "fig, ax = plt.subplots(2,1)\n",
    "ax[0].plot(history.history['loss'], color='b', label=\"Training loss\")\n",
    "ax[0].plot(history.history['val_loss'], color='r', label=\"validation loss\",axes =ax[0])\n",
    "legend = ax[0].legend(loc='best', shadow=True)\n",
    "\n",
    "ax[1].plot(history.history['acc'], color='b', label=\"Training accuracy\")\n",
    "ax[1].plot(history.history['val_acc'], color='r',label=\"Validation accuracy\")\n",
    "legend = ax[1].legend(loc='best', shadow=True)"
   ]
  },
  {
   "cell_type": "markdown",
   "metadata": {},
   "source": [
    "### Post Process"
   ]
  },
  {
   "cell_type": "markdown",
   "metadata": {},
   "source": [
    "#### Aligner les points et supprimer les doublons"
   ]
  },
  {
   "cell_type": "code",
   "execution_count": 28,
   "metadata": {},
   "outputs": [],
   "source": [
    "from pipeline import Pipeline, Process, Postprocess, Preprocess\n",
    "import numpy as np\n",
    "import pandas as pd\n",
    "import os\n",
    "import cv2\n",
    "import matplotlib.pyplot as plt\n",
    "import matplotlib.patches as patches\n",
    "import sklearn\n",
    "from sklearn.cluster import DBSCAN"
   ]
  },
  {
   "cell_type": "code",
   "execution_count": 29,
   "metadata": {},
   "outputs": [
    {
     "data": {
      "text/html": [
       "<div>\n",
       "<style scoped>\n",
       "    .dataframe tbody tr th:only-of-type {\n",
       "        vertical-align: middle;\n",
       "    }\n",
       "\n",
       "    .dataframe tbody tr th {\n",
       "        vertical-align: top;\n",
       "    }\n",
       "\n",
       "    .dataframe thead th {\n",
       "        text-align: right;\n",
       "    }\n",
       "</style>\n",
       "<table border=\"1\" class=\"dataframe\">\n",
       "  <thead>\n",
       "    <tr style=\"text-align: right;\">\n",
       "      <th></th>\n",
       "      <th>image</th>\n",
       "      <th>lignes</th>\n",
       "    </tr>\n",
       "  </thead>\n",
       "  <tbody>\n",
       "    <tr>\n",
       "      <th>40</th>\n",
       "      <td>Aer_Lingus_Airbus_A330-200_plane4.jpg</td>\n",
       "      <td>[248, 249, 250, 251, 252, 253, 254, 255, 256, ...</td>\n",
       "    </tr>\n",
       "  </tbody>\n",
       "</table>\n",
       "</div>"
      ],
      "text/plain": [
       "                                    image  \\\n",
       "40  Aer_Lingus_Airbus_A330-200_plane4.jpg   \n",
       "\n",
       "                                               lignes  \n",
       "40  [248, 249, 250, 251, 252, 253, 254, 255, 256, ...  "
      ]
     },
     "execution_count": 29,
     "metadata": {},
     "output_type": "execute_result"
    }
   ],
   "source": [
    "new_df[new_df['image'] == 'Aer_Lingus_Airbus_A330-200_plane4.jpg']"
   ]
  },
  {
   "cell_type": "code",
   "execution_count": 30,
   "metadata": {},
   "outputs": [],
   "source": [
    "# align all coordinates of the pixels\n",
    "def align(liste):\n",
    "    # First two lines if the first list is a list of tuples\n",
    "#     liste_x = [i[0] for i in liste]\n",
    "#     liste_y = [i[1] for i in liste]\n",
    "    # Separate x and y if we have a list of numbers like [x1, y1, x2, y2, ...]\n",
    "    liste_x = [liste[i] for i in range(len(liste)) if i % 2 == 0]\n",
    "    liste_y = [liste[i] for i in range(len(liste)) if i % 2 == 1]\n",
    "    \n",
    "    serie_x = pd.Series(liste_x).value_counts().sort_index()\n",
    "    serie_y = pd.Series(liste_y).value_counts().sort_index()\n",
    "    \n",
    "    px_rare_x = list(serie_x.loc[serie_x <= 3].index)\n",
    "    px_nb_x = list(serie_x.loc[serie_x > 3].index)\n",
    "    \n",
    "    px_rare_y = list(serie_y.loc[serie_y <= 3].index)\n",
    "    px_nb_y = list(serie_y.loc[serie_y > 3].index)\n",
    "    \n",
    "    for i in range(len(liste_x)):\n",
    "        if liste_x[i] in px_rare_x:\n",
    "            liste_dist = list(abs(np.array(px_nb_x) - liste_x[i]))\n",
    "            index = liste_dist.index(min(liste_dist))\n",
    "            liste_x[i] = px_nb_x[index]\n",
    "        if liste_y[i] in px_rare_y:\n",
    "            liste_dist = list(abs(np.array(px_nb_y) - liste_y[i]))\n",
    "            index = liste_dist.index(min(liste_dist))\n",
    "            liste_y[i] = px_nb_y[index]\n",
    "    \n",
    "    liste_coord = zip(liste_x, liste_y)\n",
    "    return list(liste_coord)"
   ]
  },
  {
   "cell_type": "code",
   "execution_count": 31,
   "metadata": {},
   "outputs": [],
   "source": [
    "# def find_duplicate(coordinate: list):\n",
    "#     \"\"\"Documentation\n",
    "#     Parameters:\n",
    "#         coordinate: original coordinates without treatment\n",
    "#     Out:\n",
    "#         dup: list of coordinate which are duplicated\n",
    "#     \"\"\"\n",
    "#     dup = []\n",
    "#     for coord in coordinate:\n",
    "#         for i in coordinate:\n",
    "#             for j in range(5):\n",
    "#                 if (coord[0] == i[0]+j or coord[0] == i[0]-j or coord[0] == i[0]) and (coord[1] == i[1]+j or coord[1] == i[1]-j or coord[1] == i[1]) and (coord != i):\n",
    "#                     dup.append(i)\n",
    "#     return(dup)"
   ]
  },
  {
   "cell_type": "code",
   "execution_count": 322,
   "metadata": {},
   "outputs": [],
   "source": [
    "def find_duplicate(coordinate: list):\n",
    "    \"\"\"Documentation\n",
    "    Parameters:\n",
    "        coordinate: original coordinates without treatment\n",
    "    Out:\n",
    "        dup: list of coordinate which are duplicated\n",
    "    \"\"\"\n",
    "    dup = []\n",
    "    for point1 in coordinate:\n",
    "        for point2 in coordinate:\n",
    "            if point2 != point1 and point1 not in dup:\n",
    "                if ((abs(point1[0] - point2[0]) <= 5) and (abs(point1[1] - point2[1]) <= 5)):\n",
    "                    dup.append(point2)\n",
    "    for d in dup:\n",
    "        coordinate.remove(d)\n",
    "    return(coordinate)"
   ]
  },
  {
   "cell_type": "code",
   "execution_count": 313,
   "metadata": {},
   "outputs": [
    {
     "data": {
      "text/plain": [
       "[1, 2]"
      ]
     },
     "execution_count": 313,
     "metadata": {},
     "output_type": "execute_result"
    }
   ],
   "source": []
  },
  {
   "cell_type": "code",
   "execution_count": 312,
   "metadata": {},
   "outputs": [],
   "source": [
    "# def remove_duplicate(dup: list, liste_with_dup: list):\n",
    "#     \"\"\"Documentation\n",
    "#     Parameters:\n",
    "#         dup: t of coordinate which are duplicated\n",
    "#         liste_with_dup: original coordinates without treatment\n",
    "#     Out:\n",
    "#         liste_with_dup: list of coordinate whithout duplication\n",
    "#     \"\"\"\n",
    "#     for d in dup:\n",
    "#         liste_with_dup.remove(d)\n",
    "#     return (liste_with_dup)"
   ]
  },
  {
   "cell_type": "code",
   "execution_count": 32,
   "metadata": {},
   "outputs": [],
   "source": [
    "# def remove_duplicate(dup: list, liste_with_dup: list):\n",
    "#     \"\"\"Documentation\n",
    "#     Parameters:\n",
    "#         dup: t of coordinate which are duplicated\n",
    "#         liste_with_dup: original coordinates without treatment\n",
    "#     Out:\n",
    "#         liste_with_dup: list of coordinate whithout duplication\n",
    "#     \"\"\"\n",
    "#     while dup:\n",
    "#         del liste_with_dup[liste_with_dup.index(dup[0])]\n",
    "#         dup = find_duplicate(liste_with_dup)\n",
    "#     return(liste_with_dup)"
   ]
  },
  {
   "cell_type": "code",
   "execution_count": 255,
   "metadata": {},
   "outputs": [],
   "source": [
    "def clusters_to_rect(dbscan: sklearn.cluster.dbscan_.DBSCAN, array_wo_dup: np.array):\n",
    "    \"\"\"Documentation\n",
    "    Parameters:\n",
    "        dbscan: result of the clustering with DBSCAN\n",
    "    Out:\n",
    "        list_rect: list of rectangles representing each cluster\n",
    "    \"\"\"\n",
    "    list_coord = array_wo_dup\n",
    "    label_groups = pd.Series(dbscan.labels_).unique()\n",
    "    list_rect = []  # to plot with plt.patches\n",
    "    list_rect2 = []  # all corners of the rectangles\n",
    "    HEIGHT: int = 19\n",
    "    WIDTH: int = 13\n",
    "    for group in label_groups:\n",
    "        index = [i for i, x in enumerate(list(dbscan.labels_)) if x == group]\n",
    "        points_cluster = list_coord[index]\n",
    "        corner_bottom_right = (max(i[0] for i in points_cluster) + WIDTH, min(\n",
    "            i[1] for i in points_cluster) - HEIGHT)\n",
    "        corner_top_right = (max(i[0] for i in points_cluster) + WIDTH, max(\n",
    "            i[1] for i in points_cluster))\n",
    "        corner_top_left = (min(i[0] for i in points_cluster), max(\n",
    "            i[1] for i in points_cluster))\n",
    "        corner_bottom_left = (min(i[0] for i in points_cluster), min(\n",
    "            i[1] for i in points_cluster) - HEIGHT)\n",
    "        height = corner_top_right[1] - corner_bottom_right[1]\n",
    "        width = corner_bottom_right[0] - corner_bottom_left[0]\n",
    "        list_rect.append(((corner_bottom_left), width, height))\n",
    "        list_rect2.append(\n",
    "            (corner_bottom_left, corner_top_left, corner_top_right, corner_bottom_right))\n",
    "    return list_rect, list_rect2"
   ]
  },
  {
   "cell_type": "code",
   "execution_count": 300,
   "metadata": {},
   "outputs": [],
   "source": [
    "liste_coord = [146, 517,\n",
    "133, 537,\n",
    "146, 537,\n",
    "185, 537,\n",
    "198, 537,\n",
    "211, 537,\n",
    "224, 537,\n",
    "263, 537,\n",
    "276, 537,\n",
    "133, 557,\n",
    "146, 557,\n",
    "185, 557,\n",
    "198, 557,\n",
    "211, 557,\n",
    "224, 557,\n",
    "263, 557,\n",
    "276, 557,\n",
    "133, 577,\n",
    "146, 577,\n",
    "185, 577,\n",
    "198, 577,\n",
    "211, 577,\n",
    "224, 577,\n",
    "263, 577,\n",
    "276, 577,\n",
    "133, 597,\n",
    "146, 597,\n",
    "185, 597,\n",
    "198, 597,\n",
    "211, 597,\n",
    "224, 597,\n",
    "263, 597,\n",
    "276, 597,\n",
    "133, 617,\n",
    "146, 617,\n",
    "185, 617,\n",
    "198, 617,\n",
    "211, 617,\n",
    "224, 617,\n",
    "263, 617,\n",
    "276, 617,\n",
    "133, 637,\n",
    "146, 637,\n",
    "185, 637,\n",
    "198, 637,\n",
    "211, 637,\n",
    "224, 637,\n",
    "263, 637,\n",
    "276, 637,\n",
    "133, 657,\n",
    "146, 657,\n",
    "185, 657,\n",
    "198, 657,\n",
    "211, 657,\n",
    "224, 657,\n",
    "263, 657,\n",
    "276, 657,\n",
    "133, 677,\n",
    "146, 677,\n",
    "185, 677,\n",
    "198, 677,\n",
    "211, 677,\n",
    "224, 677,\n",
    "263, 677,\n",
    "276, 677,\n",
    "133, 697,\n",
    "146, 697,\n",
    "185, 697,\n",
    "198, 697,\n",
    "211, 697,\n",
    "224, 697,\n",
    "263, 697,\n",
    "276, 697,\n",
    "133, 717,\n",
    "146, 717,\n",
    "185, 717,\n",
    "198, 717,\n",
    "211, 717,\n",
    "224, 717,\n",
    "263, 717,\n",
    "276, 717,\n",
    "133, 737,\n",
    "146, 737,\n",
    "185, 737,\n",
    "198, 737,\n",
    "211, 737,\n",
    "224, 737,\n",
    "263, 737,\n",
    "276, 737,\n",
    "133, 757,\n",
    "146, 757,\n",
    "185, 757,\n",
    "198, 757,\n",
    "211, 757,\n",
    "224, 757,\n",
    "263, 757,\n",
    "276, 757,\n",
    "133, 777,\n",
    "146, 777,\n",
    "185, 777,\n",
    "198, 777,\n",
    "211, 777,\n",
    "224, 777,\n",
    "263, 777,\n",
    "276, 777,\n",
    "133, 797,\n",
    "146, 797,\n",
    "185, 797,\n",
    "198, 797,\n",
    "211, 797,\n",
    "224, 797,\n",
    "263, 797,\n",
    "276, 797,\n",
    "133, 817,\n",
    "146, 817,\n",
    "185, 817,\n",
    "198, 817,\n",
    "211, 817,\n",
    "224, 817,\n",
    "263, 817,\n",
    "276, 817,\n",
    "133, 837,\n",
    "146, 837,\n",
    "185, 837,\n",
    "198, 837,\n",
    "211, 837,\n",
    "224, 837,\n",
    "263, 837,\n",
    "276, 837,\n",
    "133, 857,\n",
    "146, 857,\n",
    "263, 857,\n",
    "276, 857,\n",
    "133, 971,\n",
    "146, 971,\n",
    "185, 971,\n",
    "198, 971,\n",
    "211, 971,\n",
    "224, 971,\n",
    "263, 971,\n",
    "276, 971,\n",
    "133, 991,\n",
    "146, 991,\n",
    "185, 991,\n",
    "198, 991,\n",
    "211, 991,\n",
    "224, 991,\n",
    "263, 991,\n",
    "276, 991,\n",
    "133, 1011,\n",
    "146, 1011,\n",
    "185, 1011,\n",
    "198, 1011,\n",
    "211, 1011,\n",
    "224, 1011,\n",
    "263, 1011,\n",
    "276, 1011,\n",
    "133, 1031,\n",
    "146, 1031,\n",
    "185, 1031,\n",
    "198, 1031,\n",
    "211, 1031,\n",
    "224, 1031,\n",
    "263, 1031,\n",
    "276, 1031,\n",
    "133, 1051,\n",
    "146, 1051,\n",
    "185, 1051,\n",
    "198, 1051,\n",
    "211, 1051,\n",
    "224, 1051,\n",
    "263, 1051,\n",
    "276, 1051,\n",
    "133, 1071,\n",
    "146, 1071,\n",
    "185, 1071,\n",
    "198, 1071,\n",
    "211, 1071,\n",
    "224, 1071,\n",
    "263, 1071,\n",
    "276, 1071,\n",
    "133, 1091,\n",
    "146, 1091,\n",
    "185, 1091,\n",
    "198, 1091,\n",
    "211, 1091,\n",
    "224, 1091,\n",
    "263, 1091,\n",
    "276, 1091,\n",
    "133, 1111,\n",
    "146, 1111,\n",
    "185, 1111,\n",
    "198, 1111,\n",
    "211, 1111,\n",
    "224, 1111,\n",
    "263, 1111,\n",
    "276, 1111,\n",
    "133, 1131,\n",
    "146, 1131,\n",
    "185, 1131,\n",
    "198, 1131,\n",
    "211, 1131,\n",
    "224, 1131,\n",
    "263, 1131,\n",
    "276, 1131,\n",
    "135, 1151,\n",
    "148, 1151,\n",
    "261, 1151,\n",
    "274, 1151,\n",
    "137, 1171,\n",
    "150, 1171,\n",
    "191, 1171,\n",
    "204, 1171,\n",
    "217, 1171,\n",
    "259, 1171,\n",
    "272, 1171,\n",
    "139, 1191,\n",
    "152, 1191,\n",
    "191, 1191,\n",
    "204, 1191,\n",
    "217, 1191]"
   ]
  },
  {
   "cell_type": "code",
   "execution_count": 301,
   "metadata": {},
   "outputs": [],
   "source": [
    "obstacle = [[(168, 140), (202, 192)],\n",
    "            [(168, 231), (202, 282)],\n",
    "            [(213, 280), (228, 295)],\n",
    "            [(215, 126), (230, 142)],\n",
    "            [(228, 192), (272, 233)],\n",
    "            [(239, 131), (273, 171)],\n",
    "            [(282, 348), (446, 349)],\n",
    "            [(287, 142), (306, 160)],\n",
    "            [(287, 185), (306, 203)],\n",
    "            [(287, 212), (306, 229)],\n",
    "            [(287, 244), (306, 262)],\n",
    "            [(287, 271), (306, 288)],\n",
    "            [(418, 185), (436, 203)],\n",
    "            [(418, 212), (436, 229)],\n",
    "            [(422, 142), (440, 160)],\n",
    "            [(422, 244), (440, 262)],\n",
    "            [(422, 271), (440, 288)],\n",
    "            [(463, 122), (478, 138)],\n",
    "            [(475, 187), (502, 237)],\n",
    "            [(483, 264), (510, 292)],\n",
    "            [(489, 306), (1231, 349)],\n",
    "            [(499, 134), (512, 145)],\n",
    "            [(499, 147), (512, 158)],\n",
    "            [(519, 134), (532, 158)],\n",
    "            [(519, 186), (532, 197)],\n",
    "            [(519, 199), (532, 210)],\n",
    "            [(519, 212), (532, 223)],\n",
    "            [(519, 225), (532, 236)],\n",
    "            [(519, 264), (532, 289)],\n",
    "            [(599, 134), (612, 145)],\n",
    "            [(599, 277), (612, 288)],\n",
    "            [(839, 147), (852, 158)],\n",
    "            [(839, 186), (852, 236)],\n",
    "            [(839, 264), (852, 275)],\n",
    "            [(855, 184), (884, 239)],\n",
    "            [(859, 130), (901, 160)],\n",
    "            [(859, 263), (901, 292)],\n",
    "            [(916, 284), (931, 299)],\n",
    "            [(941, 186), (966, 237)],\n",
    "            [(953, 134), (966, 159)],\n",
    "            [(953, 264), (966, 288)],\n",
    "            [(1133, 186), (1146, 197)],\n",
    "            [(1133, 225), (1146, 236)],\n",
    "            [(1153, 136), (1166, 160)],\n",
    "            [(1153, 192), (1166, 230)],\n",
    "            [(1153, 262), (1166, 286)],\n",
    "            [(1173, 138), (1186, 162)],\n",
    "            [(1173, 260), (1186, 284)],\n",
    "            [(1193, 140), (1206, 164)],\n",
    "            [(1193, 218), (1206, 230)],\n",
    "            [(1193, 258), (1206, 283)],\n",
    "            [(1209, 257), (1236, 292)],\n",
    "            [(1213, 142), (1226, 167)],\n",
    "            [(1213, 192), (1226, 230)],\n",
    "            [(1242, 282), (1257, 297)],\n",
    "            [(1243, 126), (1258, 139)],\n",
    "            [(1273, 139), (1345, 191)],\n",
    "            [(1273, 231), (1345, 283)]]"
   ]
  },
  {
   "cell_type": "code",
   "execution_count": 302,
   "metadata": {},
   "outputs": [
    {
     "data": {
      "text/plain": [
       "221"
      ]
     },
     "execution_count": 302,
     "metadata": {},
     "output_type": "execute_result"
    }
   ],
   "source": [
    "x = [liste_coord[i] for i in range(len(liste_coord)) if i % 2 == 0]\n",
    "y = [liste_coord[i] for i in range(len(liste_coord)) if i % 2 == 1]\n",
    "normal_seat = list(zip(x,y))\n",
    "len(normal_seat)"
   ]
  },
  {
   "cell_type": "code",
   "execution_count": 323,
   "metadata": {},
   "outputs": [],
   "source": [
    "seat_b = open('./../data/coord-Aer_Lingus_Airbus_A330-200_plane4-BusinessSeats.txt', 'r')\n",
    "seat_b = seat_b.read()\n",
    "seat_b = seat_b.replace('\\n', ',').replace(' ', '').split(',')\n",
    "seat_b.remove('')\n",
    "seat_b = [int(i) for i in seat_b]\n",
    "x_b = [seat_b[i] for i in range(len(seat_b)) if i % 2 == 0]\n",
    "y_b = [seat_b[i] for i in range(len(seat_b)) if i % 2 == 1]\n",
    "business_seat = list(zip(x_b, y_b))"
   ]
  },
  {
   "cell_type": "code",
   "execution_count": 326,
   "metadata": {},
   "outputs": [
    {
     "name": "stdout",
     "output_type": "stream",
     "text": [
      "30\n"
     ]
    },
    {
     "data": {
      "text/plain": [
       "30"
      ]
     },
     "execution_count": 326,
     "metadata": {},
     "output_type": "execute_result"
    }
   ],
   "source": [
    "print(len(business_seat))\n",
    "business_seat = find_duplicate(business_seat)\n",
    "len(business_seat)"
   ]
  },
  {
   "cell_type": "code",
   "execution_count": 327,
   "metadata": {},
   "outputs": [
    {
     "data": {
      "text/plain": [
       "<matplotlib.collections.PathCollection at 0x21900c90ef0>"
      ]
     },
     "execution_count": 327,
     "metadata": {},
     "output_type": "execute_result"
    },
    {
     "data": {
      "image/png": "[encoded data removed]",
      "text/plain": [
       "<Figure size 432x288 with 1 Axes>"
      ]
     },
     "metadata": {
      "needs_background": "light"
     },
     "output_type": "display_data"
    }
   ],
   "source": [
    "plt.scatter(list(zip(*business_seat))[0], list(zip(*business_seat))[1])"
   ]
  },
  {
   "cell_type": "code",
   "execution_count": 230,
   "metadata": {},
   "outputs": [
    {
     "data": {
      "text/plain": [
       "221"
      ]
     },
     "execution_count": 230,
     "metadata": {},
     "output_type": "execute_result"
    }
   ],
   "source": [
    "normal_seat = remove_duplicate(find_duplicate(normal_seat), normal_seat)\n",
    "len(normal_seat)"
   ]
  },
  {
   "cell_type": "code",
   "execution_count": 231,
   "metadata": {},
   "outputs": [
    {
     "name": "stdout",
     "output_type": "stream",
     "text": [
      "73\n"
     ]
    },
    {
     "data": {
      "text/plain": [
       "30"
      ]
     },
     "execution_count": 231,
     "metadata": {},
     "output_type": "execute_result"
    }
   ],
   "source": [
    "print(len(business_seat))\n",
    "business_seat = remove_duplicate(find_duplicate(business_seat), business_seat)\n",
    "x_b = [i[0] for i in business_seat]\n",
    "y_b = [i[1] for i in business_seat]\n",
    "len(business_seat)"
   ]
  },
  {
   "cell_type": "markdown",
   "metadata": {},
   "source": [
    "###### Clusters"
   ]
  },
  {
   "cell_type": "code",
   "execution_count": 232,
   "metadata": {},
   "outputs": [
    {
     "data": {
      "text/plain": [
       "<matplotlib.collections.PathCollection at 0x21901d46ef0>"
      ]
     },
     "execution_count": 232,
     "metadata": {},
     "output_type": "execute_result"
    },
    {
     "data": {
      "image/png": "[encoded data removed]",
      "text/plain": [
       "<Figure size 432x288 with 1 Axes>"
      ]
     },
     "metadata": {
      "needs_background": "light"
     },
     "output_type": "display_data"
    }
   ],
   "source": [
    "dbscan = DBSCAN(eps=38, min_samples=3).fit(normal_seat)\n",
    "plt.scatter(x, y, c=dbscan.labels_.astype(float), s=50, alpha=0.5)"
   ]
  },
  {
   "cell_type": "code",
   "execution_count": 233,
   "metadata": {},
   "outputs": [
    {
     "data": {
      "text/plain": [
       "<matplotlib.collections.PathCollection at 0x21900bb9048>"
      ]
     },
     "execution_count": 233,
     "metadata": {},
     "output_type": "execute_result"
    },
    {
     "data": {
      "image/png": "[encoded data removed]",
      "text/plain": [
       "<Figure size 432x288 with 1 Axes>"
      ]
     },
     "metadata": {
      "needs_background": "light"
     },
     "output_type": "display_data"
    }
   ],
   "source": [
    "dbscan = DBSCAN(eps=38, min_samples=3).fit(business_seat)\n",
    "plt.scatter(x_b, y_b, c=dbscan.labels_.astype(float), s=50, alpha=0.5)"
   ]
  },
  {
   "cell_type": "code",
   "execution_count": 234,
   "metadata": {},
   "outputs": [
    {
     "data": {
      "text/plain": [
       "<matplotlib.collections.PathCollection at 0x21902067da0>"
      ]
     },
     "execution_count": 234,
     "metadata": {},
     "output_type": "execute_result"
    },
    {
     "data": {
      "image/png": "[encoded data removed]",
      "text/plain": [
       "<Figure size 432x288 with 1 Axes>"
      ]
     },
     "metadata": {
      "needs_background": "light"
     },
     "output_type": "display_data"
    }
   ],
   "source": [
    "dbscan = DBSCAN(eps=38, min_samples=3).fit(business_seat + normal_seat)\n",
    "plt.scatter(x_b + x, y_b + y, c=dbscan.labels_.astype(float), s=50, alpha=0.5)"
   ]
  },
  {
   "cell_type": "code",
   "execution_count": 235,
   "metadata": {},
   "outputs": [
    {
     "data": {
      "text/plain": [
       "[((133, 267), 14, 153),\n",
       " ((176, 267), 48, 149),\n",
       " ((244, 267), 31, 153),\n",
       " ((133, 498), 26, 359),\n",
       " ((185, 518), 52, 319),\n",
       " ((263, 518), 26, 339),\n",
       " ((133, 952), 32, 239),\n",
       " ((185, 952), 52, 179),\n",
       " ((259, 952), 30, 219),\n",
       " ((191, 1152), 39, 39)]"
      ]
     },
     "execution_count": 235,
     "metadata": {},
     "output_type": "execute_result"
    }
   ],
   "source": [
    "rect_to_plot, corners_rect = clusters_to_rect(dbscan, np.array(business_seat + normal_seat))\n",
    "rect_to_plot"
   ]
  },
  {
   "cell_type": "code",
   "execution_count": 236,
   "metadata": {},
   "outputs": [
    {
     "data": {
      "image/png": "[encoded data removed]",
      "text/plain": [
       "<Figure size 1080x1080 with 1 Axes>"
      ]
     },
     "metadata": {
      "needs_background": "light"
     },
     "output_type": "display_data"
    }
   ],
   "source": [
    "fig1 = plt.figure(figsize = (15,15))\n",
    "ax1 = fig1.add_subplot(111, aspect='equal')\n",
    "for rect in rect_to_plot:\n",
    "    ax1.add_patch(\n",
    "        patches.Rectangle(rect[0], rect[1], rect[2]))\n",
    "    \n",
    "for obs in obstacle:\n",
    "    ax1.add_patch(\n",
    "        patches.Rectangle((obs[0][1] - (obs[0][0] - obs[1][0]), obs[0][0] - (obs[0][0] - obs[1][0])), obs[1][1] - obs[0][1], obs[0][0] - obs[1][0], color = 'red'))\n",
    "\n",
    "    \n",
    "# x_coord = [i[0][0] for i in rect_to_plot]\n",
    "# y_coord = [i[0][1] for i in rect_to_plot]\n",
    "# plt.xlim(min(x_coord)-10,max(x_coord)+rect_to_plot[x_coord.index(max(x_coord))][1]+10)\n",
    "# plt.ylim(min(y_coord)-10,max(y_coord)+rect_to_plot[y_coord.index(max(y_coord))][2]+10)\n",
    "plt.xlim(100, 500)\n",
    "plt.ylim(100, 1400)\n",
    "plt.show()"
   ]
  },
  {
   "cell_type": "code",
   "execution_count": null,
   "metadata": {},
   "outputs": [],
   "source": []
  }
 ],
 "metadata": {
  "kernelspec": {
   "display_name": "Python 3",
   "language": "python",
   "name": "python3"
  },
  "language_info": {
   "codemirror_mode": {
    "name": "ipython",
    "version": 3
   },
   "file_extension": ".py",
   "mimetype": "text/x-python",
   "name": "python",
   "nbconvert_exporter": "python",
   "pygments_lexer": "ipython3",
   "version": "3.7.1"
  },
  "pycharm": {
   "stem_cell": {
    "cell_type": "raw",
    "metadata": {
     "collapsed": false
    },
    "source": []
   }
  }
 },
 "nbformat": 4,
 "nbformat_minor": 1
}
