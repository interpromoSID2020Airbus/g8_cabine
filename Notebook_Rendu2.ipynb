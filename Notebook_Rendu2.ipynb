{
 "cells": [
  {
   "cell_type": "code",
   "execution_count": 1,
   "metadata": {
    "pycharm": {
     "is_executing": false
    }
   },
   "outputs": [],
   "source": [
    "# !git clone https://github.com/vincentnam/ProjetInterpromo2020G8.git"
   ]
  },
  {
   "cell_type": "code",
   "execution_count": 4,
   "metadata": {},
   "outputs": [],
   "source": [
    "from abc import ABCMeta, abstractmethod\n",
    "from typing import Iterable\n",
    "\n",
    "import numpy as np\n",
    "from pipeline import Process, Preprocess, Postprocess, Pipeline, overrides, MetaProcess, NotProcessClass\n",
    "\n",
    "\n",
    "import os\n",
    "import cv2 as cv\n",
    "import matplotlib.pyplot as plt\n",
    "import numpy as np\n",
    "import numpy as np\n",
    "import pandas as pd\n",
    "from collections import defaultdict\n",
    "from PIL import Image\n",
    "\n",
    "from matplotlib import image\n",
    "import matplotlib.patches as mpatches\n",
    "from skimage import io\n",
    "import skimage.segmentation as seg\n",
    "from skimage.segmentation import clear_border\n",
    "import skimage.filters as filters\n",
    "from skimage.filters import threshold_otsu\n",
    "import skimage.draw as draw\n",
    "import skimage.color as color\n",
    "from skimage.color import label2rgb\n",
    "from skimage.measure import label, regionprops\n",
    "from skimage.morphology import closing, square\n",
    "\n",
    "\n",
    "from skimage.measure import label, regionprops\n",
    "import numpy as np\n",
    "import pandas as pd\n",
    "import os\n",
    "import cv2 as cv2\n",
    "\n",
    "from matplotlib import pyplot as plt\n",
    "from matplotlib import image\n",
    "import matplotlib.patches as mpatches\n",
    "\n",
    "from skimage import io\n",
    "import skimage.segmentation as seg\n",
    "from skimage.segmentation import clear_border\n",
    "import skimage.filters as filters\n",
    "from skimage.filters import threshold_otsu\n",
    "import skimage.draw as draw\n",
    "import skimage.color as color\n",
    "from skimage.color import label2rgb\n",
    "from skimage.measure import label, regionprops\n",
    "from skimage.morphology import closing, square"
   ]
  },
  {
   "cell_type": "markdown",
   "metadata": {},
   "source": [
    "# Preprocessing definition"
   ]
  },
  {
   "cell_type": "code",
   "execution_count": 5,
   "metadata": {},
   "outputs": [],
   "source": [
    "class ColourPipelineSeat(Preprocess):\n",
    "    process_desc = \"Standard Python >= 3.5 -> preprocess colours\"\n",
    "    def __init__(self, *args, **kwargs):\n",
    "        super().__init__(*args, **kwargs)\n",
    "        \n",
    "    def run(self, **kwargs) -> Iterable:\n",
    "        return self.col_obj.colour_pipeline(colours = {}, epsilon = 40, colour_mode = False, \n",
    "                            default_colour = [255, 255, 255], rgb_len = 3)\n",
    "    \n",
    "    \n",
    "class BlackWhite(Preprocess):\n",
    "    process_desc = \"OpenCV4.1.2.30 -> rgb to grey\"\n",
    "    def __init__(self, *args, **kwargs):\n",
    "        super().__init__(*args, **kwargs)\n",
    "    \n",
    "    def run(self, **kwargs) -> Iterable:\n",
    "        return self.col_obj.util_obj.to_gray() \n",
    "        \n",
    "        \n",
    "class ColourPipelineZones(Preprocess):\n",
    "    process_desc = \"Standard Python >= 3.5 -> preprocess colours\"\n",
    "    def __init__(self,*args, **kwargs):\n",
    "        super().__init__(*args, **kwargs)\n",
    "    def run(self, **kwargs) -> Iterable:\n",
    "        return self.col_obj.colour_pipeline(colours = {}, epsilon = 30, colour_mode = True, \n",
    "                        default_colour = [0, 0, 0], rgb_len = 3).astype('uint8')\n",
    "    "
   ]
  },
  {
   "cell_type": "markdown",
   "metadata": {},
   "source": [
    "## Processing definition"
   ]
  },
  {
   "cell_type": "raw",
   "metadata": {},
   "source": []
  },
  {
   "cell_type": "code",
   "execution_count": 6,
   "metadata": {},
   "outputs": [
    {
     "data": {
      "text/plain": "'c:\\\\Users\\\\Stior\\\\Documents\\\\cours\\\\L3SID\\\\Projet-InterPromo\\\\ProjetInterpromo2020G8'"
     },
     "execution_count": 6,
     "metadata": {},
     "output_type": "execute_result"
    }
   ],
   "source": [
    "os.getcwd()"
   ]
  },
  {
   "cell_type": "code",
   "execution_count": 7,
   "metadata": {},
   "outputs": [],
   "source": [
    "# Input list of pre-processed images\n",
    "liste_prepro_images = os.listdir(\"./images_test\")\n",
    "\n",
    "# list of defined templates\n",
    "liste_temp = os.listdir(\n",
    "    \"./images/\")\n",
    "\n",
    "# path to access all images\n",
    "data_path = '../All Data/'\n",
    "\n",
    "# list of both layouts\n",
    "layouts = ['LAYOUT SEATGURU', 'LAYOUT SEATMAESTRO']\n",
    "\n",
    "# image name used for test\n",
    "image_name = 'Aer_Lingus_Airbus_A320_plane9.jpg'\n",
    "\n",
    "# path to access pre-processed images\n",
    "path_images_test = \"./images_test/\"\n",
    "\n",
    "# empty directory\n",
    "out_dir_temp = \"C:/Users/marce/Documents/interpromo_2020/templates/\"\n",
    "\n",
    "# path to access all defined templates \n",
    "path_list_temp = \"C:/Users/marce/Documents/interpromo_2020/templates/templates_to_use/\"\n",
    "\n",
    "\n",
    "\n",
    "\n",
    "\n",
    "# y = coord_template_matching_image_single(liste_temp, path_list_temp,\n",
    "#                                          image_name, data_path, layouts, 0.5, 80)"
   ]
  },
  {
   "cell_type": "code",
   "execution_count": 30,
   "metadata": {},
   "outputs": [],
   "source": [
    "\n",
    "class SeatFinder(Process):\n",
    "    process_desc = \"OpenCV4.1.2.30 -> Pattern Matching seat\"\n",
    "\n",
    "    def __init__(self, csv_data_path=None, *args, **kwargs):\n",
    "        if csv_data_path is None:\n",
    "            raise Exception(\"Data_path is empty in init function of \" + str(\n",
    "                self.__class__))\n",
    "        super().__init__()\n",
    "        self.csv_data_path = csv_data_path\n",
    "        self.layout_folder_path = csv_data_path + \"ANALYSE IMAGE/\"\n",
    "        self.seatguru_image_data_path = self.layout_folder_path + \"LAYOUT SEATGURU/\"\n",
    "        self.seatmaestro_image_data_path = self.layout_folder_path + \"LAYOUT SEATMAESTRO/\"\n",
    "\n",
    "    def hasNumbers(self, inputString):\n",
    "        return any(char.isdigit() for char in inputString)\n",
    "\n",
    "    def longestValue(self, inputList):\n",
    "        if len(inputList) > 0:\n",
    "            max_len = 0\n",
    "            for i, el in enumerate(inputList):\n",
    "                if len(el) > max_len:\n",
    "                    max_len = i\n",
    "            return inputList[max_len]\n",
    "        return 0\n",
    "\n",
    "    def get_relevant_aircraft_builders(self, image_names,\n",
    "                                       proportion_min=0.02,\n",
    "                                       proportion_max=0.75):\n",
    "        # retrieve aircraft types\n",
    "\n",
    "        aircraft_builders = np.unique(\n",
    "            [a_type.split(' ')[0].lower() for a_type in\n",
    "             pd.read_csv(\n",
    "                 self.csv_data_path + 'SEATGURU_INFO_AIRCRAFT.csv',\n",
    "                 sep=';')['Aircraft_Type'].tolist() if\n",
    "             len(a_type.split(' ')) > 1])\n",
    "\n",
    "        # remove aircraft_builder that have Numerics in it\n",
    "        aircraft_builders = [a_builder for a_builder in aircraft_builders if\n",
    "                             not self.hasNumbers(a_builder) and len(\n",
    "                                 a_builder) > 2]\n",
    "\n",
    "        # remove aircraft with too low occurences in the \"IMAGES_NAMES\" list\n",
    "        relevant_aircraft_builders = {}\n",
    "        for a_builder in aircraft_builders:\n",
    "            proportion = sum(\n",
    "                [1 for img_n in image_names if\n",
    "                 a_builder in img_n.lower()]) / len(\n",
    "                image_names)\n",
    "            if proportion > proportion_min and proportion < proportion_max:\n",
    "                relevant_aircraft_builders[a_builder] = proportion\n",
    "\n",
    "        # remove non aircradft builder that remain\n",
    "        del relevant_aircraft_builders['airlines']\n",
    "        del relevant_aircraft_builders['irbus']\n",
    "        del relevant_aircraft_builders['airways']\n",
    "        del relevant_aircraft_builders['ays']\n",
    "\n",
    "        # sort by proportion\n",
    "        relevant_aircraft_builders = {k: v for k, v in\n",
    "                                      sorted(\n",
    "                                          relevant_aircraft_builders.items(),\n",
    "                                          key=lambda item: item[1])}\n",
    "        return relevant_aircraft_builders\n",
    "\n",
    "    def get_airline_aircraft_builder_pos(self, image_names, aircraft_builders,\n",
    "                                         airlines, aircraft_ref, pattern,\n",
    "                                         layout=\"LAYOUT SEATGURU/\"):\n",
    "        # Initialisation of dict\n",
    "        dictio_airlines_aircraft_builders = []\n",
    "\n",
    "        for image_name in image_names:\n",
    "\n",
    "            size = Image.open(\n",
    "                self.layout_folder_path + layout + image_name).size\n",
    "\n",
    "            dictio_airlines_aircraft_builders.append({\n",
    "                'image_name': image_name,\n",
    "                'aircraft_builder': 'not_relevant_aircraft_builders',\n",
    "                'position_aircraft_builder': -1,\n",
    "                'airline': '',\n",
    "                'aircraft_ref': [],\n",
    "                'x_size': int(size[0]),\n",
    "                'y_size': int(size[1])\n",
    "            })\n",
    "\n",
    "            # a little pre-process to clean-up image name\n",
    "            img_inf = image_name.lower().split('.')[0].split(pattern)\n",
    "\n",
    "            for i, item in enumerate(img_inf):\n",
    "                for a_builder in aircraft_builders:\n",
    "                    # check if the image contains the aircraft builder\n",
    "                    if a_builder == item:\n",
    "                        # add the aircraft builder in the image name\n",
    "                        dictio_airlines_aircraft_builders[-1][\n",
    "                            'aircraft_builder'] = a_builder\n",
    "                        dictio_airlines_aircraft_builders[-1][\n",
    "                            'position_aircraft_builder'] = i\n",
    "\n",
    "            # add airlines deduce by the image name\n",
    "            for airline in airlines:\n",
    "                if airline + pattern in image_name.lower():\n",
    "                    dictio_airlines_aircraft_builders[-1][\n",
    "                        'airline'] = airline\n",
    "\n",
    "            # add aircraft_ref\n",
    "            for a_ref in aircraft_ref:\n",
    "                if a_ref in image_name.lower():\n",
    "                    dictio_airlines_aircraft_builders[-1][\n",
    "                        'aircraft_ref'].append(a_ref)\n",
    "            # take the longest str element in the list of ref\n",
    "            dictio_airlines_aircraft_builders[-1][\n",
    "                'aircraft_ref'] = self.longestValue(\n",
    "                dictio_airlines_aircraft_builders[-1]['aircraft_ref'])\n",
    "\n",
    "        return dictio_airlines_aircraft_builders\n",
    "\n",
    "    def main_layout_seatguru(self, layout=\"LAYOUT SEATGURU/\"):\n",
    "        image_name_list = [img for img in\n",
    "                           os.listdir(self.layout_folder_path + layout)]\n",
    "\n",
    "        relevant_aircraft_builders = self.get_relevant_aircraft_builders(\n",
    "            image_name_list)\n",
    "        airlines = \\\n",
    "            pd.read_csv(self.csv_data_path + 'SEATGURU_INFO_AIRCRAFT.csv',\n",
    "                        sep=';')[\n",
    "                'Airline_name'].unique()\n",
    "        airlines = [airline.replace('-', '_') for airline in airlines]\n",
    "\n",
    "        aircraft_ref = np.unique([a_type.lower() for a_type in pd.read_csv(\n",
    "            self.csv_data_path + 'SEATGURU_INFO_AIRCRAFT.csv', sep=';')[\n",
    "            'Aircraft_Type'].tolist()])\n",
    "        aircraft_ref = np.unique(\n",
    "            [t for text in aircraft_ref for t in text.split(' ') if\n",
    "             self.hasNumbers(t)])\n",
    "\n",
    "        dictio_airlines_aircraft_builders = self.get_airline_aircraft_builder_pos(\n",
    "            image_name_list, relevant_aircraft_builders, airlines,\n",
    "            aircraft_ref,\n",
    "            '_')\n",
    "        return pd.DataFrame(dictio_airlines_aircraft_builders)\n",
    "\n",
    "    def get_correspondance(self, dataframe):\n",
    "        # retrieve aircraft builders\n",
    "        aircraft_builders = dataframe['aircraft_builder'].tolist()\n",
    "        # retrieve arcraft references\n",
    "        aircraft_refs = dataframe['aircraft_ref'].tolist()\n",
    "        # retrieves airline names\n",
    "        airlines = dataframe['airline'].tolist()\n",
    "        # retrieve image names\n",
    "        image_names = dataframe['image_name'].tolist()\n",
    "\n",
    "        df_seat_guru_info = pd.read_csv(\n",
    "            self.csv_data_path + 'SEATGURU_INFO_AIRCRAFT.csv', sep=';')\n",
    "        aircraft_type = df_seat_guru_info['Aircraft_Type']\n",
    "        # dictionnary where the info will be stored\n",
    "        dictio = {}\n",
    "        # for each aircraft builder, aircraft ref, airline and image name,\n",
    "        # we research the relevant information in df_seat_guru_info dataframe\n",
    "        for a_b, a_r, airline, im in \\\n",
    "                zip(aircraft_builders, aircraft_refs, airlines, image_names):\n",
    "            res = pd.DataFrame([df_seat_guru_info.loc[i] for i, a_t in\n",
    "                                enumerate(aircraft_type) if\n",
    "                                a_b in a_t.lower() and a_r in a_t.lower()]).reset_index()\n",
    "            if 'Airline_name' in res.columns:  # res not empty right after the research\n",
    "                res = pd.DataFrame([res.loc[i] for i, a_n in\n",
    "                                    enumerate(res['Airline_name'].tolist()) if\n",
    "                                    airline.replace('_', '-') in a_n.lower()])\n",
    "                if 'Total_seat' in res.columns:  # res not empty right after the research\n",
    "                    # get the maximum of seat number\n",
    "                    nb_max_seats = max(res['Total_seat'].unique().tolist())\n",
    "                    # select the seats with the help of nb_max_seats\n",
    "                    res['selected'] = res['Total_seat'].apply(\n",
    "                        lambda x: 1 if x == nb_max_seats else 0)\n",
    "                    # select the column that we need\n",
    "                    res = res[['Category', 'Count', 'Seat_Type', 'selected']]\n",
    "                    res = res[res[\n",
    "                                  'selected'] == 1].drop_duplicates()  # remove duplicated lines\n",
    "                    dictio[im] = res.drop(columns=['selected'])\n",
    "        return dictio\n",
    "\n",
    "    def retrieve_relevant_seat_info(self, dictio, image_name):\n",
    "        total_seat_info = []\n",
    "        for i, row in dictio[image_name].iterrows():\n",
    "            total_seat_info.append({\n",
    "                'Category': row['Category'],\n",
    "                'Seat_Type': row['Seat_Type'],\n",
    "                'Count': row['Count']\n",
    "            })\n",
    "        return total_seat_info\n",
    "\n",
    "    def coord_pattern_finder(self, image, template, threshold: float):\n",
    "        \"\"\"\n",
    "        input:\n",
    "            image : image plane cv2.imread() black and white\n",
    "            template : image pattern cv2.imread() black and white\n",
    "            threshold : threshold for this pattern\n",
    "        output:\n",
    "            position : list right angle position for this pattern on the image\n",
    "        \"\"\"\n",
    "        position = []  # Variable output\n",
    "        # List of match\n",
    "        res = cv.matchTemplate(image, template, cv.TM_CCOEFF_NORMED)\n",
    "\n",
    "        for pos in zip(*np.where(res >= threshold)[::-1]):\n",
    "            position.append(pos)\n",
    "        return (position)\n",
    "\n",
    "    def templ_category(self, path='./images/TEMPLATE/', category='BUSINESS',\n",
    "                       seat_type='STANDARD', plane_name='test.jpg'):\n",
    "        \"\"\"\n",
    "        Create list of template open with cv2 by category and seatType\n",
    "        Input:\n",
    "            Path: directory path of templates\n",
    "            category: name of category\n",
    "            seatType: Seat type\n",
    "            planeName: plane name\n",
    "        Output:\n",
    "            templates: list of template name\n",
    "        \"\"\"\n",
    "        if '.png' in plane_name:\n",
    "            extension = 'PNG/'\n",
    "        else:\n",
    "            extension = 'JPG/'\n",
    "\n",
    "        imagesTemp = os.listdir(path + category + '/' + extension)\n",
    "        templates = []\n",
    "\n",
    "        for i in imagesTemp:\n",
    "            if seat_type in i:\n",
    "                templates.append(cv.imread(\n",
    "                    path + category + '/' + extension + i, 0))\n",
    "        return (templates)\n",
    "\n",
    "    def template_from_template(self, img, template, thresholdMin=0.70):\n",
    "        \"\"\"\n",
    "        intput:\n",
    "            img : image plane\n",
    "            template : template\n",
    "            thresholdMin : threshold min to keep template or not\n",
    "        output:\n",
    "            template, boolean : true if found\n",
    "        \"\"\"\n",
    "        # default Threshold\n",
    "        # cv2.imshow('template a trouver', template)\n",
    "        # cv2.waitKey()\n",
    "        # cv2.destroyAllWindows()\n",
    "        threshold = 1\n",
    "        position = self.coord_pattern_finder(img, template, threshold)\n",
    "        h, w = template.shape\n",
    "        # Reduce Threshold while no template match\n",
    "        while len(position) < 1 and threshold > thresholdMin:\n",
    "            threshold -= 0.005\n",
    "            position = self.coord_pattern_finder( img, template,\n",
    "                                                 threshold)\n",
    "        if threshold > thresholdMin:\n",
    "            return(img[position[0][1]:position[0][1] + h,\n",
    "                       position[0][0]:position[0][0] + w], True)\n",
    "        return(None, False)\n",
    "\n",
    "\n",
    "    def count_list(self, list):\n",
    "        \"\"\"\n",
    "        input:\n",
    "            list : list\n",
    "        output:\n",
    "            ordored list with single occurence\n",
    "        \"\"\"\n",
    "        dictio_count = {}\n",
    "        for el in list:\n",
    "            dictio_count[el] = list.count(el)\n",
    "        return {k: v for k, v in sorted(dictio_count.items(),\n",
    "                                        key=lambda item: item[1],\n",
    "                                        reverse=True)}\n",
    "\n",
    "    def best_position(self, img, template, nbSeat, step=0.005,\n",
    "                      thresholdMin=0.65):\n",
    "        \"\"\"\n",
    "        input:\n",
    "            img : image plane\n",
    "            template : template find from this image\n",
    "            nbSeat : integrer - for this cat\n",
    "            steps : steps for threshold\n",
    "        output:\n",
    "            position : coord for each match\n",
    "        \"\"\"\n",
    "        position = []\n",
    "        for threshold in np.arange(thresholdMin, 1 + step, step):\n",
    "\n",
    "            position += self.coord_pattern_finder(img, template, threshold)\n",
    "\n",
    "        cv2.imshow('Template', template)\n",
    "        cv2.waitKey()\n",
    "        cv2.destroyAllWindows()\n",
    "\n",
    "        result = list(self.count_list(position).keys())\n",
    "        if len(result) < nbSeat * 1.1:\n",
    "            return (result)\n",
    "        return (result[:int(nbSeat * 1.1)])\n",
    "\n",
    "    def run(self, image, json=None, planes_data_csv=None, image_name=None,\n",
    "            layout=[\"LAYOUT SEATGURU/\", \"LAYOUT SEATMAESTRO/\"],\n",
    "            path='./images/', **kwargs):\n",
    "        \"\"\"\n",
    "            input:\n",
    "                img : image plane\n",
    "                nbObjectToFind : Dictionnary : {\n",
    "                                                'Total_seat': nbSeatTotal,\n",
    "                                                'business': nbBusinessSeat,\n",
    "                                                'bar': nbBar\n",
    "                                                }\n",
    "                diction : diction output\n",
    "                planeName :\n",
    "                path : path for template directory\n",
    "            output:\n",
    "                diction : dictionnary {'class':[\n",
    "                                            (coordX1, coordY1, h, w),\n",
    "                                            (coordX2, coordY2, h, w)\n",
    "                                        ]}\n",
    "        \"\"\"\n",
    "        image = cv.imread('../All Data/ANALYSE IMAGE/LAYOUT SEATGURU/' + image_name, 0)\n",
    "        if planes_data_csv is None:\n",
    "            print(\"Coucou planes \")\n",
    "        if image_name is None:\n",
    "            print(\"Coucou planes name\")\n",
    "        if not image_name in json.keys():\n",
    "            json[image_name] = {}\n",
    "        df_layout_seatguru = self.main_layout_seatguru(layout[0])\n",
    "        dictio_correspondance = self.get_correspondance(\n",
    "            df_layout_seatguru[df_layout_seatguru['image_name'] == image_name])\n",
    "        nbObjectToFind = self.retrieve_relevant_seat_info(\n",
    "            dictio_correspondance, image_name)\n",
    "        # print(nbObjectToFind)\n",
    "\n",
    "        #       df_layout_seatguru = self.main_layout_seatguru(layout)\n",
    "\n",
    "        #      dictio = self.get_correspodance(df_layout_seatguru)\n",
    "\n",
    "        #        nbOjbjectToFind = self.retrieve_relevant(dictio, im_names)\n",
    "\n",
    "        for objet in nbObjectToFind:\n",
    "            if not objet[\"Category\"] in json[image_name].keys():\n",
    "                json[image_name][objet['Category']] = []\n",
    "            # Take all template name for this category\n",
    "            templates = self.templ_category(\n",
    "                category=objet['Category'],\n",
    "                seat_type=objet['Seat_Type'],\n",
    "                plane_name=image_name)\n",
    "            for templ in templates:\n",
    "                templateFind, find = self.template_from_template(image,\n",
    "                                                                 templ)\n",
    "                if find:\n",
    "                    position = self.best_position(image, templateFind, objet['Count'])\n",
    "\n",
    "                    h, w = templ.shape\n",
    "                    for i in range(len(position)):\n",
    "                        position[i] = position[i] + (h, w)\n",
    "                    json[image_name][objet['Category']] += position\n"
   ]
  },
  {
   "cell_type": "markdown",
   "metadata": {
    "pycharm": {
     "is_executing": false
    }
   },
   "source": [
    "# Post processing definition"
   ]
  },
  {
   "cell_type": "code",
   "execution_count": 31,
   "metadata": {},
   "outputs": [],
   "source": [
    "class RemoveDouble(Postprocess):\n",
    "    process_desc = \"Standard Python >= 3.5 -> remove double point in list\"\n",
    "    def __init__(self, *args, **kwargs):\n",
    "        super().__init__()\n",
    "    def remove_duplicate(self,coordinate: list):\n",
    "        \"\"\"Documentation\n",
    "        Parameters:\n",
    "            coordinate: original coordinates without treatment\n",
    "        Out:\n",
    "            dup: list of coordinate which are duplicated\n",
    "        \"\"\"\n",
    "        dup = []\n",
    "        print(coordinate)\n",
    "        for point1 in coordinate:\n",
    "            for point2 in coordinate:\n",
    "                if point2 != point1 and point1 not in dup:\n",
    "                    if ((abs(point1[0] - point2[0]) <= 5) and (abs(point1[1] - point2[1]) <= 5)):\n",
    "                        dup.append(point2)\n",
    "        for d in dup:\n",
    "            if d in coordinate:\n",
    "                coordinate.remove(d)\n",
    "        return(coordinate)\n",
    "\n",
    "    def run(self, json, **kwargs):\n",
    "        for seat_index in json:\n",
    "            json[seat_index] = self.remove_duplicate(json[seat_index])\n",
    "            \n"
   ]
  },
  {
   "cell_type": "code",
   "execution_count": 32,
   "metadata": {},
   "outputs": [
    {
     "name": "stdout",
     "output_type": "stream",
     "text": "Preprocess :  OpenCV4.1.2.30 -> rgb to grey\nProcess :  OpenCV4.1.2.30 -> Pattern Matching seat\nPostprocess :  Standard Python >= 3.5 -> remove double point in list\nOpenCV4.1.2.30 -> rgb to grey a été ajouté.\nOpenCV4.1.2.30 -> Pattern Matching seat a été ajouté.\n"
    }
   ],
   "source": [
    "pipeline = Pipeline()\n",
    "BW = BlackWhite()\n",
    "match = SeatFinder(csv_data_path=data_path)\n",
    "Rm = RemoveDouble()\n",
    "pipeline.add_processes([BW, match])"
   ]
  },
  {
   "cell_type": "code",
   "execution_count": 35,
   "metadata": {},
   "outputs": [
    {
     "name": "stdout",
     "output_type": "stream",
     "text": "['Aer_Lingus_Airbus_A320_plane9.jpg']\nDébut du pipeline : \nDoing : OpenCV4.1.2.30 -> rgb to grey\nLe pré-processing numéro 0( OpenCV4.1.2.30 -> rgb to grey ) a levé une erreur.\nrun() takes 1 positional argument but 2 were given\nDoing : OpenCV4.1.2.30 -> Pattern Matching seat\n[{'Category': 'BUSINESS', 'Seat_Type': 'ANGLE_FLAT', 'Count': 28}, {'Category': 'ECONOMY', 'Seat_Type': 'STANDARD', 'Count': 272}]\n{'Asiana_Boeing_777-200_ER_B_plane204.jpg': {'BUSINESS': [], 'ECONOMY': [(275, 884, 16, 14), (275, 554, 16, 14), (275, 576, 16, 14), (275, 598, 16, 14), (275, 642, 16, 14), (275, 664, 16, 14), (275, 686, 16, 14), (275, 708, 16, 14), (275, 730, 16, 14), (275, 752, 16, 14), (275, 774, 16, 14), (275, 796, 16, 14), (275, 818, 16, 14), (275, 840, 16, 14), (275, 862, 16, 14), (275, 1021, 16, 14), (275, 1043, 16, 14), (275, 1065, 16, 14), (275, 1087, 16, 14), (275, 1109, 16, 14), (275, 1131, 16, 14), (275, 1153, 16, 14), (275, 1175, 16, 14), (275, 1197, 16, 14), (275, 1219, 16, 14), (148, 897, 16, 14), (148, 1241, 16, 14), (148, 545, 16, 14), (148, 567, 16, 14), (148, 589, 16, 14), (148, 611, 16, 14), (148, 633, 16, 14), (148, 655, 16, 14), (148, 677, 16, 14), (148, 699, 16, 14), (148, 721, 16, 14), (148, 743, 16, 14), (148, 765, 16, 14), (148, 787, 16, 14), (148, 809, 16, 14), (148, 831, 16, 14), (148, 853, 16, 14), (148, 875, 16, 14), (148, 1021, 16, 14), (148, 1043, 16, 14), (148, 1065, 16, 14), (148, 1087, 16, 14), (148, 1109, 16, 14), (148, 1131, 16, 14), (148, 1153, 16, 14), (148, 1175, 16, 14), (148, 1197, 16, 14), (148, 1219, 16, 14), (261, 884, 16, 14), (191, 902, 16, 14), (191, 1247, 16, 14), (162, 875, 16, 14), (261, 1021, 16, 14), (261, 1109, 16, 14), (261, 1197, 16, 14), (162, 1219, 16, 14), (261, 554, 16, 14), (261, 576, 16, 14), (261, 598, 16, 14), (261, 620, 16, 14), (261, 642, 16, 14), (261, 664, 16, 14), (261, 686, 16, 14), (261, 708, 16, 14), (261, 730, 16, 14), (261, 752, 16, 14), (261, 774, 16, 14), (261, 796, 16, 14), (261, 818, 16, 14), (261, 840, 16, 14), (261, 862, 16, 14), (261, 1043, 16, 14), (261, 1065, 16, 14), (261, 1087, 16, 14), (261, 1131, 16, 14), (261, 1153, 16, 14), (261, 1175, 16, 14), (261, 1219, 16, 14), (191, 552, 16, 14), (191, 573, 16, 14), (191, 595, 16, 14), (191, 617, 16, 14), (191, 638, 16, 14), (191, 660, 16, 14), (191, 682, 16, 14), (191, 704, 16, 14), (191, 726, 16, 14), (191, 748, 16, 14), (191, 770, 16, 14), (191, 792, 16, 14), (191, 814, 16, 14), (191, 836, 16, 14), (191, 858, 16, 14), (191, 880, 16, 14), (205, 902, 16, 14), (191, 1005, 16, 14), (191, 1027, 16, 14), (191, 1049, 16, 14), (191, 1071, 16, 14), (191, 1093, 16, 14), (191, 1115, 16, 14), (191, 1137, 16, 14), (191, 1159, 16, 14), (191, 1181, 16, 14), (191, 1203, 16, 14), (191, 1225, 16, 14), (162, 567, 16, 14), (162, 589, 16, 14), (162, 655, 16, 14), (162, 677, 16, 14), (162, 743, 16, 14), (162, 765, 16, 14), (162, 831, 16, 14), (162, 853, 16, 14), (162, 1021, 16, 14), (162, 1087, 16, 14), (162, 1109, 16, 14), (162, 1175, 16, 14), (162, 1197, 16, 14), (162, 611, 16, 14), (162, 633, 16, 14), (162, 699, 16, 14), (162, 721, 16, 14), (162, 787, 16, 14), (162, 809, 16, 14), (246, 884, 16, 14), (162, 1043, 16, 14), (162, 1065, 16, 14), (162, 1131, 16, 14), (162, 1153, 16, 14), (205, 552, 16, 14), (246, 554, 16, 14), (205, 573, 16, 14), (246, 576, 16, 14), (246, 598, 16, 14), (246, 620, 16, 14), (246, 642, 16, 14), (246, 664, 16, 14), (246, 686, 16, 14), (205, 704, 16, 14), (246, 708, 16, 14), (246, 730, 16, 14), (246, 752, 16, 14), (246, 774, 16, 14), (205, 792, 16, 14), (246, 796, 16, 14), (246, 818, 16, 14), (246, 840, 16, 14), (246, 862, 16, 14), (205, 880, 16, 14), (205, 1005, 16, 14), (246, 1021, 16, 14), (246, 1043, 16, 14), (246, 1065, 16, 14), (205, 1071, 16, 14), (246, 1087, 16, 14), (205, 1093, 16, 14), (246, 1109, 16, 14), (246, 1131, 16, 14), (246, 1153, 16, 14), (205, 1159, 16, 14), (246, 1175, 16, 14), (205, 1181, 16, 14), (246, 1197, 16, 14), (246, 1219, 16, 14), (205, 595, 16, 14), (205, 617, 16, 14), (205, 638, 16, 14), (205, 660, 16, 14), (205, 682, 16, 14), (205, 726, 16, 14), (205, 748, 16, 14), (205, 770, 16, 14), (205, 814, 16, 14), (205, 836, 16, 14), (205, 858, 16, 14), (230, 929, 16, 14), (205, 1027, 16, 14), (205, 1049, 16, 14), (205, 1115, 16, 14), (205, 1137, 16, 14), (205, 1203, 16, 14), (205, 1225, 16, 14), (205, 1247, 16, 14), (134, 545, 16, 14), (134, 567, 16, 14), (134, 589, 16, 14), (134, 633, 16, 14), (134, 655, 16, 14), (134, 677, 16, 14), (134, 699, 16, 14), (134, 721, 16, 14), (134, 743, 16, 14), (134, 765, 16, 14), (134, 787, 16, 14), (134, 809, 16, 14), (134, 831, 16, 14), (134, 853, 16, 14), (134, 875, 16, 14), (134, 1021, 16, 14), (134, 1043, 16, 14), (134, 1065, 16, 14), (134, 1087, 16, 14), (134, 1109, 16, 14), (134, 1131, 16, 14), (134, 1153, 16, 14), (134, 1175, 16, 14), (134, 1197, 16, 14), (134, 1219, 16, 14), (134, 1241, 16, 14), (134, 897, 16, 14), (206, 111, 16, 14), (279, 454, 16, 14), (206, 552, 16, 14), (206, 573, 16, 14), (206, 595, 16, 14), (206, 617, 16, 14), (206, 638, 16, 14), (206, 660, 16, 14), (206, 682, 16, 14), (206, 704, 16, 14), (206, 726, 16, 14), (206, 748, 16, 14), (206, 770, 16, 14), (206, 792, 16, 14), (206, 814, 16, 14), (206, 836, 16, 14), (206, 858, 16, 14), (206, 880, 16, 14), (206, 1005, 16, 14), (206, 1027, 16, 14), (206, 1049, 16, 14), (206, 1071, 16, 14), (206, 1093, 16, 14), (206, 1115, 16, 14), (206, 1137, 16, 14), (206, 1159, 16, 14), (206, 1181, 16, 14), (206, 1203, 16, 14), (206, 1225, 16, 14), (206, 1247, 16, 14), (238, 1389, 16, 14), (206, 902, 16, 14), (220, 552, 16, 14), (247, 554, 16, 14), (220, 573, 16, 14), (247, 576, 16, 14), (247, 598, 16, 14), (220, 617, 16, 14), (247, 620, 16, 14), (247, 642, 16, 14), (220, 660, 16, 14), (247, 664, 16, 14), (247, 686, 16, 14), (220, 704, 16, 14), (247, 708, 16, 14), (247, 730, 16, 14), (220, 748, 16, 14), (247, 752, 16, 14), (247, 774, 16, 14), (220, 792, 16, 14), (247, 796, 16, 14), (247, 818, 16, 14), (220, 836, 16, 14), (247, 840, 16, 14), (247, 862, 16, 14), (220, 880, 16, 14), (220, 1005, 16, 14), (247, 1021, 16, 14), (247, 1043, 16, 14), (220, 1049, 16, 14), (247, 1065, 16, 14), (247, 1087, 16, 14), (220, 1093, 16, 14), (247, 1109, 16, 14), (247, 1131, 16, 14), (220, 1137, 16, 14), (247, 1153, 16, 14), (247, 1175, 16, 14), (220, 1181, 16, 14), (247, 1197, 16, 14), (220, 595, 16, 14), (220, 638, 16, 14), (220, 682, 16, 14), (220, 726, 16, 14), (220, 770, 16, 14), (220, 814, 16, 14), (220, 858, 16, 14), (220, 902, 16, 14), (220, 1027, 16, 14), (220, 1071, 16, 14), (220, 1115, 16, 14), (220, 1159, 16, 14), (220, 1203, 16, 14)]}}\n"
    }
   ],
   "source": [
    "json = {'Asiana_Boeing_777-200_ER_B_plane204.jpg': {}}\n",
    "pipeline.run_pipeline(liste_prepro_images, planes_data_csv=data_path, image_name=\"Asiana_Boeing_777-200_ER_B_plane204.jpg\", csv_data_path=\"./All Data/\", json=json)\n",
    "print(json)"
   ]
  },
  {
   "cell_type": "code",
   "execution_count": 36,
   "metadata": {},
   "outputs": [
    {
     "data": {
      "text/plain": "['AIRCRAFT_DETAIL_V2.xlsx',\n 'ALL_DATA.xlsx',\n 'ALL_DATA_ANNOTATE.xlsx',\n 'ANALYSE IMAGE',\n 'DATA_KAYAK_ROUTE.xlsx',\n 'KAYAK_AIRLINE_RATE_GLOBAL.xlsx',\n 'OTHERS_DATA_ANNOTATE.xlsx',\n 'SEATGURU_INFO_AIRCRAFT.csv']"
     },
     "execution_count": 36,
     "metadata": {},
     "output_type": "execute_result"
    }
   ],
   "source": [
    "os.listdir(data_path)"
   ]
  },
  {
   "cell_type": "code",
   "execution_count": 13,
   "metadata": {},
   "outputs": [
    {
     "ename": "TypeError",
     "evalue": "__init__() takes 1 positional argument but 3 were given",
     "output_type": "error",
     "traceback": [
      "\u001b[1;31m---------------------------------------------------------------------------\u001b[0m",
      "\u001b[1;31mTypeError\u001b[0m                                 Traceback (most recent call last)",
      "\u001b[1;32m<ipython-input-13-91b4d886c89b>\u001b[0m in \u001b[0;36m<module>\u001b[1;34m\u001b[0m\n\u001b[1;32m----> 1\u001b[1;33m \u001b[0mpipeline_zone\u001b[0m \u001b[1;33m=\u001b[0m \u001b[0mPipeline\u001b[0m\u001b[1;33m(\u001b[0m\u001b[1;34m\"/data/dataset/projetinterpromo/Interpromo2020/\"\u001b[0m\u001b[1;33m,\u001b[0m\u001b[1;34m\"Aer_Lingus_Airbus_A330-300_A_plane6.jpg\"\u001b[0m\u001b[1;33m)\u001b[0m\u001b[1;33m\u001b[0m\u001b[1;33m\u001b[0m\u001b[0m\n\u001b[0m\u001b[0;32m      2\u001b[0m \u001b[1;33m\u001b[0m\u001b[0m\n\u001b[0;32m      3\u001b[0m \u001b[0mpipeline_zone\u001b[0m\u001b[1;33m.\u001b[0m\u001b[0madd_processes\u001b[0m\u001b[1;33m(\u001b[0m\u001b[1;33m[\u001b[0m\u001b[0mColourPipelineZones\u001b[0m\u001b[1;33m,\u001b[0m \u001b[0mBlackWhite\u001b[0m\u001b[1;33m,\u001b[0m\u001b[0mSegmentationZone\u001b[0m\u001b[1;33m]\u001b[0m\u001b[1;33m)\u001b[0m\u001b[1;33m\u001b[0m\u001b[1;33m\u001b[0m\u001b[0m\n\u001b[0;32m      4\u001b[0m \u001b[0mpipeline_zone\u001b[0m\u001b[1;33m.\u001b[0m\u001b[0mrun_pipeline\u001b[0m\u001b[1;33m(\u001b[0m\u001b[1;36m1\u001b[0m\u001b[1;33m)\u001b[0m\u001b[1;33m\u001b[0m\u001b[1;33m\u001b[0m\u001b[0m\n",
      "\u001b[1;31mTypeError\u001b[0m: __init__() takes 1 positional argument but 3 were given"
     ]
    }
   ],
   "source": [
    "pipeline_zone = Pipeline(\"/data/dataset/projetinterpromo/Interpromo2020/\",\"Aer_Lingus_Airbus_A330-300_A_plane6.jpg\")\n",
    "\n",
    "pipeline_zone.add_processes([ColourPipelineZones, BlackWhite,SegmentationZone])\n",
    "pipeline_zone.run_pipeline(1)"
   ]
  },
  {
   "cell_type": "code",
   "execution_count": 10,
   "metadata": {
    "pycharm": {
     "is_executing": true
    }
   },
   "outputs": [
    {
     "data": {
      "text/plain": [
       "[(77, 146, 134, 198),\n",
       " (78, 200, 135, 277),\n",
       " (151, 185, 179, 241),\n",
       " (187, 305, 379, 349),\n",
       " (188, 148, 208, 165),\n",
       " (188, 192, 209, 229),\n",
       " (188, 258, 209, 275),\n",
       " (353, 256, 387, 292),\n",
       " (354, 130, 388, 166),\n",
       " (357, 192, 377, 230),\n",
       " (380, 187, 420, 237),\n",
       " (425, 294, 1382, 360),\n",
       " (428, 131, 443, 160),\n",
       " (428, 162, 443, 175),\n",
       " (428, 190, 443, 232),\n",
       " (428, 265, 443, 275),\n",
       " (429, 251, 443, 266),\n",
       " (429, 277, 443, 290),\n",
       " (619, 63, 705, 128),\n",
       " (698, 131, 715, 160),\n",
       " (698, 248, 715, 275),\n",
       " (698, 277, 715, 290),\n",
       " (700, 162, 715, 175),\n",
       " (700, 190, 714, 205),\n",
       " (700, 219, 714, 232),\n",
       " (707, 110, 804, 128),\n",
       " (718, 123, 763, 175),\n",
       " (718, 247, 756, 293),\n",
       " (721, 190, 736, 203),\n",
       " (721, 205, 736, 232),\n",
       " (758, 294, 815, 304),\n",
       " (765, 190, 781, 215),\n",
       " (766, 133, 781, 151),\n",
       " (766, 162, 782, 175),\n",
       " (766, 214, 781, 233),\n",
       " (766, 265, 781, 275),\n",
       " (766, 277, 782, 290),\n",
       " (996, 190, 1010, 203),\n",
       " (996, 219, 1010, 232),\n",
       " (1016, 131, 1031, 160),\n",
       " (1016, 162, 1031, 175),\n",
       " (1016, 248, 1031, 275),\n",
       " (1016, 247, 1066, 292),\n",
       " (1034, 130, 1066, 175),\n",
       " (1034, 190, 1085, 233),\n",
       " (1075, 123, 1089, 135),\n",
       " (1095, 277, 1112, 291),\n",
       " (1096, 131, 1113, 160),\n",
       " (1096, 162, 1111, 175),\n",
       " (1096, 193, 1111, 224),\n",
       " (1096, 248, 1111, 266),\n",
       " (1096, 265, 1113, 276),\n",
       " (1347, 162, 1361, 175),\n",
       " (1347, 191, 1361, 203),\n",
       " (1347, 219, 1361, 232),\n",
       " (1347, 248, 1361, 261),\n",
       " (1366, 133, 1382, 160),\n",
       " (1367, 205, 1382, 232),\n",
       " (1367, 277, 1384, 292),\n",
       " (1368, 190, 1382, 203),\n",
       " (1368, 262, 1382, 275),\n",
       " (1385, 189, 1433, 234),\n",
       " (1386, 132, 1430, 165),\n",
       " (1386, 257, 1430, 291),\n",
       " (1450, 146, 1612, 195),\n",
       " (1451, 227, 1613, 277),\n",
       " (1490, 138, 1556, 158),\n",
       " (1490, 264, 1555, 284),\n",
       " (1556, 155, 1578, 164),\n",
       " (1556, 258, 1578, 268)]"
      ]
     },
     "execution_count": 10,
     "metadata": {},
     "output_type": "execute_result"
    }
   ],
   "source": [
    "pipeline_zone.json[list(pipeline_zone.json.keys())[0]][\"rectangles\"]"
   ]
  },
  {
   "cell_type": "code",
   "execution_count": 11,
   "metadata": {
    "pycharm": {
     "is_executing": true
    }
   },
   "outputs": [
    {
     "data": {
      "text/plain": [
       "'Garuda_Indonesia_Boeing_777-300ER_V2_plane448.jpg'"
      ]
     },
     "execution_count": 11,
     "metadata": {},
     "output_type": "execute_result"
    }
   ],
   "source": [
    "list(pipeline_zone.json.keys())[0]"
   ]
  },
  {
   "cell_type": "code",
   "execution_count": 12,
   "metadata": {
    "pycharm": {
     "is_executing": true
    }
   },
   "outputs": [
    {
     "data": {
      "text/plain": [
       "{'Garuda_Indonesia_Boeing_777-300ER_V2_plane448.jpg': {'BUSINESS': [(146,\n",
       "    244,\n",
       "    21,\n",
       "    18),\n",
       "   (135, 328, 21, 18),\n",
       "   (182, 328, 21, 18),\n",
       "   (271, 328, 21, 18),\n",
       "   (260, 244, 21, 18),\n",
       "   (193, 244, 21, 18),\n",
       "   (146, 300, 21, 18),\n",
       "   (135, 272, 21, 18),\n",
       "   (182, 272, 21, 18),\n",
       "   (271, 272, 21, 18),\n",
       "   (260, 300, 21, 18),\n",
       "   (213, 244, 21, 18),\n",
       "   (193, 300, 21, 18),\n",
       "   (224, 328, 21, 18),\n",
       "   (224, 272, 21, 18),\n",
       "   (213, 300, 21, 18),\n",
       "   (223, 328, 21, 18),\n",
       "   (146, 301, 21, 18),\n",
       "   (212, 244, 21, 18),\n",
       "   (223, 272, 21, 18),\n",
       "   (193, 301, 21, 18),\n",
       "   (260, 301, 21, 18),\n",
       "   (193, 357, 21, 18),\n",
       "   (212, 300, 21, 18),\n",
       "   (213, 301, 21, 18),\n",
       "   (213, 357, 21, 18),\n",
       "   (212, 301, 21, 18),\n",
       "   (212, 357, 21, 18)],\n",
       "  'ECONOMY': []}}"
      ]
     },
     "execution_count": 12,
     "metadata": {},
     "output_type": "execute_result"
    }
   ],
   "source": [
    "pipeline.json"
   ]
  },
  {
   "cell_type": "code",
   "execution_count": 13,
   "metadata": {
    "pycharm": {
     "is_executing": true
    }
   },
   "outputs": [
    {
     "name": "stdout",
     "output_type": "stream",
     "text": [
      "Garuda_Indonesia_Boeing_777-300ER_V2_plane448.jpg\n"
     ]
    }
   ],
   "source": [
    "for values in pipeline.json:\n",
    "    print(values)"
   ]
  },
  {
   "cell_type": "code",
   "execution_count": 14,
   "metadata": {
    "pycharm": {
     "is_executing": true
    }
   },
   "outputs": [
    {
     "data": {
      "text/plain": [
       "[{'BUSINESS': [(146, 244, 21, 18),\n",
       "   (135, 328, 21, 18),\n",
       "   (182, 328, 21, 18),\n",
       "   (271, 328, 21, 18),\n",
       "   (260, 244, 21, 18),\n",
       "   (193, 244, 21, 18),\n",
       "   (146, 300, 21, 18),\n",
       "   (135, 272, 21, 18),\n",
       "   (182, 272, 21, 18),\n",
       "   (271, 272, 21, 18),\n",
       "   (260, 300, 21, 18),\n",
       "   (213, 244, 21, 18),\n",
       "   (193, 300, 21, 18),\n",
       "   (224, 328, 21, 18),\n",
       "   (224, 272, 21, 18),\n",
       "   (213, 300, 21, 18),\n",
       "   (223, 328, 21, 18),\n",
       "   (146, 301, 21, 18),\n",
       "   (212, 244, 21, 18),\n",
       "   (223, 272, 21, 18),\n",
       "   (193, 301, 21, 18),\n",
       "   (260, 301, 21, 18),\n",
       "   (193, 357, 21, 18),\n",
       "   (212, 300, 21, 18),\n",
       "   (213, 301, 21, 18),\n",
       "   (213, 357, 21, 18),\n",
       "   (212, 301, 21, 18),\n",
       "   (212, 357, 21, 18)],\n",
       "  'ECONOMY': []}]"
      ]
     },
     "execution_count": 14,
     "metadata": {},
     "output_type": "execute_result"
    }
   ],
   "source": [
    "\n",
    "\n",
    "list(pipeline.json.keys())\n",
    "list(pipeline.json.values())"
   ]
  },
  {
   "cell_type": "code",
   "execution_count": 15,
   "metadata": {
    "pycharm": {
     "is_executing": true
    }
   },
   "outputs": [],
   "source": [
    "class DistPipeline():\n",
    "\n",
    "    def find_cluster(self, epsilon: int, min_sample: int, list_wo_dup: list):\n",
    "        \"\"\"Documentation\n",
    "        Parameters:\n",
    "            epsilon: the maximum distance between two samples for one to be considered as in the neighborhood of the other\n",
    "            min_sample: the number of samples in a neighborhood for a point to be considered as a core point\n",
    "            list_wo_dup: list of seats coordinates not duplicated\n",
    "        Out:\n",
    "            dbscan: clustering result with DBSCAN\n",
    "        \"\"\"\n",
    "        x_wo_dup = [a for a, b in list_wo_dup]\n",
    "        y_wo_dup = [b for a, b in list_wo_dup]\n",
    "        dbscan = DBSCAN(eps=epsilon, min_samples=min_sample).fit(list_wo_dup)\n",
    "        plt.scatter(x_wo_dup, y_wo_dup, c=dbscan.labels_.astype(\n",
    "            float), s=50, alpha=0.5)\n",
    "        plt.show()\n",
    "        return(dbscan)\n",
    "\n",
    "    def clusters_to_rect(self, dbscan, array_wo_dup: np.array):\n",
    "        \"\"\"Documentation\n",
    "        Parameters:\n",
    "            dbscan: clustering result with DBSCAN\n",
    "        Out:\n",
    "            list_rect: list of rectangles representing each cluster\n",
    "        \"\"\"\n",
    "        list_coord = array_wo_dup\n",
    "        label_groups = pd.Series(dbscan.labels_).unique()\n",
    "        list_rect = []  # to plot with plt.patches\n",
    "        list_rect2 = []  # all corners of the rectangles\n",
    "        HEIGHT: int = 30\n",
    "        WIDTH: int = 20\n",
    "        for group in label_groups:\n",
    "            index = [i for i, x in enumerate(list(dbscan.labels_)) if x == group]\n",
    "            points_cluster = list_coord[index]\n",
    "            corner_bottom_right = (max(i[0] for i in points_cluster) + WIDTH, min(\n",
    "                i[1] for i in points_cluster) - HEIGHT)\n",
    "            corner_top_right = (max(i[0] for i in points_cluster) + WIDTH, max(\n",
    "                i[1] for i in points_cluster))\n",
    "            corner_top_left = (min(i[0] for i in points_cluster), max(\n",
    "                i[1] for i in points_cluster))\n",
    "            corner_bottom_left = (min(i[0] for i in points_cluster), min(\n",
    "                i[1] for i in points_cluster) - HEIGHT)\n",
    "            height = corner_top_right[1] - corner_bottom_right[1]\n",
    "            width = corner_bottom_right[0] - corner_bottom_left[0]\n",
    "            list_rect.append(((corner_bottom_left), width, height))\n",
    "            list_rect2.append(\n",
    "                (corner_bottom_left, corner_top_left, corner_top_right, corner_bottom_right))\n",
    "        return list_rect, list_rect2\n",
    "\n",
    "    def centroid_obstacle(self, coord_obs: tuple):\n",
    "        \"\"\"Documentation\n",
    "        Parameters:\n",
    "            coord_obs: cooardinate of the obstacle\n",
    "        Out:\n",
    "            coord_bar_obs: barycenter cooardinate of the obstacle\n",
    "        \"\"\"\n",
    "        A_point = coord_obs[0][1], coord_obs[0][0]\n",
    "        B_point = coord_obs[1][1], coord_obs[1][0]\n",
    "        coord_bar_obs = int(np.mean([A_point[0], B_point[0]])), int(\n",
    "            np.mean([A_point[1], B_point[1]]))\n",
    "        return coord_bar_obs\n",
    "\n",
    "    def centroid_seat(self,coord_seat: tuple):\n",
    "        \"\"\"Documentation\n",
    "        Parameters:\n",
    "            coord_seat: cooardinate of the seat\n",
    "        Out:\n",
    "            coord_bar_seat: barycenter cooardinate of the seat\n",
    "        \"\"\"\n",
    "        x, y = coord_seat[0], coord_seat[1]\n",
    "        h, w = 30, 20\n",
    "        coord_bar_seat = int(np.mean([x, x+w])), int(np.mean([y, y+h]))\n",
    "        return coord_bar_seat\n",
    "\n",
    "    def dist_crow_flies(self, coord_bar_seat: tuple, coord_bar_obs: tuple):\n",
    "        \"\"\"Documentation\n",
    "        Parameters:\n",
    "            coord_bar_seat: barycenter coordinate of the seat\n",
    "            coord_bar_obs: barycenter cooardinate of the obstacle\n",
    "        Out:\n",
    "            dist: distance between the two barycenter\n",
    "        \"\"\"\n",
    "        dist = np.sqrt(((coord_bar_obs[0]-coord_bar_seat[0])\n",
    "                        ** 2)+((coord_bar_obs[1]-coord_bar_seat[1])**2))\n",
    "        return round(dist, 2)\n",
    "\n",
    "    def to_json(self, json_seat: dict, json_zone: dict):\n",
    "        \"\"\"Documentation\n",
    "        Parameters:\n",
    "            pipeline_zone.json: json ???\n",
    "            pipeline.json: json ???\n",
    "        Out:\n",
    "            dicimg: json final structure\n",
    "        \"\"\"\n",
    "        dicimg = {}\n",
    "        for img in list(pipeline_zone.json.keys()):\n",
    "            dictypeseat = {}\n",
    "            for typeseat in pipeline.json:\n",
    "                dicseat = {}\n",
    "                for seat in pipeline.json[typeseat]:\n",
    "                    j = 0\n",
    "                    dicobs = {}\n",
    "                    for obs in obstacle:\n",
    "                        j += 1\n",
    "                        dicobs[(\"obstacle\"+str(j))] = [centroid_obstacle(obs),\n",
    "                                                       dist_crow_flies(centroid_seat(seat), centroid_obstacle(obs))]\n",
    "\n",
    "                    dicseat[centroid_seat(seat)] = dicobs\n",
    "                dictypeseat[typeseat] = dicseat\n",
    "            dicimg[img] = dictypeseat\n",
    "        return dicimg"
   ]
  },
  {
   "cell_type": "code",
   "execution_count": 16,
   "metadata": {
    "pycharm": {
     "is_executing": true
    }
   },
   "outputs": [
    {
     "data": {
      "text/plain": [
       "['Garuda_Indonesia_Boeing_777-300ER_V2_plane448.jpg']"
      ]
     },
     "execution_count": 16,
     "metadata": {},
     "output_type": "execute_result"
    }
   ],
   "source": [
    "list(pipeline_zone.json.keys())"
   ]
  },
  {
   "cell_type": "code",
   "execution_count": 17,
   "metadata": {
    "pycharm": {
     "is_executing": true
    }
   },
   "outputs": [],
   "source": [
    " #list(pipeline.json.values())[])"
   ]
  },
  {
   "cell_type": "code",
   "execution_count": 18,
   "metadata": {
    "pycharm": {
     "is_executing": true
    }
   },
   "outputs": [
    {
     "data": {
      "text/plain": [
       "dict"
      ]
     },
     "execution_count": 18,
     "metadata": {},
     "output_type": "execute_result"
    }
   ],
   "source": [
    "type(pipeline_zone.json)"
   ]
  },
  {
   "cell_type": "code",
   "execution_count": 19,
   "metadata": {
    "pycharm": {
     "is_executing": true
    }
   },
   "outputs": [
    {
     "ename": "NameError",
     "evalue": "name 'obstacle' is not defined",
     "output_type": "error",
     "traceback": [
      "\u001b[0;31m---------------------------------------------------------------------------\u001b[0m",
      "\u001b[0;31mNameError\u001b[0m                                 Traceback (most recent call last)",
      "\u001b[0;32m<ipython-input-19-ccfccc3abffa>\u001b[0m in \u001b[0;36m<module>\u001b[0;34m\u001b[0m\n\u001b[1;32m      1\u001b[0m \u001b[0mcoucou\u001b[0m \u001b[0;34m=\u001b[0m \u001b[0mDistPipeline\u001b[0m\u001b[0;34m(\u001b[0m\u001b[0;34m)\u001b[0m\u001b[0;34m\u001b[0m\u001b[0;34m\u001b[0m\u001b[0m\n\u001b[1;32m      2\u001b[0m \u001b[0;34m\u001b[0m\u001b[0m\n\u001b[0;32m----> 3\u001b[0;31m \u001b[0mcoucou\u001b[0m\u001b[0;34m.\u001b[0m\u001b[0mto_json\u001b[0m\u001b[0;34m(\u001b[0m\u001b[0mpipeline\u001b[0m\u001b[0;34m.\u001b[0m\u001b[0mjson\u001b[0m\u001b[0;34m,\u001b[0m \u001b[0mpipeline_zone\u001b[0m\u001b[0;34m.\u001b[0m\u001b[0mjson\u001b[0m\u001b[0;34m)\u001b[0m\u001b[0;34m\u001b[0m\u001b[0;34m\u001b[0m\u001b[0m\n\u001b[0m",
      "\u001b[0;32m<ipython-input-15-2ef636b4a605>\u001b[0m in \u001b[0;36mto_json\u001b[0;34m(self, json_seat, json_zone)\u001b[0m\n\u001b[1;32m    102\u001b[0m                     \u001b[0mj\u001b[0m \u001b[0;34m=\u001b[0m \u001b[0;36m0\u001b[0m\u001b[0;34m\u001b[0m\u001b[0;34m\u001b[0m\u001b[0m\n\u001b[1;32m    103\u001b[0m                     \u001b[0mdicobs\u001b[0m \u001b[0;34m=\u001b[0m \u001b[0;34m{\u001b[0m\u001b[0;34m}\u001b[0m\u001b[0;34m\u001b[0m\u001b[0;34m\u001b[0m\u001b[0m\n\u001b[0;32m--> 104\u001b[0;31m                     \u001b[0;32mfor\u001b[0m \u001b[0mobs\u001b[0m \u001b[0;32min\u001b[0m \u001b[0mobstacle\u001b[0m\u001b[0;34m:\u001b[0m\u001b[0;34m\u001b[0m\u001b[0;34m\u001b[0m\u001b[0m\n\u001b[0m\u001b[1;32m    105\u001b[0m                         \u001b[0mj\u001b[0m \u001b[0;34m+=\u001b[0m \u001b[0;36m1\u001b[0m\u001b[0;34m\u001b[0m\u001b[0;34m\u001b[0m\u001b[0m\n\u001b[1;32m    106\u001b[0m                         dicobs[(\"obstacle\"+str(j))] = [centroid_obstacle(obs),\n",
      "\u001b[0;31mNameError\u001b[0m: name 'obstacle' is not defined"
     ]
    }
   ],
   "source": [
    "coucou = DistPipeline()\n",
    "\n",
    "coucou.to_json(pipeline.json, pipeline_zone.json)"
   ]
  },
  {
   "cell_type": "code",
   "execution_count": null,
   "metadata": {
    "pycharm": {
     "is_executing": true
    }
   },
   "outputs": [],
   "source": []
  },
  {
   "cell_type": "raw",
   "metadata": {
    "pycharm": {
     "is_executing": true
    }
   },
   "source": [
    "\n",
    "                    \n",
    "class PatternMatchingNormalSeat(Process):\n",
    "    process_desc = \"OpenCV4.1.2.30 -> pattern matching normal seat\"\n",
    "    def __init__(self, *args, **kwargs):\n",
    "        super().__init__(*args, **kwargs)\n",
    "    def coord_pattern_finder(self,image, template, threshold: float):\n",
    "        \"\"\"\n",
    "        input:\n",
    "            image : image plane cv2.imread() black and white\n",
    "            template : image pattern cv2.imread() black and white\n",
    "            threshold : threshold for this pattern\n",
    "        output:\n",
    "            position : list right angle position for this pattern on the image\n",
    "\n",
    "        \"\"\"\n",
    "        position = []  # Variable output\n",
    "        # List of match\n",
    "        res = cv.matchTemplate(image, template, cv.TM_CCOEFF_NORMED)\n",
    "        for pos in zip(*np.where(res >= threshold)[::-1]):\n",
    "            position.append(pos)\n",
    "        return(position)\n",
    "    \n",
    "    \n",
    "    def run(self, image, json, image_rgb = None, col_obj = None, templates = None, data_image=None, **kwargs) -> None :\n",
    "        #col_obj = Colour(data_path, layouts[0], p)\n",
    "        #col_obj = Colour(data_image[0], data_image[1][0], data_image[2])\n",
    "        \n",
    "    # Make a colour detection based on the layout type ('GURU' or 'MAESTRO') and image type('png', 'jpg')\n",
    "        img_to_show = image\n",
    "\n",
    "        img_rgb = image_rgb\n",
    "        img_gray = image\n",
    "#         img_rgb = cv.imread(data_image, 1)\n",
    "        img_gray = cv.imread(data_image, 0)\n",
    "        print(data_image + ' shape', img_gray.shape)\n",
    "\n",
    "        for template_name in templates:\n",
    "            #template = cv.imread(templates_path + template_name, 0)\n",
    "            \n",
    "            template = cv.imread(\"./images/\" + template_name, 0)\n",
    "            if template is not None:\n",
    "                h, w = template.shape\n",
    "                print(template_name, h,w,img_gray.shape)\n",
    "\n",
    "                threshold = 0.8 #  Default threshold\n",
    "                # Choose threshold for each template\n",
    "                if template_name == 'temp_business_seat_armrest_left.jpg':\n",
    "                    threshold = 0.6\n",
    "                elif template_name == 'temp_business_seat_armrest_right.jpg':\n",
    "                    threshold = 0.6\n",
    "                elif template_name == 'temp_business_seat_footrest.jpg':\n",
    "                    threshold = 1\n",
    "                elif template_name == 'temp_first_seat.jpg':\n",
    "                    threshold = 1\n",
    "                elif template_name == 'temp_normal_seat.png':\n",
    "                    threshold = 0.7\n",
    "                elif template_name == 'temp_normal_seat_elec.jpg':\n",
    "                    threshold = 1\n",
    "                elif template_name == 'temp_normal_seat_little.jpg':\n",
    "                    threshold = 0.65\n",
    "                elif template_name == 'temp_yellow_seat.jpg':\n",
    "                    threshold = 1\n",
    "\n",
    "                position = self.coord_pattern_finder(img_gray, template, threshold)\n",
    "\n",
    "                for pos in position:\n",
    "                    img_to_show = cv.rectangle(img_to_show, pos, (pos[0] + w, pos[1] + h), (0, 0, 255), 2)\n",
    "                json[template_name] = position\n",
    "        plt.figure(figsize=(20, 40))\n",
    "        plt.imshow(img_to_show.astype('uint8'))\n",
    "        print(json)"
   ]
  }
 ],
 "metadata": {
  "kernelspec": {
   "display_name": "Python 3",
   "language": "python",
   "name": "python3"
  },
  "language_info": {
   "codemirror_mode": {
    "name": "ipython",
    "version": 3
   },
   "file_extension": ".py",
   "mimetype": "text/x-python",
   "name": "python",
   "nbconvert_exporter": "python",
   "pygments_lexer": "ipython3",
   "version": "3.7.3-final"
  }
 },
 "nbformat": 4,
 "nbformat_minor": 1
}