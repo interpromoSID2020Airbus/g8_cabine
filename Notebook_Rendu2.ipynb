{
 "cells": [
  {
   "cell_type": "code",
   "execution_count": null,
   "metadata": {
    "pycharm": {
     "is_executing": false
    }
   },
   "outputs": [],
   "source": [
    "# !git clone https://github.com/vincentnam/ProjetInterpromo2020G8.git"
   ]
  },
  {
   "cell_type": "code",
   "execution_count": 5,
   "metadata": {
    "pycharm": {
     "is_executing": false
    }
   },
   "outputs": [],
   "source": [
    "from layout_processing.blackwhite import BlackWhite\n",
    "from layout_processing.colourpipelinezone import ColourPipelineZones\n",
    "from layout_processing.pipeline import Pipeline\n",
    "from layout_processing.removedoubleseat import RemoveDoubleSeat\n",
    "from layout_processing.seatfinder import SeatFinder\n",
    "from layout_processing.segmentationzone import SegmentationZone"
   ]
  },
  {
   "cell_type": "code",
   "execution_count": null,
   "metadata": {
    "pycharm": {
     "is_executing": false
    }
   },
   "outputs": [],
   "source": [
    "base_data_path = \"../../M2_DATA_PIPELINE/\""
   ]
  },
  {
   "cell_type": "markdown",
   "metadata": {},
   "source": [
    "# Pipeline Seat"
   ]
  },
  {
   "cell_type": "code",
   "execution_count": null,
   "metadata": {
    "pycharm": {
     "is_executing": false
    }
   },
   "outputs": [],
   "source": [
    "pipeline_seat = Pipeline(base_data_path,[\"Aer_Lingus_Airbus_A330-300_A_plane6.jpg\"])\n",
    "pipeline_seat.add_processes([BlackWhite,SeatFinder, RemoveDoubleSeat])"
   ]
  },
  {
   "cell_type": "code",
   "execution_count": null,
   "metadata": {
    "pycharm": {
     "is_executing": false
    },
    "scrolled": true
   },
   "outputs": [],
   "source": [
    "pipeline_seat.run_pipeline(1)"
   ]
  },
  {
   "cell_type": "markdown",
   "metadata": {},
   "source": [
    "# Pipeline Zone"
   ]
  },
  {
   "cell_type": "code",
   "execution_count": null,
   "metadata": {
    "pycharm": {
     "is_executing": false
    }
   },
   "outputs": [],
   "source": [
    "pipeline_zone = Pipeline(base_data_path,[\"Aer_Lingus_Airbus_A330-300_A_plane6.jpg\"])\n",
    "pipeline_zone.add_processes([ColourPipelineZones, BlackWhite, SegmentationZone])\n",
    "pipeline_zone.run_pipeline(1)"
   ]
  },
  {
   "cell_type": "code",
   "execution_count": null,
   "metadata": {},
   "outputs": [],
   "source": [
    "import cv2 as cv \n",
    "import matplotlib.pyplot as plt \n",
    "\n",
    "\n",
    "def to_rgb(image):\n",
    "        return cv.cvtColor(image, cv.COLOR_BGR2RGB)\n",
    "    \n",
    "def draw_contour(image, name_img, pipeline_zone, pipeline_seat):\n",
    "    \n",
    "    image = to_rgb(image) # change color postion BGR to RGB\n",
    "    \n",
    "    # \n",
    "    dict_colour_seat = {'BUSINESS': (255, 0, 0),\n",
    "                     'ECONOMY': (255, 0, 255),\n",
    "                     'FIRST': (0, 255, 0),\n",
    "                     'PREMIUM': (255, 255, 0)}\n",
    "    \n",
    "    # for each rectangles it will draw it on the image\n",
    "    for zone in pipeline_zone[name_img]:\n",
    "        for rect in pipeline_zone[name_img][zone]:\n",
    "            y, x = rect[0], rect[1]\n",
    "            w, h = abs(x-rect[3]), abs(y-rect[2])\n",
    "            image = cv.rectangle(image, (x,y), (x+w, y+h),(0,0,255), 2)\n",
    "            \n",
    "    for category in pipeline_seat[name_img]:\n",
    "        for seat in pipeline_seat[name_img][category]:\n",
    "            x , y = seat[0], seat[1]\n",
    "            h, w = seat[2], seat[3]\n",
    "            image = cv.rectangle(image, (x,y), (x+w, y+h),dict_colour_seat[category], 2)\n",
    "     \n",
    "    plt.figure(figsize=(20,40))\n",
    "    plt.imshow(image)\n",
    "\n",
    "image = cv.imread(base_data_path + '/All Data'+\n",
    "                 '/ANALYSE IMAGE/LAYOUT SEATGURU/Aer_Lingus_Airbus_A330-300_A_plane6.jpg')\n",
    "\n",
    "draw_contour(image,\"Aer_Lingus_Airbus_A330-300_A_plane6.jpg\", pipeline_zone.json, pipeline_seat.json)"
   ]
  },
  {
   "cell_type": "markdown",
   "metadata": {},
   "source": [
    "## Pipeline Merge"
   ]
  },
  {
   "cell_type": "code",
   "execution_count": null,
   "metadata": {
    "pycharm": {
     "is_executing": false
    },
    "scrolled": true
   },
   "outputs": [],
   "source": [
    "from layout_processing.distpipeline import DistPipeline"
   ]
  },
  {
   "cell_type": "code",
   "execution_count": null,
   "metadata": {
    "pycharm": {
     "is_executing": false
    }
   },
   "outputs": [],
   "source": [
    "dist_pipeline = DistPipeline(pipeline_seat, pipeline_zone)"
   ]
  },
  {
   "cell_type": "code",
   "execution_count": null,
   "metadata": {
    "pycharm": {
     "is_executing": false
    },
    "scrolled": false
   },
   "outputs": [],
   "source": [
    "json_dist = dist_pipeline.to_json_simple_distance(dist_pipeline.pipeline.json, dist_pipeline.pipeline_zone.json)\n",
    "print(json_dist)"
   ]
  },
  {
   "cell_type": "code",
   "execution_count": null,
   "metadata": {
    "pycharm": {
     "is_executing": false
    }
   },
   "outputs": [],
   "source": []
  },
  {
   "cell_type": "raw",
   "metadata": {
    "pycharm": {
     "is_executing": true
    }
   },
   "source": []
  }
 ],
 "metadata": {
  "kernelspec": {
   "display_name": "Python 3",
   "language": "python",
   "name": "python3"
  },
  "language_info": {
   "codemirror_mode": {
    "name": "ipython",
    "version": 3
   },
   "file_extension": ".py",
   "mimetype": "text/x-python",
   "name": "python",
   "nbconvert_exporter": "python",
   "pygments_lexer": "ipython3",
   "version": "3.7.1"
  }
 },
 "nbformat": 4,
 "nbformat_minor": 1
}
