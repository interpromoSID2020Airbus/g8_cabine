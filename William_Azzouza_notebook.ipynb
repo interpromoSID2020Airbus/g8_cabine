{
 "cells": [
  {
   "cell_type": "code",
   "execution_count": 1,
   "metadata": {
    "pycharm": {
     "is_executing": false
    }
   },
   "outputs": [],
   "source": [
    "from pipeline import Pipeline, Process, Postprocess, Preprocess\n",
    "import numpy as np\n",
    "import pandas as pd"
   ]
  },
  {
   "cell_type": "code",
   "execution_count": 2,
   "metadata": {},
   "outputs": [],
   "source": [
    "class MyPreProcess(Preprocess):\n",
    "    process_desc = \"Exemple de pre-process -> ne fait rien\"\n",
    "    # prends en param la liste d'images\n",
    "    def run(self, images):\n",
    "        pass\n",
    "\n",
    "\n",
    "class MyProcess(Process):\n",
    "    process_desc = \"Exemple de process -> ne fait rien\"\n",
    "    def run(self, images):\n",
    "        pass\n",
    "    \n",
    "    \n",
    "class MyPostProcess(Postprocess):\n",
    "    process_desc = \"Exemple de post-process -> ne fait rien\"\n",
    "    def run(self, images):\n",
    "        pass"
   ]
  },
  {
   "cell_type": "code",
   "execution_count": 3,
   "metadata": {},
   "outputs": [
    {
     "name": "stdout",
     "output_type": "stream",
     "text": [
      "Preprocess :  Exemple de pre-process -> ne fait rien\n",
      "Process :  Exemple de process -> ne fait rien\n",
      "Postprocess :  Exemple de post-process -> ne fait rien\n",
      "Exemple de pre-process -> ne fait rien a été ajouté.\n",
      "Exemple de process -> ne fait rien a été ajouté.\n",
      "Exemple de post-process -> ne fait rien a été ajouté.\n",
      "Exemple de pre-process -> ne fait rien a été ajouté.\n"
     ]
    }
   ],
   "source": [
    "pipeline = Pipeline()\n",
    "process_array = np.array([MyPreProcess()\n",
    "                          ,MyProcess()\n",
    "                          ,MyPostProcess()\n",
    "                          ,MyPreProcess(verbose=0)])\n",
    "pipeline.add_processes(process_array)"
   ]
  },
  {
   "cell_type": "code",
   "execution_count": 4,
   "metadata": {
    "scrolled": true
   },
   "outputs": [
    {
     "name": "stdout",
     "output_type": "stream",
     "text": [
      "Exemple de pre-process -> ne fait rien\n",
      "Exemple de pre-process -> ne fait rien\n",
      "Exemple de process -> ne fait rien\n",
      "Exemple de post-process -> ne fait rien\n"
     ]
    }
   ],
   "source": [
    "pipeline.print_process()"
   ]
  },
  {
   "cell_type": "code",
   "execution_count": 5,
   "metadata": {},
   "outputs": [],
   "source": [
    "import os\n",
    "import cv2 as cv\n",
    "import matplotlib.pyplot as plt\n",
    "import numpy as np\n",
    "import numpy as np\n",
    "import pandas as pd\n",
    "from collections import defaultdict\n",
    "from PIL import Image\n",
    "from tqdm import tqdm_notebook as tqdm\n",
    "\n",
    "\n",
    "from matplotlib import image\n",
    "import matplotlib.patches as mpatches\n",
    "from skimage import io\n",
    "import skimage.segmentation as seg\n",
    "from skimage.segmentation import clear_border\n",
    "import skimage.filters as filters\n",
    "from skimage.filters import threshold_otsu\n",
    "import skimage.draw as draw\n",
    "import skimage.color as color\n",
    "from skimage.color import label2rgb\n",
    "from skimage.measure import label, regionprops\n",
    "from skimage.morphology import closing, square\n",
    "\n",
    "data_path = \"/home/sid2019-1/Documents/M2_DATA_INTERPROMO/\""
   ]
  },
  {
   "cell_type": "markdown",
   "metadata": {},
   "source": [
    "# Helpful Functions  (cf.Cyril GAILLARD)"
   ]
  },
  {
   "cell_type": "code",
   "execution_count": 6,
   "metadata": {},
   "outputs": [],
   "source": [
    "def hasNumbers(inputString):\n",
    "    return any(char.isdigit() for char in inputString)\n",
    "\n",
    "def longestValue(inputList):\n",
    "    if len(inputList) > 0:\n",
    "        max_len = 0\n",
    "        for i, el in enumerate(inputList):\n",
    "            if len(el) > max_len:\n",
    "                max_len = i\n",
    "        return inputList[max_len]\n",
    "    return 0\n",
    "\n",
    "def get_relevant_aircraft_builders(image_names, proportion_min=0.02, proportion_max=0.75):\n",
    "    # retrieve aircraft types\n",
    "    aircraft_builders = np.unique([a_type.split(' ')[0].lower() for a_type in pd.read_csv(data_path + 'SEATGURU_INFO_AIRCRAFT.csv', sep=';')['Aircraft_Type'].tolist() if len(a_type.split(' ')) > 1])\n",
    "    \n",
    "    # remove aircraft_builder that have Numerics in it\n",
    "    aircraft_builders = [a_builder for a_builder in  aircraft_builders if not hasNumbers(a_builder) and len(a_builder) > 2]\n",
    "    \n",
    "    # remove aircraft with too low occurences in the \"IMAGES_NAMES\" list\n",
    "    relevant_aircraft_builders = {}\n",
    "    for a_builder in aircraft_builders:\n",
    "        proportion = sum([1for img_n in image_names if a_builder in img_n.lower()]) / len(image_names)\n",
    "        if proportion > proportion_min and proportion < proportion_max:\n",
    "            relevant_aircraft_builders[a_builder] = proportion\n",
    "\n",
    "    # remove non aircradft builder that remain\n",
    "    del relevant_aircraft_builders['airlines']\n",
    "    del relevant_aircraft_builders['irbus']\n",
    "    del relevant_aircraft_builders['airways']\n",
    "    del relevant_aircraft_builders['ays']\n",
    "\n",
    "    \n",
    "    # sort by proportion\n",
    "    relevant_aircraft_builders = {k: v for k, v in sorted(relevant_aircraft_builders.items(), key=lambda item: item[1])}\n",
    "    return relevant_aircraft_builders\n",
    "\n",
    "def get_airline_aircraft_builder_pos(image_names, aircraft_builders, airlines, aircraft_ref, pattern):\n",
    "    # Initialisation of dict\n",
    "    dictio_airlines_aircraft_builders = []\n",
    "        \n",
    "    for image_name in image_names:\n",
    "        \n",
    "        size = Image.open(data_path + layout + image_name).size \n",
    "        \n",
    "        dictio_airlines_aircraft_builders.append({\n",
    "            'image_name': image_name,\n",
    "            'aircraft_builder': '', \n",
    "            'position_aircraft_builder': -1, \n",
    "            'airline': '',\n",
    "            'aircraft_ref': [],\n",
    "            'x_size': int(size[0]),\n",
    "            'y_size': int(size[1])\n",
    "        })\n",
    "        \n",
    "        last_el = len(dictio_airlines_aircraft_builders) - 1\n",
    "        # initiliase position\n",
    "        position = -1\n",
    "        # a little pre-process to clean-up image name\n",
    "        img_inf = image_name.lower().split('.')[0].split(pattern)\n",
    "\n",
    "        for i, item in enumerate(img_inf):\n",
    "            for a_builder in aircraft_builders:\n",
    "                # check if the image contains the aircraft builder\n",
    "                if a_builder == item:\n",
    "                    # add the aircraft builder in the image name\n",
    "                    position = i\n",
    "                    dictio_airlines_aircraft_builders[last_el]['aircraft_builder'] = a_builder\n",
    "                    \n",
    "        if position == -1: dictio_airlines_aircraft_builders[last_el]['aircraft_builder'] = 'not_relevant_aircraft_builders'\n",
    "        dictio_airlines_aircraft_builders[last_el]['position_aircraft_builder'] = position\n",
    "        \n",
    "        # add airlines deduce by the image name\n",
    "        for airline in airlines:\n",
    "            if airline + pattern in image_name.lower():\n",
    "                dictio_airlines_aircraft_builders[last_el]['airline'] = airline\n",
    "                \n",
    "        # add aircraft_ref\n",
    "        for a_ref in aircraft_ref:\n",
    "            if a_ref in  image_name.lower():\n",
    "                 dictio_airlines_aircraft_builders[last_el]['aircraft_ref'].append(a_ref)\n",
    "        # take the longest str element in the list of ref\n",
    "        dictio_airlines_aircraft_builders[last_el]['aircraft_ref'] = longestValue(dictio_airlines_aircraft_builders[last_el]['aircraft_ref'])\n",
    "    \n",
    "    return dictio_airlines_aircraft_builders"
   ]
  },
  {
   "cell_type": "markdown",
   "metadata": {},
   "source": [
    "# LAYOUT SEATGURU"
   ]
  },
  {
   "cell_type": "code",
   "execution_count": 7,
   "metadata": {
    "scrolled": true
   },
   "outputs": [
    {
     "data": {
      "text/html": [
       "<div>\n",
       "<style scoped>\n",
       "    .dataframe tbody tr th:only-of-type {\n",
       "        vertical-align: middle;\n",
       "    }\n",
       "\n",
       "    .dataframe tbody tr th {\n",
       "        vertical-align: top;\n",
       "    }\n",
       "\n",
       "    .dataframe thead th {\n",
       "        text-align: right;\n",
       "    }\n",
       "</style>\n",
       "<table border=\"1\" class=\"dataframe\">\n",
       "  <thead>\n",
       "    <tr style=\"text-align: right;\">\n",
       "      <th></th>\n",
       "      <th>aircraft_builder</th>\n",
       "      <th>aircraft_ref</th>\n",
       "      <th>airline</th>\n",
       "      <th>image_name</th>\n",
       "      <th>position_aircraft_builder</th>\n",
       "      <th>x_size</th>\n",
       "      <th>y_size</th>\n",
       "    </tr>\n",
       "  </thead>\n",
       "  <tbody>\n",
       "    <tr>\n",
       "      <th>522</th>\n",
       "      <td>airbus</td>\n",
       "      <td>a350</td>\n",
       "      <td>qatar_airways</td>\n",
       "      <td>Qatar_Airways_Airbus_A350_plane732.svg.png</td>\n",
       "      <td>2</td>\n",
       "      <td>425</td>\n",
       "      <td>1729</td>\n",
       "    </tr>\n",
       "    <tr>\n",
       "      <th>674</th>\n",
       "      <td>not_relevant_aircraft_builders</td>\n",
       "      <td>a350</td>\n",
       "      <td></td>\n",
       "      <td>Philipine_Airlines_A350_plane703.svg.png</td>\n",
       "      <td>-1</td>\n",
       "      <td>425</td>\n",
       "      <td>1704</td>\n",
       "    </tr>\n",
       "  </tbody>\n",
       "</table>\n",
       "</div>"
      ],
      "text/plain": [
       "                   aircraft_builder aircraft_ref        airline  \\\n",
       "522                          airbus         a350  qatar_airways   \n",
       "674  not_relevant_aircraft_builders         a350                  \n",
       "\n",
       "                                     image_name  position_aircraft_builder  \\\n",
       "522  Qatar_Airways_Airbus_A350_plane732.svg.png                          2   \n",
       "674    Philipine_Airlines_A350_plane703.svg.png                         -1   \n",
       "\n",
       "     x_size  y_size  \n",
       "522     425    1729  \n",
       "674     425    1704  "
      ]
     },
     "execution_count": 7,
     "metadata": {},
     "output_type": "execute_result"
    }
   ],
   "source": [
    "def main_layout_seatguru(layout):\n",
    "    images = [data_path + layout + img for img in os.listdir(data_path + layout)]\n",
    "    IMAGE_NAMES = [img for img in os.listdir(data_path + layout)]\n",
    "    \n",
    "    relevant_aircraft_builders = get_relevant_aircraft_builders(IMAGE_NAMES)\n",
    "    airlines = pd.read_csv(data_path + 'SEATGURU_INFO_AIRCRAFT.csv', sep=';')['Airline_name'].unique()\n",
    "    airlines = [airline.replace('-','_') for airline in airlines] \n",
    "\n",
    "    aircraft_ref = np.unique([a_type.lower() for a_type in pd.read_csv(data_path + 'SEATGURU_INFO_AIRCRAFT.csv', sep=';')['Aircraft_Type'].tolist()])\n",
    "    aircraft_ref = np.unique([t for text in aircraft_ref  for t in text.split(' ') if hasNumbers(t)])\n",
    "    \n",
    "    dictio_airlines_aircraft_builders = get_airline_aircraft_builder_pos(IMAGE_NAMES, relevant_aircraft_builders, airlines, aircraft_ref, '_')\n",
    "    return pd.DataFrame(dictio_airlines_aircraft_builders)\n",
    "\n",
    "layout = \"LAYOUT_SEATGURU/\"\n",
    "df_layout_seatguru = main_layout_seatguru(layout)\n",
    "df_layout_seatguru[df_layout_seatguru['aircraft_ref'] == 'a350']"
   ]
  },
  {
   "cell_type": "markdown",
   "metadata": {},
   "source": [
    "# LAYOUT SEATMAESTRO"
   ]
  },
  {
   "cell_type": "code",
   "execution_count": 8,
   "metadata": {
    "scrolled": true
   },
   "outputs": [
    {
     "data": {
      "text/html": [
       "<div>\n",
       "<style scoped>\n",
       "    .dataframe tbody tr th:only-of-type {\n",
       "        vertical-align: middle;\n",
       "    }\n",
       "\n",
       "    .dataframe tbody tr th {\n",
       "        vertical-align: top;\n",
       "    }\n",
       "\n",
       "    .dataframe thead th {\n",
       "        text-align: right;\n",
       "    }\n",
       "</style>\n",
       "<table border=\"1\" class=\"dataframe\">\n",
       "  <thead>\n",
       "    <tr style=\"text-align: right;\">\n",
       "      <th></th>\n",
       "      <th>aircraft_builder</th>\n",
       "      <th>aircraft_ref</th>\n",
       "      <th>airline</th>\n",
       "      <th>image_name</th>\n",
       "      <th>position_aircraft_builder</th>\n",
       "      <th>x_size</th>\n",
       "      <th>y_size</th>\n",
       "    </tr>\n",
       "  </thead>\n",
       "  <tbody>\n",
       "    <tr>\n",
       "      <th>293</th>\n",
       "      <td>airbus</td>\n",
       "      <td>a350</td>\n",
       "      <td>vietnam-airlines</td>\n",
       "      <td>vietnam-airlines-airbus-a350-config-1.png</td>\n",
       "      <td>2</td>\n",
       "      <td>300</td>\n",
       "      <td>2193</td>\n",
       "    </tr>\n",
       "    <tr>\n",
       "      <th>573</th>\n",
       "      <td>airbus</td>\n",
       "      <td>a350</td>\n",
       "      <td>vietnam-airlines</td>\n",
       "      <td>vietnam-airlines-airbus-a350-config-2.png</td>\n",
       "      <td>2</td>\n",
       "      <td>300</td>\n",
       "      <td>2243</td>\n",
       "    </tr>\n",
       "    <tr>\n",
       "      <th>938</th>\n",
       "      <td>airbus</td>\n",
       "      <td>a350</td>\n",
       "      <td></td>\n",
       "      <td>latam-airlines-brasil-airbus-a350.png</td>\n",
       "      <td>3</td>\n",
       "      <td>300</td>\n",
       "      <td>2231</td>\n",
       "    </tr>\n",
       "  </tbody>\n",
       "</table>\n",
       "</div>"
      ],
      "text/plain": [
       "    aircraft_builder aircraft_ref           airline  \\\n",
       "293           airbus         a350  vietnam-airlines   \n",
       "573           airbus         a350  vietnam-airlines   \n",
       "938           airbus         a350                     \n",
       "\n",
       "                                    image_name  position_aircraft_builder  \\\n",
       "293  vietnam-airlines-airbus-a350-config-1.png                          2   \n",
       "573  vietnam-airlines-airbus-a350-config-2.png                          2   \n",
       "938      latam-airlines-brasil-airbus-a350.png                          3   \n",
       "\n",
       "     x_size  y_size  \n",
       "293     300    2193  \n",
       "573     300    2243  \n",
       "938     300    2231  "
      ]
     },
     "execution_count": 8,
     "metadata": {},
     "output_type": "execute_result"
    }
   ],
   "source": [
    "def main_layout_seatguru(layout):\n",
    "    images = [data_path + layout + img for img in os.listdir(data_path + layout)]\n",
    "    IMAGE_NAMES = [img for img in os.listdir(data_path + layout)]\n",
    "    \n",
    "    relevant_aircraft_builders = get_relevant_aircraft_builders(IMAGE_NAMES)\n",
    "    airlines = pd.read_csv(data_path + 'SEATGURU_INFO_AIRCRAFT.csv', sep=';')['Airline_name'].unique()\n",
    "\n",
    "    aircraft_ref = np.unique([a_type.lower() for a_type in pd.read_csv(data_path + 'SEATGURU_INFO_AIRCRAFT.csv', sep=';')['Aircraft_Type'].tolist()])\n",
    "    aircraft_ref = np.unique([t for text in aircraft_ref  for t in text.split(' ') if hasNumbers(t)])\n",
    "    \n",
    "    dictio_airlines_aircraft_builders = get_airline_aircraft_builder_pos(IMAGE_NAMES, relevant_aircraft_builders, airlines, aircraft_ref, '-')\n",
    "    return pd.DataFrame(dictio_airlines_aircraft_builders)\n",
    "\n",
    "layout = \"LAYOUT_SEATMAESTRO/\"\n",
    "df_layout_seatmaestro = main_layout_seatguru(layout)\n",
    "df_layout_seatmaestro[df_layout_seatmaestro['aircraft_ref'] == 'a350']"
   ]
  },
  {
   "cell_type": "markdown",
   "metadata": {},
   "source": [
    "# PRE-PRECOCESS (COLOUR)"
   ]
  },
  {
   "cell_type": "code",
   "execution_count": 9,
   "metadata": {},
   "outputs": [],
   "source": [
    "COLOURS = {\n",
    "    'LAYOUT_SEATGURU': {\n",
    "        'jpg':{\n",
    "            \"blue\":[139, 168, 198],\n",
    "            \"yellow\": [247, 237, 86],\n",
    "            \"exit\": [222, 111, 100],\n",
    "            \"green\": [89, 185, 71],\n",
    "            \"red_bad_seat\": [244, 121, 123],\n",
    "            \"blue_seat_crew\": [140,169,202],\n",
    "            \"baby\": [184,214,240]\n",
    "        },\n",
    "        'png':{\n",
    "            \"blue\":[41,182,209],\n",
    "            \"yellow\": [251,200,2],\n",
    "            \"exit\": [190,190,190],\n",
    "            \"green\": [41,209,135],\n",
    "            \"red_bad_seat\": [226,96,82],\n",
    "            \"blue_seat_crew\": [41,182,209],\n",
    "            \"baby\": [197,197,197]\n",
    "        }\n",
    "    },\n",
    "    'LAYOUT_SEATMAESTRO': {\n",
    "        'png': {\n",
    "            \"blue\":[81,101,181],\n",
    "            \"exit\": [1,120,175],\n",
    "            \"green\": [120,189,198],\n",
    "            \"red_bad_seat\": [207,90,150],\n",
    "            \"blue_seat_crew\": [138,165,190] \n",
    "        }\n",
    "    }\n",
    "}"
   ]
  },
  {
   "cell_type": "code",
   "execution_count": 10,
   "metadata": {},
   "outputs": [],
   "source": [
    "class ImageUtil():\n",
    "    def __init__(self, input_path, image_name, image=None):\n",
    "        self.input_path = input_path\n",
    "        self.image_name = image_name\n",
    "        if image is  None:\n",
    "            self.image_pil = Image.open(self.input_path + self.image_name)\n",
    "            self.image_plt = plt.imread(self.input_path + self.image_name)\n",
    "            self.image = image\n",
    "        else:\n",
    "            self.image_pil = image\n",
    "            self.image_plt = image\n",
    "            self.image = image\n",
    "        \n",
    "        self.sort_pixel = {}\n",
    "        \n",
    "    def sort_pixel(self):\n",
    "        \"\"\"\n",
    "            Sort the pixel value by number of occurences that they appear in the image\n",
    "        \"\"\"\n",
    "        by_color = defaultdict(int)\n",
    "        for pixel in self.image_pil.getdata():\n",
    "            by_color[pixel] += 1\n",
    "\n",
    "        self.sort_pixel =  {k: v for k, v in sorted(by_color.items(), key=lambda item: item[1], reverse=True)}\n",
    "\n",
    "    def visualisation(self, x_size, y_size):\n",
    "        \"\"\"\n",
    "            Show the image\n",
    "            params : \n",
    "                x_size - width of the plot\n",
    "                y_size - height of the plot\n",
    "        \"\"\"\n",
    "        plt.figure(figsize=(x_size,y_size))\n",
    "        if self.image is not None:\n",
    "            plt.imshow(self.image.astype('uint8'))\n",
    "        else:\n",
    "            plt.imshow(self.image_plt.astype('uint8'))\n",
    "\n",
    "    def to_rgb(self):\n",
    "        \"\"\"\n",
    "            Convert the image to an RGB format from a BGR format\n",
    "        \"\"\"\n",
    "        return cv.cvtColor(self.image_plt, cv.COLOR_BGR2RGB)\n",
    "\n",
    "class Colour():\n",
    "    COLOURS = {\n",
    "        'LAYOUT_SEATGURU': {\n",
    "            'jpg':{\n",
    "                \"blue\":[139, 168, 198],\n",
    "                \"yellow\": [247, 237, 86],\n",
    "                \"exit\": [222, 111, 100],\n",
    "                \"green\": [89, 185, 71],\n",
    "                \"red_bad_seat\": [244, 121, 123],\n",
    "                \"blue_seat_crew\": [140,169,202],\n",
    "                \"baby\": [184,214,240]\n",
    "            },\n",
    "            'png':{\n",
    "                \"blue\":[41,182,209],\n",
    "                \"yellow\": [251,200,2],\n",
    "                \"exit\": [190,190,190],\n",
    "                \"green\": [41,209,135],\n",
    "                \"red_bad_seat\": [226,96,82],\n",
    "                \"blue_seat_crew\": [41,182,209],\n",
    "                \"baby\": [197,197,197]\n",
    "            }\n",
    "        },\n",
    "        'LAYOUT_SEATMAESTRO': {\n",
    "            'png': {\n",
    "                \"blue\":[81,101,181],\n",
    "                \"exit\": [1,120,175],\n",
    "                \"green\": [120,189,198],\n",
    "                \"red_bad_seat\": [207,90,150],\n",
    "                \"blue_seat_crew\": [138,165,190] \n",
    "            }\n",
    "        }\n",
    "    }\n",
    "    \n",
    "    def __init__(self, input_path, layout, image_name):\n",
    "        self.input_path = input_path\n",
    "        self.layout = layout\n",
    "        self.image_name = image_name\n",
    "        self.image_extension = image_name.split('.')[-1]\n",
    "        \n",
    "        self.image = plt.imread(self.input_path + self.layout + '/' + self.image_name)\n",
    "        self.image_util = ImageUtil(self.input_path + self.layout + '/', self.image_name)\n",
    "        \n",
    "    def colour_detection(self, colours, epsilon, rgb_len, colour_mode, default_colour):\n",
    "        \"\"\"\n",
    "            This function will detect the colour and will do some pre-process on it\n",
    "            params : \n",
    "                colours : a dictionnary with a list of specified colours\n",
    "                epsilon : threshold that allows to consider a colour from another one as close\n",
    "                rgb_len : only take the 3 first elements from pixel (RGB norm)\n",
    "                colour_mode : \n",
    "                    if true : it means that if we consider a colour from the image close \n",
    "                    to a colour from the \"colours\" dict, then it will replace the colour by the one in the dict. \n",
    "                    if false : it means that if we consider a colour from the image close \n",
    "                    to a colour from the \"colours\" dict, then it will replace the colour by the default color value.\n",
    "                default_color : default color value that a pixel has to take\n",
    "        \"\"\"\n",
    "        # make a copy to avoid to erase the original image\n",
    "        img_copy = self.image_util.to_rgb()\n",
    "\n",
    "        # for each line we get the pixel value\n",
    "        for i, line in enumerate(self.image):\n",
    "            for j, pixel in enumerate(line):\n",
    "                # Get only 3 first value corresponding to R,G,B\n",
    "                pixel = [int(val) if val >  1.0 else int(val*255) for val in self.image[i][j]][:rgb_len]\n",
    "\n",
    "                # if we want to show a specific colour\n",
    "                if colour_mode:\n",
    "                    # default value\n",
    "                    img_copy[i][j] = default_colour\n",
    "\n",
    "                    # for each colour we change the pixel value if we find the same colour\n",
    "                    for colour in colours.values():\n",
    "                        if sum([1 if abs(p-b) < epsilon else 0 for p,b in zip(pixel, colour)]) == rgb_len:\n",
    "                            img_copy[i][j] = colour\n",
    "\n",
    "                # if we want to hide a colour by a default value\n",
    "                else:\n",
    "                    # default value\n",
    "                    img_copy[i][j] = pixel\n",
    "\n",
    "                    # for each recognized colour, we change it by the default value\n",
    "                    for colour in colours.values():\n",
    "                            if sum([1 if abs(p-b) < epsilon else 0 for p,b in zip(pixel, colour)]) == rgb_len:\n",
    "                                img_copy[i][j] = default_colour\n",
    "        return img_copy\n",
    "\n",
    "\n",
    "    def colour_pipeline(self, colours = {}, epsilon = 20, colour_mode = True, \n",
    "                    default_colour = [0, 0, 0], rgb_len = 3):\n",
    "        \"\"\"\n",
    "            Call colour_detection function in order to pre-process colours in image\n",
    "            params : \n",
    "                colours : a dictionnary with a list of specified colours\n",
    "                epsilon : threshold that allows to consider a colour from another one as close\n",
    "                rgb_len : only take the 3 first elements from pixel (RGB norm)\n",
    "                colour_mode : \n",
    "                    - if true (highlight colours in \"colours\" dict by standardize it) : it means that \n",
    "                    if we consider a colour from the image close to a colour from the \"colours\" dict, \n",
    "                    then it will replace the colour by the one in the dict. \n",
    "                    - if false (remove colours in \"colours\" dict by the default one) : it means that \n",
    "                    if we consider a colour from the image close to a colour from the \"colours\" dict, \n",
    "                    then it will replace the colour by the default color value.\n",
    "                default_color : default color value that a pixel has to take\n",
    "        \"\"\"\n",
    "        # if colours is empty we take the default value\n",
    "        if not bool(colours): colours = COLOURS[self.layout][self.image_extension]\n",
    "            \n",
    "        # get the image result from colour decection pre-process wanted\n",
    "        image_res = self.colour_detection(colours, epsilon, rgb_len, colour_mode, default_colour)\n",
    "\n",
    "        return image_res\n"
   ]
  },
  {
   "cell_type": "code",
   "execution_count": 11,
   "metadata": {
    "scrolled": true
   },
   "outputs": [],
   "source": [
    "# col_obj = Colour(data_path, 'LAYOUT_SEATMAESTRO', 'adria-airways-airbus-a319.png')\n",
    "# img_res = col_obj.colour_pipeline(colours = {}, epsilon = 60, colour_mode = False, \n",
    "#                     default_colour = [255, 255, 255], rgb_len = 3)\n",
    "# ImageUtil('', '', img_res).visualisation(20, 40)"
   ]
  },
  {
   "cell_type": "markdown",
   "metadata": {},
   "source": [
    "# PIPELINE : IDENTIFY COLOURED ELEMENTS"
   ]
  },
  {
   "cell_type": "markdown",
   "metadata": {},
   "source": [
    "## STEP 1 : pre-process\n",
    "Create pre-processed images to highlights coloured elements"
   ]
  },
  {
   "cell_type": "code",
   "execution_count": 12,
   "metadata": {
    "scrolled": false
   },
   "outputs": [
    {
     "data": {
      "application/vnd.jupyter.widget-view+json": {
       "model_id": "ffd70bf5b2a9459795bf58937874325e",
       "version_major": 2,
       "version_minor": 0
      },
      "text/plain": [
       "HBox(children=(IntProgress(value=0, max=2), HTML(value='')))"
      ]
     },
     "metadata": {},
     "output_type": "display_data"
    },
    {
     "name": "stdout",
     "output_type": "stream",
     "text": [
      "\n"
     ]
    }
   ],
   "source": [
    "# paths to change\n",
    "data_path = \"/home/sid2019-1/Documents/M2_DATA_INTERPROMO/\"\n",
    "layouts = ['LAYOUT_SEATGURU', 'LAYOUT_SEATMAESTRO']\n",
    "\n",
    "# path where the base image are stored\n",
    "input_path = data_path + layouts[0] + '/'\n",
    "\n",
    "# path where the pre-processed images will be stored\n",
    "pre_processed_path = data_path + 'images_pre_processed/' \n",
    "if not os.path.isdir(pre_processed_path): os.mkdir(pre_processed_path)\n",
    "    \n",
    "# path where the pre-processed images with rectangles will be stored\n",
    "drawing_rectangles_path = data_path + 'drawing_rectangles/' \n",
    "if not os.path.isdir(drawing_rectangles_path): os.mkdir(drawing_rectangles_path)\n",
    "    \n",
    "# pre-process the N first image from \"LAYOUT_SEATGURU\" or \"LAYOUT_SEATMAESTRO\" dataset\n",
    "N = 2\n",
    "\n",
    "for image_name in tqdm(os.listdir(input_path)[:N]):\n",
    "    # Create a Colour object\n",
    "    col_obj = Colour(data_path, layouts[0], image_name)\n",
    "    \n",
    "    # Make a colour detection based on the layout type ('GURU' or 'MAESTRO') and image type('png', 'jpg')\n",
    "    img_res = col_obj.colour_pipeline(colours = {}, epsilon = 30, colour_mode = True, \n",
    "                        default_colour = [0, 0, 0], rgb_len = 3)\n",
    "    \n",
    "    # Save the pre-processed image\n",
    "    plt.imsave(pre_processed_path + image_name, img_res.astype('uint8'))"
   ]
  },
  {
   "cell_type": "markdown",
   "metadata": {},
   "source": [
    "## STEP 2 : process\n",
    "Apply an algorithm that will detect every coloured elements on an image. It will store information (rectangle position, coordinates, diameter, area) about those coloured elements in a dataframe"
   ]
  },
  {
   "cell_type": "code",
   "execution_count": 13,
   "metadata": {},
   "outputs": [],
   "source": [
    "def rgb2gray(rgb):\n",
    "    return np.dot(rgb[..., :3], [0.2989, 0.5870, 0.1140])\n",
    "\n",
    "\n",
    "def image_process_label(image):\n",
    "    grayscale = rgb2gray(image)\n",
    "    thresh = threshold_otsu(grayscale)\n",
    "    bw = closing(grayscale > thresh, square(3))\n",
    "    cleared = clear_border(bw)\n",
    "    label_image = label(cleared)\n",
    "    return label_image\n",
    "\n",
    "def label_results(images_path_list, min_rectangle_area = 80):\n",
    "    # the result will be store in this list\n",
    "    image_detection_result = []\n",
    "    \n",
    "    for image_path in images_path_list:\n",
    "        # get the image\n",
    "        image = plt.imread(image_path)\n",
    "        \n",
    "        # get the different area\n",
    "        label_image = image_process_label(image)\n",
    "        props = regionprops(label_image)\n",
    "\n",
    "        # prepare the image info\n",
    "        image_detection_result.append({\n",
    "            'image_name': image_path.split('/')[-1],\n",
    "            \"areas\": [],\n",
    "            \"rectangles\": [],\n",
    "            \"diameters\": [],\n",
    "            \"coordinates\": []\n",
    "        })\n",
    "        \n",
    "        # the last index in the list\n",
    "        len_list = len(image_detection_result) - 1\n",
    "        \n",
    "        # by region find every rectangle that will interesting us\n",
    "        for region in props:\n",
    "            # bigger enough area chosen\n",
    "            if region.area >= min_rectangle_area:\n",
    "                image_detection_result[len_list]['areas'].append(region['Area'])\n",
    "                image_detection_result[len_list]['rectangles'].append(region['BoundingBox'])\n",
    "                image_detection_result[len_list]['diameters'].append(region['EquivDiameter'])\n",
    "                image_detection_result[len_list]['coordinates'].append(region['Coordinates'])\n",
    "                \n",
    "    return pd.DataFrame(image_detection_result)\n",
    "\n",
    "# Get the path + image_name info\n",
    "images_path_list = [pre_processed_path + img for img in os.listdir(pre_processed_path)]\n",
    "df = label_results(images_path_list)"
   ]
  },
  {
   "cell_type": "markdown",
   "metadata": {},
   "source": [
    "## STEP 3 : drawing rectangles and store them\n",
    "Show visuals with rectangles that identify coloured elements on the image"
   ]
  },
  {
   "cell_type": "code",
   "execution_count": 14,
   "metadata": {},
   "outputs": [
    {
     "data": {
      "application/vnd.jupyter.widget-view+json": {
       "model_id": "a4442a31753c4798adba4ce402ccc579",
       "version_major": 2,
       "version_minor": 0
      },
      "text/plain": [
       "HBox(children=(IntProgress(value=1, bar_style='info', max=1), HTML(value='')))"
      ]
     },
     "metadata": {},
     "output_type": "display_data"
    },
    {
     "name": "stdout",
     "output_type": "stream",
     "text": [
      "\n"
     ]
    }
   ],
   "source": [
    "def to_rgb(image):\n",
    "        return cv.cvtColor(image, cv.COLOR_BGR2RGB)\n",
    "    \n",
    "def draw_contour(input_path, output_path, image_name, rectangles, contour_colour = (255,255, 255)):\n",
    "    image = cv.imread(input_path + image_name)\n",
    "    image = to_rgb(image) # change color postion BGR to RGB\n",
    "    \n",
    "    # for each rectangles it will draw it on the image\n",
    "    for rect in rectangles:\n",
    "        y, x = rect[0], rect[1]\n",
    "        w, h = abs(x-rect[3]), abs(y-rect[2])\n",
    "        image = cv.rectangle(image, (x,y), (x+w, y+h), contour_colour, 2)\n",
    "    \n",
    "    # save the image with te drawed rectangles on it\n",
    "    plt.imsave(output_path + image_name, image)\n",
    "\n",
    "# get rectangles and image_names\n",
    "images_names = df['image_name'].tolist()\n",
    "rectangles_list = df['rectangles'].tolist()\n",
    "\n",
    "# for each image draw rectangle and save it\n",
    "for rectangles, image_name in tqdm(zip(rectangles_list, images_names)):\n",
    "    draw_contour(pre_processed_path, drawing_rectangles_path, image_name, rectangles)"
   ]
  },
  {
   "cell_type": "code",
   "execution_count": null,
   "metadata": {},
   "outputs": [],
   "source": []
  }
 ],
 "metadata": {
  "kernelspec": {
   "display_name": "Python 3",
   "language": "python",
   "name": "python3"
  },
  "language_info": {
   "codemirror_mode": {
    "name": "ipython",
    "version": 3
   },
   "file_extension": ".py",
   "mimetype": "text/x-python",
   "name": "python",
   "nbconvert_exporter": "python",
   "pygments_lexer": "ipython3",
   "version": "3.7.1"
  },
  "pycharm": {
   "stem_cell": {
    "cell_type": "raw",
    "metadata": {
     "collapsed": false
    },
    "source": []
   }
  }
 },
 "nbformat": 4,
 "nbformat_minor": 1
}
