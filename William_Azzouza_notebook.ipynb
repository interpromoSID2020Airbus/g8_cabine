{
 "cells": [
  {
   "cell_type": "code",
   "execution_count": 1,
   "metadata": {
    "pycharm": {
     "is_executing": false
    }
   },
   "outputs": [],
   "source": [
    "from pipeline import Pipeline, Process, Postprocess, Preprocess\n",
    "import numpy as np\n",
    "import pandas as pd"
   ]
  },
  {
   "cell_type": "code",
   "execution_count": 2,
   "metadata": {},
   "outputs": [],
   "source": [
    "class MyPreProcess(Preprocess):\n",
    "    process_desc = \"Exemple de pre-process -> ne fait rien\"\n",
    "    # prends en param la liste d'images\n",
    "    def run(self, images):\n",
    "        pass\n",
    "\n",
    "\n",
    "class MyProcess(Process):\n",
    "    process_desc = \"Exemple de process -> ne fait rien\"\n",
    "    def run(self, images):\n",
    "        pass\n",
    "    \n",
    "    \n",
    "class MyPostProcess(Postprocess):\n",
    "    process_desc = \"Exemple de post-process -> ne fait rien\"\n",
    "    def run(self, images):\n",
    "        pass"
   ]
  },
  {
   "cell_type": "code",
   "execution_count": 3,
   "metadata": {},
   "outputs": [
    {
     "name": "stdout",
     "output_type": "stream",
     "text": [
      "Preprocess :  Exemple de pre-process -> ne fait rien\n",
      "Process :  Exemple de process -> ne fait rien\n",
      "Postprocess :  Exemple de post-process -> ne fait rien\n",
      "Exemple de pre-process -> ne fait rien a été ajouté.\n",
      "Exemple de process -> ne fait rien a été ajouté.\n",
      "Exemple de post-process -> ne fait rien a été ajouté.\n",
      "Exemple de pre-process -> ne fait rien a été ajouté.\n"
     ]
    }
   ],
   "source": [
    "pipeline = Pipeline()\n",
    "process_array = np.array([MyPreProcess()\n",
    "                          ,MyProcess()\n",
    "                          ,MyPostProcess()\n",
    "                          ,MyPreProcess(verbose=0)])\n",
    "pipeline.add_processes(process_array)"
   ]
  },
  {
   "cell_type": "code",
   "execution_count": 4,
   "metadata": {
    "scrolled": true
   },
   "outputs": [
    {
     "name": "stdout",
     "output_type": "stream",
     "text": [
      "Exemple de pre-process -> ne fait rien\n",
      "Exemple de pre-process -> ne fait rien\n",
      "Exemple de process -> ne fait rien\n",
      "Exemple de post-process -> ne fait rien\n"
     ]
    }
   ],
   "source": [
    "pipeline.print_process()"
   ]
  },
  {
   "cell_type": "code",
   "execution_count": 5,
   "metadata": {},
   "outputs": [],
   "source": [
    "import os\n",
    "import cv2 as cv\n",
    "import matplotlib.pyplot as plt\n",
    "import numpy as np\n",
    "import numpy as np\n",
    "import pandas as pd\n",
    "from collections import defaultdict\n",
    "from PIL import Image\n",
    "\n",
    "data_path = \"/home/sid2019-1/Documents/M2_DATA_INTERPROMO/\""
   ]
  },
  {
   "cell_type": "markdown",
   "metadata": {},
   "source": [
    "# Helpful Functions  (cf.Cyril GAILLARD)"
   ]
  },
  {
   "cell_type": "code",
   "execution_count": 6,
   "metadata": {},
   "outputs": [],
   "source": [
    "def hasNumbers(inputString):\n",
    "    return any(char.isdigit() for char in inputString)\n",
    "\n",
    "def longestValue(inputList):\n",
    "    if len(inputList) > 0:\n",
    "        max_len = 0\n",
    "        for i, el in enumerate(inputList):\n",
    "            if len(el) > max_len:\n",
    "                max_len = i\n",
    "        return inputList[max_len]\n",
    "    return 0\n",
    "\n",
    "def get_relevant_aircraft_builders(image_names, proportion_min=0.02, proportion_max=0.75):\n",
    "    # retrieve aircraft types\n",
    "    aircraft_builders = np.unique([a_type.split(' ')[0].lower() for a_type in pd.read_csv(data_path + 'SEATGURU_INFO_AIRCRAFT.csv', sep=';')['Aircraft_Type'].tolist() if len(a_type.split(' ')) > 1])\n",
    "    \n",
    "    # remove aircraft_builder that have Numerics in it\n",
    "    aircraft_builders = [a_builder for a_builder in  aircraft_builders if not hasNumbers(a_builder) and len(a_builder) > 2]\n",
    "    \n",
    "    # remove aircraft with too low occurences in the \"IMAGES_NAMES\" list\n",
    "    relevant_aircraft_builders = {}\n",
    "    for a_builder in aircraft_builders:\n",
    "        proportion = sum([1for img_n in image_names if a_builder in img_n.lower()]) / len(image_names)\n",
    "        if proportion > proportion_min and proportion < proportion_max:\n",
    "            relevant_aircraft_builders[a_builder] = proportion\n",
    "\n",
    "    # remove non aircradft builder that remain\n",
    "    del relevant_aircraft_builders['airlines']\n",
    "    del relevant_aircraft_builders['irbus']\n",
    "    del relevant_aircraft_builders['airways']\n",
    "    del relevant_aircraft_builders['ays']\n",
    "\n",
    "    \n",
    "    # sort by proportion\n",
    "    relevant_aircraft_builders = {k: v for k, v in sorted(relevant_aircraft_builders.items(), key=lambda item: item[1])}\n",
    "    return relevant_aircraft_builders\n",
    "\n",
    "def get_airline_aircraft_builder_pos(image_names, aircraft_builders, airlines, aircraft_ref, pattern):\n",
    "    # Initialisation of dict\n",
    "    dictio_airlines_aircraft_builders = []\n",
    "        \n",
    "    for image_name in image_names:\n",
    "        \n",
    "        size = Image.open(data_path + layout + image_name).size \n",
    "        \n",
    "        dictio_airlines_aircraft_builders.append({\n",
    "            'image_name': image_name,\n",
    "            'aircraft_builder': '', \n",
    "            'position_aircraft_builder': -1, \n",
    "            'airline': '',\n",
    "            'aircraft_ref': [],\n",
    "            'x_size': int(size[0]),\n",
    "            'y_size': int(size[1])\n",
    "        })\n",
    "        \n",
    "        last_el = len(dictio_airlines_aircraft_builders) - 1\n",
    "        # initiliase position\n",
    "        position = -1\n",
    "        # a little pre-process to clean-up image name\n",
    "        img_inf = image_name.lower().split('.')[0].split(pattern)\n",
    "\n",
    "        for i, item in enumerate(img_inf):\n",
    "            for a_builder in aircraft_builders:\n",
    "                # check if the image contains the aircraft builder\n",
    "                if a_builder == item:\n",
    "                    # add the aircraft builder in the image name\n",
    "                    position = i\n",
    "                    dictio_airlines_aircraft_builders[last_el]['aircraft_builder'] = a_builder\n",
    "                    \n",
    "        if position == -1: dictio_airlines_aircraft_builders[last_el]['aircraft_builder'] = 'not_relevant_aircraft_builders'\n",
    "        dictio_airlines_aircraft_builders[last_el]['position_aircraft_builder'] = position\n",
    "        \n",
    "        # add airlines deduce by the image name\n",
    "        for airline in airlines:\n",
    "            if airline + pattern in image_name.lower():\n",
    "                dictio_airlines_aircraft_builders[last_el]['airline'] = airline\n",
    "                \n",
    "        # add aircraft_ref\n",
    "        for a_ref in aircraft_ref:\n",
    "            if a_ref in  image_name.lower():\n",
    "                 dictio_airlines_aircraft_builders[last_el]['aircraft_ref'].append(a_ref)\n",
    "        # take the longest str element in the list of ref\n",
    "        dictio_airlines_aircraft_builders[last_el]['aircraft_ref'] = longestValue(dictio_airlines_aircraft_builders[last_el]['aircraft_ref'])\n",
    "    \n",
    "    return dictio_airlines_aircraft_builders\n",
    "\n",
    "def sort_pixel(image):\n",
    "    \n",
    "    # # Sort pixel by occurences in the image\n",
    "    im = Image.open(image)\n",
    "    by_color = defaultdict(int)\n",
    "    for pixel in im.getdata():\n",
    "        by_color[pixel] += 1\n",
    "\n",
    "    return {k: v for k, v in sorted(by_color.items(), key=lambda item: item[1], reverse=True)}\n",
    "\n",
    "def visualisation(image):\n",
    "    plt.figure(figsize=(20,40))\n",
    "    plt.imshow(image.astype('uint8'))\n",
    "\n",
    "def to_RGB(image):\n",
    "    return cv.cvtColor(image, cv.COLOR_BGR2RGB)\n",
    "\n",
    "def save_image(image, out_path, image_name):\n",
    "    plt.imsave(out_path + image_name, image.astype('uint8'))"
   ]
  },
  {
   "cell_type": "markdown",
   "metadata": {},
   "source": [
    "# LAYOUT SEATGURU"
   ]
  },
  {
   "cell_type": "code",
   "execution_count": 7,
   "metadata": {
    "scrolled": true
   },
   "outputs": [
    {
     "data": {
      "text/html": [
       "<div>\n",
       "<style scoped>\n",
       "    .dataframe tbody tr th:only-of-type {\n",
       "        vertical-align: middle;\n",
       "    }\n",
       "\n",
       "    .dataframe tbody tr th {\n",
       "        vertical-align: top;\n",
       "    }\n",
       "\n",
       "    .dataframe thead th {\n",
       "        text-align: right;\n",
       "    }\n",
       "</style>\n",
       "<table border=\"1\" class=\"dataframe\">\n",
       "  <thead>\n",
       "    <tr style=\"text-align: right;\">\n",
       "      <th></th>\n",
       "      <th>aircraft_builder</th>\n",
       "      <th>aircraft_ref</th>\n",
       "      <th>airline</th>\n",
       "      <th>image_name</th>\n",
       "      <th>position_aircraft_builder</th>\n",
       "      <th>x_size</th>\n",
       "      <th>y_size</th>\n",
       "    </tr>\n",
       "  </thead>\n",
       "  <tbody>\n",
       "    <tr>\n",
       "      <th>522</th>\n",
       "      <td>airbus</td>\n",
       "      <td>a350</td>\n",
       "      <td>qatar_airways</td>\n",
       "      <td>Qatar_Airways_Airbus_A350_plane732.svg.png</td>\n",
       "      <td>2</td>\n",
       "      <td>425</td>\n",
       "      <td>1729</td>\n",
       "    </tr>\n",
       "    <tr>\n",
       "      <th>674</th>\n",
       "      <td>not_relevant_aircraft_builders</td>\n",
       "      <td>a350</td>\n",
       "      <td></td>\n",
       "      <td>Philipine_Airlines_A350_plane703.svg.png</td>\n",
       "      <td>-1</td>\n",
       "      <td>425</td>\n",
       "      <td>1704</td>\n",
       "    </tr>\n",
       "  </tbody>\n",
       "</table>\n",
       "</div>"
      ],
      "text/plain": [
       "                   aircraft_builder aircraft_ref        airline  \\\n",
       "522                          airbus         a350  qatar_airways   \n",
       "674  not_relevant_aircraft_builders         a350                  \n",
       "\n",
       "                                     image_name  position_aircraft_builder  \\\n",
       "522  Qatar_Airways_Airbus_A350_plane732.svg.png                          2   \n",
       "674    Philipine_Airlines_A350_plane703.svg.png                         -1   \n",
       "\n",
       "     x_size  y_size  \n",
       "522     425    1729  \n",
       "674     425    1704  "
      ]
     },
     "execution_count": 7,
     "metadata": {},
     "output_type": "execute_result"
    }
   ],
   "source": [
    "def main_layout_seatguru(layout):\n",
    "    images = [data_path + layout + img for img in os.listdir(data_path + layout)]\n",
    "    IMAGE_NAMES = [img for img in os.listdir(data_path + layout)]\n",
    "    \n",
    "    relevant_aircraft_builders = get_relevant_aircraft_builders(IMAGE_NAMES)\n",
    "    airlines = pd.read_csv(data_path + 'SEATGURU_INFO_AIRCRAFT.csv', sep=';')['Airline_name'].unique()\n",
    "    airlines = [airline.replace('-','_') for airline in airlines] \n",
    "\n",
    "    aircraft_ref = np.unique([a_type.lower() for a_type in pd.read_csv(data_path + 'SEATGURU_INFO_AIRCRAFT.csv', sep=';')['Aircraft_Type'].tolist()])\n",
    "    aircraft_ref = np.unique([t for text in aircraft_ref  for t in text.split(' ') if hasNumbers(t)])\n",
    "    \n",
    "    dictio_airlines_aircraft_builders = get_airline_aircraft_builder_pos(IMAGE_NAMES, relevant_aircraft_builders, airlines, aircraft_ref, '_')\n",
    "    return pd.DataFrame(dictio_airlines_aircraft_builders)\n",
    "\n",
    "layout = \"LAYOUT_SEATGURU/\"\n",
    "df_layout_seatguru = main_layout_seatguru(layout)\n",
    "df_layout_seatguru[df_layout_seatguru['aircraft_ref'] == 'a350']"
   ]
  },
  {
   "cell_type": "markdown",
   "metadata": {},
   "source": [
    "# LAYOUT SEATMAESTRO"
   ]
  },
  {
   "cell_type": "code",
   "execution_count": 8,
   "metadata": {
    "scrolled": true
   },
   "outputs": [
    {
     "data": {
      "text/html": [
       "<div>\n",
       "<style scoped>\n",
       "    .dataframe tbody tr th:only-of-type {\n",
       "        vertical-align: middle;\n",
       "    }\n",
       "\n",
       "    .dataframe tbody tr th {\n",
       "        vertical-align: top;\n",
       "    }\n",
       "\n",
       "    .dataframe thead th {\n",
       "        text-align: right;\n",
       "    }\n",
       "</style>\n",
       "<table border=\"1\" class=\"dataframe\">\n",
       "  <thead>\n",
       "    <tr style=\"text-align: right;\">\n",
       "      <th></th>\n",
       "      <th>aircraft_builder</th>\n",
       "      <th>aircraft_ref</th>\n",
       "      <th>airline</th>\n",
       "      <th>image_name</th>\n",
       "      <th>position_aircraft_builder</th>\n",
       "      <th>x_size</th>\n",
       "      <th>y_size</th>\n",
       "    </tr>\n",
       "  </thead>\n",
       "  <tbody>\n",
       "    <tr>\n",
       "      <th>293</th>\n",
       "      <td>airbus</td>\n",
       "      <td>a350</td>\n",
       "      <td>vietnam-airlines</td>\n",
       "      <td>vietnam-airlines-airbus-a350-config-1.png</td>\n",
       "      <td>2</td>\n",
       "      <td>300</td>\n",
       "      <td>2193</td>\n",
       "    </tr>\n",
       "    <tr>\n",
       "      <th>573</th>\n",
       "      <td>airbus</td>\n",
       "      <td>a350</td>\n",
       "      <td>vietnam-airlines</td>\n",
       "      <td>vietnam-airlines-airbus-a350-config-2.png</td>\n",
       "      <td>2</td>\n",
       "      <td>300</td>\n",
       "      <td>2243</td>\n",
       "    </tr>\n",
       "    <tr>\n",
       "      <th>938</th>\n",
       "      <td>airbus</td>\n",
       "      <td>a350</td>\n",
       "      <td></td>\n",
       "      <td>latam-airlines-brasil-airbus-a350.png</td>\n",
       "      <td>3</td>\n",
       "      <td>300</td>\n",
       "      <td>2231</td>\n",
       "    </tr>\n",
       "  </tbody>\n",
       "</table>\n",
       "</div>"
      ],
      "text/plain": [
       "    aircraft_builder aircraft_ref           airline  \\\n",
       "293           airbus         a350  vietnam-airlines   \n",
       "573           airbus         a350  vietnam-airlines   \n",
       "938           airbus         a350                     \n",
       "\n",
       "                                    image_name  position_aircraft_builder  \\\n",
       "293  vietnam-airlines-airbus-a350-config-1.png                          2   \n",
       "573  vietnam-airlines-airbus-a350-config-2.png                          2   \n",
       "938      latam-airlines-brasil-airbus-a350.png                          3   \n",
       "\n",
       "     x_size  y_size  \n",
       "293     300    2193  \n",
       "573     300    2243  \n",
       "938     300    2231  "
      ]
     },
     "execution_count": 8,
     "metadata": {},
     "output_type": "execute_result"
    }
   ],
   "source": [
    "def main_layout_seatguru(layout):\n",
    "    images = [data_path + layout + img for img in os.listdir(data_path + layout)]\n",
    "    IMAGE_NAMES = [img for img in os.listdir(data_path + layout)]\n",
    "    \n",
    "    relevant_aircraft_builders = get_relevant_aircraft_builders(IMAGE_NAMES)\n",
    "    airlines = pd.read_csv(data_path + 'SEATGURU_INFO_AIRCRAFT.csv', sep=';')['Airline_name'].unique()\n",
    "\n",
    "    aircraft_ref = np.unique([a_type.lower() for a_type in pd.read_csv(data_path + 'SEATGURU_INFO_AIRCRAFT.csv', sep=';')['Aircraft_Type'].tolist()])\n",
    "    aircraft_ref = np.unique([t for text in aircraft_ref  for t in text.split(' ') if hasNumbers(t)])\n",
    "    \n",
    "    dictio_airlines_aircraft_builders = get_airline_aircraft_builder_pos(IMAGE_NAMES, relevant_aircraft_builders, airlines, aircraft_ref, '-')\n",
    "    return pd.DataFrame(dictio_airlines_aircraft_builders)\n",
    "\n",
    "layout = \"LAYOUT_SEATMAESTRO/\"\n",
    "df_layout_seatmaestro = main_layout_seatguru(layout)\n",
    "df_layout_seatmaestro[df_layout_seatmaestro['aircraft_ref'] == 'a350']"
   ]
  },
  {
   "cell_type": "markdown",
   "metadata": {},
   "source": [
    "# PRE-PRECOCESS (COLOUR)"
   ]
  },
  {
   "cell_type": "code",
   "execution_count": 9,
   "metadata": {},
   "outputs": [],
   "source": [
    "COLOURS = {\n",
    "    'LAYOUT_SEATGURU': {\n",
    "        'jpg':{\n",
    "            \"blue\":[139, 168, 198],\n",
    "            \"yellow\": [247, 237, 86],\n",
    "            \"exit\": [222, 111, 100],\n",
    "            \"green\": [89, 185, 71],\n",
    "            \"red_bad_seat\": [244, 121, 123],\n",
    "            \"blue_seat_crew\": [140,169,202],\n",
    "            \"baby\": [184,214,240]\n",
    "        },\n",
    "        'png':{\n",
    "            \"blue\":[41,182,209],\n",
    "            \"yellow\": [251,200,2],\n",
    "            \"exit\": [190,190,190],\n",
    "            \"green\": [41,209,135],\n",
    "            \"red_bad_seat\": [226,96,82],\n",
    "            \"blue_seat_crew\": [41,182,209],\n",
    "            \"baby\": [197,197,197]\n",
    "        }\n",
    "    },\n",
    "    'LAYOUT_SEATMAESTRO': {\n",
    "        'png': {\n",
    "            \"blue\":[81,101,181],\n",
    "            \"exit\": [1,120,175],\n",
    "            \"green\": [120,189,198],\n",
    "            \"red_bad_seat\": [207,90,150],\n",
    "            \"blue_seat_crew\": [138,165,190] \n",
    "        }\n",
    "    }\n",
    "}"
   ]
  },
  {
   "cell_type": "code",
   "execution_count": 10,
   "metadata": {},
   "outputs": [],
   "source": [
    "def colour_detection(image, colours, epsilon, rgb_len, colour_mode, default_colour):\n",
    "    # make a copy to avoid to erase the original image\n",
    "    img_copy = image.copy()\n",
    "    img_copy = to_RGB(img_copy)\n",
    "    \n",
    "    # for each line we get the pixel value\n",
    "    for i, line in enumerate(image):\n",
    "        for j, pixel in enumerate(line):\n",
    "            # Get only 3 first value corresponding to R,G,B\n",
    "            pixel = [int(val) if val >  1.0 else int(val*255) for val in image[i][j]][:rgb_len]\n",
    "            \n",
    "            # if we want to show a specific colour\n",
    "            if colour_mode:\n",
    "                # default value\n",
    "                img_copy[i][j] = default_colour\n",
    "\n",
    "                # for each colour we change the pixel value if we find the same colour\n",
    "                for colour in colours.values():\n",
    "                    if sum([1 if abs(p-b) < epsilon else 0 for p,b in zip(pixel, colour)]) == rgb_len:\n",
    "                        img_copy[i][j] = colour\n",
    "                        \n",
    "            # if we want to hide a colour by a default value\n",
    "            else:\n",
    "                \n",
    "                # default value\n",
    "                img_copy[i][j] = pixel\n",
    "                \n",
    "                # for each recognized colour, we change it by the default value\n",
    "                for colour in colours.values():\n",
    "                        if sum([1 if abs(p-b) < epsilon else 0 for p,b in zip(pixel, colour)]) == rgb_len:\n",
    "                            img_copy[i][j] = default_colour\n",
    "    return img_copy\n",
    "\n",
    "\n",
    "def colour_pipeline(image, colours, epsilon, colour_mode, default_colour, rgb_len = 3):\n",
    "    # get the image result from colour decection pre-process wanted\n",
    "    image_res = colour_detection(image, colours, epsilon, rgb_len, colour_mode, default_colour)\n",
    "        \n",
    "    return image_res       "
   ]
  },
  {
   "cell_type": "code",
   "execution_count": 12,
   "metadata": {
    "scrolled": false
   },
   "outputs": [
    {
     "data": {
      "image/png": "[encoded data removed]",
      "text/plain": [
       "<Figure size 1440x2880 with 1 Axes>"
      ]
     },
     "metadata": {
      "needs_background": "light"
     },
     "output_type": "display_data"
    }
   ],
   "source": [
    "# input_path\n",
    "layout = 'LAYOUT_SEATGURU'\n",
    "input_path = data_path + layout\n",
    "\n",
    "image_name = 'Flybe_Q400_plane432.jpg'\n",
    "\n",
    "image = plt.imread(input_path + '/' + image_name)\n",
    "    \n",
    "\n",
    "# The colours that we want to pre-process \n",
    "# If empty the colour inside COLOURS by dataset and image_extension will be selected\n",
    "colours = {\n",
    "}\n",
    "\n",
    "# default colour in order to change some pixels\n",
    "default_colour = [0, 0, 0]\n",
    "\n",
    "# if True : \n",
    "# Choose to replace pixel that corresponds to the colours inside the \"colours\" dict by it own colour. \n",
    "# The other pixel are replaced by the default value\n",
    "# if False : \n",
    "# Change the colour inside the \"colours\" dict by the default value (in order to remove them) \n",
    "colour_mode = True\n",
    "\n",
    "# value that can allow to capture more pixel by a defined colour, in order to accept some variation\n",
    "# for example the colour [255, 255, 255] and the colour [230, 250, 240] are close but not equals\n",
    "epsilon = 20\n",
    "\n",
    "# if colours is empty we use the COLOURS by default that will \n",
    "# load the right colours by (dataset, image extension type)\n",
    "if not bool(colours):\n",
    "    # get the image extension\n",
    "    image_ext = image_name.split('.')[-1]\n",
    "    \n",
    "    # get the default colour\n",
    "    colours = COLOURS[layout][image_ext]\n",
    "\n",
    "img_res = colour_pipeline(image, colours, epsilon, colour_mode, default_colour)\n",
    "\n",
    "# visualisation optional\n",
    "visualisation(img_res)\n",
    "\n",
    "# save the image optional\n",
    "# save_path = data_path + '/'\n",
    "# save_image(img_res, save_path, image_name)"
   ]
  },
  {
   "cell_type": "code",
   "execution_count": null,
   "metadata": {},
   "outputs": [],
   "source": []
  }
 ],
 "metadata": {
  "kernelspec": {
   "display_name": "Python 3",
   "language": "python",
   "name": "python3"
  },
  "language_info": {
   "codemirror_mode": {
    "name": "ipython",
    "version": 3
   },
   "file_extension": ".py",
   "mimetype": "text/x-python",
   "name": "python",
   "nbconvert_exporter": "python",
   "pygments_lexer": "ipython3",
   "version": "3.7.3"
  },
  "pycharm": {
   "stem_cell": {
    "cell_type": "raw",
    "metadata": {
     "collapsed": false
    },
    "source": []
   }
  }
 },
 "nbformat": 4,
 "nbformat_minor": 1
}
