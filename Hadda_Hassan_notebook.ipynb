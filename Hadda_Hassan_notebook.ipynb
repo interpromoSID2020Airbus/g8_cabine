{
 "cells": [
  {
   "cell_type": "code",
   "execution_count": 1,
   "metadata": {
    "pycharm": {
     "is_executing": false
    }
   },
   "outputs": [],
   "source": [
    "from pipeline import Pipeline, Process, Postprocess, Preprocess\n",
    "import numpy as np\n",
    "import pandas as pd\n",
    "import cv2 \n",
    "import pytesseract\n",
    "from matplotlib import pyplot as plt\n",
    "import os"
   ]
  },
  {
   "cell_type": "code",
   "execution_count": 2,
   "metadata": {},
   "outputs": [],
   "source": [
    "class MyPreProcess(Preprocess):\n",
    "    process_desc = \"Exemple de pre-process -> ne fait rien\"\n",
    "    def run(self, images):\n",
    "        pass\n",
    "\n",
    "\n",
    "class MyProcess(Process):\n",
    "    process_desc = \"Exemple de process -> ne fait rien\"\n",
    "    def run(self, images):\n",
    "        pass\n",
    "    \n",
    "    \n",
    "class MyPostProcess(Postprocess):\n",
    "    process_desc = \"Exemple de post-process -> ne fait rien\"\n",
    "    def run(self, images):\n",
    "        pass"
   ]
  },
  {
   "cell_type": "code",
   "execution_count": 3,
   "metadata": {
    "scrolled": true
   },
   "outputs": [
    {
     "ename": "SyntaxError",
     "evalue": "invalid token (<ipython-input-3-851d512a21e1>, line 6)",
     "output_type": "error",
     "traceback": [
      "\u001b[0;36m  File \u001b[0;32m\"<ipython-input-3-851d512a21e1>\"\u001b[0;36m, line \u001b[0;32m6\u001b[0m\n\u001b[0;31m    pipeline.add_Qantas_Airways_Boeing_717-200-125_new_plane718.svg.pngprocesses(process_array)\u001b[0m\n\u001b[0m                                                  ^\u001b[0m\n\u001b[0;31mSyntaxError\u001b[0m\u001b[0;31m:\u001b[0m invalid token\n"
     ]
    }
   ],
   "source": [
    "pipeline = Pipeline()\n",
    "process_array = np.array([MyPreProcess()\n",
    "                          ,MyProcess()\n",
    "                          ,MyPostProcess()\n",
    "                          ,MyPreProcess(verbose=0)])\n",
    "pipeline.add_Qantas_Airways_Boeing_717-200-125_new_plane718.svg.pngprocesses(process_array)\n"
   ]
  },
  {
   "cell_type": "code",
   "execution_count": 3,
   "metadata": {},
   "outputs": [
    {
     "name": "stdout",
     "output_type": "stream",
     "text": [
      "['templateTest.jpg', 'templateSeatE.jpg', 'templateBusinessSeatLeft.jpg', 'templateToilette1.jpg', 'image2.png', 'templateNormalSeatB.jpg', 'templateBusinessElectricity.jpg', 'temp_exit.jpg', 'templateNormalSeat.png', 'templateNormalSeatA.jpg', 'templateNormalSeat-SansBlanc.png', 'templateNormalSeatC.jpg', 'templateSeatF.jpg', 'templateSeatA.jpg', 'templateBusinessSeatRight.jpg', 'image3.png', 'templateToilette3.jpg', 'templateExitLeft1.jpg', 'templateNormalSeat-SansBlanc.jpg', 'templateYellowSeat.jpg', 'templateSeatB.jpg', 'templateExitRight.jpg', 'templateExitRight1.jpg', 'templateToilette.jpg', 'temp_normal_seat.jpg', 'templateSeatD.jpg', 'templateNormalSeat.jpg', 'templateExitLeft.jpg', 'templateSeatC.jpg', 'templateBar.jpg', 'templateRedSeat.jpg', 'temp_restau.jpg', 'templateNormalSeatA1.jpg']\n",
      "templateSeatE.jpg\n",
      "templateBusinessSeatLeft.jpg\n",
      "templateNormalSeatB.jpg\n",
      "templateNormalSeat.png\n",
      "templateNormalSeatA.jpg\n",
      "templateNormalSeat-SansBlanc.png\n",
      "templateNormalSeatC.jpg\n",
      "templateSeatF.jpg\n",
      "templateSeatA.jpg\n",
      "templateBusinessSeatRight.jpg\n",
      "templateNormalSeat-SansBlanc.jpg\n",
      "templateYellowSeat.jpg\n",
      "templateSeatB.jpg\n",
      "templateSeatD.jpg\n",
      "templateNormalSeat.jpg\n",
      "templateSeatC.jpg\n",
      "templateRedSeat.jpg\n",
      "templateNormalSeatA1.jpg\n"
     ]
    },
    {
     "ename": "AttributeError",
     "evalue": "'NoneType' object has no attribute 'shape'",
     "output_type": "error",
     "traceback": [
      "\u001b[0;31m---------------------------------------------------------------------------\u001b[0m",
      "\u001b[0;31mAttributeError\u001b[0m                            Traceback (most recent call last)",
      "\u001b[0;32m<ipython-input-3-ffbb4e8977c4>\u001b[0m in \u001b[0;36m<module>\u001b[0;34m\u001b[0m\n\u001b[1;32m     12\u001b[0m \u001b[0;31m#tamplates\u001b[0m\u001b[0;34m\u001b[0m\u001b[0;34m\u001b[0m\u001b[0;34m\u001b[0m\u001b[0m\n\u001b[1;32m     13\u001b[0m \u001b[0;32mfor\u001b[0m \u001b[0mtmp\u001b[0m \u001b[0;32min\u001b[0m \u001b[0mlistmp\u001b[0m\u001b[0;34m:\u001b[0m\u001b[0;34m\u001b[0m\u001b[0;34m\u001b[0m\u001b[0m\n\u001b[0;32m---> 14\u001b[0;31m     \u001b[0mw\u001b[0m\u001b[0;34m,\u001b[0m \u001b[0mh\u001b[0m\u001b[0;34m=\u001b[0m \u001b[0mcv2\u001b[0m\u001b[0;34m.\u001b[0m\u001b[0mimread\u001b[0m\u001b[0;34m(\u001b[0m\u001b[0;34m'images\\\\'\u001b[0m\u001b[0;34m+\u001b[0m\u001b[0mtmp\u001b[0m\u001b[0;34m,\u001b[0m\u001b[0;36m0\u001b[0m \u001b[0;34m)\u001b[0m\u001b[0;34m.\u001b[0m\u001b[0mshape\u001b[0m\u001b[0;34m[\u001b[0m\u001b[0;34m:\u001b[0m\u001b[0;34m:\u001b[0m\u001b[0;34m-\u001b[0m\u001b[0;36m1\u001b[0m\u001b[0;34m]\u001b[0m\u001b[0;34m\u001b[0m\u001b[0;34m\u001b[0m\u001b[0m\n\u001b[0m\u001b[1;32m     15\u001b[0m     \u001b[0;31m#trouver la tamplate sur l image avec la methode TM_CCOEFF_NORMED\u001b[0m\u001b[0;34m\u001b[0m\u001b[0;34m\u001b[0m\u001b[0;34m\u001b[0m\u001b[0m\n\u001b[1;32m     16\u001b[0m     \u001b[0mres\u001b[0m \u001b[0;34m=\u001b[0m \u001b[0mcv2\u001b[0m\u001b[0;34m.\u001b[0m\u001b[0mmatchTemplate\u001b[0m\u001b[0;34m(\u001b[0m\u001b[0mimg_gray\u001b[0m\u001b[0;34m,\u001b[0m\u001b[0mcv2\u001b[0m\u001b[0;34m.\u001b[0m\u001b[0mimread\u001b[0m\u001b[0;34m(\u001b[0m\u001b[0;34m'images\\\\'\u001b[0m\u001b[0;34m+\u001b[0m\u001b[0mtmp\u001b[0m\u001b[0;34m,\u001b[0m\u001b[0;36m0\u001b[0m \u001b[0;34m)\u001b[0m\u001b[0;34m,\u001b[0m\u001b[0mcv2\u001b[0m\u001b[0;34m.\u001b[0m\u001b[0mTM_CCOEFF_NORMED\u001b[0m\u001b[0;34m)\u001b[0m\u001b[0;34m\u001b[0m\u001b[0;34m\u001b[0m\u001b[0m\n",
      "\u001b[0;31mAttributeError\u001b[0m: 'NoneType' object has no attribute 'shape'"
     ]
    }
   ],
   "source": [
    "liste1 = os.listdir('/home/hassan/ProjetInterpromo2020g8/images')\n",
    "listmp=[]\n",
    "for fichier in liste1:\n",
    "    if 'Seat'in fichier:\n",
    "        listmp.append(fichier)\n",
    "#image\n",
    "img_rgb = cv2.imread('../LAYOUT SEATGURU/China_Southern_Boeing_737-800A_plane294.jpg',1) \n",
    "img_gray = cv2.imread('../LAYOUT SEATGURU/China_Southern_Boeing_737-800A_plane294.jpg',0) \n",
    "#tamplates\n",
    "for tmp in listmp:\n",
    "    w, h= cv2.imread('images\\\\'+tmp,0 ).shape[::-1]\n",
    "    #trouver la tamplate sur l image avec la methode TM_CCOEFF_NORMED\n",
    "    res = cv2.matchTemplate(img_gray,cv2.imread('images\\\\'+tmp,0 ),cv2.TM_CCOEFF_NORMED) \n",
    "    threshold = 0.8\n",
    "    #Localiser la tamplate\n",
    "    position = np.where( res >= threshold) \n",
    "    #faoire des rectangle sur les tamplate sur l'image \n",
    "    for pt in zip(*position[::]): \n",
    "        cv2.rectangle(img_rgb, pt, (pt[0] + w, pt[1] + h), (0,255,255), 2) \n",
    "    #montrer l'image avec detection de tamplate \n",
    "cv2.imshow('seats detected',img_rgb) \n",
    "cv2.waitKey()"
   ]
  },
  {
   "cell_type": "code",
   "execution_count": null,
   "metadata": {},
   "outputs": [],
   "source": [
    "#get text or caracter from image\n",
    "#img_gray = cv2.threshold(img_gray, 10, 255,cv2.THRESH_BINARY)\n",
    "#img = img_rgb.fromarray(img_gray )\n",
    "#txt = pytesseract.img_rgb_to_string(img)\n",
    "#print(txt)"
   ]
  },
  {
   "cell_type": "code",
   "execution_count": 6,
   "metadata": {},
   "outputs": [
    {
     "name": "stdout",
     "output_type": "stream",
     "text": [
      "140, 334\n",
      "190, 334\n",
      "217, 334\n",
      "268, 334\n",
      "269, 334\n",
      "191, 367\n",
      "218, 367\n",
      "250, 368\n",
      "190, 399\n",
      "140, 401\n",
      "191, 431\n",
      "218, 431\n",
      "149, 435\n",
      "250, 435\n",
      "277, 435\n",
      "[[ nan 334.]\n",
      " [ nan 334.]\n",
      " [ nan 334.]\n",
      " [ nan 334.]\n",
      " [ nan 334.]\n",
      " [ nan 367.]\n",
      " [ nan 367.]\n",
      " [ nan 368.]\n",
      " [ nan 399.]\n",
      " [ nan 401.]\n",
      " [ nan 431.]\n",
      " [ nan 431.]\n",
      " [ nan 435.]\n",
      " [ nan 435.]\n",
      " [ nan 435.]]\n"
     ]
    }
   ],
   "source": [
    "t=open(\"/home/hassan/Téléchargements/coord-Aer_Lingus_Airbus_A330-200_plane4-Prise.txt\",\"r\")\n",
    "k=t.read()\n",
    "print(k)\n",
    "#\n",
    "arr = np.genfromtxt('/home/hassan/Téléchargements/coord-Aer_Lingus_Airbus_A330-200_plane4-Prise.txt')\n",
    "np.array(np.split(arr, arr.size/4))\n",
    "print(arr)"
   ]
  },
  {
   "cell_type": "code",
   "execution_count": null,
   "metadata": {},
   "outputs": [],
   "source": []
  },
  {
   "cell_type": "code",
   "execution_count": null,
   "metadata": {},
   "outputs": [],
   "source": []
  }
 ],
 "metadata": {
  "kernelspec": {
   "display_name": "Python 3",
   "language": "python",
   "name": "python3"
  },
  "language_info": {
   "codemirror_mode": {
    "name": "ipython",
    "version": 3
   },
   "file_extension": ".py",
   "mimetype": "text/x-python",
   "name": "python",
   "nbconvert_exporter": "python",
   "pygments_lexer": "ipython3",
   "version": "3.7.3"
  },
  "pycharm": {
   "stem_cell": {
    "cell_type": "raw",
    "metadata": {
     "collapsed": false
    },
    "source": []
   }
  }
 },
 "nbformat": 4,
 "nbformat_minor": 1
}
