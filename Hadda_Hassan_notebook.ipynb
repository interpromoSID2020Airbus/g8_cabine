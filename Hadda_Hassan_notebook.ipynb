{
 "cells": [
  {
   "cell_type": "code",
   "execution_count": 41,
   "metadata": {
    "pycharm": {
     "is_executing": false
    }
   },
   "outputs": [],
   "source": [
    "from pipeline import Pipeline, Process, Postprocess, Preprocess\n",
    "import numpy as np\n",
    "import pandas as pd\n",
    "import cv2 \n",
    "from matplotlib import pyplot as plt\n",
    "import os\n",
    "from sklearn.cluster import KMeans\n",
    "from sklearn.metrics import silhouette_score\n",
    "from sklearn import neighbors, datasets"
   ]
  },
  {
   "cell_type": "code",
   "execution_count": 8,
   "metadata": {},
   "outputs": [],
   "source": [
    "class MyPreProcess(Preprocess):\n",
    "    process_desc = \"Exemple de pre-process -> ne fait rien\"\n",
    "    def run(self, images):\n",
    "        pass\n",
    "\n",
    "\n",
    "class MyProcess(Process):\n",
    "    process_desc = \"Exemple de process -> ne fait rien\"\n",
    "    def run(self, images):\n",
    "        pass\n",
    "    \n",
    "    \n",
    "class MyPostProcess(Postprocess):\n",
    "    process_desc = \"Exemple de post-process -> ne fait rien\"\n",
    "    def run(self, images):\n",
    "        pass"
   ]
  },
  {
   "cell_type": "code",
   "execution_count": 3,
   "metadata": {
    "scrolled": true
   },
   "outputs": [
    {
     "ename": "SyntaxError",
     "evalue": "invalid token (<ipython-input-3-851d512a21e1>, line 6)",
     "output_type": "error",
     "traceback": [
      "\u001b[0;36m  File \u001b[0;32m\"<ipython-input-3-851d512a21e1>\"\u001b[0;36m, line \u001b[0;32m6\u001b[0m\n\u001b[0;31m    pipeline.add_Qantas_Airways_Boeing_717-200-125_new_plane718.svg.pngprocesses(process_array)\u001b[0m\n\u001b[0m                                                  ^\u001b[0m\n\u001b[0;31mSyntaxError\u001b[0m\u001b[0;31m:\u001b[0m invalid token\n"
     ]
    }
   ],
   "source": [
    "pipeline = Pipeline()\n",
    "process_array = np.array([MyPreProcess()\n",
    "                          ,MyProcess()\n",
    "                          ,MyPostProcess()\n",
    "                          ,MyPreProcess(verbose=0)])\n",
    "pipeline.add_Qantas_Airways_Boeing_717-200-125_new_plane718.svg.pngprocesses(process_array)\n"
   ]
  },
  {
   "cell_type": "code",
   "execution_count": 40,
   "metadata": {},
   "outputs": [
    {
     "ename": "AttributeError",
     "evalue": "'NoneType' object has no attribute 'shape'",
     "output_type": "error",
     "traceback": [
      "\u001b[0;31m---------------------------------------------------------------------------\u001b[0m",
      "\u001b[0;31mAttributeError\u001b[0m                            Traceback (most recent call last)",
      "\u001b[0;32m<ipython-input-40-d5887cd1e5b4>\u001b[0m in \u001b[0;36m<module>\u001b[0;34m\u001b[0m\n\u001b[1;32m      9\u001b[0m \u001b[0;31m# Tamplates\u001b[0m\u001b[0;34m\u001b[0m\u001b[0;34m\u001b[0m\u001b[0;34m\u001b[0m\u001b[0m\n\u001b[1;32m     10\u001b[0m \u001b[0;32mfor\u001b[0m \u001b[0mtmp\u001b[0m \u001b[0;32min\u001b[0m \u001b[0mlistmp\u001b[0m\u001b[0;34m:\u001b[0m\u001b[0;34m\u001b[0m\u001b[0;34m\u001b[0m\u001b[0m\n\u001b[0;32m---> 11\u001b[0;31m     \u001b[0mw\u001b[0m\u001b[0;34m,\u001b[0m \u001b[0mh\u001b[0m \u001b[0;34m=\u001b[0m \u001b[0mcv2\u001b[0m\u001b[0;34m.\u001b[0m\u001b[0mimread\u001b[0m\u001b[0;34m(\u001b[0m\u001b[0;34m'images\\\\'\u001b[0m\u001b[0;34m+\u001b[0m\u001b[0mtmp\u001b[0m\u001b[0;34m,\u001b[0m\u001b[0;36m0\u001b[0m \u001b[0;34m)\u001b[0m\u001b[0;34m.\u001b[0m\u001b[0mshape\u001b[0m\u001b[0;34m[\u001b[0m\u001b[0;34m:\u001b[0m\u001b[0;34m:\u001b[0m\u001b[0;34m-\u001b[0m\u001b[0;36m1\u001b[0m\u001b[0;34m]\u001b[0m\u001b[0;34m\u001b[0m\u001b[0;34m\u001b[0m\u001b[0m\n\u001b[0m\u001b[1;32m     12\u001b[0m     \u001b[0;31m# Found the tampales using methode TM_CCOEFF_NORMED\u001b[0m\u001b[0;34m\u001b[0m\u001b[0;34m\u001b[0m\u001b[0;34m\u001b[0m\u001b[0m\n\u001b[1;32m     13\u001b[0m     \u001b[0mres\u001b[0m \u001b[0;34m=\u001b[0m \u001b[0mcv2\u001b[0m\u001b[0;34m.\u001b[0m\u001b[0mmatchTemplate\u001b[0m\u001b[0;34m(\u001b[0m\u001b[0mimg_gray\u001b[0m\u001b[0;34m,\u001b[0m\u001b[0mcv2\u001b[0m\u001b[0;34m.\u001b[0m\u001b[0mimread\u001b[0m\u001b[0;34m(\u001b[0m\u001b[0;34m'images\\\\'\u001b[0m\u001b[0;34m+\u001b[0m\u001b[0mtmp\u001b[0m\u001b[0;34m,\u001b[0m\u001b[0;36m0\u001b[0m \u001b[0;34m)\u001b[0m\u001b[0;34m,\u001b[0m\u001b[0mcv2\u001b[0m\u001b[0;34m.\u001b[0m\u001b[0mTM_CCOEFF_NORMED\u001b[0m\u001b[0;34m)\u001b[0m\u001b[0;34m\u001b[0m\u001b[0;34m\u001b[0m\u001b[0m\n",
      "\u001b[0;31mAttributeError\u001b[0m: 'NoneType' object has no attribute 'shape'"
     ]
    }
   ],
   "source": [
    "liste1 = os.listdir('/home/hassan/ProjetInterpromo2020g8/images')\n",
    "listmp = []\n",
    "for fichier in liste1:\n",
    "    if 'Seat'in fichier:\n",
    "        listmp.append(fichier)\n",
    "# Image\n",
    "img_rgb = cv2.imread('../LAYOUT SEATGURU/China_Southern_Boeing_737-800A_plane294.jpg',1) \n",
    "img_gray = cv2.imread('../LAYOUT SEATGURU/China_Southern_Boeing_737-800A_plane294.jpg',0) \n",
    "# Tamplates\n",
    "for tmp in listmp:\n",
    "    w, h = cv2.imread('images\\\\'+tmp,0 ).shape[::-1]\n",
    "    # Found the tampales using methode TM_CCOEFF_NORMED\n",
    "    res = cv2.matchTemplate(img_gray,cv2.imread('images\\\\'+tmp,0 ),cv2.TM_CCOEFF_NORMED) \n",
    "    THRESHOLD : float = 0.8\n",
    "    # Detected the tamplate\n",
    "    position = np.where( res >= THRESHOLD) \n",
    "    #faoire des rectangle sur les tamplate sur l'image \n",
    "    for pt in zip(*position[::]): \n",
    "        cv2.rectangle(img_rgb, pt, (pt[0] + w, pt[1] + h), (0,255,255), 2) \n",
    "    #montrer l'image avec detection de tamplate \n",
    "cv2.imshow('seats detected', img_rgb) \n",
    "cv2.waitKey()"
   ]
  },
  {
   "cell_type": "code",
   "execution_count": 21,
   "metadata": {},
   "outputs": [
    {
     "name": "stdout",
     "output_type": "stream",
     "text": [
      "[133, 134, 176, 202, 203, 261, 262, 202, 253, 254, 202, 253, 254, 176, 203, 176, 202, 203, 262, 133, 134, 176, 261, 262, 202, 202, 253, 254, 253, 254, 176, 203, 176, 203, 133, 134, 261, 262, 185, 244, 134, 135, 184, 211, 262, 263, 134, 135, 184, 211, 262, 263, 185, 185, 244, 185, 244, 184, 211, 184, 185, 211, 134, 135, 262, 263, 134, 135, 262, 263, 185, 185, 244]\n",
      "73\n",
      "[286, 286, 286, 286, 286, 286, 286, 319, 319, 319, 320, 320, 320, 351, 351, 352, 352, 352, 352, 353, 353, 353, 353, 353, 384, 385, 386, 386, 387, 387, 416, 416, 417, 417, 420, 420, 420, 420, 286, 286, 319, 319, 319, 319, 319, 319, 320, 320, 320, 320, 320, 320, 351, 352, 352, 353, 353, 384, 384, 385, 385, 385, 386, 386, 386, 386, 387, 387, 387, 387, 416, 417, 420]\n",
      "73\n"
     ]
    },
    {
     "data": {
      "image/png": "[encoded data removed]",
      "text/plain": [
       "<Figure size 432x288 with 1 Axes>"
      ]
     },
     "metadata": {
      "needs_background": "light"
     },
     "output_type": "display_data"
    }
   ],
   "source": [
    "f = open('/home/hassan/Téléchargements/coord-Aer_Lingus_Airbus_A330-200_plane4-BusinessSeats.txt')\n",
    "df = pd.DataFrame([line.replace('\\n','').split(',') for line in f.readlines()])\n",
    "df\n",
    "c1=[]\n",
    "c2=[]\n",
    "for el in df[0].tolist():\n",
    "    c1.append(int(el)) \n",
    "for el in df[1].tolist():\n",
    "    c2.append(int(el)) \n",
    "print(c1)\n",
    "print(len(c1))\n",
    "print(c2)\n",
    "print(len(c2))\n",
    "n_clusters = 3\n",
    "X = np.array(list(zip(c1, c2)))\n",
    "kmeans = KMeans(n_clusters, random_state = 0).fit(X)\n",
    "k_means_labels = kmeans.labels_\n",
    "k_means_cluster_centers = kmeans.cluster_centers_\n",
    "k_means_labels_unique = np.unique(k_means_labels)\n",
    "\n",
    "# Plot resultat\n",
    "colors = ['red', 'blue','green','yellow','cyan','grey']\n",
    "plt.figure()\n",
    "for k, col in zip(range(n_clusters), colors):\n",
    "    mon_element = k_means_labels == k\n",
    "    cluster_center = k_means_cluster_centers[k]\n",
    "    plt.plot(X[mon_element, 0], X[mon_element, 1], 's',\n",
    "            markerfacecolor=col, markersize=8)\n",
    "    plt.plot(cluster_center[0], cluster_center[1], 'o', markerfacecolor=col,\n",
    "            markeredgecolor='k', markersize=10)\n",
    "plt.title('seats distribution in three ')    \n",
    "plt.grid(True)\n",
    "plt.show()"
   ]
  },
  {
   "cell_type": "markdown",
   "metadata": {},
   "source": [
    "###K Nearest Neighbors Classification"
   ]
  },
  {
   "cell_type": "code",
   "execution_count": 39,
   "metadata": {},
   "outputs": [
    {
     "data": {
      "image/png": "[encoded data removed]",
      "text/plain": [
       "<Figure size 432x288 with 1 Axes>"
      ]
     },
     "metadata": {
      "needs_background": "light"
     },
     "output_type": "display_data"
    }
   ],
   "source": [
    "plt.scatter(c1,c2,s=100)\n",
    "X = np.array(list(zip(c1, c2)))\n",
    "a = X[:,np.newaxis,:]\n",
    "b = X[np.newaxis,:,:]\n",
    "#print(a)\n",
    "#print(b)\n",
    "dif = abs(a-b)\n",
    "#print(dif)\n",
    "dif.shape\n",
    "sq_dif = dif**2\n",
    "sq_dif.shape\n",
    "dis=sq_dif.sum(-1)\n",
    "dis.shape\n",
    "#print(dis)\n",
    "k=6\n",
    "nearest_seat=np.argpartition(dis,k,axis=1)\n",
    "nearest_seat\n",
    "for i in range(X.shape[0]):\n",
    "    for j in nearest_seat[i,:k+1]:\n",
    "        plt.plot(*zip(X[j],X[i]), color='orange')\n"
   ]
  },
  {
   "cell_type": "code",
   "execution_count": null,
   "metadata": {},
   "outputs": [],
   "source": []
  }
 ],
 "metadata": {
  "kernelspec": {
   "display_name": "Python 3",
   "language": "python",
   "name": "python3"
  },
  "language_info": {
   "codemirror_mode": {
    "name": "ipython",
    "version": 3
   },
   "file_extension": ".py",
   "mimetype": "text/x-python",
   "name": "python",
   "nbconvert_exporter": "python",
   "pygments_lexer": "ipython3",
   "version": "3.7.3"
  },
  "pycharm": {
   "stem_cell": {
    "cell_type": "raw",
    "metadata": {
     "collapsed": false
    },
    "source": []
   }
  }
 },
 "nbformat": 4,
 "nbformat_minor": 1
}
