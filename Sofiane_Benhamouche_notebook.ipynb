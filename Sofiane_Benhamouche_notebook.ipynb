{
 "cells": [
  {
   "cell_type": "code",
   "execution_count": 56,
   "metadata": {},
   "outputs": [
    {
     "data": {
      "text/plain": [
       "'C:\\\\Users\\\\Inspiron\\\\Desktop\\\\projet_inter\\\\ProjetInterpromo2020G8'"
      ]
     },
     "execution_count": 56,
     "metadata": {},
     "output_type": "execute_result"
    }
   ],
   "source": [
    "import os\n",
    "os.getcwd()\n"
   ]
  },
  {
   "cell_type": "code",
   "execution_count": 1,
   "metadata": {
    "pycharm": {
     "is_executing": false
    }
   },
   "outputs": [],
   "source": [
    "from pipeline import Pipeline, Process, Postprocess, Preprocess\n",
    "import numpy as np\n",
    "import pandas as pd\n",
    "import matplotlib.pyplot as plt"
   ]
  },
  {
   "cell_type": "code",
   "execution_count": 2,
   "metadata": {},
   "outputs": [],
   "source": [
    "class MyPreProcess(Preprocess):\n",
    "    process_desc = \"Exemple de pre-process -> ne fait rien\"\n",
    "    def run(self, images):\n",
    "        pass\n",
    "\n",
    "\n",
    "class MyProcess(Process):\n",
    "    process_desc = \"Exemple de process -> ne fait rien\"\n",
    "    def run(self, images):\n",
    "        pass\n",
    "    \n",
    "    \n",
    "class MyPostProcess(Postprocess):\n",
    "    process_desc = \"Exemple de post-process -> ne fait rien\"\n",
    "    def run(self, images):\n",
    "        pass"
   ]
  },
  {
   "cell_type": "code",
   "execution_count": 3,
   "metadata": {},
   "outputs": [
    {
     "name": "stdout",
     "output_type": "stream",
     "text": [
      "Preprocess :  Exemple de pre-process -> ne fait rien\n",
      "Process :  Exemple de process -> ne fait rien\n",
      "Postprocess :  Exemple de post-process -> ne fait rien\n",
      "Exemple de pre-process -> ne fait rien a été ajouté.\n",
      "Exemple de process -> ne fait rien a été ajouté.\n",
      "Exemple de post-process -> ne fait rien a été ajouté.\n",
      "Exemple de pre-process -> ne fait rien a été ajouté.\n"
     ]
    }
   ],
   "source": [
    "pipeline = Pipeline()\n",
    "process_array = np.array([MyPreProcess()\n",
    "                          ,MyProcess()\n",
    "                          ,MyPostProcess()\n",
    "                          ,MyPreProcess(verbose=0)])\n",
    "pipeline.add_processes(process_array)\n"
   ]
  },
  {
   "cell_type": "code",
   "execution_count": 4,
   "metadata": {},
   "outputs": [
    {
     "name": "stdout",
     "output_type": "stream",
     "text": [
      "Exemple de pre-process -> ne fait rien\n",
      "Exemple de pre-process -> ne fait rien\n",
      "Exemple de process -> ne fait rien\n",
      "Exemple de post-process -> ne fait rien\n"
     ]
    }
   ],
   "source": [
    "pipeline.print_process()"
   ]
  },
  {
   "cell_type": "code",
   "execution_count": 5,
   "metadata": {},
   "outputs": [],
   "source": [
    "import matplotlib.pyplot as plt\n",
    "import cv2\n",
    "from PIL import Image"
   ]
  },
  {
   "cell_type": "code",
   "execution_count": 6,
   "metadata": {},
   "outputs": [
    {
     "data": {
      "text/plain": [
       "<matplotlib.image.AxesImage at 0x1df52d709e8>"
      ]
     },
     "execution_count": 6,
     "metadata": {},
     "output_type": "execute_result"
    },
    {
     "data": {
      "image/png": "[encoded data removed]",
      "text/plain": [
       "<Figure size 432x288 with 1 Axes>"
      ]
     },
     "metadata": {
      "needs_background": "light"
     },
     "output_type": "display_data"
    }
   ],
   "source": [
    "img = plt.imread('images/British_Airways_Airbus_A319_C_plane331.svg.png')\n",
    "plt.imshow(img)"
   ]
  },
  {
   "cell_type": "code",
   "execution_count": 7,
   "metadata": {},
   "outputs": [
    {
     "data": {
      "text/plain": [
       "(0, 0, 0)"
      ]
     },
     "execution_count": 7,
     "metadata": {},
     "output_type": "execute_result"
    }
   ],
   "source": [
    "# recover the rgb of a given pixel\n",
    "img = Image.open('images/British_Airways_Airbus_A319_C_plane331.svg.png')\n",
    "coordonee = x, y = 10, 100\n",
    "img.getpixel(coordonee)[:3]"
   ]
  },
  {
   "cell_type": "code",
   "execution_count": 8,
   "metadata": {},
   "outputs": [
    {
     "name": "stdout",
     "output_type": "stream",
     "text": [
      "a=  425 b=  1310\n"
     ]
    }
   ],
   "source": [
    "# recover the pixel size of an image\n",
    "#img.size\n",
    "(a,b)=img.size\n",
    "print(\"a= \",a,\"b= \",b)"
   ]
  },
  {
   "cell_type": "code",
   "execution_count": 19,
   "metadata": {},
   "outputs": [
    {
     "data": {
      "text/plain": [
       "(0, 0, 0)"
      ]
     },
     "execution_count": 19,
     "metadata": {},
     "output_type": "execute_result"
    }
   ],
   "source": [
    "# input manual version\n",
    "def get_rgb(image, x, y):\n",
    "    return image.getpixel((x,y))[:3]\n",
    "\n",
    "def get_shape(image):\n",
    "    return image.size\n",
    "\n",
    "i = Image.open('images/British_Airways_Airbus_A319_C_plane331.svg.png')\n",
    "x, y = 10, 105\n",
    "rgb_code = get_rgb(i, x, y)\n",
    "rgb_code"
   ]
  },
  {
   "cell_type": "markdown",
   "metadata": {},
   "source": [
    "## \n",
    "Test des pixels suivant avec boucle"
   ]
  },
  {
   "cell_type": "code",
   "execution_count": 20,
   "metadata": {
    "scrolled": true
   },
   "outputs": [
    {
     "data": {
      "text/plain": [
       "[[18, 103, (0, 0, 0)],\n",
       " [18, 104, (0, 0, 0)],\n",
       " [18, 105, (0, 0, 0)],\n",
       " [19, 103, (0, 0, 0)],\n",
       " [19, 104, (0, 0, 0)],\n",
       " [19, 105, (0, 0, 0)],\n",
       " [20, 103, (0, 0, 0)],\n",
       " [20, 104, (0, 0, 0)],\n",
       " [20, 105, (0, 0, 0)]]"
      ]
     },
     "execution_count": 20,
     "metadata": {},
     "output_type": "execute_result"
    }
   ],
   "source": [
    "# recover neighbors of a given pixel its coordinates with a neighbor step-distance\n",
    "def x_y_neighboors(image, x, y, step=2):\n",
    "    rgb_neighboors_val = []\n",
    "    (a, b) = get_shape(image)\n",
    "    for x_ in range (x-step, x-1+step):\n",
    "        if x_ >= 0 and x_ < a:\n",
    "            for y_ in range (y-step, y-1+step):\n",
    "                if  y_>= 0 and y_ < b:\n",
    "                    rgb_neighboors_val.append([x_, y_, get_rgb(image, x_, y_)])\n",
    "                \n",
    "    return rgb_neighboors_val\n",
    "x, y = 20,105\n",
    "x_y_neighboors(img, x, y, step=2)\n",
    "###########################\n"
   ]
  },
  {
   "cell_type": "code",
   "execution_count": null,
   "metadata": {},
   "outputs": [],
   "source": []
  },
  {
   "cell_type": "code",
   "execution_count": 11,
   "metadata": {},
   "outputs": [
    {
     "data": {
      "text/plain": [
       "(0.9998536085492608, (0, 0, 0))"
      ]
     },
     "execution_count": 11,
     "metadata": {},
     "output_type": "execute_result"
    }
   ],
   "source": [
    "def x_y_neighboors(image, x, y, step=2):\n",
    "    rgb_neighboors_val = []\n",
    "    (a, b) = get_shape(image)\n",
    "    for x_ in range (x-step, x-1+step):\n",
    "        if x_ >= 0 and x_ < a:\n",
    "            for y_ in range (y-step, y-1+step):\n",
    "                if  y_>= 0 and y_ < b:\n",
    "                    rgb_neighboors_val.append([x_, y_, get_rgb(image, x_, y_)])\n",
    "                \n",
    "    return rgb_neighboors_val\n",
    "\n",
    "def count_nb_same_pixel(image, x, y, rgb_neighboors):\n",
    "    pixel_ref = get_rgb(image, x, y)\n",
    "    count = -1\n",
    "    for rgb_n in rgb_neighboors:\n",
    "        if rgb_n[2] == pixel_ref:\n",
    "            count +=  1\n",
    "        \n",
    "    return count / len(rgb_neighboors), pixel_ref\n",
    "    \n",
    "\n",
    "x, y = 20,105\n",
    "rgb_neighboors = x_y_neighboors(img, x, y, step=50)\n",
    "count_nb_same_pixel(img, x, y, rgb_neighboors)"
   ]
  },
  {
   "cell_type": "code",
   "execution_count": null,
   "metadata": {},
   "outputs": [],
   "source": []
  },
  {
   "cell_type": "code",
   "execution_count": 1,
   "metadata": {},
   "outputs": [
    {
     "ename": "NameError",
     "evalue": "name 'img' is not defined",
     "output_type": "error",
     "traceback": [
      "\u001b[1;31m---------------------------------------------------------------------------\u001b[0m",
      "\u001b[1;31mNameError\u001b[0m                                 Traceback (most recent call last)",
      "\u001b[1;32m<ipython-input-1-25d82fa13e97>\u001b[0m in \u001b[0;36m<module>\u001b[1;34m\u001b[0m\n\u001b[0;32m     26\u001b[0m \u001b[1;33m\u001b[0m\u001b[0m\n\u001b[0;32m     27\u001b[0m \u001b[1;33m\u001b[0m\u001b[0m\n\u001b[1;32m---> 28\u001b[1;33m \u001b[0mrgb_neighboors\u001b[0m \u001b[1;33m=\u001b[0m \u001b[0mx_y_neighboors\u001b[0m\u001b[1;33m(\u001b[0m\u001b[0mimg\u001b[0m\u001b[1;33m,\u001b[0m \u001b[0mx\u001b[0m\u001b[1;33m,\u001b[0m \u001b[0my\u001b[0m\u001b[1;33m,\u001b[0m \u001b[0mstep\u001b[0m\u001b[1;33m=\u001b[0m\u001b[1;36m50\u001b[0m\u001b[1;33m)\u001b[0m\u001b[1;33m\u001b[0m\u001b[1;33m\u001b[0m\u001b[0m\n\u001b[0m\u001b[0;32m     29\u001b[0m \u001b[0mcount_nb_same_pixel\u001b[0m\u001b[1;33m(\u001b[0m\u001b[0mimg\u001b[0m\u001b[1;33m,\u001b[0m \u001b[0mx\u001b[0m\u001b[1;33m,\u001b[0m \u001b[0my\u001b[0m\u001b[1;33m,\u001b[0m \u001b[0mrgb_neighboors\u001b[0m\u001b[1;33m)\u001b[0m\u001b[1;33m\u001b[0m\u001b[1;33m\u001b[0m\u001b[0m\n",
      "\u001b[1;31mNameError\u001b[0m: name 'img' is not defined"
     ]
    }
   ],
   "source": [
    "# code brouillon\n",
    "# recupere neighbors for each pixel\n",
    "def x_y_neighboors(image, x, y, step=2):\n",
    "    rgb_neighboors_val = []\n",
    "    (a, b) = get_shape(image)\n",
    "    \n",
    "    x_=0\n",
    "    y_=0\n",
    "    for x_ in range (a-1):\n",
    "        for y_ in range (b-1):\n",
    "            for x_ in range (x-step, x-1+step):\n",
    "                if x_ >= 0 and x_ < a:\n",
    "                    for y_ in range (y-step, y-1+step):\n",
    "                        if  y_>= 0 and y_ < b:\n",
    "                            rgb_neighboors_val.append([x_, y_, get_rgb(image, x_, y_)])\n",
    "\n",
    "    return rgb_neighboors_val\n",
    "\n",
    "def count_nb_same_pixel(image, x, y, rgb_neighboors):\n",
    "    pixel_ref = get_rgb(image, x, y)\n",
    "    count = -1\n",
    "    for rgb_n in rgb_neighboors:\n",
    "        if rgb_n[2] == pixel_ref:\n",
    "            count +=  1\n",
    "        \n",
    "    return count / len(rgb_neighboors), pixel_ref\n",
    "    \n",
    "\n",
    "rgb_neighboors = x_y_neighboors(img, x, y, step=50)\n",
    "count_nb_same_pixel(img, x, y, rgb_neighboors)"
   ]
  },
  {
   "cell_type": "code",
   "execution_count": null,
   "metadata": {},
   "outputs": [],
   "source": []
  },
  {
   "cell_type": "code",
   "execution_count": null,
   "metadata": {},
   "outputs": [],
   "source": []
  }
 ],
 "metadata": {
  "kernelspec": {
   "display_name": "Python 3",
   "language": "python",
   "name": "python3"
  },
  "language_info": {
   "codemirror_mode": {
    "name": "ipython",
    "version": 3
   },
   "file_extension": ".py",
   "mimetype": "text/x-python",
   "name": "python",
   "nbconvert_exporter": "python",
   "pygments_lexer": "ipython3",
   "version": "3.7.3"
  },
  "pycharm": {
   "stem_cell": {
    "cell_type": "raw",
    "metadata": {
     "collapsed": false
    },
    "source": []
   }
  }
 },
 "nbformat": 4,
 "nbformat_minor": 1
}
